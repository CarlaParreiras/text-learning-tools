{
 "cells": [
  {
   "cell_type": "markdown",
   "metadata": {},
   "source": [
    "### basic_analysis\n"
   ]
  },
  {
   "cell_type": "code",
   "execution_count": 16,
   "metadata": {
    "collapsed": false
   },
   "outputs": [],
   "source": [
    "import os\n",
    "from IPython.display import clear_output"
   ]
  },
  {
   "cell_type": "code",
   "execution_count": 18,
   "metadata": {
    "collapsed": false
   },
   "outputs": [],
   "source": [
    "'''''''''''''''''''''''''''''''''''''''''''''''''''''''''''''''''''''''''''''\n",
    "define pastas de trabalho\n",
    "'''''''''''''''''''''''''''''''''''''''''''''''''''''''''''''''''''''''''''''\n",
    "path = 'C:/Users/marcelo.ribeiro/Documents/textfiles-corrected-renamed2/' #path_output\n",
    "\n",
    "onlyfiles = [f for f in os.listdir(path) if os.path.isfile(os.path.join(path,f)) and not f.startswith('.')]\n",
    "onlyfiles.sort()"
   ]
  },
  {
   "cell_type": "code",
   "execution_count": 19,
   "metadata": {
    "collapsed": false
   },
   "outputs": [
    {
     "data": {
      "text/plain": [
       "['AAS_mre_ag_1973.11.20_doc_I-100_pag1_img34229.txt',\n",
       " 'AAS_mre_ag_1973.11.20_doc_I-101_pag1_img34230.txt',\n",
       " 'AAS_mre_ag_1973.11.20_doc_I-102_pag1_img34231.txt',\n",
       " 'AAS_mre_ag_1973.11.20_doc_I-103_pag1_img34232.txt']"
      ]
     },
     "execution_count": 19,
     "metadata": {},
     "output_type": "execute_result"
    }
   ],
   "source": [
    "onlyfiles[:4]"
   ]
  },
  {
   "cell_type": "markdown",
   "metadata": {},
   "source": [
    "### count number of words (including erros) on entire corpus"
   ]
  },
  {
   "cell_type": "code",
   "execution_count": 24,
   "metadata": {
    "collapsed": false
   },
   "outputs": [
    {
     "name": "stdout",
     "output_type": "stream",
     "text": [
      "100 % done\n"
     ]
    }
   ],
   "source": [
    "corpus_counter = []\n",
    "percentil = int(len(onlyfiles)/100)\n",
    "for txt in onlyfiles:\n",
    "    with open(os.path.join(path,txt), 'r', encoding='utf-8') as f:\n",
    "        count = onlyfiles.index(txt)\n",
    "        if count % (percentil-1) == 0: clear_output()\n",
    "        if count % percentil == 0: print(int(count/percentil),'% done')\n",
    "        text = f.read()\n",
    "        text = text.lower()\n",
    "        text = text.split()\n",
    "        text = [t.strip(string.punctuation) for t in text]\n",
    "        for word in text: \n",
    "            if len(word) > 0: corpus_counter.append(word)"
   ]
  },
  {
   "cell_type": "code",
   "execution_count": 25,
   "metadata": {
    "collapsed": false
   },
   "outputs": [
    {
     "data": {
      "text/plain": [
       "14237952"
      ]
     },
     "execution_count": 25,
     "metadata": {},
     "output_type": "execute_result"
    }
   ],
   "source": [
    "len(corpus_counter)"
   ]
  },
  {
   "cell_type": "code",
   "execution_count": null,
   "metadata": {
    "collapsed": true
   },
   "outputs": [],
   "source": []
  }
 ],
 "metadata": {
  "anaconda-cloud": {},
  "kernelspec": {
   "display_name": "Python [default]",
   "language": "python",
   "name": "python3"
  },
  "language_info": {
   "codemirror_mode": {
    "name": "ipython",
    "version": 3
   },
   "file_extension": ".py",
   "mimetype": "text/x-python",
   "name": "python",
   "nbconvert_exporter": "python",
   "pygments_lexer": "ipython3",
   "version": "3.5.2"
  }
 },
 "nbformat": 4,
 "nbformat_minor": 0
}
