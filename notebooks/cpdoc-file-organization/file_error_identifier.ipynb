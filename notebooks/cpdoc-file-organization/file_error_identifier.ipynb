{
 "cells": [
  {
   "cell_type": "markdown",
   "metadata": {},
   "source": [
    "### FILE ERROR IDENTIFIER\n",
    "Esta ferramenta identifica erros de nomeacao de arquivos nas pastas usadas no CPDOC.\n",
    "\n",
    "O codigo foi utilizado para corrigir nomes de arquivos referentes aos documentos de Antonio Azeredo da Silveira. OS arquivos .jpg e .tif estavam nomeados com quebras de sequência, que precisavam ser identificadas."
   ]
  },
  {
   "cell_type": "code",
   "execution_count": 1,
   "metadata": {
    "collapsed": false
   },
   "outputs": [],
   "source": [
    "import os\n",
    "import re"
   ]
  },
  {
   "cell_type": "code",
   "execution_count": null,
   "metadata": {
    "collapsed": true
   },
   "outputs": [],
   "source": [
    "'''''''''''''''''''''''''''''''''''''''''''''''''''''''''''''''''''''''''''''\n",
    "Captura pastas e arquivos a serem trabalhados, cria lista de nomes de arquivos, organiza em ordem crescente. \n",
    "Note que são selecionados apenas arquivos com terminacao .txt\n",
    "'''''''''''''''''''''''''''''''''''''''''''''''''''''''''''''''''''''''''''''\n",
    "pathdir = 'C:/Users/marcelo.ribeiro/Documents/0-Azeredo-Imagens'\n",
    "\n",
    "onlydirs = [f for f in os.listdir(pathdir) if os.path.isdir(os.path.join(pathdir,f))]\n",
    "onlyfiles = []\n",
    "for root, dirs, files in os.walk(pathdir):\n",
    "    for file in files:\n",
    "        #if file.endswith(\".TIF\"): onlyfiles.append(file) # if wanted to work with .tif files\n",
    "        if file.endswith(\".JPG\"): onlyfiles.append(file) # if wanted to work with .jpg files\n",
    "onlyfiles.sort()\n",
    "onlyfiles.remove('I0042273.TIF')"
   ]
  },
  {
   "cell_type": "code",
   "execution_count": null,
   "metadata": {
    "collapsed": true
   },
   "outputs": [],
   "source": [
    "'''''''''''''''''''''''''''''''''''''''''''''''''''''''''''''''''''''''''''''\n",
    "Verifica listagem de pastas e arquivos. 20 primeiros apenas.\n",
    "'''''''''''''''''''''''''''''''''''''''''''''''''''''''''''''''''''''''''''''\n",
    "print('List of Dirs:',onlydirs[0:20])\n",
    "print('List of Files:',onlyfiles[0:20])"
   ]
  },
  {
   "cell_type": "code",
   "execution_count": null,
   "metadata": {
    "collapsed": true
   },
   "outputs": [],
   "source": [
    "'''''''''''''''''''''''''''''''''''''''''''''''''''''''''''''''''''''''''''''\n",
    "Identifica quebras de sequência em nomes de arquivos. \n",
    "'''''''''''''''''''''''''''''''''''''''''''''''''''''''''''''''''''''''''''''\n",
    "count = 0\n",
    "for file in onlyfiles[0:]:\n",
    "    count += 1\n",
    "    file_number = int(file[1:8])\n",
    "    file_prefix = re.sub('([a-zA-Z][0]*)[1-9][0-9]*[\\D]{1,}', r'\\1', file)\n",
    "    file_sufix = re.sub('[a-zA-Z][0]*[1-9][0-9]*([\\D]{1,})', r'\\1', file)\n",
    "    if count != file_number: \n",
    "        count += 1\n",
    "        if count != file_number: \n",
    "            count = file_number"
   ]
  }
 ],
 "metadata": {
  "anaconda-cloud": {},
  "kernelspec": {
   "display_name": "Python [Root]",
   "language": "python",
   "name": "Python [Root]"
  },
  "language_info": {
   "codemirror_mode": {
    "name": "ipython",
    "version": 3
   },
   "file_extension": ".py",
   "mimetype": "text/x-python",
   "name": "python",
   "nbconvert_exporter": "python",
   "pygments_lexer": "ipython3",
   "version": "3.5.2"
  }
 },
 "nbformat": 4,
 "nbformat_minor": 0
}
