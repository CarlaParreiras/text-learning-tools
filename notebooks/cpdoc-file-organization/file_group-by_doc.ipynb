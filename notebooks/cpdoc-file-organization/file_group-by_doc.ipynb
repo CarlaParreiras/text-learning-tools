{
 "cells": [
  {
   "cell_type": "markdown",
   "metadata": {},
   "source": [
    "### GROUP FILES\n",
    "Esta ferramenta reagrupa arquivos txt referentes a documentos do CPDOC.\n",
    "\n",
    "Documentos trabalhados: Fundo AAS (Antonio Azeredo da Silveira), Série Ministério das Relações.\n",
    "\n",
    "O objetivo foi reagrupar arquivos por documentos, antes divididos por páginas de documentos."
   ]
  },
  {
   "cell_type": "code",
   "execution_count": 2,
   "metadata": {
    "collapsed": false
   },
   "outputs": [],
   "source": [
    "import os\n",
    "import re\n",
    "from itertools import islice\n",
    "import shutil\n",
    "from natsort import natsorted"
   ]
  },
  {
   "cell_type": "code",
   "execution_count": 31,
   "metadata": {
    "collapsed": false
   },
   "outputs": [],
   "source": [
    "'''''''''''''''''''''''''''''''''''''''''''''''''''''''''''''''''''''''''''''\n",
    "Cria função que lista arquivos por ordem de numero da imagem\n",
    "Para capturar numero de imagem, fiz split entre 'img' e '\\.[Tt]'. O Tt era \n",
    "necessario para capturar tanto arquivos .TIF quanto .txt\n",
    "'''''''''''''''''''''''''''''''''''''''''''''''''''''''''''''''''''''''''''''\n",
    "def special_sort(l):\n",
    "    convert = lambda text: int(text) if text.isdigit() else str(text)\n",
    "    alphanum_key = lambda key: [ convert(c) for c in re.split('pag|_img', key)]\n",
    "    return sorted(l, key = alphanum_key)"
   ]
  },
  {
   "cell_type": "code",
   "execution_count": 35,
   "metadata": {
    "collapsed": false
   },
   "outputs": [],
   "source": [
    "'''''''''''''''''''''''''''''''''''''''''''''''''''''''''''''''''''''''''''''\n",
    "Captura pastas e arquivos a serem trabalhados, cria lista de nomes de arquivos, organiza em ordem crescente. \n",
    "Note que são selecionados apenas arquivos com terminacao .txt\n",
    "'''''''''''''''''''''''''''''''''''''''''''''''''''''''''''''''''''''''''''''\n",
    "path = 'C:/Users/marcelo.ribeiro/Documents/textfiles-corrected-renamed2/'\n",
    "path_regrouped = 'C:/Users/marcelo.ribeiro/Documents/textfiles-corrected-regrouped/'\n",
    "\n",
    "sufix = '.txt'\n",
    "\n",
    "onlyfiles = [f for f in os.listdir(path)] \n",
    "\n",
    "fullpath_list = []\n",
    "fullpath = ''\n",
    "for file in onlyfiles:\n",
    "    fullpath = path+file\n",
    "    fullpath_list.append(fullpath)"
   ]
  },
  {
   "cell_type": "code",
   "execution_count": 37,
   "metadata": {
    "collapsed": false
   },
   "outputs": [],
   "source": [
    "'''''''''''''''''''''''''''''''''''''''''''''''''''''''''''''''''''''''''''''\n",
    "Reordena listagem de arquivos.\n",
    "'''''''''''''''''''''''''''''''''''''''''''''''''''''''''''''''''''''''''''''\n",
    "fullpath_list = special_sort(fullpath_list)"
   ]
  },
  {
   "cell_type": "code",
   "execution_count": 38,
   "metadata": {
    "collapsed": false
   },
   "outputs": [],
   "source": [
    "'''''''''''''''''''''''''''''''''''''''''''''''''''''''''''''''''''''''''''''\n",
    "Reagrupa arquivos.\n",
    "'''''''''''''''''''''''''''''''''''''''''''''''''''''''''''''''''''''''''''''\n",
    "texto_grouped = []\n",
    "prefix_old = ''\n",
    "for file in fullpath_list[0:]:\n",
    "    with open(file, 'r', encoding='utf-8') as f:\n",
    "        prefix = re.sub('.*/(.*)_pag.*', r'\\1', file)\n",
    "        if prefix.endswith('.txt'): continue # desconsidera arquivos de capas\n",
    "        file_regrouped = path_regrouped+prefix+'.txt'\n",
    "        texto = f.read()\n",
    "        if prefix == prefix_old: \n",
    "            with open(file_regrouped, 'a') as f:\n",
    "                txt = f.write(texto)\n",
    "        else: \n",
    "            with open(file_regrouped, 'w') as f:\n",
    "                txt = f.write(texto)   \n",
    "        prefix_old = prefix"
   ]
  },
  {
   "cell_type": "code",
   "execution_count": null,
   "metadata": {
    "collapsed": true
   },
   "outputs": [],
   "source": []
  }
 ],
 "metadata": {
  "anaconda-cloud": {},
  "kernelspec": {
   "display_name": "Python [Root]",
   "language": "python",
   "name": "Python [Root]"
  },
  "language_info": {
   "codemirror_mode": {
    "name": "ipython",
    "version": 3
   },
   "file_extension": ".py",
   "mimetype": "text/x-python",
   "name": "python",
   "nbconvert_exporter": "python",
   "pygments_lexer": "ipython3",
   "version": "3.5.2"
  }
 },
 "nbformat": 4,
 "nbformat_minor": 0
}
