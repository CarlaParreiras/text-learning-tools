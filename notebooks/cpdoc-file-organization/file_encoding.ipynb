{
 "cells": [
  {
   "cell_type": "markdown",
   "metadata": {},
   "source": [
    "### ENCODING\n",
    "revisar o que este código faz!!!"
   ]
  },
  {
   "cell_type": "raw",
   "metadata": {
    "collapsed": false
   },
   "source": [
    "import os\n",
    "import re\n",
    "from itertools import islice\n",
    "import shutil\n",
    "from natsort import natsorted"
   ]
  },
  {
   "cell_type": "raw",
   "metadata": {
    "collapsed": false
   },
   "source": [
    "path = 'C:/Users/marcelo.ribeiro/Documents/textfiles-corrected-regrouped/'\n",
    "path_regrouped = 'C:/Users/marcelo.ribeiro/Documents/textfiles-corrected-regrouped/'\n",
    "\n",
    "sufix = '.txt'\n",
    "\n",
    "onlyfiles = [f for f in os.listdir(path)] \n",
    "\n",
    "fullpath_list = []\n",
    "fullpath = ''\n",
    "for file in onlyfiles:\n",
    "    fullpath = path+file\n",
    "    fullpath_list.append(fullpath)"
   ]
  },
  {
   "cell_type": "raw",
   "metadata": {
    "collapsed": false
   },
   "source": [
    "'''''''''''''''''''''''''''''''''''''''''''''''''''''''''''''''''''''''''''''\n",
    "Decode and encode\n",
    "'''''''''''''''''''''''''''''''''''''''''''''''''''''''''''''''''''''''''''''\n",
    "texto_grouped = []\n",
    "prefix_old = ''\n",
    "for file in fullpath_list[0:]:\n",
    "    with open(file, 'r', encoding='latin-1') as f:\n",
    "        texto = f.read()\n",
    "        if prefix == prefix_old: \n",
    "            with open(file_regrouped, 'a') as f:\n",
    "                txt = f.write(texto)\n",
    "        else: \n",
    "            with open(file_regrouped, 'w') as f:\n",
    "                txt = f.write(texto)   \n",
    "        prefix_old = prefix"
   ]
  }
 ],
 "metadata": {
  "anaconda-cloud": {},
  "kernelspec": {
   "display_name": "Python [conda root]",
   "language": "python",
   "name": "conda-root-py"
  },
  "language_info": {
   "codemirror_mode": {
    "name": "ipython",
    "version": 3
   },
   "file_extension": ".py",
   "mimetype": "text/x-python",
   "name": "python",
   "nbconvert_exporter": "python",
   "pygments_lexer": "ipython3",
   "version": "3.5.2"
  }
 },
 "nbformat": 4,
 "nbformat_minor": 0
}
