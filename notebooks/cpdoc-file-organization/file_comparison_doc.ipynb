{
 "cells": [
  {
   "cell_type": "markdown",
   "metadata": {},
   "source": [
    "### FILE COMPARISON\n",
    "Esta ferramenta seleciona arquivos e os agrega numa mesma apsta para analisá-los e compará-los.\n",
    "\n",
    "Arquivos trabalhados: Fundo AAS (Antonio Azeredo da Silveira), Série Ministério das Relações.\n",
    "\n",
    "A comparação serah feita entre arquivos .tif e documentos."
   ]
  },
  {
   "cell_type": "code",
   "execution_count": 1,
   "metadata": {
    "collapsed": false
   },
   "outputs": [],
   "source": [
    "import os\n",
    "import re\n",
    "from itertools import islice\n",
    "import shutil"
   ]
  },
  {
   "cell_type": "code",
   "execution_count": 2,
   "metadata": {
    "collapsed": false
   },
   "outputs": [],
   "source": [
    "'''''''''''''''''''''''''''''''''''''''''''''''''''''''''''''''''''''''''''''\n",
    "Captura pastas e arquivos a serem trabalhados, cria lista amostral de arquivos. \n",
    "Note que são trabalhados apenas arquivos com terminacao .txt e .TIF\n",
    "'''''''''''''''''''''''''''''''''''''''''''''''''''''''''''''''''''''''''''''\n",
    "path_tif = 'C:/Users/marcelo.ribeiro/Documents/0-azeredo-imagens-renamed/'\n",
    "path_txt = 'C:/Users/marcelo.ribeiro/Documents/textfiles-original-renamed/'\n",
    "path_comparison = 'C:/Users/marcelo.ribeiro/Dropbox/A-Marcelo/Educação-Trabalho/2016-CPDOC/Azeredo Papers/material-renomeacao-arquivos/file_comparison/'\n",
    "\n",
    "sufix_tif = '.TIF'\n",
    "sufix_txt = '.txt'\n",
    "\n",
    "onlyfiles_txt = [f for f in os.listdir(path_txt)]\n",
    "onlyfiles_tif = [f for f in os.listdir(path_tif)]"
   ]
  },
  {
   "cell_type": "code",
   "execution_count": null,
   "metadata": {
    "collapsed": true
   },
   "outputs": [],
   "source": [
    "'''''''''''''''''''''''''''''''''''''''''''''''''''''''''''''''''''''''''''''\n",
    "Captura arquivos .TIF\n",
    "'''''''''''''''''''''''''''''''''''''''''''''''''''''''''''''''''''''''''''''\n",
    "working_list = ['34043', '47043', '47969', '51800', '52289', '49374', '50625', '50806', '42850', '43715', '35730', '35801', '35939', '15789', '16282', '16356', '16406', '16594', '08573', '25054', '25477', '26400', '26750', '26822', '27684', '28023', '28220', '16632', '16760', '17717', '17829', '17966', '20177', '20312', '20452', '52568', '28508', '10529', '10776', '10958', '11066', '11198', '11252', '11376', '00001', '00662', '01185', '00746', '01010', '01219', '36089', '36629', '36849', '37003', '37327', '37464', '37666', '37774', '38231', '11600', '11932', '12570', '12863', '13406', '13531', '13933', '14091', '14239', '14382', '38950', '39030', '06375', '40262', '40765', '40205', '40080', '47042', '47968', '49373', '52288', '52567', '50624', '42849', '51799', '43714', '45171', '35800', '35938', '36088', '16281', '16355', '16405', '16593', '16631', '25053', '25476', '26399', '26749', '26821', '27683', '28022', '28219', '28507', '16759', '17716', '17828', '17965', '20176', '20311', '20451', '20691', '62055', '15788', '06374', '40036', '11065', '45631', '46133', '46836', '11415', '00661', '00745', '01218', '01009', '01184', '01404', '36628', '36848', '37002', '37326', '37463', '37665', '37773', '38230', '11599', '11931', '12569', '12862', '13405', '13530', '13932', '14090', '14238', '14381', '14473', '39029', '39175', '66931', '40764', '40989', '40261', '40204']\n",
    "tif_fullpath_list = []\n",
    "\n",
    "for file in onlyfiles_tif[0:]:\n",
    "    number = re.sub('.*img(\\d+).*',r'\\1',file)\n",
    "    tif_fullpath = path_tif+file\n",
    "    if number in working_list:\n",
    "        tif_fullpath_list.append(tif_fullpath)\n"
   ]
  },
  {
   "cell_type": "code",
   "execution_count": null,
   "metadata": {
    "collapsed": false
   },
   "outputs": [],
   "source": [
    "'''''''''''''''''''''''''''''''''''''''''''''''''''''''''''''''''''''''''''''\n",
    "Salva arquivos numa nova pasta para avaliação\n",
    "'''''''''''''''''''''''''''''''''''''''''''''''''''''''''''''''''''''''''''''\n",
    "if not os.path.exists(path_comparison):\n",
    "    os.makedirs(path_comparison)\n",
    "\n",
    "for file_oldfolder in tif_fullpath_list:\n",
    "    file = re.sub('.*\\/(.*)',r'\\1',file_oldfolder)\n",
    "    file_newfolder = path_comparison + file\n",
    "    shutil.copy2(file_oldfolder, file_newfolder)"
   ]
  }
 ],
 "metadata": {
  "anaconda-cloud": {},
  "kernelspec": {
   "display_name": "Python [Root]",
   "language": "python",
   "name": "Python [Root]"
  },
  "language_info": {
   "codemirror_mode": {
    "name": "ipython",
    "version": 3
   },
   "file_extension": ".py",
   "mimetype": "text/x-python",
   "name": "python",
   "nbconvert_exporter": "python",
   "pygments_lexer": "ipython3",
   "version": "3.5.2"
  }
 },
 "nbformat": 4,
 "nbformat_minor": 0
}
