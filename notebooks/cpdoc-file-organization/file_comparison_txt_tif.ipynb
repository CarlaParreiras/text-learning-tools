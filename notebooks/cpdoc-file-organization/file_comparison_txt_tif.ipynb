{
 "cells": [
  {
   "cell_type": "markdown",
   "metadata": {},
   "source": [
    "### FILE COMPARISON\n",
    "Esta ferramenta seleciona arquivos e os agrega numa mesma apsta para analisá-los e compará-los.\n",
    "\n",
    "Arquivos trabalhados: Fundo AAS (Antonio Azeredo da Silveira), Série Ministério das Relações.\n",
    "\n",
    "A comapração serah feita entre arquivos .txt e .tif. A numeração dos arquivos deveria ser correspondente, mas há casos em que o conteúdo presente no arquivo .txt é diferente do .tif. "
   ]
  },
  {
   "cell_type": "code",
   "execution_count": 154,
   "metadata": {
    "collapsed": false
   },
   "outputs": [],
   "source": [
    "import os\n",
    "import re\n",
    "from itertools import islice\n",
    "import shutil"
   ]
  },
  {
   "cell_type": "code",
   "execution_count": 155,
   "metadata": {
    "collapsed": false
   },
   "outputs": [],
   "source": [
    "'''''''''''''''''''''''''''''''''''''''''''''''''''''''''''''''''''''''''''''\n",
    "Captura pastas e arquivos a serem trabalhados, cria lista amostral de arquivos. \n",
    "Note que são trabalhados apenas arquivos com terminacao .txt e .TIF\n",
    "'''''''''''''''''''''''''''''''''''''''''''''''''''''''''''''''''''''''''''''\n",
    "path_tif = 'C:/Users/marcelo.ribeiro/Documents/0-azeredo-imagens/'\n",
    "path_txt = 'C:/Users/marcelo.ribeiro/Documents/textfiles-original-renamed/'\n",
    "path_comparison = 'C:/Users/marcelo.ribeiro/Dropbox/A-Marcelo/Educação-Trabalho/2016-CPDOC/file_comparison/'\n",
    "\n",
    "sufix_tif = '.TIF'\n",
    "sufix_txt = '.txt'\n",
    "\n",
    "onlyfiles_txt = [f for f in os.listdir(path_txt)]\n",
    "onlyfiles_tif = [f for f in os.listdir(path_tif)]"
   ]
  },
  {
   "cell_type": "code",
   "execution_count": 174,
   "metadata": {
    "collapsed": false
   },
   "outputs": [],
   "source": [
    "'''''''''''''''''''''''''''''''''''''''''''''''''''''''''''''''''''''''''''''\n",
    "Captura arquivos .txt\n",
    "'''''''''''''''''''''''''''''''''''''''''''''''''''''''''''''''''''''''''''''\n",
    "txt_fullpath_list = []\n",
    "txt_fullpath = ''\n",
    "\n",
    "txt1 = path_txt+'txt_00001.txt'\n",
    "txt_fullpath_list.append(txt1)\n",
    "\n",
    "count = 1\n",
    "for file in onlyfiles_txt:\n",
    "    number = int(re.sub('\\D*([\\d]+)\\D*',r'\\1',file))\n",
    "    number_lower = 512*count - 1\n",
    "    number_higher = 512*count + 1\n",
    "    if number == number_lower or number == number_higher or number == 38914:\n",
    "        if number == number_higher or number == 38914: count += 1\n",
    "        txt_fullpath = path_txt+file\n",
    "        txt_fullpath_list.append(txt_fullpath)"
   ]
  },
  {
   "cell_type": "code",
   "execution_count": 175,
   "metadata": {
    "collapsed": false
   },
   "outputs": [],
   "source": [
    "'''''''''''''''''''''''''''''''''''''''''''''''''''''''''''''''''''''''''''''\n",
    "Captura arquivos .TIF\n",
    "'''''''''''''''''''''''''''''''''''''''''''''''''''''''''''''''''''''''''''''\n",
    "tif_fullpath_list = []\n",
    "tif_fullpath = ''\n",
    "subfolder_list = []\n",
    "\n",
    "count = 0\n",
    "for root, dirs, files in os.walk(path_tif):\n",
    "    for dir in dirs: \n",
    "        dir = dir+'/'\n",
    "        subfolder_list.append(dir)\n",
    "\n",
    "\n",
    "tif1 = path_tif+'_0000001/P0000001.TIF'\n",
    "tif_fullpath_list.append(tif1)\n",
    "count = 1\n",
    "for root, dirs, files in os.walk(path_tif):\n",
    "    for file in files:\n",
    "        if not file.endswith(sufix_tif): continue\n",
    "        number = int(re.sub('\\D*(\\d+)\\D*',r'\\1',file))\n",
    "        number_lower = 512*count - 1\n",
    "        number_higher = 512*count + 1\n",
    "        if number == number_lower or number == number_higher or number == 38914:\n",
    "            if number == 511:\n",
    "                subfolder = subfolder_list[0]\n",
    "            if number == number_higher or number == 38914: \n",
    "                count += 1\n",
    "                subfolder = subfolder_list[count-1]\n",
    "            tif_fullpath = path_tif+subfolder+file\n",
    "            tif_fullpath_list.append(tif_fullpath)"
   ]
  },
  {
   "cell_type": "code",
   "execution_count": null,
   "metadata": {
    "collapsed": true
   },
   "outputs": [],
   "source": [
    "'''''''''''''''''''''''''''''''''''''''''''''''''''''''''''''''''''''''''''''\n",
    "Junta todos os arquivos\n",
    "'''''''''''''''''''''''''''''''''''''''''''''''''''''''''''''''''''''''''''''\n",
    "fullpath_list = txt_fullpath_list + tif_fullpath_list\n",
    "fullpath_list"
   ]
  },
  {
   "cell_type": "code",
   "execution_count": 177,
   "metadata": {
    "collapsed": false
   },
   "outputs": [],
   "source": [
    "if not os.path.exists(path_comparison):\n",
    "    os.makedirs(path_comparison)\n",
    "count = -1\n",
    "\n",
    "for file_oldfolder in fullpath_list:\n",
    "    file = re.sub('.*\\/(.*)',r'\\1',file_oldfolder)\n",
    "    file_newfolder = path_comparison + file\n",
    "    shutil.copy2(file_oldfolder, file_newfolder)"
   ]
  },
  {
   "cell_type": "code",
   "execution_count": null,
   "metadata": {
    "collapsed": true
   },
   "outputs": [],
   "source": []
  }
 ],
 "metadata": {
  "anaconda-cloud": {},
  "kernelspec": {
   "display_name": "Python [Root]",
   "language": "python",
   "name": "Python [Root]"
  },
  "language_info": {
   "codemirror_mode": {
    "name": "ipython",
    "version": 3
   },
   "file_extension": ".py",
   "mimetype": "text/x-python",
   "name": "python",
   "nbconvert_exporter": "python",
   "pygments_lexer": "ipython3",
   "version": "3.5.2"
  }
 },
 "nbformat": 4,
 "nbformat_minor": 0
}
