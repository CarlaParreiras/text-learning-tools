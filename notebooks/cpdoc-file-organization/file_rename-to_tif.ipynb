{
 "cells": [
  {
   "cell_type": "markdown",
   "metadata": {},
   "source": [
    "### RENAME FILES\n",
    "Esta ferramenta renomeia arquivos/txts referentes a documentos do CPDOC.\n",
    "\n",
    "Documentos trabalhados: Fundo AAS (Antonio Azeredo da Silveira), Série Ministério das Relações.\n",
    "\n",
    "O objetivo foi compatibilizar os nomes de todos os arquivos com terminacao .txt para corredponde-los aos arquivos .tif. Um codigo posterior farah a compatibilizazao de todos os arquivos .txt e .tif com os documentos respectivos."
   ]
  },
  {
   "cell_type": "code",
   "execution_count": 1,
   "metadata": {
    "collapsed": false
   },
   "outputs": [],
   "source": [
    "import os\n",
    "import re\n",
    "from itertools import islice\n",
    "import shutil\n",
    "from natsort import natsorted"
   ]
  },
  {
   "cell_type": "code",
   "execution_count": 1,
   "metadata": {
    "collapsed": false
   },
   "outputs": [],
   "source": [
    "'''''''''''''''''''''''''''''''''''''''''''''''''''''''''''''''''''''''''''''\n",
    "Cria funcao interna que ordena nomes de arquivos, que sao strings com numeros internos\n",
    "'''''''''''''''''''''''''''''''''''''''''''''''''''''''''''''''''''''''''''''\n",
    "def natural_sort(l): \n",
    "    convert = lambda text: int(text) if text.isdigit()\n",
    "    alphanum_key = lambda key: [ convert(c) for c in re.split('([0-9]+)', key) ] \n",
    "    return sorted(l, key = alphanum_key)"
   ]
  },
  {
   "cell_type": "code",
   "execution_count": 3,
   "metadata": {
    "collapsed": true
   },
   "outputs": [],
   "source": [
    "'''''''''''''''''''''''''''''''''''''''''''''''''''''''''''''''''''''''''''''\n",
    "captura pastas e arquivos a serem trabalhados, cria lista de nomes de arquivos. \n",
    "oote que são selecionados apenas arquivos com terminacao .txt\n",
    "'''''''''''''''''''''''''''''''''''''''''''''''''''''''''''''''''''''''''''''\n",
    "path = 'C:/Users/marcelo.ribeiro/Documents/textfiles-corrected/'\n",
    "path_renamed_files = 'C:/Users/marcelo.ribeiro/Documents/textfiles-corrected-renamed/'\n",
    "#path = 'C:/Users/MARCELO/Dropbox/A-Marcelo/Educação-Trabalho/2016-CPDOC/textfiles-corrected/'\n",
    "#path_renamed_files = 'C:/Users/MARCELO/Dropbox/A-Marcelo/Educação-Trabalho/2016-CPDOC/textfiles-corrected-renamed/'\n",
    "sufix = '.txt'\n",
    "\n",
    "onlyfiles_txt = [f for f in os.listdir(path) if f.endswith(sufix)] \n",
    "\n",
    "txt_path_old_list = []\n",
    "txt_path_old = ''\n",
    "for file_dossie in onlyfiles_txt:\n",
    "    if file_dossie == 'txt_0041984_1.txt': continue # retira arquivo duplicado da lista\n",
    "    txt_path_old = path+file_dossie\n",
    "    txt_path_old_list.append(txt_path_old)\n",
    "txt_path_old_list = natural_sort(txt_path_old_list)"
   ]
  },
  {
   "cell_type": "code",
   "execution_count": 4,
   "metadata": {
    "collapsed": false
   },
   "outputs": [
    {
     "name": "stdout",
     "output_type": "stream",
     "text": [
      "missing_numbers_list:  [5166, 7524, 34031, 35855, 38766, 38794, 38819, 38913, 39201, 39217, 39809, 40071, 40161, 40712, 40820, 42362, 46837, 46908, 46910, 46912, 46916, 46918, 46920, 46922, 65086, 65179]\n"
     ]
    }
   ],
   "source": [
    "'''''''''''''''''''''''''''''''''''''''''''''''''''''''''''''''''''''''''''''\n",
    "cria lista de numeros de imagens que estao fora da listagem.\n",
    "primeiro grupo eh composto por imagens faltando tanto em .jpg quanto em .tif\n",
    "segundo grupo eh composto por imagens faltando apenas em .tif\n",
    "NOTA:  I0042273.TIF EH UM TIF REPETIDO, QUE DEVERIA SER JPG. Nao olhei esse problema ainda.\n",
    "\n",
    "há numeros sequenciais, que foram retirados da lista por questao de organizacao do codigo\n",
    "sao eles: 38767, 38768, 38769, 38770 ; 46913\n",
    "'''''''''''''''''''''''''''''''''''''''''''''''''''''''''''''''''''''''''''''\n",
    "missing_numbers_list_jpgtif = [5166, 7524, 34031, 35855, 38766, 38794, 38819, 38913, 39201, 39217, 39809, 40071, 40161, 40712, 40820, 42362, 46837, 65086, 65179]\n",
    "missing_numbers_list_onlytif = [46908, 46910, 46912, 46916, 46918, 46920, 46922]\n",
    "missing_numbers_list = missing_numbers_list_jpgtif + missing_numbers_list_onlytif\n",
    "\n",
    "missing_numbers_list.sort()"
   ]
  },
  {
   "cell_type": "code",
   "execution_count": null,
   "metadata": {
    "collapsed": true
   },
   "outputs": [],
   "source": [
    "'''''''''''''''''''''''''''''''''''''''''''''''''''''''''''''''''''''''''''''\n",
    "modifica nomes de arquivos.\n",
    "'''''''''''''''''''''''''''''''''''''''''''''''''''''''''''''''''''''''''''''\n",
    "count = 0\n",
    "txt_path_new_list = []\n",
    "for txt_old in txt_path_old_list:\n",
    "    number1 = int(re.sub('.*txt_([\\d]+)_\\d+.txt',r'\\1',txt_old))\n",
    "    number2 = int(re.sub('.*txt_[\\d]+_(\\d+).txt',r'\\1',txt_old))\n",
    "    if number1 == 41984: number2 = number2 - 1 # corrige erro numeração advindo de duplicação\n",
    "    number = number1+number2-1 + count\n",
    "    number_test = number1+number2-1\n",
    "    if number in missing_numbers_list:\n",
    "        number_reset = int((number+512)/512)*512 - 1\n",
    "        if number != 38766 and number != 46912:\n",
    "            count += 1\n",
    "        elif number == 38766:\n",
    "            count += 5 # 5 omissoes seguidas\n",
    "        elif number == 46912:\n",
    "            count += 2 # 2 omissoes seguidas\n",
    "        number = number1 + number2 - 1 + count\n",
    "    if count > 0 and number == number_reset:\n",
    "        count = 0\n",
    "    number = str(number).zfill(5)\n",
    "    txt_new = path_renamed_files+'txt_'+number+'.txt'\n",
    "    txt_path_new_list.append(txt_new)"
   ]
  },
  {
   "cell_type": "code",
   "execution_count": null,
   "metadata": {
    "collapsed": true
   },
   "outputs": [],
   "source": [
    "'''''''''''''''''''''''''''''''''''''''''''''''''''''''''''''''''''''''''''''\n",
    "renomeia arquivos em nova pasta.\n",
    "'''''''''''''''''''''''''''''''''''''''''''''''''''''''''''''''''''''''''''''\n",
    "if not os.path.exists(path_renamed_files):\n",
    "    os.makedirs(path_renamed_files)\n",
    "count = -1\n",
    "\n",
    "for file_old in txt_path_old_list:\n",
    "    count += 1\n",
    "    file_new = txt_path_new_list[count]\n",
    "    shutil.copy2(file_old, file_new)"
   ]
  },
  {
   "cell_type": "markdown",
   "metadata": {},
   "source": [
    "### Testes"
   ]
  },
  {
   "cell_type": "raw",
   "metadata": {
    "collapsed": false,
    "scrolled": false
   },
   "source": [
    "'''''''''''''''''''''''''''''''''''''''''''''''''''''''''''''''''''''''''''''\n",
    "teste final\n",
    "'''''''''''''''''''''''''''''''''''''''''''''''''''''''''''''''''''''''''''''\n",
    "path2 = 'C:/Users/marcelo.ribeiro/Documents/textfiles-original-renamed/'\n",
    "sufix = '.txt'\n",
    "\n",
    "onlyfiles_txt2 = [f for f in os.listdir(path2) if f.endswith(sufix)] \n",
    "\n",
    "txt_path_list = []\n",
    "txt_path = ''\n",
    "for txt in onlyfiles_txt2:\n",
    "    number = int(re.sub('.*txt_([\\d]+).txt',r'\\1',txt))\n",
    "    #print(number)\n",
    "    txt_path_list.append(number)\n",
    "\n",
    "    \n",
    "#count = 0\n",
    "#for number in range(66940):\n",
    "#    if number not in txt_path_list:\n",
    "#        print(number)\n",
    "\n",
    "for txt_old in txt_path_old_list:\n",
    "    #print(txt_old)\n",
    "    number1 = int(re.sub('.*txt_([\\d]+)_\\d+.txt',r'\\1',txt_old))\n",
    "    number2 = int(re.sub('.*txt_[\\d]+_(\\d+).txt',r'\\1',txt_old))\n",
    "    #print('numbers', number1, number2)\n",
    "    number = number1+number2-1 + count"
   ]
  },
  {
   "cell_type": "code",
   "execution_count": null,
   "metadata": {
    "collapsed": true
   },
   "outputs": [],
   "source": []
  }
 ],
 "metadata": {
  "anaconda-cloud": {},
  "kernelspec": {
   "display_name": "Python [Root]",
   "language": "python",
   "name": "Python [Root]"
  },
  "language_info": {
   "codemirror_mode": {
    "name": "ipython",
    "version": 3
   },
   "file_extension": ".py",
   "mimetype": "text/x-python",
   "name": "python",
   "nbconvert_exporter": "python",
   "pygments_lexer": "ipython3",
   "version": "3.5.2"
  }
 },
 "nbformat": 4,
 "nbformat_minor": 0
}
