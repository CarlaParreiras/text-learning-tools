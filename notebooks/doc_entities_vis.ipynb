{
 "cells": [
  {
   "cell_type": "markdown",
   "metadata": {},
   "source": [
    "### doc_entity\n",
    "ESTABELECE RELAÇÕES ENTRE DOCUMENTOS E ENTIDADES NA BASE DE DADOS NO MYSQL. TRABALHAMOS COM O ACERVO **ANTONIO AZEREDO DA SILVEIRA, MINISTÉRIO DAS RELAÇÕES EXTERIORES**.  \n",
    "\n",
    "AS ENTIDADES A SEREM TRABALHADAS SÃO:\n",
    "* PAÍSES\n",
    "* PESSOAS"
   ]
  },
  {
   "cell_type": "code",
   "execution_count": 1,
   "metadata": {
    "collapsed": false
   },
   "outputs": [],
   "source": [
    "import os\n",
    "import sys\n",
    "import time\n",
    "import datetime\n",
    "import numpy as np\n",
    "import pandas as pd\n",
    "import re\n",
    "\n",
    "#import pymysql\n",
    "import getpass\n",
    "#from sshtunnel import SSHTunnelForwarder\n",
    "\n",
    "from IPython.display import clear_output\n",
    "\n",
    "import csv\n",
    "import xlrd\n",
    "import xlwt\n",
    "\n",
    "import unicodedata\n",
    "import numpy as np\n",
    "from wordcloud import WordCloud, STOPWORDS\n",
    "from collections import OrderedDict, Counter\n",
    "import codecs\n",
    "import string\n",
    "import nltk\n",
    "import networkx as nx\n",
    "import matplotlib.pyplot as plt"
   ]
  },
  {
   "cell_type": "raw",
   "metadata": {},
   "source": [
    "Sobre leitura de arquivos xls\n",
    "Links importantes:\n",
    "https://www.sitepoint.com/using-python-parse-spreadsheet-data/"
   ]
  },
  {
   "cell_type": "raw",
   "metadata": {},
   "source": [
    "'''''''''''''''''''''''''''''''''''''''''''''''''''''''''''''''''''''''''''''\n",
    "cria tabelas de entidades.\n",
    "nota: é apenas um template para código a ser criado\n",
    "'''''''''''''''''''''''''''''''''''''''''''''''''''''''''''''''''''''''''''''\n",
    "    cur.execute(\"DROP TABLE IF EXISTS person_doc\")\n",
    "    cur.execute('''CREATE TABLE IF NOT EXISTS person_doc \n",
    "               (person_id INT(11), doc_id VARCHAR(31), person_count BIGINT(21)\n",
    "               DEFAULT NULL)\n",
    "               ENGINE=MyISAM DEFAULT CHARSET='utf8';''')\n",
    "    \n",
    "    cur.execute(\"DROP TABLE IF EXISTS country_doc\")\n",
    "    cur.execute('''CREATE TABLE IF NOT EXISTS country_doc \n",
    "               (country_id VARBINARY(11), doc_id VARCHAR(31), person_count INT(11)\n",
    "               DEFAULT NULL)\n",
    "               ENGINE=MyISAM DEFAULT CHARSET='utf8';''')\n",
    "    "
   ]
  },
  {
   "cell_type": "code",
   "execution_count": 2,
   "metadata": {
    "collapsed": true
   },
   "outputs": [],
   "source": [
    "outputs = 'C:/Users/MARCELO/Dropbox/A-Marcelo/Educação-Trabalho/2016-CPDOC/textfiles-original-renamed-test/'\n",
    "outputs = 'C:/Users/marcelo.ribeiro/Dropbox/A-Marcelo/Educação-Trabalho/2016-CPDOC/textfiles-original-renamed-test/'\n",
    "datapath = 'C:/Users/marcelo.ribeiro/Dropbox/A-Marcelo/Educação-Trabalho/2016-CPDOC/textfiles-original-renamed-test/'\n",
    "oplexicon = 'C:/Users/marcelo.ribeiro/Dropbox/A-Marcelo/Educação-Trabalho/2017-EMAP/curso-python/MMD-master/datasets/oplexicon_v3.0/lexico_v3.0.txt'"
   ]
  },
  {
   "cell_type": "code",
   "execution_count": 3,
   "metadata": {
    "collapsed": false
   },
   "outputs": [],
   "source": [
    "corpuspath = os.path.join(outputs)\n",
    "onlyfiles = [f for f in os.listdir(corpuspath) if os.path.isfile(os.path.join(corpuspath,f)) and not f.startswith('.')]"
   ]
  },
  {
   "cell_type": "code",
   "execution_count": 4,
   "metadata": {
    "collapsed": false
   },
   "outputs": [],
   "source": [
    "'''''''''''''''''''''''''''''''''''''''''''''''''''''''''''''''''''''''''''''\n",
    "define pastas de trabalho\n",
    "'''''''''''''''''''''''''''''''''''''''''''''''''''''''''''''''''''''''''''''\n",
    "\n",
    "path = \"C:/Users/MARCELO/Dropbox/A-Marcelo/Educação-Trabalho/2016-CPDOC/Azeredo Papers/Processamento/text-learning-tools/inputs/\"\n",
    "path = \"C:/Users/marcelo.ribeiro/Dropbox/A-Marcelo/Educação-Trabalho/2016-CPDOC/Azeredo Papers/Processamento/text-learning-tools/inputs/\""
   ]
  },
  {
   "cell_type": "markdown",
   "metadata": {},
   "source": [
    "#### Abre arquivo XLS"
   ]
  },
  {
   "cell_type": "code",
   "execution_count": 5,
   "metadata": {
    "collapsed": false
   },
   "outputs": [
    {
     "name": "stdout",
     "output_type": "stream",
     "text": [
      "WARNING *** file size (1367936) not 512 + multiple of sector size (512)\n"
     ]
    }
   ],
   "source": [
    "workbook = xlrd.open_workbook(path+'PESSOAS-do-Accessus.xls', on_demand = True)\n",
    "\n",
    "#worksheet = workbook.sheet_by_index(0)\n",
    "worksheet = workbook.sheet_by_name('Rel_DescritorEleito')"
   ]
  },
  {
   "cell_type": "markdown",
   "metadata": {},
   "source": [
    "Captura nomes de entidades pessoas retiradas da base do Accessus/CPDOC"
   ]
  },
  {
   "cell_type": "code",
   "execution_count": 6,
   "metadata": {
    "collapsed": true
   },
   "outputs": [],
   "source": [
    "exceptions_list = ['a.', 'i.', 'j.', 'de']"
   ]
  },
  {
   "cell_type": "code",
   "execution_count": 7,
   "metadata": {
    "collapsed": false
   },
   "outputs": [],
   "source": [
    "def strip_accents(s):\n",
    "   return ''.join(c for c in unicodedata.normalize('NFD', s)\n",
    "                  if unicodedata.category(c) != 'Mn')"
   ]
  },
  {
   "cell_type": "code",
   "execution_count": 8,
   "metadata": {
    "collapsed": false
   },
   "outputs": [],
   "source": [
    "names_list = []\n",
    "\n",
    "for line in range(worksheet.nrows):\n",
    "    number_name = str(worksheet.cell(line, 0).value)\n",
    "    check_number = re.search('^\\d',number_name)\n",
    "    if check_number is not None:\n",
    "        if line == worksheet.nrows-1: break\n",
    "        fullname = str(worksheet.cell(line, 1).value)\n",
    "        fullname = str.lower(fullname)\n",
    "        fullname_split = fullname.split()\n",
    "        for name in fullname_split: \n",
    "            if name not in exceptions_list and name not in names_list:\n",
    "                alt_name = strip_accents(name)\n",
    "                names_list.append(name)\n",
    "                if alt_name != name: names_list.append(alt_name) "
   ]
  },
  {
   "cell_type": "code",
   "execution_count": 9,
   "metadata": {
    "collapsed": false
   },
   "outputs": [
    {
     "data": {
      "text/plain": [
       "['castro',\n",
       " 'lima',\n",
       " 'saldanha',\n",
       " 'júnior',\n",
       " 'junior',\n",
       " 'azevedo',\n",
       " 'faria',\n",
       " 'peixoto',\n",
       " 'pinto',\n",
       " 'ferraz']"
      ]
     },
     "execution_count": 9,
     "metadata": {},
     "output_type": "execute_result"
    }
   ],
   "source": [
    "names_list[:10]"
   ]
  },
  {
   "cell_type": "code",
   "execution_count": 10,
   "metadata": {
    "collapsed": false
   },
   "outputs": [],
   "source": [
    "#teste\n",
    "text_test_list = ''\n",
    "names_list_test = ['geisel', 'azeredo', 'ernesto', 'antonio']\n",
    "text_test1 = 'O ministro antonio azeredo assinou o tratado. Já o presidente ernesto geisel não concordou com a atitude de azeredo'\n",
    "text_test2 = 'O ministro antonio azeredo é contra tecnologia nuclear. Já o presidente ernesto geisel defende acordo com alemanha ocidental'\n",
    "text_test_list = text_test1 + text_test2\n",
    "\n",
    "#text_test.count(names_list_test[0])"
   ]
  },
  {
   "cell_type": "code",
   "execution_count": 11,
   "metadata": {
    "collapsed": false
   },
   "outputs": [],
   "source": [
    "additional_words = ['assinou']\n",
    "\n",
    "stopwords = nltk.corpus.stopwords.words('english') + \\\n",
    "            nltk.corpus.stopwords.words('portuguese') + \\\n",
    "            nltk.corpus.stopwords.words('french') + \\\n",
    "            nltk.corpus.stopwords.words('spanish') + \\\n",
    "            nltk.corpus.stopwords.words('german') + \\\n",
    "            additional_words"
   ]
  },
  {
   "cell_type": "code",
   "execution_count": 12,
   "metadata": {
    "collapsed": false
   },
   "outputs": [
    {
     "data": {
      "image/png": "[encoded data removed]",
      "text/plain": [
       "<matplotlib.figure.Figure at 0xc0fe160>"
      ]
     },
     "metadata": {},
     "output_type": "display_data"
    }
   ],
   "source": [
    "#basic test with wordcloud. See also: https://github.com/amueller/word_cloud\n",
    "#text = 'all your base are belong to us all of your base base base' # for basic testing\n",
    "wordcloud = WordCloud(background_color=\"gray\", max_words=50, relative_scaling = 1.0,stopwords = stopwords)\n",
    "wordcloud.generate(text_test_list)\n",
    "plt.imshow(wordcloud)\n",
    "plt.axis(\"off\")\n",
    "plt.show()"
   ]
  },
  {
   "cell_type": "code",
   "execution_count": 13,
   "metadata": {
    "collapsed": false
   },
   "outputs": [
    {
     "name": "stdout",
     "output_type": "stream",
     "text": [
      "Corpus com 32119 palavras polarizadas\n"
     ]
    },
    {
     "name": "stderr",
     "output_type": "stream",
     "text": [
      "C:\\Anaconda3\\lib\\site-packages\\ipykernel\\__main__.py:2: FutureWarning: the take_last=False keyword is deprecated, use keep='first' instead\n",
      "  from ipykernel import kernelapp as app\n"
     ]
    }
   ],
   "source": [
    "df_o = pd.read_csv(os.path.join(datapath,oplexicon), header=None, encoding='utf-8', usecols=[0,2], names=[u'palavra',u'polaridade'])\n",
    "df_o.drop_duplicates(subset=[u'palavra'], take_last=False, inplace=True)\n",
    "df_o = df_o.set_index(u'palavra')\n",
    "print(u'Corpus com {} palavras polarizadas'.format(len(df_o)))"
   ]
  },
  {
   "cell_type": "code",
   "execution_count": 14,
   "metadata": {
    "collapsed": true
   },
   "outputs": [],
   "source": [
    "def polariza_counter(dicionario, df1):\n",
    "    polaridades = []\n",
    "    fator_div = 0\n",
    "    ausentes = []\n",
    "    for palavra, frequencia in dicionario.items():\n",
    "        p = palavra.lower().strip()\n",
    "        if p in df1.index:\n",
    "            polaridades.append(df1.polaridade[p] * frequencia)\n",
    "            fator_div += frequencia\n",
    "        else:\n",
    "            ausentes.append((palavra,frequencia))\n",
    "    num_pal = len(dicionario)\n",
    "    num_pol = len(polaridades)\n",
    "    razao_pol = num_pol/float(num_pal) if num_pal else 0.0\n",
    "    polaridade = sum(polaridades)/float(fator_div)\n",
    "    print('Foram polarizadas {} palavras de um total de {} ({:.2%})'.format(num_pol, num_pal, razao_pol))\n",
    "    print('A polaridade mensurada do texto é de {:.3}'.format(polaridade))\n",
    "    return polaridade, ausentes"
   ]
  },
  {
   "cell_type": "markdown",
   "metadata": {},
   "source": [
    "Vamos agora construir um grafo de palavras para estudar co-ocorrências nos textos dos feeds\n",
    "Abordagem e funções aproveitadas de https://github.com/ipython/talks/blob/master/notebook/text_utils.py"
   ]
  },
  {
   "cell_type": "code",
   "execution_count": 15,
   "metadata": {
    "collapsed": false
   },
   "outputs": [],
   "source": [
    "ignore_words = [w for w in nltk.corpus.stopwords.words('portuguese')]\n",
    "ignore_expressions = ['o', 'a', '']"
   ]
  },
  {
   "cell_type": "code",
   "execution_count": 16,
   "metadata": {
    "collapsed": false
   },
   "outputs": [
    {
     "data": {
      "text/plain": [
       "2"
      ]
     },
     "execution_count": 16,
     "metadata": {},
     "output_type": "execute_result"
    }
   ],
   "source": [
    "raw_texts = ''\n",
    "list_raw_texts = []\n",
    "for filename in onlyfiles:\n",
    "    page_txt = codecs.open(os.path.join(corpuspath,filename), encoding='utf-8').read()\n",
    "    raw_texts += u'\\n'+ page_txt.lower()\n",
    "    list_raw_texts.append(page_txt)\n",
    "#teste\n",
    "list_raw_texts = [text_test1, text_test2]\n",
    "len(list_raw_texts)"
   ]
  },
  {
   "cell_type": "code",
   "execution_count": 17,
   "metadata": {
    "collapsed": false
   },
   "outputs": [
    {
     "name": "stdout",
     "output_type": "stream",
     "text": [
      "\n",
      "l\"\n",
      "\n",
      "»,\n",
      "\n",
      "aa5_qqqa._os.4'5\n",
      "aqupn\n",
      "\n",
      "  \n",
      "\n",
      ". ;jl'|.x7_v)«x .,: qm, lux . .“,i'í 'nzuvs .»,v »; c.n';:a.:«_'-x um uw —'\n",
      "\n",
      "brasilia - df,\n",
      "ayiso n? 27\n"
     ]
    }
   ],
   "source": [
    "print(raw_texts[0:140])"
   ]
  },
  {
   "cell_type": "code",
   "execution_count": 18,
   "metadata": {
    "collapsed": true
   },
   "outputs": [],
   "source": [
    "def corrige_distorcoes(texto):\n",
    "    texto = texto.replace(u'\\xe0', u'a a') #separa o a com crase\n",
    "    texto = texto.replace(u'\\u201c', '') #retira um certo tipo de aspas\n",
    "    texto = texto.replace(u'\\u201d', '') #retira um certo tipo de aspas\n",
    "    texto = texto.replace(u'\\u2018', '') #retira um certo tipo de aspas\n",
    "    texto = texto.replace(u'\\u2019', '') #retira um certo tipo de aspas\n",
    "    texto = texto.replace(u'get\\xfalio vargas', u'getulio vargas') #homogeniza as formas de Getulio Vargas\n",
    "    return texto\n",
    "\n",
    "def limpa_stopwords(texto):\n",
    "    for expression in ignore_expressions:\n",
    "        texto = texto.replace(expression.lower(),'') #retira as expressoes\n",
    "    lista = [w.strip(string.punctuation) for w in texto.split() if w.strip(string.punctuation) not in ignore_words] #retira stopw.\n",
    "    texto = u' '.join(lista)\n",
    "    return texto, lista"
   ]
  },
  {
   "cell_type": "code",
   "execution_count": 19,
   "metadata": {
    "collapsed": false
   },
   "outputs": [],
   "source": [
    "#list_cleaned_words = limpa_stopwords(raw_texts)\n",
    "#teste\n",
    "raw_texts = corrige_distorcoes(raw_texts)\n",
    "cleaned_texts, list_cleaned_words = limpa_stopwords(raw_texts)"
   ]
  },
  {
   "cell_type": "code",
   "execution_count": 20,
   "metadata": {
    "collapsed": false
   },
   "outputs": [
    {
     "name": "stdout",
     "output_type": "stream",
     "text": [
      "['l', '»', \"5_qqq._s.4'5\", 'qupn', '', \"jl'|.x7_v)«x\", '', 'qm', 'lux', '', \"i'í\", 'nzuvs', '»,v', '»', \"c.n';:.:«_'-x\", 'uw', '—', 'brsili', '', 'df', 'yis', 'n', '274/74', '15', 'gst', '1974', 'senhr', 'ministr', 'tenh', 'hnr', 'dirigir-me', 'vss', 'excelênci', 'reg', 'peit', 'd', 'infrmçã', 'n', 'lbl-secret', '29', 'julh', '1974,deg', 'ministéri', 'ssunt', 'cntid', 'n', 'referid', 'dcument', 'vers', 'sbre', 'cperçã', 'n', 'cmp', 'industril', 'ds', 'tividdes', 'ligds', 'prº', 'veitment', 'd', 'energi', 'nucler', 'brsil', 'repúblic', 'fe—', 'derl', 'd', 'lemnh', 'deu', 'rigem', 'ã', 'expsiçã', 'mtivs', 'n', '055/74', '13', 'gst', '1974', 'dest', 'secretri—gerl', 'n', 'qul', 'excelentíssim', 'senhr', 'presidente', 'd', 'repúblic', 'deu', 'seguinte', 'desp—', 'ch', '', '', 'prv', '13', 'g', '74', 'dnd', 'cumpriment', 'ã', 'determinçã', 'presidencil', 'pss', 's', 'mãs', 'vss', 'excelênci', 'cõpi', 'd', 'citd', 'expsiçã', 'mtivs', '', 'prveit', 'prtunidde', 'pr', 'renvr', 'vss', 'exce—', 'lênci', 's', 'prtests', 'elevd', 'estim', 'distint', 'cnsiderçã', '', 'j', 'en', '—d', 'çecre', '', 'i—ger', '1', 'd', 'cnselh', 'segurnç', 'ncinl', 'su', 'excelênci', 'embixdr', 'ntni', 'frncisc', 'zered', 'd', 'silveir', 'dd', 'ministr', 'ds', 'relções', 'exterires', 'h', '', 'm', 'cfm-08.15', 'ww', 'brsíli', '—', 'df', '', '13', 'gst', '1974', 'expsiçã', 'mtivs', 'n', '055/74', 'áq/â', 'f', '7524', '', '', 'excelentíssim', 'senhr', 'presidente', 'd', 'repúblic', 'tenh', 'hnr', 'dirigir—me', 'vss', 'excelênci', 'reg', 'peit', 'd', 'infrmçã', '11', '0181-secret', '29', 'julh', '1974', 'd', 'ministéri', 'ds', 'relções', 'exterires', 'vers', 'sbre', 'cperçãc»', 'n']\n"
     ]
    }
   ],
   "source": [
    "print(list_cleaned_words[0:200])"
   ]
  },
  {
   "cell_type": "code",
   "execution_count": 23,
   "metadata": {
    "collapsed": false
   },
   "outputs": [
    {
     "data": {
      "text/html": [
       "<div>\n",
       "<table border=\"1\" class=\"dataframe\">\n",
       "  <thead>\n",
       "    <tr style=\"text-align: right;\">\n",
       "      <th></th>\n",
       "      <th>Frequência</th>\n",
       "    </tr>\n",
       "    <tr>\n",
       "      <th>Tokens</th>\n",
       "      <th></th>\n",
       "    </tr>\n",
       "  </thead>\n",
       "  <tbody>\n",
       "    <tr>\n",
       "      <th></th>\n",
       "      <td>166</td>\n",
       "    </tr>\n",
       "    <tr>\n",
       "      <th>d</th>\n",
       "      <td>137</td>\n",
       "    </tr>\n",
       "    <tr>\n",
       "      <th>n</th>\n",
       "      <td>59</td>\n",
       "    </tr>\n",
       "    <tr>\n",
       "      <th>s</th>\n",
       "      <td>55</td>\n",
       "    </tr>\n",
       "    <tr>\n",
       "      <th>pr</th>\n",
       "      <td>43</td>\n",
       "    </tr>\n",
       "    <tr>\n",
       "      <th>cm</th>\n",
       "      <td>41</td>\n",
       "    </tr>\n",
       "    <tr>\n",
       "      <th>ds</th>\n",
       "      <td>32</td>\n",
       "    </tr>\n",
       "    <tr>\n",
       "      <th>—</th>\n",
       "      <td>26</td>\n",
       "    </tr>\n",
       "    <tr>\n",
       "      <th>energi</th>\n",
       "      <td>20</td>\n",
       "    </tr>\n",
       "    <tr>\n",
       "      <th>nucler</th>\n",
       "      <td>19</td>\n",
       "    </tr>\n",
       "    <tr>\n",
       "      <th>gvern</th>\n",
       "      <td>15</td>\n",
       "    </tr>\n",
       "    <tr>\n",
       "      <th>1974</th>\n",
       "      <td>15</td>\n",
       "    </tr>\n",
       "    <tr>\n",
       "      <th>ncinl</th>\n",
       "      <td>13</td>\n",
       "    </tr>\n",
       "    <tr>\n",
       "      <th>ns</th>\n",
       "      <td>13</td>\n",
       "    </tr>\n",
       "    <tr>\n",
       "      <th>mis</th>\n",
       "      <td>13</td>\n",
       "    </tr>\n",
       "    <tr>\n",
       "      <th>dm</th>\n",
       "      <td>10</td>\n",
       "    </tr>\n",
       "    <tr>\n",
       "      <th>cperçã</th>\n",
       "      <td>10</td>\n",
       "    </tr>\n",
       "    <tr>\n",
       "      <th>sbre</th>\n",
       "      <td>10</td>\n",
       "    </tr>\n",
       "    <tr>\n",
       "      <th>ppulçã</th>\n",
       "      <td>9</td>\n",
       "    </tr>\n",
       "    <tr>\n",
       "      <th>pel</th>\n",
       "      <td>9</td>\n",
       "    </tr>\n",
       "    <tr>\n",
       "      <th>prtid</th>\n",
       "      <td>9</td>\n",
       "    </tr>\n",
       "    <tr>\n",
       "      <th>5</th>\n",
       "      <td>9</td>\n",
       "    </tr>\n",
       "    <tr>\n",
       "      <th>brsil</th>\n",
       "      <td>9</td>\n",
       "    </tr>\n",
       "    <tr>\n",
       "      <th>federl</th>\n",
       "      <td>9</td>\n",
       "    </tr>\n",
       "    <tr>\n",
       "      <th>repúblic</th>\n",
       "      <td>9</td>\n",
       "    </tr>\n",
       "    <tr>\n",
       "      <th>chnceler</th>\n",
       "      <td>8</td>\n",
       "    </tr>\n",
       "    <tr>\n",
       "      <th>mtivs</th>\n",
       "      <td>8</td>\n",
       "    </tr>\n",
       "    <tr>\n",
       "      <th>expsiçã</th>\n",
       "      <td>8</td>\n",
       "    </tr>\n",
       "    <tr>\n",
       "      <th>bilhões</th>\n",
       "      <td>8</td>\n",
       "    </tr>\n",
       "    <tr>\n",
       "      <th>us</th>\n",
       "      <td>7</td>\n",
       "    </tr>\n",
       "    <tr>\n",
       "      <th>estds</th>\n",
       "      <td>7</td>\n",
       "    </tr>\n",
       "    <tr>\n",
       "      <th>i</th>\n",
       "      <td>7</td>\n",
       "    </tr>\n",
       "    <tr>\n",
       "      <th>u</th>\n",
       "      <td>7</td>\n",
       "    </tr>\n",
       "    <tr>\n",
       "      <th>milhões</th>\n",
       "      <td>7</td>\n",
       "    </tr>\n",
       "    <tr>\n",
       "      <th>usins</th>\n",
       "      <td>7</td>\n",
       "    </tr>\n",
       "    <tr>\n",
       "      <th>m</th>\n",
       "      <td>7</td>\n",
       "    </tr>\n",
       "    <tr>\n",
       "      <th>é</th>\n",
       "      <td>6</td>\n",
       "    </tr>\n",
       "    <tr>\n",
       "      <th>l</th>\n",
       "      <td>6</td>\n",
       "    </tr>\n",
       "    <tr>\n",
       "      <th>frm</th>\n",
       "      <td>6</td>\n",
       "    </tr>\n",
       "    <tr>\n",
       "      <th>estd</th>\n",
       "      <td>6</td>\n",
       "    </tr>\n",
       "  </tbody>\n",
       "</table>\n",
       "</div>"
      ],
      "text/plain": [
       "          Frequência\n",
       "Tokens              \n",
       "                 166\n",
       "d                137\n",
       "n                 59\n",
       "s                 55\n",
       "pr                43\n",
       "cm                41\n",
       "ds                32\n",
       "—                 26\n",
       "energi            20\n",
       "nucler            19\n",
       "gvern             15\n",
       "1974              15\n",
       "ncinl             13\n",
       "ns                13\n",
       "mis               13\n",
       "dm                10\n",
       "cperçã            10\n",
       "sbre              10\n",
       "ppulçã             9\n",
       "pel                9\n",
       "prtid              9\n",
       "5                  9\n",
       "brsil              9\n",
       "federl             9\n",
       "repúblic           9\n",
       "chnceler           8\n",
       "mtivs              8\n",
       "expsiçã            8\n",
       "bilhões            8\n",
       "us                 7\n",
       "estds              7\n",
       "i                  7\n",
       "u                  7\n",
       "milhões            7\n",
       "usins              7\n",
       "m                  7\n",
       "é                  6\n",
       "l                  6\n",
       "frm                6\n",
       "estd               6"
      ]
     },
     "execution_count": 23,
     "metadata": {},
     "output_type": "execute_result"
    }
   ],
   "source": [
    "freq_words = Counter(list_cleaned_words)\n",
    "series_freq_words = pd.Series(data=freq_words, index=freq_words.keys())\n",
    "#df_freq_words = pd.DataFrame(series_freq_words, columns = ['Frequência'], index=freq_words.keys())\n",
    "df_freq_words = pd.DataFrame(series_freq_words, columns = ['Frequência'])\n",
    "df_freq_words = df_freq_words.sort_values(by='Frequência', ascending=False)\n",
    "df_freq_words.index.name = 'Tokens'\n",
    "df_freq_words[0:40]"
   ]
  },
  {
   "cell_type": "code",
   "execution_count": null,
   "metadata": {
    "collapsed": false
   },
   "outputs": [],
   "source": []
  },
  {
   "cell_type": "code",
   "execution_count": 25,
   "metadata": {
    "collapsed": false
   },
   "outputs": [
    {
     "name": "stdout",
     "output_type": "stream",
     "text": [
      "Foram polarizadas 23 palavras de um total de 1441 (1.60%)\n",
      "A polaridade mensurada do texto é de -0.0323\n"
     ]
    }
   ],
   "source": [
    "polariza_counter(freq_words, df_o);"
   ]
  },
  {
   "cell_type": "code",
   "execution_count": 26,
   "metadata": {
    "collapsed": false
   },
   "outputs": [],
   "source": [
    "def print_vk(lst):\n",
    "    \"\"\"Print a list of value/key pairs nicely formatted in key/value order.\"\"\"\n",
    "\n",
    "    # Find the longest key: remember, the list has value/key pairs, so the key\n",
    "    # is element [1], not [0]\n",
    "    longest_key = max([len(word) for word, count in lst])\n",
    "    # Make a format string out of it\n",
    "    fmt = '%'+str(longest_key)+'s -> %s'\n",
    "    # Do actual printing\n",
    "    for k,v in lst:\n",
    "        print (fmt % (k,v))\n",
    "    print('\\n')"
   ]
  },
  {
   "cell_type": "code",
   "execution_count": 27,
   "metadata": {
    "collapsed": true
   },
   "outputs": [],
   "source": [
    "def plot_word_histogram(freqs, show=10, title=None):\n",
    "    \"\"\"Plot a histogram of word frequencies, limited to the top <show> ones.\n",
    "    \"\"\"\n",
    "    sorted_f = sort_freqs(freqs) if isinstance(freqs, dict) else freqs\n",
    "\n",
    "    # Don't show the tail\n",
    "    if isinstance(show, int):\n",
    "        # interpret as number of words to show in histogram\n",
    "        show_f = sorted_f[-show:]\n",
    "    else:\n",
    "        # interpret as a fraction\n",
    "        start = -int(round(show*len(freqs)))\n",
    "        show_f = sorted_f[start:]\n",
    "\n",
    "    # Now, extract words and counts, plot\n",
    "    n_words = len(show_f)\n",
    "    ind = np.arange(n_words)\n",
    "    words = [i[0] for i in show_f]\n",
    "    counts = [i[1] for i in show_f]\n",
    "\n",
    "    fig = plt.figure(figsize=(8,8))\n",
    "    ax = fig.add_subplot(111)\n",
    "\n",
    "    if n_words<=20:\n",
    "        # Only show bars and x labels for small histograms, they don't make\n",
    "        # sense otherwise\n",
    "        ax.bar(ind, counts)\n",
    "        ax.set_xticks(ind)\n",
    "        ax.set_xticklabels(words, rotation=45)\n",
    "        fig.subplots_adjust(bottom=0.25)\n",
    "    else:\n",
    "        # For larger ones, do a step plot\n",
    "        ax.step(ind, counts)\n",
    "\n",
    "    # If it spans more than two decades, use a log scale\n",
    "    if float(max(counts))/min(counts) > 100:\n",
    "        ax.set_yscale('log')\n",
    "\n",
    "    if title:\n",
    "        ax.set_title(title)\n",
    "    return ax"
   ]
  },
  {
   "cell_type": "code",
   "execution_count": 62,
   "metadata": {
    "collapsed": false
   },
   "outputs": [
    {
     "name": "stdout",
     "output_type": "stream",
     "text": [
      "Number of unique words: 1441\n",
      "       -> 166\n",
      "     d -> 137\n",
      "     n -> 59\n",
      "     s -> 55\n",
      "    pr -> 43\n",
      "    cm -> 41\n",
      "    ds -> 32\n",
      "     — -> 26\n",
      "energi -> 20\n",
      "\n",
      "\n"
     ]
    }
   ],
   "source": [
    "number_words=15      \n",
    "w_items = freq_words.items()\n",
    "w_items = list(w_items)\n",
    "w_items.sort(key = lambda wc: wc[1])\n",
    "print ('Number of unique words:',len(w_items))\n",
    "#print('{} least frequent words:').format(number_words)\n",
    "#print_vk(w_items[:10])\n",
    "#print('{} most frequent words:').format(number_words)\n",
    "print_vk(w_items[:-10:-1])\n",
    "plot_word_histogram(w_items, number_words,'Frequencies for {} most frequent words'.format(number_words));"
   ]
  },
  {
   "cell_type": "code",
   "execution_count": 129,
   "metadata": {
    "collapsed": true
   },
   "outputs": [],
   "source": [
    "def all_pairs(items):\n",
    "    \"\"\"Make all unique pairs (order doesn't matter)\"\"\"\n",
    "    pairs = []\n",
    "    nitems = len(items)\n",
    "    for i, wi in enumerate(items):\n",
    "        for j in range(i+1, nitems):\n",
    "            pairs.append((wi, items[j]))\n",
    "    return pairs\n",
    "\n",
    "def co_occurrences(lines, words):\n",
    "    \"\"\"Return histogram of co-occurrences of words in a list of lines.\n",
    "\n",
    "    Parameters\n",
    "    ----------\n",
    "    lines : list\n",
    "      A list of strings considered as 'sentences' to search for co-occurrences.\n",
    "\n",
    "    words : list\n",
    "      A list of words from which all unordered pairs will be constructed and\n",
    "      searched for co-occurrences.\n",
    "    \"\"\"\n",
    "    wpairs = all_pairs(words)\n",
    "\n",
    "    # Now build histogram of co-occurrences\n",
    "    co_occur = {}\n",
    "    for w1, w2 in wpairs:\n",
    "        rx = re.compile('%s .*%s|%s .*%s' % (w1, w2, w2, w1))\n",
    "        co_occur[w1, w2] = sum([1 for line in lines if rx.search(line)])\n",
    "\n",
    "    return co_occur\n",
    "\n",
    "def co_occurrences_graph(word_hist, co_occur, cutoff=0):\n",
    "    \"\"\"Convert a word histogram with co-occurrences to a weighted graph.\n",
    "    Edges are only added if the count is above cutoff.\n",
    "    \"\"\"\n",
    "    g = nx.Graph()\n",
    "    for word, count in word_hist:\n",
    "        g.add_node(word, count=count)\n",
    "    for (w1, w2), count in co_occur.items():\n",
    "        if count<=cutoff:\n",
    "            continue\n",
    "        g.add_edge(w1, w2, weight=count)\n",
    "    return g"
   ]
  },
  {
   "cell_type": "code",
   "execution_count": 63,
   "metadata": {
    "collapsed": false
   },
   "outputs": [
    {
     "ename": "NameError",
     "evalue": "name 'co_occurrences' is not defined",
     "output_type": "error",
     "traceback": [
      "\u001b[0;31m---------------------------------------------------------------------------\u001b[0m",
      "\u001b[0;31mNameError\u001b[0m                                 Traceback (most recent call last)",
      "\u001b[0;32m<ipython-input-63-1acafee9fc94>\u001b[0m in \u001b[0;36m<module>\u001b[0;34m()\u001b[0m\n\u001b[1;32m      2\u001b[0m \u001b[0mpopular\u001b[0m \u001b[1;33m=\u001b[0m \u001b[0mw_items\u001b[0m\u001b[1;33m[\u001b[0m\u001b[1;33m-\u001b[0m\u001b[0mn_nodes\u001b[0m\u001b[1;33m:\u001b[0m\u001b[1;33m]\u001b[0m\u001b[1;33m\u001b[0m\u001b[0m\n\u001b[1;32m      3\u001b[0m \u001b[0mpop_words\u001b[0m \u001b[1;33m=\u001b[0m \u001b[1;33m[\u001b[0m\u001b[0mwc\u001b[0m\u001b[1;33m[\u001b[0m\u001b[1;36m0\u001b[0m\u001b[1;33m]\u001b[0m \u001b[1;32mfor\u001b[0m \u001b[0mwc\u001b[0m \u001b[1;32min\u001b[0m \u001b[0mpopular\u001b[0m\u001b[1;33m]\u001b[0m\u001b[1;33m\u001b[0m\u001b[0m\n\u001b[0;32m----> 4\u001b[0;31m \u001b[0mco_occur\u001b[0m \u001b[1;33m=\u001b[0m \u001b[0mco_occurrences\u001b[0m\u001b[1;33m(\u001b[0m\u001b[0mlist_raw_texts\u001b[0m\u001b[1;33m,\u001b[0m \u001b[0mpop_words\u001b[0m\u001b[1;33m)\u001b[0m\u001b[1;33m\u001b[0m\u001b[0m\n\u001b[0m\u001b[1;32m      5\u001b[0m \u001b[0mwgraph\u001b[0m \u001b[1;33m=\u001b[0m \u001b[0mco_occurrences_graph\u001b[0m\u001b[1;33m(\u001b[0m\u001b[0mpopular\u001b[0m\u001b[1;33m,\u001b[0m \u001b[0mco_occur\u001b[0m\u001b[1;33m,\u001b[0m \u001b[0mcutoff\u001b[0m\u001b[1;33m=\u001b[0m\u001b[1;36m1\u001b[0m\u001b[1;33m)\u001b[0m\u001b[1;33m\u001b[0m\u001b[0m\n\u001b[1;32m      6\u001b[0m \u001b[0mwsubgraph\u001b[0m \u001b[1;33m=\u001b[0m \u001b[0mlist\u001b[0m\u001b[1;33m(\u001b[0m\u001b[0mnx\u001b[0m\u001b[1;33m.\u001b[0m\u001b[0mconnected_component_subgraphs\u001b[0m\u001b[1;33m(\u001b[0m\u001b[0mwgraph\u001b[0m\u001b[1;33m)\u001b[0m\u001b[1;33m)\u001b[0m\u001b[1;33m[\u001b[0m\u001b[1;36m1\u001b[0m\u001b[1;33m]\u001b[0m \u001b[1;31m#we have to choose the biggest con. comp.\u001b[0m\u001b[1;33m\u001b[0m\u001b[0m\n",
      "\u001b[0;31mNameError\u001b[0m: name 'co_occurrences' is not defined"
     ]
    }
   ],
   "source": [
    "n_nodes = 15\n",
    "popular = w_items[-n_nodes:]\n",
    "pop_words = [wc[0] for wc in popular]\n",
    "co_occur = co_occurrences(list_raw_texts, pop_words)\n",
    "wgraph = co_occurrences_graph(popular, co_occur, cutoff=1)\n",
    "wsubgraph = list(nx.connected_component_subgraphs(wgraph))[1] #we have to choose the biggest con. comp.\n",
    "centrality = nx.eigenvector_centrality_numpy(wsubgraph)\n",
    "c = centrality.items()\n",
    "c.sort(key=lambda x:x[1], reverse=True)\n",
    "print ('\\nGraph centrality')\n",
    "for node, cent in c:\n",
    "    print (\"%15s: %.3g\" % (node, float(cent)))"
   ]
  },
  {
   "cell_type": "code",
   "execution_count": 131,
   "metadata": {
    "collapsed": false
   },
   "outputs": [
    {
     "ename": "NameError",
     "evalue": "name 'make_wordcloud' is not defined",
     "output_type": "error",
     "traceback": [
      "\u001b[0;31m---------------------------------------------------------------------------\u001b[0m",
      "\u001b[0;31mNameError\u001b[0m                                 Traceback (most recent call last)",
      "\u001b[0;32m<ipython-input-131-b1f3b11ec199>\u001b[0m in \u001b[0;36m<module>\u001b[0;34m()\u001b[0m\n\u001b[1;32m      2\u001b[0m \u001b[0mwords\u001b[0m \u001b[1;33m=\u001b[0m \u001b[0mnp\u001b[0m\u001b[1;33m.\u001b[0m\u001b[0marray\u001b[0m\u001b[1;33m(\u001b[0m\u001b[0mfreq_words\u001b[0m\u001b[1;33m.\u001b[0m\u001b[0mkeys\u001b[0m\u001b[1;33m(\u001b[0m\u001b[1;33m)\u001b[0m\u001b[1;33m)\u001b[0m\u001b[1;33m\u001b[0m\u001b[0m\n\u001b[1;32m      3\u001b[0m \u001b[1;31m#count = count.astype(int)\u001b[0m\u001b[1;33m\u001b[0m\u001b[1;33m\u001b[0m\u001b[0m\n\u001b[0;32m----> 4\u001b[0;31m \u001b[0mmake_wordcloud\u001b[0m\u001b[1;33m(\u001b[0m\u001b[0mwords\u001b[0m\u001b[1;33m,\u001b[0m \u001b[0mcount\u001b[0m\u001b[1;33m,\u001b[0m \u001b[1;34m'test.png'\u001b[0m\u001b[1;33m)\u001b[0m\u001b[1;33m\u001b[0m\u001b[0m\n\u001b[0m\u001b[1;32m      5\u001b[0m \u001b[0mImage\u001b[0m\u001b[1;33m(\u001b[0m\u001b[0mfilename\u001b[0m\u001b[1;33m=\u001b[0m\u001b[1;34m'test.png'\u001b[0m\u001b[1;33m,\u001b[0m \u001b[0mwidth\u001b[0m\u001b[1;33m=\u001b[0m\u001b[1;36m640\u001b[0m\u001b[1;33m,\u001b[0m \u001b[0mheight\u001b[0m\u001b[1;33m=\u001b[0m\u001b[1;36m480\u001b[0m\u001b[1;33m)\u001b[0m\u001b[1;33m\u001b[0m\u001b[0m\n",
      "\u001b[0;31mNameError\u001b[0m: name 'make_wordcloud' is not defined"
     ]
    }
   ],
   "source": [
    "count = np.array(freq_words.values())\n",
    "words = np.array(freq_words.keys())\n",
    "#count = count.astype(int)\n",
    "make_wordcloud(words, count, 'test.png')\n",
    "Image(filename='test.png', width=640, height=480)"
   ]
  },
  {
   "cell_type": "code",
   "execution_count": 132,
   "metadata": {
    "collapsed": false
   },
   "outputs": [
    {
     "name": "stdout",
     "output_type": "stream",
     "text": [
      "<class 'numpy.ndarray'>\n"
     ]
    }
   ],
   "source": [
    "print(type(count))"
   ]
  },
  {
   "cell_type": "code",
   "execution_count": 133,
   "metadata": {
    "collapsed": false
   },
   "outputs": [
    {
     "ename": "IndexError",
     "evalue": "too many indices for array",
     "output_type": "error",
     "traceback": [
      "\u001b[0;31m---------------------------------------------------------------------------\u001b[0m",
      "\u001b[0;31mIndexError\u001b[0m                                Traceback (most recent call last)",
      "\u001b[0;32m<ipython-input-133-4619234562dd>\u001b[0m in \u001b[0;36m<module>\u001b[0;34m()\u001b[0m\n\u001b[0;32m----> 1\u001b[0;31m \u001b[0mprint\u001b[0m\u001b[1;33m(\u001b[0m\u001b[0mtype\u001b[0m\u001b[1;33m(\u001b[0m\u001b[0mcount\u001b[0m\u001b[1;33m[\u001b[0m\u001b[1;36m0\u001b[0m\u001b[1;33m]\u001b[0m\u001b[1;33m)\u001b[0m\u001b[1;33m)\u001b[0m\u001b[1;33m\u001b[0m\u001b[0m\n\u001b[0m",
      "\u001b[0;31mIndexError\u001b[0m: too many indices for array"
     ]
    }
   ],
   "source": [
    "print(type(count[0]))"
   ]
  },
  {
   "cell_type": "code",
   "execution_count": 64,
   "metadata": {
    "collapsed": true
   },
   "outputs": [],
   "source": [
    "def all_pairs(items):\n",
    "    \"\"\"Make all unique pairs (order doesn't matter)\"\"\"\n",
    "    pairs = []\n",
    "    nitems = len(items)\n",
    "    for i, wi in enumerate(items):\n",
    "        for j in range(i+1, nitems):\n",
    "            pairs.append((wi, items[j]))\n",
    "    return pairs\n",
    "\n",
    "def co_occurrences(lines, words):\n",
    "    \"\"\"Return histogram of co-occurrences of words in a list of lines.\n",
    "\n",
    "    Parameters\n",
    "    ----------\n",
    "    lines : list\n",
    "      A list of strings considered as 'sentences' to search for co-occurrences.\n",
    "\n",
    "    words : list\n",
    "      A list of words from which all unordered pairs will be constructed and\n",
    "      searched for co-occurrences.\n",
    "    \"\"\"\n",
    "    wpairs = all_pairs(words)\n",
    "\n",
    "    # Now build histogram of co-occurrences\n",
    "    co_occur = {}\n",
    "    for w1, w2 in wpairs:\n",
    "        rx = re.compile('%s .*%s|%s .*%s' % (w1, w2, w2, w1))\n",
    "        co_occur[w1, w2] = sum([1 for line in lines if rx.search(line)])\n",
    "\n",
    "    return co_occur\n",
    "\n",
    "def co_occurrences_graph(word_hist, co_occur, cutoff=0):\n",
    "    \"\"\"Convert a word histogram with co-occurrences to a weighted graph.\n",
    "    Edges are only added if the count is above cutoff.\n",
    "    \"\"\"\n",
    "    g = nx.Graph()\n",
    "    for word, count in word_hist:\n",
    "        g.add_node(word, count=count)\n",
    "    for (w1, w2), count in co_occur.items():\n",
    "        if count<=cutoff:\n",
    "            continue\n",
    "        g.add_edge(w1, w2, weight=count)\n",
    "    return g"
   ]
  },
  {
   "cell_type": "code",
   "execution_count": 65,
   "metadata": {
    "collapsed": false
   },
   "outputs": [
    {
     "ename": "ValueError",
     "evalue": "k=1 must be between 1 and ndim(A)-1=0",
     "output_type": "error",
     "traceback": [
      "\u001b[0;31m---------------------------------------------------------------------------\u001b[0m",
      "\u001b[0;31mValueError\u001b[0m                                Traceback (most recent call last)",
      "\u001b[0;32m<ipython-input-65-1acafee9fc94>\u001b[0m in \u001b[0;36m<module>\u001b[0;34m()\u001b[0m\n\u001b[1;32m      5\u001b[0m \u001b[0mwgraph\u001b[0m \u001b[1;33m=\u001b[0m \u001b[0mco_occurrences_graph\u001b[0m\u001b[1;33m(\u001b[0m\u001b[0mpopular\u001b[0m\u001b[1;33m,\u001b[0m \u001b[0mco_occur\u001b[0m\u001b[1;33m,\u001b[0m \u001b[0mcutoff\u001b[0m\u001b[1;33m=\u001b[0m\u001b[1;36m1\u001b[0m\u001b[1;33m)\u001b[0m\u001b[1;33m\u001b[0m\u001b[0m\n\u001b[1;32m      6\u001b[0m \u001b[0mwsubgraph\u001b[0m \u001b[1;33m=\u001b[0m \u001b[0mlist\u001b[0m\u001b[1;33m(\u001b[0m\u001b[0mnx\u001b[0m\u001b[1;33m.\u001b[0m\u001b[0mconnected_component_subgraphs\u001b[0m\u001b[1;33m(\u001b[0m\u001b[0mwgraph\u001b[0m\u001b[1;33m)\u001b[0m\u001b[1;33m)\u001b[0m\u001b[1;33m[\u001b[0m\u001b[1;36m1\u001b[0m\u001b[1;33m]\u001b[0m \u001b[1;31m#we have to choose the biggest con. comp.\u001b[0m\u001b[1;33m\u001b[0m\u001b[0m\n\u001b[0;32m----> 7\u001b[0;31m \u001b[0mcentrality\u001b[0m \u001b[1;33m=\u001b[0m \u001b[0mnx\u001b[0m\u001b[1;33m.\u001b[0m\u001b[0meigenvector_centrality_numpy\u001b[0m\u001b[1;33m(\u001b[0m\u001b[0mwsubgraph\u001b[0m\u001b[1;33m)\u001b[0m\u001b[1;33m\u001b[0m\u001b[0m\n\u001b[0m\u001b[1;32m      8\u001b[0m \u001b[0mc\u001b[0m \u001b[1;33m=\u001b[0m \u001b[0mcentrality\u001b[0m\u001b[1;33m.\u001b[0m\u001b[0mitems\u001b[0m\u001b[1;33m(\u001b[0m\u001b[1;33m)\u001b[0m\u001b[1;33m\u001b[0m\u001b[0m\n\u001b[1;32m      9\u001b[0m \u001b[0mc\u001b[0m\u001b[1;33m.\u001b[0m\u001b[0msort\u001b[0m\u001b[1;33m(\u001b[0m\u001b[0mkey\u001b[0m\u001b[1;33m=\u001b[0m\u001b[1;32mlambda\u001b[0m \u001b[0mx\u001b[0m\u001b[1;33m:\u001b[0m\u001b[0mx\u001b[0m\u001b[1;33m[\u001b[0m\u001b[1;36m1\u001b[0m\u001b[1;33m]\u001b[0m\u001b[1;33m,\u001b[0m \u001b[0mreverse\u001b[0m\u001b[1;33m=\u001b[0m\u001b[1;32mTrue\u001b[0m\u001b[1;33m)\u001b[0m\u001b[1;33m\u001b[0m\u001b[0m\n",
      "\u001b[0;32mC:\\Anaconda3\\lib\\site-packages\\networkx\\algorithms\\centrality\\eigenvector.py\u001b[0m in \u001b[0;36meigenvector_centrality_numpy\u001b[0;34m(G, weight)\u001b[0m\n\u001b[1;32m    203\u001b[0m     M = nx.to_scipy_sparse_matrix(G, nodelist=G.nodes(), weight=weight,\n\u001b[1;32m    204\u001b[0m                                   dtype=float)\n\u001b[0;32m--> 205\u001b[0;31m     \u001b[0meigenvalue\u001b[0m\u001b[1;33m,\u001b[0m \u001b[0meigenvector\u001b[0m \u001b[1;33m=\u001b[0m \u001b[0mlinalg\u001b[0m\u001b[1;33m.\u001b[0m\u001b[0meigs\u001b[0m\u001b[1;33m(\u001b[0m\u001b[0mM\u001b[0m\u001b[1;33m.\u001b[0m\u001b[0mT\u001b[0m\u001b[1;33m,\u001b[0m \u001b[0mk\u001b[0m\u001b[1;33m=\u001b[0m\u001b[1;36m1\u001b[0m\u001b[1;33m,\u001b[0m \u001b[0mwhich\u001b[0m\u001b[1;33m=\u001b[0m\u001b[1;34m'LR'\u001b[0m\u001b[1;33m)\u001b[0m\u001b[1;33m\u001b[0m\u001b[0m\n\u001b[0m\u001b[1;32m    206\u001b[0m     \u001b[0mlargest\u001b[0m \u001b[1;33m=\u001b[0m \u001b[0meigenvector\u001b[0m\u001b[1;33m.\u001b[0m\u001b[0mflatten\u001b[0m\u001b[1;33m(\u001b[0m\u001b[1;33m)\u001b[0m\u001b[1;33m.\u001b[0m\u001b[0mreal\u001b[0m\u001b[1;33m\u001b[0m\u001b[0m\n\u001b[1;32m    207\u001b[0m     \u001b[0mnorm\u001b[0m \u001b[1;33m=\u001b[0m \u001b[0msp\u001b[0m\u001b[1;33m.\u001b[0m\u001b[0msign\u001b[0m\u001b[1;33m(\u001b[0m\u001b[0mlargest\u001b[0m\u001b[1;33m.\u001b[0m\u001b[0msum\u001b[0m\u001b[1;33m(\u001b[0m\u001b[1;33m)\u001b[0m\u001b[1;33m)\u001b[0m\u001b[1;33m*\u001b[0m\u001b[0msp\u001b[0m\u001b[1;33m.\u001b[0m\u001b[0mlinalg\u001b[0m\u001b[1;33m.\u001b[0m\u001b[0mnorm\u001b[0m\u001b[1;33m(\u001b[0m\u001b[0mlargest\u001b[0m\u001b[1;33m)\u001b[0m\u001b[1;33m\u001b[0m\u001b[0m\n",
      "\u001b[0;32mC:\\Anaconda3\\lib\\site-packages\\scipy\\sparse\\linalg\\eigen\\arpack\\arpack.py\u001b[0m in \u001b[0;36meigs\u001b[0;34m(A, k, M, sigma, which, v0, ncv, maxiter, tol, return_eigenvectors, Minv, OPinv, OPpart)\u001b[0m\n\u001b[1;32m   1236\u001b[0m     \u001b[1;32mif\u001b[0m \u001b[0mk\u001b[0m \u001b[1;33m<=\u001b[0m \u001b[1;36m0\u001b[0m \u001b[1;32mor\u001b[0m \u001b[0mk\u001b[0m \u001b[1;33m>=\u001b[0m \u001b[0mn\u001b[0m\u001b[1;33m:\u001b[0m\u001b[1;33m\u001b[0m\u001b[0m\n\u001b[1;32m   1237\u001b[0m         raise ValueError(\"k=%d must be between 1 and ndim(A)-1=%d\"\n\u001b[0;32m-> 1238\u001b[0;31m                          % (k, n - 1))\n\u001b[0m\u001b[1;32m   1239\u001b[0m \u001b[1;33m\u001b[0m\u001b[0m\n\u001b[1;32m   1240\u001b[0m     \u001b[1;32mif\u001b[0m \u001b[0msigma\u001b[0m \u001b[1;32mis\u001b[0m \u001b[1;32mNone\u001b[0m\u001b[1;33m:\u001b[0m\u001b[1;33m\u001b[0m\u001b[0m\n",
      "\u001b[0;31mValueError\u001b[0m: k=1 must be between 1 and ndim(A)-1=0"
     ]
    }
   ],
   "source": [
    "n_nodes = 15\n",
    "popular = w_items[-n_nodes:]\n",
    "pop_words = [wc[0] for wc in popular]\n",
    "co_occur = co_occurrences(list_raw_texts, pop_words)\n",
    "wgraph = co_occurrences_graph(popular, co_occur, cutoff=1)\n",
    "wsubgraph = list(nx.connected_component_subgraphs(wgraph))[1] #we have to choose the biggest con. comp.\n",
    "centrality = nx.eigenvector_centrality_numpy(wsubgraph)\n",
    "c = centrality.items()\n",
    "c.sort(key=lambda x:x[1], reverse=True)\n",
    "print ('\\nGraph centrality')\n",
    "for node, cent in c:\n",
    "    print (\"%15s: %.3g\" % (node, float(cent)))"
   ]
  },
  {
   "cell_type": "code",
   "execution_count": 59,
   "metadata": {
    "collapsed": true
   },
   "outputs": [],
   "source": [
    "rad0 = 0.2\n",
    "def rescale_arr(arr, amin, amax):\n",
    "    \"\"\"Rescale an array to a new range.\n",
    "    Return a new array whose range of values is (amin, amax).\n",
    "    Parameters\n",
    "    ----------\n",
    "    arr : array-like\n",
    "    amin : float\n",
    "      new minimum value\n",
    "    amax : float\n",
    "      new maximum value\n",
    "\n",
    "    Examples\n",
    "    --------\n",
    "    >>> a = np.arange(5)\n",
    "    >>> rescale_arr(a,3,6)\n",
    "    array([ 3.  ,  3.75,  4.5 ,  5.25,  6.  ])\n",
    "    \"\"\"\n",
    "    # old bounds\n",
    "    m = arr.min()\n",
    "    M = arr.max()\n",
    "    # scale/offset\n",
    "    s = float(amax-amin)/(M-m)\n",
    "    d = amin - s*m\n",
    "\n",
    "    # Apply clip before returning to cut off possible overflows outside the\n",
    "    # intended range due to roundoff error, so that we can absolutely guarantee\n",
    "    # that on output, there are no values > amax or < amin.\n",
    "    return np.clip(s*arr+d,amin,amax)\n",
    "\n",
    "def plot_graph(wgraph, pos=None, fig=None, title=None):\n",
    "    \"\"\"Conveniently summarize graph visually\"\"\"\n",
    "\n",
    "    # config parameters\n",
    "    edge_min_width= 3\n",
    "    edge_max_width= 12\n",
    "    label_font = 16\n",
    "    node_font = 18\n",
    "    node_alpha = 0.4\n",
    "    edge_alpha = 0.55\n",
    "    edge_cmap = plt.cm.Spectral\n",
    "\n",
    "    # Create figure\n",
    "    if fig is None:\n",
    "        fig, ax = plt.subplots()\n",
    "    else:\n",
    "        ax = fig.add_subplot(111)\n",
    "    fig.subplots_adjust(0,0,1)\n",
    "\n",
    "    # Plot nodes with size according to count\n",
    "    sizes = []\n",
    "    degrees = []\n",
    "    for n, d in wgraph.nodes_iter(data=True):\n",
    "        sizes.append(d['count'])\n",
    "        degrees.append(wgraph.degree(n))\n",
    "\n",
    "    sizes = rescale_arr(np.array(sizes, dtype=float), 100, 1000)\n",
    "\n",
    "    # Compute layout and label edges according to weight\n",
    "    pos = nx.spring_layout(wgraph) if pos is None else pos\n",
    "    labels = {}\n",
    "    width = []\n",
    "    for n1, n2, d in wgraph.edges_iter(data=True):\n",
    "        w = d['weight']\n",
    "        labels[n1, n2] = w\n",
    "        width.append(w)\n",
    "\n",
    "    width = rescale_arr(np.array(width, dtype=float), edge_min_width, \n",
    "                        edge_max_width)\n",
    "\n",
    "    # Draw\n",
    "    nx.draw_networkx_nodes(wgraph, pos, node_size=sizes, node_color=degrees,alpha=node_alpha)\n",
    "    nx.draw_networkx_edges(wgraph, pos, width=width, edge_color=width, edge_cmap=edge_cmap, alpha=edge_alpha)\n",
    "    nx.draw_networkx_edge_labels(wgraph, pos, edge_labels=labels,font_size=label_font)\n",
    "    nx.draw_networkx_labels(wgraph, pos, font_size=node_font, font_weight='bold')\n",
    "    if title is not None:\n",
    "        ax.set_title(title, fontsize=label_font)\n",
    "    ax.set_xticks([])\n",
    "    ax.set_yticks([])\n",
    "\n",
    "    # Mark centrality axes\n",
    "    kw = dict(color='k', linestyle='-')\n",
    "    cross = [ax.axhline(0, **kw), ax.axvline(rad0, **kw)]\n",
    "    [ l.set_zorder(0) for l in cross]\n",
    "    \n",
    "def centrality_layout(wgraph, centrality):\n",
    "    \"\"\"Compute a layout based on centrality.\n",
    "    \"\"\"\n",
    "    # Create a list of centralities, sorted by centrality value\n",
    "    cent = sorted(centrality.items(), key=lambda x:float(x[1]), reverse=True)\n",
    "    nodes = [c[0] for c in cent]\n",
    "    cent  = np.array([float(c[1]) for c in cent])\n",
    "    rad = (cent - cent[0])/(cent[-1]-cent[0])\n",
    "    rad = rescale_arr(rad, rad0, 1)\n",
    "    angles = np.linspace(0, 2*np.pi, len(centrality))\n",
    "    layout = {}\n",
    "    for n, node in enumerate(nodes):\n",
    "        r = rad[n]\n",
    "        th = angles[n]\n",
    "        layout[node] = r*np.cos(th), r*np.sin(th)\n",
    "    return layout"
   ]
  },
  {
   "cell_type": "code",
   "execution_count": 60,
   "metadata": {
    "collapsed": false
   },
   "outputs": [
    {
     "name": "stdout",
     "output_type": "stream",
     "text": [
      "Graph visualization for query:\n"
     ]
    },
    {
     "ename": "NameError",
     "evalue": "name 'wsubgraph' is not defined",
     "output_type": "error",
     "traceback": [
      "\u001b[0;31m---------------------------------------------------------------------------\u001b[0m",
      "\u001b[0;31mNameError\u001b[0m                                 Traceback (most recent call last)",
      "\u001b[0;32m<ipython-input-60-f5ad3fdafeed>\u001b[0m in \u001b[0;36m<module>\u001b[0;34m()\u001b[0m\n\u001b[1;32m      1\u001b[0m \u001b[0mprint\u001b[0m \u001b[1;33m(\u001b[0m\u001b[1;34m\"Graph visualization for query:\"\u001b[0m\u001b[1;33m)\u001b[0m\u001b[1;33m\u001b[0m\u001b[0m\n\u001b[0;32m----> 2\u001b[0;31m plot_graph(wsubgraph, centrality_layout(wsubgraph, centrality), \n\u001b[0m\u001b[1;32m      3\u001b[0m            \u001b[0mplt\u001b[0m\u001b[1;33m.\u001b[0m\u001b[0mfigure\u001b[0m\u001b[1;33m(\u001b[0m\u001b[0mfigsize\u001b[0m\u001b[1;33m=\u001b[0m\u001b[1;33m(\u001b[0m\u001b[1;36m12\u001b[0m\u001b[1;33m,\u001b[0m\u001b[1;36m12\u001b[0m\u001b[1;33m)\u001b[0m\u001b[1;33m)\u001b[0m\u001b[1;33m,\u001b[0m\u001b[1;33m\u001b[0m\u001b[0m\n\u001b[1;32m      4\u001b[0m            title = u'Centrality and term co-occurrence graph, q=\"{}\"'.format(query))\n",
      "\u001b[0;31mNameError\u001b[0m: name 'wsubgraph' is not defined"
     ]
    }
   ],
   "source": [
    "print (\"Graph visualization for query:\")\n",
    "plot_graph(wsubgraph, centrality_layout(wsubgraph, centrality), \n",
    "           plt.figure(figsize=(12,12)), \n",
    "           title = u'Centrality and term co-occurrence graph, q=\"{}\"'.format(query))"
   ]
  },
  {
   "cell_type": "markdown",
   "metadata": {},
   "source": [
    "### Inserção na base de dados"
   ]
  },
  {
   "cell_type": "markdown",
   "metadata": {},
   "source": [
    "##### ENTIDADE: PESSOA\n",
    "\n",
    "Alimenta a tabela person_doc, da nossa base no mysql, fazendo interseção de dados da tabela persons com a tabela docs."
   ]
  },
  {
   "cell_type": "code",
   "execution_count": 12,
   "metadata": {
    "collapsed": false
   },
   "outputs": [
    {
     "name": "stdout",
     "output_type": "stream",
     "text": [
      "········\n",
      "········\n",
      "azeredo text_id rb_1974.04.17_doc_I-66\n",
      "azeredo text_id onu_1974.03.12_doc_II-49\n",
      "azeredo text_id onu_1974.03.12_doc_V-2\n",
      "azeredo text_id be_1974.04.16_doc_VI-18\n",
      "azeredo text_id be_1977.06.01_doc_II-21\n",
      "azeredo text_id ag_1974.03.13_doc_III-7\n",
      "azeredo text_id ag_1973.11.20_doc_VI-75\n",
      "azeredo text_id d_1974.04.23_doc_XXXII-8\n",
      "azeredo text_id d_1974.03.26_doc_XXXII-32\n",
      "azeredo text_id d_1974.03.26_doc_XXII-9\n"
     ]
    }
   ],
   "source": [
    "'''''''''''''''''''''''''''''''''''''''''''''''''''''''''''''''''''''''''''''\n",
    "alimenta a a tabela person_doc, da nossa base no mysql.\n",
    "'''''''''''''''''''''''''''''''''''''''''''''''''''''''''''''''''''''''''''''\n",
    "count = 0\n",
    "#percentil = int(len(cursor.rowcount/100)\n",
    "\n",
    "pass_sshkey = getpass.getpass()\n",
    "pass_mysql = getpass.getpass()\n",
    "with SSHTunnelForwarder(('200.20.164.147', 22),\n",
    "                        ssh_private_key = \"C:/Users/marcelo.ribeiro/Dropbox/A-Marcelo/Educação-Trabalho/2016-CPDOC/Remoto/marcelo_priv_rsa\",\n",
    "                        #ssh_private_key = '/home/rsouza/.ssh/id_rsa',\n",
    "                        ssh_private_key_password = pass_sshkey,\n",
    "                        ssh_username=\"marcelobribeiro\",\n",
    "                        #ssh_username=\"rsouza\",\n",
    "                        remote_bind_address=('127.0.0.1', 3306)) as server:\n",
    "    \n",
    "    conn = pymysql.connect(host='localhost', \n",
    "                           port=server.local_bind_port, \n",
    "                           user='marcelobribeiro', \n",
    "                           #user='rsouza',\n",
    "                           passwd=pass_mysql,\n",
    "                           db='CPDOC_AS',\n",
    "                           use_unicode=True, \n",
    "                           charset=\"utf8\")\n",
    "    cur = conn.cursor()\n",
    "    '''''''''''''''''''''''''''''''''''''''''''''''''''''''''''''''''''''''''''''\n",
    "    insere dados na base mysql\n",
    "    captura documentos da tabela docs, transfere para a tabela topic-doc e insere dados de tópicos\n",
    "    '''''''''''''''''''''''''''''''''''''''''''''''''''''''''''''''''''''''''''''\n",
    "    \n",
    "    cur.execute(\"DROP TABLE IF EXISTS person_doc\")\n",
    "    cur.execute('''CREATE TABLE IF NOT EXISTS person_doc \n",
    "               (person_id INT(11), doc_id VARCHAR(31), person_count BIGINT(21)\n",
    "               DEFAULT NULL)\n",
    "               ENGINE=MyISAM DEFAULT CHARSET='utf8';''')\n",
    "\n",
    "    cur.execute(\"SELECT id,body FROM CPDOC_AS.docs\")\n",
    "    data = cur.fetchall()\n",
    "    for row in data:\n",
    "        count += 1 # for break event\n",
    "        if row is None: break\n",
    "        text_id = row[0]\n",
    "        text =  row[1]\n",
    "        #text = text.split()\n",
    "        doc_id = row[0]\n",
    "        for name in names_list_test:\n",
    "            person_id = 1\n",
    "            person_count = text.count(name)\n",
    "            query = \"INSERT INTO person_doc VALUES (%s, %s, %s)\"\n",
    "            cur.execute(query, (person_id, doc_id, person_count))\n",
    "        print(name, 'text_id', text_id)\n",
    "        #print(doc_id, topic_id, topic_score)   \n",
    "        cur.execute(\"ALTER TABLE person_doc ORDER BY doc_id ASC, person_count DESC\")\n",
    "        \n",
    "        if count == 10: break #amostra de apenas 10 linhas"
   ]
  },
  {
   "cell_type": "markdown",
   "metadata": {},
   "source": [
    "##### ENTIDADE: LUGAR (PAÍS)\n",
    "\n",
    "Alimenta a a tabela country_doc, da nossa base no mysql, fazendo interseção de dados da tabela countries com a tabela docs."
   ]
  },
  {
   "cell_type": "raw",
   "metadata": {},
   "source": [
    "'''''''''''''''''''''''''''''''''''''''''''''''''''''''''''''''''''''''''''''\n",
    "alimenta a a tabela person_doc, da nossa base no mysql.\n",
    "'''''''''''''''''''''''''''''''''''''''''''''''''''''''''''''''''''''''''''''\n",
    "count = 0\n",
    "#percentil = int(len(cursor.rowcount/100)\n",
    "\n",
    "pass_sshkey = getpass.getpass()\n",
    "pass_mysql = getpass.getpass()\n",
    "with SSHTunnelForwarder(('200.20.164.147', 22),\n",
    "                        ssh_private_key = \"C:/Users/marcelo.ribeiro/Dropbox/A-Marcelo/Educação-Trabalho/2016-CPDOC/Remoto/marcelo_priv_rsa\",\n",
    "                        #ssh_private_key = '/home/rsouza/.ssh/id_rsa',\n",
    "                        ssh_private_key_password = pass_sshkey,\n",
    "                        ssh_username=\"marcelobribeiro\",\n",
    "                        #ssh_username=\"rsouza\",\n",
    "                        remote_bind_address=('127.0.0.1', 3306)) as server:\n",
    "    \n",
    "    conn = pymysql.connect(host='localhost', \n",
    "                           port=server.local_bind_port, \n",
    "                           user='marcelobribeiro', \n",
    "                           #user='rsouza',\n",
    "                           passwd=pass_mysql,\n",
    "                           db='CPDOC_AS',\n",
    "                           use_unicode=True, \n",
    "                           charset=\"utf8\")\n",
    "    cur = conn.cursor()\n",
    "    '''''''''''''''''''''''''''''''''''''''''''''''''''''''''''''''''''''''''''''\n",
    "    insere dados na base mysql\n",
    "    captura documentos da tabela docs, transfere para a tabela topic-doc e insere dados de tópicos\n",
    "    '''''''''''''''''''''''''''''''''''''''''''''''''''''''''''''''''''''''''''''\n",
    "    \n",
    "    cur.execute(\"DROP TABLE IF EXISTS country_doc\")\n",
    "    cur.execute('''CREATE TABLE IF NOT EXISTS country_doc \n",
    "               (country_id VARBINARY(11), doc_id VARCHAR(31), person_count INT(11)\n",
    "               DEFAULT NULL)\n",
    "               ENGINE=MyISAM DEFAULT CHARSET='utf8';''')"
   ]
  }
 ],
 "metadata": {
  "anaconda-cloud": {},
  "kernelspec": {
   "display_name": "Python [conda root]",
   "language": "python",
   "name": "conda-root-py"
  },
  "language_info": {
   "codemirror_mode": {
    "name": "ipython",
    "version": 3
   },
   "file_extension": ".py",
   "mimetype": "text/x-python",
   "name": "python",
   "nbconvert_exporter": "python",
   "pygments_lexer": "ipython3",
   "version": "3.5.2"
  }
 },
 "nbformat": 4,
 "nbformat_minor": 0
}
