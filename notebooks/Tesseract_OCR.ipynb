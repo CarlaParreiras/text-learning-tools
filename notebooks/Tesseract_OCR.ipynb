{
 "cells": [
  {
   "cell_type": "markdown",
   "execution_count": null,
   "metadata": {
    "collapsed": true
   },
   "outputs": [],
   "source": [
    "This function converts images to tiff by the PIL package from python. It is very limitade yet because it only convets images by image and the final name would also have to be converted one by one.\n",
    ]
  },
  {
   "cell_type": "code",
   "execution_count": 1,
   "metadata": {
   "collapsed": true
   },
   "outputs": [],
   "source": [
    "import Image\n",
    "\n",
    "def conversor_tif (filename):\n",
    "    image = Image.open(filename)\n",
    "    image.save('foto.tiff')\n",
    "\n",
    "conversor_tif('foto.jpg')\n",
    ]
  },
  {
   "cell_type": "markdown",
   "execution_count": 2,
   "metadata": {
   "collapsed": true
   },
   "outputs": [],
   "source": [
    "Second try: This function converts images to tiff by the terminal. It is more advanced because it already converts images in the endings .jpeg, .png, .jpg, .pdf e .gif to .tiff however the final name can still be improved. The function depends on the executable being in the same folder as the images to be converted. 
   ]
  },
  {
   "cell_type": "code",
   "execution_count": 3,
   "metadata": {
   "collapsed": true
   },
   "outputs": [],
   "source": [
    "import os\n",
    "\n",
    "def conversor_tif2 (): \n",
    "    os.system(\"for file in *.JPG; do convert $file -resize 2000 new-$file.tiff; done\")\n",
    "    os.system(\"for file in *.pdf; do convert $file -resize 2000 new-$file.tiff; done\")\n",
    "    os.system(\"for file in *.gif; do convert $file -resize 2000 new-$file.tiff; done\")\n",
    "    os.system(\"for file in *.png; do convert $file -resize 2000 new-$file.tiff; done\")\n",
    "    os.system(\"for file in *.jpeg; do convert $file -resize 2000 new-$file.tiff; done\")\n",
    "\n",
    "conversor_tif2()\n",
   ]
  },
  {
   "cell_type": "markdown",
   "execution_count": 4,
   "metadata": {
   "collapsed": true
   },
   "outputs": [],
   "source": [
    "This function calls Tesseract-ocr from Linux and applies on .tiff files. It still has the condition that the executable is in the same folder as the files .tiff and still have the problem of creating .JPG.tiff.txt files at the end.\n",
    ]
  },
  {
   "cell_type": "code",
   "execution_count": 5,
   "metadata": {
   "collapsed": true
   },
   "outputs": [],
   "source": [
    "def tess ():\n",
    "    os.system(\"for file in *.tiff; do tesseract $file ocr-$file;done\")\n",
    "\n",
    "tess()\n",
    ]
  },
  {
   "cell_type": "markdown",
   "execution_count": 6,
   "metadata": {
   "collapsed": true
   },
   "outputs": [],
   "source": [
    "This function takes the file and evaluates the spelling errors (it does not correct errors that generate other known words). It is still in the initial phase, for now it sees one file at a time and it passes error by error so that the user chooses what to do.\n",
    ]
  },
  {
   "cell_type": "code",
   "execution_count": 7,
   "metadata": {
   "collapsed": true
   },
   "outputs": [],
   "source": [
    "import enchant\n",
    "from enchant.checker import SpellChecker\n",
    "\n",
    "def teste (x):\n",
    "    v = SpellChecker(\"pt_BR\",x)\n",
    "    c = CmdLineChecker()\n",
    "    c.set_checker(v)\n",
    "    c.run()\n",
    "    return v.get_text()"
   ]
  },
  {
   "cell_type": "code",
   "execution_count": 8,
   "metadata": {
    "collapsed": true
   },
   "outputs": [],
   "source": [
    "import Image \n",
    "import os\n",
    "\n",
    "def conversor_tif (filename):#esta sobrepondo\n",
    "    image = Image.open(filename)\n",
    "    image.save(filename + '.tiff')\n",
    "def conversor_tif2 ():\n",
    "    os.system(\"for file in *.JPG; do convert $file -resize 2000 new-$file.tiff; done\")\n",
    "    os.system(\"for file in *.pdf; do convert $file -resize 2000 new-$file.tiff; done\")\n",
    "    os.system(\"for file in *.gif; do convert $file -resize 2000 new-$file.tiff; done\")\n",
    "    os.system(\"for file in *.png; do convert $file -resize 2000 new-$file.tiff; done\")    \n",
    "    os.system(\"for file in *.jpeg; do convert $file -resize 2000 new-$file.tiff; done\")\n",
    "def tess ():\n",
    "    os.system(\"for file in *.tiff; do tesseract $file ocr-$file;done\")\n",
    "\n",
    ]
  },
  {
   "cell_type": "code",
   "execution_count": 9,
   "metadata": {
    "collapsed": true
   },
   "outputs": [],
   "source": []
  }
 ],
 "metadata": {
  "kernelspec": {
   "display_name": "Python 3",
   "language": "python",
   "name": "python3"
  },
  "language_info": {
   "codemirror_mode": {
    "name": "ipython",
    "version": 3
   },
   "file_extension": ".py",
   "mimetype": "text/x-python",
   "name": "python",
   "nbconvert_exporter": "python",
   "pygments_lexer": "ipython3",
   "version": "3.5.1+"
  }
 },
 "nbformat": 4,
 "nbformat_minor": 0
}
