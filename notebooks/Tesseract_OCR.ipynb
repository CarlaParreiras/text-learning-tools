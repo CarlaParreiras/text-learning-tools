{
 "cells": [
  {
   "cell_type": "code",
   "execution_count": null,
   "metadata": {
    "collapsed": true
   },
   "outputs": [],
   "source": [
    "#Função para converter imagens para tiff pelo pacote PIL do python. Muito \n",
    "#limitada ainda pois só converte imagem por imagem. E o nome final também teria \n",
    "#de ser convertido um por um.\n",
    "import Image\n",
    "\n",
    "def conversor_tif (filename):\n",
    "    image = Image.open(filename)\n",
    "    image.save('foto.tiff')\n",
    "conversor_tif('foto.jpg')\n",
    "\n",
    "#Second Try = getting there\n",
    "\n",
    "#função para converter imagens para tiff pelo terminal\n",
    "#Está mais avançado, pois já converte todos os arquivos na terminação .jpeg, \n",
    "#.png, .jpg, .pdf e .gif para .tiff. Mas o nome final pode ser melhorado.\n",
    "#Também depende do executável estar na mesma pasta que as imagens a serem \n",
    "#convertidas. Além disso, gostaria que os novos arquivos fossem salvos noutra\n",
    "#pasta\n",
    "import os\n",
    "\n",
    "def conversor_tif2 ():\n",
    "    os.system(\"for file in *.JPG; do convert $file -resize 2000 new-$file.tiff; done\")\n",
    "    os.system(\"for file in *.pdf; do convert $file -resize 2000 new-$file.tiff; done\")\n",
    "    os.system(\"for file in *.gif; do convert $file -resize 2000 new-$file.tiff; done\")\n",
    "    os.system(\"for file in *.png; do convert $file -resize 2000 new-$file.tiff; done\")    \n",
    "    os.system(\"for file in *.jpeg; do convert $file -resize 2000 new-$file.tiff; done\")    \n",
    "\n",
    "conversor_tif2()\n",
    "\n",
    "#função para chamar o Tesseract-ocr do Linux e aplicar nos arquivos .tiff\n",
    "'''\n",
    "Continua tendo a condição do executável estar na mesma pasta que os arquivos\n",
    ".tiff e continua tendo o problema de criar arquivos .JPG.tiff.txt no final\n",
    "'''\n",
    "def tess ():\n",
    "    os.system(\"for file in *.tiff; do tesseract $file ocr-$file;done\")\n",
    "\n",
    "tess()\n",
    "\n",
    "#Função que pega o arquivo e avalia os erros de ortografia (não corrige erros que geram outras palavras conhecidas)\n",
    "#Ainda está em fase inicial. Por enquanto vê um arquivo de cada vez, e passa erro por erro para que o usuário\n",
    "#Escolha o que fazer.\n",
    "    \n",
    "import enchant\n",
    "from enchant.checker import SpellChecker\n",
    "\n",
    "def teste (x):\n",
    "    v = SpellChecker(\"pt_BR\",x)\n",
    "    c = CmdLineChecker()\n",
    "    c.set_checker(v)\n",
    "    c.run()\n",
    "    return v.get_text()"
   ]
  },
  {
   "cell_type": "code",
   "execution_count": 2,
   "metadata": {
    "collapsed": true
   },
   "outputs": [],
   "source": [
    "import Image \n",
    "import os\n",
    "\n",
    "def conversor_tif (filename):#esta sobrepondo\n",
    "    image = Image.open(filename)\n",
    "    image.save(filename + '.tiff')\n",
    "def conversor_tif2 ():\n",
    "    os.system(\"for file in *.JPG; do convert $file -resize 2000 new-$file.tiff; done\")\n",
    "    os.system(\"for file in *.pdf; do convert $file -resize 2000 new-$file.tiff; done\")\n",
    "    os.system(\"for file in *.gif; do convert $file -resize 2000 new-$file.tiff; done\")\n",
    "    os.system(\"for file in *.png; do convert $file -resize 2000 new-$file.tiff; done\")    \n",
    "    os.system(\"for file in *.jpeg; do convert $file -resize 2000 new-$file.tiff; done\")\n",
    "def tess ():\n",
    "    os.system(\"for file in *.tiff; do tesseract $file ocr-$file;done\")\n",
    "\n",
    "    \n"
   ]
  },
  {
   "cell_type": "code",
   "execution_count": 7,
   "metadata": {
    "collapsed": true
   },
   "outputs": [],
   "source": []
  }
 ],
 "metadata": {
  "kernelspec": {
   "display_name": "Python 3",
   "language": "python",
   "name": "python3"
  },
  "language_info": {
   "codemirror_mode": {
    "name": "ipython",
    "version": 3
   },
   "file_extension": ".py",
   "mimetype": "text/x-python",
   "name": "python",
   "nbconvert_exporter": "python",
   "pygments_lexer": "ipython3",
   "version": "3.5.1+"
  }
 },
 "nbformat": 4,
 "nbformat_minor": 0
}
