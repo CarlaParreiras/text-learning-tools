{
 "cells": [
  {
   "cell_type": "markdown",
   "metadata": {},
   "source": [
    "### build-mysql-database\n",
    "Builds database in MySQL por from the CPDOC collection **Antonio Azeredo da Silveira, Ministério das Relações Exteriores (AAS-MRE_**.  \n",
    "\n",
    "The meta-data included are:\n",
    "* doc_id\n",
    "* text body\n",
    "* main language\n",
    "* readability"
   ]
  },
  {
   "cell_type": "code",
   "execution_count": 1,
   "metadata": {},
   "outputs": [],
   "source": [
    "import os\n",
    "import sys\n",
    "import time\n",
    "import datetime\n",
    "import numpy as np\n",
    "import pandas as pd\n",
    "import re\n",
    "import pymysql\n",
    "import getpass\n",
    "\n",
    "from sshtunnel import SSHTunnelForwarder\n",
    "import time\n",
    "\n",
    "import codecs\n",
    "from langdetect import detect\n",
    "from IPython.display import clear_output"
   ]
  },
  {
   "cell_type": "markdown",
   "metadata": {},
   "source": [
    "### create special sorting function\n",
    "* Creates function that list files on different order\n",
    "* It was important to pay atention to files with different numeration, such as :\n",
    "* AAS_mre_onu_1975.01.23_doc_I-A.txt\n",
    "* AAS_mre_onu_1975.01.23_doc_I-6A8.txt"
   ]
  },
  {
   "cell_type": "code",
   "execution_count": 2,
   "metadata": {
    "collapsed": true
   },
   "outputs": [],
   "source": [
    "def to_zero(x):\n",
    "    if x == '': x = '0'\n",
    "    return x\n",
    "def special_sort(l):\n",
    "    convert = lambda text: int(text) if text.isdigit() else str(text)\n",
    "    alphanum_key = lambda key: [ convert(to_zero(c)) for c in filter(None, re.split('(\\d)A|A\\d|([A-Z]*)-A?|.txt', key))] \n",
    "    return sorted(l, key = alphanum_key)"
   ]
  },
  {
   "cell_type": "markdown",
   "metadata": {},
   "source": [
    "### set user-specific variables\n",
    "Verifies what operational system is being used and creates user-specific variables. Renato = Linux ; Marcelo = nt (Windows)\n",
    "\n",
    "Also sets working folders"
   ]
  },
  {
   "cell_type": "code",
   "execution_count": null,
   "metadata": {
    "collapsed": true
   },
   "outputs": [],
   "source": [
    "if os.name == 'nt':\n",
    "    encoding_type = 'utf-8'\n",
    "    ssh_priv_key = 'C:/Users/marcelo.ribeiro/Dropbox/A-Marcelo/Educação-Trabalho/2016-CPDOC/Remoto/marcelo_priv_rsa'\n",
    "    ssh_user='marcelobribeiro'\n",
    "    sql_user='marcelobribeiro'\n",
    "    path = \"C:/Users/marcelo.ribeiro/Documents/textfiles-corrected-regrouped/\"\n",
    "    outputs = \"C:/Users/marcelo.ribeiro/Documents/outputs/\"\n",
    "else:\n",
    "    encoding_type = 'ISO-8859-1'\n",
    "    ssh_priv_key = '/home/rsouza/.ssh/id_rsa'\n",
    "    ssh_user='rsouza'\n",
    "    sql_user='rsouza'\n",
    "    path = \"/home/rsouza/Documentos/text-learning-tools/textfiles-corrected-regrouped/\"\n",
    "    outputs = \"/home/rsouza/Documentos/text-learning-tools/outputs/\""
   ]
  },
  {
   "cell_type": "markdown",
   "metadata": {},
   "source": [
    "### create list of files with special sort"
   ]
  },
  {
   "cell_type": "code",
   "execution_count": 4,
   "metadata": {},
   "outputs": [],
   "source": [
    "files = [f for f in sorted(os.listdir(path))]\n",
    "fullpath_list = []\n",
    "fullpath = ''\n",
    "for file in files:\n",
    "    fullpath = path+file\n",
    "    fullpath_list.append(fullpath)\n",
    "fullpath_list = special_sort(fullpath_list)"
   ]
  },
  {
   "cell_type": "code",
   "execution_count": 5,
   "metadata": {},
   "outputs": [
    {
     "data": {
      "text/plain": [
       "['/home/rsouza/Documentos/text-learning-tools/textfiles-corrected-regrouped/AAS_mre_ag_1973.11.20_doc_I-1.txt',\n",
       " '/home/rsouza/Documentos/text-learning-tools/textfiles-corrected-regrouped/AAS_mre_ag_1973.11.20_doc_I-2.txt',\n",
       " '/home/rsouza/Documentos/text-learning-tools/textfiles-corrected-regrouped/AAS_mre_ag_1973.11.20_doc_I-3.txt',\n",
       " '/home/rsouza/Documentos/text-learning-tools/textfiles-corrected-regrouped/AAS_mre_ag_1973.11.20_doc_I-4.txt',\n",
       " '/home/rsouza/Documentos/text-learning-tools/textfiles-corrected-regrouped/AAS_mre_ag_1973.11.20_doc_I-5.txt',\n",
       " '/home/rsouza/Documentos/text-learning-tools/textfiles-corrected-regrouped/AAS_mre_ag_1973.11.20_doc_I-6.txt',\n",
       " '/home/rsouza/Documentos/text-learning-tools/textfiles-corrected-regrouped/AAS_mre_ag_1973.11.20_doc_I-7.txt',\n",
       " '/home/rsouza/Documentos/text-learning-tools/textfiles-corrected-regrouped/AAS_mre_ag_1973.11.20_doc_I-8.txt',\n",
       " '/home/rsouza/Documentos/text-learning-tools/textfiles-corrected-regrouped/AAS_mre_ag_1973.11.20_doc_I-9.txt',\n",
       " '/home/rsouza/Documentos/text-learning-tools/textfiles-corrected-regrouped/AAS_mre_ag_1973.11.20_doc_I-10.txt']"
      ]
     },
     "execution_count": 5,
     "metadata": {},
     "output_type": "execute_result"
    }
   ],
   "source": [
    "fullpath_list[0:10]"
   ]
  },
  {
   "cell_type": "markdown",
   "metadata": {},
   "source": [
    "### builds mysql database\n",
    "Classifies corpus by: id, readability and main_language.\n",
    "\n",
    "Stores metadata in mysql. Other meta-data will be placed on dossie table: dossie_id, dossie subject, date (inaccurate)\n",
    "\n",
    "Documents with extremely low readability (less than 30% of readable phrases) are taken out of the database and listed on a file for later analysis, so that we can think of solutions in the future. Those documents are mainly manuscrits, pictures and texts with stains, scratches or drafts.\n",
    "\n",
    "Should change in the future the lang_class column. Maybe to 2 columns: main_language, second_language.\n",
    "\n",
    "For texts with a length of 10 **phrases**, I placed the number -1 on readability because there would be too few observations. Should make a new column with info about **word** length. Instead of the -1, I would have the estimated length and the length info.\n"
   ]
  },
  {
   "cell_type": "code",
   "execution_count": 6,
   "metadata": {},
   "outputs": [],
   "source": [
    "doc_class = []\n",
    "lang_class = 'none'\n",
    "count_doc = 0\n",
    "not_readable = []\n",
    "percentil = int(len(fullpath_list)/100)\n",
    "\n",
    "pass_sshkey = getpass.getpass()\n",
    "pass_mysql = getpass.getpass()\n",
    "with SSHTunnelForwarder(('200.20.164.146', 22),\n",
    "                        ssh_private_key = ssh_priv_key,\n",
    "                        ssh_private_key_password = pass_sshkey,\n",
    "                        ssh_username=ssh_user,\n",
    "                        remote_bind_address=('127.0.0.1', 3306)) as server:\n",
    "    \n",
    "    conn = pymysql.connect(host='localhost', \n",
    "                           port=server.local_bind_port, \n",
    "                           user=sql_user,\n",
    "                           passwd=pass_mysql,\n",
    "                           db='CPDOC_AS',\n",
    "                           use_unicode=True, \n",
    "                           charset=\"utf8\")\n",
    "    cur = conn.cursor()\n",
    "    \n",
    "    '''''''''''''''''''''''''''''''''''''''''''''''''''''''''''''''''''''''''''''\n",
    "    inserts data into mysql database\n",
    "    '''''''''''''''''''''''''''''''''''''''''''''''''''''''''''''''''''''''''''''\n",
    "    \n",
    "    cur.execute(\"DROP TABLE IF EXISTS docs\")\n",
    "    cur.execute('''CREATE TABLE IF NOT EXISTS docs \n",
    "               (id VARCHAR(31) PRIMARY KEY, dossie_id_draft VARCHAR(31), \n",
    "               main_language VARCHAR(10), readability DECIMAL(3,2), body LONGTEXT\n",
    "               DEFAULT NULL)\n",
    "               ENGINE=MyISAM DEFAULT CHARSET='utf8';''')\n",
    "    \n",
    "    ''' iterates through texts '''\n",
    "    for txt in fullpath_list:\n",
    "        \n",
    "        ''' measures completion percentage '''\n",
    "        count_doc += 1\n",
    "        if count_doc % percentil == 0: print(int(count_doc/percentil),'% done')\n",
    "        if count_doc % (percentil-1) == 0: clear_output()\n",
    "        \n",
    "        ''' captures info about date, year, month and ids '''\n",
    "        txt_date = re.sub('.*(19\\d\\d\\.\\d\\d\\.\\d\\d).*', r'\\1', txt)\n",
    "        txt_year = re.sub('.*(19\\d\\d).*', r'\\1', txt)\n",
    "        txt_month = re.sub('.*19\\d\\d\\.(\\d\\d).*', r'\\1', txt)\n",
    "        txt_id = re.sub('.*AAS_mre_(.*).txt', r'\\1', txt)\n",
    "        dossie_id = re.sub('.*AAS_mre_(.*)_doc.*', r'\\1', txt)\n",
    "        \n",
    "        ''' makes analysis in each document '''\n",
    "        with open(txt, 'r', encoding=encoding_type) as f:\n",
    "            txt_body = f.read()\n",
    "           \n",
    "            ''' identifies main language and readability of each document '''\n",
    "            text_split = re.split('\\.|\\?|\\:|\\,', txt_body)\n",
    "            pt_count = en_count = es_count = fr_count = de_count = lang_count = total_count = 0\n",
    "            for phrase in text_split:\n",
    "                try: \n",
    "                    if len(re.findall(\"[^\\W\\d]\", phrase)) <= 10: continue\n",
    "                    language = detect(phrase)\n",
    "                    total_count += 1\n",
    "                except: \n",
    "                    continue\n",
    "                if language == 'pt':\n",
    "                    pt_count += 1\n",
    "                if language == 'en':\n",
    "                    en_count += 1\n",
    "                if language == 'es':\n",
    "                    es_count += 1\n",
    "                if language == 'fr':\n",
    "                    fr_count += 1\n",
    "                if language == 'de':\n",
    "                    de_count += 1\n",
    "            lang_count = pt_count + en_count + es_count + fr_count + de_count        \n",
    "            if total_count == 0: readability_ratio = 0\n",
    "            else: readability_ratio = float(lang_count/total_count)\n",
    "            if readability_ratio < 0.3: \n",
    "                not_readable.append(txt)\n",
    "                continue\n",
    "            elif total_count > 10: readability = readability_ratio\n",
    "            else: readability = -1\n",
    "            ''' note: with the criteria, documents might have readability but no lang_class '''\n",
    "            if de_count/total_count > 0.3 and de_count >= 3: \n",
    "                lang_class = 'de'\n",
    "            if fr_count/total_count > 0.3 and fr_count >= 3: \n",
    "                lang_class = 'fr'\n",
    "            if es_count/total_count > 0.3 and es_count >= 3: \n",
    "                lang_class = 'es'\n",
    "            if en_count/total_count > 0.3 and en_count >= 3: \n",
    "                lang_class = 'en'\n",
    "            if pt_count/total_count > 0.3 and pt_count >= 3: \n",
    "                lang_class = 'pt'\n",
    "            \n",
    "            ''' inserts data into mysql '''\n",
    "            query = \"INSERT INTO docs VALUES (%s, %s, %s, %s, %s)\"\n",
    "            cur.execute(query, (txt_id, dossie_id, lang_class, readability, txt_body))"
   ]
  },
  {
   "cell_type": "markdown",
   "metadata": {},
   "source": [
    "### Saves list of files with too low readability"
   ]
  },
  {
   "cell_type": "code",
   "execution_count": 7,
   "metadata": {},
   "outputs": [],
   "source": [
    "not_readable_files = os.path.join(outputs, \"not_readable_files.txt\")\n",
    "\n",
    "with open(not_readable_files, 'w+', encoding='utf-8') as f: \n",
    "    text = f.write(not_readable[0])\n",
    "    text = f.write('\\r\\n')\n",
    "for file in not_readable[1:]:\n",
    "    with open(not_readable_files, 'a+', encoding='utf-8') as f:\n",
    "        text = f.write(file)\n",
    "        text = f.write('\\r\\n')"
   ]
  },
  {
   "cell_type": "code",
   "execution_count": null,
   "metadata": {
    "collapsed": true
   },
   "outputs": [],
   "source": []
  }
 ],
 "metadata": {
  "anaconda-cloud": {},
  "kernelspec": {
   "display_name": "Python 3",
   "language": "python",
   "name": "python3"
  },
  "language_info": {
   "codemirror_mode": {
    "name": "ipython",
    "version": 3
   },
   "file_extension": ".py",
   "mimetype": "text/x-python",
   "name": "python",
   "nbconvert_exporter": "python",
   "pygments_lexer": "ipython3",
   "version": "3.5.2+"
  }
 },
 "nbformat": 4,
 "nbformat_minor": 1
}
