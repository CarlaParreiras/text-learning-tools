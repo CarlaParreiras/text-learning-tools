{
 "cells": [
  {
   "cell_type": "markdown",
   "metadata": {},
   "source": [
    "### doc_entity\n",
    "ESTABELECE RELAÇÕES ENTRE DOCUMENTOS E ENTIDADES NA BASE DE DADOS NO MYSQL. TRABALHAMOS COM O ACERVO **ANTONIO AZEREDO DA SILVEIRA, MINISTÉRIO DAS RELAÇÕES EXTERIORES**.  \n",
    "\n",
    "AS ENTIDADES A SEREM TRABALHADAS SÃO:\n",
    "* PAÍSES\n",
    "* PESSOAS"
   ]
  },
  {
   "cell_type": "code",
   "execution_count": 1,
   "metadata": {
    "collapsed": true
   },
   "outputs": [],
   "source": [
    "import os\n",
    "import sys\n",
    "import numpy as np\n",
    "import pandas as pd\n",
    "import re\n",
    "from IPython.display import clear_output\n",
    "import csv\n",
    "import getpass\n",
    "import pymysql\n",
    "import string\n",
    "import pickle\n",
    "import random\n",
    "import unicodedata\n",
    "import collections"
   ]
  },
  {
   "cell_type": "code",
   "execution_count": 2,
   "metadata": {
    "collapsed": true
   },
   "outputs": [],
   "source": [
    "sql_user='marcelobribeiro'"
   ]
  },
  {
   "cell_type": "code",
   "execution_count": 3,
   "metadata": {
    "collapsed": true
   },
   "outputs": [],
   "source": [
    "path_outputs = 'text-learning-tools/outputs/'"
   ]
  },
  {
   "cell_type": "code",
   "execution_count": 4,
   "metadata": {
    "collapsed": true
   },
   "outputs": [],
   "source": [
    "def strip_accents(s):\n",
    "   return ''.join(c for c in unicodedata.normalize('NFD', s)\n",
    "                  if unicodedata.category(c) != 'Mn')"
   ]
  },
  {
   "cell_type": "markdown",
   "metadata": {},
   "source": [
    "### Corrections on names that had errors:\n",
    "* Castro Alves is actually Dario (Moreira) Castro Alves.\n",
    "* U Nu was a Burmese politician that was incorrectly mined, because all the parameters made weren't enough to handle this type of name.\n",
    "* John J. Kennedy is ambiguous with John F. Kennedy.\n",
    "* Vieira Souto was mined incorrectly, even using 'palavras'. The name is always avenue, but was often mined as person.\n",
    "* renamed persons which only had surnames: \n",
    "    - debernardi\n",
    "    - allara\n",
    "    - sauvagnargues\n",
    "\n",
    "OBS: this is a template and you must specify which object will be the 'text' variable ."
   ]
  },
  {
   "cell_type": "markdown",
   "metadata": {},
   "source": [
    "** basic analysis **"
   ]
  },
  {
   "cell_type": "code",
   "execution_count": null,
   "metadata": {
    "collapsed": true
   },
   "outputs": [],
   "source": [
    "tknzr = nltk.tokenize.WordPunctTokenizer()"
   ]
  },
  {
   "cell_type": "code",
   "execution_count": null,
   "metadata": {
    "collapsed": true
   },
   "outputs": [],
   "source": [
    "person = 'allara'\n",
    "for text_tuple in doc_id_list:\n",
    "    text = text_tuple[1]\n",
    "    tokens = tknzr.tokenize(text)\n",
    "    try:\n",
    "        tokens = tokens[tokens.index(person)-30 : tokens.index(person)+30]\n",
    "        print(tokens)\n",
    "    except: pass"
   ]
  },
  {
   "cell_type": "code",
   "execution_count": null,
   "metadata": {
    "collapsed": true
   },
   "outputs": [],
   "source": [
    "person_p1 = 'vieira'\n",
    "person_p2 = 'souto'\n",
    "for text_tuple in doc_id_list:\n",
    "    text = text_tuple[1]\n",
    "    tokens = tknzr.tokenize(text)\n",
    "    try:\n",
    "        token2 = tokens[tokens.index(person_p1)+1]\n",
    "        if token2 == person_p2: explore = tokens[tokens.index(person_p1)-10 : tokens.index(person_p1)+10]\n",
    "        print(explore)\n",
    "    except: pass"
   ]
  },
  {
   "cell_type": "code",
   "execution_count": null,
   "metadata": {
    "collapsed": true
   },
   "outputs": [],
   "source": [
    "person = r'\\b'+'u nu'+r'\\b'\n",
    "for text_tuple in doc_id_list:\n",
    "    text = text_tuple[1]\n",
    "    try:\n",
    "        explore = text[text.index(person)-30 : text.index(person)+30]\n",
    "        print(explore)\n",
    "    except: pass"
   ]
  },
  {
   "cell_type": "markdown",
   "metadata": {},
   "source": [
    "** correct names on database ** "
   ]
  },
  {
   "cell_type": "code",
   "execution_count": 6,
   "metadata": {},
   "outputs": [
    {
     "name": "stdout",
     "output_type": "stream",
     "text": [
      "········\n"
     ]
    },
    {
     "data": {
      "text/plain": [
       "1"
      ]
     },
     "execution_count": 6,
     "metadata": {},
     "output_type": "execute_result"
    }
   ],
   "source": [
    "pass_mysql = getpass.getpass()\n",
    "conn = pymysql.connect(host='localhost', \n",
    "                       user=sql_user,\n",
    "                       passwd=pass_mysql,\n",
    "                       db='CPDOC_AS',\n",
    "                       use_unicode=True, \n",
    "                       charset=\"utf8\")\n",
    "cur = conn.cursor()\n",
    "\n",
    "cur.execute(\"UPDATE person_doc SET person_id='500272' WHERE person_id='500222'\") # Dario Castro Alves\n",
    "cur.execute(\"DELETE FROM person_doc WHERE person_id='109955'\") # U Nu \n",
    "cur.execute(\"DELETE FROM person_doc WHERE person_id='500988'\") # Vieira Solto\n",
    "cur.execute(\"DELETE FROM person_doc WHERE person_id='107026'\") # John J. Kennedy\n",
    "\n",
    "cur.execute(\"UPDATE persons SET person_name='enzo debernardi' WHERE id='500275'\") # Debernardi\n",
    "cur.execute(\"UPDATE persons SET person_name='gualter oscar allara' WHERE id='500056'\") # Allara\n",
    "cur.execute(\"UPDATE persons SET person_name='jean sauvagnargues' WHERE id='500942'\") # Sauvagnargues    "
   ]
  },
  {
   "cell_type": "markdown",
   "metadata": {},
   "source": [
    "## correct duplicates on frus, kissinger and clinton DBs"
   ]
  },
  {
   "cell_type": "markdown",
   "metadata": {},
   "source": [
    "### Captures list of  names at History-Lab database\n",
    "Tables are:\n",
    "* declassification_frus - already used\n",
    "* declassification_cables - no persons table\n",
    "* declassification_ddrs - no persons table\n",
    "* declassification_kissinger\n",
    "* declassification_clinton - ok"
   ]
  },
  {
   "cell_type": "markdown",
   "metadata": {},
   "source": [
    "### function of name extraction"
   ]
  },
  {
   "cell_type": "code",
   "execution_count": 7,
   "metadata": {
    "collapsed": true
   },
   "outputs": [],
   "source": [
    "def extract_names(data, names_list, names_ids_list):\n",
    "    for row in data:\n",
    "        if row is None: break\n",
    "        var_names = []\n",
    "        name_id = row[0]\n",
    "        fullname =  str(row[1])\n",
    "        fullname = str.lower(fullname)\n",
    "        #print('1', fullname)\n",
    "        fullname = re.sub('(.*?)\\;.*', r'\\1', fullname) #take out variants\n",
    "        fullname = re.sub('^b[\\\"\\']', r'', fullname) #take out quotation mark\n",
    "        fullname = re.sub('[\\\"\\']$', r'', fullname) #take out quotation mark\n",
    "        fullname = re.sub('[^ ]\\(.*\\) ', r'', fullname) #take out nicknames in parenthesis\n",
    "        fullname = re.sub(' \\(.*\\)[^ ]', r'', fullname) #take out nicknames in parenthesis\n",
    "        fullname = re.sub('(.*), (.*)', r'\\2 \\1', fullname) #name format, from english to portuguese\n",
    "        fullname = re.sub('(.*)\\(.*\\)\\s?(.*)', r'\\1\\2', fullname)\n",
    "        #print('2', fullname)\n",
    "        fullname = re.sub('- ', '-', fullname)\n",
    "        fullname_strip_accent = strip_accents(fullname)\n",
    "        fullname_strip_abrev = re.sub('(\\w+\\. ){0,4}', r'', fullname)\n",
    "        fullname_strip_both = strip_accents(fullname_strip_abrev)\n",
    "        var_names.append(fullname)\n",
    "        if fullname_strip_accent != fullname: var_names.append(fullname_strip_accent)\n",
    "        if fullname_strip_abrev  != fullname: var_names.append(fullname_strip_abrev)\n",
    "        if fullname_strip_both   != fullname_strip_abrev and fullname_strip_both != fullname_strip_accent: \n",
    "            var_names.append(fullname_strip_both)\n",
    "        names_list[fullname] = var_names\n",
    "        name_id_pair = [name_id, fullname]\n",
    "        names_ids_list.append(name_id_pair)"
   ]
  },
  {
   "cell_type": "raw",
   "metadata": {},
   "source": [
    "def con_sql_history_lab(database, data):\n",
    "    pass_mysql = getpass.getpass()\n",
    "    conn = pymysql.connect(host='history-lab.org', \n",
    "                           user='de_reader',\n",
    "                           passwd=pass_mysql,\n",
    "                           db=database,\n",
    "                           use_unicode=True, \n",
    "                           charset=\"utf8\")\n",
    "    cur = conn.cursor()\n",
    "    \n",
    "    cur.execute(\"SELECT id, name FROM persons\")\n",
    "    data = cur.fetchall()\n",
    "    #print(data[1])\n",
    "    #return(data)"
   ]
  },
  {
   "cell_type": "raw",
   "metadata": {},
   "source": [
    "data = ()\n",
    "database = 'declassification_clinton'\n",
    "con_sql_history_lab(database, data)\n",
    "\n",
    "#clinton_names_list = {}\n",
    "#clinton_names_ids_list = []\n",
    "#extract_names(data, clinton_names_list, clinton_names_ids_list)"
   ]
  },
  {
   "cell_type": "raw",
   "metadata": {},
   "source": [
    "data = ()\n",
    "database = 'declassification_kissinger'\n",
    "con_sql_history_lab(database, data)\n",
    "\n",
    "kissinger_names_list = {}\n",
    "kissinger_names_ids_list = []\n",
    "extract_names(data, kissinger_names_list, kissinger_names_ids_list)"
   ]
  },
  {
   "cell_type": "code",
   "execution_count": 59,
   "metadata": {},
   "outputs": [
    {
     "data": {
      "text/plain": [
       "()"
      ]
     },
     "execution_count": 59,
     "metadata": {},
     "output_type": "execute_result"
    }
   ],
   "source": [
    "data"
   ]
  },
  {
   "cell_type": "markdown",
   "metadata": {},
   "source": [
    "### names extraction from databases\n",
    "Databases are: FRUS, kissinger, clinton."
   ]
  },
  {
   "cell_type": "code",
   "execution_count": 8,
   "metadata": {},
   "outputs": [
    {
     "name": "stdout",
     "output_type": "stream",
     "text": [
      "········\n"
     ]
    }
   ],
   "source": [
    "frus_names_list = {}\n",
    "frus_names_ids_list = []\n",
    "\n",
    "pass_mysql = getpass.getpass()\n",
    "conn = pymysql.connect(host='history-lab.org', \n",
    "                       user='de_reader',\n",
    "                       passwd=pass_mysql,\n",
    "                       db='declassification_frus',\n",
    "                       use_unicode=True, \n",
    "                       charset=\"utf8\")\n",
    "cur = conn.cursor()\n",
    "'''''''''''''''''''''''''''''''''''''''''''''''''''''''''''''''''''''''''''''\n",
    "\n",
    "'''''''''''''''''''''''''''''''''''''''''''''''''''''''''''''''''''''''''''''\n",
    "\n",
    "cur.execute(\"SELECT id, name FROM persons\")\n",
    "data = cur.fetchall()\n",
    "\n",
    "extract_names(data, frus_names_list, frus_names_ids_list)"
   ]
  },
  {
   "cell_type": "code",
   "execution_count": 9,
   "metadata": {},
   "outputs": [
    {
     "name": "stdout",
     "output_type": "stream",
     "text": [
      "········\n"
     ]
    }
   ],
   "source": [
    "clinton_names_list = {}\n",
    "clinton_names_ids_list = []\n",
    "\n",
    "pass_mysql = getpass.getpass()\n",
    "conn = pymysql.connect(host='history-lab.org', \n",
    "                       user='de_reader',\n",
    "                       passwd=pass_mysql,\n",
    "                       db='declassification_clinton',\n",
    "                       use_unicode=True, \n",
    "                       charset=\"utf8\")\n",
    "cur = conn.cursor()\n",
    "'''''''''''''''''''''''''''''''''''''''''''''''''''''''''''''''''''''''''''''\n",
    "\n",
    "'''''''''''''''''''''''''''''''''''''''''''''''''''''''''''''''''''''''''''''\n",
    "\n",
    "cur.execute(\"SELECT id, name FROM persons\")\n",
    "data = cur.fetchall()\n",
    "\n",
    "extract_names(data, clinton_names_list, clinton_names_ids_list)"
   ]
  },
  {
   "cell_type": "code",
   "execution_count": 10,
   "metadata": {},
   "outputs": [
    {
     "name": "stdout",
     "output_type": "stream",
     "text": [
      "········\n"
     ]
    }
   ],
   "source": [
    "kissinger_names_list = {}\n",
    "kissinger_names_ids_list = []\n",
    "\n",
    "pass_mysql = getpass.getpass()\n",
    "conn = pymysql.connect(host='history-lab.org', \n",
    "                       user='de_reader',\n",
    "                       passwd=pass_mysql,\n",
    "                       db='declassification_kissinger',\n",
    "                       use_unicode=True, \n",
    "                       charset=\"utf8\")\n",
    "cur = conn.cursor()\n",
    "'''''''''''''''''''''''''''''''''''''''''''''''''''''''''''''''''''''''''''''\n",
    "\n",
    "'''''''''''''''''''''''''''''''''''''''''''''''''''''''''''''''''''''''''''''\n",
    "\n",
    "cur.execute(\"SELECT id, name FROM persons\")\n",
    "data = cur.fetchall()\n",
    "\n",
    "extract_names(data, kissinger_names_list, kissinger_names_ids_list)"
   ]
  },
  {
   "cell_type": "markdown",
   "metadata": {},
   "source": [
    "### collect duplicated names"
   ]
  },
  {
   "cell_type": "code",
   "execution_count": 11,
   "metadata": {
    "collapsed": true
   },
   "outputs": [],
   "source": [
    "cpdoc_names_check_file = path_outputs+'corpus_entities_persons_list_cpdoc.pkl'\n",
    "cpdoc_names_check = pickle.load(open(cpdoc_names_check_file, 'rb'))"
   ]
  },
  {
   "cell_type": "code",
   "execution_count": 12,
   "metadata": {
    "collapsed": true
   },
   "outputs": [],
   "source": [
    "count = 0\n",
    "\n",
    "id_names_list = []\n",
    "for name, values in cpdoc_names_check.items():\n",
    "    count += 1\n",
    "    for alt_name in values:\n",
    "        for frus_name, frus_values in frus_names_list.items():\n",
    "            for frus_alt_name in frus_values:\n",
    "                if alt_name == frus_alt_name:\n",
    "                    for id_name_tuple in frus_names_ids_list:\n",
    "                        if frus_name == id_name_tuple[1]:\n",
    "                            name_id = id_name_tuple[0]\n",
    "                            cpdoc_id_name = [name_id, name, 'frus and cpdoc']\n",
    "                            id_names_list.append(cpdoc_id_name)\n",
    "        for kis_name, kis_values in kissinger_names_list.items():\n",
    "            for kis_alt_name in kis_values:\n",
    "                if alt_name == kis_alt_name:\n",
    "                    for id_name_tuple in kissinger_names_ids_list:\n",
    "                        if kis_name == id_name_tuple[1]:\n",
    "                            name_id = id_name_tuple[0]\n",
    "                            cpdoc_id_name = [name_id, name, 'kissinger and cpdoc']\n",
    "                            id_names_list.append(cpdoc_id_name)\n",
    "        for cli_name, cli_values in clinton_names_list.items():\n",
    "            for cli_alt_name in cli_values:\n",
    "                if alt_name == cli_alt_name:\n",
    "                    #print(alt_name)\n",
    "                    for id_name_tuple in clinton_names_ids_list:\n",
    "                        if cli_name == id_name_tuple[1]:\n",
    "                            #print('cli', cli_name)\n",
    "                            name_id = id_name_tuple[0]\n",
    "                            cpdoc_id_name = [name_id, name, 'clinton and cpdoc']\n",
    "                            id_names_list.append(cpdoc_id_name)           "
   ]
  },
  {
   "cell_type": "markdown",
   "metadata": {},
   "source": [
    "### check for duplicated ids"
   ]
  },
  {
   "cell_type": "markdown",
   "metadata": {},
   "source": [
    "** remove completely duplicated lines **"
   ]
  },
  {
   "cell_type": "code",
   "execution_count": 42,
   "metadata": {
    "collapsed": true
   },
   "outputs": [],
   "source": [
    "id_names_list_rmdupl = []\n",
    "for value in id_names_list:\n",
    "    if value not in id_names_list_rmdupl:\n",
    "        id_names_list_rmdupl.append(value)\n",
    "id_names_list = id_names_list_rmdupl"
   ]
  },
  {
   "cell_type": "markdown",
   "metadata": {},
   "source": [
    "** remove lines with duplicated ids **"
   ]
  },
  {
   "cell_type": "code",
   "execution_count": 43,
   "metadata": {
    "collapsed": true
   },
   "outputs": [],
   "source": [
    "id_duplicates_check = []\n",
    "ids = []\n",
    "for i in id_names_list:\n",
    "    id_check = int(i[0])\n",
    "    ids.append(id_check)\n",
    "id_duplicates_check = [item for item, count in collections.Counter(ids).items() if count > 1]"
   ]
  },
  {
   "cell_type": "code",
   "execution_count": null,
   "metadata": {
    "collapsed": true
   },
   "outputs": [],
   "source": [
    "id_names_list.remove(['107026', 'john kennedy', 'frus and cpdoc'])\n",
    "for i in id_names_list:\n",
    "    if int(i[0]) in id_duplicates_check and i[2] != 'frus and cpdoc': \n",
    "        id_names_list.remove(i)"
   ]
  },
  {
   "cell_type": "markdown",
   "metadata": {},
   "source": [
    "### analyse database"
   ]
  },
  {
   "cell_type": "code",
   "execution_count": null,
   "metadata": {
    "collapsed": true
   },
   "outputs": [],
   "source": [
    "duplicate_names = []\n",
    "count_names = []\n",
    "pass_mysql = getpass.getpass()\n",
    "conn = pymysql.connect(host='localhost', \n",
    "                       user=sql_user,\n",
    "                       passwd=pass_mysql,\n",
    "                       db='CPDOC_AS',\n",
    "                       use_unicode=True, \n",
    "                       charset=\"utf8\")\n",
    "cur = conn.cursor()\n",
    "\n",
    "for i in id_names_list:\n",
    "    p_id = i[0]\n",
    "    p_name = i[1]\n",
    "    p_source = i[2]\n",
    "    if p_source == 'frus and cpdoc':\n",
    "        query = \"SELECT * FROM persons WHERE (id =%s OR person_name=%s)\"\n",
    "        cur.execute(query, (p_id, p_name))\n",
    "        duplicate_name = cur.fetchall()\n",
    "        duplicate_names.append(duplicate_name)\n",
    "for line in duplicate_names:\n",
    "    p_id1 = line[0][0]\n",
    "    p_id2 = line[1][0]\n",
    "    query = \"\"\"\n",
    "    SELECT person_id, COUNT(person_id) AS sum_id FROM person_doc \n",
    "    WHERE person_id = %s\n",
    "    GROUP BY person_id\n",
    "    \"\"\"\n",
    "    cur.execute(query, (p_id1))\n",
    "    eval_name1 = cur.fetchall()\n",
    "    cur.execute(query, (p_id2))\n",
    "    eval_name2 = cur.fetchall()\n",
    "    eval_names = [eval_name1, eval_name2]\n",
    "    print('1',line)\n",
    "    print('2',eval_names)\n",
    "    count_names.append(eval_names)"
   ]
  },
  {
   "cell_type": "markdown",
   "metadata": {},
   "source": [
    "### alter ids"
   ]
  },
  {
   "cell_type": "code",
   "execution_count": null,
   "metadata": {
    "collapsed": true
   },
   "outputs": [],
   "source": [
    "pass_mysql = getpass.getpass()\n",
    "conn = pymysql.connect(host='localhost', \n",
    "                       user=sql_user,\n",
    "                       passwd=pass_mysql,\n",
    "                       db='CPDOC_AS',\n",
    "                       use_unicode=True, \n",
    "                       charset=\"utf8\")\n",
    "cur = conn.cursor()\n",
    "\n",
    "for i in id_names_list:\n",
    "    p_id = i[0]\n",
    "    p_name = i[1]\n",
    "    p_source = i[2]\n",
    "    \n",
    "    '''updating ids of table person_doc with history-lab ids'''\n",
    "    if p_source == 'frus and cpdoc':\n",
    "        query = \"SELECT id FROM persons5 WHERE person_name=%s AND source = 'cpdoc'\"\n",
    "        cur.execute(query, (p_name))\n",
    "        old_id = cur.fetchall()[0][0]\n",
    "        query = \"DELETE FROM person_doc5 WHERE person_id=%s\" # só pode rodar isso 1 vez. Caso contrário, vai deletar ids corretas!\n",
    "        cur.execute(query, (p_id))\n",
    "        query = \"UPDATE person_doc5 SET person_id =%s WHERE person_id=%s\"\n",
    "        cur.execute(query, (p_id, old_id))\n",
    "        \n",
    "    '''updating ids of table persons with history-lab ids'''\n",
    "    query = \"DELETE FROM persons5 WHERE id=%s\"\n",
    "    cur.execute(query, (p_id))\n",
    "    query = \"UPDATE persons5 SET id =%s WHERE person_name=%s AND source = 'cpdoc'\"\n",
    "    cur.execute(query, (p_id, p_name))\n",
    "\n",
    "    '''fixing source'''\n",
    "    query = \"UPDATE persons5 SET source =%s WHERE person_name=%s AND source = 'cpdoc'\"\n",
    "    cur.execute(query, (p_source, p_name))\n",
    "    \n",
    "'''renaming source with badly chosen name'''\n",
    "cur.execute(\"UPDATE persons5 SET source = 'frus and cpdoc' WHERE source = 'duplicate'\")"
   ]
  },
  {
   "cell_type": "code",
   "execution_count": null,
   "metadata": {
    "collapsed": true
   },
   "outputs": [],
   "source": []
  }
 ],
 "metadata": {
  "anaconda-cloud": {},
  "kernelspec": {
   "display_name": "Python 3",
   "language": "python",
   "name": "python3"
  },
  "language_info": {
   "codemirror_mode": {
    "name": "ipython",
    "version": 3
   },
   "file_extension": ".py",
   "mimetype": "text/x-python",
   "name": "python",
   "nbconvert_exporter": "python",
   "pygments_lexer": "ipython3",
   "version": "3.5.2+"
  }
 },
 "nbformat": 4,
 "nbformat_minor": 1
}
