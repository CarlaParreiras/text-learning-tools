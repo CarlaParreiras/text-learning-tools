{
 "cells": [
  {
   "cell_type": "markdown",
   "metadata": {},
   "source": [
    "----------------------------------------------------\n",
    "Modelagem de tópicos de documentos provenientes da base de dados do CPDOC.\n",
    "----------------------------------------------------\n",
    "Base de dados: Antonio Azeredo da Silveira.\n",
    "-----------------------------\n",
    "Número de documentos: 10.428\n",
    "-----------------------------\n",
    "Número de imagens: 66.938\n",
    "-----------------------------"
   ]
  },
  {
   "cell_type": "markdown",
   "metadata": {},
   "source": [
    "### Topic: Clustering documents"
   ]
  },
  {
   "cell_type": "markdown",
   "metadata": {},
   "source": [
    "## Contents"
   ]
  },
  {
   "cell_type": "markdown",
   "metadata": {},
   "source": [
    "<ul>\n",
    "<li>[Stopwords, stemming, and tokenization](#Stopwords,-stemming,-and-tokenizing)\n",
    "<li>[Tf-idf and document similarity](#Tf-idf-and-document-similarity)\n",
    "<li>[K-means clustering](#K-means-clustering)\n",
    "<li>[Multidimensional scaling](#Multidimensional-scaling)\n",
    "<li>[Visualizing document clusters](#Visualizing-document-clusters)\n",
    "<li>[Hierarchical document clustering](#Hierarchical-document-clustering)\n",
    "<li>[Latent Dirichlet Allocation (LDA)](#Latent-Dirichlet-Allocation)\n",
    "</ul>"
   ]
  },
  {
   "cell_type": "markdown",
   "metadata": {},
   "source": [
    "But first, I import everything I am going to need up front"
   ]
  },
  {
   "cell_type": "code",
   "execution_count": 2,
   "metadata": {
    "collapsed": false
   },
   "outputs": [
    {
     "name": "stderr",
     "output_type": "stream",
     "text": [
      "/home/rsouza/python/3/venv/local/lib/python3.5/site-packages/funcy/decorators.py:56: DeprecationWarning: inspect.getargspec() is deprecated, use inspect.signature() instead\n",
      "  spec = inspect.getargspec(func)\n",
      "/home/rsouza/python/3/venv/local/lib/python3.5/site-packages/funcy/decorators.py:56: DeprecationWarning: inspect.getargspec() is deprecated, use inspect.signature() instead\n",
      "  spec = inspect.getargspec(func)\n",
      "/home/rsouza/python/3/venv/local/lib/python3.5/site-packages/funcy/decorators.py:56: DeprecationWarning: inspect.getargspec() is deprecated, use inspect.signature() instead\n",
      "  spec = inspect.getargspec(func)\n",
      "/home/rsouza/python/3/venv/local/lib/python3.5/site-packages/funcy/decorators.py:56: DeprecationWarning: inspect.getargspec() is deprecated, use inspect.signature() instead\n",
      "  spec = inspect.getargspec(func)\n",
      "/home/rsouza/python/3/venv/local/lib/python3.5/site-packages/funcy/decorators.py:56: DeprecationWarning: inspect.getargspec() is deprecated, use inspect.signature() instead\n",
      "  spec = inspect.getargspec(func)\n",
      "/home/rsouza/python/3/venv/local/lib/python3.5/site-packages/funcy/decorators.py:56: DeprecationWarning: inspect.getargspec() is deprecated, use inspect.signature() instead\n",
      "  spec = inspect.getargspec(func)\n",
      "/home/rsouza/python/3/venv/local/lib/python3.5/site-packages/ipykernel/pylab/config.py:66: DeprecationWarning: metadata {'config': True} was set from the constructor.  Metadata should be set using the .tag() method, e.g., Int().tag(key1='value1', key2='value2')\n",
      "  inline backend.\"\"\"\n",
      "/home/rsouza/python/3/venv/local/lib/python3.5/site-packages/ipykernel/pylab/config.py:71: DeprecationWarning: metadata {'config': True} was set from the constructor.  Metadata should be set using the .tag() method, e.g., Int().tag(key1='value1', key2='value2')\n",
      "  'retina', 'jpeg', 'svg', 'pdf'.\"\"\")\n",
      "/home/rsouza/python/3/venv/local/lib/python3.5/site-packages/ipykernel/pylab/config.py:85: DeprecationWarning: metadata {'config': True} was set from the constructor.  Metadata should be set using the .tag() method, e.g., Int().tag(key1='value1', key2='value2')\n",
      "  use `figure_formats` instead)\"\"\")\n",
      "/home/rsouza/python/3/venv/local/lib/python3.5/site-packages/ipykernel/pylab/config.py:95: DeprecationWarning: metadata {'config': True} was set from the constructor.  Metadata should be set using the .tag() method, e.g., Int().tag(key1='value1', key2='value2')\n",
      "  \"\"\"\n",
      "/home/rsouza/python/3/venv/local/lib/python3.5/site-packages/ipykernel/pylab/config.py:114: DeprecationWarning: metadata {'config': True} was set from the constructor.  Metadata should be set using the .tag() method, e.g., Int().tag(key1='value1', key2='value2')\n",
      "  \"\"\")\n",
      "/home/rsouza/python/3/venv/local/lib/python3.5/site-packages/ipykernel/pylab/config.py:44: DeprecationWarning: InlineBackend._config_changed is deprecated: use @observe and @unobserve instead.\n",
      "  def _config_changed(self, name, old, new):\n",
      "/home/rsouza/python/3/venv/local/lib/python3.5/site-packages/traitlets/traitlets.py:770: DeprecationWarning: A parent of InlineBackend._config_changed has adopted the new @observe(change) API\n",
      "  clsname, change_or_name), DeprecationWarning)\n",
      "/home/rsouza/python/3/venv/local/lib/python3.5/site-packages/IPython/core/formatters.py:98: DeprecationWarning: DisplayFormatter._formatters_default is deprecated: use @default decorator instead.\n",
      "  def _formatters_default(self):\n",
      "/home/rsouza/python/3/venv/local/lib/python3.5/site-packages/IPython/core/formatters.py:677: DeprecationWarning: PlainTextFormatter._deferred_printers_default is deprecated: use @default decorator instead.\n",
      "  def _deferred_printers_default(self):\n",
      "/home/rsouza/python/3/venv/local/lib/python3.5/site-packages/IPython/core/formatters.py:669: DeprecationWarning: PlainTextFormatter._singleton_printers_default is deprecated: use @default decorator instead.\n",
      "  def _singleton_printers_default(self):\n",
      "/home/rsouza/python/3/venv/local/lib/python3.5/site-packages/IPython/core/formatters.py:672: DeprecationWarning: PlainTextFormatter._type_printers_default is deprecated: use @default decorator instead.\n",
      "  def _type_printers_default(self):\n",
      "/home/rsouza/python/3/venv/local/lib/python3.5/site-packages/IPython/core/formatters.py:672: DeprecationWarning: PlainTextFormatter._type_printers_default is deprecated: use @default decorator instead.\n",
      "  def _type_printers_default(self):\n",
      "/home/rsouza/python/3/venv/local/lib/python3.5/site-packages/IPython/core/formatters.py:677: DeprecationWarning: PlainTextFormatter._deferred_printers_default is deprecated: use @default decorator instead.\n",
      "  def _deferred_printers_default(self):\n"
     ]
    }
   ],
   "source": [
    "import numpy as np\n",
    "import pandas as pd\n",
    "import nltk\n",
    "from bs4 import BeautifulSoup\n",
    "import re\n",
    "import os\n",
    "import codecs\n",
    "import string\n",
    "import matplotlib.pyplot as plt\n",
    "import matplotlib as mpl\n",
    "from sklearn import feature_extraction\n",
    "import mpld3\n",
    "import pyLDAvis\n",
    "import pyLDAvis.gensim\n",
    "\n",
    "%matplotlib inline"
   ]
  },
  {
   "cell_type": "markdown",
   "metadata": {},
   "source": [
    "Specifying the path to the files  "
   ]
  },
  {
   "cell_type": "code",
   "execution_count": 3,
   "metadata": {
    "collapsed": false
   },
   "outputs": [],
   "source": [
    "#datapath = 'C:/Users/marcelo.ribeiro/Documents/textfiles-corrected' # path marcelo\n",
    "datapath = \"../textfiles-corrected\"\n",
    "outputs = \"../outputs/\"\n",
    "import os\n",
    "\n",
    "onlyfiles = [f for f in os.listdir(datapath) if os.path.isfile(os.path.join(datapath,f))]"
   ]
  },
  {
   "cell_type": "code",
   "execution_count": 4,
   "metadata": {
    "collapsed": false
   },
   "outputs": [
    {
     "name": "stderr",
     "output_type": "stream",
     "text": [
      "/home/rsouza/python/3/venv/local/lib/python3.5/site-packages/IPython/core/formatters.py:92: DeprecationWarning: DisplayFormatter._ipython_display_formatter_default is deprecated: use @default decorator instead.\n",
      "  def _ipython_display_formatter_default(self):\n",
      "/home/rsouza/python/3/venv/local/lib/python3.5/site-packages/IPython/core/formatters.py:669: DeprecationWarning: PlainTextFormatter._singleton_printers_default is deprecated: use @default decorator instead.\n",
      "  def _singleton_printers_default(self):\n"
     ]
    },
    {
     "data": {
      "text/plain": [
       "['txt_0007168_484.txt',\n",
       " 'txt_0062976_89.txt',\n",
       " 'txt_0023552_242.txt',\n",
       " 'txt_0002560_270.txt']"
      ]
     },
     "execution_count": 4,
     "metadata": {},
     "output_type": "execute_result"
    }
   ],
   "source": [
    "onlyfiles[0:4]"
   ]
  },
  {
   "cell_type": "code",
   "execution_count": 5,
   "metadata": {
    "collapsed": false
   },
   "outputs": [],
   "source": [
    "symbols = [x for x in string.punctuation]"
   ]
  },
  {
   "cell_type": "markdown",
   "metadata": {},
   "source": [
    "#### make list of txt contents of files"
   ]
  },
  {
   "cell_type": "code",
   "execution_count": 6,
   "metadata": {
    "collapsed": false
   },
   "outputs": [
    {
     "name": "stdout",
     "output_type": "stream",
     "text": [
      "1 % done\n"
     ]
    }
   ],
   "source": [
    "count = 0\n",
    "percentil = int(len(onlyfiles)/100)\n",
    "textos = []\n",
    "\n",
    "for txt in onlyfiles[0:1000]:\n",
    "    with open(os.path.join(datapath,txt), 'r', encoding='utf-8') as f:\n",
    "        count += 1\n",
    "        if count % percentil == 0: print(int(count/percentil),'% done')\n",
    "        texto = f.read()\n",
    "        texto = texto.split()\n",
    "        #print(len(texto))\n",
    "        texto = [p for p in texto if p not in symbols]\n",
    "        #print(len(texto))\n",
    "        texto = [p.strip(string.punctuation) for p in texto]\n",
    "        #print(len(texto))\n",
    "        texto = [p for p in texto if not p.isdigit()]\n",
    "        #print(len(texto))\n",
    "        texto = [p for p in texto if len(p)>1]\n",
    "        #print(len(texto))\n",
    "        #print(texto)\n",
    "        textos.append(texto)\n",
    "#print(textos)"
   ]
  },
  {
   "cell_type": "markdown",
   "metadata": {},
   "source": [
    "### Stopwords, stemming, and tokenizing"
   ]
  },
  {
   "cell_type": "markdown",
   "metadata": {},
   "source": [
    "This section is focused on defining some functions to manipulate the synopses. First, I load [NLTK's](http://www.nltk.org/) list of English stop words. [Stop words](http://en.wikipedia.org/wiki/Stop_words) are words like \"a\", \"the\", or \"in\" which don't convey significant meaning. I'm sure there are much better explanations of this out there."
   ]
  },
  {
   "cell_type": "code",
   "execution_count": 7,
   "metadata": {
    "collapsed": false
   },
   "outputs": [],
   "source": [
    "# load nltk's English stopwords as variable called 'stopwords'\n",
    "additional_words = ['mr',]\n",
    "stopwords = nltk.corpus.stopwords.words('english') + \\\n",
    "            nltk.corpus.stopwords.words('portuguese') + \\\n",
    "            nltk.corpus.stopwords.words('french') + \\\n",
    "            nltk.corpus.stopwords.words('spanish') + \\\n",
    "            additional_words\n",
    "stopwords = list(set(stopwords))"
   ]
  },
  {
   "cell_type": "markdown",
   "metadata": {},
   "source": [
    "### Latent Dirichlet Allocation"
   ]
  },
  {
   "cell_type": "code",
   "execution_count": 8,
   "metadata": {
    "collapsed": false
   },
   "outputs": [
    {
     "name": "stderr",
     "output_type": "stream",
     "text": [
      "/home/rsouza/python/3/venv/local/lib/python3.5/site-packages/theano/configparser.py:81: DeprecationWarning: The SafeConfigParser class has been renamed to ConfigParser in Python 3.2. This alias will be removed in future versions. Use ConfigParser directly instead.\n",
      "  'PID': str(os.getpid()),\n",
      "Using gpu device 0: Quadro K4200 (CNMeM is disabled, cuDNN 5103)\n",
      "/home/rsouza/python/3/venv/local/lib/python3.5/site-packages/theano/sandbox/cuda/__init__.py:600: UserWarning: Your cuDNN version is more recent than the one Theano officially supports. If you see any problems, try updating Theano or downgrading cuDNN to version 5.\n",
      "  warnings.warn(warn)\n",
      "/home/rsouza/python/3/venv/local/lib/python3.5/site-packages/numpy/lib/utils.py:99: DeprecationWarning: `scipy.sparse.sparsetools` is deprecated!\n",
      "scipy.sparse.sparsetools is a private module for scipy.sparse, and should not be used.\n",
      "  warnings.warn(depdoc, DeprecationWarning)\n"
     ]
    },
    {
     "name": "stdout",
     "output_type": "stream",
     "text": [
      "CPU times: user 2.01 s, sys: 0 ns, total: 2.01 s\n",
      "Wall time: 2.01 s\n"
     ]
    }
   ],
   "source": [
    "#Latent Dirichlet Allocation implementation with Gensim\n",
    "from gensim import corpora, models, similarities \n",
    "\n",
    "%time texts = [[word for word in text if word not in stopwords] for text in textos]"
   ]
  },
  {
   "cell_type": "code",
   "execution_count": 9,
   "metadata": {
    "collapsed": false
   },
   "outputs": [
    {
     "name": "stdout",
     "output_type": "stream",
     "text": [
      "1008\n"
     ]
    }
   ],
   "source": [
    "#print(len([word for word in texts[0] if word not in stopwords]))\n",
    "print(len(texts[0]))"
   ]
  },
  {
   "cell_type": "code",
   "execution_count": 10,
   "metadata": {
    "collapsed": false
   },
   "outputs": [],
   "source": [
    "dictionary = corpora.Dictionary(texts)\n",
    "dictionary.filter_extremes(no_below=1, no_above=0.8)\n",
    "#print(dictionary.token2id['']) #examina o id a partir do token\n",
    "#print(dictionary.id2token[0]) #examina o token a partir do id\n",
    "dictionary.filter_tokens(bad_ids=[0,]) #retira palavras a partir do id\n",
    "corpus = [dictionary.doc2bow(text) for text in texts]"
   ]
  },
  {
   "cell_type": "code",
   "execution_count": 12,
   "metadata": {
    "collapsed": false
   },
   "outputs": [
    {
     "data": {
      "text/plain": [
       "1000"
      ]
     },
     "execution_count": 12,
     "metadata": {},
     "output_type": "execute_result"
    }
   ],
   "source": [
    "len(corpus)"
   ]
  },
  {
   "cell_type": "code",
   "execution_count": 19,
   "metadata": {
    "collapsed": false
   },
   "outputs": [
    {
     "name": "stdout",
     "output_type": "stream",
     "text": [
      "CPU times: user 2min 9s, sys: 68 ms, total: 2min 9s\n",
      "Wall time: 2min 9s\n"
     ]
    }
   ],
   "source": [
    "%time lda = models.LdaModel(corpus, num_topics=10, id2word=dictionary, passes=10)"
   ]
  },
  {
   "cell_type": "code",
   "execution_count": 20,
   "metadata": {
    "collapsed": false
   },
   "outputs": [
    {
     "data": {
      "text/plain": [
       "[(5,\n",
       "  '0.005*brasil + 0.003*ministro + 0.002*países + 0.002*governo + 0.002*club + 0.001*república + 0.001*us + 0.001*presidente + 0.001*telegrama + 0.001*embaixador + 0.001*ser + 0.001*apartheid + 0.001*geral + 0.001*eh + 0.001*bons + 0.001*sr + 0.001*exteriores + 0.001*relações + 0.001*política + 0.001*visita'),\n",
       " (7,\n",
       "  '0.005*países + 0.004*brasil + 0.003*governo + 0.003*desenvolvimento + 0.002*cooperação + 0.002*senhora + 0.002*relações + 0.002*ser + 0.002*nações + 0.002*unidas + 0.002*presidente + 0.002*ministro + 0.001*parte + 0.001*brasileiro + 0.001*internacional + 0.001*acordo + 0.001*dois + 0.001*exteriores + 0.001*telegrama + 0.001*geral'),\n",
       " (3,\n",
       "  '0.004*brasil + 0.004*senhor + 0.003*ministro + 0.003*presidente + 0.003*exteriores + 0.003*excelência + 0.002*república + 0.002*ser + 0.002*governo + 0.002*países + 0.002*relações + 0.002*telegrama + 0.002*vossa + 0.002*brasileiro + 0.002*rio + 0.002*acordo + 0.002*embaixador + 0.001*nacional + 0.001*visita + 0.001*itaipu'),\n",
       " (6,\n",
       "  '0.006*united + 0.005*nations + 0.005*committee + 0.004*general + 0.004*resolution + 0.003*states + 0.003*ministro + 0.003*assembly + 0.003*international + 0.003*report + 0.003*países + 0.003*brasil + 0.003*session + 0.003*secretary-general + 0.003*item + 0.002*draft + 0.002*new + 0.002*senhor + 0.002*economic + 0.002*republic'),\n",
       " (2,\n",
       "  '0.005*brasil + 0.004*presidente + 0.004*ministro + 0.003*senhor + 0.003*ser + 0.003*governo + 0.002*países + 0.002*república + 0.002*embaixador + 0.002*relações + 0.002*desenvolvimento + 0.002*acordo + 0.002*argentina + 0.002*ainda + 0.002*syn + 0.002*nuclear + 0.002*nacional + 0.002*milhões + 0.002*exteriores + 0.001*itaipu')]"
      ]
     },
     "execution_count": 20,
     "metadata": {},
     "output_type": "execute_result"
    }
   ],
   "source": [
    "lda.print_topics(5, num_words=20)"
   ]
  },
  {
   "cell_type": "code",
   "execution_count": 21,
   "metadata": {
    "collapsed": false
   },
   "outputs": [
    {
     "data": {
      "text/plain": [
       "[(0,\n",
       "  '0.006*brasil + 0.004*relações + 0.002*exteriores + 0.002*países + 0.002*united + 0.002*governo + 0.002*states + 0.002*presidente + 0.002*acordo + 0.002*commission'),\n",
       " (1,\n",
       "  '0.007*vg + 0.004*countries + 0.004*brasil + 0.003*ser + 0.003*senhor + 0.002*países + 0.002*presidente + 0.002*pt + 0.002*ministro + 0.002*telegrama'),\n",
       " (2,\n",
       "  '0.005*brasil + 0.004*presidente + 0.004*ministro + 0.003*senhor + 0.003*ser + 0.003*governo + 0.002*países + 0.002*república + 0.002*embaixador + 0.002*relações'),\n",
       " (3,\n",
       "  '0.004*brasil + 0.004*senhor + 0.003*ministro + 0.003*presidente + 0.003*exteriores + 0.003*excelência + 0.002*república + 0.002*ser + 0.002*governo + 0.002*países'),\n",
       " (4,\n",
       "  '0.006*países + 0.005*brasil + 0.004*relações + 0.004*ministro + 0.002*desenvolvimento + 0.002*exteriores + 0.002*ser + 0.002*senhor + 0.002*governo + 0.002*presidente'),\n",
       " (5,\n",
       "  '0.005*brasil + 0.003*ministro + 0.002*países + 0.002*governo + 0.002*club + 0.001*república + 0.001*us + 0.001*presidente + 0.001*telegrama + 0.001*embaixador'),\n",
       " (6,\n",
       "  '0.006*united + 0.005*nations + 0.005*committee + 0.004*general + 0.004*resolution + 0.003*states + 0.003*ministro + 0.003*assembly + 0.003*international + 0.003*report'),\n",
       " (7,\n",
       "  '0.005*países + 0.004*brasil + 0.003*governo + 0.003*desenvolvimento + 0.002*cooperação + 0.002*senhora + 0.002*relações + 0.002*ser + 0.002*nações + 0.002*unidas'),\n",
       " (8,\n",
       "  '0.007*brasil + 0.006*governo + 0.003*excelência + 0.003*relações + 0.003*vg + 0.002*vossa + 0.002*presidente + 0.002*ministro + 0.002*países + 0.002*ainda'),\n",
       " (9,\n",
       "  '0.005*brasil + 0.004*relações + 0.003*países + 0.003*presidente + 0.003*parte + 0.003*acordo + 0.002*governo + 0.002*ministro + 0.002*política + 0.002*senhor')]"
      ]
     },
     "execution_count": 21,
     "metadata": {},
     "output_type": "execute_result"
    }
   ],
   "source": [
    "lda.show_topics()"
   ]
  },
  {
   "cell_type": "code",
   "execution_count": 22,
   "metadata": {
    "collapsed": false
   },
   "outputs": [],
   "source": [
    "topics_matrix = lda.show_topics(formatted=False, num_words=20)"
   ]
  },
  {
   "cell_type": "code",
   "execution_count": 23,
   "metadata": {
    "collapsed": false
   },
   "outputs": [
    {
     "data": {
      "text/plain": [
       "(3,\n",
       " [('brasil', 0.0044031461499027622),\n",
       "  ('senhor', 0.0042193573667761381),\n",
       "  ('ministro', 0.0030219345549810442),\n",
       "  ('presidente', 0.0028680800867773395),\n",
       "  ('exteriores', 0.0028027741257134415),\n",
       "  ('excelência', 0.0026452128229373715),\n",
       "  ('república', 0.0024025642675266153),\n",
       "  ('ser', 0.0022953930556888235),\n",
       "  ('governo', 0.0022582958609677134),\n",
       "  ('países', 0.0022462449920188695),\n",
       "  ('relações', 0.0021789213982034423),\n",
       "  ('telegrama', 0.0019408140708849857),\n",
       "  ('vossa', 0.0019283287797634975),\n",
       "  ('brasileiro', 0.0018897977420929643),\n",
       "  ('rio', 0.0017726205640245117),\n",
       "  ('acordo', 0.0016786014490598152),\n",
       "  ('embaixador', 0.0015369928386683221),\n",
       "  ('nacional', 0.0013780804977919659),\n",
       "  ('visita', 0.0013694671077892513),\n",
       "  ('itaipu', 0.0013662136771165105)])"
      ]
     },
     "execution_count": 23,
     "metadata": {},
     "output_type": "execute_result"
    }
   ],
   "source": [
    "topics_matrix[3]"
   ]
  },
  {
   "cell_type": "code",
   "execution_count": 27,
   "metadata": {
    "collapsed": false
   },
   "outputs": [],
   "source": [
    "# https://cran.r-project.org/web/packages/LDAvis/vignettes/details.pdf\n",
    "pyLDAvis.enable_notebook()\n",
    "data_ldavis = pyLDAvis.gensim.prepare(lda, corpus, dictionary)"
   ]
  },
  {
   "cell_type": "code",
   "execution_count": 26,
   "metadata": {
    "collapsed": false
   },
   "outputs": [
    {
     "ename": "TypeError",
     "evalue": "save_html() missing 2 required positional arguments: 'data' and 'fileobj'",
     "output_type": "error",
     "traceback": [
      "\u001b[1;31m---------------------------------------------------------------------------\u001b[0m",
      "\u001b[1;31mTypeError\u001b[0m                                 Traceback (most recent call last)",
      "\u001b[1;32m<ipython-input-26-830a577c3c82>\u001b[0m in \u001b[0;36m<module>\u001b[1;34m()\u001b[0m\n\u001b[1;32m----> 1\u001b[1;33m \u001b[0mpyLDAvis\u001b[0m\u001b[1;33m.\u001b[0m\u001b[0msave_html\u001b[0m\u001b[1;33m(\u001b[0m\u001b[1;33m)\u001b[0m\u001b[1;33m\u001b[0m\u001b[0m\n\u001b[0m",
      "\u001b[1;31mTypeError\u001b[0m: save_html() missing 2 required positional arguments: 'data' and 'fileobj'"
     ]
    }
   ],
   "source": [
    "pyLDAvis.save_html()"
   ]
  },
  {
   "cell_type": "code",
   "execution_count": null,
   "metadata": {
    "collapsed": true
   },
   "outputs": [],
   "source": []
  }
 ],
 "metadata": {
  "kernelspec": {
   "display_name": "Python 3",
   "language": "python",
   "name": "python3"
  },
  "language_info": {
   "codemirror_mode": {
    "name": "ipython",
    "version": 3
   },
   "file_extension": ".py",
   "mimetype": "text/x-python",
   "name": "python",
   "nbconvert_exporter": "python",
   "pygments_lexer": "ipython3",
   "version": "3.5.1+"
  }
 },
 "nbformat": 4,
 "nbformat_minor": 0
}
