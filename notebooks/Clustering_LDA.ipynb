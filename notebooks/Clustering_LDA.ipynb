{
 "cells": [
  {
   "cell_type": "markdown",
   "metadata": {},
   "source": [
    "----------------------------------------------------\n",
    "Modelagem de tópicos de documentos provenientes da base de dados do CPDOC.\n",
    "----------------------------------------------------\n",
    "Base de dados: Antonio Azeredo da Silveira.\n",
    "-----------------------------\n",
    "Número de documentos: 10.428\n",
    "-----------------------------\n",
    "Número de imagens: 66.938\n",
    "-----------------------------"
   ]
  },
  {
   "cell_type": "markdown",
   "metadata": {},
   "source": [
    "### Topic: Clustering documents"
   ]
  },
  {
   "cell_type": "code",
   "execution_count": 1,
   "metadata": {
    "collapsed": false
   },
   "outputs": [
    {
     "name": "stderr",
     "output_type": "stream",
     "text": [
      "/home/rsouza/python/3/venv/local/lib/python3.5/site-packages/funcy/decorators.py:56: DeprecationWarning: inspect.getargspec() is deprecated, use inspect.signature() instead\n",
      "  spec = inspect.getargspec(func)\n",
      "/home/rsouza/python/3/venv/local/lib/python3.5/site-packages/funcy/decorators.py:56: DeprecationWarning: inspect.getargspec() is deprecated, use inspect.signature() instead\n",
      "  spec = inspect.getargspec(func)\n",
      "/home/rsouza/python/3/venv/local/lib/python3.5/site-packages/funcy/decorators.py:56: DeprecationWarning: inspect.getargspec() is deprecated, use inspect.signature() instead\n",
      "  spec = inspect.getargspec(func)\n",
      "/home/rsouza/python/3/venv/local/lib/python3.5/site-packages/funcy/decorators.py:56: DeprecationWarning: inspect.getargspec() is deprecated, use inspect.signature() instead\n",
      "  spec = inspect.getargspec(func)\n",
      "/home/rsouza/python/3/venv/local/lib/python3.5/site-packages/funcy/decorators.py:56: DeprecationWarning: inspect.getargspec() is deprecated, use inspect.signature() instead\n",
      "  spec = inspect.getargspec(func)\n",
      "/home/rsouza/python/3/venv/local/lib/python3.5/site-packages/funcy/decorators.py:56: DeprecationWarning: inspect.getargspec() is deprecated, use inspect.signature() instead\n",
      "  spec = inspect.getargspec(func)\n"
     ]
    }
   ],
   "source": [
    "import nltk\n",
    "import os\n",
    "import codecs\n",
    "import string\n",
    "import matplotlib.pyplot as plt\n",
    "import matplotlib as mpl\n",
    "import pyLDAvis\n",
    "import pyLDAvis.gensim"
   ]
  },
  {
   "cell_type": "markdown",
   "metadata": {},
   "source": [
    "Specifying the path to the files  "
   ]
  },
  {
   "cell_type": "code",
   "execution_count": 2,
   "metadata": {
    "collapsed": false
   },
   "outputs": [],
   "source": [
    "#datapath = 'C:/Users/marcelo.ribeiro/Documents/textfiles-corrected' # path marcelo\n",
    "datapath = \"../textfiles-corrected\"\n",
    "outputs = \"../outputs/\"\n",
    "import os\n",
    "\n",
    "onlyfiles = [f for f in os.listdir(datapath) if os.path.isfile(os.path.join(datapath,f))]"
   ]
  },
  {
   "cell_type": "code",
   "execution_count": 3,
   "metadata": {
    "collapsed": false
   },
   "outputs": [
    {
     "name": "stderr",
     "output_type": "stream",
     "text": [
      "/home/rsouza/python/3/venv/local/lib/python3.5/site-packages/IPython/core/formatters.py:92: DeprecationWarning: DisplayFormatter._ipython_display_formatter_default is deprecated: use @default decorator instead.\n",
      "  def _ipython_display_formatter_default(self):\n",
      "/home/rsouza/python/3/venv/local/lib/python3.5/site-packages/IPython/core/formatters.py:98: DeprecationWarning: DisplayFormatter._formatters_default is deprecated: use @default decorator instead.\n",
      "  def _formatters_default(self):\n",
      "/home/rsouza/python/3/venv/local/lib/python3.5/site-packages/IPython/core/formatters.py:677: DeprecationWarning: PlainTextFormatter._deferred_printers_default is deprecated: use @default decorator instead.\n",
      "  def _deferred_printers_default(self):\n",
      "/home/rsouza/python/3/venv/local/lib/python3.5/site-packages/IPython/core/formatters.py:669: DeprecationWarning: PlainTextFormatter._singleton_printers_default is deprecated: use @default decorator instead.\n",
      "  def _singleton_printers_default(self):\n",
      "/home/rsouza/python/3/venv/local/lib/python3.5/site-packages/IPython/core/formatters.py:672: DeprecationWarning: PlainTextFormatter._type_printers_default is deprecated: use @default decorator instead.\n",
      "  def _type_printers_default(self):\n",
      "/home/rsouza/python/3/venv/local/lib/python3.5/site-packages/IPython/core/formatters.py:669: DeprecationWarning: PlainTextFormatter._singleton_printers_default is deprecated: use @default decorator instead.\n",
      "  def _singleton_printers_default(self):\n",
      "/home/rsouza/python/3/venv/local/lib/python3.5/site-packages/IPython/core/formatters.py:672: DeprecationWarning: PlainTextFormatter._type_printers_default is deprecated: use @default decorator instead.\n",
      "  def _type_printers_default(self):\n",
      "/home/rsouza/python/3/venv/local/lib/python3.5/site-packages/IPython/core/formatters.py:677: DeprecationWarning: PlainTextFormatter._deferred_printers_default is deprecated: use @default decorator instead.\n",
      "  def _deferred_printers_default(self):\n"
     ]
    },
    {
     "data": {
      "text/plain": [
       "['txt_0007168_484.txt',\n",
       " 'txt_0062976_89.txt',\n",
       " 'txt_0023552_242.txt',\n",
       " 'txt_0002560_270.txt']"
      ]
     },
     "execution_count": 3,
     "metadata": {},
     "output_type": "execute_result"
    }
   ],
   "source": [
    "onlyfiles[0:4]"
   ]
  },
  {
   "cell_type": "markdown",
   "metadata": {},
   "source": [
    "#### make list of txt contents of files"
   ]
  },
  {
   "cell_type": "code",
   "execution_count": 4,
   "metadata": {
    "collapsed": false
   },
   "outputs": [
    {
     "name": "stdout",
     "output_type": "stream",
     "text": [
      "1 % done\n",
      "2 % done\n",
      "3 % done\n",
      "4 % done\n",
      "5 % done\n",
      "6 % done\n",
      "7 % done\n",
      "8 % done\n",
      "9 % done\n",
      "10 % done\n",
      "11 % done\n",
      "12 % done\n",
      "13 % done\n",
      "14 % done\n",
      "15 % done\n",
      "16 % done\n",
      "17 % done\n",
      "18 % done\n",
      "19 % done\n",
      "20 % done\n",
      "21 % done\n",
      "22 % done\n",
      "23 % done\n",
      "24 % done\n",
      "25 % done\n",
      "26 % done\n",
      "27 % done\n",
      "28 % done\n",
      "29 % done\n",
      "30 % done\n",
      "31 % done\n",
      "32 % done\n",
      "33 % done\n",
      "34 % done\n",
      "35 % done\n",
      "36 % done\n",
      "37 % done\n",
      "38 % done\n",
      "39 % done\n",
      "40 % done\n",
      "41 % done\n",
      "42 % done\n",
      "43 % done\n",
      "44 % done\n",
      "45 % done\n",
      "46 % done\n",
      "47 % done\n",
      "48 % done\n",
      "49 % done\n",
      "50 % done\n",
      "51 % done\n",
      "52 % done\n",
      "53 % done\n",
      "54 % done\n",
      "55 % done\n",
      "56 % done\n",
      "57 % done\n",
      "58 % done\n",
      "59 % done\n",
      "60 % done\n",
      "61 % done\n",
      "62 % done\n",
      "63 % done\n",
      "64 % done\n",
      "65 % done\n",
      "66 % done\n",
      "67 % done\n",
      "68 % done\n",
      "69 % done\n",
      "70 % done\n",
      "71 % done\n",
      "72 % done\n",
      "73 % done\n",
      "74 % done\n",
      "75 % done\n",
      "76 % done\n",
      "77 % done\n",
      "78 % done\n",
      "79 % done\n",
      "80 % done\n",
      "81 % done\n",
      "82 % done\n",
      "83 % done\n",
      "84 % done\n",
      "85 % done\n",
      "86 % done\n",
      "87 % done\n",
      "88 % done\n",
      "89 % done\n",
      "90 % done\n",
      "91 % done\n",
      "92 % done\n",
      "93 % done\n",
      "94 % done\n",
      "95 % done\n",
      "96 % done\n",
      "97 % done\n",
      "98 % done\n",
      "99 % done\n",
      "100 % done\n"
     ]
    }
   ],
   "source": [
    "count = 0\n",
    "percentil = int(len(onlyfiles)/100)\n",
    "textos = []\n",
    "\n",
    "for txt in onlyfiles:\n",
    "    with open(os.path.join(datapath,txt), 'r', encoding='utf-8') as f:\n",
    "        count += 1\n",
    "        if count % percentil == 0: print(int(count/percentil),'% done')\n",
    "        texto = f.read()\n",
    "        texto = texto.split()\n",
    "        #print(len(texto))\n",
    "        symbols = [x for x in string.punctuation]\n",
    "        texto = [p for p in texto if p not in symbols]\n",
    "        #print(len(texto))\n",
    "        texto = [p.strip(string.punctuation) for p in texto]\n",
    "        #print(len(texto))\n",
    "        texto = [p for p in texto if not p.isdigit()]\n",
    "        #print(len(texto))\n",
    "        texto = [p for p in texto if len(p)>1]\n",
    "        #print(len(texto))\n",
    "        #print(texto)\n",
    "        textos.append(texto)\n",
    "#print(textos)"
   ]
  },
  {
   "cell_type": "markdown",
   "metadata": {},
   "source": [
    "### Stopwords, stemming, and tokenizing"
   ]
  },
  {
   "cell_type": "markdown",
   "metadata": {},
   "source": [
    "This section is focused on defining some functions to manipulate the synopses. First, I load [NLTK's](http://www.nltk.org/) list of English stop words. [Stop words](http://en.wikipedia.org/wiki/Stop_words) are words like \"a\", \"the\", or \"in\" which don't convey significant meaning. I'm sure there are much better explanations of this out there."
   ]
  },
  {
   "cell_type": "code",
   "execution_count": 5,
   "metadata": {
    "collapsed": false
   },
   "outputs": [],
   "source": [
    "# load nltk's English stopwords as variable called 'stopwords'\n",
    "additional_words = ['mr','one', 'two', 'three', 'four', \n",
    "                    'five', 'um', 'dois', 'três', 'quatro', \n",
    "                    'cinco', 'janeiro', 'fevereiro', 'março', \n",
    "                    'abril', 'maio', 'junho', 'julho', 'agosto', \n",
    "                    'setembro', 'outubro', 'novembro', 'dezembro', \n",
    "                    'january', 'february', 'march', 'april', 'may', \n",
    "                    'june', 'july', 'august', 'september', \n",
    "                    'october', 'november', 'december', 'países', \n",
    "                    'ser', 'país', 'ainda', 'milhões', 'maior', \n",
    "                    'anos', 'grande', 'apenas', 'outros', 'pode', \n",
    "                    'parte', 'partes', 'item', 'vossa', 'nota', \n",
    "                    'havia', 'pt', 'vg', 'eh', 'nr', 'hrs', \n",
    "                    'pais', 'parte', 'hoje', 'brasemb', 'ontem', \n",
    "                    'dia', 'countries', 'would', 'new', 'also', \n",
    "                    'must', 'draft', 'shall', 'item', 'page', \n",
    "                    'th', 'anos', 'ii', 'dias', 'poderá', 'caso', \n",
    "                    'casos', 'qualquer', 'ano', 'mil', 'pessoas', \n",
    "                    'único', 'única', 'únicos', 'únicas', 'índice', \n",
    "                    'expedido', 'co', 'mm', 'er', 'via', 'ww', 'ra', \n",
    "                    'ia', 'ca', 'nu', 'wa', 'aa', 'ms', 'dc', 'mmm', 'pa']\n",
    "\n",
    "stopwords = nltk.corpus.stopwords.words('english') + \\\n",
    "            nltk.corpus.stopwords.words('portuguese') + \\\n",
    "            nltk.corpus.stopwords.words('french') + \\\n",
    "            nltk.corpus.stopwords.words('spanish') + \\\n",
    "            additional_words\n",
    "            \n",
    "stopwords = list(set(stopwords))"
   ]
  },
  {
   "cell_type": "markdown",
   "metadata": {},
   "source": [
    "### Latent Dirichlet Allocation"
   ]
  },
  {
   "cell_type": "code",
   "execution_count": 6,
   "metadata": {
    "collapsed": false
   },
   "outputs": [
    {
     "name": "stderr",
     "output_type": "stream",
     "text": [
      "/home/rsouza/python/3/venv/local/lib/python3.5/site-packages/theano/configparser.py:81: DeprecationWarning: The SafeConfigParser class has been renamed to ConfigParser in Python 3.2. This alias will be removed in future versions. Use ConfigParser directly instead.\n",
      "  'PID': str(os.getpid()),\n",
      "Using gpu device 0: Quadro K4200 (CNMeM is disabled, cuDNN 5103)\n",
      "/home/rsouza/python/3/venv/local/lib/python3.5/site-packages/theano/sandbox/cuda/__init__.py:600: UserWarning: Your cuDNN version is more recent than the one Theano officially supports. If you see any problems, try updating Theano or downgrading cuDNN to version 5.\n",
      "  warnings.warn(warn)\n",
      "/home/rsouza/python/3/venv/local/lib/python3.5/site-packages/numpy/lib/utils.py:99: DeprecationWarning: `scipy.sparse.sparsetools` is deprecated!\n",
      "scipy.sparse.sparsetools is a private module for scipy.sparse, and should not be used.\n",
      "  warnings.warn(depdoc, DeprecationWarning)\n"
     ]
    },
    {
     "name": "stdout",
     "output_type": "stream",
     "text": [
      "CPU times: user 2min 9s, sys: 200 ms, total: 2min 10s\n",
      "Wall time: 2min 10s\n"
     ]
    }
   ],
   "source": [
    "#Latent Dirichlet Allocation implementation with Gensim\n",
    "from gensim import corpora, models, similarities \n",
    "\n",
    "%time texts = [[word for word in text if word not in stopwords] for text in textos]"
   ]
  },
  {
   "cell_type": "code",
   "execution_count": 7,
   "metadata": {
    "collapsed": false
   },
   "outputs": [
    {
     "name": "stdout",
     "output_type": "stream",
     "text": [
      "995\n"
     ]
    }
   ],
   "source": [
    "#print(len([word for word in texts[0] if word not in stopwords]))\n",
    "print(len(texts[0]))"
   ]
  },
  {
   "cell_type": "code",
   "execution_count": 8,
   "metadata": {
    "collapsed": false
   },
   "outputs": [],
   "source": [
    "dictionary = corpora.Dictionary(texts)\n",
    "dictionary.filter_extremes(no_below=1, no_above=0.8)\n",
    "#print(dictionary.token2id['']) #examina o id a partir do token\n",
    "#print(dictionary.id2token[0]) #examina o token a partir do id\n",
    "dictionary.filter_tokens(bad_ids=[0,]) #retira palavras a partir do id\n",
    "corpus = [dictionary.doc2bow(text) for text in texts]"
   ]
  },
  {
   "cell_type": "code",
   "execution_count": 9,
   "metadata": {
    "collapsed": false
   },
   "outputs": [
    {
     "data": {
      "text/plain": [
       "66908"
      ]
     },
     "execution_count": 9,
     "metadata": {},
     "output_type": "execute_result"
    }
   ],
   "source": [
    "len(corpus)"
   ]
  },
  {
   "cell_type": "code",
   "execution_count": 10,
   "metadata": {
    "collapsed": false
   },
   "outputs": [
    {
     "name": "stdout",
     "output_type": "stream",
     "text": [
      "CPU times: user 25min 52s, sys: 18.8 s, total: 26min 11s\n",
      "Wall time: 25min 50s\n"
     ]
    }
   ],
   "source": [
    "%time lda = models.LdaModel(corpus, num_topics=10, id2word=dictionary, passes=10)"
   ]
  },
  {
   "cell_type": "code",
   "execution_count": 11,
   "metadata": {
    "collapsed": false
   },
   "outputs": [
    {
     "data": {
      "text/plain": [
       "[(7,\n",
       "  '0.018*telegrama + 0.008*minuta + 0.008*classificação + 0.006*recebido + 0.005*alterada + 0.005*decreto + 0.005*ostensivo + 0.004*reservado + 0.004*ordem + 0.004*distribuição + 0.004*ar + 0.003*confidencial + 0.003*secreto + 0.003*mw + 0.003*página + 0.003*ro + 0.002*ue + 0.002*ja + 0.002*io + 0.002*número'),\n",
       " (4,\n",
       "  '0.010*brasil + 0.007*governo + 0.006*política + 0.005*relações + 0.004*unidos + 0.004*posição + 0.004*nações + 0.003*geral + 0.003*internacional + 0.003*quanto + 0.003*respeito + 0.003*questão + 0.003*brasileiro + 0.003*projeto + 0.003*assim + 0.002*relação + 0.002*direitos + 0.002*vez + 0.002*ter + 0.002*forma'),\n",
       " (6,\n",
       "  \"0.005*gobierno + 0.004*si + 0.004*paraguay + 0.004*brasil + 0.004*relaciones + 0.003*acuerdo + 0.003*general + 0.003*pays + 0.003*artículo + 0.003*buenos + 0.002*cette + 0.002*plus + 0.002*reunion + 0.002*desarrollo + 0.002*deux + 0.002*monsieur + 0.002*droit + 0.002*bien + 0.002*brésil + 0.002*d'un\"),\n",
       " (8,\n",
       "  '0.021*ministro + 0.020*senhor + 0.015*presidente + 0.014*exteriores + 0.013*excelência + 0.012*embaixador + 0.012*relações + 0.012*brasil + 0.009*república + 0.008*visita + 0.007*silveira + 0.007*governo + 0.006*embaixada + 0.006*azeredo + 0.005*chefe + 0.005*brasília + 0.005*reunião + 0.004*secreto + 0.004*informação + 0.004*antonio'),\n",
       " (2,\n",
       "  '0.014*brasil + 0.009*desenvolvimento + 0.009*cooperação + 0.006*acordo + 0.004*comércio + 0.004*nuclear + 0.004*produtos + 0.004*energia + 0.003*recursos + 0.003*us + 0.003*brasileira + 0.003*comercial + 0.003*tecnologia + 0.003*relações + 0.003*internacional + 0.003*brasileiro + 0.003*nacional + 0.003*econômica + 0.003*produção + 0.003*brasileiras')]"
      ]
     },
     "execution_count": 11,
     "metadata": {},
     "output_type": "execute_result"
    }
   ],
   "source": [
    "lda.print_topics(5, num_words=20)"
   ]
  },
  {
   "cell_type": "code",
   "execution_count": 12,
   "metadata": {
    "collapsed": false
   },
   "outputs": [
    {
     "data": {
      "text/plain": [
       "[(0,\n",
       "  '0.023*itaipu + 0.019*rio + 0.019*argentina + 0.016*corpus + 0.011*paraguai + 0.008*argentino + 0.008*cota + 0.006*operação + 0.006*prata + 0.005*assunção'),\n",
       " (1,\n",
       "  '0.009*states + 0.006*international + 0.006*united + 0.006*world + 0.006*economic + 0.005*brazil + 0.005*development + 0.004*nuclear + 0.004*government + 0.004*developing'),\n",
       " (2,\n",
       "  '0.014*brasil + 0.009*desenvolvimento + 0.009*cooperação + 0.006*acordo + 0.004*comércio + 0.004*nuclear + 0.004*produtos + 0.004*energia + 0.003*recursos + 0.003*us'),\n",
       " (3,\n",
       "  '0.017*artigo + 0.009*art + 0.009*lei + 0.006*federal + 0.006*nacional + 0.006*comissão + 0.005*conselho + 0.005*república + 0.005*presente + 0.005*ministério'),\n",
       " (4,\n",
       "  '0.010*brasil + 0.007*governo + 0.006*política + 0.005*relações + 0.004*unidos + 0.004*posição + 0.004*nações + 0.003*geral + 0.003*internacional + 0.003*quanto'),\n",
       " (5,\n",
       "  '0.018*united + 0.016*committee + 0.015*general + 0.014*nations + 0.011*resolution + 0.011*assembly + 0.009*international + 0.009*report + 0.008*republic + 0.006*article'),\n",
       " (6,\n",
       "  '0.005*gobierno + 0.004*si + 0.004*paraguay + 0.004*brasil + 0.004*relaciones + 0.003*acuerdo + 0.003*general + 0.003*pays + 0.003*artículo + 0.003*buenos'),\n",
       " (7,\n",
       "  '0.018*telegrama + 0.008*minuta + 0.008*classificação + 0.006*recebido + 0.005*alterada + 0.005*decreto + 0.005*ostensivo + 0.004*reservado + 0.004*ordem + 0.004*distribuição'),\n",
       " (8,\n",
       "  '0.021*ministro + 0.020*senhor + 0.015*presidente + 0.014*exteriores + 0.013*excelência + 0.012*embaixador + 0.012*relações + 0.012*brasil + 0.009*república + 0.008*visita'),\n",
       " (9,\n",
       "  '0.012*chanceler + 0.009*brasil + 0.009*lembrete + 0.009*recebido + 0.009*serie + 0.007*global + 0.006*imprensa + 0.006*presidente + 0.005*política + 0.005*telegrama')]"
      ]
     },
     "execution_count": 12,
     "metadata": {},
     "output_type": "execute_result"
    }
   ],
   "source": [
    "lda.show_topics()"
   ]
  },
  {
   "cell_type": "code",
   "execution_count": 13,
   "metadata": {
    "collapsed": false
   },
   "outputs": [],
   "source": [
    "topics_matrix = lda.show_topics(formatted=False, num_words=20)"
   ]
  },
  {
   "cell_type": "code",
   "execution_count": 14,
   "metadata": {
    "collapsed": false
   },
   "outputs": [
    {
     "data": {
      "text/plain": [
       "(3,\n",
       " [('artigo', 0.01650958373968036),\n",
       "  ('art', 0.0094644878881821864),\n",
       "  ('lei', 0.0092604656134514102),\n",
       "  ('federal', 0.0064334356510879114),\n",
       "  ('nacional', 0.006118451421108265),\n",
       "  ('comissão', 0.0059965315201496831),\n",
       "  ('conselho', 0.0053754056553521664),\n",
       "  ('república', 0.0051860261726265761),\n",
       "  ('presente', 0.0050173040987605746),\n",
       "  ('ministério', 0.0049937884784988715),\n",
       "  ('acordo', 0.004686882691665336),\n",
       "  ('parágrafo', 0.0042934249813416691),\n",
       "  ('membros', 0.0042545514011241388),\n",
       "  ('direito', 0.0038846365887147145),\n",
       "  ('serviço', 0.0035226390964439272),\n",
       "  ('contratantes', 0.0035105723729563472),\n",
       "  ('congresso', 0.0033676938318321463),\n",
       "  ('decreto', 0.0033591242999037861),\n",
       "  ('órgãos', 0.0032875159359665282),\n",
       "  ('vigor', 0.0031665908419624559)])"
      ]
     },
     "execution_count": 14,
     "metadata": {},
     "output_type": "execute_result"
    }
   ],
   "source": [
    "topics_matrix[3]"
   ]
  },
  {
   "cell_type": "code",
   "execution_count": 15,
   "metadata": {
    "collapsed": false
   },
   "outputs": [
    {
     "data": {
      "text/html": [
       "\n",
       "<link rel=\"stylesheet\" type=\"text/css\" href=\"https://cdn.rawgit.com/bmabey/pyLDAvis/files/ldavis.v1.0.0.css\">\n",
       "\n",
       "\n",
       "<div id=\"ldavis_el1337351406644436889044167050134\"></div>\n",
       "<script type=\"text/javascript\">\n",
       "\n",
       "var ldavis_el1337351406644436889044167050134_data = {\"lambda.step\": 0.01, \"token.table\": {\"Term\": [\"16:00\", \"aaaaa\", \"abraco\", \"abra\\u00e7o\", \"absten\\u00e7\\u00f5es\", \"ac\", \"ac\", \"ac\", \"ac\", \"acaray\", \"accordance\", \"acontecimentos\", \"acordo\", \"acordo\", \"acordo\", \"acordo\", \"acordo\", \"acordo\", \"acuerdo\", \"administrativa\", \"administrativa\", \"administrativa\", \"administrative\", \"administrativo\", \"administrativo\", \"administra\\u00e7\\u00e3o\", \"administra\\u00e7\\u00e3o\", \"administra\\u00e7\\u00e3o\", \"administra\\u00e7\\u00e3o\", \"adopted\", \"advisory\", \"ae\", \"ae\", \"ae\", \"ae\", \"ae\", \"ae\", \"afetuoso\", \"africana\", \"africano\", \"africanos\", \"agencia\", \"agradeceria\", \"agrade\\u00e7o\", \"agreement\", \"agreement\", \"ah\", \"aig\", \"aires\", \"aires\", \"aires\", \"almo\\u00e7o\", \"alterada\", \"alunos\", \"ambassador\", \"amea\\u00e7a\", \"amendment\", \"america\", \"america\", \"america\", \"america\", \"america\", \"america\", \"america\", \"american\", \"ande\", \"antonio\", \"antonio\", \"antonio\", \"apos\", \"apos\", \"apos\", \"aposentadoria\", \"aproveitamento\", \"aproveitamento\", \"aproveitamento\", \"aproveitamentos\", \"aproveito\", \"ar\", \"ar\", \"ar\", \"ar\", \"ar\", \"ar\", \"ar\", \"arab\", \"arab\", \"argentina\", \"argentina\", \"argentina\", \"argentina\", \"argentina\", \"argentina\", \"argentino\", \"argentino\", \"argentino\", \"argentino\", \"argentinos\", \"arms\", \"art\", \"art\", \"article\", \"article\", \"artigo\", \"artigo\", \"art\\u00edculo\", \"aspas\", \"assembleia\", \"assembleia\", \"assembleia\", \"assembleia\", \"assembly\", \"assim\", \"assim\", \"assim\", \"assim\", \"assim\", \"assunto\", \"assunto\", \"assunto\", \"assun\\u00e7\\u00e3o\", \"assun\\u00e7\\u00e3o\", \"ateh\", \"atitude\", \"ato\", \"ato\", \"ato\", \"ato\", \"atos\", \"atos\", \"atos\", \"atos\", \"audi\\u00eancia\", \"autoridade\", \"autoridade\", \"autoridade\", \"autorizo\", \"autorizo\", \"azeredo\", \"azeredo\", \"azeredo\", \"bacia\", \"bacia\", \"barragem\", \"believe\", \"bien\", \"bilh\\u00f5es\", \"board\", \"br\", \"br\", \"brasil\", \"brasil\", \"brasil\", \"brasil\", \"brasil\", \"brasil\", \"brasil\", \"brasileira\", \"brasileira\", \"brasileira\", \"brasileira\", \"brasileira\", \"brasileira\", \"brasileiras\", \"brasileiras\", \"brasileiras\", \"brasileiras\", \"brasileiras\", \"brasileiro\", \"brasileiro\", \"brasileiro\", \"brasileiro\", \"brasileiro\", \"brasileiros\", \"brasileiros\", \"brasileiros\", \"brasileiros\", \"brasileiros\", \"brasileiros\", \"bras\\u00edlia\", \"bras\\u00edlia\", \"bras\\u00edlia\", \"bras\\u00edlia\", \"bras\\u00edlia\", \"bras\\u00edlia\", \"brazil\", \"brazil\", \"brazilian\", \"br\\u00e9sil\", \"buenos\", \"buenos\", \"buenos\", \"cada\", \"cada\", \"cada\", \"cada\", \"cada\", \"callaghan\", \"campo\", \"campo\", \"campo\", \"campo\", \"cannot\", \"cargos\", \"carlos\", \"carlos\", \"caudal\", \"cc\", \"ceausescu\", \"cette\", \"chanceler\", \"chanceler\", \"chanceler\", \"chefe\", \"chefe\", \"chefe\", \"chefe\", \"cient\\u00edfica\", \"classifica\\u00e7\\u00e3o\", \"classifica\\u00e7\\u00e3o\", \"coh\", \"coi\", \"comerciais\", \"comerciais\", \"comerciais\", \"comercial\", \"comercial\", \"comercial\", \"comercio\", \"comercio\", \"comercio\", \"comercio\", \"comiss\\u00e3o\", \"comiss\\u00e3o\", \"comiss\\u00e3o\", \"comiss\\u00e3o\", \"comit\\u00e9\", \"commission\", \"commission\", \"commission\", \"committee\", \"communications\", \"communications\", \"communications\", \"communications\", \"competente\", \"competente\", \"compras\", \"com\\u00e9rcio\", \"com\\u00e9rcio\", \"conceitos\", \"conference\", \"conference\", \"conferencia\", \"conferencia\", \"conferencia\", \"conferencia\", \"confidencial\", \"confidencial\", \"confidencial\", \"confidencial\", \"confidencial\", \"conflito\", \"conflitos\", \"congresso\", \"congresso\", \"congresso\", \"congresso\", \"consci\\u00eancia\", \"conselheiro\", \"conselho\", \"conselho\", \"conselho\", \"consenso\", \"consenso\", \"consideration\", \"consideration\", \"consideration\", \"constitui\\u00e7\\u00e3o\", \"constitui\\u00e7\\u00e3o\", \"constitui\\u00e7\\u00e3o\", \"constru\\u00e7\\u00e3o\", \"constru\\u00e7\\u00e3o\", \"consular\", \"consular\", \"consular\", \"consulares\", \"contained\", \"continente\", \"continente\", \"continente\", \"continua\", \"continua\", \"continua\", \"continua\", \"continua\", \"continua\", \"continua\\u00e7\\u00e3o\", \"continua\\u00e7\\u00e3o\", \"continua\\u00e7\\u00e3o\", \"continua\\u00e7\\u00e3o\", \"continua\\u00e7\\u00e3o\", \"contratante\", \"contratantes\", \"contratos\", \"contratos\", \"convention\", \"convention\", \"conversa\", \"conversa\", \"convite\", \"convite\", \"convite\", \"coopera\\u00e7\\u00e3o\", \"coopera\\u00e7\\u00e3o\", \"coopera\\u00e7\\u00e3o\", \"coopera\\u00e7\\u00e3o\", \"coronel\", \"corpus\", \"cota\", \"cotas\", \"could\", \"could\", \"council\", \"country\", \"cours\", \"crescimento\", \"crimmins\", \"cs\", \"cu\", \"cu\", \"cuenca\", \"c\\u00f4nsul\", \"d'estaing\", \"d'un\", \"d'une\", \"dasp\", \"debernardi\", \"decreto\", \"decreto\", \"decreto-lei\", \"delega\\u00e7\\u00f5es\", \"delega\\u00e7\\u00f5es\", \"derecho\", \"derechos\", \"desarmamento\", \"desarrollo\", \"descarga\", \"desenvolvimento\", \"desenvolvimento\", \"deux\", \"developing\", \"developing\", \"development\", \"development\", \"devemos\", \"deverah\", \"dh\", \"direito\", \"direito\", \"direitos\", \"direitos\", \"discrimination\", \"discurso\", \"discurso\", \"discurso\", \"disposi\\u00e7\\u00f5es\", \"disposi\\u00e7\\u00f5es\", \"disposi\\u00e7\\u00f5es\", \"distribui\\u00e7\\u00e3o\", \"distribui\\u00e7\\u00e3o\", \"distribui\\u00e7\\u00e3o\", \"distribui\\u00e7\\u00e3o\", \"di\\u00e1logo\", \"di\\u00e1logo\", \"dn\", \"dn\", \"document\", \"documento\", \"documento\", \"documento\", \"documento\", \"documento\", \"doutor\", \"droit\", \"d\\u00f3lares\", \"d\\u00f3lares\", \"d\\u00f3lares\", \"eanes\", \"economia\", \"economia\", \"economia\", \"economia\", \"economic\", \"economic\", \"econ\\u00f4mica\", \"econ\\u00f4mica\", \"econ\\u00f4mica\", \"econ\\u00f4mica\", \"editorial\", \"ee\", \"ee\", \"ee\", \"ee\", \"ee\", \"effort\", \"egrama\", \"eletrobr\\u00e1s\", \"ello\", \"embaixada\", \"embaixada\", \"embaixador\", \"embassy\", \"embora\", \"embora\", \"embora\", \"empresas\", \"empresas\", \"enchimento\", \"energia\", \"energia\", \"energia\", \"energia\", \"energy\", \"english\", \"entao\", \"entao\", \"entao\", \"entao\", \"entrar\\u00e1\", \"equipamentos\", \"escuro\", \"estadual\", \"estrangeiro\", \"estrangeiro\", \"etats\", \"evolucao\", \"excelent\\u00edssimo\", \"excellence\", \"excellency\", \"excel\\u00eancia\", \"excel\\u00eancias\", \"expans\\u00e3o\", \"exportadores\", \"exporta\\u00e7\\u00e3o\", \"exporta\\u00e7\\u00f5es\", \"exteriores\", \"exteriores\", \"exteriores\", \"exteriores\", \"exteriores\", \"exteriores\", \"faculdade\", \"fato\", \"fato\", \"fato\", \"fato\", \"fato\", \"fatos\", \"fatos\", \"fatos\", \"federal\", \"federal\", \"federal\", \"federal\", \"federal\", \"federal\", \"ferro\", \"fifth\", \"fin\", \"fin\", \"financiamento\", \"financiamento\", \"following\", \"following\", \"follows\", \"forcas\", \"foreign\", \"foreign\", \"forma\", \"forma\", \"forma\", \"forma\", \"forma\", \"foz\", \"fr\", \"franca\", \"franca\", \"franca\", \"franca\", \"frances\", \"fu\", \"fu\", \"funcional\", \"f\\u00f4r\", \"gabinete\", \"gabinete\", \"geisel\", \"geisel\", \"geisel\", \"geisel\", \"geisel\", \"general\", \"general\", \"general\", \"general\", \"general\", \"geral\", \"geral\", \"geral\", \"geral\", \"geral\", \"geral\", \"giscard\", \"global\", \"global\", \"global\", \"global\", \"global\", \"gobierno\", \"gobiernos\", \"good\", \"government\", \"government\", \"governo\", \"governo\", \"governo\", \"governo\", \"governo\", \"grupo\", \"grupo\", \"grupo\", \"grupo\", \"grupo\", \"grupo\", \"grupo\", \"gu\", \"hah\", \"hecho\", \"hl7/67\", \"ho\", \"ho\", \"ho\", \"ho\", \"honra\", \"honra\", \"horas\", \"horas\", \"horas\", \"horas\", \"horas\", \"however\", \"however\", \"hu\", \"humanos\", \"humanos\", \"humanos\", \"igua\\u00e7u\", \"iii\", \"iii\", \"iii\", \"iii\", \"iii\", \"iii\", \"iii\", \"iii\", \"iii\", \"important\", \"importa\\u00e7\\u00e3o\", \"importa\\u00e7\\u00f5es\", \"imprensa\", \"imprensa\", \"imprensa\", \"inciso\", \"inciso\", \"industriais\", \"informa\\u00e7\\u00e3o\", \"informa\\u00e7\\u00e3o\", \"informa\\u00e7\\u00e3o\", \"informa\\u00e7\\u00e3o\", \"instituto\", \"instituto\", \"instituto\", \"intencao\", \"interc\\u00e2mbio\", \"interesse\", \"interesse\", \"interesse\", \"interesses\", \"interesses\", \"interesses\", \"interest\", \"interest\", \"interests\", \"internacional\", \"internacional\", \"internacional\", \"internacional\", \"internacional\", \"internacional\", \"international\", \"international\", \"international\", \"interven\\u00e7\\u00e3o\", \"investimentos\", \"investimentos\", \"io\", \"io\", \"io\", \"io\", \"ir\", \"ir\", \"ir\", \"ir\", \"ir\", \"issues\", \"itaipu\", \"itamaraty\", \"itamaraty\", \"itamaraty\", \"itamaraty\", \"iu\", \"ja\", \"ja\", \"ja\", \"ja\", \"ja\", \"ja\", \"jah\", \"jah\", \"jantar\", \"jornais\", \"jornais\", \"jornal\", \"jo\\u00e3o\", \"jo\\u00e3o\", \"jo\\u00e3o\", \"juiz\", \"jusante\", \"justi\\u00e7a\", \"justi\\u00e7a\", \"justi\\u00e7a\", \"know\", \"last\", \"last\", \"latin\", \"latin\", \"latin\", \"latin\", \"law\", \"law\", \"law\", \"ld\", \"legisla\\u00e7\\u00e3o\", \"legisla\\u00e7\\u00e3o\", \"legisla\\u00e7\\u00e3o\", \"lei\", \"lei\", \"lei\", \"leis\", \"leis\", \"lembrete\", \"lider\", \"like\", \"londres\", \"londres\", \"londres\", \"londres\", \"lr\", \"lu\", \"lu\", \"lu\", \"lu\", \"luiz\", \"maneira\", \"maneira\", \"maneira\", \"many\", \"mayor\", \"mayor\", \"mayor\", \"meeting\", \"meeting\", \"member\", \"member\", \"membros\", \"membros\", \"membros\", \"membros\", \"membros\", \"mercado\", \"mercados\", \"metros\", \"minister\", \"minister\", \"ministro\", \"ministro\", \"minist\\u00e9rio\", \"minist\\u00e9rio\", \"minist\\u00e9rio\", \"minist\\u00e9rio\", \"minist\\u00e9rio\", \"minulado\", \"minulado\", \"minuta\", \"minuta\", \"minutado\", \"minutado\", \"mismo\", \"miss\\u00e3o\", \"miss\\u00e3o\", \"miss\\u00e3o\", \"miss\\u00e3o\", \"mo\", \"mo\", \"mo\", \"mo\", \"mo\", \"mo\", \"mo\", \"monsieur\", \"movimentos\", \"much\", \"mundo\", \"mundo\", \"mundo\", \"munic\\u00edpios\", \"mw\", \"mw\", \"mw\", \"mw\", \"mz\", \"nacional\", \"nacional\", \"nacional\", \"nacional\", \"nacional\", \"nacional\", \"national\", \"national\", \"national\", \"nations\", \"nations\", \"navega\\u00e7\\u00e3o\", \"navega\\u00e7\\u00e3o\", \"na\\u00e7\\u00f5es\", \"na\\u00e7\\u00f5es\", \"negotiations\", \"neg\\u00f3cios\", \"neg\\u00f3cios\", \"neg\\u00f3cios\", \"neg\\u00f3cios\", \"neg\\u00f3cios\", \"nf\", \"nm\", \"nm\", \"nn\", \"nn\", \"nn\", \"nogueira\", \"nordeste\", \"noticia\", \"noticia\", \"noticia\", \"noticiario\", \"noticias\", \"noticias\", \"nte\", \"nuclear\", \"nuclear\", \"nuclear\", \"nuclear\", \"nucleares\", \"nucleares\", \"nucleares\", \"nv\", \"n\\u00edvel\", \"n\\u00edvel\", \"n\\u00edvel\", \"n\\u00edvel\", \"n\\u00edvel\", \"n\\u00famero\", \"n\\u00famero\", \"n\\u00famero\", \"n\\u00famero\", \"n\\u00famero\", \"n\\u00famero\", \"obra\", \"obra\", \"obra\", \"obra\", \"obra\", \"obras\", \"obras\", \"obras\", \"ocasi\\u00e3o\", \"ocasi\\u00e3o\", \"ocasi\\u00e3o\", \"ocasi\\u00e3o\", \"ocidentais\", \"ode\", \"oe\", \"oe\", \"oe\", \"oe\", \"oe\", \"oe\", \"oe\", \"oe\", \"oferecido\", \"oferecido\", \"oferta\", \"operative\", \"opera\\u00e7\\u00e3o\", \"opera\\u00e7\\u00e3o\", \"opini\\u00e3o\", \"opini\\u00e3o\", \"ordem\", \"ordem\", \"ordem\", \"ordem\", \"ordem\", \"ordem\", \"ordem\", \"organizations\", \"organizations\", \"or\\u00e7amento\", \"or\\u00e7amento\", \"or\\u00e7ament\\u00e1ria\", \"ostensivo\", \"ostensivo\", \"oue\", \"oue\", \"oue\", \"pagamentos\", \"pagina\", \"pal\\u00e1cio\", \"paragraph\", \"paraguai\", \"paraguai\", \"paraguai\", \"paraguaia\", \"paraguaio\", \"paraguaios\", \"paraguay\", \"paraguay\", \"paran\\u00e1\", \"paran\\u00e3\", \"parece\", \"parece\", \"parece\", \"paris\", \"paris\", \"paris\", \"paris\", \"paris\", \"paris\", \"participa\\u00e7\\u00e3o\", \"participa\\u00e7\\u00e3o\", \"participa\\u00e7\\u00e3o\", \"participa\\u00e7\\u00e3o\", \"par\\u00e1grafo\", \"par\\u00e1grafo\", \"par\\u00e1grafo\", \"passaporte\", \"passaportes\", \"paulo\", \"paulo\", \"paulo\", \"paulo\", \"paulo\", \"pays\", \"pe\", \"pe\", \"pe\", \"pe\", \"pe\", \"pe\", \"pe\", \"penal\", \"people\", \"people\", \"perdas\", \"pereira\", \"pereira\", \"perigo\", \"pesquisa\", \"pesquisa\", \"pesquisa\", \"pesquisas\", \"petr\\u00f3leo\", \"petr\\u00f3leo\", \"planalto\", \"plen\\u00e1rio\", \"plus\", \"plus\", \"poder\", \"poder\", \"poder\", \"poder\", \"poder\", \"poder\", \"poderah\", \"pois\", \"pois\", \"pois\", \"policy\", \"political\", \"political\", \"pol\\u00edcia\", \"pol\\u00edtica\", \"pol\\u00edtica\", \"pol\\u00edtica\", \"pol\\u00edtica\", \"pol\\u00edtica\", \"pol\\u00edtica\", \"ponta\", \"porem\", \"porem\", \"portaria\", \"posi\\u00e7\\u00e3o\", \"posi\\u00e7\\u00e3o\", \"posi\\u00e7\\u00e3o\", \"posi\\u00e7\\u00e3o\", \"posi\\u00e7\\u00f5es\", \"povo\", \"povo\", \"povo\", \"povos\", \"pr\", \"pr\", \"pr\", \"pr\", \"pr\", \"prata\", \"prata\", \"prata\", \"prazer\", \"preco\", \"preocupa\\u00e7\\u00e3o\", \"preocupa\\u00e7\\u00e3o\", \"presente\", \"presente\", \"presente\", \"presente\", \"presente\", \"presente\", \"president\", \"president\", \"president\", \"presidente\", \"presidente\", \"presidente\", \"presidente\", \"presidente\", \"pressao\", \"pre\\u00e7o\", \"pre\\u00e7os\", \"pris\\u00e3o\", \"problema\", \"problema\", \"problema\", \"problema\", \"problemas\", \"problemas\", \"problemas\", \"problems\", \"problems\", \"process\", \"produto\", \"produtores\", \"produtores\", \"produtos\", \"produ\\u00e7\\u00e3o\", \"produ\\u00e7\\u00e3o\", \"programa\", \"programa\", \"programa\", \"programa\", \"programa\", \"programas\", \"programas\", \"programas\", \"programme\", \"projeto\", \"projeto\", \"projeto\", \"projeto\", \"projeto\", \"projetos\", \"projetos\", \"projetos\", \"proprio\", \"proprio\", \"proprio\", \"proprio\", \"protestos\", \"ptvg\", \"ptvg\", \"publica\", \"publica\", \"publica\", \"publica\", \"publica\\u00e7\\u00e3o\", \"publica\\u00e7\\u00e3o\", \"publica\\u00e7\\u00f5es\", \"puede\", \"p\\u00e1gina\", \"p\\u00e1gina\", \"p\\u00e1gina\", \"p\\u00e1gina\", \"quanto\", \"quanto\", \"quanto\", \"quanto\", \"quanto\", \"quest\\u00e3o\", \"quest\\u00e3o\", \"quest\\u00e3o\", \"quest\\u00f5es\", \"quest\\u00f5es\", \"rainha\", \"recebe\", \"recebi\", \"recebido\", \"recebido\", \"recebido\", \"recebido\", \"recommendations\", \"recursos\", \"recursos\", \"recursos\", \"recursos\", \"regulamento\", \"relaciones\", \"relations\", \"relations\", \"relations\", \"relationship\", \"rela\\u00e7\\u00e3o\", \"rela\\u00e7\\u00e3o\", \"rela\\u00e7\\u00e3o\", \"rela\\u00e7\\u00e3o\", \"rela\\u00e7\\u00e3o\", \"rela\\u00e7\\u00f5es\", \"rela\\u00e7\\u00f5es\", \"rela\\u00e7\\u00f5es\", \"rela\\u00e7\\u00f5es\", \"report\", \"represa\", \"representative\", \"representatives\", \"representatives\", \"republic\", \"rep\\u00fablica\", \"rep\\u00fablica\", \"rep\\u00fablica\", \"rep\\u00fablica\", \"rep\\u00fablica\", \"rep\\u00fablica\", \"requests\", \"reservado\", \"reservado\", \"reservado\", \"resolution\", \"resolutions\", \"resolu\\u00e7\\u00e3o\", \"resolu\\u00e7\\u00f5es\", \"respecto\", \"respeito\", \"respeito\", \"respeito\", \"respeito\", \"retransmito\", \"retransmito\", \"reunion\", \"reuni\\u00e3o\", \"reuni\\u00e3o\", \"reuni\\u00e3o\", \"reuni\\u00e3o\", \"revised\", \"rio\", \"rio\", \"rio\", \"rio\", \"rio\", \"rio\", \"rio\", \"rios\", \"rios\", \"rios\", \"rios\", \"rios\", \"rl\", \"rl\", \"rn\", \"ro\", \"ro\", \"ro\", \"ro\", \"ro\", \"ro\", \"rod\\u00e9sia\", \"rogo\", \"rr\", \"said\", \"salto\", \"salvaguardas\", \"san\\u00e7\\u00f5es\", \"sauvagnargues\", \"say\", \"schmidt\", \"secretario\", \"secretario\", \"secretario\", \"secretario\", \"secretary-general\", \"secreto\", \"secreto\", \"secreto\", \"secreto\", \"secreto\", \"secreto\", \"section\", \"section\", \"segunda\", \"segunda\", \"segunda\", \"segunda\", \"segunda\", \"segunda\", \"segunda\", \"segunda\", \"segundo\", \"segundo\", \"segundo\", \"segundo\", \"segundo\", \"segundo\", \"sempre\", \"sempre\", \"sempre\", \"sempre\", \"sempre\", \"senhor\", \"senhora\", \"senor\", \"sentimento\", \"serah\", \"serie\", \"serie\", \"serie\", \"servidores\", \"servi\\u00e7o\", \"servi\\u00e7o\", \"servi\\u00e7o\", \"session\", \"setor\", \"setor\", \"setor\", \"se\\u00e7\\u00e3o\", \"se\\u00e7\\u00e3o\", \"se\\u00e7\\u00e3o\", \"si\", \"si\", \"si\", \"si\", \"si\", \"si\", \"silveira\", \"silveira\", \"silveira\", \"silveira\", \"situa\\u00e7\\u00e3o\", \"situa\\u00e7\\u00e3o\", \"situa\\u00e7\\u00e3o\", \"situa\\u00e7\\u00e3o\", \"situa\\u00e7\\u00e3o\", \"sm\", \"sob\", \"sob\", \"sob\", \"sob\", \"sob\", \"social\", \"social\", \"social\", \"social\", \"social\", \"social\", \"social\", \"social\", \"socialist\", \"socialistas\", \"soh\", \"soh\", \"solidariedade\", \"solu\\u00e7\\u00e3o\", \"solu\\u00e7\\u00e3o\", \"solu\\u00e7\\u00e3o\", \"special\", \"special\", \"sr\", \"sr\", \"sr\", \"sr\", \"ss\", \"state\", \"state\", \"states\", \"states\", \"still\", \"submitted\", \"supremo\", \"supremo\", \"talvez\", \"talvez\", \"talvez\", \"taxa\", \"technology\", \"tecnologia\", \"tecnol\\u00f3gica\", \"tecnol\\u00f3gico\", \"tel\", \"tel\", \"tel\", \"tel\", \"tel\", \"telegrama\", \"telegrama\", \"telegrama\", \"ter\", \"ter\", \"ter\", \"ter\", \"ter\", \"ter\", \"ter\", \"terah\", \"territ\\u00f3rio\", \"territ\\u00f3rio\", \"territ\\u00f3rio\", \"territ\\u00f3rio\", \"territ\\u00f3rio\", \"think\", \"time\", \"time\", \"titulo\", \"titulo\", \"tl\", \"tl\", \"tl\", \"tm\", \"today\", \"toneladas\", \"total\", \"total\", \"total\", \"total\", \"total\", \"total\", \"total\", \"total\", \"tr\", \"trabalho\", \"trabalho\", \"trabalho\", \"trabalho\", \"trade\", \"trade\", \"trade\", \"trade\", \"trade\", \"tratado\", \"tratado\", \"tratado\", \"tratado\", \"tratado\", \"tratado\", \"trecho\", \"trecho\", \"tribunais\", \"tribunal\", \"tribunal\", \"tribunal\", \"tripartites\", \"tt\", \"turbinas\", \"t\\u00e9cnica\", \"t\\u00e9cnica\", \"t\\u00e9cnica\", \"t\\u00e9cnica\", \"uau\", \"ue\", \"ue\", \"ue\", \"ue\", \"ue\", \"uh\", \"ul7/67\", \"ultima\", \"ultima\", \"ultima\", \"ultima\", \"unidades\", \"unidades\", \"unidades\", \"unidas\", \"unidas\", \"unidas\", \"unidos\", \"unidos\", \"unidos\", \"unidos\", \"unidos\", \"united\", \"united\", \"ur\", \"us\", \"us\", \"us\", \"us\", \"uu\", \"uu\", \"uu\", \"uu\", \"uu\", \"va\", \"va\", \"va\", \"va\", \"va\", \"va\", \"velloso\", \"verdade\", \"verdade\", \"vez\", \"vez\", \"vez\", \"vez\", \"vez\", \"vez\", \"vez\", \"vigor\", \"vigor\", \"vigor\", \"vigor\", \"visita\", \"visita\", \"visita\", \"visita\", \"visto\", \"visto\", \"visto\", \"visto\", \"visto\", \"visto\", \"vistos\", \"vistos\", \"vistos\", \"vizinhos\", \"vontade\", \"vota\\u00e7\\u00e3o\", \"v\\u00e1lido\", \"western\", \"world\", \"world\", \"years\", \"years\", \"\\u00e1frica\", \"\\u00e1frica\", \"\\u00e1frica\", \"\\u00e1guas\", \"\\u00eatre\", \"\\u00f3rg\\u00e3o\", \"\\u00f3rg\\u00e3o\", \"\\u00f3rg\\u00e3o\", \"\\u00f3rg\\u00e3os\", \"\\u00f3rg\\u00e3os\", \"\\u00f3rg\\u00e3os\"], \"Topic\": [2, 7, 2, 2, 1, 2, 4, 5, 10, 10, 6, 1, 1, 2, 3, 7, 8, 10, 9, 1, 3, 8, 6, 3, 8, 1, 2, 3, 8, 6, 6, 1, 2, 3, 5, 7, 8, 2, 1, 1, 1, 7, 2, 2, 4, 6, 5, 7, 2, 9, 10, 2, 5, 8, 4, 1, 6, 1, 2, 4, 5, 6, 7, 9, 4, 10, 2, 4, 9, 2, 5, 7, 8, 1, 3, 10, 10, 2, 1, 2, 3, 4, 5, 8, 10, 4, 6, 1, 2, 4, 6, 9, 10, 1, 2, 9, 10, 10, 4, 4, 8, 6, 9, 7, 8, 9, 5, 1, 2, 5, 8, 6, 1, 2, 3, 8, 10, 1, 2, 10, 2, 10, 7, 1, 1, 2, 5, 8, 1, 2, 3, 8, 2, 1, 2, 8, 2, 5, 2, 4, 9, 2, 10, 10, 4, 9, 3, 6, 2, 5, 1, 2, 3, 7, 8, 9, 10, 1, 2, 3, 7, 8, 10, 1, 2, 3, 8, 10, 1, 2, 3, 8, 10, 1, 2, 3, 7, 8, 10, 2, 3, 4, 8, 9, 10, 4, 6, 4, 9, 2, 9, 10, 1, 3, 8, 9, 10, 7, 1, 3, 7, 9, 4, 8, 2, 9, 10, 5, 8, 9, 2, 5, 7, 2, 5, 7, 8, 3, 5, 8, 5, 5, 1, 3, 7, 2, 3, 9, 2, 3, 7, 9, 1, 2, 3, 8, 9, 4, 6, 9, 6, 4, 6, 7, 9, 2, 8, 3, 2, 3, 1, 4, 6, 1, 5, 7, 9, 1, 2, 3, 5, 7, 1, 1, 1, 2, 7, 8, 1, 2, 1, 2, 8, 1, 9, 4, 6, 9, 1, 3, 8, 3, 10, 2, 6, 8, 8, 6, 1, 3, 9, 1, 3, 5, 7, 9, 10, 1, 2, 3, 5, 7, 8, 8, 3, 7, 6, 9, 1, 2, 1, 2, 7, 1, 2, 3, 7, 2, 10, 10, 10, 4, 6, 6, 4, 9, 3, 2, 5, 2, 5, 9, 8, 7, 9, 9, 8, 10, 5, 8, 8, 1, 2, 9, 9, 1, 9, 10, 1, 3, 9, 4, 6, 4, 6, 1, 7, 5, 1, 8, 1, 8, 6, 1, 2, 7, 1, 3, 8, 2, 3, 5, 8, 1, 9, 5, 9, 6, 1, 2, 8, 9, 10, 2, 9, 3, 7, 10, 7, 2, 3, 7, 8, 4, 6, 1, 3, 7, 9, 7, 1, 2, 3, 5, 9, 4, 5, 10, 9, 2, 7, 2, 4, 1, 3, 10, 3, 8, 10, 2, 3, 7, 10, 4, 6, 1, 2, 5, 7, 8, 3, 8, 8, 3, 8, 9, 7, 2, 9, 4, 2, 2, 3, 3, 3, 3, 1, 2, 3, 8, 9, 10, 8, 1, 2, 3, 5, 8, 1, 2, 8, 2, 3, 4, 6, 7, 8, 3, 6, 5, 9, 2, 3, 4, 6, 6, 7, 4, 7, 1, 3, 8, 9, 10, 10, 5, 1, 2, 3, 7, 7, 5, 10, 8, 8, 2, 7, 1, 2, 4, 7, 9, 2, 4, 6, 7, 9, 1, 2, 3, 5, 6, 8, 7, 1, 3, 4, 7, 9, 9, 9, 4, 4, 6, 1, 2, 3, 8, 10, 1, 2, 3, 5, 7, 9, 10, 5, 7, 9, 5, 5, 6, 8, 10, 2, 8, 2, 5, 7, 8, 10, 4, 6, 5, 1, 3, 9, 10, 1, 2, 3, 5, 6, 7, 8, 9, 10, 4, 3, 3, 1, 2, 7, 8, 9, 3, 1, 2, 3, 8, 2, 3, 8, 7, 3, 1, 2, 3, 1, 3, 9, 4, 6, 4, 1, 2, 3, 7, 8, 9, 4, 6, 9, 1, 3, 7, 2, 5, 9, 10, 1, 2, 4, 5, 9, 4, 10, 2, 3, 8, 9, 5, 1, 2, 3, 5, 7, 10, 5, 7, 2, 1, 7, 7, 2, 5, 8, 8, 10, 1, 2, 8, 4, 4, 6, 4, 5, 7, 9, 4, 5, 6, 5, 1, 3, 8, 1, 3, 8, 1, 8, 7, 7, 4, 1, 2, 3, 7, 5, 2, 5, 8, 9, 2, 1, 2, 3, 4, 4, 7, 9, 4, 6, 4, 6, 1, 2, 3, 7, 8, 3, 3, 10, 4, 6, 2, 8, 1, 2, 3, 8, 10, 2, 5, 2, 5, 2, 5, 9, 1, 2, 3, 8, 1, 2, 3, 5, 7, 9, 10, 9, 1, 4, 1, 3, 9, 8, 2, 4, 5, 10, 5, 1, 2, 3, 7, 8, 9, 3, 4, 6, 4, 6, 3, 10, 1, 2, 4, 1, 2, 3, 7, 8, 5, 3, 5, 5, 6, 9, 2, 3, 2, 7, 9, 7, 2, 7, 5, 3, 4, 6, 7, 1, 3, 7, 5, 1, 2, 3, 9, 10, 1, 2, 3, 5, 8, 10, 1, 2, 3, 8, 10, 3, 8, 10, 1, 2, 3, 10, 1, 7, 1, 2, 3, 4, 5, 7, 8, 10, 2, 7, 3, 6, 3, 10, 1, 2, 1, 2, 3, 5, 7, 8, 10, 4, 6, 3, 8, 8, 5, 7, 5, 7, 9, 3, 7, 2, 6, 1, 2, 10, 10, 10, 10, 6, 9, 10, 10, 1, 3, 9, 1, 2, 4, 5, 7, 9, 1, 2, 3, 7, 1, 8, 10, 8, 8, 2, 3, 4, 7, 8, 9, 1, 2, 3, 5, 7, 8, 10, 8, 4, 6, 10, 2, 8, 1, 2, 3, 7, 3, 3, 7, 2, 1, 4, 9, 1, 2, 3, 5, 8, 9, 7, 1, 2, 3, 4, 4, 6, 8, 1, 2, 3, 5, 7, 9, 10, 1, 7, 8, 1, 2, 3, 10, 1, 1, 2, 7, 1, 1, 2, 3, 4, 5, 1, 2, 10, 2, 7, 1, 3, 1, 2, 3, 8, 9, 10, 4, 6, 9, 1, 2, 7, 8, 9, 7, 3, 3, 8, 1, 3, 9, 10, 1, 3, 9, 4, 6, 4, 3, 1, 3, 3, 3, 10, 1, 2, 3, 7, 9, 3, 8, 9, 6, 1, 2, 3, 8, 10, 1, 3, 10, 1, 2, 5, 7, 2, 5, 7, 2, 7, 8, 9, 2, 8, 8, 9, 1, 2, 5, 7, 1, 2, 3, 8, 10, 1, 2, 10, 1, 3, 7, 2, 2, 2, 5, 7, 9, 6, 1, 3, 8, 9, 8, 9, 4, 6, 9, 4, 1, 2, 3, 7, 10, 1, 2, 3, 8, 6, 10, 6, 4, 6, 6, 1, 2, 3, 6, 8, 9, 6, 2, 5, 7, 6, 6, 1, 1, 9, 1, 2, 3, 10, 2, 5, 9, 1, 2, 3, 10, 6, 2, 3, 4, 7, 8, 9, 10, 1, 2, 3, 8, 10, 5, 8, 5, 1, 2, 3, 5, 8, 10, 1, 2, 5, 4, 10, 3, 1, 7, 4, 7, 2, 5, 7, 9, 6, 1, 2, 3, 5, 7, 10, 6, 9, 1, 2, 3, 5, 7, 8, 9, 10, 1, 2, 3, 7, 8, 10, 1, 2, 3, 8, 10, 2, 2, 9, 1, 7, 2, 5, 7, 8, 2, 3, 8, 6, 2, 3, 7, 3, 8, 10, 1, 2, 3, 5, 9, 10, 2, 4, 7, 9, 1, 2, 3, 5, 7, 5, 1, 3, 7, 8, 10, 1, 2, 3, 4, 6, 7, 8, 9, 6, 1, 5, 7, 1, 1, 3, 10, 4, 6, 1, 2, 5, 7, 5, 4, 6, 4, 6, 4, 6, 2, 8, 1, 3, 7, 3, 4, 3, 3, 3, 2, 5, 7, 8, 9, 2, 5, 7, 1, 2, 3, 5, 7, 8, 10, 7, 1, 3, 8, 9, 10, 4, 4, 6, 7, 8, 4, 5, 6, 5, 4, 3, 1, 3, 4, 5, 6, 7, 9, 10, 5, 1, 2, 3, 8, 1, 3, 4, 5, 6, 1, 2, 3, 8, 9, 10, 7, 10, 8, 6, 8, 9, 10, 5, 10, 2, 3, 9, 10, 7, 1, 4, 5, 9, 10, 5, 5, 1, 7, 9, 10, 3, 8, 10, 1, 2, 9, 1, 2, 3, 7, 9, 4, 6, 5, 3, 4, 5, 10, 1, 2, 3, 5, 9, 1, 2, 3, 5, 9, 10, 2, 1, 3, 1, 2, 3, 5, 7, 9, 10, 1, 3, 8, 9, 1, 2, 3, 7, 1, 2, 5, 7, 8, 9, 1, 3, 8, 1, 1, 1, 8, 4, 4, 6, 4, 6, 1, 2, 3, 10, 9, 1, 3, 8, 1, 3, 8], \"Freq\": [0.9980295499601164, 0.9950858356990051, 0.9992283372978489, 0.9979780733924336, 0.998779912360989, 0.033788181945853396, 0.0025028282922854366, 0.9498233369223232, 0.012514141461427184, 0.9960467972838561, 0.9991180426638967, 0.9986909943259416, 0.1574065706234911, 0.09585706869390655, 0.49490824000523087, 0.08243236865569359, 0.12906553720948596, 0.04027410011463887, 0.9994721398667034, 0.0510943557060771, 0.08843253872205653, 0.8587782093675267, 0.9983135756059026, 0.036825626811261246, 0.9602990376167356, 0.35629986781161194, 0.026699473298544565, 0.1330370307461962, 0.4838128695994886, 0.9993234148933857, 0.9992447296285636, 0.03708929804554899, 0.07016894224833593, 0.020048269213810265, 0.8410248935193406, 0.0010024134606905133, 0.030072403820715396, 0.9994479534184456, 0.9975136599072643, 0.9984097538916993, 0.999558222899981, 0.997394898517577, 0.99724973268875, 0.9985429305742655, 0.9011337174547163, 0.09828315936793089, 0.9981709235595843, 0.9984948583757469, 0.5578176534420632, 0.18402601685902154, 0.2579234037458801, 0.9989560419755021, 0.9994595716549362, 0.9943614731291863, 0.9988491451229573, 0.997185133171782, 0.9980407173363, 0.09224726647199681, 0.03331151289266551, 0.43902865709820704, 0.005124848137333156, 0.1266976345062919, 0.2644991066434723, 0.039290502386220866, 0.9993386470167551, 0.9973865611348165, 0.9031126204444554, 0.072216369468565, 0.024480125243581355, 0.04013375801954899, 0.05983578468369123, 0.9004555890204266, 0.9944072055610037, 0.0012510948152416044, 0.28837735491318983, 0.7099963076496105, 0.9986993034808282, 0.9994079789428207, 0.06184340527726557, 0.06576305772441621, 0.023082397744331514, 0.0043551693857229274, 0.7739135998429642, 0.04398721079580156, 0.027437567130054442, 0.008537783772400514, 0.9903829175984595, 0.15890144904257092, 0.12554092382921347, 0.005706405628600613, 0.04093248652823132, 0.05673484057666378, 0.6121217422371965, 0.00532007372391466, 0.09348129543450046, 0.035340489737433096, 0.865651995934114, 0.9992484646018107, 0.9988029662804125, 0.01629370330629359, 0.9832509322470624, 0.9807852686953368, 0.01902694701348933, 0.07948159661248984, 0.9203968887726323, 0.9991724366836383, 0.9966611887262734, 0.8851086420477802, 0.09017905585463588, 0.0014506014346590225, 0.02320962295454436, 0.9997718783973569, 0.7402121967952112, 0.0270927340003476, 0.17513517335938986, 0.03773630807191273, 0.01967448540501433, 0.4515768995688098, 0.5026830050858736, 0.045576592461119204, 0.25067563360098877, 0.7490247974065473, 0.9974684028329062, 0.9995503143506204, 0.2382418708759106, 0.04354075571180435, 0.07968779818952872, 0.6383239092089052, 0.20181371550118749, 0.09331987596483482, 0.08573289417907588, 0.6183390155393527, 0.9991150410828483, 0.23915248931426278, 0.046066258187583406, 0.7135369353310792, 0.10265445031441874, 0.8972393782289099, 0.9255330746505243, 0.034922623686939804, 0.039434158804391356, 0.03435297854338731, 0.9651242462472396, 0.9980645313981097, 0.9989095747479095, 0.9983710149822548, 0.9992951403512345, 0.9993877252371064, 0.1303889714896377, 0.8681997369919778, 0.36464937776455186, 0.2369863689586735, 0.27471761580879395, 0.06738431512685901, 0.008653773606866134, 0.021277168134313063, 0.026318586703450674, 0.3993680115951672, 0.2155614960280571, 0.3407195623399329, 0.009309277659561008, 0.021204465780111183, 0.013757043652462378, 0.008518060216828716, 0.15389295458403882, 0.8089317852581671, 0.01220921964412116, 0.01618431441197456, 0.38335827441575177, 0.2989904406715961, 0.23172522661856337, 0.05420919634239868, 0.03168565701703585, 0.1854836718906935, 0.15653664026309427, 0.5034556808461681, 0.055890037988672356, 0.03629512427152826, 0.06212478326230911, 0.9202898589474253, 0.04842581977570904, 0.004384230596977773, 0.012754125373026249, 0.0061777794775595895, 0.00777204514918787, 0.8954588128049926, 0.10432797111991768, 0.9990795843376528, 0.9986305636853, 0.4964494832748663, 0.24522202298859325, 0.25823380380023286, 0.4429909328900481, 0.22945545977039208, 0.178926806487621, 0.06592950993402669, 0.08271471325056366, 0.9964694971700936, 0.27608751877574217, 0.6979393651377822, 0.01049997274986044, 0.015441136396853588, 0.9982986810792046, 0.9970365057677657, 0.9865874092702358, 0.012981413279871522, 0.9964921438150778, 0.999040940712411, 0.9944757082492575, 0.9990661652215772, 0.49441953232198865, 0.005922610593219797, 0.4996314296440221, 0.9310221854793392, 0.04832415376461096, 0.00034765578247921553, 0.020164035383794503, 0.9992383536350318, 0.9624562117218485, 0.03734649399750063, 0.9982475865177385, 0.9985656550240607, 0.03390099616398556, 0.944226106272319, 0.021674407383531748, 0.06304184206953305, 0.9297251843948252, 0.00709930653936183, 0.050927931501823315, 0.19908191405258205, 0.6991016051613927, 0.05026652979400743, 0.5340061379004715, 0.1328138886021776, 0.057762253326982566, 0.2754512896749305, 0.9992344103051625, 0.046709054671737096, 0.8610173529312245, 0.09217804594510949, 0.9998588797487009, 0.01632322729188402, 0.02053567304462828, 0.9325301785137612, 0.030013675988302874, 0.02091952985309913, 0.9753730794007469, 0.998288145751022, 0.12188418112944271, 0.8779642738707044, 0.9975209224128453, 0.252201404705628, 0.7476551320144262, 0.07382401582031424, 0.01230400263671904, 0.7707578794573284, 0.1432537449846574, 0.0033901637029419337, 0.27862907933554015, 0.0305114733264774, 0.30341965141330307, 0.383936039358174, 0.9993489719559131, 0.9988516972288418, 0.2823869334499946, 0.12149687445058505, 0.10615426573156919, 0.48971948370696566, 0.9990870413695421, 0.9996219175623517, 0.39215437206596854, 0.12491601407845472, 0.4825137019218999, 0.9859785225803642, 0.013845235021188666, 0.1548396540767726, 0.8193274157931736, 0.024898838846516197, 0.1607426026655943, 0.11146974456207041, 0.7277843467422134, 0.6044248225021156, 0.3949929726783572, 0.03858430297099926, 0.06002002684377662, 0.9003004026566493, 0.9982861802991152, 0.9993768177460912, 0.9395006553001559, 0.005507037838805134, 0.055070378388051344, 0.1946673593287359, 0.02358083991868708, 0.006020639979239255, 0.6978925175934836, 0.03963587986332509, 0.03813071986851528, 0.2723084636960482, 0.18611691518703818, 0.01089233854784193, 0.46979129736779107, 0.06061823191842465, 0.9989377322354145, 0.9991242820783544, 0.9981662108402629, 0.0011486377570083578, 0.9239412965077688, 0.07551758997753619, 0.01549799453026469, 0.9845784760403451, 0.018733875715063627, 0.9809265478581926, 0.0005203854365295451, 0.1596693603040549, 0.03277726363984801, 0.8072599170714613, 9.583995216329827e-05, 0.9982525351978326, 0.9998363180485033, 0.9997750629785168, 0.9977196493924176, 0.9485135429356011, 0.050984495921498514, 0.9994949418132963, 0.9994160981642983, 0.9990147816825841, 0.9992061551096605, 0.9983322533889515, 0.9980207382441798, 0.03297472215797853, 0.9658845698774545, 0.99788483514761, 0.9954201606864422, 0.9983809999313256, 0.9984355309875571, 0.9975413574758858, 0.9976974763013371, 0.9977465764823213, 0.6479556021563748, 0.3517473268848892, 0.9982863330197209, 0.9546505545284277, 0.04457512316864254, 0.9991961038175978, 0.9977456444906516, 0.9984577172050839, 0.9993089005874859, 0.997015229088333, 0.2424889514663853, 0.7574091193440031, 0.9991265716014391, 0.8951349286053488, 0.10425419603637381, 0.6685108274448861, 0.33113569652770025, 0.9971953934906868, 0.998941766844318, 0.9981042837932743, 0.6234961474716032, 0.37625243812863246, 0.9514967130034763, 0.04830709248191322, 0.9982703480761884, 0.17215027366794658, 0.3074960060689529, 0.5200125508038662, 0.031240905374675616, 0.05680164613577385, 0.9102463793257759, 0.1003932183954072, 0.14088101840672368, 0.7473717369435869, 0.011567942860376138, 0.9778491722983791, 0.021212963149929848, 0.9785314172185019, 0.019835096294969632, 0.9991049275569764, 0.49256981654290566, 0.0462778453592865, 0.19523466010948992, 0.003760074935442028, 0.2620482993469598, 0.9993150251913482, 0.9992731602614844, 0.9441007057149584, 0.05339169161583696, 0.002542461505516046, 0.9986605991615293, 0.03721867269706733, 0.8510112240284496, 0.09618308674523018, 0.01547293134597181, 0.7125989416368496, 0.28721576472196847, 0.35465473091266614, 0.6111608269913619, 0.011753092826756958, 0.0222690179875395, 0.9970256618794011, 0.03128455270893831, 0.07821138177234578, 0.018575203170932125, 0.8319735736033282, 0.03910569088617289, 0.9985747771576251, 0.9980809039586055, 0.9984594412945321, 0.9972987370138682, 0.8774051642403156, 0.12248461733692623, 0.9999429657921807, 0.9982476312703651, 0.8669100178856661, 0.1269187168133057, 0.006070025586723315, 0.9907331956202647, 0.008822201207660417, 0.9977571960646032, 0.06109765547423657, 0.6304491993233359, 0.051450657241462375, 0.25707463809189013, 0.9994908932027607, 0.9995939324758751, 0.03496811162360432, 0.01613912844166353, 0.06455651376665412, 0.8836172821810784, 0.997827309343013, 0.9989248230484697, 0.9973973203881479, 0.9951930671164017, 0.0641947234963964, 0.9354088280903476, 0.9991719253377003, 0.9938888470643602, 0.9986109928264694, 0.9983743656746464, 0.9992599225767376, 0.9998998249299382, 0.9992047595920263, 0.9992090050821958, 0.9986505511037567, 0.9994593886627555, 0.9995437362836952, 0.06729865028767683, 0.8389699881438085, 0.05044420955191352, 0.03412577576534409, 0.008456998531725761, 0.0007146759322585151, 0.9959858625864354, 0.8708940071325675, 0.004347224661227458, 0.0970880174340799, 0.013524698946040982, 0.014007723908399588, 0.9838833332080207, 0.004518407959623516, 0.01129601989905879, 0.2547795727454679, 0.11910177617498982, 0.02639884729651836, 0.13506386988916372, 0.0026603489523623156, 0.46167286434841415, 0.9982911653401815, 0.9991536524787895, 0.19014505735112758, 0.8076803812254318, 0.020638210884596875, 0.9787274623349211, 0.1016307245975565, 0.8978853581836295, 0.9984543901186874, 0.9972704664462453, 0.9587718864882897, 0.04070039846163507, 0.642692455608233, 0.18349357787319698, 0.07655897590317509, 0.040294197843776365, 0.057031787717345, 0.9990356900661655, 0.9963024471365192, 0.16311681699390207, 0.02156141833827441, 0.0168741534821278, 0.7987099314873826, 0.9976906907489758, 0.9779876580418846, 0.01936609223845316, 0.9933722322330605, 0.9980893319272933, 0.9439504514058178, 0.0555640658134683, 0.14221751240772088, 0.520067869379044, 0.03791070654756624, 0.2825499620589329, 0.017175016225969238, 0.17358202655728724, 0.027037698840698947, 0.6711838360215107, 0.040448397465685626, 0.08760214424386459, 0.6274970696444617, 0.1647571340930051, 0.044164935184626844, 0.051473553300286135, 0.008561524078343739, 0.10357355958191448, 0.9978755045215473, 0.1327012114905366, 0.14164207325762948, 0.15364165089241202, 0.5620978621469714, 0.009882005110997405, 0.9991381915427772, 0.9987819805634505, 0.9987104471527696, 0.903717881684392, 0.09574843082230722, 0.5575885868649465, 0.3056835100300249, 0.11886757673382126, 0.017785986897207777, 4.204725034800893e-05, 0.6691564778800921, 0.11318902045784009, 0.16258654094666625, 0.02764298331990603, 0.0004907038459154917, 0.011613324353333303, 0.015375387172018739, 0.9968507096621462, 0.9987000423857315, 0.9969996166314459, 0.9979139663060129, 0.9207902615274605, 0.05916724572064003, 0.0036979528575400017, 0.016640787858930008, 0.9753154040070559, 0.024103116780403853, 0.7917664753254793, 0.001306006557237904, 0.15998580326164322, 0.005224026228951616, 0.04179220983161293, 0.9924546820090682, 0.006631100325227627, 0.9992681818286314, 0.9080141496740606, 0.007549626338937768, 0.08441854906266777, 0.9989484565574557, 0.11972049870884469, 0.012981740823850629, 0.13962583463874897, 0.12289381313245262, 0.18895644976938136, 0.07240926548414461, 0.314735094196023, 0.015578088988620755, 0.012693257694431725, 0.9991968426303363, 0.9984581196825661, 0.999732514035551, 0.14223806583613605, 0.21992632669442722, 0.6375007288077423, 0.9258481272669511, 0.0712190867128424, 0.9983880640166197, 0.0007541351488698707, 0.8357702787350342, 0.1376296646687514, 0.025640595061575604, 0.15381083568847032, 0.24533463874276673, 0.6006249575438201, 0.9980264781303144, 0.9994403680282923, 0.4413509363521674, 0.1412660549624337, 0.4172158755879762, 0.908259329967394, 0.08509005726990983, 0.006399530769603246, 0.9916290771237943, 0.007925107509480873, 0.9986138855110606, 0.6140697967984127, 0.022915363067616004, 0.315550742782442, 0.0015483353424064867, 0.015380131067904436, 0.030553817423488006, 0.49610274878949207, 0.4842756389106347, 0.019584676573591843, 0.999374419962919, 0.9976167577215125, 0.001970276677527674, 0.07348448403133163, 0.8801048668868788, 0.014526002657356252, 0.030760946803813242, 0.15726885661131934, 0.08928284047205108, 0.006552869025471639, 0.742931525762847, 0.0032764345127358195, 0.999289599201926, 0.9998589118450348, 0.7387464845365652, 0.21324135419602247, 0.03112833561252282, 0.016667140327964975, 0.9970538635158014, 0.14647829652590688, 0.02946900640166174, 0.060671483768127116, 0.4511358185901452, 0.30292405109943465, 0.009534090306419975, 0.11128965479307831, 0.8878713118656578, 0.9987520846934028, 0.07737671457179773, 0.9212665078704667, 0.9994048020440846, 0.9110411692828192, 0.05223717284625039, 0.03606852410812527, 0.9964127065957055, 0.998884292181582, 0.20536768877349407, 0.12710256347871737, 0.6668188675114974, 0.9989185973633076, 0.996385382549398, 0.0021042985903894362, 0.9632079249070261, 0.012106685833421645, 0.022276301933495828, 0.0019370697333474633, 0.2344495037509249, 0.030000647399407453, 0.7350158612854826, 0.9978527707856308, 0.0012356228869118094, 0.12726915735191638, 0.8698785123859138, 0.07703194202488817, 0.0064898705735253765, 0.9164825922961054, 0.12184699176405409, 0.8772983407011894, 0.999670434702828, 0.9976034015839386, 0.9994692208500144, 0.001969899751241258, 0.24492420240432972, 0.06041025903806524, 0.6920914459360953, 0.9959588243412661, 0.04541825635828064, 0.8581151414075151, 0.016427879959378104, 0.07924036215700027, 0.9986522456448526, 0.9385276177317927, 0.0022691673542838318, 0.05899835121137962, 0.9996195300957973, 0.045019354586000135, 0.056274193232500165, 0.896635478837836, 0.0749799276616365, 0.9247524411601834, 0.04389809704386044, 0.955382221118199, 0.45007264833162985, 0.06846343195520825, 0.02321803344567932, 0.013990353486499076, 0.4441193064224813, 0.9997830828184191, 0.9992318887568001, 0.9988286370765208, 0.9904926715543149, 0.009297043126502594, 0.9920871679957928, 0.00785155994695121, 0.006113734534521316, 0.520027066877519, 0.2517420102449954, 0.20990488568523186, 0.01210759192130692, 0.04667186580233748, 0.9523583427233729, 0.2036131412053874, 0.7961652947461478, 0.1415343336276695, 0.8575932215365457, 0.9979041550383448, 0.03315742217388462, 0.8136502178839773, 0.0811298627658879, 0.0717235018654951, 0.26403355611583806, 0.05886462398253533, 0.06743714203824436, 0.5154940857499696, 0.01657353490770412, 0.004000508425997546, 0.07372365527909765, 0.9985990824834606, 0.9981858131818407, 0.9983712333002387, 0.9119395803504187, 0.048432024345035185, 0.03945438080790671, 0.9973963803721453, 0.13237549003588803, 0.004396233986431706, 0.577372063551364, 0.28575520911806085, 0.9981481024805678, 0.17609447267589037, 0.17453929051231254, 0.36187892652484266, 0.002871105532759082, 0.25672468638754126, 0.027873649547202756, 0.022411729158484554, 0.7247868637291043, 0.2524491001436845, 0.26518218165557045, 0.7346871699433806, 0.08374514440369132, 0.9159213037537578, 0.9555916370246756, 0.044359866398133524, 0.9985193237434808, 0.007452129756394177, 0.9410975292360647, 0.035663763834172135, 0.0021291799303983366, 0.013839669547589186, 0.998351665201526, 0.009697055244443037, 0.9890996349331896, 0.9825721834018976, 0.013100962445358634, 0.003572989757825082, 0.998516143965051, 0.9985123070182607, 0.037895763719378646, 0.9225658339959077, 0.03920251419246067, 0.9962086336187803, 0.0026822234799713574, 0.9951049110693736, 0.9991609758247061, 0.4901885066111532, 0.3664286910880378, 0.0010488119959586053, 0.14237622845138068, 0.0014003722441920448, 0.9835281061708795, 0.014470513189984463, 0.9953040797785879, 0.28844511456782085, 0.05248466151922122, 0.36629001169506914, 0.022272902577484637, 0.27036216396035806, 0.3244395768182211, 0.09235871164898266, 0.028756375421844414, 0.33898691967868355, 0.12449819006163229, 0.09100547045266057, 0.09505725802759254, 0.03112494289399048, 0.12618220092158303, 0.018506722801832177, 0.7284919066539394, 0.19128357487940748, 0.0509670051487895, 0.7575836320881797, 0.16046815008417045, 0.7509231389502202, 0.08221167548326339, 0.0064978300210139445, 0.9991476424354085, 0.9966829252701973, 0.016256602479222435, 0.021037956149581972, 0.012431519542934802, 0.027731851288085328, 0.8568185777284294, 0.042075912299163944, 0.010518978074790986, 0.012431519542934802, 0.9946189666386946, 0.00393518878986625, 0.9988234933622336, 0.9990025086764729, 0.3198053257091271, 0.6799901117350632, 0.9813964402668687, 0.017611693544393067, 0.3126617140486007, 0.10393090883883448, 0.12374382457065243, 0.32587032453647935, 0.07038799009987955, 0.03597608382882732, 0.027460006014273994, 0.034138584861583464, 0.9649170603524032, 0.2459581799714136, 0.7535739982102885, 0.9960635776244945, 0.8204566368574346, 0.17923574050150143, 0.08424436001913807, 0.8901820708688923, 0.025273308005741422, 0.9991076266772434, 0.9994808615166788, 0.9993874008070311, 0.9995103747058406, 0.04452922149018244, 0.09661491693021401, 0.8584694155167899, 0.998384664813551, 0.9989108849741525, 0.9984555739063872, 0.11763083244989, 0.8818365090370949, 0.9990686550088187, 0.9987592429915549, 0.9559404310118889, 0.015265341367043541, 0.028467798765567685, 0.04155420701014583, 0.25381758876467453, 0.013477040111398648, 0.002620535577216404, 0.6805905256256317, 0.007487244506332582, 0.2296935666178687, 0.020087270084452394, 0.7371154761425139, 0.012809273677042108, 0.38173988180683793, 0.5830631460457383, 0.03523157124180756, 0.997872088160015, 0.995435482288867, 0.7050049769933899, 0.01871694629185991, 0.009896316430178803, 0.16006216139245716, 0.10627783296757237, 0.9991215709285219, 0.11460535526188989, 0.06402533813513402, 0.09155623353324165, 0.6095212190464758, 0.05826305770297196, 0.04417748331324247, 0.017927094677837523, 0.9951008317553711, 0.9596770650431131, 0.0398793418449551, 0.9951016516717822, 0.9912064702225469, 0.0077843440069833535, 0.9980678967730515, 0.008587732955262016, 0.9904518675068859, 0.0007156444129385013, 0.9985348761021031, 0.8163233579309683, 0.18339488449735067, 0.9977121049892763, 0.9991117232196886, 0.10173083679539015, 0.8962615494885005, 0.8168698851634487, 0.0025992388593572275, 0.014886549830864121, 0.00803401101983143, 0.13350635959425758, 0.02410203305949429, 0.9980961712857755, 0.8607773116337699, 0.047586545278228566, 0.09165684336841068, 0.9996593830212424, 0.8991823239627951, 0.10055944333075045, 0.9970810069335371, 0.7396437837162447, 7.489305221914183e-05, 0.09331674306505072, 0.00022467915665742548, 0.14334530194743747, 0.023291739240153108, 0.996892123499364, 0.1270977430674041, 0.8707547503766834, 0.996105258064085, 0.9556482087705337, 0.0008078175898313894, 0.004712269274016439, 0.038775244311906695, 0.9994455630528974, 0.9540791127694435, 0.022083271362858956, 0.02371906924158925, 0.9997187187231308, 0.011045400929062251, 0.024099056572499458, 0.008033018857499819, 0.05422287728812378, 0.9027104941115421, 0.018016401400043455, 0.04475041638075309, 0.9368528728022596, 0.99919722966328, 0.9966393275280183, 0.9401953992722372, 0.05954752964594645, 0.29106079161171744, 0.053515444229617556, 0.053967051353918126, 0.3974142693845017, 0.11832106656674936, 0.0860311571792586, 0.8915351425634369, 0.02131839173991958, 0.0865526704640735, 0.1551504748818028, 0.7164191844047253, 0.0992609366895277, 0.02736307115491903, 0.0017683617413042912, 0.9987131409396516, 0.9987700713934146, 0.9993481538633712, 0.9956490425050218, 0.8665794165832078, 0.06585899441140029, 0.054144944022020795, 0.013275923774630098, 0.854157509743826, 0.10226959713979769, 0.04333846156821023, 0.9575891709459493, 0.04198047763784207, 0.9994909936096894, 0.9995515198832967, 0.002058377263689488, 0.9962545956257121, 0.9997998651472083, 0.9646605575960301, 0.03513999929596747, 0.023863599072761837, 0.17212255501417578, 0.6983910749911469, 0.08707674980805649, 0.018278501417434596, 0.9471579778752716, 0.04062428459747052, 0.01168643803488878, 0.9994117086083716, 0.6181273255242833, 0.051660912366660615, 0.25431082546580563, 0.022287625534743855, 0.05359336544770777, 0.16662114215200072, 0.7602473884536859, 0.0725509032248564, 0.09104914517301589, 0.0073823631221364245, 0.01230393853689404, 0.8883443623637497, 0.9989648581131869, 0.16630342010661364, 0.8328062743323443, 0.0007488080435345313, 0.9217827015910081, 0.053914179134486255, 0.02321304934957047, 0.1247696151932193, 0.8733873063525351, 0.9960229630830116, 0.9975786464604146, 0.19259867365116418, 0.04075739566891856, 0.4667121386401655, 0.30008631517017487, 0.7682205430958008, 0.03905040884897215, 0.17751435853529243, 0.0019250201545267962, 0.01320013820246946, 0.9225042122143142, 0.04162212703884109, 0.03570173827900593, 0.97636445764058, 0.02351595729379813, 0.9970732320072077, 0.9996083050642733, 0.9990101098804429, 0.16774762622745903, 0.3718405714708675, 0.4513809042403877, 0.008946540065464482, 0.9986634695525543, 0.2144234618199446, 0.7054128921989473, 0.03732792213680539, 0.04284227427065164, 0.9963154477820685, 0.9989497088088133, 0.8754708953252403, 0.040538278323163396, 0.08380509461038586, 0.998220942667857, 0.7319042565255196, 0.0016592705883598268, 0.1763804635426496, 0.06852787529926085, 0.021404590589841767, 0.35371544837764407, 0.5071386945724031, 0.12779048973399643, 0.011281730998911724, 0.9996520472698066, 0.9982794654793745, 0.9991432877983966, 0.051573983772644424, 0.9474331833789494, 0.999609313403758, 0.0484271364946987, 0.7504211628816079, 0.026008643323347243, 0.005425115785238075, 0.1451218472551185, 0.024652364377037723, 0.9984085484232568, 0.02854841032164174, 0.7695835753848281, 0.20147020998415743, 0.9999150904694004, 0.9990826174258641, 0.9998334152489097, 0.9991500172437043, 0.9978767775894749, 0.7453575328406077, 0.18515067266579951, 0.028529053064457823, 0.040920459951040516, 0.41651934818835307, 0.5828787897896625, 0.9979165508287522, 0.35389831361891694, 0.5376986393836147, 0.013466090705125678, 0.09485325294926245, 0.9991366559136389, 0.389688326130506, 0.014622626004419083, 0.009127499034605543, 0.0013970661787661544, 0.06240228931822157, 0.0031666833385366167, 0.5195223430105073, 0.1782190386268352, 0.01868963700955575, 0.06674870360555625, 0.024697020334055814, 0.7108736933991741, 0.98957391495287, 0.00891508031489072, 0.9993653488541615, 0.07280948015928101, 0.1681129460588277, 0.03670071357622295, 0.6783712541669596, 0.02722956168558477, 0.0171664628017817, 0.9977332970998135, 0.9986900052542625, 0.9988627055673068, 0.9988768626692986, 0.9983719202910563, 0.9987921837847789, 0.9986506388691391, 0.9974491702698643, 0.998370239420217, 0.9973506393842664, 0.19755412946569711, 0.009146024512300793, 0.725737045051068, 0.06768058139102587, 0.9993742081109545, 0.062328896366376216, 0.5608351596894373, 0.005371027141791939, 0.1660022109637555, 0.19060900972963948, 0.014864005345889319, 0.9754424113185394, 0.02426057455251942, 0.3995638749137993, 0.07502431296172442, 0.06076629873370439, 0.0033947652923857203, 0.3883611494489264, 0.03734241821624292, 0.0169738264619286, 0.01867120910812146, 0.35803408981042445, 0.04834352458699886, 0.1915896058296834, 0.23376851989887704, 0.07494868576910561, 0.09328029072994747, 0.8528423440555483, 0.036830251305308516, 0.030300064903658067, 0.06321220436797631, 0.01697848464429116, 0.9999352410892559, 0.9997787088832143, 0.9973995527043843, 0.9989993528583369, 0.9992790115634985, 0.0900091420498387, 0.16540947046855176, 0.7443426171084828, 0.9953303857803347, 0.20310835797320248, 0.13983638258364464, 0.6566461311437306, 0.9997037376323213, 0.012400829625580763, 0.8948598668523925, 0.09280620881079797, 0.16655242111278573, 0.8071386561619616, 0.025623449401967036, 0.2729525154624116, 0.0003572676903958267, 0.10360763021478975, 0.11039571633231045, 0.4615898559914081, 0.05108927972660322, 0.8620633554264342, 0.029202999770380673, 0.09232286935281764, 0.01632608648580337, 0.8483016212233578, 0.023014151416802978, 0.07686726573212195, 0.0002301415141680298, 0.0517818406878067, 0.9964898608736658, 0.4719104267740145, 0.16784775781291897, 0.24467038542729344, 0.10608839051508853, 0.009253145623019892, 0.24671455729216688, 0.005122810575003465, 0.14876641909810062, 0.1268407898370858, 0.3258107525702204, 0.0004098248460002772, 0.11454604445707749, 0.031761425565021484, 0.9984598777597387, 0.9982306739025721, 0.11319685444434853, 0.8855295592469349, 0.9994326137090819, 0.9525400781955154, 0.00034827790793254677, 0.04701751757089381, 0.3482648369337771, 0.6513591373002678, 0.011347201739690324, 0.9359171994896579, 0.05038157572422504, 0.002269440347938065, 0.9991195111712949, 0.8122397725652526, 0.18746937755863108, 0.6734184598607506, 0.3265059199324851, 0.999468152173745, 0.9991633003530352, 0.06250705353081669, 0.9344804502857095, 0.9521229399874473, 0.0013114641046659053, 0.04590124366330669, 0.9983931724170965, 0.9985617282473884, 0.9998113188114558, 0.9987839407753926, 0.9980643729417892, 0.007152245587546643, 0.2848276625158281, 0.6617930770124041, 0.021036016433960716, 0.025243219720752857, 0.27060010017536423, 0.5874356913000693, 0.14192152354317547, 0.6957576428900568, 0.08366390016105632, 0.046073360526068786, 0.08366390016105632, 0.0703575144495563, 0.012308406783137509, 0.007983831426900007, 0.998061973863403, 0.45002934872823663, 0.025359435572342496, 0.37636622635143224, 0.04427837957075673, 0.10385292662959307, 0.9983423892880394, 0.9180274645774915, 0.08157889760238529, 0.8958291075591513, 0.10298035499842922, 0.028105237702180423, 0.9574517643876131, 0.013115777594350864, 0.9972773282176249, 0.9977496731930299, 0.9982995241683664, 0.02825202263936608, 0.44553439702280306, 0.07543290044710743, 0.008475606791809824, 0.07515038022071377, 0.038705271015931526, 0.004520323622298573, 0.32376817944713526, 0.998140051058011, 0.35499910537739043, 0.14317125636012248, 0.2638475199042519, 0.2380720073025932, 0.02902134258039692, 0.02176600693529769, 0.7911943520980711, 0.00036276678225496153, 0.1574407834986533, 0.44051396637742035, 0.0020078120618843226, 0.2166429214773184, 0.08733982469196802, 0.06364764236173302, 0.18973823984806848, 0.10082954748040204, 0.898206070922357, 0.9953697742483586, 0.029807349920285952, 0.8678524572944794, 0.10088641511481398, 0.9976716920697261, 0.9983907071682098, 0.9983503538824424, 0.01863464728085545, 0.8480458571632945, 0.005759800068628048, 0.12739322504730272, 0.9991250749081343, 0.07891725297232735, 0.004932328310770459, 0.8861749865017593, 0.013974930213849636, 0.014796984932311378, 0.9992010648633515, 0.9984823196726421, 0.048391742382764974, 0.9085796529008934, 0.023702077901762438, 0.017776558426321826, 0.18883512021066093, 0.07369175422855061, 0.7369175422855061, 0.9558829851827204, 0.013856899836066904, 0.030144834731092914, 0.7286777916075413, 0.10558621948808951, 0.12306467402096784, 0.022997966490629372, 0.019624931405337064, 0.32995596051295606, 0.6699747833850552, 0.9973688579205094, 0.5852957318622575, 0.329724228121019, 0.05284042117324022, 0.0320565221784324, 0.02027598620208122, 0.049676166195098986, 0.005068996550520305, 0.8931571922016777, 0.03244157792332995, 0.2141174719136731, 0.07651460091439616, 0.04566193925536544, 0.5707742406920681, 0.048747205421268515, 0.04442783278900422, 0.9979160038302732, 0.9854258522446877, 0.013575558742430868, 0.6929100836066114, 0.05889079545804297, 0.11023569511923363, 0.0022965769816507007, 0.003280824259501001, 0.043470921438388266, 0.08874629621950207, 0.006346159613630092, 0.28113487088381306, 0.7050583330743031, 0.006980775574993101, 0.00011010235893752944, 0.8467972425885388, 0.007046550972001884, 0.14599572795116403, 0.09526983112277489, 0.02082055911954683, 0.00441648223747963, 0.24921578340063627, 0.6220930694507022, 0.008202038441033599, 0.09526831583318648, 0.04860628358836046, 0.855470591155144, 0.9987776377387971, 0.9986705048612781, 0.9987502456766323, 0.9971958365995458, 0.9990060291899487, 0.961340846205625, 0.03852652186255957, 0.9879706730114277, 0.01169657466075092, 0.9345225353330159, 0.04312603995316887, 0.022125533541190984, 0.9990951226696543, 0.9975564789851411, 0.30551711208128624, 0.03550966434278108, 0.6586037745085622, 0.14283225453260728, 0.2871471968285288, 0.5698463303671149]}, \"R\": 30, \"topic.order\": [5, 9, 3, 2, 8, 6, 10, 4, 7, 1], \"tinfo\": {\"Total\": [21142.0, 19834.0, 13021.0, 21488.0, 11328.0, 13063.0, 12420.0, 10736.0, 6568.0, 16790.0, 9112.0, 50382.0, 6784.0, 24109.0, 8442.0, 7772.0, 6290.0, 9246.0, 11522.0, 12534.0, 4704.0, 7938.0, 10434.0, 7863.0, 9082.0, 13352.0, 7153.0, 4623.0, 4592.0, 23782.0, 3460.5764792714285, 1900.053459839605, 1882.8466891360865, 1781.501102904969, 1157.7242491787308, 1116.4932411462644, 869.5661119250508, 858.0723796662503, 781.6943609501324, 770.0237428227833, 749.3258016964176, 738.1384181826296, 723.4104531738377, 672.0687547217067, 665.8123494174251, 622.761239837317, 604.0959428965064, 603.5510171099922, 535.456400313316, 529.1995381278517, 522.4440684493109, 573.7510433712699, 511.5874572949015, 484.3584348191345, 480.48079173086956, 477.64451494283276, 467.16152242298375, 464.30696226619375, 458.13575407981347, 457.88468046870383, 7427.419352495582, 6740.3268827829625, 2211.2644342024714, 1646.6332398358456, 1252.2504835742727, 1011.1782124734237, 1461.3705676522857, 4113.474202334906, 4574.897569808101, 2871.270262119745, 2423.7911953858807, 2445.2898808652335, 5573.958288664618, 885.2675623237192, 2666.60236193446, 4232.736557521464, 4219.05932982551, 2203.451407213657, 1615.2507246609284, 1830.4705610473616, 1525.0131459064971, 4136.215404619641, 2914.051505639867, 1815.858233174898, 4140.572756807471, 4265.911694431725, 3841.5405862347225, 4361.022361223729, 3624.3669298725163, 4345.152605843572, 13352.373422756713, 3828.3746377716684, 7272.651128913217, 9783.47368632254, 6940.293445865301, 4232.008135920305, 23782.76799846326, 6200.924572538325, 6026.744564842136, 9577.733969985311, 50382.64459033987, 9687.823812564002, 6096.029051870615, 6012.15098784189, 7762.154821307134, 24109.77535506192, 6113.667184333941, 6452.54190213786, 13097.408703782741, 7634.74370543635, 9667.774803941564, 19834.284446656155, 13021.304410081575, 12420.70840526445, 3797.8404283497634, 1883.7378505763074, 1470.9010728101405, 1349.5102261159211, 1281.8780541748733, 1118.1673197461803, 1062.9406588144209, 934.9678243578153, 922.7337951997458, 905.4998781123098, 856.1215146859514, 838.6732620169474, 838.1295928088862, 720.4265076626864, 676.8446447924248, 640.4942455202104, 634.9421627600551, 616.0273775712576, 580.143143079419, 579.2070653055755, 576.5707416804152, 571.833200673321, 558.7761440725145, 555.2704003786288, 509.8910166044576, 488.3430739930785, 485.9826211926042, 21142.29543193623, 1016.4696571358023, 1925.8303746298589, 1921.6525479056609, 1096.9161181985303, 770.7778580465337, 5752.81672503051, 5984.659167465726, 4406.372702893757, 5017.984230839839, 1161.6754901492393, 4901.935705229441, 16790.82708449082, 6645.732482152256, 8697.7366023069, 9082.457539055873, 1878.6575727546249, 5304.089069438424, 21488.81595457518, 1565.7601495913545, 12534.294693770466, 4252.441557747336, 1608.050271924882, 24109.77535506192, 3062.771758558142, 4079.884051009407, 4648.194136125545, 3539.643223294259, 8005.917465100332, 8465.708608112041, 8341.873483715648, 50382.64459033987, 23782.76799846326, 8442.223106351106, 10736.785578223313, 13097.408703782741, 5967.975781253055, 13063.557617713812, 3723.7452512076843, 3153.595024057326, 2772.6014248867336, 2505.1430058577275, 1974.0672031104841, 1917.249751843692, 1760.9855037896345, 1533.4101656970674, 1476.1718514815616, 1289.3863184512172, 1268.568927940849, 1137.9000731748504, 1033.7286336015993, 954.7333414137977, 880.3574057562427, 854.0315131098439, 812.999931873363, 810.3020156291954, 792.7073909284165, 734.2547199145253, 731.178613116761, 726.2349449720126, 690.026547652156, 686.0050824403621, 683.5206009811182, 678.9161626663519, 675.8218393819716, 561.961997032384, 560.6596197641801, 551.0666595370778, 1522.62879331467, 2267.007918911867, 870.5964904066128, 971.6391816411483, 2142.2875327915917, 1397.3420066173767, 2959.590269881839, 1259.7991243225856, 3521.470704411546, 2359.917736013932, 1796.9547211311474, 1799.3571547258205, 4520.685087220878, 10434.061969231117, 11522.174445903835, 2499.8327479681175, 2951.491336061132, 3521.9286124240425, 3238.912588145723, 2391.2728087966666, 4714.969114942075, 3252.8885170260005, 12737.714773012005, 3435.0113136282366, 5597.5961327061605, 50382.64459033987, 3939.0537744699454, 5677.471778970753, 4849.7872721837475, 7627.67782102651, 3238.1036417882046, 9667.774803941564, 8359.149368130826, 9687.823812564002, 13097.408703782741, 24109.77535506192, 5924.990261974684, 23782.76799846326, 4490.96134182038, 1984.312330879717, 1838.0732543473675, 1524.5192771502407, 1412.2999029506072, 1306.4970828199416, 1295.6596291240955, 1214.975816781211, 1093.2278450036858, 1010.7180148844017, 930.2894877378615, 914.3150334856505, 861.6376785929589, 850.2589582513755, 821.3377676051315, 800.4248488208844, 786.8580098437433, 772.393153050735, 730.388455512386, 689.7938526194412, 673.1452347242797, 644.7718136023216, 600.3509859172004, 595.0427342803494, 594.8477906589834, 590.6387182672669, 564.7282469187255, 561.9157882007673, 559.996265462043, 559.5561825120006, 545.9048978063155, 950.4354606015613, 1398.2940407086614, 1282.4267304798275, 1009.4500283345724, 904.8272090188949, 3841.509506826978, 2064.9747043889706, 2162.1409943430995, 1980.9943822041705, 1554.689649619763, 1381.5945711803336, 3632.774565934634, 2715.4492012774153, 2618.5996379920434, 1887.7430870737483, 2345.3926829936663, 2565.4764904155995, 1879.4853445872743, 1627.9492949654496, 7938.600318597511, 2613.7602118338095, 4870.902547268826, 2756.591972903338, 4487.586254161797, 7863.290436343228, 2364.8331471976335, 11328.784587460797, 7627.67782102651, 7772.015401385119, 5677.471778970753, 3512.299197487392, 2296.240953698475, 863.9826026038852, 837.5315403517601, 820.7871835715383, 753.1430303608654, 678.5421111342808, 677.2387213898314, 616.1460001009987, 583.4269624527893, 565.1185174691325, 537.030613324138, 527.4644265351035, 516.4333000236467, 459.2082421291148, 418.8737848286805, 414.66732114750033, 404.6670267419738, 392.56307086843947, 374.10215601064033, 332.1088487683722, 315.16534050726256, 306.07436359923753, 290.7917304390143, 287.1604658848847, 284.33521548807, 268.4704712734487, 265.50331894466285, 264.4898080193862, 262.82772080164074, 260.55948092953275, 3507.692047579272, 839.6329694004309, 515.6204511534864, 756.2353001434201, 448.6779545125199, 727.8302417536211, 792.7688204431483, 799.0959692139794, 1081.6795546336223, 413.09314762609995, 4483.993491751322, 533.7083485629545, 1216.4640352302022, 2482.763754343249, 995.8896078690277, 1013.1075631057397, 1170.3150826143396, 986.3885189440063, 2451.975406383135, 13063.557617713812, 2296.121944827657, 2420.482218658674, 1045.728959770512, 3348.9948891225135, 1034.826163938171, 943.3313154845698, 953.8321659473862, 7153.603463651094, 1689.3404503221304, 1022.8690273349274, 997.5923500779302, 2047.2067746569232, 5753.82248342808, 1220.839294804035, 2502.613288360444, 4719.5361056209285, 1561.881637999891, 2307.5090850760926, 8005.917465100332, 2111.5759392694354, 1610.9695814096226, 2955.8662645442732, 1620.605721236527, 1749.777591895589, 6784.957494906735, 4623.392570092904, 4592.047545245435, 3697.286480925345, 3353.310093306498, 2705.801627196542, 2627.2863858695223, 2273.148072043375, 2167.356314001974, 1839.7470615342932, 1644.9677203493882, 1354.916716471067, 1315.1266850777604, 947.7930180836262, 928.7860757929822, 880.6651402876162, 876.7732766234174, 857.7869187716028, 835.2864432282046, 791.2229219665124, 774.4741910016628, 767.2939832908659, 759.4732902768183, 715.6405501355365, 714.235378596644, 663.2995913902503, 646.0281224741319, 641.6400303631149, 591.7909466186786, 583.5037645244716, 2785.5230774766524, 937.0113150277981, 1195.3550373351895, 2560.6853192289336, 1252.9016905914436, 1522.8240206580804, 995.9405211977777, 2419.2311489526783, 7772.015401385119, 11328.784587460797, 9246.349013388792, 1047.0395352441703, 2458.352683339215, 7863.290436343228, 1131.5475753556218, 1799.9611568737866, 2213.832458045733, 7938.600318597511, 1285.200494579585, 4880.133597362828, 4487.586254161797, 4870.902547268826, 3238.0671545640566, 1820.0833098656278, 1129.9886554281577, 1081.5614801864426, 1091.7871659217503, 655.6938770006198, 612.7966096186717, 568.0815299286988, 532.1305088600199, 457.3603443069223, 421.0659694153315, 419.81360974819114, 418.67783945082334, 320.2140487793362, 317.8279741265526, 315.4224771303409, 307.607069278491, 307.39557478051734, 296.6851377332087, 266.639026668975, 261.3934341380276, 259.7088841133957, 249.6614431948677, 247.8328851547915, 271.9019189844482, 240.85032274603876, 234.15065478881777, 226.38346397042315, 221.64871436284074, 220.56261768254117, 372.82501158728155, 1899.1342487409545, 1335.455740138407, 1370.417392091957, 1012.5694506394062, 827.1222208667764, 765.2570407274931, 1000.1907645547645, 1551.3812033126053, 4244.013344649857, 848.0801032081408, 812.7478831281908, 817.6860658719535, 712.2138501185076, 743.5345745822137, 739.5882706599182, 2186.742444556248, 2671.209679753926, 3501.1724679504287, 1993.1435929368217, 8442.223106351106, 2376.8758765219254, 4250.149592946414, 1066.7201776411857, 7153.603463651094, 1511.940456431914, 1522.9201374890592, 1137.8411085689763, 2526.8620881721813, 4719.5361056209285, 50382.64459033987, 2945.7117469739287, 13352.373422756713, 4774.376857706433, 13063.557617713812, 21488.81595457518, 6164.2174943972095, 8005.917465100332, 9082.457539055873, 4647.0683324193005, 7627.67782102651, 1232.078953620568, 614.3071915462792, 558.9578676411438, 414.7107394354129, 413.4391831168416, 371.0997519745602, 353.3017587789079, 320.28567069376044, 304.79327925374326, 270.06308236020067, 250.97749256526473, 244.87845085159378, 243.71139186306632, 235.07299484839456, 233.0138332843622, 230.298544531651, 226.08678399653996, 214.19796518855085, 210.98521958149695, 208.39817974845556, 206.0092740937391, 205.47310669760913, 204.9385857920755, 202.34106961914986, 199.09988585701367, 198.92104936531481, 198.55678567129127, 198.43112946103537, 183.4777061570242, 182.7267108748692, 3375.5370995834783, 6290.764419815761, 3543.984389122589, 382.4177721094835, 1090.4323001551595, 353.0150366924538, 704.204943363567, 699.7664314499538, 872.2680838629406, 809.3084148832, 492.42085611916207, 319.9638899974668, 336.98831461808487, 1575.7561436876406, 1238.0040928788221, 508.8624690673532, 514.336792578535, 456.84199563915706, 1880.7694760173283, 1597.1353719706153, 2582.910633631202, 1492.551421730761, 1020.2695389022995, 624.4280287560241, 4886.576999027276, 3906.624811879659, 1584.9718449212455, 2023.3525049765562, 1573.3611934216956, 764.3575831543811, 3359.45764668175, 1217.2503470267318, 4428.628098145075, 1318.0471869288529, 2411.584671004589, 2172.327496930873, 7634.74370543635, 8359.149368130826, 3619.91009752437, 8341.873483715648, 3348.9948891225135, 12534.294693770466, 3466.407210758977, 12737.714773012005, 2484.282421045248, 4267.616388467915, 5778.8993180937205, 9577.733969985311, 1595.3749075878002, 1058.1113250039466, 1009.5328921670266, 803.7059987141919, 768.6360950358832, 703.6570994715706, 663.382122934248, 644.4453758206271, 625.5463699641433, 606.850147000848, 601.437148419691, 579.9447212620563, 566.7761638610978, 564.8837431117311, 550.16812930169, 548.3276952056389, 534.2042863761095, 518.3968793086347, 511.4111214481702, 498.295791944579, 489.20277474490246, 486.4027778159816, 455.44871641805867, 451.549996672521, 430.1619806363341, 427.2820098359943, 425.03859072857125, 423.8884043766168, 412.67085190192466, 409.8669361374748, 1266.6747050648737, 776.5590305611231, 2799.021649262693, 533.1040442650723, 573.2465598551811, 2997.283812613312, 9246.349013388792, 50382.64459033987, 2787.6493158736275, 4428.628098145075, 9112.566365660201, 6568.9267977619975, 4704.770085949011, 2202.495422760226, 1211.0958932186484, 1076.1720751774733, 910.6844115718754, 809.3351165327913, 779.7261940853542, 750.9317237991676, 725.1713948703404, 711.8338157394359, 638.7126166601299, 606.1732292525247, 563.2844861201659, 543.7071980599652, 543.5241257137044, 534.8239276576455, 514.1586171196345, 513.793516113014, 497.1575358332761, 488.84106793247724, 480.07671795231585, 461.48527181140406, 421.30937751387296, 399.6506631353165, 375.3165565040364, 310.22638779886597, 299.78346576055804, 296.8861371061115, 262.2847621260773, 1542.8065410125, 1720.6543810644246, 1516.5058333149414, 3705.431949587942, 2631.5424797719543, 971.937318463598, 9112.566365660201, 1998.5987182043523, 10736.785578223313, 1589.2634806289734, 2476.506600519682, 1598.5998628039804, 1498.1564374783732, 1188.7572011302825, 1085.6031429498169, 5597.5961327061605, 3539.5695832644924, 4534.65818604619, 2220.2926650903764, 3457.3779042176834, 50382.64459033987, 4980.545833864075, 8465.708608112041], \"Category\": [\"Default\", \"Default\", \"Default\", \"Default\", \"Default\", \"Default\", \"Default\", \"Default\", \"Default\", \"Default\", \"Default\", \"Default\", \"Default\", \"Default\", \"Default\", \"Default\", \"Default\", \"Default\", \"Default\", \"Default\", \"Default\", \"Default\", \"Default\", \"Default\", \"Default\", \"Default\", \"Default\", \"Default\", \"Default\", \"Default\", \"Topic1\", \"Topic1\", \"Topic1\", \"Topic1\", \"Topic1\", \"Topic1\", \"Topic1\", \"Topic1\", \"Topic1\", \"Topic1\", \"Topic1\", \"Topic1\", \"Topic1\", \"Topic1\", \"Topic1\", \"Topic1\", \"Topic1\", \"Topic1\", \"Topic1\", \"Topic1\", \"Topic1\", \"Topic1\", \"Topic1\", \"Topic1\", \"Topic1\", \"Topic1\", \"Topic1\", \"Topic1\", \"Topic1\", \"Topic1\", \"Topic1\", \"Topic1\", \"Topic1\", \"Topic1\", \"Topic1\", \"Topic1\", \"Topic1\", \"Topic1\", \"Topic1\", \"Topic1\", \"Topic1\", \"Topic1\", \"Topic1\", \"Topic1\", \"Topic1\", \"Topic1\", \"Topic1\", \"Topic1\", \"Topic1\", \"Topic1\", \"Topic1\", \"Topic1\", \"Topic1\", \"Topic1\", \"Topic1\", \"Topic1\", \"Topic1\", \"Topic1\", \"Topic1\", \"Topic1\", \"Topic1\", \"Topic1\", \"Topic1\", \"Topic1\", \"Topic1\", \"Topic1\", \"Topic1\", \"Topic1\", \"Topic1\", \"Topic1\", \"Topic1\", \"Topic1\", \"Topic1\", \"Topic1\", \"Topic1\", \"Topic1\", \"Topic1\", \"Topic1\", \"Topic1\", \"Topic1\", \"Topic1\", \"Topic2\", \"Topic2\", \"Topic2\", \"Topic2\", \"Topic2\", \"Topic2\", \"Topic2\", \"Topic2\", \"Topic2\", \"Topic2\", \"Topic2\", \"Topic2\", \"Topic2\", \"Topic2\", \"Topic2\", \"Topic2\", \"Topic2\", \"Topic2\", \"Topic2\", \"Topic2\", \"Topic2\", \"Topic2\", \"Topic2\", \"Topic2\", \"Topic2\", \"Topic2\", \"Topic2\", \"Topic2\", \"Topic2\", \"Topic2\", \"Topic2\", \"Topic2\", \"Topic2\", \"Topic2\", \"Topic2\", \"Topic2\", \"Topic2\", \"Topic2\", \"Topic2\", \"Topic2\", \"Topic2\", \"Topic2\", \"Topic2\", \"Topic2\", \"Topic2\", \"Topic2\", \"Topic2\", \"Topic2\", \"Topic2\", \"Topic2\", \"Topic2\", \"Topic2\", \"Topic2\", \"Topic2\", \"Topic2\", \"Topic2\", \"Topic2\", \"Topic2\", \"Topic2\", \"Topic2\", \"Topic2\", \"Topic2\", \"Topic2\", \"Topic2\", \"Topic2\", \"Topic2\", \"Topic2\", \"Topic2\", \"Topic3\", \"Topic3\", \"Topic3\", \"Topic3\", \"Topic3\", \"Topic3\", \"Topic3\", \"Topic3\", \"Topic3\", \"Topic3\", \"Topic3\", \"Topic3\", \"Topic3\", \"Topic3\", \"Topic3\", \"Topic3\", \"Topic3\", \"Topic3\", \"Topic3\", \"Topic3\", \"Topic3\", \"Topic3\", \"Topic3\", \"Topic3\", \"Topic3\", \"Topic3\", \"Topic3\", \"Topic3\", \"Topic3\", \"Topic3\", \"Topic3\", \"Topic3\", \"Topic3\", \"Topic3\", \"Topic3\", \"Topic3\", \"Topic3\", \"Topic3\", \"Topic3\", \"Topic3\", \"Topic3\", \"Topic3\", \"Topic3\", \"Topic3\", \"Topic3\", \"Topic3\", \"Topic3\", \"Topic3\", \"Topic3\", \"Topic3\", \"Topic3\", \"Topic3\", \"Topic3\", \"Topic3\", \"Topic3\", \"Topic3\", \"Topic3\", \"Topic3\", \"Topic3\", \"Topic3\", \"Topic3\", \"Topic3\", \"Topic3\", \"Topic3\", \"Topic3\", \"Topic3\", \"Topic3\", \"Topic3\", \"Topic3\", \"Topic4\", \"Topic4\", \"Topic4\", \"Topic4\", \"Topic4\", \"Topic4\", \"Topic4\", \"Topic4\", \"Topic4\", \"Topic4\", \"Topic4\", \"Topic4\", \"Topic4\", \"Topic4\", \"Topic4\", \"Topic4\", \"Topic4\", \"Topic4\", \"Topic4\", \"Topic4\", \"Topic4\", \"Topic4\", \"Topic4\", \"Topic4\", \"Topic4\", \"Topic4\", \"Topic4\", \"Topic4\", \"Topic4\", \"Topic4\", \"Topic4\", \"Topic4\", \"Topic4\", \"Topic4\", \"Topic4\", \"Topic4\", \"Topic4\", \"Topic4\", \"Topic4\", \"Topic4\", \"Topic4\", \"Topic4\", \"Topic4\", \"Topic4\", \"Topic4\", \"Topic4\", \"Topic4\", \"Topic4\", \"Topic4\", \"Topic4\", \"Topic4\", \"Topic4\", \"Topic4\", \"Topic4\", \"Topic4\", \"Topic4\", \"Topic4\", \"Topic4\", \"Topic4\", \"Topic4\", \"Topic4\", \"Topic5\", \"Topic5\", \"Topic5\", \"Topic5\", \"Topic5\", \"Topic5\", \"Topic5\", \"Topic5\", \"Topic5\", \"Topic5\", \"Topic5\", \"Topic5\", \"Topic5\", \"Topic5\", \"Topic5\", \"Topic5\", \"Topic5\", \"Topic5\", \"Topic5\", \"Topic5\", \"Topic5\", \"Topic5\", \"Topic5\", \"Topic5\", \"Topic5\", \"Topic5\", \"Topic5\", \"Topic5\", \"Topic5\", \"Topic5\", \"Topic5\", \"Topic5\", \"Topic5\", \"Topic5\", \"Topic5\", \"Topic5\", \"Topic5\", \"Topic5\", \"Topic5\", \"Topic5\", \"Topic5\", \"Topic5\", \"Topic5\", \"Topic5\", \"Topic5\", \"Topic5\", \"Topic5\", \"Topic5\", \"Topic5\", \"Topic5\", \"Topic5\", \"Topic5\", \"Topic5\", \"Topic5\", \"Topic5\", \"Topic5\", \"Topic5\", \"Topic5\", \"Topic5\", \"Topic5\", \"Topic5\", \"Topic5\", \"Topic5\", \"Topic5\", \"Topic5\", \"Topic5\", \"Topic5\", \"Topic5\", \"Topic5\", \"Topic5\", \"Topic5\", \"Topic5\", \"Topic5\", \"Topic5\", \"Topic6\", \"Topic6\", \"Topic6\", \"Topic6\", \"Topic6\", \"Topic6\", \"Topic6\", \"Topic6\", \"Topic6\", \"Topic6\", \"Topic6\", \"Topic6\", \"Topic6\", \"Topic6\", \"Topic6\", \"Topic6\", \"Topic6\", \"Topic6\", \"Topic6\", \"Topic6\", \"Topic6\", \"Topic6\", \"Topic6\", \"Topic6\", \"Topic6\", \"Topic6\", \"Topic6\", \"Topic6\", \"Topic6\", \"Topic6\", \"Topic6\", \"Topic6\", \"Topic6\", \"Topic6\", \"Topic6\", \"Topic6\", \"Topic6\", \"Topic6\", \"Topic6\", \"Topic6\", \"Topic6\", \"Topic6\", \"Topic6\", \"Topic6\", \"Topic6\", \"Topic6\", \"Topic6\", \"Topic6\", \"Topic6\", \"Topic6\", \"Topic6\", \"Topic6\", \"Topic7\", \"Topic7\", \"Topic7\", \"Topic7\", \"Topic7\", \"Topic7\", \"Topic7\", \"Topic7\", \"Topic7\", \"Topic7\", \"Topic7\", \"Topic7\", \"Topic7\", \"Topic7\", \"Topic7\", \"Topic7\", \"Topic7\", \"Topic7\", \"Topic7\", \"Topic7\", \"Topic7\", \"Topic7\", \"Topic7\", \"Topic7\", \"Topic7\", \"Topic7\", \"Topic7\", \"Topic7\", \"Topic7\", \"Topic7\", \"Topic7\", \"Topic7\", \"Topic7\", \"Topic7\", \"Topic7\", \"Topic7\", \"Topic7\", \"Topic7\", \"Topic7\", \"Topic7\", \"Topic7\", \"Topic7\", \"Topic7\", \"Topic7\", \"Topic7\", \"Topic7\", \"Topic7\", \"Topic7\", \"Topic7\", \"Topic7\", \"Topic7\", \"Topic7\", \"Topic7\", \"Topic7\", \"Topic7\", \"Topic7\", \"Topic7\", \"Topic7\", \"Topic7\", \"Topic7\", \"Topic7\", \"Topic7\", \"Topic7\", \"Topic7\", \"Topic7\", \"Topic7\", \"Topic7\", \"Topic7\", \"Topic7\", \"Topic7\", \"Topic7\", \"Topic8\", \"Topic8\", \"Topic8\", \"Topic8\", \"Topic8\", \"Topic8\", \"Topic8\", \"Topic8\", \"Topic8\", \"Topic8\", \"Topic8\", \"Topic8\", \"Topic8\", \"Topic8\", \"Topic8\", \"Topic8\", \"Topic8\", \"Topic8\", \"Topic8\", \"Topic8\", \"Topic8\", \"Topic8\", \"Topic8\", \"Topic8\", \"Topic8\", \"Topic8\", \"Topic8\", \"Topic8\", \"Topic8\", \"Topic8\", \"Topic8\", \"Topic8\", \"Topic8\", \"Topic8\", \"Topic8\", \"Topic8\", \"Topic8\", \"Topic8\", \"Topic8\", \"Topic8\", \"Topic8\", \"Topic8\", \"Topic8\", \"Topic8\", \"Topic8\", \"Topic8\", \"Topic8\", \"Topic8\", \"Topic8\", \"Topic8\", \"Topic8\", \"Topic8\", \"Topic8\", \"Topic8\", \"Topic8\", \"Topic8\", \"Topic8\", \"Topic8\", \"Topic8\", \"Topic8\", \"Topic8\", \"Topic8\", \"Topic8\", \"Topic8\", \"Topic8\", \"Topic8\", \"Topic8\", \"Topic8\", \"Topic8\", \"Topic8\", \"Topic8\", \"Topic8\", \"Topic8\", \"Topic8\", \"Topic8\", \"Topic8\", \"Topic8\", \"Topic8\", \"Topic9\", \"Topic9\", \"Topic9\", \"Topic9\", \"Topic9\", \"Topic9\", \"Topic9\", \"Topic9\", \"Topic9\", \"Topic9\", \"Topic9\", \"Topic9\", \"Topic9\", \"Topic9\", \"Topic9\", \"Topic9\", \"Topic9\", \"Topic9\", \"Topic9\", \"Topic9\", \"Topic9\", \"Topic9\", \"Topic9\", \"Topic9\", \"Topic9\", \"Topic9\", \"Topic9\", \"Topic9\", \"Topic9\", \"Topic9\", \"Topic9\", \"Topic9\", \"Topic9\", \"Topic9\", \"Topic9\", \"Topic9\", \"Topic9\", \"Topic9\", \"Topic9\", \"Topic9\", \"Topic9\", \"Topic10\", \"Topic10\", \"Topic10\", \"Topic10\", \"Topic10\", \"Topic10\", \"Topic10\", \"Topic10\", \"Topic10\", \"Topic10\", \"Topic10\", \"Topic10\", \"Topic10\", \"Topic10\", \"Topic10\", \"Topic10\", \"Topic10\", \"Topic10\", \"Topic10\", \"Topic10\", \"Topic10\", \"Topic10\", \"Topic10\", \"Topic10\", \"Topic10\", \"Topic10\", \"Topic10\", \"Topic10\", \"Topic10\", \"Topic10\", \"Topic10\", \"Topic10\", \"Topic10\", \"Topic10\", \"Topic10\", \"Topic10\", \"Topic10\", \"Topic10\", \"Topic10\", \"Topic10\", \"Topic10\", \"Topic10\", \"Topic10\", \"Topic10\", \"Topic10\", \"Topic10\", \"Topic10\", \"Topic10\", \"Topic10\", \"Topic10\", \"Topic10\", \"Topic10\", \"Topic10\"], \"loglift\": [30.0, 29.0, 28.0, 27.0, 26.0, 25.0, 24.0, 23.0, 22.0, 21.0, 20.0, 19.0, 18.0, 17.0, 16.0, 15.0, 14.0, 13.0, 12.0, 11.0, 10.0, 9.0, 8.0, 7.0, 6.0, 5.0, 4.0, 3.0, 2.0, 1.0, 1.2949, 1.2947, 1.2947, 1.2947, 1.2944, 1.2944, 1.2941, 1.2941, 1.294, 1.294, 1.294, 1.2939, 1.2939, 1.2938, 1.2938, 1.2937, 1.2937, 1.2937, 1.2935, 1.2935, 1.2935, 1.2934, 1.2934, 1.2933, 1.2933, 1.2933, 1.2933, 1.2932, 1.2932, 1.2932, 1.2497, 1.2497, 1.271, 1.2767, 1.2809, 1.2806, 1.2731, 1.25, 1.2455, 1.2465, 1.2502, 1.248, 1.2145, 1.2784, 1.2273, 1.203, 1.199, 1.2315, 1.2489, 1.2333, 1.2458, 1.1731, 1.1987, 1.2326, 1.1569, 1.1451, 1.1519, 1.1375, 1.1523, 1.1305, 0.9936, 1.1361, 1.0315, 0.9786, 1.0012, 1.0928, 0.711, 0.9944, 0.983, 0.8291, 0.2863, 0.8075, 0.9282, 0.9325, 0.814, 0.2559, 0.8934, 0.853, 0.3364, 0.6677, 0.3774, 1.8762, 1.8762, 1.8762, 1.876, 1.8758, 1.8756, 1.8756, 1.8756, 1.8755, 1.8754, 1.8753, 1.8753, 1.8753, 1.8752, 1.8752, 1.8752, 1.875, 1.8749, 1.8749, 1.8749, 1.8748, 1.8747, 1.8747, 1.8747, 1.8747, 1.8747, 1.8747, 1.8745, 1.8744, 1.8744, 1.8683, 1.8711, 1.8625, 1.8568, 1.8603, 1.8669, 1.8048, 1.7989, 1.81, 1.7933, 1.8515, 1.7744, 1.7006, 1.7454, 1.7278, 1.7099, 1.8157, 1.6969, 1.5428, 1.8187, 1.5891, 1.67, 1.7833, 1.1973, 1.6426, 1.5735, 1.5268, 1.5897, 1.2979, 1.2559, 1.2223, 0.4365, 0.6911, 1.1718, 0.9338, 0.6688, 1.1886, 0.5692, 1.8963, 1.8963, 1.8963, 1.8962, 1.8961, 1.8961, 1.8961, 1.896, 1.896, 1.8959, 1.8959, 1.8958, 1.8957, 1.8957, 1.8956, 1.8955, 1.8955, 1.8955, 1.8955, 1.8954, 1.8954, 1.8954, 1.8953, 1.8953, 1.8953, 1.8953, 1.8953, 1.895, 1.895, 1.895, 1.8942, 1.8875, 1.8948, 1.8933, 1.88, 1.8872, 1.8606, 1.8751, 1.8238, 1.8388, 1.8423, 1.8391, 1.7664, 1.6825, 1.6188, 1.7853, 1.7318, 1.6847, 1.6937, 1.735, 1.5476, 1.6226, 1.1932, 1.5915, 1.4352, 0.6046, 1.5377, 1.3608, 1.4041, 1.1836, 1.5369, 0.8199, 0.8801, 0.7431, 0.4344, -0.1606, 1.0225, -0.2333, 1.2103, 2.3544, 2.3543, 2.3542, 2.3542, 2.3541, 2.3541, 2.3541, 2.354, 2.3539, 2.3539, 2.3538, 2.3538, 2.3538, 2.3537, 2.3537, 2.3537, 2.3537, 2.3536, 2.3535, 2.3535, 2.3534, 2.3533, 2.3533, 2.3533, 2.3533, 2.3532, 2.3532, 2.3532, 2.3532, 2.3532, 2.3515, 2.3451, 2.3426, 2.3459, 2.3468, 2.3153, 2.3176, 2.3128, 2.3019, 2.3137, 2.3116, 2.2445, 2.2537, 2.2442, 2.2694, 2.2402, 2.2218, 2.2483, 2.251, 1.9594, 2.1468, 2.0159, 2.1205, 1.9523, 1.6538, 2.0331, 1.2459, 1.3508, 1.0275, 1.2452, 1.5314, 2.7165, 2.7158, 2.7158, 2.7158, 2.7157, 2.7156, 2.7156, 2.7154, 2.7153, 2.7153, 2.7152, 2.7152, 2.7151, 2.7149, 2.7147, 2.7147, 2.7147, 2.7146, 2.7145, 2.7142, 2.714, 2.714, 2.7138, 2.7138, 2.7137, 2.7136, 2.7135, 2.7135, 2.7135, 2.7134, 2.6785, 2.6996, 2.7059, 2.6952, 2.7056, 2.6825, 2.6678, 2.6657, 2.6339, 2.6955, 2.4888, 2.6728, 2.5964, 2.519, 2.614, 2.6081, 2.5896, 2.6035, 2.4551, 2.1849, 2.4606, 2.4254, 2.5626, 2.283, 2.5641, 2.576, 2.563, 1.7275, 2.3284, 2.5335, 2.5436, 2.1673, 1.5955, 2.42, 1.9545, 1.524, 2.2223, 1.9204, 0.9214, 1.9614, 2.1775, 1.6354, 2.1557, 2.054, 2.7461, 2.7461, 2.7461, 2.746, 2.746, 2.7459, 2.7459, 2.7459, 2.7458, 2.7458, 2.7457, 2.7456, 2.7456, 2.7453, 2.7453, 2.7452, 2.7452, 2.7452, 2.7452, 2.7451, 2.7451, 2.7451, 2.7451, 2.745, 2.745, 2.7449, 2.7449, 2.7449, 2.7448, 2.7447, 2.7269, 2.7364, 2.7211, 2.6681, 2.7005, 2.6671, 2.7104, 2.5966, 2.438, 2.3458, 2.3476, 2.6926, 2.4552, 2.0211, 2.6387, 2.4386, 2.3176, 1.627, 2.5473, 1.6251, 1.6412, 1.4989, 2.8877, 2.8875, 2.8872, 2.8871, 2.887, 2.8866, 2.8865, 2.8864, 2.8863, 2.886, 2.8858, 2.8858, 2.8858, 2.8852, 2.8852, 2.8851, 2.8851, 2.8851, 2.885, 2.8846, 2.8845, 2.8845, 2.8844, 2.8844, 2.8843, 2.8843, 2.8842, 2.884, 2.8839, 2.8839, 2.8835, 2.8181, 2.8068, 2.7828, 2.792, 2.8061, 2.8068, 2.7781, 2.7052, 2.5928, 2.7662, 2.7701, 2.7684, 2.7715, 2.7643, 2.7501, 2.5674, 2.5031, 2.4378, 2.5282, 2.1941, 2.4749, 2.3117, 2.6629, 2.0925, 2.5299, 2.52, 2.627, 2.234, 1.9307, 0.1907, 1.9419, 0.9456, 1.6241, 0.9352, 0.5779, 1.4342, 1.2303, 0.9635, 1.4804, 0.9383, 2.9269, 2.9262, 2.9261, 2.9255, 2.9255, 2.9253, 2.9251, 2.9249, 2.9247, 2.9244, 2.9241, 2.924, 2.924, 2.9239, 2.9238, 2.9238, 2.9237, 2.9235, 2.9234, 2.9234, 2.9233, 2.9233, 2.9233, 2.9232, 2.9232, 2.9232, 2.9232, 2.9232, 2.9228, 2.9228, 2.9109, 2.8447, 2.8404, 2.9038, 2.8608, 2.8864, 2.8332, 2.8225, 2.7864, 2.7887, 2.7967, 2.8612, 2.8516, 2.5778, 2.6096, 2.7745, 2.7714, 2.793, 2.5074, 2.5228, 2.388, 2.5097, 2.5904, 2.7125, 2.1549, 2.199, 2.4528, 2.3652, 2.4183, 2.6445, 2.1161, 2.4789, 2.0047, 2.4474, 2.2138, 2.2013, 1.6383, 1.5678, 1.9504, 1.3668, 1.8829, 0.9974, 1.7715, 0.8801, 1.9506, 1.4924, 1.2064, 0.6601, 3.1125, 3.1123, 3.1122, 3.112, 3.1119, 3.1118, 3.1118, 3.1117, 3.1117, 3.1116, 3.1116, 3.1116, 3.1115, 3.1115, 3.1115, 3.1115, 3.1114, 3.1114, 3.1114, 3.1113, 3.1113, 3.1113, 3.1111, 3.1111, 3.111, 3.111, 3.111, 3.111, 3.1109, 3.1109, 2.9872, 3.004, 2.3398, 3.0036, 2.9, 1.7072, 0.6785, -0.7373, 1.4196, 0.978, 0.2447, 3.122, 3.1219, 3.1217, 3.1214, 3.1213, 3.1211, 3.121, 3.121, 3.1209, 3.1209, 3.1209, 3.1207, 3.1207, 3.1205, 3.1205, 3.1205, 3.1205, 3.1204, 3.1204, 3.1203, 3.1203, 3.1203, 3.1202, 3.12, 3.1199, 3.1198, 3.1193, 3.1192, 3.1191, 3.1187, 3.0865, 3.0567, 3.0341, 2.9696, 2.9777, 3.0151, 2.6313, 2.8332, 2.4673, 2.8448, 2.7363, 2.7797, 2.7813, 2.8053, 2.8166, 1.7634, 1.9941, 1.8139, 2.1935, 1.7829, -0.5152, 1.4599, 0.7669], \"Term\": [\"ministro\", \"senhor\", \"excel\\u00eancia\", \"presidente\", \"united\", \"telegrama\", \"embaixador\", \"rio\", \"itaipu\", \"exteriores\", \"argentina\", \"brasil\", \"committee\", \"rela\\u00e7\\u00f5es\", \"chanceler\", \"nations\", \"artigo\", \"general\", \"desenvolvimento\", \"rep\\u00fablica\", \"corpus\", \"states\", \"coopera\\u00e7\\u00e3o\", \"international\", \"visita\", \"pol\\u00edtica\", \"recebido\", \"resolution\", \"assembly\", \"governo\", \"resolu\\u00e7\\u00e3o\", \"posi\\u00e7\\u00f5es\", \"atitude\", \"povos\", \"interven\\u00e7\\u00e3o\", \"africanos\", \"conflito\", \"vota\\u00e7\\u00e3o\", \"plen\\u00e1rio\", \"vontade\", \"socialistas\", \"desarmamento\", \"solidariedade\", \"africano\", \"absten\\u00e7\\u00f5es\", \"vizinhos\", \"movimentos\", \"consci\\u00eancia\", \"ocidentais\", \"rod\\u00e9sia\", \"resolu\\u00e7\\u00f5es\", \"acontecimentos\", \"conflitos\", \"devemos\", \"sentimento\", \"san\\u00e7\\u00f5es\", \"africana\", \"amea\\u00e7a\", \"conceitos\", \"perigo\", \"posi\\u00e7\\u00e3o\", \"na\\u00e7\\u00f5es\", \"quest\\u00f5es\", \"opini\\u00e3o\", \"verdade\", \"consenso\", \"di\\u00e1logo\", \"unidas\", \"direitos\", \"solu\\u00e7\\u00e3o\", \"parece\", \"povo\", \"quest\\u00e3o\", \"fatos\", \"\\u00e1frica\", \"mundo\", \"interesses\", \"maneira\", \"delega\\u00e7\\u00f5es\", \"preocupa\\u00e7\\u00e3o\", \"talvez\", \"assembleia\", \"humanos\", \"continente\", \"fato\", \"pois\", \"problema\", \"problemas\", \"embora\", \"situa\\u00e7\\u00e3o\", \"pol\\u00edtica\", \"sempre\", \"quanto\", \"unidos\", \"respeito\", \"poder\", \"governo\", \"assim\", \"rela\\u00e7\\u00e3o\", \"geral\", \"brasil\", \"internacional\", \"vez\", \"ter\", \"projeto\", \"rela\\u00e7\\u00f5es\", \"grupo\", \"forma\", \"brasileiro\", \"comiss\\u00e3o\", \"brasileira\", \"senhor\", \"excel\\u00eancia\", \"embaixador\", \"senhora\", \"recebe\", \"pal\\u00e1cio\", \"conselheiro\", \"doutor\", \"almo\\u00e7o\", \"audi\\u00eancia\", \"protestos\", \"excel\\u00eancias\", \"afetuoso\", \"rogo\", \"prazer\", \"luiz\", \"aproveito\", \"jantar\", \"abraco\", \"nogueira\", \"crimmins\", \"16:00\", \"velloso\", \"recebi\", \"agrade\\u00e7o\", \"excelent\\u00edssimo\", \"planalto\", \"coronel\", \"agradeceria\", \"abra\\u00e7o\", \"ministro\", \"oferecido\", \"carlos\", \"convite\", \"conversa\", \"pereira\", \"chefe\", \"azeredo\", \"sr\", \"bras\\u00edlia\", \"honra\", \"antonio\", \"exteriores\", \"embaixada\", \"silveira\", \"visita\", \"neg\\u00f3cios\", \"informa\\u00e7\\u00e3o\", \"presidente\", \"gabinete\", \"rep\\u00fablica\", \"miss\\u00e3o\", \"jo\\u00e3o\", \"rela\\u00e7\\u00f5es\", \"horas\", \"itamaraty\", \"paulo\", \"ocasi\\u00e3o\", \"secreto\", \"reuni\\u00e3o\", \"minist\\u00e9rio\", \"brasil\", \"governo\", \"chanceler\", \"rio\", \"brasileiro\", \"assunto\", \"telegrama\", \"produtos\", \"tecnologia\", \"mercado\", \"exporta\\u00e7\\u00f5es\", \"exporta\\u00e7\\u00e3o\", \"pre\\u00e7os\", \"interc\\u00e2mbio\", \"importa\\u00e7\\u00f5es\", \"crescimento\", \"equipamentos\", \"produto\", \"expans\\u00e3o\", \"bilh\\u00f5es\", \"mercados\", \"importa\\u00e7\\u00e3o\", \"salvaguardas\", \"pre\\u00e7o\", \"taxa\", \"pagamentos\", \"ferro\", \"industriais\", \"toneladas\", \"nordeste\", \"pesquisas\", \"cient\\u00edfica\", \"exportadores\", \"tecnol\\u00f3gica\", \"compras\", \"oferta\", \"tecnol\\u00f3gico\", \"investimentos\", \"empresas\", \"contratos\", \"produtores\", \"nucleares\", \"pesquisa\", \"produ\\u00e7\\u00e3o\", \"financiamento\", \"comercial\", \"d\\u00f3lares\", \"programas\", \"comerciais\", \"com\\u00e9rcio\", \"coopera\\u00e7\\u00e3o\", \"desenvolvimento\", \"setor\", \"t\\u00e9cnica\", \"brasileiras\", \"petr\\u00f3leo\", \"economia\", \"recursos\", \"projetos\", \"acordo\", \"participa\\u00e7\\u00e3o\", \"energia\", \"brasil\", \"programa\", \"us\", \"econ\\u00f4mica\", \"nuclear\", \"campo\", \"brasileira\", \"nacional\", \"internacional\", \"brasileiro\", \"rela\\u00e7\\u00f5es\", \"interesse\", \"governo\", \"brasileiros\", \"american\", \"country\", \"policy\", \"brazilian\", \"many\", \"energy\", \"important\", \"said\", \"issues\", \"interests\", \"technology\", \"excellency\", \"negotiations\", \"much\", \"like\", \"believe\", \"process\", \"still\", \"ambassador\", \"cannot\", \"arms\", \"today\", \"embassy\", \"effort\", \"know\", \"good\", \"say\", \"relationship\", \"western\", \"think\", \"last\", \"minister\", \"years\", \"interest\", \"however\", \"world\", \"latin\", \"foreign\", \"could\", \"people\", \"problems\", \"brazil\", \"government\", \"developing\", \"time\", \"president\", \"relations\", \"political\", \"agreement\", \"states\", \"state\", \"economic\", \"trade\", \"development\", \"international\", \"national\", \"united\", \"nuclear\", \"nations\", \"us\", \"america\", \"alterada\", \"rr\", \"rn\", \"cc\", \"ul7/67\", \"uh\", \"ah\", \"tr\", \"hu\", \"cs\", \"egrama\", \"ss\", \"nte\", \"ur\", \"hl7/67\", \"tt\", \"nf\", \"coi\", \"iu\", \"aspas\", \"fr\", \"sm\", \"tm\", \"lr\", \"nv\", \"coh\", \"dh\", \"mz\", \"gu\", \"ld\", \"classifica\\u00e7\\u00e3o\", \"nn\", \"nm\", \"dn\", \"rl\", \"cu\", \"minulado\", \"ac\", \"ho\", \"fu\", \"minuta\", \"tl\", \"ue\", \"ostensivo\", \"pr\", \"autorizo\", \"io\", \"uu\", \"reservado\", \"telegrama\", \"ar\", \"distribui\\u00e7\\u00e3o\", \"oe\", \"decreto\", \"lu\", \"br\", \"minutado\", \"recebido\", \"ro\", \"ee\", \"ae\", \"mw\", \"ordem\", \"ir\", \"p\\u00e1gina\", \"confidencial\", \"pe\", \"ja\", \"secreto\", \"continua\\u00e7\\u00e3o\", \"retransmito\", \"n\\u00famero\", \"va\", \"mo\", \"committee\", \"resolution\", \"assembly\", \"report\", \"republic\", \"session\", \"paragraph\", \"council\", \"secretary-general\", \"english\", \"programme\", \"adopted\", \"representative\", \"submitted\", \"fifth\", \"advisory\", \"accordance\", \"resolutions\", \"socialist\", \"follows\", \"board\", \"administrative\", \"contained\", \"document\", \"discrimination\", \"amendment\", \"requests\", \"operative\", \"recommendations\", \"revised\", \"article\", \"arab\", \"section\", \"meeting\", \"member\", \"convention\", \"organizations\", \"commission\", \"nations\", \"united\", \"general\", \"representatives\", \"conference\", \"international\", \"following\", \"law\", \"special\", \"states\", \"consideration\", \"social\", \"development\", \"economic\", \"lembrete\", \"jornal\", \"uau\", \"pagina\", \"serah\", \"deverah\", \"hah\", \"poderah\", \"giscard\", \"editorial\", \"ateh\", \"terah\", \"d'estaing\", \"noticiario\", \"agencia\", \"eanes\", \"intencao\", \"pressao\", \"frances\", \"lider\", \"aig\", \"forcas\", \"schmidt\", \"preco\", \"ode\", \"callaghan\", \"aaaaa\", \"evolucao\", \"rainha\", \"sauvagnargues\", \"noticias\", \"communications\", \"publica\", \"apos\", \"ultima\", \"jornais\", \"noticia\", \"titulo\", \"ptvg\", \"serie\", \"soh\", \"proprio\", \"jah\", \"oue\", \"entao\", \"porem\", \"secretario\", \"paris\", \"imprensa\", \"continua\", \"chanceler\", \"tel\", \"global\", \"franca\", \"recebido\", \"comercio\", \"londres\", \"conferencia\", \"discurso\", \"confidencial\", \"brasil\", \"segunda\", \"pol\\u00edtica\", \"geisel\", \"telegrama\", \"presidente\", \"segundo\", \"secreto\", \"visita\", \"sob\", \"nuclear\", \"contratantes\", \"passaporte\", \"decreto-lei\", \"consulares\", \"contratante\", \"cargos\", \"regulamento\", \"faculdade\", \"escuro\", \"or\\u00e7ament\\u00e1ria\", \"portaria\", \"juiz\", \"pol\\u00edcia\", \"passaportes\", \"pris\\u00e3o\", \"alunos\", \"estadual\", \"aposentadoria\", \"servidores\", \"f\\u00f4r\", \"penal\", \"dasp\", \"c\\u00f4nsul\", \"funcional\", \"ceausescu\", \"tribunais\", \"v\\u00e1lido\", \"entrar\\u00e1\", \"munic\\u00edpios\", \"publica\\u00e7\\u00f5es\", \"art\", \"artigo\", \"lei\", \"competente\", \"estrangeiro\", \"administrativo\", \"disposi\\u00e7\\u00f5es\", \"consular\", \"tribunal\", \"legisla\\u00e7\\u00e3o\", \"leis\", \"supremo\", \"inciso\", \"vigor\", \"constitui\\u00e7\\u00e3o\", \"administrativa\", \"vistos\", \"publica\\u00e7\\u00e3o\", \"servi\\u00e7o\", \"justi\\u00e7a\", \"par\\u00e1grafo\", \"\\u00f3rg\\u00e3o\", \"autoridade\", \"se\\u00e7\\u00e3o\", \"federal\", \"conselho\", \"visto\", \"\\u00f3rg\\u00e3os\", \"instituto\", \"or\\u00e7amento\", \"membros\", \"ato\", \"presente\", \"atos\", \"congresso\", \"administra\\u00e7\\u00e3o\", \"comiss\\u00e3o\", \"nacional\", \"direito\", \"minist\\u00e9rio\", \"decreto\", \"rep\\u00fablica\", \"iii\", \"acordo\", \"territ\\u00f3rio\", \"trabalho\", \"cada\", \"geral\", \"gobierno\", \"relaciones\", \"acuerdo\", \"pays\", \"art\\u00edculo\", \"cette\", \"reunion\", \"desarrollo\", \"deux\", \"monsieur\", \"droit\", \"bien\", \"br\\u00e9sil\", \"d'un\", \"respecto\", \"puede\", \"derechos\", \"comit\\u00e9\", \"derecho\", \"senor\", \"d'une\", \"etats\", \"cours\", \"gobiernos\", \"ello\", \"hecho\", \"\\u00eatre\", \"mismo\", \"excellence\", \"cuenca\", \"paraguay\", \"plus\", \"si\", \"mayor\", \"fin\", \"buenos\", \"general\", \"brasil\", \"aires\", \"presente\", \"argentina\", \"itaipu\", \"corpus\", \"cota\", \"\\u00e1guas\", \"paraguaio\", \"argentinos\", \"turbinas\", \"paran\\u00e1\", \"paran\\u00e3\", \"paraguaia\", \"metros\", \"jusante\", \"barragem\", \"cotas\", \"aproveitamentos\", \"foz\", \"eletrobr\\u00e1s\", \"debernardi\", \"paraguaios\", \"tripartites\", \"represa\", \"enchimento\", \"igua\\u00e7u\", \"ponta\", \"salto\", \"caudal\", \"acaray\", \"ande\", \"descarga\", \"perdas\", \"bacia\", \"prata\", \"navega\\u00e7\\u00e3o\", \"paraguai\", \"argentino\", \"trecho\", \"argentina\", \"assun\\u00e7\\u00e3o\", \"rio\", \"obras\", \"opera\\u00e7\\u00e3o\", \"aproveitamento\", \"rios\", \"obra\", \"unidades\", \"energia\", \"total\", \"n\\u00edvel\", \"constru\\u00e7\\u00e3o\", \"documento\", \"brasil\", \"tratado\", \"reuni\\u00e3o\"], \"logprob\": [30.0, 29.0, 28.0, 27.0, 26.0, 25.0, 24.0, 23.0, 22.0, 21.0, 20.0, 19.0, 18.0, 17.0, 16.0, 15.0, 14.0, 13.0, 12.0, 11.0, 10.0, 9.0, 8.0, 7.0, 6.0, 5.0, 4.0, 3.0, 2.0, 1.0, -6.2513, -6.851, -6.8602, -6.9155, -7.3468, -7.3831, -7.6332, -7.6466, -7.7399, -7.7549, -7.7822, -7.7973, -7.8175, -7.8912, -7.9005, -7.9675, -7.998, -7.9989, -8.1188, -8.1305, -8.1434, -8.0497, -8.1644, -8.2192, -8.2273, -8.2332, -8.2554, -8.2616, -8.275, -8.2755, -5.5327, -5.6298, -6.723, -7.0122, -7.2818, -7.4959, -7.1352, -6.1234, -6.0215, -6.4864, -6.6521, -6.6455, -5.855, -7.631, -6.5795, -6.1418, -6.149, -6.7661, -7.0593, -6.9497, -7.1198, -6.1948, -6.5194, -6.9584, -6.2099, -6.1918, -6.2898, -6.1774, -6.3476, -6.188, -5.2023, -6.3091, -5.772, -5.5283, -5.8491, -6.2522, -4.9077, -5.9685, -6.0084, -5.6991, -4.5816, -5.7093, -6.0518, -6.0613, -5.9243, -5.3491, -6.0837, -6.0701, -5.8788, -6.0872, -6.1414, -3.924, -4.3448, -4.3921, -5.5772, -6.2786, -6.5261, -6.6123, -6.6637, -6.8005, -6.8512, -6.9796, -6.9927, -7.0116, -7.0677, -7.0884, -7.089, -7.2405, -7.303, -7.3583, -7.367, -7.3973, -7.4574, -7.459, -7.4636, -7.4718, -7.495, -7.5013, -7.5867, -7.6299, -7.6348, -3.868, -6.9001, -6.2697, -6.2776, -6.8349, -7.1811, -5.2331, -5.1995, -5.4946, -5.3813, -6.7862, -5.4236, -4.2661, -5.1482, -4.8967, -4.8714, -6.3414, -5.4222, -4.1773, -6.5205, -4.67, -5.6701, -6.5293, -4.4077, -6.0257, -5.8081, -5.7243, -5.9339, -5.4095, -5.3957, -5.444, -4.4315, -4.9275, -5.4826, -5.4801, -5.5464, -5.8126, -5.6486, -5.5765, -5.7428, -5.8716, -5.973, -6.2114, -6.2406, -6.3257, -6.4641, -6.5022, -6.6376, -6.6538, -6.7626, -6.8587, -6.9383, -7.0195, -7.0499, -7.0991, -7.1025, -7.1245, -7.2011, -7.2053, -7.2121, -7.2633, -7.2692, -7.2728, -7.2796, -7.2842, -7.4689, -7.4713, -7.4885, -6.473, -6.0817, -7.0314, -6.9231, -6.1457, -6.5658, -5.8419, -6.6815, -5.705, -6.0901, -6.3592, -6.3611, -5.5126, -4.76, -4.7246, -6.0861, -5.9735, -5.8439, -5.9187, -6.1808, -5.6892, -5.9854, -5.0498, -5.9621, -5.63, -4.2634, -5.879, -5.6903, -5.8045, -5.5723, -6.0758, -5.6989, -5.7841, -5.7737, -5.7808, -5.7656, -5.9859, -5.8519, -6.0752, -5.748, -5.8246, -6.0117, -6.0882, -6.1661, -6.1745, -6.2388, -6.3445, -6.423, -6.506, -6.5233, -6.5827, -6.5961, -6.6307, -6.6565, -6.6736, -6.6922, -6.7482, -6.8054, -6.8299, -6.873, -6.9445, -6.9534, -6.9537, -6.9609, -7.0058, -7.0108, -7.0142, -7.015, -7.0397, -6.4869, -6.1072, -6.1962, -6.4323, -6.5408, -5.1265, -5.7449, -5.7038, -5.8022, -6.0327, -6.1528, -5.2531, -5.535, -5.5807, -5.8828, -5.6949, -5.6237, -5.9083, -6.0493, -4.7565, -5.68, -5.1884, -5.6532, -5.334, -5.0716, -5.8938, -5.1143, -5.4051, -5.7096, -5.8059, -6.0, -5.2399, -6.218, -6.2491, -6.2693, -6.3554, -6.4599, -6.4618, -6.5565, -6.6111, -6.643, -6.6941, -6.7121, -6.7333, -6.8509, -6.9431, -6.9532, -6.9776, -7.0081, -7.0564, -7.1757, -7.2282, -7.2576, -7.309, -7.3216, -7.3315, -7.3891, -7.4002, -7.4041, -7.4104, -7.4191, -4.8542, -6.2628, -6.7441, -6.3718, -6.8835, -6.4228, -6.352, -6.3462, -6.0752, -6.9762, -4.7983, -6.7428, -5.9953, -5.3593, -6.1777, -6.1665, -6.0407, -6.1979, -5.4356, -4.0329, -5.4958, -5.4782, -6.1803, -5.296, -6.1893, -6.2699, -6.2719, -5.0925, -5.9348, -6.2315, -6.2465, -5.9038, -5.4423, -6.168, -5.9158, -5.7119, -6.1194, -6.031, -5.786, -6.0788, -6.1333, -6.0684, -6.1491, -6.1742, -4.1268, -4.5104, -4.5172, -4.734, -4.8317, -5.0463, -5.0757, -5.2206, -5.2683, -5.4322, -5.5442, -5.7383, -5.7681, -6.0959, -6.1162, -6.1694, -6.1739, -6.1958, -6.2224, -6.2767, -6.2981, -6.3074, -6.3177, -6.3772, -6.3791, -6.4532, -6.4796, -6.4865, -6.5675, -6.5816, -5.0363, -6.1163, -5.888, -5.1793, -5.8617, -5.6999, -6.0813, -5.3076, -4.2991, -4.0145, -4.2158, -6.049, -5.4329, -4.7043, -6.0253, -5.7613, -5.6752, -5.0888, -5.9894, -5.5774, -5.6451, -5.7054, -4.725, -5.3013, -5.7782, -5.8221, -5.8128, -6.3231, -6.3908, -6.4667, -6.5322, -6.6839, -6.7667, -6.7697, -6.7724, -7.0412, -7.0487, -7.0563, -7.0815, -7.0822, -7.1177, -7.2249, -7.2448, -7.2513, -7.2909, -7.2983, -7.2056, -7.3269, -7.3553, -7.3891, -7.4103, -7.4153, -6.8907, -5.3281, -5.6916, -5.6897, -5.9831, -6.1714, -6.2483, -6.0093, -5.6433, -4.7493, -6.1862, -6.2249, -6.2205, -6.3555, -6.3196, -6.3392, -5.4378, -5.3019, -5.0968, -5.5697, -4.4603, -5.4469, -5.029, -6.0601, -4.7275, -5.8443, -5.847, -6.0314, -5.6267, -5.3052, -4.6773, -5.7653, -5.2503, -5.6002, -5.2826, -5.1421, -5.5347, -5.4772, -5.6177, -5.771, -5.8175, -5.652, -6.3487, -6.4432, -6.7423, -6.7454, -6.8536, -6.9029, -7.0013, -7.051, -7.1724, -7.2459, -7.2706, -7.2754, -7.3116, -7.3204, -7.3322, -7.3507, -7.405, -7.4202, -7.4325, -7.4441, -7.4467, -7.4494, -7.4622, -7.4784, -7.4793, -7.4811, -7.4818, -7.5605, -7.5646, -4.6602, -4.1038, -4.682, -6.8451, -5.8403, -6.9425, -6.3051, -6.3221, -6.1379, -6.2105, -6.6993, -7.066, -7.0237, -5.7551, -5.9645, -6.6887, -6.6811, -6.778, -5.6485, -5.7966, -5.4507, -5.8774, -6.1771, -6.546, -5.0462, -5.2259, -5.8742, -5.7176, -5.9161, -6.4119, -5.4598, -6.1122, -5.2949, -6.0641, -5.6935, -5.8105, -5.1166, -5.0964, -5.5507, -5.2996, -5.6961, -5.2618, -5.773, -5.363, -5.927, -5.8442, -5.827, -5.8681, -5.208, -5.6189, -5.6659, -5.8941, -5.9388, -6.0272, -6.0863, -6.1153, -6.1451, -6.1755, -6.1844, -6.2209, -6.2439, -6.2472, -6.2737, -6.277, -6.3032, -6.3332, -6.3468, -6.3729, -6.3913, -6.3971, -6.4629, -6.4716, -6.5202, -6.5269, -6.5322, -6.5349, -6.5618, -6.5686, -5.564, -6.0365, -5.4186, -6.4131, -6.4441, -5.9827, -5.8849, -5.6053, -6.3428, -6.3215, -6.3333, -3.7833, -4.1171, -4.8763, -5.4747, -5.5929, -5.76, -5.8781, -5.9154, -5.9531, -5.9881, -6.0067, -6.1152, -6.1676, -6.241, -6.2765, -6.2768, -6.293, -6.3324, -6.3332, -6.3661, -6.383, -6.4012, -6.4407, -6.532, -6.5849, -6.6478, -6.8388, -6.8732, -6.8829, -7.0072, -5.2675, -5.1882, -5.3371, -4.5082, -4.8424, -5.801, -3.9467, -5.262, -3.9466, -5.4796, -5.1445, -5.5387, -5.6021, -5.8094, -5.8889, -5.3019, -5.5295, -5.4619, -5.7965, -5.7642, -5.3831, -5.7221, -5.8847], \"Freq\": [21142.0, 19834.0, 13021.0, 21488.0, 11328.0, 13063.0, 12420.0, 10736.0, 6568.0, 16790.0, 9112.0, 50382.0, 6784.0, 24109.0, 8442.0, 7772.0, 6290.0, 9246.0, 11522.0, 12534.0, 4704.0, 7938.0, 10434.0, 7863.0, 9082.0, 13352.0, 7153.0, 4623.0, 4592.0, 23782.0, 3459.6907437272616, 1899.1677628731943, 1881.9610018569742, 1780.615435079014, 1156.8385227424308, 1115.6075378409855, 868.6804250167935, 857.186660240931, 780.8086710463652, 769.1380172620256, 748.4400934035808, 737.2527549261833, 722.5247897327774, 671.1830500331174, 664.9267400645844, 621.8755814298129, 603.2102783397274, 602.6653674324438, 534.57075230121, 528.3138567880331, 521.5583332885088, 572.768957181122, 510.7018128285307, 483.4727539814846, 479.59513531533753, 476.7588571552372, 466.2757991525384, 463.4212995157306, 457.25003586273715, 456.99888567590136, 7097.534306292753, 6440.817489535206, 2158.510959666823, 1616.4688000344188, 1234.4761551175009, 996.5796059419323, 1429.4721127318, 3931.731361092427, 4353.284664481481, 2734.8239698836137, 2317.2811292458523, 2332.6651023546497, 5142.138983633337, 870.590530971942, 2491.624865157158, 3859.9453182152947, 3832.2224917348144, 2067.5625568848623, 1542.1991524328266, 1720.711435615376, 1451.6227960773294, 3660.8830335725984, 2646.1126535326885, 1705.810006976784, 3605.8338617531986, 3671.556580742702, 3328.9279001275554, 3725.123072651514, 3141.9908654487713, 3685.5324418709265, 9876.477494585379, 3265.363929685699, 5586.98327807888, 7129.007806036155, 5172.701269251162, 3456.6562469962228, 13260.624977730045, 4590.490760594031, 4410.790474457862, 6009.821852190492, 18372.075055779304, 5948.799828024095, 4223.534869292051, 4183.445191351577, 4797.7966744551795, 8528.135899213838, 4091.0541280004377, 4146.720991145465, 5021.062032893519, 4076.663056985999, 3861.3524804043727, 19833.395984463237, 13020.416124912896, 12419.820164361458, 3796.9522234420315, 1882.8496228374652, 1470.0128384055815, 1348.621701125323, 1280.989798349048, 1117.279103057792, 1062.052388008817, 934.0795484285525, 921.8456061366327, 904.6116689170667, 855.2332504100742, 837.7850020024075, 837.241298291288, 719.5382973384878, 675.9563838290759, 639.606028269717, 634.0538844614084, 615.1390431224191, 579.2549652529334, 578.3187945630415, 575.6824612646358, 570.9449763077262, 557.887912667754, 554.3820987930554, 509.00276277744075, 487.45480970131933, 485.09440778579284, 20975.178025031633, 1011.2949872903946, 1899.5955420960202, 1884.6923032518487, 1079.510519145365, 763.6067328390766, 5356.053929390178, 5539.07150072321, 4123.761609468157, 4618.478208919813, 1133.324768229926, 4427.342556988028, 14086.619818372508, 5830.81167356811, 7498.0484416284735, 7690.578462480809, 1768.2383003162477, 4433.33189733458, 15395.152139626618, 1478.21308174665, 9406.146330876067, 3460.033526411153, 1465.2827876226286, 12227.205208587335, 2424.529936193419, 3014.062668404086, 3277.321288091227, 2657.6241883387847, 4489.972188653946, 4552.490919351437, 4337.815477412073, 11939.913305578471, 7270.417257242033, 4173.571068510934, 4183.9107079716905, 3915.6812915761666, 3000.2941401510566, 3535.2888809688475, 3722.857243818279, 3152.706920521128, 2771.7133677366787, 2504.255012577729, 1973.17918019349, 1916.3617392287636, 1760.0974950439677, 1532.5221733314077, 1475.2838375083481, 1288.4983006251548, 1267.680902632896, 1137.012058819815, 1032.8406477484025, 953.8453377397805, 879.4693571681763, 853.1434934016818, 812.1118795237466, 809.4139315823339, 791.8193907871893, 733.3666638260923, 730.290413161914, 725.3469347712613, 689.1383988153553, 685.1170266267699, 682.6325765806886, 678.0281309487088, 674.9337992594203, 561.073910913672, 559.7715698787166, 550.1786090600326, 1519.0171194155612, 2246.4439057292593, 869.0529676711277, 968.4629682381177, 2107.142663235643, 1384.3485799380087, 2855.092495478062, 1233.0538067332157, 3274.211217726131, 2227.510669055057, 1702.0948826496578, 1698.7709869505657, 3968.7240653530152, 8423.335749096052, 8727.346143089682, 2236.6325542715413, 2503.170330272959, 2849.4983425797973, 2644.0627431495955, 2034.5058750032067, 3326.091905890404, 2473.390383906456, 6304.194080574638, 2531.9042309500696, 3528.9275595888635, 13840.793262558207, 2751.2212676088634, 3322.583372405934, 2963.874571417336, 3738.8265597115496, 2259.798044755046, 3294.1005722201385, 3024.9995233599934, 3056.801884792089, 3034.9568223639562, 3081.40823507858, 2472.274439893203, 2826.693176973356, 2261.03845662063, 1983.4246150231638, 1837.1855935369608, 1523.6315866147672, 1411.412213856871, 1305.6094391640302, 1294.7719529578803, 1214.0881085054261, 1092.340155237399, 1009.8303476027353, 929.4018542251637, 913.427375477522, 860.7500452307079, 849.3713185099356, 820.4501178459337, 799.5372207118639, 785.9703867790108, 771.5054412337996, 729.500782054572, 688.9062079927431, 672.2576134118888, 643.884033747304, 599.4633659722018, 594.1551041532788, 593.960132522933, 589.7508202587054, 563.8406045866608, 561.0281460645924, 559.1086257540036, 558.6685046950953, 545.0172707553372, 947.3228863207996, 1384.7959847089378, 1266.8728028298497, 1000.5091222188241, 897.6222574575347, 3692.6042956515203, 1989.4433883505874, 2073.07194425823, 1878.8121738651241, 1492.0269217923035, 1323.1685163092245, 3253.3957726713065, 2454.184880674293, 2344.499179620598, 1733.27400026579, 2091.4337205793017, 2245.981847919925, 1689.6550432955346, 1467.4015372565852, 5345.591987876063, 2122.9359569127096, 3470.8660727818187, 2180.669696168538, 3000.4949966496747, 3900.7228144781225, 1714.2574877802417, 3737.6188740728994, 2794.6878545097397, 2061.040150237829, 1871.799479367112, 1541.5925232020668, 2295.3515162057292, 863.0931646756045, 836.6420532879318, 819.8977408814915, 752.2536188183276, 677.6527146286893, 676.3492675356372, 615.2564827157554, 582.5374706856835, 564.229073799718, 536.141177430312, 526.574949335425, 515.5437895266389, 458.3187727366391, 417.98434860280776, 413.7778613373751, 403.77755109722494, 391.67360881374685, 373.2125180285052, 331.2193898682764, 314.2758748221312, 305.1848491349199, 289.90221769258596, 286.27100483577885, 283.445754120403, 267.581091173782, 264.61393343281856, 263.60014923055957, 261.9382674334663, 259.6699529223281, 3375.5442061790814, 825.2729856077641, 510.0056739210633, 740.0355019685903, 443.64589747400845, 703.2616486889112, 754.8139570262414, 759.2288765426591, 995.6025356309588, 404.36467182451304, 3569.7306104471263, 510.675571578712, 1078.394565114685, 2036.9606893235027, 898.5373052624516, 908.7183054927335, 1030.4606732596378, 880.6294662124916, 1887.2826692265783, 7674.06236540392, 1776.9950036705518, 1808.5653152570903, 896.2276108660278, 2170.126994312419, 888.2334928380985, 819.4213485040302, 817.7910817913422, 2659.870754255785, 1145.5730676033652, 851.4993727276384, 838.8547121244553, 1181.7011868965103, 1874.7214278513786, 907.2823435082746, 1167.6102804340464, 1431.6973689535985, 952.4959218565367, 1040.5280606506794, 1329.4373856211016, 991.9505381947394, 939.3418622174767, 1002.3520811222878, 924.5957537307818, 901.7473741758613, 6784.070109400289, 4622.50517276515, 4591.1601551763, 3696.3990876466282, 3352.422679139172, 2704.914223697275, 2626.399006232828, 2272.260639679704, 2166.468938132319, 1838.8596761010594, 1644.0802885667072, 1354.0293288590312, 1314.2392890314406, 946.9056300088486, 927.8986925508717, 879.7777605347677, 875.8858861499428, 856.8995284843683, 834.3990259942266, 790.3355205488378, 773.5867380240371, 766.4066002700824, 758.5858876294802, 714.753096496648, 713.3479327912643, 662.4121995991162, 645.1407365749195, 640.7526336010072, 590.9035500679138, 582.6163801558333, 2732.0839231223094, 927.8320521256503, 1165.706832918826, 2368.114792422877, 1196.808201738263, 1406.9307117542708, 960.8533601355672, 2082.95004833847, 5710.18649710094, 7590.376993252718, 6206.348436527936, 992.373281284277, 1837.5220527479555, 3807.9469725943773, 1016.1690936011365, 1323.2276935188052, 1442.1148010052589, 2592.2196134187607, 1053.3046698732096, 1590.4175680978003, 1486.3024950678514, 1399.2477428437383, 3237.180632590502, 1819.1967627489466, 1129.102128800896, 1080.674988705243, 1090.720609120345, 654.8067440045367, 611.9100564042252, 567.1949947964162, 531.2439218283886, 456.47375632080383, 420.17923936764237, 418.9270545084927, 417.7912560143503, 319.3275683783734, 316.9413538568539, 314.53593089327757, 306.72037747215103, 306.50900215303056, 295.7985906448027, 265.75249101764035, 260.50692069848475, 258.8223747571876, 248.7748438283718, 246.94636152953058, 270.9069094820711, 239.9637767428695, 233.26412621163934, 225.49691283403496, 220.7621722737464, 219.67603270074332, 371.18265642638227, 1771.0612143875214, 1231.3414221669032, 1233.6152305308512, 919.9292862860713, 762.0888907827807, 705.631051301025, 896.1731318192868, 1292.2106389772152, 3159.2663022180272, 750.8975057754286, 722.3711539275644, 725.529954036944, 633.9028524074306, 657.0835392966555, 644.3451866673207, 1587.097466482024, 1817.9710762893974, 2232.0349866585157, 1390.8713446910917, 4218.098456998335, 1572.5979293334278, 2388.58320755685, 851.7332933200216, 3228.960133127938, 1056.932475152128, 1054.099474469343, 876.534850164172, 1313.8901718881948, 1812.0622376600313, 3395.2274627483616, 1143.7798498151715, 1914.3266159670225, 1349.096139439128, 1853.5148930749988, 2133.005726595988, 1440.5149766167838, 1525.754099452839, 1325.6865264116843, 1137.343295022411, 1085.6199685080244, 1231.1884420710496, 613.4167200355643, 558.0674004015152, 413.8202085770811, 412.5486684418383, 370.2091523262527, 352.41125506395593, 319.39512230100405, 303.90267070881936, 269.17260905122237, 250.0869735920817, 243.98790546703702, 242.82082158869204, 234.1825055386798, 232.12324736983948, 229.40794950541766, 225.19621868849637, 213.30746236018823, 210.09471880297312, 207.50747025349042, 205.1186551724834, 204.58260177455185, 204.04801503646675, 201.45056690070635, 198.20929816274753, 198.03054204675925, 197.6658700465938, 197.54064021660716, 182.58722176317107, 181.8361801594979, 3319.2786987719624, 5790.055445169808, 3247.726302214462, 373.39899814940003, 1019.8939310831984, 338.732919843908, 640.7201643026114, 629.9214998469574, 757.3759813219289, 704.293012979105, 431.9938245914865, 299.38767447736586, 312.3064253178446, 1110.551109963027, 900.7098845998275, 436.6169867377795, 439.93039533453197, 399.29713304829835, 1235.420347559175, 1065.423822770027, 1505.7417003129547, 982.7244841467876, 728.1995997876601, 503.54130037259836, 2256.2621632429073, 1885.2017879749994, 985.8532218970219, 1152.9605982963474, 945.4207416754895, 575.8421204341591, 1492.108395660289, 777.0891237138337, 1759.6124393663183, 815.3820851132, 1181.0796877815174, 1050.718100415057, 2103.0360624372274, 2145.7944382721757, 1362.376034892626, 1751.3653056232931, 1178.0742779670286, 1818.7847466704818, 1090.8307327087782, 1643.7307613350165, 935.1247540204942, 1015.8863387504962, 1033.533791303768, 991.9031678368704, 1594.4869955430418, 1057.2233964233715, 1008.6449707553113, 802.8180950987843, 767.7481882786474, 702.76919704856, 662.4941958266495, 643.5574597376901, 624.6584673232537, 605.9622297865859, 600.5492412481431, 579.0568097916386, 565.8882416233016, 563.9958355027892, 549.280207865325, 547.4397809871903, 533.3163749129892, 517.5088790679464, 510.5231968619389, 497.4078562272622, 488.31486918670083, 485.5148748598613, 454.56081211583125, 450.6620816032445, 429.2740391300071, 426.3940871467749, 424.1506871950626, 423.00044311401604, 411.78288375362393, 408.9790037994158, 1116.8859481491036, 696.320129528966, 1291.7018472985362, 477.79503442965006, 463.22449680520367, 734.7869961822014, 810.3085414635975, 1071.686699572163, 512.5771915596633, 523.6070500928466, 517.4813486828442, 6568.041083056024, 4703.8843753797055, 2201.609720337229, 1210.2100893877412, 1075.2863330429543, 909.7986604603775, 808.4493996517058, 778.840465399691, 750.0460108244694, 724.2856601728165, 710.9480722710426, 637.8269370466136, 605.2875396340603, 562.3987696516455, 542.8214928620318, 542.638381908413, 533.9381745990067, 513.2729114861402, 512.9077958569422, 496.27179840426646, 487.9553126575004, 479.1910313319429, 460.5995864336831, 420.4235529142907, 398.76491372724803, 374.43085779413485, 309.3407005515952, 298.89769766397086, 296.00044080509326, 261.3989487935999, 1488.865623300857, 1611.6746171207337, 1388.7956077574004, 3181.3805210180485, 2277.6193426890186, 873.2815976642634, 5577.879939426653, 1497.0319510513286, 5578.444824488069, 1204.356106483589, 1683.7438420909423, 1135.1466056305878, 1065.4713602522233, 865.9584750741822, 799.8344145389291, 1438.534886300615, 1145.6814460404835, 1225.7469770201337, 877.1966846433129, 905.9735049127536, 1326.2694873641776, 944.9318502073503, 803.1397370598078]}, \"plot.opts\": {\"ylab\": \"PC2\", \"xlab\": \"PC1\"}, \"mdsDat\": {\"cluster\": [1, 1, 1, 1, 1, 1, 1, 1, 1, 1], \"y\": [-0.09473128596852078, 0.07907049427046679, -0.1505606831049229, -0.09152246658808819, 0.3446063077218681, -0.10698154863393028, 0.1877088899849009, -0.09773374125685956, 0.026725642214549414, -0.0965816086394645], \"topics\": [1, 2, 3, 4, 5, 6, 7, 8, 9, 10], \"x\": [0.19503069166501685, 0.13263892233212704, 0.19643938668228103, -0.37642399414241756, -0.05692639626466827, -0.3735019495521504, 0.046733563284048096, 0.14678505768180053, -0.024630574844924962, 0.11385529315888757], \"Freq\": [27.385698621244014, 15.316282424871778, 15.008065646072815, 9.491082361951703, 6.60813641067893, 6.416768596144237, 5.56904841361765, 5.352226278463627, 4.446298738230263, 4.406392508724989]}};\n",
       "\n",
       "function LDAvis_load_lib(url, callback){\n",
       "  var s = document.createElement('script');\n",
       "  s.src = url;\n",
       "  s.async = true;\n",
       "  s.onreadystatechange = s.onload = callback;\n",
       "  s.onerror = function(){console.warn(\"failed to load library \" + url);};\n",
       "  document.getElementsByTagName(\"head\")[0].appendChild(s);\n",
       "}\n",
       "\n",
       "if(typeof(LDAvis) !== \"undefined\"){\n",
       "   // already loaded: just create the visualization\n",
       "   !function(LDAvis){\n",
       "       new LDAvis(\"#\" + \"ldavis_el1337351406644436889044167050134\", ldavis_el1337351406644436889044167050134_data);\n",
       "   }(LDAvis);\n",
       "}else if(typeof define === \"function\" && define.amd){\n",
       "   // require.js is available: use it to load d3/LDAvis\n",
       "   require.config({paths: {d3: \"https://cdnjs.cloudflare.com/ajax/libs/d3/3.5.5/d3.min\"}});\n",
       "   require([\"d3\"], function(d3){\n",
       "      window.d3 = d3;\n",
       "      LDAvis_load_lib(\"https://cdn.rawgit.com/bmabey/pyLDAvis/files/ldavis.v1.0.0.js\", function(){\n",
       "        new LDAvis(\"#\" + \"ldavis_el1337351406644436889044167050134\", ldavis_el1337351406644436889044167050134_data);\n",
       "      });\n",
       "    });\n",
       "}else{\n",
       "    // require.js not available: dynamically load d3 & LDAvis\n",
       "    LDAvis_load_lib(\"https://cdnjs.cloudflare.com/ajax/libs/d3/3.5.5/d3.min.js\", function(){\n",
       "         LDAvis_load_lib(\"https://cdn.rawgit.com/bmabey/pyLDAvis/files/ldavis.v1.0.0.js\", function(){\n",
       "                 new LDAvis(\"#\" + \"ldavis_el1337351406644436889044167050134\", ldavis_el1337351406644436889044167050134_data);\n",
       "            })\n",
       "         });\n",
       "}\n",
       "</script>"
      ],
      "text/plain": [
       "PreparedData(topic_coordinates=            Freq  cluster  topics         x         y\n",
       "topic                                                \n",
       "4      27.385699        1       1  0.195031 -0.094731\n",
       "8      15.316282        1       2  0.132639  0.079070\n",
       "2      15.008066        1       3  0.196439 -0.150561\n",
       "1       9.491082        1       4 -0.376424 -0.091522\n",
       "7       6.608136        1       5 -0.056926  0.344606\n",
       "5       6.416769        1       6 -0.373502 -0.106982\n",
       "9       5.569048        1       7  0.046734  0.187709\n",
       "3       5.352226        1       8  0.146785 -0.097734\n",
       "6       4.446299        1       9 -0.024631  0.026726\n",
       "0       4.406393        1      10  0.113855 -0.096582, topic_info=      Category          Freq             Term         Total  loglift  logprob\n",
       "term                                                                         \n",
       "72494  Default  21142.000000         ministro  21142.000000  30.0000  30.0000\n",
       "92799  Default  19834.000000           senhor  19834.000000  29.0000  29.0000\n",
       "97288  Default  13021.000000       excelência  13021.000000  28.0000  28.0000\n",
       "38087  Default  21488.000000       presidente  21488.000000  27.0000  27.0000\n",
       "31724  Default  11328.000000           united  11328.000000  26.0000  26.0000\n",
       "76038  Default  13063.000000        telegrama  13063.000000  25.0000  25.0000\n",
       "30498  Default  12420.000000       embaixador  12420.000000  24.0000  24.0000\n",
       "10291  Default  10736.000000              rio  10736.000000  23.0000  23.0000\n",
       "99373  Default   6568.000000           itaipu   6568.000000  22.0000  22.0000\n",
       "40434  Default  16790.000000       exteriores  16790.000000  21.0000  21.0000\n",
       "55261  Default   9112.000000        argentina   9112.000000  20.0000  20.0000\n",
       "4923   Default  50382.000000           brasil  50382.000000  19.0000  19.0000\n",
       "96034  Default   6784.000000        committee   6784.000000  18.0000  18.0000\n",
       "9205   Default  24109.000000         relações  24109.000000  17.0000  17.0000\n",
       "39001  Default   8442.000000        chanceler   8442.000000  16.0000  16.0000\n",
       "19115  Default   7772.000000          nations   7772.000000  15.0000  15.0000\n",
       "72108  Default   6290.000000           artigo   6290.000000  14.0000  14.0000\n",
       "50410  Default   9246.000000          general   9246.000000  13.0000  13.0000\n",
       "70384  Default  11522.000000  desenvolvimento  11522.000000  12.0000  12.0000\n",
       "76767  Default  12534.000000        república  12534.000000  11.0000  11.0000\n",
       "35732  Default   4704.000000           corpus   4704.000000  10.0000  10.0000\n",
       "78399  Default   7938.000000           states   7938.000000   9.0000   9.0000\n",
       "18872  Default  10434.000000       cooperação  10434.000000   8.0000   8.0000\n",
       "71672  Default   7863.000000    international   7863.000000   7.0000   7.0000\n",
       "32478  Default   9082.000000           visita   9082.000000   6.0000   6.0000\n",
       "4959   Default  13352.000000         política  13352.000000   5.0000   5.0000\n",
       "59914  Default   7153.000000         recebido   7153.000000   4.0000   4.0000\n",
       "56036  Default   4623.000000       resolution   4623.000000   3.0000   3.0000\n",
       "64115  Default   4592.000000         assembly   4592.000000   2.0000   2.0000\n",
       "12430  Default  23782.000000          governo  23782.000000   1.0000   1.0000\n",
       "...        ...           ...              ...           ...      ...      ...\n",
       "28613  Topic10    420.423553            ponta    421.309378   3.1200  -6.5320\n",
       "37667  Topic10    398.764914            salto    399.650663   3.1199  -6.5849\n",
       "65954  Topic10    374.430858           caudal    375.316557   3.1198  -6.6478\n",
       "41216  Topic10    309.340701           acaray    310.226388   3.1193  -6.8388\n",
       "1911   Topic10    298.897698             ande    299.783466   3.1192  -6.8732\n",
       "23018  Topic10    296.000441         descarga    296.886137   3.1191  -6.8829\n",
       "23346  Topic10    261.398949           perdas    262.284762   3.1187  -7.0072\n",
       "3084   Topic10   1488.865623            bacia   1542.806541   3.0865  -5.2675\n",
       "88166  Topic10   1611.674617            prata   1720.654381   3.0567  -5.1882\n",
       "30831  Topic10   1388.795608        navegação   1516.505833   3.0341  -5.3371\n",
       "41571  Topic10   3181.380521         paraguai   3705.431950   2.9696  -4.5082\n",
       "27207  Topic10   2277.619343        argentino   2631.542480   2.9777  -4.8424\n",
       "28286  Topic10    873.281598           trecho    971.937318   3.0151  -5.8010\n",
       "55261  Topic10   5577.879939        argentina   9112.566366   2.6313  -3.9467\n",
       "40411  Topic10   1497.031951         assunção   1998.598718   2.8332  -5.2620\n",
       "10291  Topic10   5578.444824              rio  10736.785578   2.4673  -3.9466\n",
       "20571  Topic10   1204.356106            obras   1589.263481   2.8448  -5.4796\n",
       "57062  Topic10   1683.743842         operação   2476.506601   2.7363  -5.1445\n",
       "18047  Topic10   1135.146606   aproveitamento   1598.599863   2.7797  -5.5387\n",
       "20081  Topic10   1065.471360             rios   1498.156437   2.7813  -5.6021\n",
       "72345  Topic10    865.958475             obra   1188.757201   2.8053  -5.8094\n",
       "640    Topic10    799.834415         unidades   1085.603143   2.8166  -5.8889\n",
       "7518   Topic10   1438.534886          energia   5597.596133   1.7634  -5.3019\n",
       "49948  Topic10   1145.681446            total   3539.569583   1.9941  -5.5295\n",
       "41120  Topic10   1225.746977            nível   4534.658186   1.8139  -5.4619\n",
       "71142  Topic10    877.196685       construção   2220.292665   2.1935  -5.7965\n",
       "67407  Topic10    905.973505        documento   3457.377904   1.7829  -5.7642\n",
       "4923   Topic10   1326.269487           brasil  50382.644590  -0.5152  -5.3831\n",
       "62024  Topic10    944.931850          tratado   4980.545834   1.4599  -5.7221\n",
       "79784  Topic10    803.139737          reunião   8465.708608   0.7669  -5.8847\n",
       "\n",
       "[678 rows x 6 columns], token_table=       Topic      Freq            Term\n",
       "term                                  \n",
       "86493      2  0.998030           16:00\n",
       "77330      7  0.995086           aaaaa\n",
       "88968      2  0.999228          abraco\n",
       "6475       2  0.997978          abraço\n",
       "75859      1  0.998780      abstenções\n",
       "42085      2  0.033788              ac\n",
       "42085      4  0.002503              ac\n",
       "42085      5  0.949823              ac\n",
       "42085     10  0.012514              ac\n",
       "41216     10  0.996047          acaray\n",
       "55651      6  0.999118      accordance\n",
       "88245      1  0.998691  acontecimentos\n",
       "92956      1  0.157407          acordo\n",
       "92956      2  0.095857          acordo\n",
       "92956      3  0.494908          acordo\n",
       "92956      7  0.082432          acordo\n",
       "92956      8  0.129066          acordo\n",
       "92956     10  0.040274          acordo\n",
       "52205      9  0.999472         acuerdo\n",
       "73782      1  0.051094  administrativa\n",
       "73782      3  0.088433  administrativa\n",
       "73782      8  0.858778  administrativa\n",
       "89403      6  0.998314  administrative\n",
       "25877      3  0.036826  administrativo\n",
       "25877      8  0.960299  administrativo\n",
       "84882      1  0.356300   administração\n",
       "84882      2  0.026699   administração\n",
       "84882      3  0.133037   administração\n",
       "84882      8  0.483813   administração\n",
       "75583      6  0.999323         adopted\n",
       "...      ...       ...             ...\n",
       "32478      7  0.145996          visita\n",
       "45629      1  0.095270           visto\n",
       "45629      2  0.020821           visto\n",
       "45629      5  0.004416           visto\n",
       "45629      7  0.249216           visto\n",
       "45629      8  0.622093           visto\n",
       "45629      9  0.008202           visto\n",
       "9015       1  0.095268          vistos\n",
       "9015       3  0.048606          vistos\n",
       "9015       8  0.855471          vistos\n",
       "35453      1  0.998778        vizinhos\n",
       "51563      1  0.998671         vontade\n",
       "82643      1  0.998750         votação\n",
       "13948      8  0.997196          válido\n",
       "55765      4  0.999006         western\n",
       "86127      4  0.961341           world\n",
       "86127      6  0.038527           world\n",
       "60473      4  0.987971           years\n",
       "60473      6  0.011697           years\n",
       "72159      1  0.934523          áfrica\n",
       "72159      2  0.043126          áfrica\n",
       "72159      3  0.022126          áfrica\n",
       "7314      10  0.999095           águas\n",
       "97475      9  0.997556            être\n",
       "96760      1  0.305517           órgão\n",
       "96760      3  0.035510           órgão\n",
       "96760      8  0.658604           órgão\n",
       "40970      1  0.142832          órgãos\n",
       "40970      3  0.287147          órgãos\n",
       "40970      8  0.569846          órgãos\n",
       "\n",
       "[1380 rows x 3 columns], R=30, lambda_step=0.01, plot_opts={'ylab': 'PC2', 'xlab': 'PC1'}, topic_order=[5, 9, 3, 2, 8, 6, 10, 4, 7, 1])"
      ]
     },
     "execution_count": 15,
     "metadata": {},
     "output_type": "execute_result"
    }
   ],
   "source": [
    "# https://cran.r-project.org/web/packages/LDAvis/vignettes/details.pdf\n",
    "pyLDAvis.enable_notebook()\n",
    "pyLDAvis.gensim.prepare(lda, corpus, dictionary)"
   ]
  },
  {
   "cell_type": "code",
   "execution_count": 16,
   "metadata": {
    "collapsed": false
   },
   "outputs": [],
   "source": [
    "data_ldavis = pyLDAvis.gensim.prepare(lda, corpus, dictionary)\n",
    "pyLDAvis.save_html(data_ldavis, os.path.join(outputs,'pyldavis_output.html'))"
   ]
  }
 ],
 "metadata": {
  "anaconda-cloud": {},
  "kernelspec": {
   "display_name": "Python 3",
   "language": "python",
   "name": "python3"
  },
  "language_info": {
   "codemirror_mode": {
    "name": "ipython",
    "version": 3
   },
   "file_extension": ".py",
   "mimetype": "text/x-python",
   "name": "python",
   "nbconvert_exporter": "python",
   "pygments_lexer": "ipython3",
   "version": "3.5.1+"
  }
 },
 "nbformat": 4,
 "nbformat_minor": 0
}
