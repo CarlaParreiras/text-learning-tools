{
 "cells": [
  {
   "cell_type": "markdown",
   "metadata": {},
   "source": [
    "Mestrado em Modelagem Matematica da Informacao\n",
    "----------------------------------------------\n",
    "Disciplina: Modelagem e Mineracao de Dados\n",
    "------------------------------------------\n",
    "\n",
    "Master Program - Mathematical Modeling of Information\n",
    "-----------------------------------------------------\n",
    "Course: Data Mining and Modeling\n",
    "--------------------------------\n",
    "\n",
    "Professor: Renato Rocha Souza\n",
    "-----------------------------"
   ]
  },
  {
   "cell_type": "markdown",
   "metadata": {},
   "source": [
    "### Topic: Clustering documents"
   ]
  },
  {
   "cell_type": "markdown",
   "metadata": {},
   "source": [
    "This notebook is based on http://www.brandonrose.org and http://www.brandonrose.org/top100  "
   ]
  },
  {
   "cell_type": "markdown",
   "metadata": {},
   "source": [
    "In this guide, I will explain how to cluster a set of documents using Python. My motivating example is to identify the latent structures within the synopses of the top 100 films of all time (per an IMDB list). \n",
    "\n",
    "This notebook covers:\n",
    "\n",
    "<ul>\n",
    "<li> tokenizing and stemming each synopsis\n",
    "<li> transforming the corpus into vector space using [tf-idf](http://en.wikipedia.org/wiki/Tf%E2%80%93idf)\n",
    "<li> calculating cosine distance between each document as a measure of similarity\n",
    "<li> clustering the documents using the [k-means algorithm](http://en.wikipedia.org/wiki/K-means_clustering)\n",
    "<li> using [multidimensional scaling](http://en.wikipedia.org/wiki/Multidimensional_scaling) to reduce dimensionality within the corpus\n",
    "<li> plotting the clustering output using [matplotlib](http://matplotlib.org/) and [mpld3](http://mpld3.github.io/)\n",
    "<li> conducting a hierarchical clustering on the corpus using [Ward clustering](http://en.wikipedia.org/wiki/Ward%27s_method)\n",
    "<li> plotting a Ward dendrogram\n",
    "<li> topic modeling using [Latent Dirichlet Allocation (LDA)](http://en.wikipedia.org/wiki/Latent_Dirichlet_allocation)\n",
    "</ul>"
   ]
  },
  {
   "cell_type": "markdown",
   "metadata": {},
   "source": [
    "## Contents"
   ]
  },
  {
   "cell_type": "markdown",
   "metadata": {},
   "source": [
    "<ul>\n",
    "<li>[Stopwords, stemming, and tokenization](#Stopwords,-stemming,-and-tokenizing)\n",
    "<li>[Tf-idf and document similarity](#Tf-idf-and-document-similarity)\n",
    "<li>[K-means clustering](#K-means-clustering)\n",
    "<li>[Multidimensional scaling](#Multidimensional-scaling)\n",
    "<li>[Visualizing document clusters](#Visualizing-document-clusters)\n",
    "<li>[Hierarchical document clustering](#Hierarchical-document-clustering)\n",
    "<li>[Latent Dirichlet Allocation (LDA)](#Latent-Dirichlet-Allocation)\n",
    "</ul>"
   ]
  },
  {
   "cell_type": "markdown",
   "metadata": {},
   "source": [
    "But first, I import everything I am going to need up front"
   ]
  },
  {
   "cell_type": "code",
   "execution_count": 1,
   "metadata": {
    "collapsed": false
   },
   "outputs": [
    {
     "name": "stderr",
     "output_type": "stream",
     "text": [
      "/home/rsouza/python/3/venv/local/lib/python3.5/site-packages/funcy/decorators.py:56: DeprecationWarning: inspect.getargspec() is deprecated, use inspect.signature() instead\n",
      "  spec = inspect.getargspec(func)\n",
      "/home/rsouza/python/3/venv/local/lib/python3.5/site-packages/funcy/decorators.py:56: DeprecationWarning: inspect.getargspec() is deprecated, use inspect.signature() instead\n",
      "  spec = inspect.getargspec(func)\n",
      "/home/rsouza/python/3/venv/local/lib/python3.5/site-packages/funcy/decorators.py:56: DeprecationWarning: inspect.getargspec() is deprecated, use inspect.signature() instead\n",
      "  spec = inspect.getargspec(func)\n",
      "/home/rsouza/python/3/venv/local/lib/python3.5/site-packages/funcy/decorators.py:56: DeprecationWarning: inspect.getargspec() is deprecated, use inspect.signature() instead\n",
      "  spec = inspect.getargspec(func)\n",
      "/home/rsouza/python/3/venv/local/lib/python3.5/site-packages/funcy/decorators.py:56: DeprecationWarning: inspect.getargspec() is deprecated, use inspect.signature() instead\n",
      "  spec = inspect.getargspec(func)\n",
      "/home/rsouza/python/3/venv/local/lib/python3.5/site-packages/funcy/decorators.py:56: DeprecationWarning: inspect.getargspec() is deprecated, use inspect.signature() instead\n",
      "  spec = inspect.getargspec(func)\n",
      "/home/rsouza/python/3/venv/local/lib/python3.5/site-packages/ipykernel/pylab/config.py:66: DeprecationWarning: metadata {'config': True} was set from the constructor.  Metadata should be set using the .tag() method, e.g., Int().tag(key1='value1', key2='value2')\n",
      "  inline backend.\"\"\"\n",
      "/home/rsouza/python/3/venv/local/lib/python3.5/site-packages/ipykernel/pylab/config.py:71: DeprecationWarning: metadata {'config': True} was set from the constructor.  Metadata should be set using the .tag() method, e.g., Int().tag(key1='value1', key2='value2')\n",
      "  'retina', 'jpeg', 'svg', 'pdf'.\"\"\")\n",
      "/home/rsouza/python/3/venv/local/lib/python3.5/site-packages/ipykernel/pylab/config.py:85: DeprecationWarning: metadata {'config': True} was set from the constructor.  Metadata should be set using the .tag() method, e.g., Int().tag(key1='value1', key2='value2')\n",
      "  use `figure_formats` instead)\"\"\")\n",
      "/home/rsouza/python/3/venv/local/lib/python3.5/site-packages/ipykernel/pylab/config.py:95: DeprecationWarning: metadata {'config': True} was set from the constructor.  Metadata should be set using the .tag() method, e.g., Int().tag(key1='value1', key2='value2')\n",
      "  \"\"\"\n",
      "/home/rsouza/python/3/venv/local/lib/python3.5/site-packages/ipykernel/pylab/config.py:114: DeprecationWarning: metadata {'config': True} was set from the constructor.  Metadata should be set using the .tag() method, e.g., Int().tag(key1='value1', key2='value2')\n",
      "  \"\"\")\n",
      "/home/rsouza/python/3/venv/local/lib/python3.5/site-packages/ipykernel/pylab/config.py:44: DeprecationWarning: InlineBackend._config_changed is deprecated: use @observe and @unobserve instead.\n",
      "  def _config_changed(self, name, old, new):\n",
      "/home/rsouza/python/3/venv/local/lib/python3.5/site-packages/traitlets/traitlets.py:770: DeprecationWarning: A parent of InlineBackend._config_changed has adopted the new @observe(change) API\n",
      "  clsname, change_or_name), DeprecationWarning)\n",
      "/home/rsouza/python/3/venv/local/lib/python3.5/site-packages/IPython/core/formatters.py:98: DeprecationWarning: DisplayFormatter._formatters_default is deprecated: use @default decorator instead.\n",
      "  def _formatters_default(self):\n",
      "/home/rsouza/python/3/venv/local/lib/python3.5/site-packages/IPython/core/formatters.py:677: DeprecationWarning: PlainTextFormatter._deferred_printers_default is deprecated: use @default decorator instead.\n",
      "  def _deferred_printers_default(self):\n",
      "/home/rsouza/python/3/venv/local/lib/python3.5/site-packages/IPython/core/formatters.py:669: DeprecationWarning: PlainTextFormatter._singleton_printers_default is deprecated: use @default decorator instead.\n",
      "  def _singleton_printers_default(self):\n",
      "/home/rsouza/python/3/venv/local/lib/python3.5/site-packages/IPython/core/formatters.py:672: DeprecationWarning: PlainTextFormatter._type_printers_default is deprecated: use @default decorator instead.\n",
      "  def _type_printers_default(self):\n",
      "/home/rsouza/python/3/venv/local/lib/python3.5/site-packages/IPython/core/formatters.py:672: DeprecationWarning: PlainTextFormatter._type_printers_default is deprecated: use @default decorator instead.\n",
      "  def _type_printers_default(self):\n",
      "/home/rsouza/python/3/venv/local/lib/python3.5/site-packages/IPython/core/formatters.py:677: DeprecationWarning: PlainTextFormatter._deferred_printers_default is deprecated: use @default decorator instead.\n",
      "  def _deferred_printers_default(self):\n"
     ]
    }
   ],
   "source": [
    "import numpy as np\n",
    "import pandas as pd\n",
    "import nltk\n",
    "from bs4 import BeautifulSoup\n",
    "import re\n",
    "import os\n",
    "import codecs\n",
    "import matplotlib.pyplot as plt\n",
    "import matplotlib as mpl\n",
    "from sklearn import feature_extraction\n",
    "import mpld3\n",
    "import pyLDAvis\n",
    "import pyLDAvis.gensim\n",
    "\n",
    "%matplotlib inline"
   ]
  },
  {
   "cell_type": "markdown",
   "metadata": {},
   "source": [
    "Specifying the path to the files  "
   ]
  },
  {
   "cell_type": "code",
   "execution_count": 2,
   "metadata": {
    "collapsed": true
   },
   "outputs": [],
   "source": [
    "datapath = \"../datasets/texts/doccluster/\"\n",
    "outputs = \"../outputs/\""
   ]
  },
  {
   "cell_type": "markdown",
   "metadata": {},
   "source": [
    "#### import three lists: titles, links and wikipedia synopses  "
   ]
  },
  {
   "cell_type": "code",
   "execution_count": 49,
   "metadata": {
    "collapsed": false
   },
   "outputs": [
    {
     "name": "stdout",
     "output_type": "stream",
     "text": [
      "100 titles\n",
      "['The Godfather', 'The Shawshank Redemption', \"Schindler's List\", 'Raging Bull', 'Casablanca']\n"
     ]
    }
   ],
   "source": [
    "titles = open(os.path.join(datapath, 'title_list.txt')).read().split('\\n')\n",
    "#ensures that only the first 100 are read in\n",
    "titles = titles[:100]\n",
    "print(str(len(titles)) + ' titles')\n",
    "\n",
    "print(titles[0:5])"
   ]
  },
  {
   "cell_type": "code",
   "execution_count": 4,
   "metadata": {
    "collapsed": false
   },
   "outputs": [
    {
     "name": "stdout",
     "output_type": "stream",
     "text": [
      "100 links\n",
      "['http://www.imdb.com/title/tt0068646/', 'http://www.imdb.com/title/tt0111161/', 'http://www.imdb.com/title/tt0108052/', 'http://www.imdb.com/title/tt0081398/', 'http://www.imdb.com/title/tt0034583/']\n"
     ]
    }
   ],
   "source": [
    "links = open(os.path.join(datapath, 'link_list_imdb.txt')).read().split('\\n')\n",
    "links = links[:100]\n",
    "print(str(len(links)) + ' links')\n",
    "\n",
    "print(links[0:5])"
   ]
  },
  {
   "cell_type": "code",
   "execution_count": 5,
   "metadata": {
    "collapsed": false
   },
   "outputs": [
    {
     "name": "stdout",
     "output_type": "stream",
     "text": [
      "100 synopses\n",
      " Plot  [edit]  [  [  edit  edit  ]  ]  \n",
      "  On the day of his only daughter's wedding, Vito Corleone hears requests in his role as the Godfather, the Don of a New York crime family. Vito's youngest son, Michael, in a Marine Corps uniform, introduces his girlfriend, Kay Adams, to his family at the spra\n"
     ]
    }
   ],
   "source": [
    "synopses_wiki = open(os.path.join(datapath, 'synopses_list_wiki.txt')).read().split('\\n BREAKS HERE')\n",
    "synopses_wiki = synopses_wiki[:100]\n",
    "\n",
    "synopses_clean_wiki = []\n",
    "for text in synopses_wiki:\n",
    "    text = BeautifulSoup(text, 'html.parser').getText()\n",
    "    #strips html formatting and converts to unicode\n",
    "    synopses_clean_wiki.append(text)\n",
    "synopses_wiki = synopses_clean_wiki\n",
    "\n",
    "print(str(len(synopses_wiki)) + ' synopses')\n",
    "\n",
    "print(synopses_wiki[0][0:300])"
   ]
  },
  {
   "cell_type": "code",
   "execution_count": 6,
   "metadata": {
    "collapsed": false
   },
   "outputs": [
    {
     "name": "stdout",
     "output_type": "stream",
     "text": [
      "100 genres\n",
      "[\"[u' Crime', u' Drama']\", \"[u' Crime', u' Drama']\", \"[u' Biography', u' Drama', u' History']\", \"[u' Biography', u' Drama', u' Sport']\", \"[u' Drama', u' Romance', u' War']\"]\n"
     ]
    }
   ],
   "source": [
    "genres = open(os.path.join(datapath,'genres_list.txt')).read().split('\\n')\n",
    "genres = genres[:100]\n",
    "print(str(len(genres)) + ' genres')\n",
    "\n",
    "print(genres[0:5])"
   ]
  },
  {
   "cell_type": "code",
   "execution_count": 7,
   "metadata": {
    "collapsed": false
   },
   "outputs": [],
   "source": [
    "synopses_imdb = open(os.path.join(datapath,'synopses_list_imdb.txt')).read().split('\\n BREAKS HERE')\n",
    "synopses_imdb = synopses_imdb[:100]\n",
    "synopses_clean_imdb = []\n",
    "\n",
    "for text in synopses_imdb:\n",
    "    text = BeautifulSoup(text, 'html.parser').getText()\n",
    "    #strips html formatting and converts to unicode\n",
    "    synopses_clean_imdb.append(text)\n",
    "\n",
    "synopses_imdb = synopses_clean_imdb"
   ]
  },
  {
   "cell_type": "code",
   "execution_count": 8,
   "metadata": {
    "collapsed": false
   },
   "outputs": [],
   "source": [
    "synopses = []\n",
    "for i in range(len(synopses_wiki)):\n",
    "    item = synopses_wiki[i] + synopses_imdb[i]\n",
    "    synopses.append(item)"
   ]
  },
  {
   "cell_type": "code",
   "execution_count": 9,
   "metadata": {
    "collapsed": false
   },
   "outputs": [],
   "source": [
    "# generates index for each item in the corpora (in this case it's just rank) and I'll use this for scoring later\n",
    "ranks = []\n",
    "\n",
    "for i in range(0,len(titles)):\n",
    "    ranks.append(i)"
   ]
  },
  {
   "cell_type": "markdown",
   "metadata": {},
   "source": [
    "### Stopwords, stemming, and tokenizing"
   ]
  },
  {
   "cell_type": "markdown",
   "metadata": {},
   "source": [
    "This section is focused on defining some functions to manipulate the synopses. First, I load [NLTK's](http://www.nltk.org/) list of English stop words. [Stop words](http://en.wikipedia.org/wiki/Stop_words) are words like \"a\", \"the\", or \"in\" which don't convey significant meaning. I'm sure there are much better explanations of this out there."
   ]
  },
  {
   "cell_type": "code",
   "execution_count": 10,
   "metadata": {
    "collapsed": false
   },
   "outputs": [],
   "source": [
    "# load nltk's English stopwords as variable called 'stopwords'\n",
    "stopwords = nltk.corpus.stopwords.words('english')"
   ]
  },
  {
   "cell_type": "markdown",
   "metadata": {},
   "source": [
    "Next I import the [Snowball Stemmer](http://snowball.tartarus.org/) which is actually part of NLTK. [Stemming](http://en.wikipedia.org/wiki/Stemming) is just the process of breaking a word down into its root."
   ]
  },
  {
   "cell_type": "code",
   "execution_count": 11,
   "metadata": {
    "collapsed": false
   },
   "outputs": [],
   "source": [
    "# load nltk's SnowballStemmer as variabled 'stemmer'\n",
    "from nltk.stem.snowball import SnowballStemmer\n",
    "stemmer = SnowballStemmer(\"english\")"
   ]
  },
  {
   "cell_type": "markdown",
   "metadata": {},
   "source": [
    "\n",
    "Below I define two functions:\n",
    "\n",
    "<ul>\n",
    "<li> *tokenize_and_stem*: tokenizes (splits the synopsis into a list of its respective words (or tokens) and also stems each token <li> *tokenize_only*: tokenizes the synopsis only\n",
    "</ul>\n",
    "\n",
    "I use both these functions to create a dictionary which becomes important in case I want to use stems for an algorithm, but later convert stems back to their full words for presentation purposes. Guess what, I do want to do that!\n",
    "\n"
   ]
  },
  {
   "cell_type": "code",
   "execution_count": 12,
   "metadata": {
    "collapsed": false
   },
   "outputs": [],
   "source": [
    "# here I define a tokenizer and stemmer which returns the set of stems in the text that it is passed\n",
    "\n",
    "def tokenize_and_stem(text):\n",
    "    # first tokenize by sentence, then by word to ensure that punctuation is caught as it's own token\n",
    "    tokens = [word for sent in nltk.sent_tokenize(text) for word in nltk.word_tokenize(sent)]\n",
    "    filtered_tokens = []\n",
    "    # filter out any tokens not containing letters (e.g., numeric tokens, raw punctuation)\n",
    "    for token in tokens:\n",
    "        if re.search('[a-zA-Z]', token):\n",
    "            filtered_tokens.append(token)\n",
    "    stems = [stemmer.stem(t) for t in filtered_tokens]\n",
    "    return stems\n",
    "\n",
    "\n",
    "def tokenize_only(text):\n",
    "    # first tokenize by sentence, then by word to ensure that punctuation is caught as it's own token\n",
    "    tokens = [word.lower() for sent in nltk.sent_tokenize(text) for word in nltk.word_tokenize(sent)]\n",
    "    filtered_tokens = []\n",
    "    # filter out any tokens not containing letters (e.g., numeric tokens, raw punctuation)\n",
    "    for token in tokens:\n",
    "        if re.search('[a-zA-Z]', token):\n",
    "            filtered_tokens.append(token)\n",
    "    return filtered_tokens"
   ]
  },
  {
   "cell_type": "markdown",
   "metadata": {},
   "source": [
    "Below I use my stemming/tokenizing and tokenizing functions to iterate over the list of synopses to create two vocabularies: one stemmed and one only tokenized. "
   ]
  },
  {
   "cell_type": "code",
   "execution_count": 13,
   "metadata": {
    "collapsed": false
   },
   "outputs": [],
   "source": [
    "totalvocab_stemmed = []\n",
    "totalvocab_tokenized = []\n",
    "for i in synopses:\n",
    "    allwords_stemmed = tokenize_and_stem(i)\n",
    "    totalvocab_stemmed.extend(allwords_stemmed)\n",
    "    \n",
    "    allwords_tokenized = tokenize_only(i)\n",
    "    totalvocab_tokenized.extend(allwords_tokenized)"
   ]
  },
  {
   "cell_type": "markdown",
   "metadata": {},
   "source": [
    "Using these two lists, I create a pandas DataFrame with the stemmed vocabulary as the index and the tokenized words as the column. The benefit of this is it provides an efficient way to look up a stem and return a full token. The downside here is that stems to tokens are one to many: the stem 'run' could be associated with 'ran', 'runs', 'running', etc. For my purposes this is fine--I'm perfectly happy returning the first token associated with the stem I need to look up."
   ]
  },
  {
   "cell_type": "code",
   "execution_count": 14,
   "metadata": {
    "collapsed": false
   },
   "outputs": [],
   "source": [
    "vocab_frame = pd.DataFrame({'words': totalvocab_tokenized}, index = totalvocab_stemmed)"
   ]
  },
  {
   "cell_type": "markdown",
   "metadata": {},
   "source": [
    "### Tf-idf and document similarity"
   ]
  },
  {
   "cell_type": "markdown",
   "metadata": {},
   "source": [
    "<img src='http://www.jiem.org/index.php/jiem/article/viewFile/293/252/2402' align='right' style=\"margin-left:10px\">\n",
    "\n",
    "Here, I define term frequency-inverse document frequency (tf-idf) vectorizer parameters and then convert the *synopses* list into a tf-idf matrix. \n",
    "\n",
    "To get a Tf-idf matrix, first count word occurrences by document. This is transformed into a document-term matrix (dtm). This is also just called a term frequency matrix. An example of a dtm is here at right.\n",
    "\n",
    "Then apply the term frequency-inverse document frequency weighting: words that occur frequently within a document but not frequently within the corpus receive a higher weighting as these words are assumed to contain more meaning in relation to the document.\n",
    "\n",
    "A couple things to note about the parameters I define below:\n",
    "\n",
    "<ul>\n",
    "<li> max_df: this is the maximum frequency within the documents a given feature can have to be used in the tfi-idf matrix. If the term is in greater than 80% of the documents it probably cares little meanining (in the context of film synopses)\n",
    "<li> min_idf: this could be an integer (e.g. 5) and the term would have to be in at least 5 of the documents to be considered. Here I pass 0.2; the term must be in at least 20% of the document. I found that if I allowed a lower min_df I ended up basing clustering on names--for example \"Michael\" or \"Tom\" are names found in several of the movies and the synopses use these names frequently, but the names carry no real meaning.\n",
    "<li> ngram_range: this just means I'll look at unigrams, bigrams and trigrams. See [n-grams](http://en.wikipedia.org/wiki/N-gram)\n",
    "</ul>"
   ]
  },
  {
   "cell_type": "code",
   "execution_count": 15,
   "metadata": {
    "collapsed": false
   },
   "outputs": [
    {
     "name": "stdout",
     "output_type": "stream",
     "text": [
      "CPU times: user 10 s, sys: 64 ms, total: 10.1 s\n",
      "Wall time: 10.1 s\n",
      "(100, 563)\n"
     ]
    }
   ],
   "source": [
    "from sklearn.feature_extraction.text import TfidfVectorizer\n",
    "\n",
    "tfidf_vectorizer = TfidfVectorizer(max_df=0.8, \n",
    "                                   max_features=200000,\n",
    "                                   min_df=0.2, \n",
    "                                   stop_words='english',\n",
    "                                   use_idf=True, \n",
    "                                   tokenizer=tokenize_and_stem, \n",
    "                                   ngram_range=(1,3))\n",
    "\n",
    "%time tfidf_matrix = tfidf_vectorizer.fit_transform(synopses)\n",
    "\n",
    "print(tfidf_matrix.shape)"
   ]
  },
  {
   "cell_type": "code",
   "execution_count": 16,
   "metadata": {
    "collapsed": false
   },
   "outputs": [],
   "source": [
    "terms = tfidf_vectorizer.get_feature_names()"
   ]
  },
  {
   "cell_type": "code",
   "execution_count": 17,
   "metadata": {
    "collapsed": false
   },
   "outputs": [],
   "source": [
    "from sklearn.metrics.pairwise import cosine_similarity\n",
    "dist = 1 - cosine_similarity(tfidf_matrix)"
   ]
  },
  {
   "cell_type": "markdown",
   "metadata": {},
   "source": [
    "### K-means clustering"
   ]
  },
  {
   "cell_type": "markdown",
   "metadata": {},
   "source": [
    "Now onto the fun part. Using the tf-idf matrix, you can run a slew of clustering algorithms to better understand the hidden structure within the synopses. I first chose [k-means](http://en.wikipedia.org/wiki/K-means_clustering). K-means initializes with a pre-determined number of clusters (I chose 5). Each observation is assigned to a cluster (cluster assignment) so as to minimize the within cluster sum of squares. Next, the mean of the clustered observations is calculated and used as the new cluster centroid. Then, observations are reassigned to clusters and  centroids recalculated in an iterative process until the algorithm reaches convergence.\n",
    "\n",
    "I found it took several runs for the algorithm to converge a global optimum as k-means is susceptible to reaching local optima. "
   ]
  },
  {
   "cell_type": "code",
   "execution_count": 18,
   "metadata": {
    "collapsed": false
   },
   "outputs": [
    {
     "name": "stdout",
     "output_type": "stream",
     "text": [
      "CPU times: user 84 ms, sys: 0 ns, total: 84 ms\n",
      "Wall time: 85.6 ms\n"
     ]
    }
   ],
   "source": [
    "from sklearn.cluster import KMeans\n",
    "\n",
    "num_clusters = 5\n",
    "\n",
    "km = KMeans(n_clusters=num_clusters)\n",
    "\n",
    "%time km.fit(tfidf_matrix)\n",
    "\n",
    "clusters = km.labels_.tolist()"
   ]
  },
  {
   "cell_type": "code",
   "execution_count": 19,
   "metadata": {
    "collapsed": false
   },
   "outputs": [],
   "source": [
    "from sklearn.externals import joblib\n",
    "\n",
    "joblib.dump(km, os.path.join(outputs, 'doc_cluster.pkl'))\n",
    "km = joblib.load(os.path.join(outputs, 'doc_cluster.pkl'))\n",
    "clusters = km.labels_.tolist()"
   ]
  },
  {
   "cell_type": "code",
   "execution_count": 20,
   "metadata": {
    "collapsed": false
   },
   "outputs": [],
   "source": [
    "films = {'title': titles, 'rank': ranks, 'synopsis': synopses, 'cluster': clusters, 'genre': genres}\n",
    "frame = pd.DataFrame(films, index = [clusters] , columns = ['rank', 'title', 'cluster', 'genre'])"
   ]
  },
  {
   "cell_type": "code",
   "execution_count": 21,
   "metadata": {
    "collapsed": false
   },
   "outputs": [
    {
     "name": "stderr",
     "output_type": "stream",
     "text": [
      "/home/rsouza/python/3/venv/local/lib/python3.5/site-packages/IPython/core/formatters.py:92: DeprecationWarning: DisplayFormatter._ipython_display_formatter_default is deprecated: use @default decorator instead.\n",
      "  def _ipython_display_formatter_default(self):\n",
      "/home/rsouza/python/3/venv/local/lib/python3.5/site-packages/IPython/core/formatters.py:669: DeprecationWarning: PlainTextFormatter._singleton_printers_default is deprecated: use @default decorator instead.\n",
      "  def _singleton_printers_default(self):\n"
     ]
    },
    {
     "data": {
      "text/html": [
       "<div>\n",
       "<table border=\"1\" class=\"dataframe\">\n",
       "  <thead>\n",
       "    <tr style=\"text-align: right;\">\n",
       "      <th></th>\n",
       "      <th>rank</th>\n",
       "      <th>title</th>\n",
       "      <th>cluster</th>\n",
       "      <th>genre</th>\n",
       "    </tr>\n",
       "  </thead>\n",
       "  <tbody>\n",
       "    <tr>\n",
       "      <th>0</th>\n",
       "      <td>0</td>\n",
       "      <td>The Godfather</td>\n",
       "      <td>0</td>\n",
       "      <td>[u' Crime', u' Drama']</td>\n",
       "    </tr>\n",
       "    <tr>\n",
       "      <th>0</th>\n",
       "      <td>1</td>\n",
       "      <td>The Shawshank Redemption</td>\n",
       "      <td>0</td>\n",
       "      <td>[u' Crime', u' Drama']</td>\n",
       "    </tr>\n",
       "    <tr>\n",
       "      <th>0</th>\n",
       "      <td>2</td>\n",
       "      <td>Schindler's List</td>\n",
       "      <td>0</td>\n",
       "      <td>[u' Biography', u' Drama', u' History']</td>\n",
       "    </tr>\n",
       "    <tr>\n",
       "      <th>3</th>\n",
       "      <td>3</td>\n",
       "      <td>Raging Bull</td>\n",
       "      <td>3</td>\n",
       "      <td>[u' Biography', u' Drama', u' Sport']</td>\n",
       "    </tr>\n",
       "    <tr>\n",
       "      <th>0</th>\n",
       "      <td>4</td>\n",
       "      <td>Casablanca</td>\n",
       "      <td>0</td>\n",
       "      <td>[u' Drama', u' Romance', u' War']</td>\n",
       "    </tr>\n",
       "  </tbody>\n",
       "</table>\n",
       "</div>"
      ],
      "text/plain": [
       "   rank                     title  cluster  \\\n",
       "0     0             The Godfather        0   \n",
       "0     1  The Shawshank Redemption        0   \n",
       "0     2          Schindler's List        0   \n",
       "3     3               Raging Bull        3   \n",
       "0     4                Casablanca        0   \n",
       "\n",
       "                                     genre  \n",
       "0                   [u' Crime', u' Drama']  \n",
       "0                   [u' Crime', u' Drama']  \n",
       "0  [u' Biography', u' Drama', u' History']  \n",
       "3    [u' Biography', u' Drama', u' Sport']  \n",
       "0        [u' Drama', u' Romance', u' War']  "
      ]
     },
     "execution_count": 21,
     "metadata": {},
     "output_type": "execute_result"
    }
   ],
   "source": [
    "frame.head()"
   ]
  },
  {
   "cell_type": "code",
   "execution_count": 22,
   "metadata": {
    "collapsed": false
   },
   "outputs": [
    {
     "data": {
      "text/plain": [
       "3    37\n",
       "1    26\n",
       "0    23\n",
       "2    10\n",
       "4     4\n",
       "Name: cluster, dtype: int64"
      ]
     },
     "execution_count": 22,
     "metadata": {},
     "output_type": "execute_result"
    }
   ],
   "source": [
    "frame['cluster'].value_counts()"
   ]
  },
  {
   "cell_type": "code",
   "execution_count": 23,
   "metadata": {
    "collapsed": false
   },
   "outputs": [
    {
     "data": {
      "text/plain": [
       "cluster\n",
       "0    37.695652\n",
       "1    45.461538\n",
       "2    74.300000\n",
       "3    52.945946\n",
       "4    49.750000\n",
       "Name: rank, dtype: float64"
      ]
     },
     "execution_count": 23,
     "metadata": {},
     "output_type": "execute_result"
    }
   ],
   "source": [
    "grouped = frame['rank'].groupby(frame['cluster'])\n",
    "\n",
    "grouped.mean()"
   ]
  },
  {
   "cell_type": "code",
   "execution_count": 24,
   "metadata": {
    "collapsed": false
   },
   "outputs": [
    {
     "name": "stdout",
     "output_type": "stream",
     "text": [
      "Top terms per cluster:\n",
      "\n",
      "Cluster 0 words: b'family', b'war', b'prison', b'home', b'house', b'help',\n",
      "\n",
      "Cluster 0 titles: The Godfather, The Shawshank Redemption, Schindler's List, Casablanca, Gone with the Wind, The Wizard of Oz, Titanic, The Godfather: Part II, The Sound of Music, E.T. the Extra-Terrestrial, The Silence of the Lambs, Amadeus, The Best Years of Our Lives, Ben-Hur, Doctor Zhivago, High Noon, The Pianist, Goodfellas, Giant, The Grapes of Wrath, Network, A Clockwork Orange, Yankee Doodle Dandy,\n",
      "\n",
      "Cluster 1 words: b'killed', b'soldiers', b'army', b'men', b'command', b'orders',\n",
      "\n",
      "Cluster 1 titles: One Flew Over the Cuckoo's Nest, Lawrence of Arabia, Star Wars, 2001: A Space Odyssey, The Bridge on the River Kwai, Dr. Strangelove or: How I Learned to Stop Worrying and Love the Bomb, Apocalypse Now, The Lord of the Rings: The Return of the King, Gladiator, From Here to Eternity, Saving Private Ryan, Unforgiven, Raiders of the Lost Ark, Patton, Jaws, Braveheart, Butch Cassidy and the Sundance Kid, The Treasure of the Sierra Madre, Platoon, Dances with Wolves, The Deer Hunter, All Quiet on the Western Front, Shane, The African Queen, Stagecoach, Mutiny on the Bounty,\n",
      "\n",
      "Cluster 2 words: b'car', b'john', b'police', b'driving', b'father', b'phone',\n",
      "\n",
      "Cluster 2 titles: Sunset Blvd., The French Connection, It Happened One Night, Fargo, The Green Mile, Close Encounters of the Third Kind, American Graffiti, Pulp Fiction, Rebel Without a Cause, North by Northwest,\n",
      "\n",
      "Cluster 3 words: b'love', b'apartments', b'friends', b'father', b'film', b'new',\n",
      "\n",
      "Cluster 3 titles: Raging Bull, Citizen Kane, Psycho, Vertigo, On the Waterfront, Forrest Gump, West Side Story, Chinatown, Singin' in the Rain, Some Like It Hot, 12 Angry Men, Gandhi, Rocky, A Streetcar Named Desire, To Kill a Mockingbird, An American in Paris, My Fair Lady, The Good, the Bad and the Ugly, The Apartment, The Exorcist, City Lights, Midnight Cowboy, Mr. Smith Goes to Washington, Rain Man, Annie Hall, Out of Africa, Good Will Hunting, Terms of Endearment, Tootsie, Nashville, The Graduate, The Maltese Falcon, Taxi Driver, Wuthering Heights, Double Indemnity, Rear Window, The Third Man,\n",
      "\n",
      "Cluster 4 words: b'george', b'marries', b'james', b'family', b'john', b'brothers',\n",
      "\n",
      "Cluster 4 titles: It's a Wonderful Life, The Philadelphia Story, The King's Speech, A Place in the Sun,\n",
      "\n"
     ]
    }
   ],
   "source": [
    "from __future__ import print_function\n",
    "\n",
    "print(\"Top terms per cluster:\")\n",
    "print()\n",
    "order_centroids = km.cluster_centers_.argsort()[:, ::-1]\n",
    "for i in range(num_clusters):\n",
    "    print(\"Cluster %d words:\" % i, end='')\n",
    "    for ind in order_centroids[i, :6]:\n",
    "        print(' %s' % vocab_frame.ix[terms[ind].split(' ')].values.tolist()[0][0].encode('utf-8', 'ignore'), end=',')\n",
    "    print()\n",
    "    print()\n",
    "    print(\"Cluster %d titles:\" % i, end='')\n",
    "    for title in frame.ix[i]['title'].values.tolist():\n",
    "        print(' %s,' % title, end='')\n",
    "    print()\n",
    "    print()"
   ]
  },
  {
   "cell_type": "code",
   "execution_count": 25,
   "metadata": {
    "collapsed": false
   },
   "outputs": [],
   "source": [
    "#This is purely to help export tables to html and to correct for my 0 start rank (so that Godfather is 1, not 0)\n",
    "frame['Rank'] = frame['rank'] + 1\n",
    "frame['Title'] = frame['title']"
   ]
  },
  {
   "cell_type": "code",
   "execution_count": 26,
   "metadata": {
    "collapsed": false
   },
   "outputs": [
    {
     "data": {
      "text/html": [
       "<table border=\"1\" class=\"dataframe\">\n",
       "  <thead>\n",
       "    <tr style=\"text-align: right;\">\n",
       "      <th>Rank</th>\n",
       "      <th>Title</th>\n",
       "    </tr>\n",
       "  </thead>\n",
       "  <tbody>\n",
       "    <tr>\n",
       "      <td>6</td>\n",
       "      <td>One Flew Over the Cuckoo's Nest</td>\n",
       "    </tr>\n",
       "    <tr>\n",
       "      <td>11</td>\n",
       "      <td>Lawrence of Arabia</td>\n",
       "    </tr>\n",
       "    <tr>\n",
       "      <td>20</td>\n",
       "      <td>Star Wars</td>\n",
       "    </tr>\n",
       "    <tr>\n",
       "      <td>22</td>\n",
       "      <td>2001: A Space Odyssey</td>\n",
       "    </tr>\n",
       "    <tr>\n",
       "      <td>25</td>\n",
       "      <td>The Bridge on the River Kwai</td>\n",
       "    </tr>\n",
       "    <tr>\n",
       "      <td>30</td>\n",
       "      <td>Dr. Strangelove or: How I Learned to Stop Worr...</td>\n",
       "    </tr>\n",
       "    <tr>\n",
       "      <td>32</td>\n",
       "      <td>Apocalypse Now</td>\n",
       "    </tr>\n",
       "    <tr>\n",
       "      <td>34</td>\n",
       "      <td>The Lord of the Rings: The Return of the King</td>\n",
       "    </tr>\n",
       "    <tr>\n",
       "      <td>35</td>\n",
       "      <td>Gladiator</td>\n",
       "    </tr>\n",
       "    <tr>\n",
       "      <td>36</td>\n",
       "      <td>From Here to Eternity</td>\n",
       "    </tr>\n",
       "    <tr>\n",
       "      <td>37</td>\n",
       "      <td>Saving Private Ryan</td>\n",
       "    </tr>\n",
       "    <tr>\n",
       "      <td>38</td>\n",
       "      <td>Unforgiven</td>\n",
       "    </tr>\n",
       "    <tr>\n",
       "      <td>39</td>\n",
       "      <td>Raiders of the Lost Ark</td>\n",
       "    </tr>\n",
       "    <tr>\n",
       "      <td>49</td>\n",
       "      <td>Patton</td>\n",
       "    </tr>\n",
       "    <tr>\n",
       "      <td>50</td>\n",
       "      <td>Jaws</td>\n",
       "    </tr>\n",
       "    <tr>\n",
       "      <td>51</td>\n",
       "      <td>Braveheart</td>\n",
       "    </tr>\n",
       "    <tr>\n",
       "      <td>53</td>\n",
       "      <td>Butch Cassidy and the Sundance Kid</td>\n",
       "    </tr>\n",
       "    <tr>\n",
       "      <td>54</td>\n",
       "      <td>The Treasure of the Sierra Madre</td>\n",
       "    </tr>\n",
       "    <tr>\n",
       "      <td>56</td>\n",
       "      <td>Platoon</td>\n",
       "    </tr>\n",
       "    <tr>\n",
       "      <td>58</td>\n",
       "      <td>Dances with Wolves</td>\n",
       "    </tr>\n",
       "    <tr>\n",
       "      <td>62</td>\n",
       "      <td>The Deer Hunter</td>\n",
       "    </tr>\n",
       "    <tr>\n",
       "      <td>63</td>\n",
       "      <td>All Quiet on the Western Front</td>\n",
       "    </tr>\n",
       "    <tr>\n",
       "      <td>80</td>\n",
       "      <td>Shane</td>\n",
       "    </tr>\n",
       "    <tr>\n",
       "      <td>88</td>\n",
       "      <td>The African Queen</td>\n",
       "    </tr>\n",
       "    <tr>\n",
       "      <td>89</td>\n",
       "      <td>Stagecoach</td>\n",
       "    </tr>\n",
       "    <tr>\n",
       "      <td>90</td>\n",
       "      <td>Mutiny on the Bounty</td>\n",
       "    </tr>\n",
       "  </tbody>\n",
       "</table>"
      ],
      "text/plain": [
       "<IPython.core.display.HTML object>"
      ]
     },
     "metadata": {},
     "output_type": "display_data"
    }
   ],
   "source": [
    "#export tables to HTML\n",
    "html_output = frame[['Rank', 'Title']].loc[frame['cluster'] == 1].to_html(index=False)\n",
    "\n",
    "from IPython.core.display import display, HTML\n",
    "display(HTML(html_output))"
   ]
  },
  {
   "cell_type": "markdown",
   "metadata": {},
   "source": [
    "### Multidimensional scaling"
   ]
  },
  {
   "cell_type": "code",
   "execution_count": 27,
   "metadata": {
    "collapsed": false
   },
   "outputs": [],
   "source": [
    "from sklearn.manifold import MDS\n",
    "\n",
    "MDS()\n",
    "\n",
    "# two components as we're plotting points in a two-dimensional plane\n",
    "# \"precomputed\" because we provide a distance matrix\n",
    "# we will also specify `random_state` so the plot is reproducible.\n",
    "mds = MDS(n_components=2, dissimilarity=\"precomputed\", random_state=1)\n",
    "\n",
    "pos = mds.fit_transform(dist)  # shape (n_components, n_samples)\n",
    "\n",
    "xs, ys = pos[:, 0], pos[:, 1]"
   ]
  },
  {
   "cell_type": "code",
   "execution_count": 28,
   "metadata": {
    "collapsed": false
   },
   "outputs": [],
   "source": [
    "#strip any proper nouns (NNP) or plural proper nouns (NNPS) from a text\n",
    "from nltk.tag import pos_tag\n",
    "\n",
    "def strip_proppers_POS(text):\n",
    "    tagged = pos_tag(text.split()) #use NLTK's part of speech tagger\n",
    "    non_propernouns = [word for word,pos in tagged if pos != 'NNP' and pos != 'NNPS']\n",
    "    return non_propernouns"
   ]
  },
  {
   "cell_type": "markdown",
   "metadata": {},
   "source": [
    "### Visualizing document clusters"
   ]
  },
  {
   "cell_type": "code",
   "execution_count": 29,
   "metadata": {
    "collapsed": false
   },
   "outputs": [],
   "source": [
    "#set up colors per clusters using a dict\n",
    "cluster_colors = {0: '#1b9e77', 1: '#d95f02', 2: '#7570b3', 3: '#e7298a', 4: '#66a61e'}\n",
    "\n",
    "#set up cluster names using a dict\n",
    "cluster_names = {0: 'Family, home, war', \n",
    "                 1: 'Police, killed, murders', \n",
    "                 2: 'Father, New York, brothers', \n",
    "                 3: 'Dance, singing, love', \n",
    "                 4: 'Killed, soldiers, captain'}"
   ]
  },
  {
   "cell_type": "code",
   "execution_count": 30,
   "metadata": {
    "collapsed": false
   },
   "outputs": [
    {
     "data": {
      "image/png": "[encoded data removed]",
      "text/plain": [
       "<matplotlib.figure.Figure at 0x7fe72d64a4a8>"
      ]
     },
     "metadata": {},
     "output_type": "display_data"
    },
    {
     "data": {
      "text/plain": [
       "<matplotlib.figure.Figure at 0x7fe72c194d30>"
      ]
     },
     "metadata": {},
     "output_type": "display_data"
    }
   ],
   "source": [
    "#create data frame that has the result of the MDS plus the cluster numbers and titles\n",
    "df = pd.DataFrame(dict(x=xs, y=ys, label=clusters, title=titles)) \n",
    "\n",
    "#group by cluster\n",
    "groups = df.groupby('label')\n",
    "\n",
    "\n",
    "# set up plot\n",
    "fig, ax = plt.subplots(figsize=(17, 9)) # set size\n",
    "ax.margins(0.05) # Optional, just adds 5% padding to the autoscaling\n",
    "\n",
    "#iterate through groups to layer the plot\n",
    "#note that I use the cluster_name and cluster_color dicts with the 'name' lookup to return the appropriate color/label\n",
    "for name, group in groups:\n",
    "    ax.plot(group.x, group.y, marker='o', linestyle='', ms=12, label=cluster_names[name], color=cluster_colors[name], mec='none')\n",
    "    ax.set_aspect('auto')\n",
    "    ax.tick_params(\\\n",
    "        axis= 'x',          # changes apply to the x-axis\n",
    "        which='both',      # both major and minor ticks are affected\n",
    "        bottom='off',      # ticks along the bottom edge are off\n",
    "        top='off',         # ticks along the top edge are off\n",
    "        labelbottom='off')\n",
    "    ax.tick_params(\\\n",
    "        axis= 'y',         # changes apply to the y-axis\n",
    "        which='both',      # both major and minor ticks are affected\n",
    "        left='off',      # ticks along the bottom edge are off\n",
    "        top='off',         # ticks along the top edge are off\n",
    "        labelleft='off')\n",
    "    \n",
    "ax.legend(numpoints=1)  #show legend with only 1 point\n",
    "\n",
    "#add label in x,y position with the label as the film title\n",
    "for i in range(len(df)):\n",
    "    ax.text(df.ix[i]['x'], df.ix[i]['y'], df.ix[i]['title'], size=8)  \n",
    "\n",
    "plt.show()\n",
    "\n",
    "#Saving the Fig\n",
    "plt.savefig(os.path.join(outputs,'clusters_small_noaxes.png'), dpi=200)"
   ]
  },
  {
   "cell_type": "markdown",
   "metadata": {},
   "source": [
    "The clustering plot looks great, but it would be better without overlapping labels. We are going to use D3.js (http://d3js.org/), a browser based/javascript interactive. We will use a matplotlib D3 wrapper called mpld3 (https://mpld3.github.io/). Mpld3 basically let's you use matplotlib syntax to create web interactives. It has a really easy, high-level API for adding tooltips on mouse hover, which is what I am interested in.\n",
    "\n",
    "It also has some nice functionality for zooming and panning. The below javascript snippet basicaly defines a custom location for where the zoom/pan toggle resides. Don't worry about it too much and you actually don't need to use it, but it helped for formatting purposes when exporting to the web later. The only thing you might want to change is the x and y attr for the position of the toolbar."
   ]
  },
  {
   "cell_type": "code",
   "execution_count": 31,
   "metadata": {
    "collapsed": false
   },
   "outputs": [],
   "source": [
    "#define custom toolbar location\n",
    "class TopToolbar(mpld3.plugins.PluginBase):\n",
    "    \"\"\"Plugin for moving toolbar to top of figure\"\"\"\n",
    "\n",
    "    JAVASCRIPT = \"\"\"\n",
    "    mpld3.register_plugin(\"toptoolbar\", TopToolbar);\n",
    "    TopToolbar.prototype = Object.create(mpld3.Plugin.prototype);\n",
    "    TopToolbar.prototype.constructor = TopToolbar;\n",
    "    function TopToolbar(fig, props){\n",
    "        mpld3.Plugin.call(this, fig, props);\n",
    "    };\n",
    "\n",
    "    TopToolbar.prototype.draw = function(){\n",
    "      // the toolbar svg doesn't exist\n",
    "      // yet, so first draw it\n",
    "      this.fig.toolbar.draw();\n",
    "\n",
    "      // then change the y position to be\n",
    "      // at the top of the figure\n",
    "      this.fig.toolbar.toolbar.attr(\"x\", 150);\n",
    "      this.fig.toolbar.toolbar.attr(\"y\", 400);\n",
    "\n",
    "      // then remove the draw function,\n",
    "      // so that it is not called again\n",
    "      this.fig.toolbar.draw = function() {}\n",
    "    }\n",
    "    \"\"\"\n",
    "    def __init__(self):\n",
    "        self.dict_ = {\"type\": \"toptoolbar\"}"
   ]
  },
  {
   "cell_type": "code",
   "execution_count": 32,
   "metadata": {
    "collapsed": false
   },
   "outputs": [
    {
     "data": {
      "text/html": [
       "\n",
       "\n",
       "<style>\n",
       "\n",
       "text.mpld3-text, div.mpld3-tooltip {\n",
       "  font-family:Arial, Helvetica, sans-serif;\n",
       "}\n",
       "\n",
       "g.mpld3-xaxis, g.mpld3-yaxis {\n",
       "display: none; }\n",
       "\n",
       "text.mpld3-text, div.mpld3-tooltip {\n",
       "  font-family:Arial, Helvetica, sans-serif;\n",
       "}\n",
       "\n",
       "g.mpld3-xaxis, g.mpld3-yaxis {\n",
       "display: none; }\n",
       "\n",
       "text.mpld3-text, div.mpld3-tooltip {\n",
       "  font-family:Arial, Helvetica, sans-serif;\n",
       "}\n",
       "\n",
       "g.mpld3-xaxis, g.mpld3-yaxis {\n",
       "display: none; }\n",
       "\n",
       "text.mpld3-text, div.mpld3-tooltip {\n",
       "  font-family:Arial, Helvetica, sans-serif;\n",
       "}\n",
       "\n",
       "g.mpld3-xaxis, g.mpld3-yaxis {\n",
       "display: none; }\n",
       "\n",
       "text.mpld3-text, div.mpld3-tooltip {\n",
       "  font-family:Arial, Helvetica, sans-serif;\n",
       "}\n",
       "\n",
       "g.mpld3-xaxis, g.mpld3-yaxis {\n",
       "display: none; }\n",
       "\n",
       "</style>\n",
       "\n",
       "<div id=\"fig_el157461406308757453047487518269\"></div>\n",
       "<script>\n",
       "function mpld3_load_lib(url, callback){\n",
       "  var s = document.createElement('script');\n",
       "  s.src = url;\n",
       "  s.async = true;\n",
       "  s.onreadystatechange = s.onload = callback;\n",
       "  s.onerror = function(){console.warn(\"failed to load library \" + url);};\n",
       "  document.getElementsByTagName(\"head\")[0].appendChild(s);\n",
       "}\n",
       "\n",
       "if(typeof(mpld3) !== \"undefined\" && mpld3._mpld3IsLoaded){\n",
       "   // already loaded: just create the figure\n",
       "   !function(mpld3){\n",
       "       \n",
       "    mpld3.register_plugin(\"htmltooltip\", HtmlTooltipPlugin);\n",
       "    HtmlTooltipPlugin.prototype = Object.create(mpld3.Plugin.prototype);\n",
       "    HtmlTooltipPlugin.prototype.constructor = HtmlTooltipPlugin;\n",
       "    HtmlTooltipPlugin.prototype.requiredProps = [\"id\"];\n",
       "    HtmlTooltipPlugin.prototype.defaultProps = {labels:null, hoffset:0, voffset:10};\n",
       "    function HtmlTooltipPlugin(fig, props){\n",
       "        mpld3.Plugin.call(this, fig, props);\n",
       "    };\n",
       "\n",
       "    HtmlTooltipPlugin.prototype.draw = function(){\n",
       "       var obj = mpld3.get_element(this.props.id);\n",
       "       var labels = this.props.labels;\n",
       "       var tooltip = d3.select(\"body\").append(\"div\")\n",
       "                    .attr(\"class\", \"mpld3-tooltip\")\n",
       "                    .style(\"position\", \"absolute\")\n",
       "                    .style(\"z-index\", \"10\")\n",
       "                    .style(\"visibility\", \"hidden\");\n",
       "\n",
       "       obj.elements()\n",
       "           .on(\"mouseover\", function(d, i){\n",
       "                              tooltip.html(labels[i])\n",
       "                                     .style(\"visibility\", \"visible\");})\n",
       "           .on(\"mousemove\", function(d, i){\n",
       "                    tooltip\n",
       "                      .style(\"top\", d3.event.pageY + this.props.voffset + \"px\")\n",
       "                      .style(\"left\",d3.event.pageX + this.props.hoffset + \"px\");\n",
       "                 }.bind(this))\n",
       "           .on(\"mouseout\",  function(d, i){\n",
       "                           tooltip.style(\"visibility\", \"hidden\");});\n",
       "    };\n",
       "    \n",
       "    mpld3.register_plugin(\"toptoolbar\", TopToolbar);\n",
       "    TopToolbar.prototype = Object.create(mpld3.Plugin.prototype);\n",
       "    TopToolbar.prototype.constructor = TopToolbar;\n",
       "    function TopToolbar(fig, props){\n",
       "        mpld3.Plugin.call(this, fig, props);\n",
       "    };\n",
       "\n",
       "    TopToolbar.prototype.draw = function(){\n",
       "      // the toolbar svg doesn't exist\n",
       "      // yet, so first draw it\n",
       "      this.fig.toolbar.draw();\n",
       "\n",
       "      // then change the y position to be\n",
       "      // at the top of the figure\n",
       "      this.fig.toolbar.toolbar.attr(\"x\", 150);\n",
       "      this.fig.toolbar.toolbar.attr(\"y\", 400);\n",
       "\n",
       "      // then remove the draw function,\n",
       "      // so that it is not called again\n",
       "      this.fig.toolbar.draw = function() {}\n",
       "    }\n",
       "    \n",
       "    mpld3.register_plugin(\"htmltooltip\", HtmlTooltipPlugin);\n",
       "    HtmlTooltipPlugin.prototype = Object.create(mpld3.Plugin.prototype);\n",
       "    HtmlTooltipPlugin.prototype.constructor = HtmlTooltipPlugin;\n",
       "    HtmlTooltipPlugin.prototype.requiredProps = [\"id\"];\n",
       "    HtmlTooltipPlugin.prototype.defaultProps = {labels:null, hoffset:0, voffset:10};\n",
       "    function HtmlTooltipPlugin(fig, props){\n",
       "        mpld3.Plugin.call(this, fig, props);\n",
       "    };\n",
       "\n",
       "    HtmlTooltipPlugin.prototype.draw = function(){\n",
       "       var obj = mpld3.get_element(this.props.id);\n",
       "       var labels = this.props.labels;\n",
       "       var tooltip = d3.select(\"body\").append(\"div\")\n",
       "                    .attr(\"class\", \"mpld3-tooltip\")\n",
       "                    .style(\"position\", \"absolute\")\n",
       "                    .style(\"z-index\", \"10\")\n",
       "                    .style(\"visibility\", \"hidden\");\n",
       "\n",
       "       obj.elements()\n",
       "           .on(\"mouseover\", function(d, i){\n",
       "                              tooltip.html(labels[i])\n",
       "                                     .style(\"visibility\", \"visible\");})\n",
       "           .on(\"mousemove\", function(d, i){\n",
       "                    tooltip\n",
       "                      .style(\"top\", d3.event.pageY + this.props.voffset + \"px\")\n",
       "                      .style(\"left\",d3.event.pageX + this.props.hoffset + \"px\");\n",
       "                 }.bind(this))\n",
       "           .on(\"mouseout\",  function(d, i){\n",
       "                           tooltip.style(\"visibility\", \"hidden\");});\n",
       "    };\n",
       "    \n",
       "    mpld3.register_plugin(\"toptoolbar\", TopToolbar);\n",
       "    TopToolbar.prototype = Object.create(mpld3.Plugin.prototype);\n",
       "    TopToolbar.prototype.constructor = TopToolbar;\n",
       "    function TopToolbar(fig, props){\n",
       "        mpld3.Plugin.call(this, fig, props);\n",
       "    };\n",
       "\n",
       "    TopToolbar.prototype.draw = function(){\n",
       "      // the toolbar svg doesn't exist\n",
       "      // yet, so first draw it\n",
       "      this.fig.toolbar.draw();\n",
       "\n",
       "      // then change the y position to be\n",
       "      // at the top of the figure\n",
       "      this.fig.toolbar.toolbar.attr(\"x\", 150);\n",
       "      this.fig.toolbar.toolbar.attr(\"y\", 400);\n",
       "\n",
       "      // then remove the draw function,\n",
       "      // so that it is not called again\n",
       "      this.fig.toolbar.draw = function() {}\n",
       "    }\n",
       "    \n",
       "    mpld3.register_plugin(\"htmltooltip\", HtmlTooltipPlugin);\n",
       "    HtmlTooltipPlugin.prototype = Object.create(mpld3.Plugin.prototype);\n",
       "    HtmlTooltipPlugin.prototype.constructor = HtmlTooltipPlugin;\n",
       "    HtmlTooltipPlugin.prototype.requiredProps = [\"id\"];\n",
       "    HtmlTooltipPlugin.prototype.defaultProps = {labels:null, hoffset:0, voffset:10};\n",
       "    function HtmlTooltipPlugin(fig, props){\n",
       "        mpld3.Plugin.call(this, fig, props);\n",
       "    };\n",
       "\n",
       "    HtmlTooltipPlugin.prototype.draw = function(){\n",
       "       var obj = mpld3.get_element(this.props.id);\n",
       "       var labels = this.props.labels;\n",
       "       var tooltip = d3.select(\"body\").append(\"div\")\n",
       "                    .attr(\"class\", \"mpld3-tooltip\")\n",
       "                    .style(\"position\", \"absolute\")\n",
       "                    .style(\"z-index\", \"10\")\n",
       "                    .style(\"visibility\", \"hidden\");\n",
       "\n",
       "       obj.elements()\n",
       "           .on(\"mouseover\", function(d, i){\n",
       "                              tooltip.html(labels[i])\n",
       "                                     .style(\"visibility\", \"visible\");})\n",
       "           .on(\"mousemove\", function(d, i){\n",
       "                    tooltip\n",
       "                      .style(\"top\", d3.event.pageY + this.props.voffset + \"px\")\n",
       "                      .style(\"left\",d3.event.pageX + this.props.hoffset + \"px\");\n",
       "                 }.bind(this))\n",
       "           .on(\"mouseout\",  function(d, i){\n",
       "                           tooltip.style(\"visibility\", \"hidden\");});\n",
       "    };\n",
       "    \n",
       "    mpld3.register_plugin(\"toptoolbar\", TopToolbar);\n",
       "    TopToolbar.prototype = Object.create(mpld3.Plugin.prototype);\n",
       "    TopToolbar.prototype.constructor = TopToolbar;\n",
       "    function TopToolbar(fig, props){\n",
       "        mpld3.Plugin.call(this, fig, props);\n",
       "    };\n",
       "\n",
       "    TopToolbar.prototype.draw = function(){\n",
       "      // the toolbar svg doesn't exist\n",
       "      // yet, so first draw it\n",
       "      this.fig.toolbar.draw();\n",
       "\n",
       "      // then change the y position to be\n",
       "      // at the top of the figure\n",
       "      this.fig.toolbar.toolbar.attr(\"x\", 150);\n",
       "      this.fig.toolbar.toolbar.attr(\"y\", 400);\n",
       "\n",
       "      // then remove the draw function,\n",
       "      // so that it is not called again\n",
       "      this.fig.toolbar.draw = function() {}\n",
       "    }\n",
       "    \n",
       "    mpld3.register_plugin(\"htmltooltip\", HtmlTooltipPlugin);\n",
       "    HtmlTooltipPlugin.prototype = Object.create(mpld3.Plugin.prototype);\n",
       "    HtmlTooltipPlugin.prototype.constructor = HtmlTooltipPlugin;\n",
       "    HtmlTooltipPlugin.prototype.requiredProps = [\"id\"];\n",
       "    HtmlTooltipPlugin.prototype.defaultProps = {labels:null, hoffset:0, voffset:10};\n",
       "    function HtmlTooltipPlugin(fig, props){\n",
       "        mpld3.Plugin.call(this, fig, props);\n",
       "    };\n",
       "\n",
       "    HtmlTooltipPlugin.prototype.draw = function(){\n",
       "       var obj = mpld3.get_element(this.props.id);\n",
       "       var labels = this.props.labels;\n",
       "       var tooltip = d3.select(\"body\").append(\"div\")\n",
       "                    .attr(\"class\", \"mpld3-tooltip\")\n",
       "                    .style(\"position\", \"absolute\")\n",
       "                    .style(\"z-index\", \"10\")\n",
       "                    .style(\"visibility\", \"hidden\");\n",
       "\n",
       "       obj.elements()\n",
       "           .on(\"mouseover\", function(d, i){\n",
       "                              tooltip.html(labels[i])\n",
       "                                     .style(\"visibility\", \"visible\");})\n",
       "           .on(\"mousemove\", function(d, i){\n",
       "                    tooltip\n",
       "                      .style(\"top\", d3.event.pageY + this.props.voffset + \"px\")\n",
       "                      .style(\"left\",d3.event.pageX + this.props.hoffset + \"px\");\n",
       "                 }.bind(this))\n",
       "           .on(\"mouseout\",  function(d, i){\n",
       "                           tooltip.style(\"visibility\", \"hidden\");});\n",
       "    };\n",
       "    \n",
       "    mpld3.register_plugin(\"toptoolbar\", TopToolbar);\n",
       "    TopToolbar.prototype = Object.create(mpld3.Plugin.prototype);\n",
       "    TopToolbar.prototype.constructor = TopToolbar;\n",
       "    function TopToolbar(fig, props){\n",
       "        mpld3.Plugin.call(this, fig, props);\n",
       "    };\n",
       "\n",
       "    TopToolbar.prototype.draw = function(){\n",
       "      // the toolbar svg doesn't exist\n",
       "      // yet, so first draw it\n",
       "      this.fig.toolbar.draw();\n",
       "\n",
       "      // then change the y position to be\n",
       "      // at the top of the figure\n",
       "      this.fig.toolbar.toolbar.attr(\"x\", 150);\n",
       "      this.fig.toolbar.toolbar.attr(\"y\", 400);\n",
       "\n",
       "      // then remove the draw function,\n",
       "      // so that it is not called again\n",
       "      this.fig.toolbar.draw = function() {}\n",
       "    }\n",
       "    \n",
       "    mpld3.register_plugin(\"htmltooltip\", HtmlTooltipPlugin);\n",
       "    HtmlTooltipPlugin.prototype = Object.create(mpld3.Plugin.prototype);\n",
       "    HtmlTooltipPlugin.prototype.constructor = HtmlTooltipPlugin;\n",
       "    HtmlTooltipPlugin.prototype.requiredProps = [\"id\"];\n",
       "    HtmlTooltipPlugin.prototype.defaultProps = {labels:null, hoffset:0, voffset:10};\n",
       "    function HtmlTooltipPlugin(fig, props){\n",
       "        mpld3.Plugin.call(this, fig, props);\n",
       "    };\n",
       "\n",
       "    HtmlTooltipPlugin.prototype.draw = function(){\n",
       "       var obj = mpld3.get_element(this.props.id);\n",
       "       var labels = this.props.labels;\n",
       "       var tooltip = d3.select(\"body\").append(\"div\")\n",
       "                    .attr(\"class\", \"mpld3-tooltip\")\n",
       "                    .style(\"position\", \"absolute\")\n",
       "                    .style(\"z-index\", \"10\")\n",
       "                    .style(\"visibility\", \"hidden\");\n",
       "\n",
       "       obj.elements()\n",
       "           .on(\"mouseover\", function(d, i){\n",
       "                              tooltip.html(labels[i])\n",
       "                                     .style(\"visibility\", \"visible\");})\n",
       "           .on(\"mousemove\", function(d, i){\n",
       "                    tooltip\n",
       "                      .style(\"top\", d3.event.pageY + this.props.voffset + \"px\")\n",
       "                      .style(\"left\",d3.event.pageX + this.props.hoffset + \"px\");\n",
       "                 }.bind(this))\n",
       "           .on(\"mouseout\",  function(d, i){\n",
       "                           tooltip.style(\"visibility\", \"hidden\");});\n",
       "    };\n",
       "    \n",
       "    mpld3.register_plugin(\"toptoolbar\", TopToolbar);\n",
       "    TopToolbar.prototype = Object.create(mpld3.Plugin.prototype);\n",
       "    TopToolbar.prototype.constructor = TopToolbar;\n",
       "    function TopToolbar(fig, props){\n",
       "        mpld3.Plugin.call(this, fig, props);\n",
       "    };\n",
       "\n",
       "    TopToolbar.prototype.draw = function(){\n",
       "      // the toolbar svg doesn't exist\n",
       "      // yet, so first draw it\n",
       "      this.fig.toolbar.draw();\n",
       "\n",
       "      // then change the y position to be\n",
       "      // at the top of the figure\n",
       "      this.fig.toolbar.toolbar.attr(\"x\", 150);\n",
       "      this.fig.toolbar.toolbar.attr(\"y\", 400);\n",
       "\n",
       "      // then remove the draw function,\n",
       "      // so that it is not called again\n",
       "      this.fig.toolbar.draw = function() {}\n",
       "    }\n",
       "    \n",
       "       mpld3.draw_figure(\"fig_el157461406308757453047487518269\", {\"height\": 480.0, \"axes\": [{\"xdomain\": [-0.7022243585349199, 0.7098185051203891], \"axes\": [{\"tickformat\": \"\", \"fontsize\": null, \"scale\": \"linear\", \"tickvalues\": [], \"position\": \"bottom\", \"grid\": {\"gridOn\": false}, \"nticks\": 0}, {\"tickformat\": \"\", \"fontsize\": null, \"scale\": \"linear\", \"tickvalues\": [], \"position\": \"left\", \"grid\": {\"gridOn\": false}, \"nticks\": 0}], \"axesbgalpha\": null, \"markers\": [{\"alpha\": 1, \"edgecolor\": \"none\", \"id\": \"el15746140630881319120pts\", \"zorder\": 2, \"xindex\": 0, \"coordinates\": \"data\", \"edgewidth\": 0.5, \"markerpath\": [[[0.0, 9.0], [2.3868279, 9.0], [4.676218837063681, 8.051703224294176], [6.3639610306789285, 6.3639610306789285], [8.051703224294176, 4.676218837063681], [9.0, 2.3868279], [9.0, 0.0], [9.0, -2.3868279], [8.051703224294176, -4.676218837063681], [6.3639610306789285, -6.3639610306789285], [4.676218837063681, -8.051703224294176], [2.3868279, -9.0], [0.0, -9.0], [-2.3868279, -9.0], [-4.676218837063681, -8.051703224294176], [-6.3639610306789285, -6.3639610306789285], [-8.051703224294176, -4.676218837063681], [-9.0, -2.3868279], [-9.0, 0.0], [-9.0, 2.3868279], [-8.051703224294176, 4.676218837063681], [-6.3639610306789285, 6.3639610306789285], [-4.676218837063681, 8.051703224294176], [-2.3868279, 9.0], [0.0, 9.0]], [\"M\", \"C\", \"C\", \"C\", \"C\", \"C\", \"C\", \"C\", \"C\", \"Z\"]], \"yindex\": 1, \"data\": \"data01\", \"facecolor\": \"#1B9E77\"}, {\"alpha\": 1, \"edgecolor\": \"none\", \"id\": \"el15746140630854021976pts\", \"zorder\": 2, \"xindex\": 0, \"coordinates\": \"data\", \"edgewidth\": 0.5, \"markerpath\": [[[0.0, 9.0], [2.3868279, 9.0], [4.676218837063681, 8.051703224294176], [6.3639610306789285, 6.3639610306789285], [8.051703224294176, 4.676218837063681], [9.0, 2.3868279], [9.0, 0.0], [9.0, -2.3868279], [8.051703224294176, -4.676218837063681], [6.3639610306789285, -6.3639610306789285], [4.676218837063681, -8.051703224294176], [2.3868279, -9.0], [0.0, -9.0], [-2.3868279, -9.0], [-4.676218837063681, -8.051703224294176], [-6.3639610306789285, -6.3639610306789285], [-8.051703224294176, -4.676218837063681], [-9.0, -2.3868279], [-9.0, 0.0], [-9.0, 2.3868279], [-8.051703224294176, 4.676218837063681], [-6.3639610306789285, 6.3639610306789285], [-4.676218837063681, 8.051703224294176], [-2.3868279, 9.0], [0.0, 9.0]], [\"M\", \"C\", \"C\", \"C\", \"C\", \"C\", \"C\", \"C\", \"C\", \"Z\"]], \"yindex\": 1, \"data\": \"data02\", \"facecolor\": \"#D95F02\"}, {\"alpha\": 1, \"edgecolor\": \"none\", \"id\": \"el15746140630882709120pts\", \"zorder\": 2, \"xindex\": 0, \"coordinates\": \"data\", \"edgewidth\": 0.5, \"markerpath\": [[[0.0, 9.0], [2.3868279, 9.0], [4.676218837063681, 8.051703224294176], [6.3639610306789285, 6.3639610306789285], [8.051703224294176, 4.676218837063681], [9.0, 2.3868279], [9.0, 0.0], [9.0, -2.3868279], [8.051703224294176, -4.676218837063681], [6.3639610306789285, -6.3639610306789285], [4.676218837063681, -8.051703224294176], [2.3868279, -9.0], [0.0, -9.0], [-2.3868279, -9.0], [-4.676218837063681, -8.051703224294176], [-6.3639610306789285, -6.3639610306789285], [-8.051703224294176, -4.676218837063681], [-9.0, -2.3868279], [-9.0, 0.0], [-9.0, 2.3868279], [-8.051703224294176, 4.676218837063681], [-6.3639610306789285, 6.3639610306789285], [-4.676218837063681, 8.051703224294176], [-2.3868279, 9.0], [0.0, 9.0]], [\"M\", \"C\", \"C\", \"C\", \"C\", \"C\", \"C\", \"C\", \"C\", \"Z\"]], \"yindex\": 1, \"data\": \"data03\", \"facecolor\": \"#7570B3\"}, {\"alpha\": 1, \"edgecolor\": \"none\", \"id\": \"el15746140630872450944pts\", \"zorder\": 2, \"xindex\": 0, \"coordinates\": \"data\", \"edgewidth\": 0.5, \"markerpath\": [[[0.0, 9.0], [2.3868279, 9.0], [4.676218837063681, 8.051703224294176], [6.3639610306789285, 6.3639610306789285], [8.051703224294176, 4.676218837063681], [9.0, 2.3868279], [9.0, 0.0], [9.0, -2.3868279], [8.051703224294176, -4.676218837063681], [6.3639610306789285, -6.3639610306789285], [4.676218837063681, -8.051703224294176], [2.3868279, -9.0], [0.0, -9.0], [-2.3868279, -9.0], [-4.676218837063681, -8.051703224294176], [-6.3639610306789285, -6.3639610306789285], [-8.051703224294176, -4.676218837063681], [-9.0, -2.3868279], [-9.0, 0.0], [-9.0, 2.3868279], [-8.051703224294176, 4.676218837063681], [-6.3639610306789285, 6.3639610306789285], [-4.676218837063681, 8.051703224294176], [-2.3868279, 9.0], [0.0, 9.0]], [\"M\", \"C\", \"C\", \"C\", \"C\", \"C\", \"C\", \"C\", \"C\", \"Z\"]], \"yindex\": 1, \"data\": \"data04\", \"facecolor\": \"#E7298A\"}, {\"alpha\": 1, \"edgecolor\": \"none\", \"id\": \"el15746140630883147392pts\", \"zorder\": 2, \"xindex\": 0, \"coordinates\": \"data\", \"edgewidth\": 0.5, \"markerpath\": [[[0.0, 9.0], [2.3868279, 9.0], [4.676218837063681, 8.051703224294176], [6.3639610306789285, 6.3639610306789285], [8.051703224294176, 4.676218837063681], [9.0, 2.3868279], [9.0, 0.0], [9.0, -2.3868279], [8.051703224294176, -4.676218837063681], [6.3639610306789285, -6.3639610306789285], [4.676218837063681, -8.051703224294176], [2.3868279, -9.0], [0.0, -9.0], [-2.3868279, -9.0], [-4.676218837063681, -8.051703224294176], [-6.3639610306789285, -6.3639610306789285], [-8.051703224294176, -4.676218837063681], [-9.0, -2.3868279], [-9.0, 0.0], [-9.0, 2.3868279], [-8.051703224294176, 4.676218837063681], [-6.3639610306789285, 6.3639610306789285], [-4.676218837063681, 8.051703224294176], [-2.3868279, 9.0], [0.0, 9.0]], [\"M\", \"C\", \"C\", \"C\", \"C\", \"C\", \"C\", \"C\", \"C\", \"Z\"]], \"yindex\": 1, \"data\": \"data05\", \"facecolor\": \"#66A61E\"}, {\"alpha\": 1, \"edgecolor\": \"none\", \"id\": \"el15746140630882631576pts\", \"zorder\": 1000002.0, \"xindex\": 0, \"coordinates\": \"axes\", \"edgewidth\": 0.5, \"markerpath\": [[[0.0, 9.0], [2.3868279, 9.0], [4.676218837063681, 8.051703224294176], [6.3639610306789285, 6.3639610306789285], [8.051703224294176, 4.676218837063681], [9.0, 2.3868279], [9.0, 0.0], [9.0, -2.3868279], [8.051703224294176, -4.676218837063681], [6.3639610306789285, -6.3639610306789285], [4.676218837063681, -8.051703224294176], [2.3868279, -9.0], [0.0, -9.0], [-2.3868279, -9.0], [-4.676218837063681, -8.051703224294176], [-6.3639610306789285, -6.3639610306789285], [-8.051703224294176, -4.676218837063681], [-9.0, -2.3868279], [-9.0, 0.0], [-9.0, 2.3868279], [-8.051703224294176, 4.676218837063681], [-6.3639610306789285, 6.3639610306789285], [-4.676218837063681, 8.051703224294176], [-2.3868279, 9.0], [0.0, 9.0]], [\"M\", \"C\", \"C\", \"C\", \"C\", \"C\", \"C\", \"C\", \"C\", \"Z\"]], \"yindex\": 1, \"data\": \"data06\", \"facecolor\": \"#1B9E77\"}, {\"alpha\": 1, \"edgecolor\": \"none\", \"id\": \"el15746140630853937640pts\", \"zorder\": 1000002.0, \"xindex\": 0, \"coordinates\": \"axes\", \"edgewidth\": 0.5, \"markerpath\": [[[0.0, 9.0], [2.3868279, 9.0], [4.676218837063681, 8.051703224294176], [6.3639610306789285, 6.3639610306789285], [8.051703224294176, 4.676218837063681], [9.0, 2.3868279], [9.0, 0.0], [9.0, -2.3868279], [8.051703224294176, -4.676218837063681], [6.3639610306789285, -6.3639610306789285], [4.676218837063681, -8.051703224294176], [2.3868279, -9.0], [0.0, -9.0], [-2.3868279, -9.0], [-4.676218837063681, -8.051703224294176], [-6.3639610306789285, -6.3639610306789285], [-8.051703224294176, -4.676218837063681], [-9.0, -2.3868279], [-9.0, 0.0], [-9.0, 2.3868279], [-8.051703224294176, 4.676218837063681], [-6.3639610306789285, 6.3639610306789285], [-4.676218837063681, 8.051703224294176], [-2.3868279, 9.0], [0.0, 9.0]], [\"M\", \"C\", \"C\", \"C\", \"C\", \"C\", \"C\", \"C\", \"C\", \"Z\"]], \"yindex\": 2, \"data\": \"data06\", \"facecolor\": \"#D95F02\"}, {\"alpha\": 1, \"edgecolor\": \"none\", \"id\": \"el15746140630853958624pts\", \"zorder\": 1000002.0, \"xindex\": 0, \"coordinates\": \"axes\", \"edgewidth\": 0.5, \"markerpath\": [[[0.0, 9.0], [2.3868279, 9.0], [4.676218837063681, 8.051703224294176], [6.3639610306789285, 6.3639610306789285], [8.051703224294176, 4.676218837063681], [9.0, 2.3868279], [9.0, 0.0], [9.0, -2.3868279], [8.051703224294176, -4.676218837063681], [6.3639610306789285, -6.3639610306789285], [4.676218837063681, -8.051703224294176], [2.3868279, -9.0], [0.0, -9.0], [-2.3868279, -9.0], [-4.676218837063681, -8.051703224294176], [-6.3639610306789285, -6.3639610306789285], [-8.051703224294176, -4.676218837063681], [-9.0, -2.3868279], [-9.0, 0.0], [-9.0, 2.3868279], [-8.051703224294176, 4.676218837063681], [-6.3639610306789285, 6.3639610306789285], [-4.676218837063681, 8.051703224294176], [-2.3868279, 9.0], [0.0, 9.0]], [\"M\", \"C\", \"C\", \"C\", \"C\", \"C\", \"C\", \"C\", \"C\", \"Z\"]], \"yindex\": 3, \"data\": \"data06\", \"facecolor\": \"#7570B3\"}, {\"alpha\": 1, \"edgecolor\": \"none\", \"id\": \"el15746140630853956888pts\", \"zorder\": 1000002.0, \"xindex\": 0, \"coordinates\": \"axes\", \"edgewidth\": 0.5, \"markerpath\": [[[0.0, 9.0], [2.3868279, 9.0], [4.676218837063681, 8.051703224294176], [6.3639610306789285, 6.3639610306789285], [8.051703224294176, 4.676218837063681], [9.0, 2.3868279], [9.0, 0.0], [9.0, -2.3868279], [8.051703224294176, -4.676218837063681], [6.3639610306789285, -6.3639610306789285], [4.676218837063681, -8.051703224294176], [2.3868279, -9.0], [0.0, -9.0], [-2.3868279, -9.0], [-4.676218837063681, -8.051703224294176], [-6.3639610306789285, -6.3639610306789285], [-8.051703224294176, -4.676218837063681], [-9.0, -2.3868279], [-9.0, 0.0], [-9.0, 2.3868279], [-8.051703224294176, 4.676218837063681], [-6.3639610306789285, 6.3639610306789285], [-4.676218837063681, 8.051703224294176], [-2.3868279, 9.0], [0.0, 9.0]], [\"M\", \"C\", \"C\", \"C\", \"C\", \"C\", \"C\", \"C\", \"C\", \"Z\"]], \"yindex\": 4, \"data\": \"data06\", \"facecolor\": \"#E7298A\"}, {\"alpha\": 1, \"edgecolor\": \"none\", \"id\": \"el15746140630853918000pts\", \"zorder\": 1000002.0, \"xindex\": 0, \"coordinates\": \"axes\", \"edgewidth\": 0.5, \"markerpath\": [[[0.0, 9.0], [2.3868279, 9.0], [4.676218837063681, 8.051703224294176], [6.3639610306789285, 6.3639610306789285], [8.051703224294176, 4.676218837063681], [9.0, 2.3868279], [9.0, 0.0], [9.0, -2.3868279], [8.051703224294176, -4.676218837063681], [6.3639610306789285, -6.3639610306789285], [4.676218837063681, -8.051703224294176], [2.3868279, -9.0], [0.0, -9.0], [-2.3868279, -9.0], [-4.676218837063681, -8.051703224294176], [-6.3639610306789285, -6.3639610306789285], [-8.051703224294176, -4.676218837063681], [-9.0, -2.3868279], [-9.0, 0.0], [-9.0, 2.3868279], [-8.051703224294176, 4.676218837063681], [-6.3639610306789285, 6.3639610306789285], [-4.676218837063681, 8.051703224294176], [-2.3868279, 9.0], [0.0, 9.0]], [\"M\", \"C\", \"C\", \"C\", \"C\", \"C\", \"C\", \"C\", \"C\", \"Z\"]], \"yindex\": 5, \"data\": \"data06\", \"facecolor\": \"#66A61E\"}], \"ydomain\": [-0.7081377832177825, 0.6939033427606786], \"collections\": [], \"images\": [], \"id\": \"el15746140630883203784\", \"sharex\": [], \"bbox\": [0.125, 0.125, 0.775, 0.775], \"paths\": [{\"alpha\": 1, \"edgecolor\": \"#000000\", \"zorder\": 1000001.0, \"coordinates\": \"axes\", \"edgewidth\": 1.0, \"pathcodes\": [\"M\", \"L\", \"L\", \"L\", \"Z\"], \"data\": \"data07\", \"dasharray\": \"10,0\", \"id\": \"el15746140630881319344\", \"xindex\": 0, \"yindex\": 1, \"facecolor\": \"#FFFFFF\"}], \"zoomable\": true, \"lines\": [], \"axesbg\": \"#FFFFFF\", \"sharey\": [], \"yscale\": \"linear\", \"texts\": [{\"fontsize\": 10.0, \"rotation\": -0.0, \"coordinates\": \"axes\", \"position\": [-0.16129032258064516, -0.16129032258064518], \"v_baseline\": \"auto\", \"h_anchor\": \"start\", \"id\": \"el15746140630853915144\", \"alpha\": 1, \"text\": \"None\", \"color\": \"#000000\", \"zorder\": 1000003.0}, {\"fontsize\": 12.0, \"rotation\": -0.0, \"coordinates\": \"axes\", \"position\": [0.7776857718894011, 0.9408602150537633], \"v_baseline\": \"auto\", \"h_anchor\": \"start\", \"id\": \"el15746140630882630792\", \"alpha\": 1, \"text\": \"Family, home, war\", \"color\": \"#000000\", \"zorder\": 1000003.0}, {\"fontsize\": 12.0, \"rotation\": -0.0, \"coordinates\": \"axes\", \"position\": [0.7776857718894011, 0.8879928315412184], \"v_baseline\": \"auto\", \"h_anchor\": \"start\", \"id\": \"el15746140630853938816\", \"alpha\": 1, \"text\": \"Police, killed, murders\", \"color\": \"#000000\", \"zorder\": 1000003.0}, {\"fontsize\": 12.0, \"rotation\": -0.0, \"coordinates\": \"axes\", \"position\": [0.7776857718894011, 0.8351254480286738], \"v_baseline\": \"auto\", \"h_anchor\": \"start\", \"id\": \"el15746140630853959408\", \"alpha\": 1, \"text\": \"Father, New York, brothers\", \"color\": \"#000000\", \"zorder\": 1000003.0}, {\"fontsize\": 12.0, \"rotation\": -0.0, \"coordinates\": \"axes\", \"position\": [0.7776857718894011, 0.782258064516129], \"v_baseline\": \"auto\", \"h_anchor\": \"start\", \"id\": \"el15746140630853939040\", \"alpha\": 1, \"text\": \"Dance, singing, love\", \"color\": \"#000000\", \"zorder\": 1000003.0}, {\"fontsize\": 12.0, \"rotation\": -0.0, \"coordinates\": \"axes\", \"position\": [0.7776857718894011, 0.7293906810035842], \"v_baseline\": \"auto\", \"h_anchor\": \"start\", \"id\": \"el15746140630881421632\", \"alpha\": 1, \"text\": \"Killed, soldiers, captain\", \"color\": \"#000000\", \"zorder\": 1000003.0}], \"xlim\": [-0.7022243585349199, 0.7098185051203891], \"xscale\": \"linear\", \"ylim\": [-0.7081377832177825, 0.6939033427606786]}], \"plugins\": [{\"type\": \"reset\"}, {\"button\": true, \"type\": \"zoom\", \"enabled\": false}, {\"button\": true, \"type\": \"boxzoom\", \"enabled\": false}, {\"voffset\": 10, \"id\": \"el15746140630881319120pts\", \"hoffset\": 10, \"labels\": [\"The Godfather\", \"The Shawshank Redemption\", \"Schindler's List\", \"Casablanca\", \"Gone with the Wind\", \"The Wizard of Oz\", \"Titanic\", \"The Godfather: Part II\", \"The Sound of Music\", \"E.T. the Extra-Terrestrial\", \"The Silence of the Lambs\", \"Amadeus\", \"The Best Years of Our Lives\", \"Ben-Hur\", \"Doctor Zhivago\", \"High Noon\", \"The Pianist\", \"Goodfellas\", \"Giant\", \"The Grapes of Wrath\", \"Network\", \"A Clockwork Orange\", \"Yankee Doodle Dandy\"], \"type\": \"htmltooltip\"}, {\"type\": \"toptoolbar\"}, {\"voffset\": 10, \"id\": \"el15746140630854021976pts\", \"hoffset\": 10, \"labels\": [\"One Flew Over the Cuckoo's Nest\", \"Lawrence of Arabia\", \"Star Wars\", \"2001: A Space Odyssey\", \"The Bridge on the River Kwai\", \"Dr. Strangelove or: How I Learned to Stop Worrying and Love the Bomb\", \"Apocalypse Now\", \"The Lord of the Rings: The Return of the King\", \"Gladiator\", \"From Here to Eternity\", \"Saving Private Ryan\", \"Unforgiven\", \"Raiders of the Lost Ark\", \"Patton\", \"Jaws\", \"Braveheart\", \"Butch Cassidy and the Sundance Kid\", \"The Treasure of the Sierra Madre\", \"Platoon\", \"Dances with Wolves\", \"The Deer Hunter\", \"All Quiet on the Western Front\", \"Shane\", \"The African Queen\", \"Stagecoach\", \"Mutiny on the Bounty\"], \"type\": \"htmltooltip\"}, {\"type\": \"toptoolbar\"}, {\"voffset\": 10, \"id\": \"el15746140630882709120pts\", \"hoffset\": 10, \"labels\": [\"Sunset Blvd.\", \"The French Connection\", \"It Happened One Night\", \"Fargo\", \"The Green Mile\", \"Close Encounters of the Third Kind\", \"American Graffiti\", \"Pulp Fiction\", \"Rebel Without a Cause\", \"North by Northwest\"], \"type\": \"htmltooltip\"}, {\"type\": \"toptoolbar\"}, {\"voffset\": 10, \"id\": \"el15746140630872450944pts\", \"hoffset\": 10, \"labels\": [\"Raging Bull\", \"Citizen Kane\", \"Psycho\", \"Vertigo\", \"On the Waterfront\", \"Forrest Gump\", \"West Side Story\", \"Chinatown\", \"Singin' in the Rain\", \"Some Like It Hot\", \"12 Angry Men\", \"Gandhi\", \"Rocky\", \"A Streetcar Named Desire\", \"To Kill a Mockingbird\", \"An American in Paris\", \"My Fair Lady\", \"The Good, the Bad and the Ugly\", \"The Apartment\", \"The Exorcist\", \"City Lights\", \"Midnight Cowboy\", \"Mr. Smith Goes to Washington\", \"Rain Man\", \"Annie Hall\", \"Out of Africa\", \"Good Will Hunting\", \"Terms of Endearment\", \"Tootsie\", \"Nashville\", \"The Graduate\", \"The Maltese Falcon\", \"Taxi Driver\", \"Wuthering Heights\", \"Double Indemnity\", \"Rear Window\", \"The Third Man\"], \"type\": \"htmltooltip\"}, {\"type\": \"toptoolbar\"}, {\"voffset\": 10, \"id\": \"el15746140630883147392pts\", \"hoffset\": 10, \"labels\": [\"It's a Wonderful Life\", \"The Philadelphia Story\", \"The King's Speech\", \"A Place in the Sun\"], \"type\": \"htmltooltip\"}, {\"type\": \"toptoolbar\"}], \"id\": \"el15746140630875745304\", \"data\": {\"data01\": [[0.1842639196948847, -0.011698423371132152], [0.4420542765535735, -0.2786832170112155], [-0.031704356749774315, -0.45668597931827065], [-0.258417253284027, -0.2652260221436388], [0.05839869253028608, -0.04611702740890181], [-0.43453170540719366, -0.29660613828269616], [0.6037636767904756, -0.34565548304904037], [0.07160786733633107, 0.13140355942960508], [0.5525828106324346, 0.49022359259865306], [-0.021733999952444738, -0.042720767809052894], [0.5177717200812387, -0.2536540302931725], [0.41546634085583234, 0.4069688257035027], [0.31816539769255964, 0.08775294364571601], [0.34423528399454734, -0.13020602386402164], [0.16075133608675513, -0.11942129559742261], [-0.6622608812616565, -0.20511076586859073], [0.15640009437168323, -0.21297986976225988], [0.20867878615651633, 0.06434284629527791], [0.4819436407032279, 0.008023079596038808], [0.47591168977268594, -0.4358076517203701], [0.6688326628289069, -0.08783277088604606], [-0.18745722681366755, 0.15085562479813835], [0.6272943977307884, 0.3595046830327616]], \"data04\": [[-0.1322921736434466, 0.5745109123612222], [0.011870129083831693, 0.4624853574054067], [-0.22762167926505814, 0.06857695283204854], [-0.3528182922735947, 0.12701319394680938], [-0.05335737382032607, 0.12312849271489654], [0.3547936331378034, 0.008290710365072116], [-0.48428094266733496, 0.17299840565537866], [-0.5522759511779272, -0.22475587495166363], [-0.34160570270008384, 0.6344808506574434], [-0.17104806655713084, 0.23239528561346245], [0.5306515354145532, 0.1294497101088675], [0.43342020294859956, 0.14567841987345992], [-0.28462977611146373, 0.2756306109086089], [0.3432853030249946, 0.246006709745588], [0.21420712139192538, 0.2183286793356958], [-0.2037332777288499, 0.5597834903655693], [-0.19659297207639648, 0.3957261088660333], [-0.06989475411532176, 0.569705539011805], [-0.5962637921066579, 0.19021678812015821], [0.18341909271393095, 0.3029016910056736], [0.5656255199388547, 0.34237017859020485], [-0.30315863958813255, 0.4758732388739999], [0.6448617791922985, -0.15574388957552057], [-0.18148082579748032, 0.4766013154583243], [-0.02882418924007409, 0.654222933534873], [0.12096767900038803, 0.4812637440714905], [0.12587206202926585, 0.4177788692597201], [0.220078542503727, 0.4800518402232757], [-0.02227777502359704, 0.33877773486584417], [0.06195871862089496, 0.6100873144577459], [-0.3243215990367419, 0.3312982383148728], [-0.33941629334547235, -0.15117828334141054], [-0.552165502285474, 0.028845815397586044], [0.18464212048810344, 0.5791967329426072], [-0.46600115683767945, -0.09932904605351045], [-0.581074334873682, 0.10578299005618616], [-0.2083933734933721, -0.058574052865909366]], \"data07\": [[0.7285306259600616, 0.7069892473118278], [0.9923195084485409, 0.7069892473118278], [0.9923195084485409, 0.9820788530465947], [0.7285306259600616, 0.9820788530465947]], \"data06\": [[0.7500360023041476, 0.9534050179211467, 0.9005376344086019, 0.8476702508960573, 0.7948028673835125, 0.7419354838709676]], \"data03\": [[-0.4301012825198393, 0.2854141396127525], [-0.4599154070542705, 0.007654714663857465], [-0.4208318237068076, 0.46280088153288335], [-0.34166307376918104, 0.03630579254966726], [-0.5674021212107925, -0.35376317678446884], [0.27514357721327537, -0.29426793132752815], [-0.6012495190001138, -0.04195024831025676], [-0.3415780134445779, -0.06842764695433033], [-0.5791581543162552, 0.29025774220332035], [-0.1995916680206842, 0.0064165474101231254]], \"data02\": [[0.05785577310053593, 0.25692858718863093], [-0.25091001948814, -0.5748364190982864], [0.19843470887949946, -0.3892802726823152], [0.35007455070415944, -0.33949066390038307], [-0.08237740002772587, -0.5784292658683906], [-0.016290419113439557, -0.6355726160881316], [0.019734051171252757, -0.6360367105738866], [0.2438433076495576, -0.5041202087221548], [0.08014906600330879, -0.4799020818182777], [-0.15255045823070493, -0.3408753845517839], [-0.020081825875353215, -0.35718794655762914], [-0.15297793113902683, -0.30140577453193457], [-0.22758349812136536, -0.45047495075469096], [0.12888676337410168, -0.668457373991977], [0.07966541763901362, -0.3889609926197951], [0.4928761771808502, -0.1411107487904908], [-0.34784460975136144, -0.3258414653409745], [-0.3608951277095703, -0.48195991352901957], [-0.11265730034344344, -0.4993121670686306], [0.1827109977144634, -0.5787464521608237], [-0.08782998361951912, -0.2007423698086272], [-0.18336929431804472, -0.5551182889814734], [-0.5516219950653584, 0.3348728982305264], [-0.45337586370615407, -0.44518883037029683], [0.3244183710745198, -0.45650361180937427], [0.33505791724913486, -0.6458208127368436]], \"data05\": [[0.4192021972350015, 0.5854520485169515], [0.6698550278471257, 0.11893281852637148], [0.40204400902943815, 0.498701667453783], [0.6677627104186503, 0.26949909097813]]}, \"width\": 1120.0});\n",
       "   }(mpld3);\n",
       "}else if(typeof define === \"function\" && define.amd){\n",
       "   // require.js is available: use it to load d3/mpld3\n",
       "   require.config({paths: {d3: \"https://mpld3.github.io/js/d3.v3.min\"}});\n",
       "   require([\"d3\"], function(d3){\n",
       "      window.d3 = d3;\n",
       "      mpld3_load_lib(\"https://mpld3.github.io/js/mpld3.v0.2.js\", function(){\n",
       "         \n",
       "    mpld3.register_plugin(\"htmltooltip\", HtmlTooltipPlugin);\n",
       "    HtmlTooltipPlugin.prototype = Object.create(mpld3.Plugin.prototype);\n",
       "    HtmlTooltipPlugin.prototype.constructor = HtmlTooltipPlugin;\n",
       "    HtmlTooltipPlugin.prototype.requiredProps = [\"id\"];\n",
       "    HtmlTooltipPlugin.prototype.defaultProps = {labels:null, hoffset:0, voffset:10};\n",
       "    function HtmlTooltipPlugin(fig, props){\n",
       "        mpld3.Plugin.call(this, fig, props);\n",
       "    };\n",
       "\n",
       "    HtmlTooltipPlugin.prototype.draw = function(){\n",
       "       var obj = mpld3.get_element(this.props.id);\n",
       "       var labels = this.props.labels;\n",
       "       var tooltip = d3.select(\"body\").append(\"div\")\n",
       "                    .attr(\"class\", \"mpld3-tooltip\")\n",
       "                    .style(\"position\", \"absolute\")\n",
       "                    .style(\"z-index\", \"10\")\n",
       "                    .style(\"visibility\", \"hidden\");\n",
       "\n",
       "       obj.elements()\n",
       "           .on(\"mouseover\", function(d, i){\n",
       "                              tooltip.html(labels[i])\n",
       "                                     .style(\"visibility\", \"visible\");})\n",
       "           .on(\"mousemove\", function(d, i){\n",
       "                    tooltip\n",
       "                      .style(\"top\", d3.event.pageY + this.props.voffset + \"px\")\n",
       "                      .style(\"left\",d3.event.pageX + this.props.hoffset + \"px\");\n",
       "                 }.bind(this))\n",
       "           .on(\"mouseout\",  function(d, i){\n",
       "                           tooltip.style(\"visibility\", \"hidden\");});\n",
       "    };\n",
       "    \n",
       "    mpld3.register_plugin(\"toptoolbar\", TopToolbar);\n",
       "    TopToolbar.prototype = Object.create(mpld3.Plugin.prototype);\n",
       "    TopToolbar.prototype.constructor = TopToolbar;\n",
       "    function TopToolbar(fig, props){\n",
       "        mpld3.Plugin.call(this, fig, props);\n",
       "    };\n",
       "\n",
       "    TopToolbar.prototype.draw = function(){\n",
       "      // the toolbar svg doesn't exist\n",
       "      // yet, so first draw it\n",
       "      this.fig.toolbar.draw();\n",
       "\n",
       "      // then change the y position to be\n",
       "      // at the top of the figure\n",
       "      this.fig.toolbar.toolbar.attr(\"x\", 150);\n",
       "      this.fig.toolbar.toolbar.attr(\"y\", 400);\n",
       "\n",
       "      // then remove the draw function,\n",
       "      // so that it is not called again\n",
       "      this.fig.toolbar.draw = function() {}\n",
       "    }\n",
       "    \n",
       "    mpld3.register_plugin(\"htmltooltip\", HtmlTooltipPlugin);\n",
       "    HtmlTooltipPlugin.prototype = Object.create(mpld3.Plugin.prototype);\n",
       "    HtmlTooltipPlugin.prototype.constructor = HtmlTooltipPlugin;\n",
       "    HtmlTooltipPlugin.prototype.requiredProps = [\"id\"];\n",
       "    HtmlTooltipPlugin.prototype.defaultProps = {labels:null, hoffset:0, voffset:10};\n",
       "    function HtmlTooltipPlugin(fig, props){\n",
       "        mpld3.Plugin.call(this, fig, props);\n",
       "    };\n",
       "\n",
       "    HtmlTooltipPlugin.prototype.draw = function(){\n",
       "       var obj = mpld3.get_element(this.props.id);\n",
       "       var labels = this.props.labels;\n",
       "       var tooltip = d3.select(\"body\").append(\"div\")\n",
       "                    .attr(\"class\", \"mpld3-tooltip\")\n",
       "                    .style(\"position\", \"absolute\")\n",
       "                    .style(\"z-index\", \"10\")\n",
       "                    .style(\"visibility\", \"hidden\");\n",
       "\n",
       "       obj.elements()\n",
       "           .on(\"mouseover\", function(d, i){\n",
       "                              tooltip.html(labels[i])\n",
       "                                     .style(\"visibility\", \"visible\");})\n",
       "           .on(\"mousemove\", function(d, i){\n",
       "                    tooltip\n",
       "                      .style(\"top\", d3.event.pageY + this.props.voffset + \"px\")\n",
       "                      .style(\"left\",d3.event.pageX + this.props.hoffset + \"px\");\n",
       "                 }.bind(this))\n",
       "           .on(\"mouseout\",  function(d, i){\n",
       "                           tooltip.style(\"visibility\", \"hidden\");});\n",
       "    };\n",
       "    \n",
       "    mpld3.register_plugin(\"toptoolbar\", TopToolbar);\n",
       "    TopToolbar.prototype = Object.create(mpld3.Plugin.prototype);\n",
       "    TopToolbar.prototype.constructor = TopToolbar;\n",
       "    function TopToolbar(fig, props){\n",
       "        mpld3.Plugin.call(this, fig, props);\n",
       "    };\n",
       "\n",
       "    TopToolbar.prototype.draw = function(){\n",
       "      // the toolbar svg doesn't exist\n",
       "      // yet, so first draw it\n",
       "      this.fig.toolbar.draw();\n",
       "\n",
       "      // then change the y position to be\n",
       "      // at the top of the figure\n",
       "      this.fig.toolbar.toolbar.attr(\"x\", 150);\n",
       "      this.fig.toolbar.toolbar.attr(\"y\", 400);\n",
       "\n",
       "      // then remove the draw function,\n",
       "      // so that it is not called again\n",
       "      this.fig.toolbar.draw = function() {}\n",
       "    }\n",
       "    \n",
       "    mpld3.register_plugin(\"htmltooltip\", HtmlTooltipPlugin);\n",
       "    HtmlTooltipPlugin.prototype = Object.create(mpld3.Plugin.prototype);\n",
       "    HtmlTooltipPlugin.prototype.constructor = HtmlTooltipPlugin;\n",
       "    HtmlTooltipPlugin.prototype.requiredProps = [\"id\"];\n",
       "    HtmlTooltipPlugin.prototype.defaultProps = {labels:null, hoffset:0, voffset:10};\n",
       "    function HtmlTooltipPlugin(fig, props){\n",
       "        mpld3.Plugin.call(this, fig, props);\n",
       "    };\n",
       "\n",
       "    HtmlTooltipPlugin.prototype.draw = function(){\n",
       "       var obj = mpld3.get_element(this.props.id);\n",
       "       var labels = this.props.labels;\n",
       "       var tooltip = d3.select(\"body\").append(\"div\")\n",
       "                    .attr(\"class\", \"mpld3-tooltip\")\n",
       "                    .style(\"position\", \"absolute\")\n",
       "                    .style(\"z-index\", \"10\")\n",
       "                    .style(\"visibility\", \"hidden\");\n",
       "\n",
       "       obj.elements()\n",
       "           .on(\"mouseover\", function(d, i){\n",
       "                              tooltip.html(labels[i])\n",
       "                                     .style(\"visibility\", \"visible\");})\n",
       "           .on(\"mousemove\", function(d, i){\n",
       "                    tooltip\n",
       "                      .style(\"top\", d3.event.pageY + this.props.voffset + \"px\")\n",
       "                      .style(\"left\",d3.event.pageX + this.props.hoffset + \"px\");\n",
       "                 }.bind(this))\n",
       "           .on(\"mouseout\",  function(d, i){\n",
       "                           tooltip.style(\"visibility\", \"hidden\");});\n",
       "    };\n",
       "    \n",
       "    mpld3.register_plugin(\"toptoolbar\", TopToolbar);\n",
       "    TopToolbar.prototype = Object.create(mpld3.Plugin.prototype);\n",
       "    TopToolbar.prototype.constructor = TopToolbar;\n",
       "    function TopToolbar(fig, props){\n",
       "        mpld3.Plugin.call(this, fig, props);\n",
       "    };\n",
       "\n",
       "    TopToolbar.prototype.draw = function(){\n",
       "      // the toolbar svg doesn't exist\n",
       "      // yet, so first draw it\n",
       "      this.fig.toolbar.draw();\n",
       "\n",
       "      // then change the y position to be\n",
       "      // at the top of the figure\n",
       "      this.fig.toolbar.toolbar.attr(\"x\", 150);\n",
       "      this.fig.toolbar.toolbar.attr(\"y\", 400);\n",
       "\n",
       "      // then remove the draw function,\n",
       "      // so that it is not called again\n",
       "      this.fig.toolbar.draw = function() {}\n",
       "    }\n",
       "    \n",
       "    mpld3.register_plugin(\"htmltooltip\", HtmlTooltipPlugin);\n",
       "    HtmlTooltipPlugin.prototype = Object.create(mpld3.Plugin.prototype);\n",
       "    HtmlTooltipPlugin.prototype.constructor = HtmlTooltipPlugin;\n",
       "    HtmlTooltipPlugin.prototype.requiredProps = [\"id\"];\n",
       "    HtmlTooltipPlugin.prototype.defaultProps = {labels:null, hoffset:0, voffset:10};\n",
       "    function HtmlTooltipPlugin(fig, props){\n",
       "        mpld3.Plugin.call(this, fig, props);\n",
       "    };\n",
       "\n",
       "    HtmlTooltipPlugin.prototype.draw = function(){\n",
       "       var obj = mpld3.get_element(this.props.id);\n",
       "       var labels = this.props.labels;\n",
       "       var tooltip = d3.select(\"body\").append(\"div\")\n",
       "                    .attr(\"class\", \"mpld3-tooltip\")\n",
       "                    .style(\"position\", \"absolute\")\n",
       "                    .style(\"z-index\", \"10\")\n",
       "                    .style(\"visibility\", \"hidden\");\n",
       "\n",
       "       obj.elements()\n",
       "           .on(\"mouseover\", function(d, i){\n",
       "                              tooltip.html(labels[i])\n",
       "                                     .style(\"visibility\", \"visible\");})\n",
       "           .on(\"mousemove\", function(d, i){\n",
       "                    tooltip\n",
       "                      .style(\"top\", d3.event.pageY + this.props.voffset + \"px\")\n",
       "                      .style(\"left\",d3.event.pageX + this.props.hoffset + \"px\");\n",
       "                 }.bind(this))\n",
       "           .on(\"mouseout\",  function(d, i){\n",
       "                           tooltip.style(\"visibility\", \"hidden\");});\n",
       "    };\n",
       "    \n",
       "    mpld3.register_plugin(\"toptoolbar\", TopToolbar);\n",
       "    TopToolbar.prototype = Object.create(mpld3.Plugin.prototype);\n",
       "    TopToolbar.prototype.constructor = TopToolbar;\n",
       "    function TopToolbar(fig, props){\n",
       "        mpld3.Plugin.call(this, fig, props);\n",
       "    };\n",
       "\n",
       "    TopToolbar.prototype.draw = function(){\n",
       "      // the toolbar svg doesn't exist\n",
       "      // yet, so first draw it\n",
       "      this.fig.toolbar.draw();\n",
       "\n",
       "      // then change the y position to be\n",
       "      // at the top of the figure\n",
       "      this.fig.toolbar.toolbar.attr(\"x\", 150);\n",
       "      this.fig.toolbar.toolbar.attr(\"y\", 400);\n",
       "\n",
       "      // then remove the draw function,\n",
       "      // so that it is not called again\n",
       "      this.fig.toolbar.draw = function() {}\n",
       "    }\n",
       "    \n",
       "    mpld3.register_plugin(\"htmltooltip\", HtmlTooltipPlugin);\n",
       "    HtmlTooltipPlugin.prototype = Object.create(mpld3.Plugin.prototype);\n",
       "    HtmlTooltipPlugin.prototype.constructor = HtmlTooltipPlugin;\n",
       "    HtmlTooltipPlugin.prototype.requiredProps = [\"id\"];\n",
       "    HtmlTooltipPlugin.prototype.defaultProps = {labels:null, hoffset:0, voffset:10};\n",
       "    function HtmlTooltipPlugin(fig, props){\n",
       "        mpld3.Plugin.call(this, fig, props);\n",
       "    };\n",
       "\n",
       "    HtmlTooltipPlugin.prototype.draw = function(){\n",
       "       var obj = mpld3.get_element(this.props.id);\n",
       "       var labels = this.props.labels;\n",
       "       var tooltip = d3.select(\"body\").append(\"div\")\n",
       "                    .attr(\"class\", \"mpld3-tooltip\")\n",
       "                    .style(\"position\", \"absolute\")\n",
       "                    .style(\"z-index\", \"10\")\n",
       "                    .style(\"visibility\", \"hidden\");\n",
       "\n",
       "       obj.elements()\n",
       "           .on(\"mouseover\", function(d, i){\n",
       "                              tooltip.html(labels[i])\n",
       "                                     .style(\"visibility\", \"visible\");})\n",
       "           .on(\"mousemove\", function(d, i){\n",
       "                    tooltip\n",
       "                      .style(\"top\", d3.event.pageY + this.props.voffset + \"px\")\n",
       "                      .style(\"left\",d3.event.pageX + this.props.hoffset + \"px\");\n",
       "                 }.bind(this))\n",
       "           .on(\"mouseout\",  function(d, i){\n",
       "                           tooltip.style(\"visibility\", \"hidden\");});\n",
       "    };\n",
       "    \n",
       "    mpld3.register_plugin(\"toptoolbar\", TopToolbar);\n",
       "    TopToolbar.prototype = Object.create(mpld3.Plugin.prototype);\n",
       "    TopToolbar.prototype.constructor = TopToolbar;\n",
       "    function TopToolbar(fig, props){\n",
       "        mpld3.Plugin.call(this, fig, props);\n",
       "    };\n",
       "\n",
       "    TopToolbar.prototype.draw = function(){\n",
       "      // the toolbar svg doesn't exist\n",
       "      // yet, so first draw it\n",
       "      this.fig.toolbar.draw();\n",
       "\n",
       "      // then change the y position to be\n",
       "      // at the top of the figure\n",
       "      this.fig.toolbar.toolbar.attr(\"x\", 150);\n",
       "      this.fig.toolbar.toolbar.attr(\"y\", 400);\n",
       "\n",
       "      // then remove the draw function,\n",
       "      // so that it is not called again\n",
       "      this.fig.toolbar.draw = function() {}\n",
       "    }\n",
       "    \n",
       "         mpld3.draw_figure(\"fig_el157461406308757453047487518269\", {\"height\": 480.0, \"axes\": [{\"xdomain\": [-0.7022243585349199, 0.7098185051203891], \"axes\": [{\"tickformat\": \"\", \"fontsize\": null, \"scale\": \"linear\", \"tickvalues\": [], \"position\": \"bottom\", \"grid\": {\"gridOn\": false}, \"nticks\": 0}, {\"tickformat\": \"\", \"fontsize\": null, \"scale\": \"linear\", \"tickvalues\": [], \"position\": \"left\", \"grid\": {\"gridOn\": false}, \"nticks\": 0}], \"axesbgalpha\": null, \"markers\": [{\"alpha\": 1, \"edgecolor\": \"none\", \"id\": \"el15746140630881319120pts\", \"zorder\": 2, \"xindex\": 0, \"coordinates\": \"data\", \"edgewidth\": 0.5, \"markerpath\": [[[0.0, 9.0], [2.3868279, 9.0], [4.676218837063681, 8.051703224294176], [6.3639610306789285, 6.3639610306789285], [8.051703224294176, 4.676218837063681], [9.0, 2.3868279], [9.0, 0.0], [9.0, -2.3868279], [8.051703224294176, -4.676218837063681], [6.3639610306789285, -6.3639610306789285], [4.676218837063681, -8.051703224294176], [2.3868279, -9.0], [0.0, -9.0], [-2.3868279, -9.0], [-4.676218837063681, -8.051703224294176], [-6.3639610306789285, -6.3639610306789285], [-8.051703224294176, -4.676218837063681], [-9.0, -2.3868279], [-9.0, 0.0], [-9.0, 2.3868279], [-8.051703224294176, 4.676218837063681], [-6.3639610306789285, 6.3639610306789285], [-4.676218837063681, 8.051703224294176], [-2.3868279, 9.0], [0.0, 9.0]], [\"M\", \"C\", \"C\", \"C\", \"C\", \"C\", \"C\", \"C\", \"C\", \"Z\"]], \"yindex\": 1, \"data\": \"data01\", \"facecolor\": \"#1B9E77\"}, {\"alpha\": 1, \"edgecolor\": \"none\", \"id\": \"el15746140630854021976pts\", \"zorder\": 2, \"xindex\": 0, \"coordinates\": \"data\", \"edgewidth\": 0.5, \"markerpath\": [[[0.0, 9.0], [2.3868279, 9.0], [4.676218837063681, 8.051703224294176], [6.3639610306789285, 6.3639610306789285], [8.051703224294176, 4.676218837063681], [9.0, 2.3868279], [9.0, 0.0], [9.0, -2.3868279], [8.051703224294176, -4.676218837063681], [6.3639610306789285, -6.3639610306789285], [4.676218837063681, -8.051703224294176], [2.3868279, -9.0], [0.0, -9.0], [-2.3868279, -9.0], [-4.676218837063681, -8.051703224294176], [-6.3639610306789285, -6.3639610306789285], [-8.051703224294176, -4.676218837063681], [-9.0, -2.3868279], [-9.0, 0.0], [-9.0, 2.3868279], [-8.051703224294176, 4.676218837063681], [-6.3639610306789285, 6.3639610306789285], [-4.676218837063681, 8.051703224294176], [-2.3868279, 9.0], [0.0, 9.0]], [\"M\", \"C\", \"C\", \"C\", \"C\", \"C\", \"C\", \"C\", \"C\", \"Z\"]], \"yindex\": 1, \"data\": \"data02\", \"facecolor\": \"#D95F02\"}, {\"alpha\": 1, \"edgecolor\": \"none\", \"id\": \"el15746140630882709120pts\", \"zorder\": 2, \"xindex\": 0, \"coordinates\": \"data\", \"edgewidth\": 0.5, \"markerpath\": [[[0.0, 9.0], [2.3868279, 9.0], [4.676218837063681, 8.051703224294176], [6.3639610306789285, 6.3639610306789285], [8.051703224294176, 4.676218837063681], [9.0, 2.3868279], [9.0, 0.0], [9.0, -2.3868279], [8.051703224294176, -4.676218837063681], [6.3639610306789285, -6.3639610306789285], [4.676218837063681, -8.051703224294176], [2.3868279, -9.0], [0.0, -9.0], [-2.3868279, -9.0], [-4.676218837063681, -8.051703224294176], [-6.3639610306789285, -6.3639610306789285], [-8.051703224294176, -4.676218837063681], [-9.0, -2.3868279], [-9.0, 0.0], [-9.0, 2.3868279], [-8.051703224294176, 4.676218837063681], [-6.3639610306789285, 6.3639610306789285], [-4.676218837063681, 8.051703224294176], [-2.3868279, 9.0], [0.0, 9.0]], [\"M\", \"C\", \"C\", \"C\", \"C\", \"C\", \"C\", \"C\", \"C\", \"Z\"]], \"yindex\": 1, \"data\": \"data03\", \"facecolor\": \"#7570B3\"}, {\"alpha\": 1, \"edgecolor\": \"none\", \"id\": \"el15746140630872450944pts\", \"zorder\": 2, \"xindex\": 0, \"coordinates\": \"data\", \"edgewidth\": 0.5, \"markerpath\": [[[0.0, 9.0], [2.3868279, 9.0], [4.676218837063681, 8.051703224294176], [6.3639610306789285, 6.3639610306789285], [8.051703224294176, 4.676218837063681], [9.0, 2.3868279], [9.0, 0.0], [9.0, -2.3868279], [8.051703224294176, -4.676218837063681], [6.3639610306789285, -6.3639610306789285], [4.676218837063681, -8.051703224294176], [2.3868279, -9.0], [0.0, -9.0], [-2.3868279, -9.0], [-4.676218837063681, -8.051703224294176], [-6.3639610306789285, -6.3639610306789285], [-8.051703224294176, -4.676218837063681], [-9.0, -2.3868279], [-9.0, 0.0], [-9.0, 2.3868279], [-8.051703224294176, 4.676218837063681], [-6.3639610306789285, 6.3639610306789285], [-4.676218837063681, 8.051703224294176], [-2.3868279, 9.0], [0.0, 9.0]], [\"M\", \"C\", \"C\", \"C\", \"C\", \"C\", \"C\", \"C\", \"C\", \"Z\"]], \"yindex\": 1, \"data\": \"data04\", \"facecolor\": \"#E7298A\"}, {\"alpha\": 1, \"edgecolor\": \"none\", \"id\": \"el15746140630883147392pts\", \"zorder\": 2, \"xindex\": 0, \"coordinates\": \"data\", \"edgewidth\": 0.5, \"markerpath\": [[[0.0, 9.0], [2.3868279, 9.0], [4.676218837063681, 8.051703224294176], [6.3639610306789285, 6.3639610306789285], [8.051703224294176, 4.676218837063681], [9.0, 2.3868279], [9.0, 0.0], [9.0, -2.3868279], [8.051703224294176, -4.676218837063681], [6.3639610306789285, -6.3639610306789285], [4.676218837063681, -8.051703224294176], [2.3868279, -9.0], [0.0, -9.0], [-2.3868279, -9.0], [-4.676218837063681, -8.051703224294176], [-6.3639610306789285, -6.3639610306789285], [-8.051703224294176, -4.676218837063681], [-9.0, -2.3868279], [-9.0, 0.0], [-9.0, 2.3868279], [-8.051703224294176, 4.676218837063681], [-6.3639610306789285, 6.3639610306789285], [-4.676218837063681, 8.051703224294176], [-2.3868279, 9.0], [0.0, 9.0]], [\"M\", \"C\", \"C\", \"C\", \"C\", \"C\", \"C\", \"C\", \"C\", \"Z\"]], \"yindex\": 1, \"data\": \"data05\", \"facecolor\": \"#66A61E\"}, {\"alpha\": 1, \"edgecolor\": \"none\", \"id\": \"el15746140630882631576pts\", \"zorder\": 1000002.0, \"xindex\": 0, \"coordinates\": \"axes\", \"edgewidth\": 0.5, \"markerpath\": [[[0.0, 9.0], [2.3868279, 9.0], [4.676218837063681, 8.051703224294176], [6.3639610306789285, 6.3639610306789285], [8.051703224294176, 4.676218837063681], [9.0, 2.3868279], [9.0, 0.0], [9.0, -2.3868279], [8.051703224294176, -4.676218837063681], [6.3639610306789285, -6.3639610306789285], [4.676218837063681, -8.051703224294176], [2.3868279, -9.0], [0.0, -9.0], [-2.3868279, -9.0], [-4.676218837063681, -8.051703224294176], [-6.3639610306789285, -6.3639610306789285], [-8.051703224294176, -4.676218837063681], [-9.0, -2.3868279], [-9.0, 0.0], [-9.0, 2.3868279], [-8.051703224294176, 4.676218837063681], [-6.3639610306789285, 6.3639610306789285], [-4.676218837063681, 8.051703224294176], [-2.3868279, 9.0], [0.0, 9.0]], [\"M\", \"C\", \"C\", \"C\", \"C\", \"C\", \"C\", \"C\", \"C\", \"Z\"]], \"yindex\": 1, \"data\": \"data06\", \"facecolor\": \"#1B9E77\"}, {\"alpha\": 1, \"edgecolor\": \"none\", \"id\": \"el15746140630853937640pts\", \"zorder\": 1000002.0, \"xindex\": 0, \"coordinates\": \"axes\", \"edgewidth\": 0.5, \"markerpath\": [[[0.0, 9.0], [2.3868279, 9.0], [4.676218837063681, 8.051703224294176], [6.3639610306789285, 6.3639610306789285], [8.051703224294176, 4.676218837063681], [9.0, 2.3868279], [9.0, 0.0], [9.0, -2.3868279], [8.051703224294176, -4.676218837063681], [6.3639610306789285, -6.3639610306789285], [4.676218837063681, -8.051703224294176], [2.3868279, -9.0], [0.0, -9.0], [-2.3868279, -9.0], [-4.676218837063681, -8.051703224294176], [-6.3639610306789285, -6.3639610306789285], [-8.051703224294176, -4.676218837063681], [-9.0, -2.3868279], [-9.0, 0.0], [-9.0, 2.3868279], [-8.051703224294176, 4.676218837063681], [-6.3639610306789285, 6.3639610306789285], [-4.676218837063681, 8.051703224294176], [-2.3868279, 9.0], [0.0, 9.0]], [\"M\", \"C\", \"C\", \"C\", \"C\", \"C\", \"C\", \"C\", \"C\", \"Z\"]], \"yindex\": 2, \"data\": \"data06\", \"facecolor\": \"#D95F02\"}, {\"alpha\": 1, \"edgecolor\": \"none\", \"id\": \"el15746140630853958624pts\", \"zorder\": 1000002.0, \"xindex\": 0, \"coordinates\": \"axes\", \"edgewidth\": 0.5, \"markerpath\": [[[0.0, 9.0], [2.3868279, 9.0], [4.676218837063681, 8.051703224294176], [6.3639610306789285, 6.3639610306789285], [8.051703224294176, 4.676218837063681], [9.0, 2.3868279], [9.0, 0.0], [9.0, -2.3868279], [8.051703224294176, -4.676218837063681], [6.3639610306789285, -6.3639610306789285], [4.676218837063681, -8.051703224294176], [2.3868279, -9.0], [0.0, -9.0], [-2.3868279, -9.0], [-4.676218837063681, -8.051703224294176], [-6.3639610306789285, -6.3639610306789285], [-8.051703224294176, -4.676218837063681], [-9.0, -2.3868279], [-9.0, 0.0], [-9.0, 2.3868279], [-8.051703224294176, 4.676218837063681], [-6.3639610306789285, 6.3639610306789285], [-4.676218837063681, 8.051703224294176], [-2.3868279, 9.0], [0.0, 9.0]], [\"M\", \"C\", \"C\", \"C\", \"C\", \"C\", \"C\", \"C\", \"C\", \"Z\"]], \"yindex\": 3, \"data\": \"data06\", \"facecolor\": \"#7570B3\"}, {\"alpha\": 1, \"edgecolor\": \"none\", \"id\": \"el15746140630853956888pts\", \"zorder\": 1000002.0, \"xindex\": 0, \"coordinates\": \"axes\", \"edgewidth\": 0.5, \"markerpath\": [[[0.0, 9.0], [2.3868279, 9.0], [4.676218837063681, 8.051703224294176], [6.3639610306789285, 6.3639610306789285], [8.051703224294176, 4.676218837063681], [9.0, 2.3868279], [9.0, 0.0], [9.0, -2.3868279], [8.051703224294176, -4.676218837063681], [6.3639610306789285, -6.3639610306789285], [4.676218837063681, -8.051703224294176], [2.3868279, -9.0], [0.0, -9.0], [-2.3868279, -9.0], [-4.676218837063681, -8.051703224294176], [-6.3639610306789285, -6.3639610306789285], [-8.051703224294176, -4.676218837063681], [-9.0, -2.3868279], [-9.0, 0.0], [-9.0, 2.3868279], [-8.051703224294176, 4.676218837063681], [-6.3639610306789285, 6.3639610306789285], [-4.676218837063681, 8.051703224294176], [-2.3868279, 9.0], [0.0, 9.0]], [\"M\", \"C\", \"C\", \"C\", \"C\", \"C\", \"C\", \"C\", \"C\", \"Z\"]], \"yindex\": 4, \"data\": \"data06\", \"facecolor\": \"#E7298A\"}, {\"alpha\": 1, \"edgecolor\": \"none\", \"id\": \"el15746140630853918000pts\", \"zorder\": 1000002.0, \"xindex\": 0, \"coordinates\": \"axes\", \"edgewidth\": 0.5, \"markerpath\": [[[0.0, 9.0], [2.3868279, 9.0], [4.676218837063681, 8.051703224294176], [6.3639610306789285, 6.3639610306789285], [8.051703224294176, 4.676218837063681], [9.0, 2.3868279], [9.0, 0.0], [9.0, -2.3868279], [8.051703224294176, -4.676218837063681], [6.3639610306789285, -6.3639610306789285], [4.676218837063681, -8.051703224294176], [2.3868279, -9.0], [0.0, -9.0], [-2.3868279, -9.0], [-4.676218837063681, -8.051703224294176], [-6.3639610306789285, -6.3639610306789285], [-8.051703224294176, -4.676218837063681], [-9.0, -2.3868279], [-9.0, 0.0], [-9.0, 2.3868279], [-8.051703224294176, 4.676218837063681], [-6.3639610306789285, 6.3639610306789285], [-4.676218837063681, 8.051703224294176], [-2.3868279, 9.0], [0.0, 9.0]], [\"M\", \"C\", \"C\", \"C\", \"C\", \"C\", \"C\", \"C\", \"C\", \"Z\"]], \"yindex\": 5, \"data\": \"data06\", \"facecolor\": \"#66A61E\"}], \"ydomain\": [-0.7081377832177825, 0.6939033427606786], \"collections\": [], \"images\": [], \"id\": \"el15746140630883203784\", \"sharex\": [], \"bbox\": [0.125, 0.125, 0.775, 0.775], \"paths\": [{\"alpha\": 1, \"edgecolor\": \"#000000\", \"zorder\": 1000001.0, \"coordinates\": \"axes\", \"edgewidth\": 1.0, \"pathcodes\": [\"M\", \"L\", \"L\", \"L\", \"Z\"], \"data\": \"data07\", \"dasharray\": \"10,0\", \"id\": \"el15746140630881319344\", \"xindex\": 0, \"yindex\": 1, \"facecolor\": \"#FFFFFF\"}], \"zoomable\": true, \"lines\": [], \"axesbg\": \"#FFFFFF\", \"sharey\": [], \"yscale\": \"linear\", \"texts\": [{\"fontsize\": 10.0, \"rotation\": -0.0, \"coordinates\": \"axes\", \"position\": [-0.16129032258064516, -0.16129032258064518], \"v_baseline\": \"auto\", \"h_anchor\": \"start\", \"id\": \"el15746140630853915144\", \"alpha\": 1, \"text\": \"None\", \"color\": \"#000000\", \"zorder\": 1000003.0}, {\"fontsize\": 12.0, \"rotation\": -0.0, \"coordinates\": \"axes\", \"position\": [0.7776857718894011, 0.9408602150537633], \"v_baseline\": \"auto\", \"h_anchor\": \"start\", \"id\": \"el15746140630882630792\", \"alpha\": 1, \"text\": \"Family, home, war\", \"color\": \"#000000\", \"zorder\": 1000003.0}, {\"fontsize\": 12.0, \"rotation\": -0.0, \"coordinates\": \"axes\", \"position\": [0.7776857718894011, 0.8879928315412184], \"v_baseline\": \"auto\", \"h_anchor\": \"start\", \"id\": \"el15746140630853938816\", \"alpha\": 1, \"text\": \"Police, killed, murders\", \"color\": \"#000000\", \"zorder\": 1000003.0}, {\"fontsize\": 12.0, \"rotation\": -0.0, \"coordinates\": \"axes\", \"position\": [0.7776857718894011, 0.8351254480286738], \"v_baseline\": \"auto\", \"h_anchor\": \"start\", \"id\": \"el15746140630853959408\", \"alpha\": 1, \"text\": \"Father, New York, brothers\", \"color\": \"#000000\", \"zorder\": 1000003.0}, {\"fontsize\": 12.0, \"rotation\": -0.0, \"coordinates\": \"axes\", \"position\": [0.7776857718894011, 0.782258064516129], \"v_baseline\": \"auto\", \"h_anchor\": \"start\", \"id\": \"el15746140630853939040\", \"alpha\": 1, \"text\": \"Dance, singing, love\", \"color\": \"#000000\", \"zorder\": 1000003.0}, {\"fontsize\": 12.0, \"rotation\": -0.0, \"coordinates\": \"axes\", \"position\": [0.7776857718894011, 0.7293906810035842], \"v_baseline\": \"auto\", \"h_anchor\": \"start\", \"id\": \"el15746140630881421632\", \"alpha\": 1, \"text\": \"Killed, soldiers, captain\", \"color\": \"#000000\", \"zorder\": 1000003.0}], \"xlim\": [-0.7022243585349199, 0.7098185051203891], \"xscale\": \"linear\", \"ylim\": [-0.7081377832177825, 0.6939033427606786]}], \"plugins\": [{\"type\": \"reset\"}, {\"button\": true, \"type\": \"zoom\", \"enabled\": false}, {\"button\": true, \"type\": \"boxzoom\", \"enabled\": false}, {\"voffset\": 10, \"id\": \"el15746140630881319120pts\", \"hoffset\": 10, \"labels\": [\"The Godfather\", \"The Shawshank Redemption\", \"Schindler's List\", \"Casablanca\", \"Gone with the Wind\", \"The Wizard of Oz\", \"Titanic\", \"The Godfather: Part II\", \"The Sound of Music\", \"E.T. the Extra-Terrestrial\", \"The Silence of the Lambs\", \"Amadeus\", \"The Best Years of Our Lives\", \"Ben-Hur\", \"Doctor Zhivago\", \"High Noon\", \"The Pianist\", \"Goodfellas\", \"Giant\", \"The Grapes of Wrath\", \"Network\", \"A Clockwork Orange\", \"Yankee Doodle Dandy\"], \"type\": \"htmltooltip\"}, {\"type\": \"toptoolbar\"}, {\"voffset\": 10, \"id\": \"el15746140630854021976pts\", \"hoffset\": 10, \"labels\": [\"One Flew Over the Cuckoo's Nest\", \"Lawrence of Arabia\", \"Star Wars\", \"2001: A Space Odyssey\", \"The Bridge on the River Kwai\", \"Dr. Strangelove or: How I Learned to Stop Worrying and Love the Bomb\", \"Apocalypse Now\", \"The Lord of the Rings: The Return of the King\", \"Gladiator\", \"From Here to Eternity\", \"Saving Private Ryan\", \"Unforgiven\", \"Raiders of the Lost Ark\", \"Patton\", \"Jaws\", \"Braveheart\", \"Butch Cassidy and the Sundance Kid\", \"The Treasure of the Sierra Madre\", \"Platoon\", \"Dances with Wolves\", \"The Deer Hunter\", \"All Quiet on the Western Front\", \"Shane\", \"The African Queen\", \"Stagecoach\", \"Mutiny on the Bounty\"], \"type\": \"htmltooltip\"}, {\"type\": \"toptoolbar\"}, {\"voffset\": 10, \"id\": \"el15746140630882709120pts\", \"hoffset\": 10, \"labels\": [\"Sunset Blvd.\", \"The French Connection\", \"It Happened One Night\", \"Fargo\", \"The Green Mile\", \"Close Encounters of the Third Kind\", \"American Graffiti\", \"Pulp Fiction\", \"Rebel Without a Cause\", \"North by Northwest\"], \"type\": \"htmltooltip\"}, {\"type\": \"toptoolbar\"}, {\"voffset\": 10, \"id\": \"el15746140630872450944pts\", \"hoffset\": 10, \"labels\": [\"Raging Bull\", \"Citizen Kane\", \"Psycho\", \"Vertigo\", \"On the Waterfront\", \"Forrest Gump\", \"West Side Story\", \"Chinatown\", \"Singin' in the Rain\", \"Some Like It Hot\", \"12 Angry Men\", \"Gandhi\", \"Rocky\", \"A Streetcar Named Desire\", \"To Kill a Mockingbird\", \"An American in Paris\", \"My Fair Lady\", \"The Good, the Bad and the Ugly\", \"The Apartment\", \"The Exorcist\", \"City Lights\", \"Midnight Cowboy\", \"Mr. Smith Goes to Washington\", \"Rain Man\", \"Annie Hall\", \"Out of Africa\", \"Good Will Hunting\", \"Terms of Endearment\", \"Tootsie\", \"Nashville\", \"The Graduate\", \"The Maltese Falcon\", \"Taxi Driver\", \"Wuthering Heights\", \"Double Indemnity\", \"Rear Window\", \"The Third Man\"], \"type\": \"htmltooltip\"}, {\"type\": \"toptoolbar\"}, {\"voffset\": 10, \"id\": \"el15746140630883147392pts\", \"hoffset\": 10, \"labels\": [\"It's a Wonderful Life\", \"The Philadelphia Story\", \"The King's Speech\", \"A Place in the Sun\"], \"type\": \"htmltooltip\"}, {\"type\": \"toptoolbar\"}], \"id\": \"el15746140630875745304\", \"data\": {\"data01\": [[0.1842639196948847, -0.011698423371132152], [0.4420542765535735, -0.2786832170112155], [-0.031704356749774315, -0.45668597931827065], [-0.258417253284027, -0.2652260221436388], [0.05839869253028608, -0.04611702740890181], [-0.43453170540719366, -0.29660613828269616], [0.6037636767904756, -0.34565548304904037], [0.07160786733633107, 0.13140355942960508], [0.5525828106324346, 0.49022359259865306], [-0.021733999952444738, -0.042720767809052894], [0.5177717200812387, -0.2536540302931725], [0.41546634085583234, 0.4069688257035027], [0.31816539769255964, 0.08775294364571601], [0.34423528399454734, -0.13020602386402164], [0.16075133608675513, -0.11942129559742261], [-0.6622608812616565, -0.20511076586859073], [0.15640009437168323, -0.21297986976225988], [0.20867878615651633, 0.06434284629527791], [0.4819436407032279, 0.008023079596038808], [0.47591168977268594, -0.4358076517203701], [0.6688326628289069, -0.08783277088604606], [-0.18745722681366755, 0.15085562479813835], [0.6272943977307884, 0.3595046830327616]], \"data04\": [[-0.1322921736434466, 0.5745109123612222], [0.011870129083831693, 0.4624853574054067], [-0.22762167926505814, 0.06857695283204854], [-0.3528182922735947, 0.12701319394680938], [-0.05335737382032607, 0.12312849271489654], [0.3547936331378034, 0.008290710365072116], [-0.48428094266733496, 0.17299840565537866], [-0.5522759511779272, -0.22475587495166363], [-0.34160570270008384, 0.6344808506574434], [-0.17104806655713084, 0.23239528561346245], [0.5306515354145532, 0.1294497101088675], [0.43342020294859956, 0.14567841987345992], [-0.28462977611146373, 0.2756306109086089], [0.3432853030249946, 0.246006709745588], [0.21420712139192538, 0.2183286793356958], [-0.2037332777288499, 0.5597834903655693], [-0.19659297207639648, 0.3957261088660333], [-0.06989475411532176, 0.569705539011805], [-0.5962637921066579, 0.19021678812015821], [0.18341909271393095, 0.3029016910056736], [0.5656255199388547, 0.34237017859020485], [-0.30315863958813255, 0.4758732388739999], [0.6448617791922985, -0.15574388957552057], [-0.18148082579748032, 0.4766013154583243], [-0.02882418924007409, 0.654222933534873], [0.12096767900038803, 0.4812637440714905], [0.12587206202926585, 0.4177788692597201], [0.220078542503727, 0.4800518402232757], [-0.02227777502359704, 0.33877773486584417], [0.06195871862089496, 0.6100873144577459], [-0.3243215990367419, 0.3312982383148728], [-0.33941629334547235, -0.15117828334141054], [-0.552165502285474, 0.028845815397586044], [0.18464212048810344, 0.5791967329426072], [-0.46600115683767945, -0.09932904605351045], [-0.581074334873682, 0.10578299005618616], [-0.2083933734933721, -0.058574052865909366]], \"data07\": [[0.7285306259600616, 0.7069892473118278], [0.9923195084485409, 0.7069892473118278], [0.9923195084485409, 0.9820788530465947], [0.7285306259600616, 0.9820788530465947]], \"data06\": [[0.7500360023041476, 0.9534050179211467, 0.9005376344086019, 0.8476702508960573, 0.7948028673835125, 0.7419354838709676]], \"data03\": [[-0.4301012825198393, 0.2854141396127525], [-0.4599154070542705, 0.007654714663857465], [-0.4208318237068076, 0.46280088153288335], [-0.34166307376918104, 0.03630579254966726], [-0.5674021212107925, -0.35376317678446884], [0.27514357721327537, -0.29426793132752815], [-0.6012495190001138, -0.04195024831025676], [-0.3415780134445779, -0.06842764695433033], [-0.5791581543162552, 0.29025774220332035], [-0.1995916680206842, 0.0064165474101231254]], \"data02\": [[0.05785577310053593, 0.25692858718863093], [-0.25091001948814, -0.5748364190982864], [0.19843470887949946, -0.3892802726823152], [0.35007455070415944, -0.33949066390038307], [-0.08237740002772587, -0.5784292658683906], [-0.016290419113439557, -0.6355726160881316], [0.019734051171252757, -0.6360367105738866], [0.2438433076495576, -0.5041202087221548], [0.08014906600330879, -0.4799020818182777], [-0.15255045823070493, -0.3408753845517839], [-0.020081825875353215, -0.35718794655762914], [-0.15297793113902683, -0.30140577453193457], [-0.22758349812136536, -0.45047495075469096], [0.12888676337410168, -0.668457373991977], [0.07966541763901362, -0.3889609926197951], [0.4928761771808502, -0.1411107487904908], [-0.34784460975136144, -0.3258414653409745], [-0.3608951277095703, -0.48195991352901957], [-0.11265730034344344, -0.4993121670686306], [0.1827109977144634, -0.5787464521608237], [-0.08782998361951912, -0.2007423698086272], [-0.18336929431804472, -0.5551182889814734], [-0.5516219950653584, 0.3348728982305264], [-0.45337586370615407, -0.44518883037029683], [0.3244183710745198, -0.45650361180937427], [0.33505791724913486, -0.6458208127368436]], \"data05\": [[0.4192021972350015, 0.5854520485169515], [0.6698550278471257, 0.11893281852637148], [0.40204400902943815, 0.498701667453783], [0.6677627104186503, 0.26949909097813]]}, \"width\": 1120.0});\n",
       "      });\n",
       "    });\n",
       "}else{\n",
       "    // require.js not available: dynamically load d3 & mpld3\n",
       "    mpld3_load_lib(\"https://mpld3.github.io/js/d3.v3.min.js\", function(){\n",
       "         mpld3_load_lib(\"https://mpld3.github.io/js/mpld3.v0.2.js\", function(){\n",
       "                 \n",
       "    mpld3.register_plugin(\"htmltooltip\", HtmlTooltipPlugin);\n",
       "    HtmlTooltipPlugin.prototype = Object.create(mpld3.Plugin.prototype);\n",
       "    HtmlTooltipPlugin.prototype.constructor = HtmlTooltipPlugin;\n",
       "    HtmlTooltipPlugin.prototype.requiredProps = [\"id\"];\n",
       "    HtmlTooltipPlugin.prototype.defaultProps = {labels:null, hoffset:0, voffset:10};\n",
       "    function HtmlTooltipPlugin(fig, props){\n",
       "        mpld3.Plugin.call(this, fig, props);\n",
       "    };\n",
       "\n",
       "    HtmlTooltipPlugin.prototype.draw = function(){\n",
       "       var obj = mpld3.get_element(this.props.id);\n",
       "       var labels = this.props.labels;\n",
       "       var tooltip = d3.select(\"body\").append(\"div\")\n",
       "                    .attr(\"class\", \"mpld3-tooltip\")\n",
       "                    .style(\"position\", \"absolute\")\n",
       "                    .style(\"z-index\", \"10\")\n",
       "                    .style(\"visibility\", \"hidden\");\n",
       "\n",
       "       obj.elements()\n",
       "           .on(\"mouseover\", function(d, i){\n",
       "                              tooltip.html(labels[i])\n",
       "                                     .style(\"visibility\", \"visible\");})\n",
       "           .on(\"mousemove\", function(d, i){\n",
       "                    tooltip\n",
       "                      .style(\"top\", d3.event.pageY + this.props.voffset + \"px\")\n",
       "                      .style(\"left\",d3.event.pageX + this.props.hoffset + \"px\");\n",
       "                 }.bind(this))\n",
       "           .on(\"mouseout\",  function(d, i){\n",
       "                           tooltip.style(\"visibility\", \"hidden\");});\n",
       "    };\n",
       "    \n",
       "    mpld3.register_plugin(\"toptoolbar\", TopToolbar);\n",
       "    TopToolbar.prototype = Object.create(mpld3.Plugin.prototype);\n",
       "    TopToolbar.prototype.constructor = TopToolbar;\n",
       "    function TopToolbar(fig, props){\n",
       "        mpld3.Plugin.call(this, fig, props);\n",
       "    };\n",
       "\n",
       "    TopToolbar.prototype.draw = function(){\n",
       "      // the toolbar svg doesn't exist\n",
       "      // yet, so first draw it\n",
       "      this.fig.toolbar.draw();\n",
       "\n",
       "      // then change the y position to be\n",
       "      // at the top of the figure\n",
       "      this.fig.toolbar.toolbar.attr(\"x\", 150);\n",
       "      this.fig.toolbar.toolbar.attr(\"y\", 400);\n",
       "\n",
       "      // then remove the draw function,\n",
       "      // so that it is not called again\n",
       "      this.fig.toolbar.draw = function() {}\n",
       "    }\n",
       "    \n",
       "    mpld3.register_plugin(\"htmltooltip\", HtmlTooltipPlugin);\n",
       "    HtmlTooltipPlugin.prototype = Object.create(mpld3.Plugin.prototype);\n",
       "    HtmlTooltipPlugin.prototype.constructor = HtmlTooltipPlugin;\n",
       "    HtmlTooltipPlugin.prototype.requiredProps = [\"id\"];\n",
       "    HtmlTooltipPlugin.prototype.defaultProps = {labels:null, hoffset:0, voffset:10};\n",
       "    function HtmlTooltipPlugin(fig, props){\n",
       "        mpld3.Plugin.call(this, fig, props);\n",
       "    };\n",
       "\n",
       "    HtmlTooltipPlugin.prototype.draw = function(){\n",
       "       var obj = mpld3.get_element(this.props.id);\n",
       "       var labels = this.props.labels;\n",
       "       var tooltip = d3.select(\"body\").append(\"div\")\n",
       "                    .attr(\"class\", \"mpld3-tooltip\")\n",
       "                    .style(\"position\", \"absolute\")\n",
       "                    .style(\"z-index\", \"10\")\n",
       "                    .style(\"visibility\", \"hidden\");\n",
       "\n",
       "       obj.elements()\n",
       "           .on(\"mouseover\", function(d, i){\n",
       "                              tooltip.html(labels[i])\n",
       "                                     .style(\"visibility\", \"visible\");})\n",
       "           .on(\"mousemove\", function(d, i){\n",
       "                    tooltip\n",
       "                      .style(\"top\", d3.event.pageY + this.props.voffset + \"px\")\n",
       "                      .style(\"left\",d3.event.pageX + this.props.hoffset + \"px\");\n",
       "                 }.bind(this))\n",
       "           .on(\"mouseout\",  function(d, i){\n",
       "                           tooltip.style(\"visibility\", \"hidden\");});\n",
       "    };\n",
       "    \n",
       "    mpld3.register_plugin(\"toptoolbar\", TopToolbar);\n",
       "    TopToolbar.prototype = Object.create(mpld3.Plugin.prototype);\n",
       "    TopToolbar.prototype.constructor = TopToolbar;\n",
       "    function TopToolbar(fig, props){\n",
       "        mpld3.Plugin.call(this, fig, props);\n",
       "    };\n",
       "\n",
       "    TopToolbar.prototype.draw = function(){\n",
       "      // the toolbar svg doesn't exist\n",
       "      // yet, so first draw it\n",
       "      this.fig.toolbar.draw();\n",
       "\n",
       "      // then change the y position to be\n",
       "      // at the top of the figure\n",
       "      this.fig.toolbar.toolbar.attr(\"x\", 150);\n",
       "      this.fig.toolbar.toolbar.attr(\"y\", 400);\n",
       "\n",
       "      // then remove the draw function,\n",
       "      // so that it is not called again\n",
       "      this.fig.toolbar.draw = function() {}\n",
       "    }\n",
       "    \n",
       "    mpld3.register_plugin(\"htmltooltip\", HtmlTooltipPlugin);\n",
       "    HtmlTooltipPlugin.prototype = Object.create(mpld3.Plugin.prototype);\n",
       "    HtmlTooltipPlugin.prototype.constructor = HtmlTooltipPlugin;\n",
       "    HtmlTooltipPlugin.prototype.requiredProps = [\"id\"];\n",
       "    HtmlTooltipPlugin.prototype.defaultProps = {labels:null, hoffset:0, voffset:10};\n",
       "    function HtmlTooltipPlugin(fig, props){\n",
       "        mpld3.Plugin.call(this, fig, props);\n",
       "    };\n",
       "\n",
       "    HtmlTooltipPlugin.prototype.draw = function(){\n",
       "       var obj = mpld3.get_element(this.props.id);\n",
       "       var labels = this.props.labels;\n",
       "       var tooltip = d3.select(\"body\").append(\"div\")\n",
       "                    .attr(\"class\", \"mpld3-tooltip\")\n",
       "                    .style(\"position\", \"absolute\")\n",
       "                    .style(\"z-index\", \"10\")\n",
       "                    .style(\"visibility\", \"hidden\");\n",
       "\n",
       "       obj.elements()\n",
       "           .on(\"mouseover\", function(d, i){\n",
       "                              tooltip.html(labels[i])\n",
       "                                     .style(\"visibility\", \"visible\");})\n",
       "           .on(\"mousemove\", function(d, i){\n",
       "                    tooltip\n",
       "                      .style(\"top\", d3.event.pageY + this.props.voffset + \"px\")\n",
       "                      .style(\"left\",d3.event.pageX + this.props.hoffset + \"px\");\n",
       "                 }.bind(this))\n",
       "           .on(\"mouseout\",  function(d, i){\n",
       "                           tooltip.style(\"visibility\", \"hidden\");});\n",
       "    };\n",
       "    \n",
       "    mpld3.register_plugin(\"toptoolbar\", TopToolbar);\n",
       "    TopToolbar.prototype = Object.create(mpld3.Plugin.prototype);\n",
       "    TopToolbar.prototype.constructor = TopToolbar;\n",
       "    function TopToolbar(fig, props){\n",
       "        mpld3.Plugin.call(this, fig, props);\n",
       "    };\n",
       "\n",
       "    TopToolbar.prototype.draw = function(){\n",
       "      // the toolbar svg doesn't exist\n",
       "      // yet, so first draw it\n",
       "      this.fig.toolbar.draw();\n",
       "\n",
       "      // then change the y position to be\n",
       "      // at the top of the figure\n",
       "      this.fig.toolbar.toolbar.attr(\"x\", 150);\n",
       "      this.fig.toolbar.toolbar.attr(\"y\", 400);\n",
       "\n",
       "      // then remove the draw function,\n",
       "      // so that it is not called again\n",
       "      this.fig.toolbar.draw = function() {}\n",
       "    }\n",
       "    \n",
       "    mpld3.register_plugin(\"htmltooltip\", HtmlTooltipPlugin);\n",
       "    HtmlTooltipPlugin.prototype = Object.create(mpld3.Plugin.prototype);\n",
       "    HtmlTooltipPlugin.prototype.constructor = HtmlTooltipPlugin;\n",
       "    HtmlTooltipPlugin.prototype.requiredProps = [\"id\"];\n",
       "    HtmlTooltipPlugin.prototype.defaultProps = {labels:null, hoffset:0, voffset:10};\n",
       "    function HtmlTooltipPlugin(fig, props){\n",
       "        mpld3.Plugin.call(this, fig, props);\n",
       "    };\n",
       "\n",
       "    HtmlTooltipPlugin.prototype.draw = function(){\n",
       "       var obj = mpld3.get_element(this.props.id);\n",
       "       var labels = this.props.labels;\n",
       "       var tooltip = d3.select(\"body\").append(\"div\")\n",
       "                    .attr(\"class\", \"mpld3-tooltip\")\n",
       "                    .style(\"position\", \"absolute\")\n",
       "                    .style(\"z-index\", \"10\")\n",
       "                    .style(\"visibility\", \"hidden\");\n",
       "\n",
       "       obj.elements()\n",
       "           .on(\"mouseover\", function(d, i){\n",
       "                              tooltip.html(labels[i])\n",
       "                                     .style(\"visibility\", \"visible\");})\n",
       "           .on(\"mousemove\", function(d, i){\n",
       "                    tooltip\n",
       "                      .style(\"top\", d3.event.pageY + this.props.voffset + \"px\")\n",
       "                      .style(\"left\",d3.event.pageX + this.props.hoffset + \"px\");\n",
       "                 }.bind(this))\n",
       "           .on(\"mouseout\",  function(d, i){\n",
       "                           tooltip.style(\"visibility\", \"hidden\");});\n",
       "    };\n",
       "    \n",
       "    mpld3.register_plugin(\"toptoolbar\", TopToolbar);\n",
       "    TopToolbar.prototype = Object.create(mpld3.Plugin.prototype);\n",
       "    TopToolbar.prototype.constructor = TopToolbar;\n",
       "    function TopToolbar(fig, props){\n",
       "        mpld3.Plugin.call(this, fig, props);\n",
       "    };\n",
       "\n",
       "    TopToolbar.prototype.draw = function(){\n",
       "      // the toolbar svg doesn't exist\n",
       "      // yet, so first draw it\n",
       "      this.fig.toolbar.draw();\n",
       "\n",
       "      // then change the y position to be\n",
       "      // at the top of the figure\n",
       "      this.fig.toolbar.toolbar.attr(\"x\", 150);\n",
       "      this.fig.toolbar.toolbar.attr(\"y\", 400);\n",
       "\n",
       "      // then remove the draw function,\n",
       "      // so that it is not called again\n",
       "      this.fig.toolbar.draw = function() {}\n",
       "    }\n",
       "    \n",
       "    mpld3.register_plugin(\"htmltooltip\", HtmlTooltipPlugin);\n",
       "    HtmlTooltipPlugin.prototype = Object.create(mpld3.Plugin.prototype);\n",
       "    HtmlTooltipPlugin.prototype.constructor = HtmlTooltipPlugin;\n",
       "    HtmlTooltipPlugin.prototype.requiredProps = [\"id\"];\n",
       "    HtmlTooltipPlugin.prototype.defaultProps = {labels:null, hoffset:0, voffset:10};\n",
       "    function HtmlTooltipPlugin(fig, props){\n",
       "        mpld3.Plugin.call(this, fig, props);\n",
       "    };\n",
       "\n",
       "    HtmlTooltipPlugin.prototype.draw = function(){\n",
       "       var obj = mpld3.get_element(this.props.id);\n",
       "       var labels = this.props.labels;\n",
       "       var tooltip = d3.select(\"body\").append(\"div\")\n",
       "                    .attr(\"class\", \"mpld3-tooltip\")\n",
       "                    .style(\"position\", \"absolute\")\n",
       "                    .style(\"z-index\", \"10\")\n",
       "                    .style(\"visibility\", \"hidden\");\n",
       "\n",
       "       obj.elements()\n",
       "           .on(\"mouseover\", function(d, i){\n",
       "                              tooltip.html(labels[i])\n",
       "                                     .style(\"visibility\", \"visible\");})\n",
       "           .on(\"mousemove\", function(d, i){\n",
       "                    tooltip\n",
       "                      .style(\"top\", d3.event.pageY + this.props.voffset + \"px\")\n",
       "                      .style(\"left\",d3.event.pageX + this.props.hoffset + \"px\");\n",
       "                 }.bind(this))\n",
       "           .on(\"mouseout\",  function(d, i){\n",
       "                           tooltip.style(\"visibility\", \"hidden\");});\n",
       "    };\n",
       "    \n",
       "    mpld3.register_plugin(\"toptoolbar\", TopToolbar);\n",
       "    TopToolbar.prototype = Object.create(mpld3.Plugin.prototype);\n",
       "    TopToolbar.prototype.constructor = TopToolbar;\n",
       "    function TopToolbar(fig, props){\n",
       "        mpld3.Plugin.call(this, fig, props);\n",
       "    };\n",
       "\n",
       "    TopToolbar.prototype.draw = function(){\n",
       "      // the toolbar svg doesn't exist\n",
       "      // yet, so first draw it\n",
       "      this.fig.toolbar.draw();\n",
       "\n",
       "      // then change the y position to be\n",
       "      // at the top of the figure\n",
       "      this.fig.toolbar.toolbar.attr(\"x\", 150);\n",
       "      this.fig.toolbar.toolbar.attr(\"y\", 400);\n",
       "\n",
       "      // then remove the draw function,\n",
       "      // so that it is not called again\n",
       "      this.fig.toolbar.draw = function() {}\n",
       "    }\n",
       "    \n",
       "                 mpld3.draw_figure(\"fig_el157461406308757453047487518269\", {\"height\": 480.0, \"axes\": [{\"xdomain\": [-0.7022243585349199, 0.7098185051203891], \"axes\": [{\"tickformat\": \"\", \"fontsize\": null, \"scale\": \"linear\", \"tickvalues\": [], \"position\": \"bottom\", \"grid\": {\"gridOn\": false}, \"nticks\": 0}, {\"tickformat\": \"\", \"fontsize\": null, \"scale\": \"linear\", \"tickvalues\": [], \"position\": \"left\", \"grid\": {\"gridOn\": false}, \"nticks\": 0}], \"axesbgalpha\": null, \"markers\": [{\"alpha\": 1, \"edgecolor\": \"none\", \"id\": \"el15746140630881319120pts\", \"zorder\": 2, \"xindex\": 0, \"coordinates\": \"data\", \"edgewidth\": 0.5, \"markerpath\": [[[0.0, 9.0], [2.3868279, 9.0], [4.676218837063681, 8.051703224294176], [6.3639610306789285, 6.3639610306789285], [8.051703224294176, 4.676218837063681], [9.0, 2.3868279], [9.0, 0.0], [9.0, -2.3868279], [8.051703224294176, -4.676218837063681], [6.3639610306789285, -6.3639610306789285], [4.676218837063681, -8.051703224294176], [2.3868279, -9.0], [0.0, -9.0], [-2.3868279, -9.0], [-4.676218837063681, -8.051703224294176], [-6.3639610306789285, -6.3639610306789285], [-8.051703224294176, -4.676218837063681], [-9.0, -2.3868279], [-9.0, 0.0], [-9.0, 2.3868279], [-8.051703224294176, 4.676218837063681], [-6.3639610306789285, 6.3639610306789285], [-4.676218837063681, 8.051703224294176], [-2.3868279, 9.0], [0.0, 9.0]], [\"M\", \"C\", \"C\", \"C\", \"C\", \"C\", \"C\", \"C\", \"C\", \"Z\"]], \"yindex\": 1, \"data\": \"data01\", \"facecolor\": \"#1B9E77\"}, {\"alpha\": 1, \"edgecolor\": \"none\", \"id\": \"el15746140630854021976pts\", \"zorder\": 2, \"xindex\": 0, \"coordinates\": \"data\", \"edgewidth\": 0.5, \"markerpath\": [[[0.0, 9.0], [2.3868279, 9.0], [4.676218837063681, 8.051703224294176], [6.3639610306789285, 6.3639610306789285], [8.051703224294176, 4.676218837063681], [9.0, 2.3868279], [9.0, 0.0], [9.0, -2.3868279], [8.051703224294176, -4.676218837063681], [6.3639610306789285, -6.3639610306789285], [4.676218837063681, -8.051703224294176], [2.3868279, -9.0], [0.0, -9.0], [-2.3868279, -9.0], [-4.676218837063681, -8.051703224294176], [-6.3639610306789285, -6.3639610306789285], [-8.051703224294176, -4.676218837063681], [-9.0, -2.3868279], [-9.0, 0.0], [-9.0, 2.3868279], [-8.051703224294176, 4.676218837063681], [-6.3639610306789285, 6.3639610306789285], [-4.676218837063681, 8.051703224294176], [-2.3868279, 9.0], [0.0, 9.0]], [\"M\", \"C\", \"C\", \"C\", \"C\", \"C\", \"C\", \"C\", \"C\", \"Z\"]], \"yindex\": 1, \"data\": \"data02\", \"facecolor\": \"#D95F02\"}, {\"alpha\": 1, \"edgecolor\": \"none\", \"id\": \"el15746140630882709120pts\", \"zorder\": 2, \"xindex\": 0, \"coordinates\": \"data\", \"edgewidth\": 0.5, \"markerpath\": [[[0.0, 9.0], [2.3868279, 9.0], [4.676218837063681, 8.051703224294176], [6.3639610306789285, 6.3639610306789285], [8.051703224294176, 4.676218837063681], [9.0, 2.3868279], [9.0, 0.0], [9.0, -2.3868279], [8.051703224294176, -4.676218837063681], [6.3639610306789285, -6.3639610306789285], [4.676218837063681, -8.051703224294176], [2.3868279, -9.0], [0.0, -9.0], [-2.3868279, -9.0], [-4.676218837063681, -8.051703224294176], [-6.3639610306789285, -6.3639610306789285], [-8.051703224294176, -4.676218837063681], [-9.0, -2.3868279], [-9.0, 0.0], [-9.0, 2.3868279], [-8.051703224294176, 4.676218837063681], [-6.3639610306789285, 6.3639610306789285], [-4.676218837063681, 8.051703224294176], [-2.3868279, 9.0], [0.0, 9.0]], [\"M\", \"C\", \"C\", \"C\", \"C\", \"C\", \"C\", \"C\", \"C\", \"Z\"]], \"yindex\": 1, \"data\": \"data03\", \"facecolor\": \"#7570B3\"}, {\"alpha\": 1, \"edgecolor\": \"none\", \"id\": \"el15746140630872450944pts\", \"zorder\": 2, \"xindex\": 0, \"coordinates\": \"data\", \"edgewidth\": 0.5, \"markerpath\": [[[0.0, 9.0], [2.3868279, 9.0], [4.676218837063681, 8.051703224294176], [6.3639610306789285, 6.3639610306789285], [8.051703224294176, 4.676218837063681], [9.0, 2.3868279], [9.0, 0.0], [9.0, -2.3868279], [8.051703224294176, -4.676218837063681], [6.3639610306789285, -6.3639610306789285], [4.676218837063681, -8.051703224294176], [2.3868279, -9.0], [0.0, -9.0], [-2.3868279, -9.0], [-4.676218837063681, -8.051703224294176], [-6.3639610306789285, -6.3639610306789285], [-8.051703224294176, -4.676218837063681], [-9.0, -2.3868279], [-9.0, 0.0], [-9.0, 2.3868279], [-8.051703224294176, 4.676218837063681], [-6.3639610306789285, 6.3639610306789285], [-4.676218837063681, 8.051703224294176], [-2.3868279, 9.0], [0.0, 9.0]], [\"M\", \"C\", \"C\", \"C\", \"C\", \"C\", \"C\", \"C\", \"C\", \"Z\"]], \"yindex\": 1, \"data\": \"data04\", \"facecolor\": \"#E7298A\"}, {\"alpha\": 1, \"edgecolor\": \"none\", \"id\": \"el15746140630883147392pts\", \"zorder\": 2, \"xindex\": 0, \"coordinates\": \"data\", \"edgewidth\": 0.5, \"markerpath\": [[[0.0, 9.0], [2.3868279, 9.0], [4.676218837063681, 8.051703224294176], [6.3639610306789285, 6.3639610306789285], [8.051703224294176, 4.676218837063681], [9.0, 2.3868279], [9.0, 0.0], [9.0, -2.3868279], [8.051703224294176, -4.676218837063681], [6.3639610306789285, -6.3639610306789285], [4.676218837063681, -8.051703224294176], [2.3868279, -9.0], [0.0, -9.0], [-2.3868279, -9.0], [-4.676218837063681, -8.051703224294176], [-6.3639610306789285, -6.3639610306789285], [-8.051703224294176, -4.676218837063681], [-9.0, -2.3868279], [-9.0, 0.0], [-9.0, 2.3868279], [-8.051703224294176, 4.676218837063681], [-6.3639610306789285, 6.3639610306789285], [-4.676218837063681, 8.051703224294176], [-2.3868279, 9.0], [0.0, 9.0]], [\"M\", \"C\", \"C\", \"C\", \"C\", \"C\", \"C\", \"C\", \"C\", \"Z\"]], \"yindex\": 1, \"data\": \"data05\", \"facecolor\": \"#66A61E\"}, {\"alpha\": 1, \"edgecolor\": \"none\", \"id\": \"el15746140630882631576pts\", \"zorder\": 1000002.0, \"xindex\": 0, \"coordinates\": \"axes\", \"edgewidth\": 0.5, \"markerpath\": [[[0.0, 9.0], [2.3868279, 9.0], [4.676218837063681, 8.051703224294176], [6.3639610306789285, 6.3639610306789285], [8.051703224294176, 4.676218837063681], [9.0, 2.3868279], [9.0, 0.0], [9.0, -2.3868279], [8.051703224294176, -4.676218837063681], [6.3639610306789285, -6.3639610306789285], [4.676218837063681, -8.051703224294176], [2.3868279, -9.0], [0.0, -9.0], [-2.3868279, -9.0], [-4.676218837063681, -8.051703224294176], [-6.3639610306789285, -6.3639610306789285], [-8.051703224294176, -4.676218837063681], [-9.0, -2.3868279], [-9.0, 0.0], [-9.0, 2.3868279], [-8.051703224294176, 4.676218837063681], [-6.3639610306789285, 6.3639610306789285], [-4.676218837063681, 8.051703224294176], [-2.3868279, 9.0], [0.0, 9.0]], [\"M\", \"C\", \"C\", \"C\", \"C\", \"C\", \"C\", \"C\", \"C\", \"Z\"]], \"yindex\": 1, \"data\": \"data06\", \"facecolor\": \"#1B9E77\"}, {\"alpha\": 1, \"edgecolor\": \"none\", \"id\": \"el15746140630853937640pts\", \"zorder\": 1000002.0, \"xindex\": 0, \"coordinates\": \"axes\", \"edgewidth\": 0.5, \"markerpath\": [[[0.0, 9.0], [2.3868279, 9.0], [4.676218837063681, 8.051703224294176], [6.3639610306789285, 6.3639610306789285], [8.051703224294176, 4.676218837063681], [9.0, 2.3868279], [9.0, 0.0], [9.0, -2.3868279], [8.051703224294176, -4.676218837063681], [6.3639610306789285, -6.3639610306789285], [4.676218837063681, -8.051703224294176], [2.3868279, -9.0], [0.0, -9.0], [-2.3868279, -9.0], [-4.676218837063681, -8.051703224294176], [-6.3639610306789285, -6.3639610306789285], [-8.051703224294176, -4.676218837063681], [-9.0, -2.3868279], [-9.0, 0.0], [-9.0, 2.3868279], [-8.051703224294176, 4.676218837063681], [-6.3639610306789285, 6.3639610306789285], [-4.676218837063681, 8.051703224294176], [-2.3868279, 9.0], [0.0, 9.0]], [\"M\", \"C\", \"C\", \"C\", \"C\", \"C\", \"C\", \"C\", \"C\", \"Z\"]], \"yindex\": 2, \"data\": \"data06\", \"facecolor\": \"#D95F02\"}, {\"alpha\": 1, \"edgecolor\": \"none\", \"id\": \"el15746140630853958624pts\", \"zorder\": 1000002.0, \"xindex\": 0, \"coordinates\": \"axes\", \"edgewidth\": 0.5, \"markerpath\": [[[0.0, 9.0], [2.3868279, 9.0], [4.676218837063681, 8.051703224294176], [6.3639610306789285, 6.3639610306789285], [8.051703224294176, 4.676218837063681], [9.0, 2.3868279], [9.0, 0.0], [9.0, -2.3868279], [8.051703224294176, -4.676218837063681], [6.3639610306789285, -6.3639610306789285], [4.676218837063681, -8.051703224294176], [2.3868279, -9.0], [0.0, -9.0], [-2.3868279, -9.0], [-4.676218837063681, -8.051703224294176], [-6.3639610306789285, -6.3639610306789285], [-8.051703224294176, -4.676218837063681], [-9.0, -2.3868279], [-9.0, 0.0], [-9.0, 2.3868279], [-8.051703224294176, 4.676218837063681], [-6.3639610306789285, 6.3639610306789285], [-4.676218837063681, 8.051703224294176], [-2.3868279, 9.0], [0.0, 9.0]], [\"M\", \"C\", \"C\", \"C\", \"C\", \"C\", \"C\", \"C\", \"C\", \"Z\"]], \"yindex\": 3, \"data\": \"data06\", \"facecolor\": \"#7570B3\"}, {\"alpha\": 1, \"edgecolor\": \"none\", \"id\": \"el15746140630853956888pts\", \"zorder\": 1000002.0, \"xindex\": 0, \"coordinates\": \"axes\", \"edgewidth\": 0.5, \"markerpath\": [[[0.0, 9.0], [2.3868279, 9.0], [4.676218837063681, 8.051703224294176], [6.3639610306789285, 6.3639610306789285], [8.051703224294176, 4.676218837063681], [9.0, 2.3868279], [9.0, 0.0], [9.0, -2.3868279], [8.051703224294176, -4.676218837063681], [6.3639610306789285, -6.3639610306789285], [4.676218837063681, -8.051703224294176], [2.3868279, -9.0], [0.0, -9.0], [-2.3868279, -9.0], [-4.676218837063681, -8.051703224294176], [-6.3639610306789285, -6.3639610306789285], [-8.051703224294176, -4.676218837063681], [-9.0, -2.3868279], [-9.0, 0.0], [-9.0, 2.3868279], [-8.051703224294176, 4.676218837063681], [-6.3639610306789285, 6.3639610306789285], [-4.676218837063681, 8.051703224294176], [-2.3868279, 9.0], [0.0, 9.0]], [\"M\", \"C\", \"C\", \"C\", \"C\", \"C\", \"C\", \"C\", \"C\", \"Z\"]], \"yindex\": 4, \"data\": \"data06\", \"facecolor\": \"#E7298A\"}, {\"alpha\": 1, \"edgecolor\": \"none\", \"id\": \"el15746140630853918000pts\", \"zorder\": 1000002.0, \"xindex\": 0, \"coordinates\": \"axes\", \"edgewidth\": 0.5, \"markerpath\": [[[0.0, 9.0], [2.3868279, 9.0], [4.676218837063681, 8.051703224294176], [6.3639610306789285, 6.3639610306789285], [8.051703224294176, 4.676218837063681], [9.0, 2.3868279], [9.0, 0.0], [9.0, -2.3868279], [8.051703224294176, -4.676218837063681], [6.3639610306789285, -6.3639610306789285], [4.676218837063681, -8.051703224294176], [2.3868279, -9.0], [0.0, -9.0], [-2.3868279, -9.0], [-4.676218837063681, -8.051703224294176], [-6.3639610306789285, -6.3639610306789285], [-8.051703224294176, -4.676218837063681], [-9.0, -2.3868279], [-9.0, 0.0], [-9.0, 2.3868279], [-8.051703224294176, 4.676218837063681], [-6.3639610306789285, 6.3639610306789285], [-4.676218837063681, 8.051703224294176], [-2.3868279, 9.0], [0.0, 9.0]], [\"M\", \"C\", \"C\", \"C\", \"C\", \"C\", \"C\", \"C\", \"C\", \"Z\"]], \"yindex\": 5, \"data\": \"data06\", \"facecolor\": \"#66A61E\"}], \"ydomain\": [-0.7081377832177825, 0.6939033427606786], \"collections\": [], \"images\": [], \"id\": \"el15746140630883203784\", \"sharex\": [], \"bbox\": [0.125, 0.125, 0.775, 0.775], \"paths\": [{\"alpha\": 1, \"edgecolor\": \"#000000\", \"zorder\": 1000001.0, \"coordinates\": \"axes\", \"edgewidth\": 1.0, \"pathcodes\": [\"M\", \"L\", \"L\", \"L\", \"Z\"], \"data\": \"data07\", \"dasharray\": \"10,0\", \"id\": \"el15746140630881319344\", \"xindex\": 0, \"yindex\": 1, \"facecolor\": \"#FFFFFF\"}], \"zoomable\": true, \"lines\": [], \"axesbg\": \"#FFFFFF\", \"sharey\": [], \"yscale\": \"linear\", \"texts\": [{\"fontsize\": 10.0, \"rotation\": -0.0, \"coordinates\": \"axes\", \"position\": [-0.16129032258064516, -0.16129032258064518], \"v_baseline\": \"auto\", \"h_anchor\": \"start\", \"id\": \"el15746140630853915144\", \"alpha\": 1, \"text\": \"None\", \"color\": \"#000000\", \"zorder\": 1000003.0}, {\"fontsize\": 12.0, \"rotation\": -0.0, \"coordinates\": \"axes\", \"position\": [0.7776857718894011, 0.9408602150537633], \"v_baseline\": \"auto\", \"h_anchor\": \"start\", \"id\": \"el15746140630882630792\", \"alpha\": 1, \"text\": \"Family, home, war\", \"color\": \"#000000\", \"zorder\": 1000003.0}, {\"fontsize\": 12.0, \"rotation\": -0.0, \"coordinates\": \"axes\", \"position\": [0.7776857718894011, 0.8879928315412184], \"v_baseline\": \"auto\", \"h_anchor\": \"start\", \"id\": \"el15746140630853938816\", \"alpha\": 1, \"text\": \"Police, killed, murders\", \"color\": \"#000000\", \"zorder\": 1000003.0}, {\"fontsize\": 12.0, \"rotation\": -0.0, \"coordinates\": \"axes\", \"position\": [0.7776857718894011, 0.8351254480286738], \"v_baseline\": \"auto\", \"h_anchor\": \"start\", \"id\": \"el15746140630853959408\", \"alpha\": 1, \"text\": \"Father, New York, brothers\", \"color\": \"#000000\", \"zorder\": 1000003.0}, {\"fontsize\": 12.0, \"rotation\": -0.0, \"coordinates\": \"axes\", \"position\": [0.7776857718894011, 0.782258064516129], \"v_baseline\": \"auto\", \"h_anchor\": \"start\", \"id\": \"el15746140630853939040\", \"alpha\": 1, \"text\": \"Dance, singing, love\", \"color\": \"#000000\", \"zorder\": 1000003.0}, {\"fontsize\": 12.0, \"rotation\": -0.0, \"coordinates\": \"axes\", \"position\": [0.7776857718894011, 0.7293906810035842], \"v_baseline\": \"auto\", \"h_anchor\": \"start\", \"id\": \"el15746140630881421632\", \"alpha\": 1, \"text\": \"Killed, soldiers, captain\", \"color\": \"#000000\", \"zorder\": 1000003.0}], \"xlim\": [-0.7022243585349199, 0.7098185051203891], \"xscale\": \"linear\", \"ylim\": [-0.7081377832177825, 0.6939033427606786]}], \"plugins\": [{\"type\": \"reset\"}, {\"button\": true, \"type\": \"zoom\", \"enabled\": false}, {\"button\": true, \"type\": \"boxzoom\", \"enabled\": false}, {\"voffset\": 10, \"id\": \"el15746140630881319120pts\", \"hoffset\": 10, \"labels\": [\"The Godfather\", \"The Shawshank Redemption\", \"Schindler's List\", \"Casablanca\", \"Gone with the Wind\", \"The Wizard of Oz\", \"Titanic\", \"The Godfather: Part II\", \"The Sound of Music\", \"E.T. the Extra-Terrestrial\", \"The Silence of the Lambs\", \"Amadeus\", \"The Best Years of Our Lives\", \"Ben-Hur\", \"Doctor Zhivago\", \"High Noon\", \"The Pianist\", \"Goodfellas\", \"Giant\", \"The Grapes of Wrath\", \"Network\", \"A Clockwork Orange\", \"Yankee Doodle Dandy\"], \"type\": \"htmltooltip\"}, {\"type\": \"toptoolbar\"}, {\"voffset\": 10, \"id\": \"el15746140630854021976pts\", \"hoffset\": 10, \"labels\": [\"One Flew Over the Cuckoo's Nest\", \"Lawrence of Arabia\", \"Star Wars\", \"2001: A Space Odyssey\", \"The Bridge on the River Kwai\", \"Dr. Strangelove or: How I Learned to Stop Worrying and Love the Bomb\", \"Apocalypse Now\", \"The Lord of the Rings: The Return of the King\", \"Gladiator\", \"From Here to Eternity\", \"Saving Private Ryan\", \"Unforgiven\", \"Raiders of the Lost Ark\", \"Patton\", \"Jaws\", \"Braveheart\", \"Butch Cassidy and the Sundance Kid\", \"The Treasure of the Sierra Madre\", \"Platoon\", \"Dances with Wolves\", \"The Deer Hunter\", \"All Quiet on the Western Front\", \"Shane\", \"The African Queen\", \"Stagecoach\", \"Mutiny on the Bounty\"], \"type\": \"htmltooltip\"}, {\"type\": \"toptoolbar\"}, {\"voffset\": 10, \"id\": \"el15746140630882709120pts\", \"hoffset\": 10, \"labels\": [\"Sunset Blvd.\", \"The French Connection\", \"It Happened One Night\", \"Fargo\", \"The Green Mile\", \"Close Encounters of the Third Kind\", \"American Graffiti\", \"Pulp Fiction\", \"Rebel Without a Cause\", \"North by Northwest\"], \"type\": \"htmltooltip\"}, {\"type\": \"toptoolbar\"}, {\"voffset\": 10, \"id\": \"el15746140630872450944pts\", \"hoffset\": 10, \"labels\": [\"Raging Bull\", \"Citizen Kane\", \"Psycho\", \"Vertigo\", \"On the Waterfront\", \"Forrest Gump\", \"West Side Story\", \"Chinatown\", \"Singin' in the Rain\", \"Some Like It Hot\", \"12 Angry Men\", \"Gandhi\", \"Rocky\", \"A Streetcar Named Desire\", \"To Kill a Mockingbird\", \"An American in Paris\", \"My Fair Lady\", \"The Good, the Bad and the Ugly\", \"The Apartment\", \"The Exorcist\", \"City Lights\", \"Midnight Cowboy\", \"Mr. Smith Goes to Washington\", \"Rain Man\", \"Annie Hall\", \"Out of Africa\", \"Good Will Hunting\", \"Terms of Endearment\", \"Tootsie\", \"Nashville\", \"The Graduate\", \"The Maltese Falcon\", \"Taxi Driver\", \"Wuthering Heights\", \"Double Indemnity\", \"Rear Window\", \"The Third Man\"], \"type\": \"htmltooltip\"}, {\"type\": \"toptoolbar\"}, {\"voffset\": 10, \"id\": \"el15746140630883147392pts\", \"hoffset\": 10, \"labels\": [\"It's a Wonderful Life\", \"The Philadelphia Story\", \"The King's Speech\", \"A Place in the Sun\"], \"type\": \"htmltooltip\"}, {\"type\": \"toptoolbar\"}], \"id\": \"el15746140630875745304\", \"data\": {\"data01\": [[0.1842639196948847, -0.011698423371132152], [0.4420542765535735, -0.2786832170112155], [-0.031704356749774315, -0.45668597931827065], [-0.258417253284027, -0.2652260221436388], [0.05839869253028608, -0.04611702740890181], [-0.43453170540719366, -0.29660613828269616], [0.6037636767904756, -0.34565548304904037], [0.07160786733633107, 0.13140355942960508], [0.5525828106324346, 0.49022359259865306], [-0.021733999952444738, -0.042720767809052894], [0.5177717200812387, -0.2536540302931725], [0.41546634085583234, 0.4069688257035027], [0.31816539769255964, 0.08775294364571601], [0.34423528399454734, -0.13020602386402164], [0.16075133608675513, -0.11942129559742261], [-0.6622608812616565, -0.20511076586859073], [0.15640009437168323, -0.21297986976225988], [0.20867878615651633, 0.06434284629527791], [0.4819436407032279, 0.008023079596038808], [0.47591168977268594, -0.4358076517203701], [0.6688326628289069, -0.08783277088604606], [-0.18745722681366755, 0.15085562479813835], [0.6272943977307884, 0.3595046830327616]], \"data04\": [[-0.1322921736434466, 0.5745109123612222], [0.011870129083831693, 0.4624853574054067], [-0.22762167926505814, 0.06857695283204854], [-0.3528182922735947, 0.12701319394680938], [-0.05335737382032607, 0.12312849271489654], [0.3547936331378034, 0.008290710365072116], [-0.48428094266733496, 0.17299840565537866], [-0.5522759511779272, -0.22475587495166363], [-0.34160570270008384, 0.6344808506574434], [-0.17104806655713084, 0.23239528561346245], [0.5306515354145532, 0.1294497101088675], [0.43342020294859956, 0.14567841987345992], [-0.28462977611146373, 0.2756306109086089], [0.3432853030249946, 0.246006709745588], [0.21420712139192538, 0.2183286793356958], [-0.2037332777288499, 0.5597834903655693], [-0.19659297207639648, 0.3957261088660333], [-0.06989475411532176, 0.569705539011805], [-0.5962637921066579, 0.19021678812015821], [0.18341909271393095, 0.3029016910056736], [0.5656255199388547, 0.34237017859020485], [-0.30315863958813255, 0.4758732388739999], [0.6448617791922985, -0.15574388957552057], [-0.18148082579748032, 0.4766013154583243], [-0.02882418924007409, 0.654222933534873], [0.12096767900038803, 0.4812637440714905], [0.12587206202926585, 0.4177788692597201], [0.220078542503727, 0.4800518402232757], [-0.02227777502359704, 0.33877773486584417], [0.06195871862089496, 0.6100873144577459], [-0.3243215990367419, 0.3312982383148728], [-0.33941629334547235, -0.15117828334141054], [-0.552165502285474, 0.028845815397586044], [0.18464212048810344, 0.5791967329426072], [-0.46600115683767945, -0.09932904605351045], [-0.581074334873682, 0.10578299005618616], [-0.2083933734933721, -0.058574052865909366]], \"data07\": [[0.7285306259600616, 0.7069892473118278], [0.9923195084485409, 0.7069892473118278], [0.9923195084485409, 0.9820788530465947], [0.7285306259600616, 0.9820788530465947]], \"data06\": [[0.7500360023041476, 0.9534050179211467, 0.9005376344086019, 0.8476702508960573, 0.7948028673835125, 0.7419354838709676]], \"data03\": [[-0.4301012825198393, 0.2854141396127525], [-0.4599154070542705, 0.007654714663857465], [-0.4208318237068076, 0.46280088153288335], [-0.34166307376918104, 0.03630579254966726], [-0.5674021212107925, -0.35376317678446884], [0.27514357721327537, -0.29426793132752815], [-0.6012495190001138, -0.04195024831025676], [-0.3415780134445779, -0.06842764695433033], [-0.5791581543162552, 0.29025774220332035], [-0.1995916680206842, 0.0064165474101231254]], \"data02\": [[0.05785577310053593, 0.25692858718863093], [-0.25091001948814, -0.5748364190982864], [0.19843470887949946, -0.3892802726823152], [0.35007455070415944, -0.33949066390038307], [-0.08237740002772587, -0.5784292658683906], [-0.016290419113439557, -0.6355726160881316], [0.019734051171252757, -0.6360367105738866], [0.2438433076495576, -0.5041202087221548], [0.08014906600330879, -0.4799020818182777], [-0.15255045823070493, -0.3408753845517839], [-0.020081825875353215, -0.35718794655762914], [-0.15297793113902683, -0.30140577453193457], [-0.22758349812136536, -0.45047495075469096], [0.12888676337410168, -0.668457373991977], [0.07966541763901362, -0.3889609926197951], [0.4928761771808502, -0.1411107487904908], [-0.34784460975136144, -0.3258414653409745], [-0.3608951277095703, -0.48195991352901957], [-0.11265730034344344, -0.4993121670686306], [0.1827109977144634, -0.5787464521608237], [-0.08782998361951912, -0.2007423698086272], [-0.18336929431804472, -0.5551182889814734], [-0.5516219950653584, 0.3348728982305264], [-0.45337586370615407, -0.44518883037029683], [0.3244183710745198, -0.45650361180937427], [0.33505791724913486, -0.6458208127368436]], \"data05\": [[0.4192021972350015, 0.5854520485169515], [0.6698550278471257, 0.11893281852637148], [0.40204400902943815, 0.498701667453783], [0.6677627104186503, 0.26949909097813]]}, \"width\": 1120.0});\n",
       "            })\n",
       "         });\n",
       "}\n",
       "</script>"
      ],
      "text/plain": [
       "<IPython.core.display.HTML object>"
      ]
     },
     "execution_count": 32,
     "metadata": {},
     "output_type": "execute_result"
    }
   ],
   "source": [
    "#create data frame that has the result of the MDS plus the cluster numbers and titles\n",
    "df = pd.DataFrame(dict(x=xs, y=ys, label=clusters, title=titles)) \n",
    "\n",
    "#group by cluster\n",
    "groups = df.groupby('label')\n",
    "\n",
    "#define custom css to format the font and to remove the axis labeling\n",
    "css = \"\"\"\n",
    "text.mpld3-text, div.mpld3-tooltip {\n",
    "  font-family:Arial, Helvetica, sans-serif;\n",
    "}\n",
    "\n",
    "g.mpld3-xaxis, g.mpld3-yaxis {\n",
    "display: none; }\n",
    "\"\"\"\n",
    "\n",
    "# Plot \n",
    "fig, ax = plt.subplots(figsize=(14,6)) #set plot size\n",
    "ax.margins(0.03) # Optional, just adds 5% padding to the autoscaling\n",
    "\n",
    "#iterate through groups to layer the plot\n",
    "#note that I use the cluster_name and cluster_color dicts with the 'name' lookup to return the appropriate color/label\n",
    "for name, group in groups:\n",
    "    points = ax.plot(group.x, group.y, marker='o', linestyle='', ms=18, label=cluster_names[name], mec='none', color=cluster_colors[name])\n",
    "    ax.set_aspect('auto')\n",
    "    labels = [i for i in group.title]\n",
    "    \n",
    "    #set tooltip using points, labels and the already defined 'css'\n",
    "    tooltip = mpld3.plugins.PointHTMLTooltip(points[0], labels,\n",
    "                                       voffset=10, hoffset=10, css=css)\n",
    "    #connect tooltip to fig\n",
    "    mpld3.plugins.connect(fig, tooltip, TopToolbar())    \n",
    "    \n",
    "    #set tick marks as blank\n",
    "    ax.axes.get_xaxis().set_ticks([])\n",
    "    ax.axes.get_yaxis().set_ticks([])\n",
    "    \n",
    "    #set axis as blank\n",
    "    ax.axes.get_xaxis().set_visible(False)\n",
    "    ax.axes.get_yaxis().set_visible(False)\n",
    "\n",
    "    \n",
    "ax.legend(numpoints=1) #show legend with only one dot\n",
    "\n",
    "mpld3.display() #show the plot"
   ]
  },
  {
   "cell_type": "code",
   "execution_count": 33,
   "metadata": {
    "collapsed": true
   },
   "outputs": [],
   "source": [
    "#uncomment the below to export to html\n",
    "#os.chdir(outputs)\n",
    "#html = mpld3.fig_to_html(fig)\n",
    "#print(html)"
   ]
  },
  {
   "cell_type": "markdown",
   "metadata": {},
   "source": [
    "### Hierarchical document clustering"
   ]
  },
  {
   "cell_type": "code",
   "execution_count": 34,
   "metadata": {
    "collapsed": false
   },
   "outputs": [
    {
     "data": {
      "image/png": "[encoded data removed]",
      "text/plain": [
       "<matplotlib.figure.Figure at 0x7fe72d324668>"
      ]
     },
     "metadata": {},
     "output_type": "display_data"
    }
   ],
   "source": [
    "from scipy.cluster.hierarchy import ward, dendrogram\n",
    "\n",
    "linkage_matrix = ward(dist) #define the linkage_matrix using ward clustering pre-computed distances\n",
    "\n",
    "fig, ax = plt.subplots(figsize=(15, 20)) # set size\n",
    "ax = dendrogram(linkage_matrix, orientation=\"right\", labels=titles);\n",
    "\n",
    "plt.tick_params(\\\n",
    "    axis= 'x',          # changes apply to the x-axis\n",
    "    which='both',      # both major and minor ticks are affected\n",
    "    bottom='off',      # ticks along the bottom edge are off\n",
    "    top='off',         # ticks along the top edge are off\n",
    "    labelbottom='off')\n",
    "\n",
    "plt.tight_layout() #show plot with tight layout\n",
    "plt.savefig(os.path.join(outputs,'ward_clusters.png'), dpi=200)"
   ]
  },
  {
   "cell_type": "markdown",
   "metadata": {},
   "source": [
    "### Latent Dirichlet Allocation"
   ]
  },
  {
   "cell_type": "code",
   "execution_count": 35,
   "metadata": {
    "collapsed": false
   },
   "outputs": [],
   "source": [
    "#strip any proper names from a text...unfortunately right now this is yanking the first word from a sentence too.\n",
    "import string\n",
    "def strip_proppers(text):\n",
    "    # first tokenize by sentence, then by word to ensure that punctuation is caught as it's own token\n",
    "    tokens = [word for sent in nltk.sent_tokenize(text) for word in nltk.word_tokenize(sent) if word.islower()]\n",
    "    return \"\".join([\" \"+i if not i.startswith(\"'\") and i not in string.punctuation else i for i in tokens]).strip()"
   ]
  },
  {
   "cell_type": "code",
   "execution_count": 36,
   "metadata": {
    "collapsed": false
   },
   "outputs": [],
   "source": [
    "#strip any proper nouns (NNP) or plural proper nouns (NNPS) from a text\n",
    "from nltk.tag import pos_tag\n",
    "\n",
    "def strip_proppers_POS(text):\n",
    "    tagged = pos_tag(text.split()) #use NLTK's part of speech tagger\n",
    "    non_propernouns = [word for word,pos in tagged if pos != 'NNP' and pos != 'NNPS']\n",
    "    return non_propernouns"
   ]
  },
  {
   "cell_type": "code",
   "execution_count": 37,
   "metadata": {
    "collapsed": false
   },
   "outputs": [
    {
     "name": "stderr",
     "output_type": "stream",
     "text": [
      "/home/rsouza/python/3/venv/local/lib/python3.5/site-packages/theano/configparser.py:81: DeprecationWarning: The SafeConfigParser class has been renamed to ConfigParser in Python 3.2. This alias will be removed in future versions. Use ConfigParser directly instead.\n",
      "  'PID': str(os.getpid()),\n",
      "Using gpu device 0: Quadro K4200 (CNMeM is disabled, cuDNN 5103)\n",
      "/home/rsouza/python/3/venv/local/lib/python3.5/site-packages/theano/sandbox/cuda/__init__.py:600: UserWarning: Your cuDNN version is more recent than the one Theano officially supports. If you see any problems, try updating Theano or downgrading cuDNN to version 5.\n",
      "  warnings.warn(warn)\n",
      "/home/rsouza/python/3/venv/local/lib/python3.5/site-packages/numpy/lib/utils.py:99: DeprecationWarning: `scipy.sparse.sparsetools` is deprecated!\n",
      "scipy.sparse.sparsetools is a private module for scipy.sparse, and should not be used.\n",
      "  warnings.warn(depdoc, DeprecationWarning)\n"
     ]
    },
    {
     "name": "stdout",
     "output_type": "stream",
     "text": [
      "CPU times: user 5.1 s, sys: 8 ms, total: 5.11 s\n",
      "Wall time: 5.11 s\n",
      "CPU times: user 436 ms, sys: 8 ms, total: 444 ms\n",
      "Wall time: 445 ms\n"
     ]
    }
   ],
   "source": [
    "#Latent Dirichlet Allocation implementation with Gensim\n",
    "from gensim import corpora, models, similarities \n",
    "\n",
    "#remove proper names\n",
    "preprocess = [strip_proppers(doc) for doc in synopses]\n",
    "\n",
    "%time tokenized_text = [tokenize_and_stem(text) for text in preprocess]\n",
    "%time texts = [[word for word in text if word not in stopwords] for text in tokenized_text]"
   ]
  },
  {
   "cell_type": "code",
   "execution_count": 38,
   "metadata": {
    "collapsed": false
   },
   "outputs": [
    {
     "name": "stdout",
     "output_type": "stream",
     "text": [
      "1839\n"
     ]
    }
   ],
   "source": [
    "#print(len([word for word in texts[0] if word not in stopwords]))\n",
    "print(len(texts[0]))"
   ]
  },
  {
   "cell_type": "code",
   "execution_count": 39,
   "metadata": {
    "collapsed": false
   },
   "outputs": [],
   "source": [
    "dictionary = corpora.Dictionary(texts)\n",
    "dictionary.filter_extremes(no_below=1, no_above=0.8)\n",
    "corpus = [dictionary.doc2bow(text) for text in texts]"
   ]
  },
  {
   "cell_type": "code",
   "execution_count": 40,
   "metadata": {
    "collapsed": false
   },
   "outputs": [
    {
     "data": {
      "text/plain": [
       "100"
      ]
     },
     "execution_count": 40,
     "metadata": {},
     "output_type": "execute_result"
    }
   ],
   "source": [
    "len(corpus)"
   ]
  },
  {
   "cell_type": "code",
   "execution_count": 41,
   "metadata": {
    "collapsed": false
   },
   "outputs": [
    {
     "name": "stdout",
     "output_type": "stream",
     "text": [
      "CPU times: user 6min 36s, sys: 408 ms, total: 6min 36s\n",
      "Wall time: 6min 36s\n"
     ]
    }
   ],
   "source": [
    "%time lda = models.LdaModel(corpus, num_topics=5, id2word=dictionary, update_every=5, chunksize=10000, passes=100)"
   ]
  },
  {
   "cell_type": "code",
   "execution_count": 42,
   "metadata": {
    "collapsed": false
   },
   "outputs": [
    {
     "name": "stdout",
     "output_type": "stream",
     "text": [
      "[(1, 0.26478744250099723), (4, 0.7329371649041525)]\n"
     ]
    }
   ],
   "source": [
    "print(lda[corpus[0]])"
   ]
  },
  {
   "cell_type": "code",
   "execution_count": 43,
   "metadata": {
    "collapsed": false
   },
   "outputs": [],
   "source": [
    "topics = lda.print_topics(5, num_words=20)"
   ]
  },
  {
   "cell_type": "code",
   "execution_count": 47,
   "metadata": {
    "collapsed": false
   },
   "outputs": [
    {
     "data": {
      "text/plain": [
       "[(0,\n",
       "  '0.005*father + 0.005*ask + 0.004*kill + 0.004*fight + 0.004*also + 0.004*famili + 0.004*friend + 0.003*death + 0.003*order + 0.003*meet'),\n",
       " (1,\n",
       "  \"0.008*car + 0.006*go + 0.005*meet + 0.005*n't + 0.005*kill + 0.005*call + 0.005*ask + 0.004*day + 0.004*drive + 0.004*polic\"),\n",
       " (2,\n",
       "  '0.007*shark + 0.007*kill + 0.005*boat + 0.005*water + 0.004*fight + 0.004*two + 0.004*soldier + 0.004*prison + 0.004*night + 0.004*ask'),\n",
       " (3,\n",
       "  '0.006*kill + 0.005*men + 0.005*home + 0.004*arriv + 0.004*two + 0.004*say + 0.004*order + 0.004*apart + 0.003*ask + 0.003*love'),\n",
       " (4,\n",
       "  \"0.007*famili + 0.004*father + 0.004*kill + 0.004*home + 0.004*friend + 0.004*life + 0.003*help + 0.003*meet + 0.003*n't + 0.003*say\")]"
      ]
     },
     "execution_count": 47,
     "metadata": {},
     "output_type": "execute_result"
    }
   ],
   "source": [
    "lda.show_topics()"
   ]
  },
  {
   "cell_type": "code",
   "execution_count": 44,
   "metadata": {
    "collapsed": false
   },
   "outputs": [],
   "source": [
    "topics_matrix = lda.show_topics(formatted=False, num_words=20)"
   ]
  },
  {
   "cell_type": "code",
   "execution_count": 45,
   "metadata": {
    "collapsed": false
   },
   "outputs": [
    {
     "data": {
      "text/plain": [
       "(0,\n",
       " [('father', 0.0053252369418388028),\n",
       "  ('ask', 0.0048209459874065793),\n",
       "  ('kill', 0.0042974882459597633),\n",
       "  ('fight', 0.0037502840109423954),\n",
       "  ('also', 0.0036179980790737652),\n",
       "  ('famili', 0.0035445462482726529),\n",
       "  ('friend', 0.0035318361072976144),\n",
       "  ('death', 0.0034429056599379632),\n",
       "  ('order', 0.0033304890486893206),\n",
       "  ('meet', 0.0033094557969955861),\n",
       "  ('home', 0.0033034779976071926),\n",
       "  ('say', 0.003221093898243676),\n",
       "  ('decid', 0.0031777153335400634),\n",
       "  ('come', 0.0030866110581128491),\n",
       "  ('end', 0.0029847022058097018),\n",
       "  ('vote', 0.0029613612688236895),\n",
       "  ('becom', 0.0029607192340169934),\n",
       "  ('brother', 0.002958690186620041),\n",
       "  ('wife', 0.0029358833419874937),\n",
       "  ('film', 0.0029286700156477045)])"
      ]
     },
     "execution_count": 45,
     "metadata": {},
     "output_type": "execute_result"
    }
   ],
   "source": [
    "topics_matrix[0]"
   ]
  },
  {
   "cell_type": "code",
   "execution_count": 46,
   "metadata": {
    "collapsed": false
   },
   "outputs": [
    {
     "data": {
      "text/html": [
       "\n",
       "<link rel=\"stylesheet\" type=\"text/css\" href=\"https://cdn.rawgit.com/bmabey/pyLDAvis/files/ldavis.v1.0.0.css\">\n",
       "\n",
       "\n",
       "<div id=\"ldavis_el157461406308742726562491138040\"></div>\n",
       "<script type=\"text/javascript\">\n",
       "\n",
       "var ldavis_el157461406308742726562491138040_data = {\"lambda.step\": 0.01, \"topic.order\": [2, 5, 4, 1, 3], \"R\": 30, \"mdsDat\": {\"topics\": [1, 2, 3, 4, 5], \"Freq\": [26.539388679584164, 24.86842885142316, 24.031595827310216, 12.516694587739607, 12.04389205394286], \"y\": [0.08534792953783744, 0.0037958196692222633, 0.004245159589538097, -0.07628987077357474, -0.017099038023023108], \"cluster\": [1, 1, 1, 1, 1], \"x\": [0.027177978784455593, 0.035034845324447554, -0.007586764979822209, 0.056671211594406495, -0.11129727072348733]}, \"token.table\": {\"Topic\": [3, 4, 1, 3, 2, 2, 3, 5, 1, 2, 3, 4, 5, 1, 2, 3, 4, 5, 2, 4, 1, 2, 3, 4, 5, 1, 2, 3, 4, 5, 2, 1, 2, 3, 4, 5, 1, 2, 1, 2, 3, 4, 5, 2, 1, 2, 3, 4, 5, 1, 2, 3, 4, 5, 1, 2, 5, 4, 1, 2, 3, 4, 5, 1, 5, 1, 2, 3, 4, 5, 5, 1, 3, 5, 1, 2, 3, 4, 5, 4, 5, 1, 5, 1, 3, 4, 5, 5, 2, 3, 5, 3, 5, 5, 1, 1, 2, 3, 4, 5, 4, 2, 3, 5, 1, 3, 1, 2, 3, 4, 5, 1, 3, 4, 5, 1, 2, 3, 4, 5, 3, 5, 1, 2, 3, 4, 5, 1, 2, 3, 4, 2, 3, 4, 5, 1, 2, 3, 4, 3, 3, 5, 2, 4, 5, 1, 2, 3, 4, 1, 2, 3, 4, 4, 4, 4, 1, 2, 3, 4, 5, 1, 3, 5, 3, 3, 1, 2, 3, 4, 5, 3, 3, 2, 2, 5, 2, 5, 1, 2, 2, 3, 2, 2, 3, 2, 5, 4, 1, 2, 3, 4, 5, 1, 2, 3, 4, 5, 1, 1, 2, 3, 4, 5, 1, 2, 3, 4, 5, 1, 1, 2, 3, 4, 5, 1, 2, 3, 4, 5, 1, 2, 3, 4, 1, 2, 3, 4, 5, 1, 2, 3, 4, 5, 1, 2, 5, 1, 1, 2, 3, 4, 5, 5, 1, 2, 3, 4, 5, 2, 3, 2, 4, 1, 2, 3, 4, 5, 2, 5, 5, 1, 2, 3, 4, 5, 2, 1, 2, 3, 4, 5, 1, 2, 3, 4, 5, 3, 1, 2, 3, 4, 5, 1, 2, 3, 4, 5, 1, 2, 3, 4, 5, 1, 2, 3, 4, 5, 1, 2, 3, 4, 5, 1, 4, 5, 1, 2, 3, 4, 5, 3, 3, 1, 2, 3, 4, 5, 1, 2, 1, 2, 4, 2, 4, 1, 2, 3, 4, 5, 1, 2, 3, 4, 5, 1, 2, 3, 5, 4, 1, 2, 3, 4, 5, 2, 3, 4, 1, 5, 1, 2, 3, 4, 5, 5, 1, 2, 3, 4, 5, 2, 4, 3, 1, 2, 3, 4, 5, 1, 3, 1, 3, 3, 1, 2, 3, 4, 5, 1, 1, 2, 4, 1, 2, 3, 4, 5, 5, 4, 1, 2, 4, 4, 4, 1, 1, 2, 3, 4, 5, 2, 3, 4, 5, 1, 2, 3, 4, 5, 1, 2, 3, 4, 5, 5, 2, 1, 2, 3, 4, 5, 5, 1, 2, 3, 4, 5, 3, 2, 1, 2, 3, 4, 5, 1, 2, 3, 4, 5, 1, 2, 3, 4, 5, 2, 1, 2, 3, 4, 5, 4, 1, 2, 3, 4, 4, 1, 1, 2, 3, 4, 5, 1, 2, 3, 4, 5, 2, 3, 1, 1, 2, 3, 4, 5, 2, 2, 3, 1, 1, 2, 3, 4, 4, 1, 1, 2, 3, 4, 5, 1, 2, 3, 4, 5, 1, 2, 3, 4, 5, 1, 3, 1, 2, 3, 1, 2, 3, 4, 5, 1, 2, 3, 4, 5, 2, 5, 1, 2, 3, 4, 5, 2, 3, 2, 3, 4, 5, 1, 2, 3, 4, 5, 3, 5, 1, 4, 5, 3, 3, 4, 1, 2, 4, 3, 1, 3, 5, 3, 1, 2, 3, 4, 5, 1, 4, 3, 1, 2, 3, 4, 5, 1, 2, 3, 4, 5, 1, 2, 3, 4, 5, 1, 2, 3, 4, 5, 2, 3, 1, 3, 4, 2, 1, 2, 3, 4, 5, 5, 1, 3, 5, 5, 4, 1, 2, 1, 2, 3, 4, 5, 5, 5, 5, 4, 1, 2, 5, 2, 3, 4, 5, 4, 5, 5, 1, 2, 3, 4, 5, 2, 5, 1, 1, 2, 3, 4, 5, 2, 3, 4, 5, 1, 2, 2, 3, 4, 3, 1, 2, 1, 2, 3, 5, 1, 4, 1, 2, 3, 5, 1, 1, 2, 3, 4, 5, 2, 3, 5, 1, 4, 1, 2, 3, 4, 5, 1, 2, 3, 4, 5, 1, 2, 3, 5, 3, 1, 2, 3, 4, 5, 1, 2, 3, 4, 5, 3, 5, 5, 4, 1, 2, 3, 4, 5, 1, 2, 3, 4, 5, 3, 4, 1, 2, 3, 4, 5, 1, 1, 2, 3, 4, 5, 3, 4, 5, 4, 2, 3, 4, 2, 4, 1, 2, 3, 4, 5, 3, 5, 1, 2, 3, 4, 5, 2, 3, 4, 5, 2, 1, 2, 3, 4, 5, 1, 3, 4, 2, 3, 5, 2, 1, 2, 1, 2, 3, 4, 5, 2, 4, 4, 1, 2, 3, 4, 5, 2, 3, 5, 2, 5, 5, 1, 2, 3, 4, 5, 2, 1, 4, 5, 2, 3, 4, 1, 2, 1, 2, 3, 4, 5, 1, 2, 3, 4, 5, 4, 1, 1, 4, 1, 2, 1, 2, 3, 4, 5, 3, 4, 4, 1, 2, 3, 4, 5, 1, 1, 4, 2, 3, 4, 5, 1, 2, 3, 4, 5, 1, 2, 3, 4, 5, 1, 3, 5, 5, 1, 2, 3, 4, 5, 1, 1, 2, 3, 4, 5, 1, 2, 3, 4, 5, 1, 1, 2, 3, 4, 5, 1, 2, 3, 5, 3, 3, 3, 1, 2, 3, 4, 5, 1, 2, 3, 4, 5, 1, 2, 3, 4, 5, 1, 1, 2, 3, 4, 5], \"Term\": [\"9th\", \"abbey\", \"acrophobia\", \"administ\", \"ai\", \"alien\", \"alien\", \"alien\", \"allow\", \"allow\", \"allow\", \"allow\", \"allow\", \"also\", \"also\", \"also\", \"also\", \"also\", \"angel\", \"angel\", \"anoth\", \"anoth\", \"anoth\", \"anoth\", \"anoth\", \"apart\", \"apart\", \"apart\", \"apart\", \"apart\", \"ape\", \"arriv\", \"arriv\", \"arriv\", \"arriv\", \"arriv\", \"art\", \"art\", \"ask\", \"ask\", \"ask\", \"ask\", \"ask\", \"astronaut\", \"attack\", \"attack\", \"attack\", \"attack\", \"attack\", \"attempt\", \"attempt\", \"attempt\", \"attempt\", \"attempt\", \"audit\", \"audit\", \"audit\", \"autism\", \"away\", \"away\", \"away\", \"away\", \"away\", \"bandit\", \"bandit\", \"bar\", \"bar\", \"bar\", \"bar\", \"bar\", \"barrel\", \"beach\", \"beach\", \"beach\", \"becom\", \"becom\", \"becom\", \"becom\", \"becom\", \"belief\", \"belief\", \"berth\", \"biograph\", \"boat\", \"boat\", \"boat\", \"boat\", \"bodili\", \"bomb\", \"bomb\", \"bomb\", \"boot\", \"boot\", \"bouncer\", \"bouquet\", \"boy\", \"boy\", \"boy\", \"boy\", \"boy\", \"breadfruit\", \"bridg\", \"bridg\", \"bridg\", \"briefcas\", \"briefcas\", \"brother\", \"brother\", \"brother\", \"brother\", \"brother\", \"bus\", \"bus\", \"bus\", \"bus\", \"busi\", \"busi\", \"busi\", \"busi\", \"busi\", \"cage\", \"cage\", \"call\", \"call\", \"call\", \"call\", \"call\", \"camp\", \"camp\", \"camp\", \"camp\", \"captain\", \"captain\", \"captain\", \"captain\", \"car\", \"car\", \"car\", \"car\", \"castl\", \"cat\", \"cat\", \"cell\", \"cell\", \"cell\", \"challeng\", \"challeng\", \"challeng\", \"challeng\", \"charact\", \"charact\", \"charact\", \"charact\", \"chariot\", \"chicken\", \"chifforob\", \"children\", \"children\", \"children\", \"children\", \"children\", \"choir\", \"cocain\", \"code\", \"colonel\", \"column\", \"come\", \"come\", \"come\", \"come\", \"come\", \"comeback\", \"commando\", \"committe\", \"comput\", \"comput\", \"concentr\", \"concentr\", \"concert\", \"concert\", \"confisc\", \"confisc\", \"consiglier\", \"courtyard\", \"courtyard\", \"cowboy\", \"cowboy\", \"cruelti\", \"day\", \"day\", \"day\", \"day\", \"day\", \"dead\", \"dead\", \"dead\", \"dead\", \"dead\", \"dealership\", \"death\", \"death\", \"death\", \"death\", \"death\", \"decid\", \"decid\", \"decid\", \"decid\", \"decid\", \"deer\", \"defeat\", \"defeat\", \"defeat\", \"defeat\", \"defeat\", \"defend\", \"defend\", \"defend\", \"defend\", \"defend\", \"deliber\", \"deliber\", \"deliber\", \"deliber\", \"die\", \"die\", \"die\", \"die\", \"die\", \"discov\", \"discov\", \"discov\", \"discov\", \"discov\", \"disguis\", \"disguis\", \"disguis\", \"dockwork\", \"doe\", \"doe\", \"doe\", \"doe\", \"doe\", \"doomsday\", \"drive\", \"drive\", \"drive\", \"drive\", \"drive\", \"droid\", \"droog\", \"elocut\", \"emperor\", \"end\", \"end\", \"end\", \"end\", \"end\", \"epidem\", \"estuari\", \"excess\", \"execut\", \"execut\", \"execut\", \"execut\", \"execut\", \"exorc\", \"face\", \"face\", \"face\", \"face\", \"face\", \"famili\", \"famili\", \"famili\", \"famili\", \"famili\", \"farmhand\", \"father\", \"father\", \"father\", \"father\", \"father\", \"fight\", \"fight\", \"fight\", \"fight\", \"fight\", \"film\", \"film\", \"film\", \"film\", \"film\", \"fire\", \"fire\", \"fire\", \"fire\", \"fire\", \"first\", \"first\", \"first\", \"first\", \"first\", \"fleet\", \"fleet\", \"fluid\", \"follow\", \"follow\", \"follow\", \"follow\", \"follow\", \"forg\", \"foxhol\", \"friend\", \"friend\", \"friend\", \"friend\", \"friend\", \"gala\", \"gala\", \"garag\", \"garag\", \"garag\", \"ghetto\", \"gladiat\", \"go\", \"go\", \"go\", \"go\", \"go\", \"goe\", \"goe\", \"goe\", \"goe\", \"goe\", \"gold\", \"gold\", \"gold\", \"gold\", \"gover\", \"guard\", \"guard\", \"guard\", \"guard\", \"guard\", \"guardian\", \"guilti\", \"guilti\", \"hallucin\", \"hammer\", \"hang\", \"hang\", \"hang\", \"hang\", \"hang\", \"harpoon\", \"head\", \"head\", \"head\", \"head\", \"head\", \"headpiec\", \"heal\", \"heist\", \"help\", \"help\", \"help\", \"help\", \"help\", \"heroin\", \"heroin\", \"highway\", \"highway\", \"hobbit\", \"home\", \"home\", \"home\", \"home\", \"home\", \"hop\", \"hotel\", \"hotel\", \"hotel\", \"hous\", \"hous\", \"hous\", \"hous\", \"hous\", \"hull\", \"infect\", \"judg\", \"judg\", \"judg\", \"juri\", \"juror\", \"kidnapp\", \"kill\", \"kill\", \"kill\", \"kill\", \"kill\", \"king\", \"king\", \"king\", \"king\", \"know\", \"know\", \"know\", \"know\", \"know\", \"lake\", \"lake\", \"lake\", \"lake\", \"lake\", \"lamb\", \"landlord\", \"later\", \"later\", \"later\", \"later\", \"later\", \"launder\", \"life\", \"life\", \"life\", \"life\", \"life\", \"lifeboat\", \"lightsab\", \"line\", \"line\", \"line\", \"line\", \"line\", \"live\", \"live\", \"live\", \"live\", \"live\", \"look\", \"look\", \"look\", \"look\", \"look\", \"lord\", \"love\", \"love\", \"love\", \"love\", \"love\", \"lynch\", \"mansion\", \"mansion\", \"mansion\", \"mansion\", \"mathemat\", \"mediocr\", \"meet\", \"meet\", \"meet\", \"meet\", \"meet\", \"men\", \"men\", \"men\", \"men\", \"men\", \"migrant\", \"milk\", \"millionair\", \"money\", \"money\", \"money\", \"money\", \"money\", \"monolith\", \"moon\", \"mortar\", \"motel\", \"mountain\", \"mountain\", \"mountain\", \"mountain\", \"mous\", \"mule\", \"murder\", \"murder\", \"murder\", \"murder\", \"murder\", \"n't\", \"n't\", \"n't\", \"n't\", \"n't\", \"name\", \"name\", \"name\", \"name\", \"name\", \"necklac\", \"necklac\", \"neighbor\", \"neighbor\", \"neighbor\", \"next\", \"next\", \"next\", \"next\", \"next\", \"night\", \"night\", \"night\", \"night\", \"night\", \"nobl\", \"nuclear\", \"offic\", \"offic\", \"offic\", \"offic\", \"offic\", \"oil\", \"oil\", \"oppon\", \"oppon\", \"oppon\", \"oppon\", \"order\", \"order\", \"order\", \"order\", \"order\", \"overrun\", \"packag\", \"paint\", \"paint\", \"paint\", \"palant\\u00edr\", \"parad\", \"parad\", \"park\", \"park\", \"park\", \"parlor\", \"parol\", \"parol\", \"parol\", \"passport\", \"patient\", \"patient\", \"patient\", \"patient\", \"patient\", \"patron\", \"patron\", \"penicillin\", \"peopl\", \"peopl\", \"peopl\", \"peopl\", \"peopl\", \"perform\", \"perform\", \"perform\", \"perform\", \"perform\", \"phone\", \"phone\", \"phone\", \"phone\", \"phone\", \"plan\", \"plan\", \"plan\", \"plan\", \"plan\", \"planet\", \"planet\", \"platoon\", \"platoon\", \"platoon\", \"pod\", \"polic\", \"polic\", \"polic\", \"polic\", \"polic\", \"pollut\", \"porter\", \"porter\", \"poster\", \"precious\", \"prejudic\", \"pretti\", \"princess\", \"prison\", \"prison\", \"prison\", \"prison\", \"prison\", \"pro\", \"profil\", \"propel\", \"prosthes\", \"prostitut\", \"prostitut\", \"prostitut\", \"protect\", \"protect\", \"protect\", \"protect\", \"provinc\", \"quid\", \"quo\", \"race\", \"race\", \"race\", \"race\", \"race\", \"ranch\", \"ranch\", \"ransom\", \"rape\", \"rape\", \"rape\", \"rape\", \"rape\", \"rapid\", \"rapid\", \"rapid\", \"rapid\", \"rate\", \"rate\", \"rebel\", \"reinforc\", \"reinstat\", \"reservoir\", \"restaur\", \"restaur\", \"river\", \"river\", \"river\", \"river\", \"robberi\", \"robberi\", \"rock\", \"rock\", \"rock\", \"rock\", \"rocker\", \"room\", \"room\", \"room\", \"room\", \"room\", \"rope\", \"rope\", \"rope\", \"roulett\", \"rub\", \"run\", \"run\", \"run\", \"run\", \"run\", \"say\", \"say\", \"say\", \"say\", \"say\", \"script\", \"script\", \"script\", \"scuba\", \"sector\", \"set\", \"set\", \"set\", \"set\", \"set\", \"sever\", \"sever\", \"sever\", \"sever\", \"sever\", \"sewer\", \"sewer\", \"shark\", \"sheik\", \"ship\", \"ship\", \"ship\", \"ship\", \"ship\", \"shoot\", \"shoot\", \"shoot\", \"shoot\", \"shoot\", \"shorter\", \"shorter\", \"show\", \"show\", \"show\", \"show\", \"show\", \"shrimp\", \"sing\", \"sing\", \"sing\", \"sing\", \"sing\", \"sink\", \"sink\", \"sink\", \"sinner\", \"slave\", \"slave\", \"slave\", \"slum\", \"slum\", \"soldier\", \"soldier\", \"soldier\", \"soldier\", \"soldier\", \"solitari\", \"solitari\", \"son\", \"son\", \"son\", \"son\", \"son\", \"space\", \"space\", \"space\", \"space\", \"spaceship\", \"speech\", \"speech\", \"speech\", \"speech\", \"speech\", \"spite\", \"spite\", \"spore\", \"squad\", \"squad\", \"stagecoach\", \"stammer\", \"stamp\", \"stockad\", \"stop\", \"stop\", \"stop\", \"stop\", \"stop\", \"stormtroop\", \"subordin\", \"syphili\", \"talk\", \"talk\", \"talk\", \"talk\", \"talk\", \"throne\", \"throne\", \"tooth\", \"torpedo\", \"torpedo\", \"tourist\", \"town\", \"town\", \"town\", \"town\", \"town\", \"tractor\", \"trial\", \"trial\", \"trial\", \"tribe\", \"tribe\", \"tribe\", \"trooper\", \"trooper\", \"turn\", \"turn\", \"turn\", \"turn\", \"turn\", \"two\", \"two\", \"two\", \"two\", \"two\", \"unanim\", \"undercov\", \"union\", \"urinari\", \"us\", \"us\", \"use\", \"use\", \"use\", \"use\", \"use\", \"valley\", \"valley\", \"verdict\", \"villag\", \"villag\", \"villag\", \"villag\", \"villag\", \"violin\", \"von\", \"von\", \"vote\", \"vote\", \"vote\", \"vote\", \"want\", \"want\", \"want\", \"want\", \"want\", \"war\", \"war\", \"war\", \"war\", \"war\", \"ward\", \"ward\", \"ward\", \"warden\", \"water\", \"water\", \"water\", \"water\", \"water\", \"waterfront\", \"way\", \"way\", \"way\", \"way\", \"way\", \"wife\", \"wife\", \"wife\", \"wife\", \"wife\", \"wig\", \"window\", \"window\", \"window\", \"window\", \"window\", \"wing\", \"wing\", \"wing\", \"wing\", \"witch\", \"wizard\", \"wolf\", \"woman\", \"woman\", \"woman\", \"woman\", \"woman\", \"work\", \"work\", \"work\", \"work\", \"work\", \"wound\", \"wound\", \"wound\", \"wound\", \"wound\", \"yacht\", \"year\", \"year\", \"year\", \"year\", \"year\"], \"Freq\": [0.944474701489666, 0.8607767304054841, 0.9450049146640278, 0.9656261309605391, 0.9410040262195748, 0.698954187581628, 0.254165159120592, 0.021180429926716, 0.15716775213288184, 0.4301433216268345, 0.21507166081341725, 0.08271986954362201, 0.10753583040670862, 0.31908661489368034, 0.21038677905077824, 0.2033738864157523, 0.18584165482818746, 0.0841547116203113, 0.9413128023393997, 0.03922136676414165, 0.42066617891518127, 0.1367165081474339, 0.19981643498471108, 0.11042487196523508, 0.13145818091099415, 0.24270082150086175, 0.1407664764704998, 0.49996369229177523, 0.03883213144013788, 0.07281024645025852, 0.9698712977169883, 0.2885451148641974, 0.19059860798369005, 0.3203115495281458, 0.07147447799388376, 0.12706573865579335, 0.8796918640887812, 0.10150290739485937, 0.3224046372407569, 0.1783515014523336, 0.2240826556708807, 0.16234559747584215, 0.1143278855463677, 0.9460879224487487, 0.10329626942575275, 0.2737351139782448, 0.3305480621624088, 0.10846108289704039, 0.18593328496635494, 0.23791521909724356, 0.23791521909724356, 0.2617067410069679, 0.1070618485937596, 0.1546448924132083, 0.8418698013440628, 0.05261686258400392, 0.05261686258400392, 0.9207171256987586, 0.36668874191635026, 0.2213346460215808, 0.24445916127756684, 0.09249806102394421, 0.07598055012681132, 0.9206193749935824, 0.06575852678525589, 0.5894261254237138, 0.18711940489641704, 0.12162761318267108, 0.056135821468925116, 0.03742388097928341, 0.9293094081743708, 0.10556109671915255, 0.2322344127821356, 0.6544787996587458, 0.28654550931000555, 0.2611554008901316, 0.18498507563050992, 0.15596780886493972, 0.11244190871658445, 0.813479003862627, 0.14790527342956855, 0.945004914566606, 0.8664462132329918, 0.11702281511160016, 0.19803861018886182, 0.09901930509443091, 0.5851140755580008, 0.8664462242523707, 0.21858013939653403, 0.21858013939653403, 0.5585936895689203, 0.07411386769127018, 0.889366412295242, 0.8664425671817921, 0.9543035778881455, 0.16786123367761166, 0.1783525607824624, 0.2098265420970146, 0.3042484860406712, 0.13638725236305949, 0.8296869448653006, 0.1427241826582016, 0.8087703683964759, 0.04757472755273388, 0.9279600341744942, 0.08069217688473863, 0.1540595003042401, 0.39370761188861353, 0.14835359288556452, 0.24535401900304904, 0.06276498160543115, 0.9012599823619807, 0.03755249926508253, 0.03755249926508253, 0.018776249632541264, 0.2698143580635843, 0.5496218404998939, 0.07994499498180274, 0.03997249749090137, 0.04996562186362672, 0.21032583694607576, 0.7361404293112652, 0.4251585039661972, 0.1783881834823205, 0.20514641100466857, 0.07730154617567221, 0.11297918287213632, 0.07905794827713868, 0.6423458297517517, 0.26682057543534304, 0.009882243534642335, 0.09564376087645998, 0.19128752175291996, 0.21519846197203496, 0.5021297446014149, 0.7940033428615018, 0.062082565902751165, 0.09475760058840967, 0.05228005549705361, 0.9444752851405083, 0.8374184859490097, 0.07612895326809178, 0.03588859628684057, 0.32299736658156514, 0.6101061368762897, 0.10571063474141636, 0.2114212694828327, 0.1849936107974786, 0.5021255150217276, 0.7955329523611064, 0.05682378231150761, 0.08523567346726141, 0.028411891155753804, 0.9576951263490837, 0.9476951732618096, 0.9207171258494681, 0.10845616661925066, 0.3615205553975022, 0.15183863326695093, 0.2964468554259518, 0.08676493329540053, 0.9790699475945901, 0.89857650859693, 0.9711716534259133, 0.9299236619878867, 0.956111774200034, 0.28716778228580436, 0.2382881597690717, 0.21995830132529695, 0.1374739383283106, 0.11608910347724007, 0.9444739651595326, 0.9656297882532022, 0.9525547737923573, 0.8798476843580674, 0.10998096054475842, 0.8930606948778215, 0.05581629342986384, 0.8990322637581669, 0.04994623687545372, 0.07582447765084706, 0.8340692541593177, 0.9698703502612878, 0.06633982441491422, 0.8624177173938848, 0.21033796709997907, 0.7361828848499267, 0.9207171254768385, 0.3919900624906149, 0.18048463308920398, 0.21714557418544855, 0.10152260611267724, 0.10998282328873368, 0.17942852427846706, 0.28110468803626504, 0.4007237042219098, 0.05980950809282235, 0.07775236052066906, 0.9336354378458144, 0.2468801759422434, 0.1715608002310505, 0.3012775028447716, 0.20922048808664695, 0.07113496594945996, 0.23452414467396107, 0.22583806524159214, 0.22583806524159214, 0.2041228666606698, 0.1085759929046116, 0.9620538485238445, 0.06208753578711504, 0.09313130368067256, 0.27939391104201766, 0.4967002862969203, 0.03104376789355752, 0.0306133354833253, 0.1530666774166265, 0.2908266870915903, 0.4132800290248915, 0.10714667419163855, 0.15546357331280983, 0.15546357331280983, 0.07773178665640491, 0.5829883999230369, 0.1284469391190943, 0.3090754472553207, 0.36928494996739614, 0.12443297227162262, 0.06823743640701885, 0.2283697895549216, 0.32059605072133224, 0.25032842316597176, 0.07465935427757052, 0.12736007494409088, 0.8213252523730709, 0.039110726303479566, 0.1173321789104387, 0.9543019509087828, 0.4190991527019603, 0.1892705850912079, 0.1351932750651485, 0.11491428380537622, 0.1385731069417772, 0.8664462242709516, 0.6091802282397311, 0.10389120171530296, 0.17472611197573681, 0.0850018923125206, 0.028333964104173538, 0.9865188260233766, 0.9603690500437853, 0.941004026194853, 0.9497484696709405, 0.2918188084674403, 0.27465299620464967, 0.18024102875930134, 0.18882393489069665, 0.06437179598546476, 0.9410040259554056, 0.8350634585511256, 0.8350634583393658, 0.11023708747112947, 0.18038796131639367, 0.25053883516165787, 0.36077592263278735, 0.10021553406466314, 0.9565921621756143, 0.23879762811137287, 0.22588964821346083, 0.3807854069884054, 0.09035585928538432, 0.07099388943851626, 0.05222868463742003, 0.6267442156490404, 0.16539083468516344, 0.15088286673032453, 0.0029015935909677795, 0.9289982231414039, 0.2358711889064346, 0.4025534957336484, 0.09120352637715472, 0.24530603646269197, 0.025159593483353025, 0.11595044549474122, 0.2164408315901836, 0.2203058464400083, 0.21257581674035889, 0.23190089098948244, 0.22949627197864303, 0.3338127592416626, 0.20028765554499756, 0.17942435809239363, 0.05424457337677017, 0.2328376332193734, 0.22671032708202146, 0.3676383682411159, 0.049018449098815454, 0.12254612274703863, 0.3098287583687365, 0.26318787001215255, 0.16657460127351426, 0.12326520494240055, 0.1365911730442817, 0.15693616753594888, 0.7846808376797444, 0.8664462242428197, 0.39412559882781684, 0.16421899951159036, 0.2439825135600771, 0.09853139970695421, 0.09853139970695421, 0.9444727446829175, 0.9444752850166551, 0.306089399688588, 0.27893630778072936, 0.2048824207592968, 0.12836007083714981, 0.08145927572357584, 0.8834254745950775, 0.05521409216219234, 0.8828226305050492, 0.04203917288119282, 0.04203917288119282, 0.9516028874253791, 0.9707133238623555, 0.4686732104737961, 0.15622440349126537, 0.18846118516406615, 0.08679133527292521, 0.10166984989114096, 0.4337030753476832, 0.20817747616688795, 0.15613310712516595, 0.06592286745284785, 0.13878498411125864, 0.7842795833532387, 0.08113237069171433, 0.02704412356390478, 0.08113237069171433, 0.9477031470971754, 0.08549760632689526, 0.25649281898068577, 0.15389569138841147, 0.28214210087875435, 0.2308435370826172, 0.9698712838632759, 0.17395062875638495, 0.831097448502728, 0.9336453819696815, 0.9438366296105523, 0.18162243525989347, 0.15135202938324455, 0.09081121762994673, 0.15135202938324455, 0.4237856822730848, 0.8915761642788541, 0.2765705449411033, 0.3579148228649572, 0.2331869300483812, 0.03253771116954156, 0.09761313350862469, 0.9757787969744705, 0.9374165824681346, 0.9444727529871687, 0.14185741609201186, 0.3455501161215674, 0.2909895714707936, 0.0727473928676984, 0.14913215537878172, 0.8685993164528901, 0.10857491455661127, 0.9440338699555261, 0.05244632610864034, 0.9299236618929472, 0.2239138678526733, 0.28788925866772286, 0.31495577016639764, 0.11810841381239912, 0.054133022997349595, 0.9336354380701842, 0.8690791297846496, 0.08410443191464351, 0.056069621276429005, 0.3461789977562073, 0.2683859645525652, 0.1750343247081947, 0.14002745976655576, 0.07001372988327788, 0.8915761642730473, 0.9477031473529589, 0.1818761252519914, 0.13640709393899356, 0.6820354696949678, 0.9643273230041635, 0.9707133238292532, 0.9450049143470853, 0.25594027452811485, 0.20710956425630347, 0.2694108152927525, 0.1060805085215213, 0.1616464891756515, 0.7915470745833805, 0.07420753824219192, 0.04947169216146128, 0.07420753824219192, 0.3134441711438968, 0.30461475787223774, 0.21190591851981755, 0.1103676658957383, 0.05739118626578392, 0.14677137118601938, 0.0489237903953398, 0.0244618951976699, 0.5136997991510679, 0.29354274237203876, 0.8350634583405782, 0.9066767604851472, 0.21429450892422028, 0.26884220210493087, 0.2415683555145756, 0.1441617605490209, 0.13247296915315435, 0.9562930516151747, 0.1670039723556503, 0.4334150711134734, 0.15109883213130265, 0.15507511718738956, 0.09145455628999896, 0.980267239766834, 0.9620015867618706, 0.19608976956898685, 0.23285660136317188, 0.19608976956898685, 0.024511221196123357, 0.35541270734378866, 0.19670975760973353, 0.3888448696936593, 0.22415763076458006, 0.1463886568258482, 0.03659716420646205, 0.414113815835413, 0.1713574410353433, 0.2808358061412571, 0.047599289176484254, 0.08091879160002323, 0.9698714105761989, 0.3328202072827171, 0.2066988655755822, 0.3363235778856931, 0.10159774748630312, 0.02102022361785582, 0.920717125860979, 0.03224950253973053, 0.0967485076191916, 0.7739880609535328, 0.0967485076191916, 0.9477031467398029, 0.9450049148573854, 0.3917684931295375, 0.23658746663017524, 0.19588424656476874, 0.12465361145030739, 0.050879025081758116, 0.2464401845177413, 0.10294336821627167, 0.4117734728650867, 0.08734588818350324, 0.15285530432113068, 0.9410040262268402, 0.9735569376051407, 0.9543018302445083, 0.4534615689887318, 0.22439335372638275, 0.09817209225529246, 0.07947264611142722, 0.14492070761495554, 0.9611277227479373, 0.9698712977132705, 0.9656242452539571, 0.9704775198573259, 0.17662485144473059, 0.08831242572236529, 0.7064994057789223, 0.029437475240788432, 0.9780547470398752, 0.9543018304139929, 0.43158531254000393, 0.10233466173628959, 0.2091186565915483, 0.16462532540185718, 0.09343599549835137, 0.40473427057836225, 0.23916115988721406, 0.1682012553052934, 0.06833175996777545, 0.11826650763653443, 0.30935434572893156, 0.19008520038765672, 0.23853829068254961, 0.14908643167659352, 0.11554198454935997, 0.13245401648971514, 0.8388754377681958, 0.1245575406119136, 0.1453171307138992, 0.726585653569496, 0.47459573885979045, 0.2130075363386461, 0.16442687015614788, 0.06726553779115141, 0.08221343507807394, 0.33406955722368364, 0.15263522873151064, 0.27647135770235887, 0.09215711923411964, 0.14687540877937816, 0.962001740135228, 0.9765457893216771, 0.26788725627172455, 0.16742953516982784, 0.3571830083622994, 0.06697181406793114, 0.14138494081007685, 0.9439201678538915, 0.03775680671415566, 0.190525477992863, 0.0952627389964315, 0.6192078034768048, 0.0952627389964315, 0.11060730622191957, 0.26143545106999166, 0.35193233797883494, 0.16423509105678966, 0.11060730622191957, 0.9444752850710089, 0.9292995238418554, 0.8439387425182181, 0.05274617140738863, 0.05274617140738863, 0.9656297882484373, 0.11019236016923525, 0.7713465211846467, 0.8405107626313172, 0.12007296609018817, 0.03001824152254704, 0.94446319714306, 0.06517692086262329, 0.06517692086262329, 0.8472999712141028, 0.9735565852959962, 0.06148115009049573, 0.12296230018099145, 0.696786367692285, 0.04098743339366382, 0.08197486678732764, 0.8766836557044173, 0.05844557704696115, 0.9101664081086309, 0.10677967742059882, 0.4627119354892616, 0.22779664516394416, 0.11389832258197208, 0.08542374193647906, 0.6011365002509096, 0.2076653364503142, 0.010929754550016537, 0.16394631825024808, 0.010929754550016537, 0.6526653883004496, 0.09178107022975072, 0.09178107022975072, 0.06118738015316715, 0.10197896692194525, 0.2533929716041746, 0.3363215804928136, 0.16585721777727794, 0.1336072032094739, 0.11517862345644302, 0.947797910547947, 0.03645376579030565, 0.2071901308320444, 0.7251654579121554, 0.07769629906201665, 0.9734018370723386, 0.4957798487666936, 0.10457856184922444, 0.2517632044518366, 0.10070528178073465, 0.050352640890367326, 0.8350634584228318, 0.30203934175040076, 0.7047584640842683, 0.9293106816685202, 0.8664462242702679, 0.8296869451789983, 0.9336854057050814, 0.9410040771870596, 0.01879873167683211, 0.11905863395327004, 0.43237082856713854, 0.09399365838416056, 0.3321109262907006, 0.9121527316261834, 0.8347295063492348, 0.8915077558108278, 0.9207171258243482, 0.258754036723063, 0.11500179409913913, 0.6037594190204804, 0.6302076882515031, 0.10503461470858384, 0.1260415376503006, 0.1260415376503006, 0.9477031473017112, 0.8664462241665192, 0.8664462241676147, 0.26499120138649573, 0.16307150854553584, 0.1019196928409599, 0.42806270993203155, 0.04076787713638396, 0.870644790852272, 0.12898441345959585, 0.938205140117055, 0.07519852969196693, 0.09399816211495866, 0.5827886051127437, 0.2255955890759008, 0.018799632422991732, 0.04815366967256009, 0.09630733934512017, 0.14446100901768028, 0.6741513754158412, 0.062174800631630694, 0.8704472088428297, 0.9652684201504271, 0.9444752850240582, 0.920717125834544, 0.9202113801986144, 0.8848985491428468, 0.09832206101587188, 0.09229224349297897, 0.03691689739719159, 0.3691689739719159, 0.5168365635606822, 0.890906168742409, 0.08099146988567354, 0.17707710972978738, 0.11805140648652492, 0.11805140648652492, 0.5902570324326245, 0.9336354382617652, 0.517584363497862, 0.16921027268199332, 0.17916381813387527, 0.08958190906693764, 0.04479095453346882, 0.0581738630214395, 0.17452158906431853, 0.7562602192787136, 0.9742146545347962, 0.9207171259336719, 0.3782025735166675, 0.2480016875519131, 0.21080143441912613, 0.0682004640767761, 0.09300063283196741, 0.2720999817234712, 0.23775726558361562, 0.27738347651421824, 0.12416212758255482, 0.08981941144269924, 0.07851196720969182, 0.03925598360484591, 0.86363163930661, 0.9293106817447, 0.9444718418146988, 0.1908101718397708, 0.270314410106342, 0.291515540310761, 0.06890367316436169, 0.18020960673756134, 0.19282861132910048, 0.1981849616437977, 0.3481627704553203, 0.11248335660864195, 0.14462145849682537, 0.9021810490454403, 0.08201645900413093, 0.9961707059704952, 0.8607767304778609, 0.11059108525703203, 0.5898191213708375, 0.19906395346265765, 0.058981912137083745, 0.03686369508567734, 0.2697956605807408, 0.15288420766241978, 0.32825138703990125, 0.06295232080217285, 0.1843603680635062, 0.09194478887840071, 0.8275030999056064, 0.43380036450482523, 0.22808060401800087, 0.12969289248082402, 0.16994241083694184, 0.03577734964988249, 0.983323506601867, 0.5988668636744293, 0.25264695811264987, 0.03742917897965183, 0.09357294744912958, 0.018714589489825916, 0.29151245642718737, 0.03239027293635415, 0.6801957316634372, 0.860776730553281, 0.24809462796701756, 0.09923785118680703, 0.6450460327142457, 0.09191178514683575, 0.8272060663215218, 0.040115791373488544, 0.1554486915722681, 0.47136054863849036, 0.06518816098191887, 0.2657671178493616, 0.12329040622595892, 0.8630328435817125, 0.1782619037469524, 0.40406031515975877, 0.1663777768304889, 0.22579841141280638, 0.03565238074939048, 0.7912932222414283, 0.060868709403186796, 0.060868709403186796, 0.09130306410478019, 0.9765284217158972, 0.18685429098238518, 0.5979337311436326, 0.018685429098238518, 0.13079800368766964, 0.05605628729471556, 0.062391967023737144, 0.8734875383323201, 0.9207171259102418, 0.07576460409868883, 0.9091752491842661, 0.912151226889567, 0.9525547851060973, 0.9685962721241728, 0.9525597579787666, 0.47069485344430134, 0.23276119126366548, 0.16034659842608068, 0.06206965100364413, 0.07241459283758482, 0.9410040259289241, 0.9477030873632454, 0.9477031471491427, 0.5022033007902229, 0.20709414465576204, 0.13978854764263937, 0.04659618254754645, 0.10354707232788102, 0.8351463620152895, 0.11135284826870527, 0.8350634585705154, 0.10098328866388946, 0.8583579536430604, 0.8350634585616777, 0.21104539794115548, 0.19393360891889963, 0.19963753859298491, 0.21104539794115548, 0.18252574957072906, 0.9066767717866574, 0.21918073802900645, 0.7123373985942709, 0.05479518450725161, 0.18064985536881037, 0.7426716276273315, 0.08028882460836016, 0.8394482531626013, 0.1259172379743902, 0.29223938163629337, 0.2133811357979285, 0.20410369511106205, 0.12524544927269715, 0.16235521202016298, 0.2735636308904676, 0.2019768863583826, 0.2940169864710633, 0.0767000834272339, 0.1534001668544678, 0.8607767306311259, 0.9450049146661857, 0.9742075914349392, 0.9207171258852501, 0.0704672736204677, 0.8456072834456124, 0.224594264370609, 0.2515455760950821, 0.2066267232209603, 0.1347565586223654, 0.17967541149648722, 0.9247519210657338, 0.04623759605328669, 0.9374165824905261, 0.3060963363793779, 0.03673156036552534, 0.5019979916621797, 0.012243853455175115, 0.14692624146210137, 0.954303167839403, 0.2729584593976112, 0.682396148494028, 0.05421709967659915, 0.1084341993531983, 0.7771117620312545, 0.05421709967659915, 0.32380013698344157, 0.2859086315917622, 0.14812133925838283, 0.1412319746417139, 0.09989578694170005, 0.01994746989515667, 0.3923002412714145, 0.37235277137625783, 0.09973734947578335, 0.11968481937094001, 0.03433223721890092, 0.8926381676914239, 0.06866447443780184, 0.9829627276033988, 0.01424664026789591, 0.0641098812055316, 0.3989059275010855, 0.05698656107158364, 0.46301580870661707, 0.9620456728139967, 0.25522868573654955, 0.3055010026240517, 0.22815897664327914, 0.11214593767212026, 0.10054463377500437, 0.30765128345639037, 0.20371503904544766, 0.23697463725694934, 0.1787703403868214, 0.07067664619944103, 0.9543021549328525, 0.2654468057972847, 0.07865090542141769, 0.5702190643052782, 0.01966272635535442, 0.06881954224374047, 0.042374121710325466, 0.8474824342065093, 0.042374121710325466, 0.042374121710325466, 0.9101685073644631, 0.9802672395642188, 0.9561119470755401, 0.3919675751899512, 0.11558018242780611, 0.3919675751899512, 0.05527747855242901, 0.04522702790653283, 0.34317649293502867, 0.28111265910635325, 0.16793743271288636, 0.11682604014809486, 0.09492115762032707, 0.20179706088043634, 0.13970565753260977, 0.411355547179351, 0.06209140334782657, 0.18627421004347972, 0.9382200858117102, 0.12392756663487832, 0.38794716511787997, 0.21013804777218498, 0.1885854274878583, 0.09698679127946999]}, \"tinfo\": {\"Total\": [106.0, 306.0, 344.0, 140.0, 111.0, 317.0, 159.0, 199.0, 258.0, 51.0, 55.0, 47.0, 593.0, 28.0, 28.0, 54.0, 71.0, 116.0, 320.0, 138.0, 63.0, 101.0, 175.0, 298.0, 99.0, 41.0, 437.0, 22.0, 35.0, 66.0, 25.760514271031603, 18.11970460733033, 18.119415963358197, 15.254389729618532, 14.299284779801118, 13.34417850393869, 13.344081758047171, 12.389062755407359, 11.433968584698116, 11.433871416738443, 19.067112497614083, 10.478864949297886, 10.478864947436834, 10.478863624324553, 10.478861384006441, 10.478845759050593, 10.478850261642295, 9.523759996759596, 9.523759994547268, 9.523759993543703, 9.52375999356545, 9.523759991616792, 30.414306672825766, 20.021528398497907, 8.568655039978424, 8.568655037919218, 8.568655036160939, 8.568563776455102, 8.568196472942322, 24.78555018854946, 53.25877209615344, 18.111318339935444, 17.109934584040428, 30.51197227767345, 71.33987904572403, 24.6939585467849, 23.787337653528688, 306.0440515580884, 29.555803641462347, 27.630691787795897, 33.3130772916491, 23.8251731713664, 19.005314093052945, 35.19653072433674, 18.95872199474787, 36.97660963709983, 211.75999157548915, 25.56843338168928, 98.05943619387716, 403.26606210099806, 258.17910977707936, 106.86849428822839, 200.93342715603427, 267.5961657496456, 106.88362337979495, 91.49336295008445, 193.14886988470474, 336.3451481411963, 380.4965657588994, 288.2156182540146, 393.08929304092914, 295.87270506409686, 354.6008261455045, 193.33119819371106, 213.91007889890307, 223.6051602001848, 224.75278277920776, 322.57845012951356, 437.3386226908011, 302.70904806049793, 210.08717090129062, 347.23307614147444, 405.1104027978631, 190.1745469681088, 593.8885557587495, 213.1300282189927, 377.7572184900805, 285.43939917476644, 273.91153512894135, 391.13386399978674, 290.30253314811586, 378.5373278880866, 300.1658092994644, 327.33477011862806, 35.95637348011186, 28.38263118897288, 24.595738372687677, 21.75560658736496, 20.808888898572686, 19.862174029094668, 18.915453323917628, 17.968731654452466, 13.235146607267028, 13.235146772239982, 12.288428819014115, 27.432008142926495, 26.48529065423012, 25.496306796586584, 11.341711035201707, 11.34171103515823, 11.341711197164061, 11.341709715378578, 11.341722114751262, 10.394993249086347, 10.39499159179723, 9.448275459555393, 9.44827557177501, 9.448226134491625, 8.50155767623066, 8.501557675991412, 8.50155767382811, 8.50155767360476, 8.50155767353912, 8.501557213135966, 17.91591556068755, 16.08368647492312, 27.277448616018447, 31.011498930085793, 40.42715970726409, 14.190984674473672, 23.5993091924387, 344.6382026459006, 17.96092359643828, 32.85760482865256, 101.19159647244949, 135.6348024358158, 47.21339479226751, 100.06880357952336, 251.49102388149873, 317.9701613737615, 47.60335451196148, 140.47616889603336, 218.59617195660806, 53.5176363755152, 274.9239417606742, 168.29170658126603, 185.5922828515125, 406.4062707356495, 175.25696206128026, 405.1104027978631, 239.655309107236, 217.05416551930077, 150.395013290804, 184.40141559854337, 120.88993920289656, 593.8885557587495, 249.13010944021033, 258.5916226835336, 227.70087103615913, 290.30253314811586, 393.08929304092914, 380.4965657588994, 378.5373278880866, 273.91153512894135, 300.1658092994644, 298.35280441411055, 322.57845012951356, 226.51561756879866, 327.33477011862806, 391.13386399978674, 275.697916851777, 437.3386226908011, 377.7572184900805, 257.0924307276355, 19.784061136844997, 15.069996530950354, 14.12718890435167, 13.18437179808374, 13.18440220721458, 12.24155976622726, 12.241559763697005, 12.241584210982547, 11.298774190915813, 11.298778279698663, 10.355935702997597, 10.355935702946494, 10.355974925878074, 10.355995149407233, 21.62742195436688, 9.413123669804882, 9.41312537180099, 8.470311639609422, 8.470311639121963, 8.470311638498673, 8.470311639543029, 8.470316872841652, 8.470323476464179, 8.470334422075668, 8.470342519295102, 8.470334347600481, 8.470420048340138, 39.5963264863403, 7.527499607603103, 7.527499606834591, 29.127143495602734, 15.073901820204163, 16.027704329622242, 63.05869007183848, 25.473823559386144, 22.649369792670242, 13.135606849583912, 13.18835329937586, 49.82013399139356, 48.17050794776303, 31.008230243800707, 12.192674642898602, 48.79544373493698, 38.61187773700033, 206.01495986210523, 39.72992369290938, 101.71529440297446, 199.4227142503036, 320.5646033523107, 33.97030458014295, 159.58523434308353, 53.19252938036233, 298.35280441411055, 198.99605206425676, 406.4062707356495, 249.13010944021033, 377.7572184900805, 268.76978398318676, 593.8885557587495, 285.43939917476644, 167.19749616533102, 391.13386399978674, 81.67363352240463, 378.5373278880866, 140.38397561752856, 347.23307614147444, 222.39053019180795, 163.20385787548963, 186.69428645398904, 274.9239417606742, 154.94291250976565, 128.8423126013954, 437.3386226908011, 238.98233130635327, 193.6178345179793, 405.1104027978631, 302.70904806049793, 354.6008261455045, 393.08929304092914, 327.33477011862806, 403.26606210099806, 252.1906762739549, 336.3451481411963, 322.57845012951356, 28.844767360919782, 28.84476735993615, 20.739845820912876, 19.839299039175046, 15.336564793942411, 12.634924280696806, 11.734377442710931, 11.734377442991223, 8.132190091694932, 8.132190092430372, 8.132190093142905, 8.132190093826685, 7.231643253957127, 7.231643256691351, 6.331096416381725, 6.331096416724083, 6.3310964177433116, 6.331096418090477, 6.331096420477891, 6.331096817140851, 6.33114968745593, 5.430549578329662, 5.430549578467857, 5.4305495786152616, 5.430549578758417, 5.4305495788263105, 5.430549578914335, 5.430549578974472, 5.430549579715221, 5.430549581024144, 51.7388184471834, 10.876092187481392, 10.879997580314944, 55.333096345890326, 13.522168301540553, 12.74403492452985, 9.075039308207787, 18.249778862733088, 21.99299107817453, 25.729499938558337, 20.153600426465964, 40.879906970382834, 14.654244491368953, 20.994567457008756, 37.83914465923494, 99.78492948555852, 317.9701613737615, 65.33100586472764, 49.05823262048313, 138.30472224469662, 258.73121808195737, 175.25696206128026, 32.21258461372303, 238.98233130635327, 437.3386226908011, 95.31682598454526, 285.18902314445626, 116.96233882578613, 230.25347805903567, 168.29170658126603, 233.02130646451155, 298.35280441411055, 344.6382026459006, 240.53206984423167, 239.655309107236, 175.31772955464533, 593.8885557587495, 405.1104027978631, 275.697916851777, 393.08929304092914, 327.33477011862806, 406.4062707356495, 378.5373278880866, 251.49102388149873, 290.30253314811586, 268.3007403837406, 223.6051602001848, 224.75278277920776, 300.1658092994644, 256.6561330764165, 106.40746547222754, 22.381316587292268, 20.59368179605308, 14.33624531802508, 12.548454660140061, 11.654559332518003, 10.760664002296702, 10.760664003178803, 10.760678749228429, 10.760793203313597, 9.86676867584974, 9.866784952633319, 8.972873345566333, 8.972873345624773, 8.973561865116908, 8.078978018394032, 8.078978018649966, 8.078978018387657, 8.07897801856091, 8.078978019351197, 8.078978019361413, 8.07897812130857, 8.07901211821614, 7.185082688531198, 7.18508268860724, 7.185082688698033, 7.185082690520065, 7.185082689801903, 7.185082690509633, 7.187957241671669, 19.805257151574413, 13.492751507256575, 16.2218623591403, 15.342854292054557, 111.089448562679, 47.36593456680923, 19.017013690631977, 30.873466301595172, 17.189850356533107, 19.01811046174768, 140.38397561752856, 34.78206606543665, 20.766849272337815, 41.17482962929573, 54.17573363443451, 33.88354378019701, 159.58523434308353, 27.864004264961302, 66.07113258242873, 199.4227142503036, 593.8885557587495, 258.73121808195737, 41.82186023787452, 81.5952817690012, 391.13386399978674, 347.23307614147444, 320.5646033523107, 222.39053019180795, 222.62367269314439, 377.7572184900805, 193.6178345179793, 437.3386226908011, 274.9239417606742, 295.87270506409686, 380.4965657588994, 300.1658092994644, 252.1906762739549, 288.2156182540146, 268.76978398318676, 215.5766948562965, 403.26606210099806, 188.66918704014537, 354.6008261455045, 327.33477011862806, 336.3451481411963, 256.6561330764165, 378.5373278880866], \"Freq\": [106.0, 306.0, 344.0, 140.0, 111.0, 317.0, 159.0, 199.0, 258.0, 51.0, 55.0, 47.0, 593.0, 28.0, 28.0, 54.0, 71.0, 116.0, 320.0, 138.0, 63.0, 101.0, 175.0, 298.0, 99.0, 41.0, 437.0, 22.0, 35.0, 66.0, 25.021419746668222, 17.382910103493863, 17.360484201273334, 14.517595041872497, 13.562490246824964, 12.607235175291255, 12.605327895606333, 11.651339396147986, 10.697024634241645, 10.695109066422859, 17.73933002267974, 9.742070363890244, 9.742070332866527, 9.741919268797368, 9.741793330236208, 9.741666124034156, 9.740929045328643, 8.78696552451276, 8.786965461587675, 8.786965455993577, 8.786965443980487, 8.786965405982, 27.899211400920954, 18.338135403794134, 7.831860567308485, 7.831860522541502, 7.831860489311932, 7.8247402326308855, 7.796232273735076, 22.523350162022002, 47.869211525072195, 16.42790885272224, 15.46967311467363, 27.13962907414404, 61.64801231896467, 21.99311254779638, 21.199163503299754, 242.56100005008344, 25.978977098714754, 23.821077329435376, 27.900019612763884, 20.248263276815027, 16.494445495485802, 28.192373278377605, 16.391803638674798, 29.267585931191032, 128.53406509436127, 21.196827170724966, 63.854224580355506, 188.86904282190443, 127.7262762343124, 63.94141674091868, 103.6827178166806, 126.90007417860654, 62.58079789043396, 55.428536789243275, 96.63446704255364, 143.4055036014082, 154.16538238845374, 124.71705929078746, 154.47154011771028, 124.18792417556136, 138.74238809763878, 90.97565912867194, 96.55489952704758, 96.93214780007457, 96.89985120382322, 121.87111845972917, 141.26480592605404, 110.66245525247065, 86.87950012856199, 115.8826956298474, 124.15265309211291, 79.90543058628302, 152.4354663384109, 84.44686706063182, 109.08984285965467, 95.17869625351793, 93.52351172951818, 107.11935669637039, 94.38101573323127, 102.50231025525153, 93.18687077887854, 94.2798125645349, 35.21790144700741, 27.64415920727759, 23.85689963903054, 21.017123848642317, 20.070416919490178, 19.122411941059116, 18.176981295034615, 17.229210864091282, 12.496674653520598, 12.496656136478988, 11.54995666314827, 25.75084454946419, 24.80418849654411, 23.857270446948984, 10.603239099968409, 10.603239086561306, 10.603220679846387, 10.603210026815868, 10.60197351279054, 9.656521323539641, 9.656487321962272, 8.709803439052507, 8.709791009943158, 8.70880717884847, 7.76308575341173, 7.7630857326384595, 7.763085675795879, 7.7630856732645, 7.7630856677819, 7.763076253362759, 16.283574869719583, 14.390183506546853, 23.857334393103844, 26.697515926756697, 32.37223756195503, 12.409381253624927, 19.710390545383277, 216.39469486950554, 15.336875455730537, 25.75095035349148, 64.8889697483322, 80.04186615029873, 33.324082245778214, 55.441120203578826, 108.63003900032568, 128.03768914284458, 30.459415520543782, 65.48846779092874, 85.49416959758243, 32.46359933904109, 95.12438283270208, 67.614398837418, 71.50396081733953, 116.67110199479438, 68.67720344852371, 113.11825181672415, 80.44519952112083, 73.32793494162348, 59.02021076999962, 66.01938568634723, 52.249570805541765, 122.88853449264516, 77.18449666868399, 78.70697206269874, 72.92314068065284, 82.53215456583575, 93.28233339365288, 90.65568015245026, 90.17031894256054, 77.03398205312179, 78.66789313949631, 78.45313082827279, 80.11640851686225, 68.94153681846721, 78.08360516192022, 79.14342189963045, 71.76333707598486, 77.91016539618066, 72.48997053864842, 69.48317460040451, 19.044410502157366, 14.330691254955395, 13.387541510209632, 12.445118596597611, 12.44278650410082, 11.502306576886687, 11.502306540971954, 11.499835327636212, 10.557455224000027, 10.557151984793183, 9.61668258169504, 9.616682498282426, 9.610343161859708, 9.606843209489844, 19.98745009624796, 8.67387050642072, 8.673740036962423, 7.731058534560092, 7.7310585124301365, 7.731058464937234, 7.7310584233332955, 7.730657171538018, 7.7301503642761995, 7.729311178569099, 7.728690203419021, 7.728635071162701, 7.722672343320756, 35.8999072636504, 6.788246497042213, 6.788246452084469, 25.604775743178926, 13.387995850475455, 14.131064578649717, 51.094118048184164, 21.5355989867982, 19.04488638870905, 11.493663549051796, 11.48565932718602, 36.95841002341956, 34.8576253985901, 23.630108580917273, 10.557171902699421, 33.55993628858759, 27.51569493172135, 103.01447165434617, 27.583805241787754, 57.75336582072605, 94.28700791474286, 131.86643044694893, 23.69128405540444, 68.56500980914053, 31.33086735547673, 104.65854568241959, 78.48656348062728, 128.2868837355961, 91.54549304702242, 121.08400885782439, 95.67871695947643, 159.59007070630923, 95.86264529342948, 66.61787255127838, 115.33462783740482, 41.26137350708875, 105.13391562127639, 56.26907814197924, 95.6787517778233, 73.03954160204701, 60.41772474194499, 65.00029619452674, 79.81932175257381, 58.55506553118277, 52.80307427080046, 97.7844204993168, 72.03512344161571, 63.939407840123174, 82.8239520585996, 73.82655730856634, 76.96051950602175, 76.67969575888858, 72.05397775294155, 75.82114690009232, 66.30372418364557, 68.87845393091223, 67.97889971333571, 28.097061178444196, 28.09706116599624, 19.99213966581124, 19.09159161597374, 14.588858667179556, 11.887218151807152, 10.986671337748364, 10.98667131450258, 7.384483997974327, 7.3844839722870725, 7.3844839465064425, 7.384483927175992, 6.4839371602679385, 6.4839370578539635, 5.583390320570528, 5.58339030595262, 5.583390275384244, 5.583390260600551, 5.583390234250359, 5.583381770957267, 5.582510461474902, 4.682843495741046, 4.682843488124789, 4.682843485861662, 4.682843475941604, 4.682843475752304, 4.682843472576486, 4.682843469418942, 4.68284345018401, 4.682843396940015, 42.50659879559155, 9.18567573836783, 9.185730421763022, 43.407783612948876, 10.98669029667534, 10.08621598082359, 7.383835307531673, 12.787941453729086, 14.668378109329309, 15.48975144732469, 12.813000587022913, 20.893043026061882, 10.086222458856897, 12.812456127741426, 18.929642895434164, 36.26348852802243, 78.05759307132436, 27.182577856780068, 21.454524819432365, 40.72420934869856, 54.97185316358023, 43.36863075458977, 16.393196913230614, 50.466285711148, 70.66567069480979, 29.459412745285377, 53.032799267642794, 32.596850324142316, 46.57911246223877, 37.78127803726815, 43.74991625062423, 48.81847732418938, 51.95613860791312, 43.03432686970882, 42.92859356652034, 37.12888581251311, 62.9928005825212, 51.76983271712469, 43.398372634202566, 48.51017085452282, 45.24370137423941, 48.42254796802641, 47.21495766286256, 39.40790359327652, 40.71769397688951, 39.77890476821169, 37.913048679739696, 37.11464519298403, 37.287610711489585, 37.12485604373362, 105.65840812418608, 21.63206995838204, 19.841613161335285, 13.587208865603309, 11.799418252031982, 10.905522910692754, 10.011627619201114, 10.01162760191937, 10.011409556301853, 10.009740758823062, 9.117732249026886, 9.11749150908784, 8.223836965805464, 8.223836961457419, 8.212185339131988, 7.329941597668827, 7.329941595646066, 7.329941593920661, 7.329941589547406, 7.3299415894688815, 7.329941588705706, 7.32994010802834, 7.329440325315204, 6.4360463163891755, 6.436046315126767, 6.43604631403903, 6.436046276593927, 6.436046271138601, 6.436046269901474, 6.393935230741162, 17.162875655156267, 11.772747091193137, 13.587337185236118, 12.693612207490412, 65.43341533262833, 31.311760915708515, 14.481572779811401, 20.736082899925194, 13.161331316883388, 14.177251989887246, 64.66587982498123, 21.311029747194247, 14.43428062731237, 23.420357997136367, 27.56949885643095, 19.804027075258112, 53.27944989946131, 17.16293922932339, 28.033077605945653, 53.38356956086378, 95.9816836388629, 60.18217086892083, 20.7386432646163, 28.66722330188659, 59.63686653962668, 50.576541289108306, 48.5227506350286, 41.20304735776308, 39.9126717452816, 48.11362080208847, 36.17374105600662, 49.713560174439856, 40.626882906123654, 41.4945389912777, 45.45756634720027, 41.13029766717878, 38.58098454154169, 39.6313225973254, 38.10546888807598, 35.34824968112697, 41.46888029733938, 33.91265917183754, 39.07655294739208, 37.67367326499199, 37.71009818533129, 34.14590714314425, 33.5158254061356], \"Category\": [\"Default\", \"Default\", \"Default\", \"Default\", \"Default\", \"Default\", \"Default\", \"Default\", \"Default\", \"Default\", \"Default\", \"Default\", \"Default\", \"Default\", \"Default\", \"Default\", \"Default\", \"Default\", \"Default\", \"Default\", \"Default\", \"Default\", \"Default\", \"Default\", \"Default\", \"Default\", \"Default\", \"Default\", \"Default\", \"Default\", \"Topic1\", \"Topic1\", \"Topic1\", \"Topic1\", \"Topic1\", \"Topic1\", \"Topic1\", \"Topic1\", \"Topic1\", \"Topic1\", \"Topic1\", \"Topic1\", \"Topic1\", \"Topic1\", \"Topic1\", \"Topic1\", \"Topic1\", \"Topic1\", \"Topic1\", \"Topic1\", \"Topic1\", \"Topic1\", \"Topic1\", \"Topic1\", \"Topic1\", \"Topic1\", \"Topic1\", \"Topic1\", \"Topic1\", \"Topic1\", \"Topic1\", \"Topic1\", \"Topic1\", \"Topic1\", \"Topic1\", \"Topic1\", \"Topic1\", \"Topic1\", \"Topic1\", \"Topic1\", \"Topic1\", \"Topic1\", \"Topic1\", \"Topic1\", \"Topic1\", \"Topic1\", \"Topic1\", \"Topic1\", \"Topic1\", \"Topic1\", \"Topic1\", \"Topic1\", \"Topic1\", \"Topic1\", \"Topic1\", \"Topic1\", \"Topic1\", \"Topic1\", \"Topic1\", \"Topic1\", \"Topic1\", \"Topic1\", \"Topic1\", \"Topic1\", \"Topic1\", \"Topic1\", \"Topic1\", \"Topic1\", \"Topic1\", \"Topic1\", \"Topic1\", \"Topic1\", \"Topic1\", \"Topic1\", \"Topic1\", \"Topic1\", \"Topic1\", \"Topic1\", \"Topic1\", \"Topic1\", \"Topic1\", \"Topic1\", \"Topic1\", \"Topic1\", \"Topic2\", \"Topic2\", \"Topic2\", \"Topic2\", \"Topic2\", \"Topic2\", \"Topic2\", \"Topic2\", \"Topic2\", \"Topic2\", \"Topic2\", \"Topic2\", \"Topic2\", \"Topic2\", \"Topic2\", \"Topic2\", \"Topic2\", \"Topic2\", \"Topic2\", \"Topic2\", \"Topic2\", \"Topic2\", \"Topic2\", \"Topic2\", \"Topic2\", \"Topic2\", \"Topic2\", \"Topic2\", \"Topic2\", \"Topic2\", \"Topic2\", \"Topic2\", \"Topic2\", \"Topic2\", \"Topic2\", \"Topic2\", \"Topic2\", \"Topic2\", \"Topic2\", \"Topic2\", \"Topic2\", \"Topic2\", \"Topic2\", \"Topic2\", \"Topic2\", \"Topic2\", \"Topic2\", \"Topic2\", \"Topic2\", \"Topic2\", \"Topic2\", \"Topic2\", \"Topic2\", \"Topic2\", \"Topic2\", \"Topic2\", \"Topic2\", \"Topic2\", \"Topic2\", \"Topic2\", \"Topic2\", \"Topic2\", \"Topic2\", \"Topic2\", \"Topic2\", \"Topic2\", \"Topic2\", \"Topic2\", \"Topic2\", \"Topic2\", \"Topic2\", \"Topic2\", \"Topic2\", \"Topic2\", \"Topic2\", \"Topic2\", \"Topic2\", \"Topic2\", \"Topic2\", \"Topic2\", \"Topic3\", \"Topic3\", \"Topic3\", \"Topic3\", \"Topic3\", \"Topic3\", \"Topic3\", \"Topic3\", \"Topic3\", \"Topic3\", \"Topic3\", \"Topic3\", \"Topic3\", \"Topic3\", \"Topic3\", \"Topic3\", \"Topic3\", \"Topic3\", \"Topic3\", \"Topic3\", \"Topic3\", \"Topic3\", \"Topic3\", \"Topic3\", \"Topic3\", \"Topic3\", \"Topic3\", \"Topic3\", \"Topic3\", \"Topic3\", \"Topic3\", \"Topic3\", \"Topic3\", \"Topic3\", \"Topic3\", \"Topic3\", \"Topic3\", \"Topic3\", \"Topic3\", \"Topic3\", \"Topic3\", \"Topic3\", \"Topic3\", \"Topic3\", \"Topic3\", \"Topic3\", \"Topic3\", \"Topic3\", \"Topic3\", \"Topic3\", \"Topic3\", \"Topic3\", \"Topic3\", \"Topic3\", \"Topic3\", \"Topic3\", \"Topic3\", \"Topic3\", \"Topic3\", \"Topic3\", \"Topic3\", \"Topic3\", \"Topic3\", \"Topic3\", \"Topic3\", \"Topic3\", \"Topic3\", \"Topic3\", \"Topic3\", \"Topic3\", \"Topic3\", \"Topic3\", \"Topic3\", \"Topic3\", \"Topic3\", \"Topic3\", \"Topic3\", \"Topic3\", \"Topic3\", \"Topic3\", \"Topic3\", \"Topic3\", \"Topic3\", \"Topic3\", \"Topic4\", \"Topic4\", \"Topic4\", \"Topic4\", \"Topic4\", \"Topic4\", \"Topic4\", \"Topic4\", \"Topic4\", \"Topic4\", \"Topic4\", \"Topic4\", \"Topic4\", \"Topic4\", \"Topic4\", \"Topic4\", \"Topic4\", \"Topic4\", \"Topic4\", \"Topic4\", \"Topic4\", \"Topic4\", \"Topic4\", \"Topic4\", \"Topic4\", \"Topic4\", \"Topic4\", \"Topic4\", \"Topic4\", \"Topic4\", \"Topic4\", \"Topic4\", \"Topic4\", \"Topic4\", \"Topic4\", \"Topic4\", \"Topic4\", \"Topic4\", \"Topic4\", \"Topic4\", \"Topic4\", \"Topic4\", \"Topic4\", \"Topic4\", \"Topic4\", \"Topic4\", \"Topic4\", \"Topic4\", \"Topic4\", \"Topic4\", \"Topic4\", \"Topic4\", \"Topic4\", \"Topic4\", \"Topic4\", \"Topic4\", \"Topic4\", \"Topic4\", \"Topic4\", \"Topic4\", \"Topic4\", \"Topic4\", \"Topic4\", \"Topic4\", \"Topic4\", \"Topic4\", \"Topic4\", \"Topic4\", \"Topic4\", \"Topic4\", \"Topic4\", \"Topic4\", \"Topic4\", \"Topic4\", \"Topic4\", \"Topic4\", \"Topic4\", \"Topic4\", \"Topic4\", \"Topic4\", \"Topic5\", \"Topic5\", \"Topic5\", \"Topic5\", \"Topic5\", \"Topic5\", \"Topic5\", \"Topic5\", \"Topic5\", \"Topic5\", \"Topic5\", \"Topic5\", \"Topic5\", \"Topic5\", \"Topic5\", \"Topic5\", \"Topic5\", \"Topic5\", \"Topic5\", \"Topic5\", \"Topic5\", \"Topic5\", \"Topic5\", \"Topic5\", \"Topic5\", \"Topic5\", \"Topic5\", \"Topic5\", \"Topic5\", \"Topic5\", \"Topic5\", \"Topic5\", \"Topic5\", \"Topic5\", \"Topic5\", \"Topic5\", \"Topic5\", \"Topic5\", \"Topic5\", \"Topic5\", \"Topic5\", \"Topic5\", \"Topic5\", \"Topic5\", \"Topic5\", \"Topic5\", \"Topic5\", \"Topic5\", \"Topic5\", \"Topic5\", \"Topic5\", \"Topic5\", \"Topic5\", \"Topic5\", \"Topic5\", \"Topic5\", \"Topic5\", \"Topic5\", \"Topic5\", \"Topic5\", \"Topic5\", \"Topic5\", \"Topic5\", \"Topic5\", \"Topic5\", \"Topic5\", \"Topic5\", \"Topic5\", \"Topic5\", \"Topic5\", \"Topic5\", \"Topic5\", \"Topic5\", \"Topic5\", \"Topic5\", \"Topic5\", \"Topic5\"], \"logprob\": [30.0, 29.0, 28.0, 27.0, 26.0, 25.0, 24.0, 23.0, 22.0, 21.0, 20.0, 19.0, 18.0, 17.0, 16.0, 15.0, 14.0, 13.0, 12.0, 11.0, 10.0, 9.0, 8.0, 7.0, 6.0, 5.0, 4.0, 3.0, 2.0, 1.0, -7.1246, -7.4888, -7.4901, -7.669, -7.737, -7.81, -7.8102, -7.8889, -7.9743, -7.9745, -7.4685, -8.0679, -8.0679, -8.0679, -8.0679, -8.0679, -8.068, -8.171, -8.171, -8.171, -8.171, -8.171, -7.0157, -7.4353, -8.2861, -8.2861, -8.2861, -8.287, -8.2907, -7.2298, -6.4758, -7.5453, -7.6054, -7.0433, -6.2229, -7.2536, -7.2903, -4.8531, -7.087, -7.1737, -7.0157, -7.3362, -7.5413, -7.0053, -7.5475, -6.9678, -5.4881, -7.2905, -6.1877, -5.1033, -5.4944, -6.1863, -5.703, -5.5009, -6.2079, -6.3292, -5.7734, -5.3786, -5.3063, -5.5183, -5.3043, -5.5225, -5.4117, -5.8337, -5.7742, -5.7703, -5.7706, -5.5413, -5.3937, -5.6378, -5.8798, -5.5917, -5.5228, -5.9635, -5.3176, -5.9082, -5.6521, -5.7886, -5.8061, -5.6704, -5.797, -5.7144, -5.8097, -5.798, -6.7177, -6.9599, -7.1072, -7.2339, -7.28, -7.3284, -7.3791, -7.4327, -7.7538, -7.7538, -7.8326, -7.0308, -7.0683, -7.1072, -7.9181, -7.9181, -7.9181, -7.9181, -7.9182, -8.0116, -8.0117, -8.1148, -8.1148, -8.1149, -8.2299, -8.2299, -8.2299, -8.2299, -8.2299, -8.2299, -7.4891, -7.6127, -7.1072, -6.9947, -6.802, -7.7608, -7.2981, -4.9022, -7.549, -7.0308, -6.1066, -5.8967, -6.773, -6.264, -5.5913, -5.427, -6.8629, -6.0974, -5.8308, -6.7992, -5.7241, -6.0655, -6.0095, -5.5199, -6.0499, -5.5508, -5.8917, -5.9843, -6.2014, -6.0893, -6.3232, -5.468, -5.9331, -5.9135, -5.9899, -5.8661, -5.7437, -5.7722, -5.7776, -5.935, -5.914, -5.9168, -5.8958, -6.046, -5.9215, -5.908, -6.0059, -5.9237, -5.9958, -6.0382, -7.2983, -7.5826, -7.6507, -7.7237, -7.7239, -7.8025, -7.8025, -7.8027, -7.8882, -7.8882, -7.9816, -7.9816, -7.9822, -7.9826, -7.2499, -8.0847, -8.0848, -8.1998, -8.1998, -8.1998, -8.1998, -8.1999, -8.1999, -8.2, -8.2001, -8.2001, -8.2009, -6.6643, -8.3299, -8.3299, -7.0023, -7.6507, -7.5967, -6.3114, -7.1753, -7.2983, -7.8033, -7.804, -6.6353, -6.6938, -7.0825, -7.8882, -6.7317, -6.9303, -5.6102, -6.9278, -6.1889, -5.6987, -5.3633, -7.0799, -6.0173, -6.8004, -5.5943, -5.8821, -5.3908, -5.7282, -5.4486, -5.6841, -5.1724, -5.6821, -6.0461, -5.4972, -6.5251, -5.5898, -6.2149, -5.6841, -5.9541, -6.1438, -6.0707, -5.8653, -6.1751, -6.2785, -5.6623, -5.9679, -6.0871, -5.8283, -5.9433, -5.9018, -5.9054, -5.9676, -5.9167, -6.0508, -6.0127, -6.0259, -6.2571, -6.2571, -6.5974, -6.6435, -6.9125, -7.1173, -7.1961, -7.1961, -7.5934, -7.5934, -7.5934, -7.5934, -7.7234, -7.7234, -7.8729, -7.8729, -7.8729, -7.8729, -7.8729, -7.873, -7.8731, -8.0488, -8.0488, -8.0488, -8.0488, -8.0488, -8.0488, -8.0488, -8.0488, -8.0488, -5.8431, -7.3751, -7.3751, -5.8221, -7.1961, -7.2816, -7.5935, -7.0442, -6.9071, -6.8526, -7.0423, -6.5533, -7.2816, -7.0423, -6.652, -6.0019, -5.2353, -6.2902, -6.5268, -5.8859, -5.5859, -5.823, -6.7959, -5.6714, -5.3348, -6.2097, -5.6218, -6.1085, -5.7516, -5.9609, -5.8143, -5.7046, -5.6423, -5.8307, -5.8332, -5.9783, -5.4497, -5.6459, -5.8223, -5.711, -5.7807, -5.7128, -5.738, -5.9188, -5.8861, -5.9094, -5.9574, -5.9787, -5.9741, -5.9785, -4.894, -6.4801, -6.5665, -6.9451, -7.0862, -7.165, -7.2505, -7.2505, -7.2505, -7.2507, -7.344, -7.344, -7.4472, -7.4472, -7.4486, -7.5623, -7.5623, -7.5623, -7.5623, -7.5623, -7.5623, -7.5623, -7.5623, -7.6923, -7.6923, -7.6923, -7.6923, -7.6923, -7.6923, -7.6989, -6.7115, -7.0885, -6.9451, -7.0131, -5.3732, -6.1102, -6.8814, -6.5224, -6.977, -6.9026, -5.385, -6.495, -6.8846, -6.4006, -6.2375, -6.5684, -5.5787, -6.7115, -6.2209, -5.5767, -4.9901, -5.4569, -6.5222, -6.1985, -5.466, -5.6308, -5.6722, -5.8357, -5.8675, -5.6807, -5.9659, -5.648, -5.8498, -5.8287, -5.7375, -5.8375, -5.9015, -5.8746, -5.9139, -5.989, -5.8293, -6.0305, -5.8887, -5.9253, -5.9243, -6.0236, -6.0422], \"Term\": [\"shark\", \"car\", \"famili\", \"water\", \"boat\", \"father\", \"prison\", \"soldier\", \"fight\", \"guilti\", \"vote\", \"beach\", \"kill\", \"juror\", \"gladiat\", \"river\", \"hotel\", \"guard\", \"men\", \"children\", \"bridg\", \"camp\", \"brother\", \"order\", \"execut\", \"bomb\", \"ask\", \"warden\", \"pod\", \"hang\", \"motel\", \"ransom\", \"yacht\", \"shrimp\", \"choir\", \"union\", \"roulett\", \"stamp\", \"waterfront\", \"deer\", \"highway\", \"millionair\", \"mule\", \"dockwork\", \"wig\", \"bouquet\", \"violin\", \"kidnapp\", \"berth\", \"undercov\", \"acrophobia\", \"mediocr\", \"bandit\", \"concert\", \"dealership\", \"hop\", \"rocker\", \"hallucin\", \"pretti\", \"briefcas\", \"bus\", \"gala\", \"patron\", \"restaur\", \"hotel\", \"robberi\", \"garag\", \"car\", \"art\", \"heroin\", \"park\", \"trooper\", \"audit\", \"charact\", \"paint\", \"gold\", \"drive\", \"disguis\", \"phone\", \"go\", \"polic\", \"sing\", \"room\", \"next\", \"bar\", \"perform\", \"talk\", \"call\", \"n't\", \"goe\", \"meet\", \"doe\", \"day\", \"stop\", \"money\", \"show\", \"murder\", \"run\", \"ask\", \"away\", \"look\", \"night\", \"friend\", \"anoth\", \"kill\", \"follow\", \"arriv\", \"love\", \"work\", \"two\", \"want\", \"say\", \"first\", \"come\", \"pod\", \"droid\", \"headpiec\", \"rebel\", \"monolith\", \"exorc\", \"ghetto\", \"astronaut\", \"tractor\", \"landlord\", \"spaceship\", \"planet\", \"oil\", \"angel\", \"moon\", \"ape\", \"guardian\", \"lord\", \"consiglier\", \"lightsab\", \"nobl\", \"stammer\", \"committe\", \"stockad\", \"stormtroop\", \"epidem\", \"elocut\", \"ai\", \"migrant\", \"princess\", \"concentr\", \"rate\", \"comput\", \"ranch\", \"king\", \"us\", \"wing\", \"famili\", \"throne\", \"space\", \"camp\", \"ship\", \"alien\", \"busi\", \"life\", \"father\", \"protect\", \"peopl\", \"live\", \"speech\", \"help\", \"son\", \"year\", \"home\", \"brother\", \"friend\", \"film\", \"plan\", \"war\", \"head\", \"allow\", \"kill\", \"die\", \"way\", \"discov\", \"want\", \"meet\", \"n't\", \"say\", \"work\", \"first\", \"order\", \"run\", \"know\", \"come\", \"two\", \"becom\", \"ask\", \"arriv\", \"hous\", \"droog\", \"farmhand\", \"reservoir\", \"witch\", \"penicillin\", \"wizard\", \"lifeboat\", \"cocain\", \"milk\", \"passport\", \"palant\\u00edr\", \"commando\", \"administ\", \"mortar\", \"valley\", \"wolf\", \"column\", \"foxhol\", \"overrun\", \"castl\", \"reinforc\", \"9th\", \"comeback\", \"forg\", \"sector\", \"heist\", \"parlor\", \"squad\", \"hobbit\", \"colonel\", \"ward\", \"courtyard\", \"spite\", \"bridg\", \"script\", \"necklac\", \"cat\", \"confisc\", \"tribe\", \"neighbor\", \"mansion\", \"sewer\", \"patient\", \"platoon\", \"apart\", \"porter\", \"window\", \"soldier\", \"men\", \"mountain\", \"prison\", \"rape\", \"order\", \"woman\", \"home\", \"die\", \"arriv\", \"offic\", \"kill\", \"love\", \"dead\", \"two\", \"villag\", \"say\", \"water\", \"night\", \"shoot\", \"fire\", \"sever\", \"help\", \"face\", \"wound\", \"ask\", \"death\", \"attack\", \"friend\", \"away\", \"day\", \"meet\", \"come\", \"go\", \"attempt\", \"call\", \"run\", \"juror\", \"gladiat\", \"juri\", \"chariot\", \"mous\", \"emperor\", \"verdict\", \"heal\", \"unanim\", \"sinner\", \"sheik\", \"abbey\", \"prejudic\", \"breadfruit\", \"infect\", \"provinc\", \"syphili\", \"gover\", \"mathemat\", \"subordin\", \"chicken\", \"rub\", \"spore\", \"urinari\", \"lynch\", \"chifforob\", \"reinstat\", \"prosthes\", \"autism\", \"cruelti\", \"guilti\", \"shorter\", \"slum\", \"vote\", \"belief\", \"fleet\", \"parad\", \"trial\", \"judg\", \"deliber\", \"slave\", \"lake\", \"von\", \"oppon\", \"challeng\", \"execut\", \"father\", \"defend\", \"race\", \"children\", \"fight\", \"brother\", \"defeat\", \"death\", \"ask\", \"boy\", \"also\", \"guard\", \"decid\", \"son\", \"end\", \"order\", \"famili\", \"wife\", \"film\", \"town\", \"kill\", \"friend\", \"becom\", \"meet\", \"come\", \"home\", \"say\", \"life\", \"want\", \"name\", \"show\", \"murder\", \"first\", \"later\", \"shark\", \"warden\", \"code\", \"nuclear\", \"launder\", \"hammer\", \"scuba\", \"poster\", \"barrel\", \"packag\", \"pro\", \"stagecoach\", \"harpoon\", \"hull\", \"propel\", \"precious\", \"fluid\", \"doomsday\", \"bodili\", \"quo\", \"quid\", \"biograph\", \"bouncer\", \"tooth\", \"tourist\", \"estuari\", \"excess\", \"pollut\", \"lamb\", \"profil\", \"torpedo\", \"boot\", \"solitari\", \"parol\", \"boat\", \"beach\", \"cowboy\", \"sink\", \"rope\", \"cage\", \"water\", \"prostitut\", \"rapid\", \"bomb\", \"river\", \"rock\", \"prison\", \"cell\", \"hang\", \"soldier\", \"kill\", \"fight\", \"captain\", \"line\", \"two\", \"night\", \"men\", \"shoot\", \"use\", \"arriv\", \"attack\", \"ask\", \"help\", \"doe\", \"n't\", \"first\", \"attempt\", \"goe\", \"offic\", \"turn\", \"go\", \"set\", \"day\", \"come\", \"call\", \"later\", \"say\"], \"loglift\": [30.0, 29.0, 28.0, 27.0, 26.0, 25.0, 24.0, 23.0, 22.0, 21.0, 20.0, 19.0, 18.0, 17.0, 16.0, 15.0, 14.0, 13.0, 12.0, 11.0, 10.0, 9.0, 8.0, 7.0, 6.0, 5.0, 4.0, 3.0, 2.0, 1.0, 1.2974, 1.285, 1.2838, 1.277, 1.2736, 1.2697, 1.2696, 1.2651, 1.2599, 1.2597, 1.2544, 1.2536, 1.2536, 1.2536, 1.2536, 1.2536, 1.2535, 1.246, 1.246, 1.246, 1.246, 1.246, 1.2402, 1.2387, 1.2366, 1.2366, 1.2366, 1.2357, 1.2321, 1.2308, 1.2199, 1.229, 1.2258, 1.2094, 1.1805, 1.2107, 1.2113, 1.0941, 1.1975, 1.1782, 1.1492, 1.1639, 1.1848, 1.1046, 1.1811, 1.0927, 0.8273, 1.139, 0.8976, 0.568, 0.6228, 0.8129, 0.6649, 0.5805, 0.7913, 0.8254, 0.634, 0.4741, 0.4231, 0.4889, 0.3925, 0.4584, 0.3882, 0.5727, 0.5311, 0.4907, 0.4852, 0.3532, 0.1965, 0.3203, 0.4435, 0.2291, 0.1439, 0.4594, -0.0334, 0.4008, 0.0845, 0.2283, 0.2519, 0.0314, 0.203, 0.0201, 0.1568, 0.0818, 1.3708, 1.3652, 1.3611, 1.357, 1.3554, 1.3536, 1.3517, 1.3495, 1.3342, 1.3342, 1.3296, 1.3283, 1.326, 1.3251, 1.3242, 1.3242, 1.3242, 1.3242, 1.3241, 1.3179, 1.3179, 1.3102, 1.3102, 1.3101, 1.3007, 1.3007, 1.3007, 1.3007, 1.3007, 1.3007, 1.296, 1.2803, 1.2576, 1.2418, 1.1694, 1.2574, 1.2115, 0.9262, 1.2336, 1.1479, 0.9472, 0.8642, 1.0432, 0.801, 0.5521, 0.4819, 0.9451, 0.6284, 0.4528, 0.8917, 0.3303, 0.4797, 0.4378, 0.1436, 0.4547, 0.1158, 0.2999, 0.3064, 0.4562, 0.3644, 0.5527, -0.1838, 0.2198, 0.2021, 0.2529, 0.1338, -0.0468, -0.0428, -0.043, 0.123, 0.0525, 0.0558, -0.0013, 0.202, -0.0416, -0.2062, 0.0456, -0.3336, -0.2592, 0.0832, 1.3877, 1.3755, 1.372, 1.3681, 1.3679, 1.3635, 1.3635, 1.3633, 1.3579, 1.3579, 1.3517, 1.3517, 1.3511, 1.3507, 1.3469, 1.344, 1.344, 1.3345, 1.3345, 1.3345, 1.3345, 1.3344, 1.3344, 1.3343, 1.3342, 1.3342, 1.3334, 1.3278, 1.3224, 1.3224, 1.2969, 1.3072, 1.2999, 1.2154, 1.2579, 1.2525, 1.2923, 1.2876, 1.1272, 1.1023, 1.1541, 1.2818, 1.0515, 1.087, 0.7327, 1.0609, 0.8598, 0.6767, 0.5375, 1.0654, 0.581, 0.8965, 0.3782, 0.4954, 0.2727, 0.4247, 0.288, 0.3929, 0.1117, 0.3347, 0.5056, 0.2046, 0.743, 0.1447, 0.5116, 0.1368, 0.3124, 0.4321, 0.3707, 0.1891, 0.4527, 0.5338, -0.0721, 0.2266, 0.3179, -0.1616, 0.0147, -0.1019, -0.2086, -0.0878, -0.2454, 0.0899, -0.16, -0.1313, 2.0518, 2.0518, 2.0414, 2.0397, 2.0281, 2.0171, 2.0123, 2.0123, 1.9817, 1.9817, 1.9817, 1.9817, 1.969, 1.969, 1.9524, 1.9524, 1.9524, 1.9524, 1.9524, 1.9524, 1.9523, 1.93, 1.93, 1.93, 1.93, 1.93, 1.93, 1.93, 1.93, 1.93, 1.8816, 1.9092, 1.9088, 1.8354, 1.8705, 1.8442, 1.8719, 1.7225, 1.6731, 1.5706, 1.6252, 1.4069, 1.7045, 1.5843, 1.3855, 1.0659, 0.6736, 1.2012, 1.251, 0.8555, 0.5291, 0.6816, 1.4026, 0.523, 0.2554, 0.9039, 0.3959, 0.8005, 0.4801, 0.5842, 0.4055, 0.2679, 0.186, 0.3573, 0.3584, 0.5259, -0.1656, 0.0208, 0.2292, -0.0142, 0.0992, -0.0493, -0.0035, 0.2247, 0.1138, 0.1693, 0.3035, 0.2771, -0.0076, 0.1447, 2.1095, 2.0826, 2.0794, 2.063, 2.0551, 2.0502, 2.0445, 2.0445, 2.0444, 2.0443, 2.0377, 2.0376, 2.0294, 2.0294, 2.0279, 2.0193, 2.0193, 2.0193, 2.0193, 2.0193, 2.0193, 2.0193, 2.0192, 2.0065, 2.0065, 2.0065, 2.0065, 2.0065, 2.0065, 1.9996, 1.9734, 1.9802, 1.9394, 1.9271, 1.5873, 1.7027, 1.8442, 1.7186, 1.8496, 1.8229, 1.3415, 1.6267, 1.7529, 1.5524, 1.4411, 1.5796, 1.0196, 1.632, 1.2593, 0.7987, 0.2941, 0.6582, 1.4152, 1.0706, 0.2358, 0.1901, 0.2286, 0.4307, 0.3978, 0.0559, 0.4391, -0.0578, 0.2045, 0.1522, -0.0081, 0.129, 0.2392, 0.1325, 0.1631, 0.3085, -0.158, 0.4004, -0.0889, -0.0454, -0.0716, 0.0995, -0.3077]}, \"plot.opts\": {\"xlab\": \"PC1\", \"ylab\": \"PC2\"}};\n",
       "\n",
       "function LDAvis_load_lib(url, callback){\n",
       "  var s = document.createElement('script');\n",
       "  s.src = url;\n",
       "  s.async = true;\n",
       "  s.onreadystatechange = s.onload = callback;\n",
       "  s.onerror = function(){console.warn(\"failed to load library \" + url);};\n",
       "  document.getElementsByTagName(\"head\")[0].appendChild(s);\n",
       "}\n",
       "\n",
       "if(typeof(LDAvis) !== \"undefined\"){\n",
       "   // already loaded: just create the visualization\n",
       "   !function(LDAvis){\n",
       "       new LDAvis(\"#\" + \"ldavis_el157461406308742726562491138040\", ldavis_el157461406308742726562491138040_data);\n",
       "   }(LDAvis);\n",
       "}else if(typeof define === \"function\" && define.amd){\n",
       "   // require.js is available: use it to load d3/LDAvis\n",
       "   require.config({paths: {d3: \"https://cdnjs.cloudflare.com/ajax/libs/d3/3.5.5/d3.min\"}});\n",
       "   require([\"d3\"], function(d3){\n",
       "      window.d3 = d3;\n",
       "      LDAvis_load_lib(\"https://cdn.rawgit.com/bmabey/pyLDAvis/files/ldavis.v1.0.0.js\", function(){\n",
       "        new LDAvis(\"#\" + \"ldavis_el157461406308742726562491138040\", ldavis_el157461406308742726562491138040_data);\n",
       "      });\n",
       "    });\n",
       "}else{\n",
       "    // require.js not available: dynamically load d3 & LDAvis\n",
       "    LDAvis_load_lib(\"https://cdnjs.cloudflare.com/ajax/libs/d3/3.5.5/d3.min.js\", function(){\n",
       "         LDAvis_load_lib(\"https://cdn.rawgit.com/bmabey/pyLDAvis/files/ldavis.v1.0.0.js\", function(){\n",
       "                 new LDAvis(\"#\" + \"ldavis_el157461406308742726562491138040\", ldavis_el157461406308742726562491138040_data);\n",
       "            })\n",
       "         });\n",
       "}\n",
       "</script>"
      ],
      "text/plain": [
       "PreparedData(topic_coordinates=            Freq  cluster  topics         x         y\n",
       "topic                                                \n",
       "1      26.539389        1       1  0.027178  0.085348\n",
       "4      24.868429        1       2  0.035035  0.003796\n",
       "3      24.031596        1       3 -0.007587  0.004245\n",
       "0      12.516695        1       4  0.056671 -0.076290\n",
       "2      12.043892        1       5 -0.111297 -0.017099, topic_info=     Category        Freq      Term       Total  loglift  logprob\n",
       "term                                                             \n",
       "2073  Default  106.000000     shark  106.000000  30.0000  30.0000\n",
       "6813  Default  306.000000       car  306.000000  29.0000  29.0000\n",
       "7300  Default  344.000000    famili  344.000000  28.0000  28.0000\n",
       "3253  Default  140.000000     water  140.000000  27.0000  27.0000\n",
       "2880  Default  111.000000      boat  111.000000  26.0000  26.0000\n",
       "1824  Default  317.000000    father  317.000000  25.0000  25.0000\n",
       "174   Default  159.000000    prison  159.000000  24.0000  24.0000\n",
       "4334  Default  199.000000   soldier  199.000000  23.0000  23.0000\n",
       "7238  Default  258.000000     fight  258.000000  22.0000  22.0000\n",
       "500   Default   51.000000    guilti   51.000000  21.0000  21.0000\n",
       "7466  Default   55.000000      vote   55.000000  20.0000  20.0000\n",
       "694   Default   47.000000     beach   47.000000  19.0000  19.0000\n",
       "4982  Default  593.000000      kill  593.000000  18.0000  18.0000\n",
       "5115  Default   28.000000     juror   28.000000  17.0000  17.0000\n",
       "7793  Default   28.000000   gladiat   28.000000  16.0000  16.0000\n",
       "2309  Default   54.000000     river   54.000000  15.0000  15.0000\n",
       "2702  Default   71.000000     hotel   71.000000  14.0000  14.0000\n",
       "7756  Default  116.000000     guard  116.000000  13.0000  13.0000\n",
       "1323  Default  320.000000       men  320.000000  12.0000  12.0000\n",
       "7050  Default  138.000000  children  138.000000  11.0000  11.0000\n",
       "6816  Default   63.000000     bridg   63.000000  10.0000  10.0000\n",
       "1039  Default  101.000000      camp  101.000000   9.0000   9.0000\n",
       "1509  Default  175.000000   brother  175.000000   8.0000   8.0000\n",
       "6021  Default  298.000000     order  298.000000   7.0000   7.0000\n",
       "4672  Default   99.000000    execut   99.000000   6.0000   6.0000\n",
       "1118  Default   41.000000      bomb   41.000000   5.0000   5.0000\n",
       "5050  Default  437.000000       ask  437.000000   4.0000   4.0000\n",
       "6460  Default   22.000000    warden   22.000000   3.0000   3.0000\n",
       "3037  Default   35.000000       pod   35.000000   2.0000   2.0000\n",
       "1025  Default   66.000000      hang   66.000000   1.0000   1.0000\n",
       "...       ...         ...       ...         ...      ...      ...\n",
       "4182   Topic5   17.162939      cell   27.864004   1.6320  -6.7115\n",
       "1025   Topic5   28.033078      hang   66.071133   1.2593  -6.2209\n",
       "4334   Topic5   53.383570   soldier  199.422714   0.7987  -5.5767\n",
       "4982   Topic5   95.981684      kill  593.888556   0.2941  -4.9901\n",
       "7238   Topic5   60.182171     fight  258.731218   0.6582  -5.4569\n",
       "8006   Topic5   20.738643   captain   41.821860   1.4152  -6.5222\n",
       "5037   Topic5   28.667223      line   81.595282   1.0706  -6.1985\n",
       "7040   Topic5   59.636867       two  391.133864   0.2358  -5.4660\n",
       "517    Topic5   50.576541     night  347.233076   0.1901  -5.6308\n",
       "1323   Topic5   48.522751       men  320.564603   0.2286  -5.6722\n",
       "1258   Topic5   41.203047     shoot  222.390530   0.4307  -5.8357\n",
       "5412   Topic5   39.912672       use  222.623673   0.3978  -5.8675\n",
       "8050   Topic5   48.113621     arriv  377.757218   0.0559  -5.6807\n",
       "61     Topic5   36.173741    attack  193.617835   0.4391  -5.9659\n",
       "5050   Topic5   49.713560       ask  437.338623  -0.0578  -5.6480\n",
       "7217   Topic5   40.626883      help  274.923942   0.2045  -5.8498\n",
       "1688   Topic5   41.494539       doe  295.872705   0.1522  -5.8287\n",
       "1545   Topic5   45.457566       n't  380.496566  -0.0081  -5.7375\n",
       "331    Topic5   41.130298     first  300.165809   0.1290  -5.8375\n",
       "1785   Topic5   38.580985   attempt  252.190676   0.2392  -5.9015\n",
       "4359   Topic5   39.631323       goe  288.215618   0.1325  -5.8746\n",
       "5086   Topic5   38.105469     offic  268.769784   0.1631  -5.9139\n",
       "8024   Topic5   35.348250      turn  215.576695   0.3085  -5.9890\n",
       "6598   Topic5   41.468880        go  403.266062  -0.1580  -5.8293\n",
       "1942   Topic5   33.912659       set  188.669187   0.4004  -6.0305\n",
       "7975   Topic5   39.076553       day  354.600826  -0.0889  -5.8887\n",
       "127    Topic5   37.673673      come  327.334770  -0.0454  -5.9253\n",
       "6869   Topic5   37.710098      call  336.345148  -0.0716  -5.9243\n",
       "2268   Topic5   34.145907     later  256.656133   0.0995  -6.0236\n",
       "4984   Topic5   33.515825       say  378.537328  -0.3077  -6.0422\n",
       "\n",
       "[435 rows x 6 columns], token_table=      Topic      Freq        Term\n",
       "term                             \n",
       "5916      3  0.944475         9th\n",
       "6228      4  0.860777       abbey\n",
       "6910      1  0.945005  acrophobia\n",
       "4726      3  0.965626    administ\n",
       "2498      2  0.941004          ai\n",
       "6159      2  0.698954       alien\n",
       "6159      3  0.254165       alien\n",
       "6159      5  0.021180       alien\n",
       "71        1  0.157168       allow\n",
       "71        2  0.430143       allow\n",
       "71        3  0.215072       allow\n",
       "71        4  0.082720       allow\n",
       "71        5  0.107536       allow\n",
       "4933      1  0.319087        also\n",
       "4933      2  0.210387        also\n",
       "4933      3  0.203374        also\n",
       "4933      4  0.185842        also\n",
       "4933      5  0.084155        also\n",
       "3755      2  0.941313       angel\n",
       "3755      4  0.039221       angel\n",
       "3347      1  0.420666       anoth\n",
       "3347      2  0.136717       anoth\n",
       "3347      3  0.199816       anoth\n",
       "3347      4  0.110425       anoth\n",
       "3347      5  0.131458       anoth\n",
       "5600      1  0.242701       apart\n",
       "5600      2  0.140766       apart\n",
       "5600      3  0.499964       apart\n",
       "5600      4  0.038832       apart\n",
       "5600      5  0.072810       apart\n",
       "...     ...       ...         ...\n",
       "2014      4  0.019663      window\n",
       "2014      5  0.068820      window\n",
       "7350      1  0.042374        wing\n",
       "7350      2  0.847482        wing\n",
       "7350      3  0.042374        wing\n",
       "7350      5  0.042374        wing\n",
       "2937      3  0.910169       witch\n",
       "2627      3  0.980267      wizard\n",
       "3771      3  0.956112        wolf\n",
       "3707      1  0.391968       woman\n",
       "3707      2  0.115580       woman\n",
       "3707      3  0.391968       woman\n",
       "3707      4  0.055277       woman\n",
       "3707      5  0.045227       woman\n",
       "4431      1  0.343176        work\n",
       "4431      2  0.281113        work\n",
       "4431      3  0.167937        work\n",
       "4431      4  0.116826        work\n",
       "4431      5  0.094921        work\n",
       "4090      1  0.201797       wound\n",
       "4090      2  0.139706       wound\n",
       "4090      3  0.411356       wound\n",
       "4090      4  0.062091       wound\n",
       "4090      5  0.186274       wound\n",
       "2560      1  0.938220       yacht\n",
       "1063      1  0.123928        year\n",
       "1063      2  0.387947        year\n",
       "1063      3  0.210138        year\n",
       "1063      4  0.188585        year\n",
       "1063      5  0.096987        year\n",
       "\n",
       "[887 rows x 3 columns], R=30, lambda_step=0.01, plot_opts={'xlab': 'PC1', 'ylab': 'PC2'}, topic_order=[2, 5, 4, 1, 3])"
      ]
     },
     "execution_count": 46,
     "metadata": {},
     "output_type": "execute_result"
    }
   ],
   "source": [
    "pyLDAvis.enable_notebook()\n",
    "pyLDAvis.gensim.prepare(lda, corpus, dictionary)"
   ]
  }
 ],
 "metadata": {
  "kernelspec": {
   "display_name": "Python 3",
   "language": "python",
   "name": "python3"
  },
  "language_info": {
   "codemirror_mode": {
    "name": "ipython",
    "version": 3
   },
   "file_extension": ".py",
   "mimetype": "text/x-python",
   "name": "python",
   "nbconvert_exporter": "python",
   "pygments_lexer": "ipython3",
   "version": "3.5.1+"
  }
 },
 "nbformat": 4,
 "nbformat_minor": 0
}
