{
 "cells": [
  {
   "cell_type": "markdown",
   "metadata": {},
   "source": [
    "### doc_entity\n",
    "ESTABELECE RELAÇÕES ENTRE DOCUMENTOS E ENTIDADES NA BASE DE DADOS NO MYSQL. TRABALHAMOS COM O ACERVO **ANTONIO AZEREDO DA SILVEIRA, MINISTÉRIO DAS RELAÇÕES EXTERIORES**.  \n",
    "\n",
    "AS ENTIDADES A SEREM TRABALHADAS SÃO:\n",
    "* PAÍSES\n",
    "* PESSOAS"
   ]
  },
  {
   "cell_type": "code",
   "execution_count": 1,
   "metadata": {
    "collapsed": false
   },
   "outputs": [],
   "source": [
    "import os\n",
    "import sys\n",
    "import time\n",
    "import datetime\n",
    "import numpy as np\n",
    "import pandas as pd\n",
    "import re\n",
    "\n",
    "#import pymysql\n",
    "import getpass\n",
    "#from sshtunnel import SSHTunnelForwarder\n",
    "\n",
    "from IPython.display import clear_output\n",
    "\n",
    "import csv\n",
    "import xlrd\n",
    "import xlwt\n",
    "\n",
    "import getpass\n",
    "from sshtunnel import SSHTunnelForwarder\n",
    "import pymysql\n",
    "\n",
    "import unicodedata\n",
    "import numpy as np\n",
    "from collections import OrderedDict, Counter\n",
    "import nltk\n",
    "from nltk.collocations import *\n",
    "from nltk.util import ngrams\n",
    "import string"
   ]
  },
  {
   "cell_type": "raw",
   "metadata": {},
   "source": [
    "Sobre leitura de arquivos xls\n",
    "Links importantes:\n",
    "https://www.sitepoint.com/using-python-parse-spreadsheet-data/"
   ]
  },
  {
   "cell_type": "raw",
   "metadata": {},
   "source": [
    "'''''''''''''''''''''''''''''''''''''''''''''''''''''''''''''''''''''''''''''\n",
    "cria tabelas de entidades.\n",
    "nota: é apenas um template para código a ser criado\n",
    "'''''''''''''''''''''''''''''''''''''''''''''''''''''''''''''''''''''''''''''\n",
    "    cur.execute(\"DROP TABLE IF EXISTS person_doc\")\n",
    "    cur.execute('''CREATE TABLE IF NOT EXISTS person_doc \n",
    "               (person_id INT(11), doc_id VARCHAR(31), person_count BIGINT(21)\n",
    "               DEFAULT NULL)\n",
    "               ENGINE=MyISAM DEFAULT CHARSET='utf8';''')\n",
    "    \n",
    "    cur.execute(\"DROP TABLE IF EXISTS country_doc\")\n",
    "    cur.execute('''CREATE TABLE IF NOT EXISTS country_doc \n",
    "               (country_id VARBINARY(11), doc_id VARCHAR(31), person_count INT(11)\n",
    "               DEFAULT NULL)\n",
    "               ENGINE=MyISAM DEFAULT CHARSET='utf8';''')\n",
    "    "
   ]
  },
  {
   "cell_type": "code",
   "execution_count": 2,
   "metadata": {
    "collapsed": false
   },
   "outputs": [],
   "source": [
    "'''''''''''''''''''''''''''''''''''''''''''''''''''''''''''''''''''''''''''''\n",
    "define pastas de trabalho\n",
    "'''''''''''''''''''''''''''''''''''''''''''''''''''''''''''''''''''''''''''''\n",
    "\n",
    "path = \"C:/Users/marcelo.ribeiro/Dropbox/A-Marcelo/Educação-Trabalho/2016-CPDOC/Azeredo Papers/Processamento/text-learning-tools/inputs/\"\n",
    "#path = \"C:/Users/MARCELO/Dropbox/A-Marcelo/Educação-Trabalho/2016-CPDOC/Azeredo Papers/Processamento/text-learning-tools/inputs/\""
   ]
  },
  {
   "cell_type": "code",
   "execution_count": 3,
   "metadata": {
    "collapsed": true
   },
   "outputs": [],
   "source": [
    "'''''''''''''''''''''''''''''''''''''''''''''''''''''''''''''''''''''''''''''\n",
    "Especifica qual sistema operacional está sendo usado. Renato = Linux ; Marcelo = nt (Windows)\n",
    "'''''''''''''''''''''''''''''''''''''''''''''''''''''''''''''''''''''''''''''\n",
    "if os.name == 'nt':\n",
    "    encoding_type = 'utf-8'\n",
    "    ssh_priv_key = 'C:/Users/marcelo.ribeiro/Dropbox/A-Marcelo/Educação-Trabalho/2016-CPDOC/Remoto/marcelo_priv_rsa'\n",
    "    ssh_user='marcelobribeiro'\n",
    "    sql_user='marcelobribeiro'\n",
    "else:\n",
    "    encoding_type = 'ISO-8859-1'\n",
    "    ssh_priv_key = '/home/rsouza/.ssh/id_rsa'\n",
    "    ssh_user='rsouza'\n",
    "    sql_user='rsouza'"
   ]
  },
  {
   "cell_type": "markdown",
   "metadata": {},
   "source": [
    "#### Abre arquivo XLS"
   ]
  },
  {
   "cell_type": "code",
   "execution_count": 4,
   "metadata": {
    "collapsed": false
   },
   "outputs": [
    {
     "name": "stdout",
     "output_type": "stream",
     "text": [
      "WARNING *** file size (1367936) not 512 + multiple of sector size (512)\n"
     ]
    }
   ],
   "source": [
    "workbook = xlrd.open_workbook(path+'PESSOAS-do-Accessus.xls', on_demand = True)\n",
    "\n",
    "#worksheet = workbook.sheet_by_index(0)\n",
    "worksheet = workbook.sheet_by_name('Rel_DescritorEleito')"
   ]
  },
  {
   "cell_type": "markdown",
   "metadata": {},
   "source": [
    "Captura nomes de entidades pessoas retiradas da base do Accessus/CPDOC"
   ]
  },
  {
   "cell_type": "code",
   "execution_count": 33,
   "metadata": {
    "collapsed": true
   },
   "outputs": [],
   "source": [
    "exceptions_list = ['a.', 'i.', 'j.', 'de', 'do']"
   ]
  },
  {
   "cell_type": "code",
   "execution_count": 34,
   "metadata": {
    "collapsed": false
   },
   "outputs": [],
   "source": [
    "def strip_accents(s):\n",
    "   return ''.join(c for c in unicodedata.normalize('NFD', s)\n",
    "                  if unicodedata.category(c) != 'Mn')"
   ]
  },
  {
   "cell_type": "code",
   "execution_count": 35,
   "metadata": {
    "collapsed": false
   },
   "outputs": [],
   "source": [
    "names_list = []\n",
    "\n",
    "for line in range(worksheet.nrows):\n",
    "    number_name = str(worksheet.cell(line, 0).value)\n",
    "    check_number = re.search('^\\d',number_name)\n",
    "    if check_number is not None:\n",
    "        if line == worksheet.nrows-1: break\n",
    "        fullname = str(worksheet.cell(line, 1).value)\n",
    "        fullname = str.lower(fullname)\n",
    "        fullname_split = fullname.split()\n",
    "        for name in fullname_split: \n",
    "            if name not in exceptions_list and name not in names_list:\n",
    "                alt_name = strip_accents(name)\n",
    "                names_list.append(name)\n",
    "                if alt_name != name: names_list.append(alt_name) "
   ]
  },
  {
   "cell_type": "code",
   "execution_count": 8,
   "metadata": {
    "collapsed": false
   },
   "outputs": [
    {
     "data": {
      "text/plain": [
       "['castro',\n",
       " 'lima',\n",
       " 'saldanha',\n",
       " 'júnior',\n",
       " 'junior',\n",
       " 'azevedo',\n",
       " 'faria',\n",
       " 'peixoto',\n",
       " 'pinto',\n",
       " 'ferraz']"
      ]
     },
     "execution_count": 8,
     "metadata": {},
     "output_type": "execute_result"
    }
   ],
   "source": [
    "names_list[:10]"
   ]
  },
  {
   "cell_type": "code",
   "execution_count": 9,
   "metadata": {
    "collapsed": false
   },
   "outputs": [
    {
     "ename": "NameError",
     "evalue": "name 'onlyfiles' is not defined",
     "output_type": "error",
     "traceback": [
      "\u001b[0;31m---------------------------------------------------------------------------\u001b[0m",
      "\u001b[0;31mNameError\u001b[0m                                 Traceback (most recent call last)",
      "\u001b[0;32m<ipython-input-9-fc634c38862b>\u001b[0m in \u001b[0;36m<module>\u001b[0;34m()\u001b[0m\n\u001b[1;32m      2\u001b[0m \u001b[0mtexts\u001b[0m \u001b[1;33m=\u001b[0m \u001b[1;34m''\u001b[0m\u001b[1;33m\u001b[0m\u001b[0m\n\u001b[1;32m      3\u001b[0m \u001b[1;31m#list_raw_texts = []\u001b[0m\u001b[1;33m\u001b[0m\u001b[1;33m\u001b[0m\u001b[0m\n\u001b[0;32m----> 4\u001b[0;31m \u001b[1;32mfor\u001b[0m \u001b[0mfilename\u001b[0m \u001b[1;32min\u001b[0m \u001b[0monlyfiles\u001b[0m\u001b[1;33m:\u001b[0m\u001b[1;33m\u001b[0m\u001b[0m\n\u001b[0m\u001b[1;32m      5\u001b[0m     \u001b[0mpage_txt\u001b[0m \u001b[1;33m=\u001b[0m \u001b[0mcodecs\u001b[0m\u001b[1;33m.\u001b[0m\u001b[0mopen\u001b[0m\u001b[1;33m(\u001b[0m\u001b[0mos\u001b[0m\u001b[1;33m.\u001b[0m\u001b[0mpath\u001b[0m\u001b[1;33m.\u001b[0m\u001b[0mjoin\u001b[0m\u001b[1;33m(\u001b[0m\u001b[0mcorpuspath\u001b[0m\u001b[1;33m,\u001b[0m\u001b[0mfilename\u001b[0m\u001b[1;33m)\u001b[0m\u001b[1;33m,\u001b[0m \u001b[0mencoding\u001b[0m\u001b[1;33m=\u001b[0m\u001b[1;34m'utf-8'\u001b[0m\u001b[1;33m)\u001b[0m\u001b[1;33m.\u001b[0m\u001b[0mread\u001b[0m\u001b[1;33m(\u001b[0m\u001b[1;33m)\u001b[0m\u001b[1;33m\u001b[0m\u001b[0m\n\u001b[1;32m      6\u001b[0m     \u001b[0mtexts\u001b[0m \u001b[1;33m+=\u001b[0m \u001b[1;34m'\\n'\u001b[0m\u001b[1;33m+\u001b[0m \u001b[0mpage_txt\u001b[0m\u001b[1;33m.\u001b[0m\u001b[0mlower\u001b[0m\u001b[1;33m(\u001b[0m\u001b[1;33m)\u001b[0m\u001b[1;33m\u001b[0m\u001b[0m\n",
      "\u001b[0;31mNameError\u001b[0m: name 'onlyfiles' is not defined"
     ]
    }
   ],
   "source": [
    "#Usar este mesmo modelo para formar a variável de extração de entidade\n",
    "texts = ''\n",
    "#list_raw_texts = []\n",
    "for filename in onlyfiles:\n",
    "    page_txt = codecs.open(os.path.join(corpuspath,filename), encoding='utf-8').read()\n",
    "    texts += '\\n'+ page_txt.lower()\n",
    "    #list_raw_texts.append(page_txt)\n",
    "#len(list_raw_texts)"
   ]
  },
  {
   "cell_type": "code",
   "execution_count": 30,
   "metadata": {
    "collapsed": false
   },
   "outputs": [
    {
     "name": "stdout",
     "output_type": "stream",
     "text": [
      "········\n",
      "········\n"
     ]
    }
   ],
   "source": [
    "'''''''''''''''''''''''''''''''''''''''''''''''''''''''''''''''''''''''''''''\n",
    "alimenta a a tabela person_doc, da nossa base no mysql.\n",
    "'''''''''''''''''''''''''''''''''''''''''''''''''''''''''''''''''''''''''''''\n",
    "count = 0\n",
    "texts = ''\n",
    "#percentil = int(len(cursor.rowcount/100)\n",
    "\n",
    "pass_sshkey = getpass.getpass()\n",
    "pass_mysql = getpass.getpass()\n",
    "with SSHTunnelForwarder(('200.20.164.147', 22),\n",
    "                        ssh_private_key=ssh_priv_key,\n",
    "                        ssh_private_key_password=pass_sshkey,\n",
    "                        ssh_username=ssh_user,\n",
    "                        remote_bind_address=('127.0.0.1', 3306)) as server:\n",
    "    \n",
    "    conn = pymysql.connect(host='localhost', \n",
    "                           port=server.local_bind_port, \n",
    "                           user=sql_user,\n",
    "                           passwd=pass_mysql,\n",
    "                           db='CPDOC_AS',\n",
    "                           use_unicode=True, \n",
    "                           charset=\"utf8\")\n",
    "    cur = conn.cursor()\n",
    "    '''''''''''''''''''''''''''''''''''''''''''''''''''''''''''''''''''''''''''''\n",
    "    insere dados na base mysql\n",
    "    captura documentos da tabela docs, transfere para a tabela topic-doc e insere dados de tópicos\n",
    "    '''''''''''''''''''''''''''''''''''''''''''''''''''''''''''''''''''''''''''''\n",
    "    \n",
    "    #cur.execute(\"DROP TABLE IF EXISTS person_doc\")\n",
    "    #cur.execute('''CREATE TABLE IF NOT EXISTS person_doc \n",
    "    #           (person_id INT(11), doc_id VARCHAR(31), person_count BIGINT(21)\n",
    "    #           DEFAULT NULL)\n",
    "    #           ENGINE=MyISAM DEFAULT CHARSET='utf8';''')\n",
    "\n",
    "    cur.execute(\"SELECT id,body FROM CPDOC_AS.docs\")\n",
    "    data = cur.fetchall()\n",
    "    for row in data:\n",
    "        count += 1 # for break event\n",
    "        if row is None: break\n",
    "        text =  row[1]\n",
    "        texts += '\\r\\n'+ text\n",
    "\n",
    "        #print(name, 'text_id', text_id)\n",
    "        #print(doc_id, topic_id, topic_score)   \n",
    "        #cur.execute(\"ALTER TABLE person_doc ORDER BY doc_id ASC, person_count DESC\")\n",
    "        \n",
    "        if count == 10: break #amostra de apenas 3 linhas"
   ]
  },
  {
   "cell_type": "code",
   "execution_count": 28,
   "metadata": {
    "collapsed": false
   },
   "outputs": [
    {
     "data": {
      "text/plain": [
       "'\\r\\n \\n\\njr, /h \\' \"& m$ hb\\'h\\'qo\\n& la\\'?\\n\\n, é %%3 - _\\n(aonsulado do brasil _/ , ova/caio\\n4 & ,\\n* brazilian consulate wo \\'\\naas hawthorn st. 16 % wja mm\\nmu. .. \" \"\\nmm .\\n\\nnew bedford, massachuseti\\'s. u. s, a, 02740\\n\\n \\n\\nmarcio muller bueno\\n\" , /\\n11:11:3sz mao jz\". www não\"3337552 %%, \" aca-m\\n)\\nwha %\" wom- aba/và %%\\n\\nxb\" 7/35 andado.\\n\\n_, íáaw mí. m luz/á && %% %%, aj alma, ;\\n(\\n\\n\"me/&& % \\'wl-(aajj-mi- # \"a\" aaa/fo &\\n\"não. aiwa %%%&/a %%%&/www a* m\" á?!\" á\\n1/1\"me %\"aí\\'ej\\'wfo m/k%/ám%â tai/á\\nw. : úwá 2-- /i < %%\\n\"melwa/ volíco ay? mul/1 \"( o , (-\\n\\n\\' % ó<\\n/l ano)/4% wklt-w wa: (lw/ám/[a w\\n&& mwráww/láw wa\",\\n\\n/-\\n\\númháo , (; vzííóo quo/\\'. ,\\n\"ac-\"44. \\' pá , (\".\\nv £ f (1. é : \"l 01; mw w wm %- &\\n/\\n\\nwl] [iv-156%; , (, \\'\\n\"ab/q \"já-m m\\x80) kífa-nmc aaa-x mw, ala\\nwww,\\n%\"wáwí, 9 m: ( c/mn\\n\\n%sjjéãm\\n\\n\"ém-k w [\\', /á\" \"**-\"í; pé ifá?!\" w %\\'0\\nm amo. .. /lilia\"? jmá%. %i/w %\\n&& po \"vpmtãvak_ jun moo-\"n & %% \"4/4, \"\\n\\np (aõ piatã h , azo\"wat ao.\\n\\n \\n\\nthe secretary of state\\nwashington\\n\\nnovember 20, 1973\\n\\ndear mr. bueno:\\n\\nthank you for your letter of congratulations. i remember our work with the\\nbrazilian student-leaders, and i deeply\\nappreciate hearing from you.\\n\\nbest regards,\\n\\npor\"?\\n\\nhenry a. Kissinger\\n\\nmr. marcio muller bueno,\\nconsul of brazil,\\nbrazilian consulate,\\n229 hawthorn street,\\nnew bedford, massachusetts.\\n\\n;\" m\\n\\n\\r\\n \\n\\n\"**; %wwffwç (. sz\\nao?\\n\\nray\\n\\nmax meo ímm/xaj-ok\\naa; me, um gx\\n\\nwl/z- ao\", d/úáy\\nimfm/ f/afaôepf wai/)ã/m/v/wj\\'\\n\\x80 [wa/v/ióíâr pm arf/f ei!/7-\\nni ázeia/óea maarw 5\" \"a? meet?\"\\n&.\\ncm meat/f www ave \"9,\\n\\nvão:/&? c\" % \"\\x80*-y. ! 0!\" \"ae/j,\\n, êfócm a 4%4-69 azo/. a, \" pé\\n\\n%%%&/0% &cáwé/\\n\\ni-ai\\n\\n\\r\\nam 1933 m 90\\n\\nw ij\"?\\n(\\n\\nt\\n\\ne\\nzi\\n\\nurdo\\n\\n1227a9ar lbrsl\\n122338ar cyt\\n\\n12 02 74 1311 op166\\n\\ntba296 tct657 240784 70 eamm\\'o gonmqaoáq\\naeba hl erro 026 /\\'_\\'/\\n\\nriodejaneiro 026 11 2050\\n\\nlt\\n\\nbrasemb\\n\\npara embaixador azeredo da silveira e sra\\nbuenosaires argentina\\n\\ntorcendo com grande amizade aguardamos oportunidade\\nde abracalos palacio itamarati brasilia\\njorge et dadah carvalho britto\\n\\ncoll lt\\n\\n\\r\\nôôô/ma 44 w\\nwil\"\\n/ oe;\\n\\n  \\n\\ncentro de estudos de pessoal\\n\\n\"forte duque de caxias\\n\\ngabinete do comando\\nlw 20 3. \" u.\\n\\n \\n\\nim éwâmáooacbh ama\\n\\noffhubo mama/?o a %mfáhôa\\ndn sn émnluaaxuini 1 &m4\" gljjil wwúaaaaou3 cuallá-\\n\\npm; aum.\\n[uh m?) q&mdn- maa ox dvi-*o*\"\\n\\n17\\n\\nv\\n\\nw de w wml\\nadm-m) cama. , agl-aw mn ;. \"lm, \" &\\nmmox !. giana %clamácl cu) mais/\"wa, . ol\\nnun. md. maássósb mjo _n/íldaalãamd \"\\n\\n'"
      ]
     },
     "execution_count": 28,
     "metadata": {},
     "output_type": "execute_result"
    }
   ],
   "source": [
    "texts"
   ]
  },
  {
   "cell_type": "raw",
   "metadata": {
    "collapsed": false
   },
   "source": [
    "#teste\n",
    "names_list_test = ['geisel', 'azeredo', 'ernesto', 'antonio']\n",
    "text_test1 = 'O ministro antonio azeredo assinou o tratado. Já o presidente ernesto geisel não concordou com a atitude de azeredo'\n",
    "text_test2 = 'O ministro antonio azeredo é contra tecnologia nuclear. Já o presidente ernesto geisel defende acordo com alemanha ocidental'\n",
    "texts = text_test1 + '\\r\\n' + text_test2"
   ]
  },
  {
   "cell_type": "code",
   "execution_count": 41,
   "metadata": {
    "collapsed": false
   },
   "outputs": [
    {
     "name": "stdout",
     "output_type": "stream",
     "text": [
      "Displaying 4 of 4 matches:\n",
      "semb para embaixador azeredo da silveira e sra bu\n",
      "iq l r :: embbixador azeredo silveira <= av vieir\n",
      " urgent , embaixador azeredo silveira vieira sout\n",
      "mmm de =' ehbaixador azeredo da silveira <= a - v\n"
     ]
    }
   ],
   "source": [
    "#query = 'azeredo'\n",
    "for name in names_list:\n",
    "    query = name\n",
    "    tknzr = nltk.tokenize.WordPunctTokenizer()\n",
    "    tokens = tknzr.tokenize(texts) # texto com stopwords\n",
    "    #tokens = tknzr.tokenize(cleaned_texts) # texto sem stopwords\n",
    "    nltk_text = nltk.Text(tokens)\n",
    "    nltk_text.concordance(query.lower(), width=50, lines=10)"
   ]
  },
  {
   "cell_type": "code",
   "execution_count": 38,
   "metadata": {
    "collapsed": false
   },
   "outputs": [
    {
     "data": {
      "text/plain": [
       "list"
      ]
     },
     "execution_count": 38,
     "metadata": {},
     "output_type": "execute_result"
    }
   ],
   "source": [
    "type(nltk_text)"
   ]
  },
  {
   "cell_type": "raw",
   "metadata": {
    "collapsed": false
   },
   "source": [
    "#About chunk tags: https://www.ling.upenn.edu/courses/Fall_2003/ling001/penn_treebank_pos.html\n",
    "sentence = \"O ministro antonio azeredo assinou o tratado. Já o presidente ernesto geisel não concordou com a atitude de azeredo\"\n",
    "sent1 = nltk.word_tokenize(sentence)\n",
    "sent2 = nltk.pos_tag(sent1)\n",
    "sent3 =  nltk.ne_chunk(sent2, binary=True)\n",
    "sent3"
   ]
  },
  {
   "cell_type": "code",
   "execution_count": 15,
   "metadata": {
    "collapsed": false
   },
   "outputs": [
    {
     "name": "stdout",
     "output_type": "stream",
     "text": [
      "\n"
     ]
    }
   ],
   "source": [
    "nltk_text.similar(query)"
   ]
  },
  {
   "cell_type": "code",
   "execution_count": 19,
   "metadata": {
    "collapsed": false
   },
   "outputs": [
    {
     "name": "stdout",
     "output_type": "stream",
     "text": [
      "marcio muller; new bedford; brazilian consulate; muller bueno\n"
     ]
    }
   ],
   "source": [
    "nltk_text.collocations(num=20, window_size=2)"
   ]
  },
  {
   "cell_type": "markdown",
   "metadata": {},
   "source": [
    "Collocations are expressions of multiple words which commonly co-occur.\n",
    "Below we are using Pointwise Mutual Information.\n",
    "http://en.wikipedia.org/wiki/Pointwise_mutual_information"
   ]
  },
  {
   "cell_type": "code",
   "execution_count": 20,
   "metadata": {
    "collapsed": false
   },
   "outputs": [
    {
     "name": "stdout",
     "output_type": "stream",
     "text": [
      "marcio muller\n",
      "new bedford\n",
      "brazilian consulate\n",
      "muller bueno\n"
     ]
    }
   ],
   "source": [
    "max_items = 50\n",
    "freq_min_b = 2\n",
    "bigram_measures = nltk.collocations.BigramAssocMeasures()\n",
    "finder2 = nltk.collocations.BigramCollocationFinder.from_words(nltk_text)\n",
    "finder2.apply_word_filter(lambda w: w in string.punctuation)\n",
    "finder2.apply_freq_filter(freq_min_b)\n",
    "for a, b in finder2.nbest(bigram_measures.pmi, max_items):\n",
    "    print (a, b)"
   ]
  },
  {
   "cell_type": "code",
   "execution_count": 21,
   "metadata": {
    "collapsed": false
   },
   "outputs": [
    {
     "name": "stdout",
     "output_type": "stream",
     "text": [
      "marcio muller bueno\n"
     ]
    }
   ],
   "source": [
    "max_items = 50\n",
    "freq_min_t = 2\n",
    "trigram_measures = nltk.collocations.TrigramAssocMeasures()\n",
    "finder3 = nltk.collocations.TrigramCollocationFinder.from_words(nltk_text)\n",
    "finder3.apply_word_filter(lambda w: w in string.punctuation)\n",
    "finder3.apply_ngram_filter(lambda w1, w2, w3:  w1 in ['da', 'de', 'das'])\n",
    "finder3.apply_freq_filter(freq_min_t)\n",
    "for a, b, c in finder3.nbest(trigram_measures.pmi, max_items):\n",
    "    print (a, b, c)"
   ]
  },
  {
   "cell_type": "code",
   "execution_count": 22,
   "metadata": {
    "collapsed": false
   },
   "outputs": [
    {
     "name": "stdout",
     "output_type": "stream",
     "text": [
      "brazilian consulate\n",
      "marcio muller\n",
      "muller bueno\n",
      "new bedford\n"
     ]
    }
   ],
   "source": [
    "for a, b in (finder2.above_score(bigram_measures.raw_freq,1.0 / len(list(nltk.bigrams(tokens))))):\n",
    "        print (a, b)"
   ]
  },
  {
   "cell_type": "code",
   "execution_count": 23,
   "metadata": {
    "collapsed": false
   },
   "outputs": [
    {
     "name": "stdout",
     "output_type": "stream",
     "text": [
      "marcio muller bueno\n"
     ]
    }
   ],
   "source": [
    "for a, b, c in finder3.above_score(trigram_measures.raw_freq,1.0 / len(list(nltk.trigrams(tokens)))):\n",
    "        print (a, b, c)"
   ]
  },
  {
   "cell_type": "markdown",
   "metadata": {},
   "source": [
    "### Inserção na base de dados"
   ]
  },
  {
   "cell_type": "code",
   "execution_count": 24,
   "metadata": {
    "collapsed": false
   },
   "outputs": [
    {
     "data": {
      "text/html": [
       "<div>\n",
       "<table border=\"1\" class=\"dataframe\">\n",
       "  <thead>\n",
       "    <tr style=\"text-align: right;\">\n",
       "      <th></th>\n",
       "      <th>Frequência</th>\n",
       "    </tr>\n",
       "    <tr>\n",
       "      <th>Tokens</th>\n",
       "      <th></th>\n",
       "    </tr>\n",
       "  </thead>\n",
       "  <tbody>\n",
       "    <tr>\n",
       "      <th>(&amp;&amp;, %%, %%,, aj)</th>\n",
       "      <td>1</td>\n",
       "    </tr>\n",
       "    <tr>\n",
       "      <th>(vão, :/&amp;?, c, \")</th>\n",
       "      <td>1</td>\n",
       "    </tr>\n",
       "    <tr>\n",
       "      <th>(&amp;, ,, *, brazilian)</th>\n",
       "      <td>1</td>\n",
       "    </tr>\n",
       "    <tr>\n",
       "      <th>(,, \", p, ()</th>\n",
       "      <td>1</td>\n",
       "    </tr>\n",
       "    <tr>\n",
       "      <th>(á, ?!\", á, 1)</th>\n",
       "      <td>1</td>\n",
       "    </tr>\n",
       "    <tr>\n",
       "      <th>(xb, \", 7, /)</th>\n",
       "      <td>1</td>\n",
       "    </tr>\n",
       "    <tr>\n",
       "      <th>(-(, aajj, -, mi)</th>\n",
       "      <td>1</td>\n",
       "    </tr>\n",
       "    <tr>\n",
       "      <th>(,, a, ,, 02740)</th>\n",
       "      <td>1</td>\n",
       "    </tr>\n",
       "    <tr>\n",
       "      <th>(/, j, ,, ,)</th>\n",
       "      <td>1</td>\n",
       "    </tr>\n",
       "    <tr>\n",
       "      <th>(wa, :, (, lw)</th>\n",
       "      <td>1</td>\n",
       "    </tr>\n",
       "    <tr>\n",
       "      <th>(%, &amp;&amp;, po, \")</th>\n",
       "      <td>1</td>\n",
       "    </tr>\n",
       "    <tr>\n",
       "      <th>(of, brazil, ,, brazilian)</th>\n",
       "      <td>1</td>\n",
       "    </tr>\n",
       "    <tr>\n",
       "      <th>(m, /, v, /)</th>\n",
       "      <td>1</td>\n",
       "    </tr>\n",
       "    <tr>\n",
       "      <th>(%, ', wl, -()</th>\n",
       "      <td>1</td>\n",
       "    </tr>\n",
       "    <tr>\n",
       "      <th>(/, á, &amp;&amp;, %%)</th>\n",
       "      <td>1</td>\n",
       "    </tr>\n",
       "    <tr>\n",
       "      <th>(\", %, \"*-, y)</th>\n",
       "      <td>1</td>\n",
       "    </tr>\n",
       "    <tr>\n",
       "      <th>(luz, /, á, &amp;&amp;)</th>\n",
       "      <td>1</td>\n",
       "    </tr>\n",
       "    <tr>\n",
       "      <th>(/, fo, &amp;, \")</th>\n",
       "      <td>1</td>\n",
       "    </tr>\n",
       "    <tr>\n",
       "      <th>(\", já, -, m)</th>\n",
       "      <td>1</td>\n",
       "    </tr>\n",
       "    <tr>\n",
       "      <th>(,, êfócm, a, 4)</th>\n",
       "      <td>1</td>\n",
       "    </tr>\n",
       "    <tr>\n",
       "      <th>(wj, ', , [)</th>\n",
       "      <td>1</td>\n",
       "    </tr>\n",
       "    <tr>\n",
       "      <th>(lw, 20, 3, .)</th>\n",
       "      <td>1</td>\n",
       "    </tr>\n",
       "    <tr>\n",
       "      <th>(', wl, -(, aajj)</th>\n",
       "      <td>1</td>\n",
       "    </tr>\n",
       "    <tr>\n",
       "      <th>(Kissinger, mr, ., marcio)</th>\n",
       "      <td>1</td>\n",
       "    </tr>\n",
       "    <tr>\n",
       "      <th>(\"**-\", í, ;, pé)</th>\n",
       "      <td>1</td>\n",
       "    </tr>\n",
       "    <tr>\n",
       "      <th>(], [, iv, -)</th>\n",
       "      <td>1</td>\n",
       "    </tr>\n",
       "    <tr>\n",
       "      <th>(0, m, amo, .)</th>\n",
       "      <td>1</td>\n",
       "    </tr>\n",
       "    <tr>\n",
       "      <th>(,, ala, www, ,)</th>\n",
       "      <td>1</td>\n",
       "    </tr>\n",
       "    <tr>\n",
       "      <th>('?, ,, é, %%)</th>\n",
       "      <td>1</td>\n",
       "    </tr>\n",
       "    <tr>\n",
       "      <th>(sra, buenosaires, argentina, torcendo)</th>\n",
       "      <td>1</td>\n",
       "    </tr>\n",
       "    <tr>\n",
       "      <th>(c, \", %, \"*-)</th>\n",
       "      <td>1</td>\n",
       "    </tr>\n",
       "    <tr>\n",
       "      <th>(clamácl, cu, ), mais)</th>\n",
       "      <td>1</td>\n",
       "    </tr>\n",
       "    <tr>\n",
       "      <th>(moo, -\", n, &amp;)</th>\n",
       "      <td>1</td>\n",
       "    </tr>\n",
       "    <tr>\n",
       "      <th>(e, sra, buenosaires, argentina)</th>\n",
       "      <td>1</td>\n",
       "    </tr>\n",
       "    <tr>\n",
       "      <th>((, lw, /, ám)</th>\n",
       "      <td>1</td>\n",
       "    </tr>\n",
       "    <tr>\n",
       "      <th>([, uh, m, ?))</th>\n",
       "      <td>1</td>\n",
       "    </tr>\n",
       "    <tr>\n",
       "      <th>(\", a, ?, meet)</th>\n",
       "      <td>1</td>\n",
       "    </tr>\n",
       "    <tr>\n",
       "      <th>(\", pé, %%%&amp;/, 0)</th>\n",
       "      <td>1</td>\n",
       "    </tr>\n",
       "    <tr>\n",
       "      <th>(brazilian, consulate, ,, 229)</th>\n",
       "      <td>1</td>\n",
       "    </tr>\n",
       "    <tr>\n",
       "      <th>(mr, ., marcio, muller)</th>\n",
       "      <td>1</td>\n",
       "    </tr>\n",
       "  </tbody>\n",
       "</table>\n",
       "</div>"
      ],
      "text/plain": [
       "                                         Frequência\n",
       "Tokens                                             \n",
       "(&&, %%, %%,, aj)                                 1\n",
       "(vão, :/&?, c, \")                                 1\n",
       "(&, ,, *, brazilian)                              1\n",
       "(,, \", p, ()                                      1\n",
       "(á, ?!\", á, 1)                                    1\n",
       "(xb, \", 7, /)                                     1\n",
       "(-(, aajj, -, mi)                                 1\n",
       "(,, a, ,, 02740)                                  1\n",
       "(/, j, ,, ,)                                      1\n",
       "(wa, :, (, lw)                                    1\n",
       "(%, &&, po, \")                                    1\n",
       "(of, brazil, ,, brazilian)                        1\n",
       "(m, /, v, /)                                      1\n",
       "(%, ', wl, -()                                    1\n",
       "(/, á, &&, %%)                                    1\n",
       "(\", %, \"*-, y)                                   1\n",
       "(luz, /, á, &&)                                   1\n",
       "(/, fo, &, \")                                     1\n",
       "(\", já, -, m)                                     1\n",
       "(,, êfócm, a, 4)                                  1\n",
       "(wj, ', , [)                                     1\n",
       "(lw, 20, 3, .)                                    1\n",
       "(', wl, -(, aajj)                                 1\n",
       "(Kissinger, mr, ., marcio)                        1\n",
       "(\"**-\", í, ;, pé)                                 1\n",
       "(], [, iv, -)                                     1\n",
       "(0, m, amo, .)                                    1\n",
       "(,, ala, www, ,)                                  1\n",
       "('?, ,, é, %%)                                    1\n",
       "(sra, buenosaires, argentina, torcendo)           1\n",
       "(c, \", %, \"*-)                                   1\n",
       "(clamácl, cu, ), mais)                            1\n",
       "(moo, -\", n, &)                                   1\n",
       "(e, sra, buenosaires, argentina)                  1\n",
       "((, lw, /, ám)                                    1\n",
       "([, uh, m, ?))                                    1\n",
       "(\", a, ?, meet)                                   1\n",
       "(\", pé, %%%&/, 0)                                 1\n",
       "(brazilian, consulate, ,, 229)                    1\n",
       "(mr, ., marcio, muller)                           1"
      ]
     },
     "execution_count": 24,
     "metadata": {},
     "output_type": "execute_result"
    }
   ],
   "source": [
    "n = 4\n",
    "xgrams = ngrams(tokens, n)\n",
    "xgrams_counter = Counter(xgrams)\n",
    "series_xgrams_counter = pd.Series(data=xgrams_counter, index=xgrams_counter.keys())\n",
    "df_ngrams = pd.DataFrame(series_xgrams_counter, columns = ['Frequência'])\n",
    "df_ngrams = df_ngrams.sort_values(by='Frequência', ascending=False)\n",
    "df_ngrams.index.name = 'Tokens'\n",
    "df_ngrams[0:40]"
   ]
  },
  {
   "cell_type": "markdown",
   "metadata": {},
   "source": [
    "# RASCUNHOS"
   ]
  },
  {
   "cell_type": "code",
   "execution_count": 146,
   "metadata": {
    "collapsed": false
   },
   "outputs": [
    {
     "ename": "NameError",
     "evalue": "name 'inaugural' is not defined",
     "output_type": "error",
     "traceback": [
      "\u001b[0;31m---------------------------------------------------------------------------\u001b[0m",
      "\u001b[0;31mNameError\u001b[0m                                 Traceback (most recent call last)",
      "\u001b[0;32m<ipython-input-146-20cdf2ee20cb>\u001b[0m in \u001b[0;36m<module>\u001b[0;34m()\u001b[0m\n\u001b[1;32m      1\u001b[0m cfd = nltk.ConditionalFreqDist(\n\u001b[1;32m      2\u001b[0m     \u001b[1;33m(\u001b[0m\u001b[0mtarget\u001b[0m\u001b[1;33m,\u001b[0m \u001b[0mfileid\u001b[0m\u001b[1;33m[\u001b[0m\u001b[1;33m:\u001b[0m\u001b[1;36m4\u001b[0m\u001b[1;33m]\u001b[0m\u001b[1;33m)\u001b[0m\u001b[1;33m\u001b[0m\u001b[0m\n\u001b[0;32m----> 3\u001b[0;31m     \u001b[1;32mfor\u001b[0m \u001b[0mfileid\u001b[0m \u001b[1;32min\u001b[0m \u001b[0minaugural\u001b[0m\u001b[1;33m.\u001b[0m\u001b[0mfileids\u001b[0m\u001b[1;33m(\u001b[0m\u001b[1;33m)\u001b[0m\u001b[1;33m\u001b[0m\u001b[0m\n\u001b[0m\u001b[1;32m      4\u001b[0m     \u001b[1;32mfor\u001b[0m \u001b[0mw\u001b[0m \u001b[1;32min\u001b[0m \u001b[0minaugural\u001b[0m\u001b[1;33m.\u001b[0m\u001b[0mwords\u001b[0m\u001b[1;33m(\u001b[0m\u001b[0mfileid\u001b[0m\u001b[1;33m)\u001b[0m\u001b[1;33m\u001b[0m\u001b[0m\n\u001b[1;32m      5\u001b[0m     \u001b[1;32mfor\u001b[0m \u001b[0mtarget\u001b[0m \u001b[1;32min\u001b[0m \u001b[1;33m[\u001b[0m\u001b[1;34m'america'\u001b[0m\u001b[1;33m,\u001b[0m \u001b[1;34m'citizen'\u001b[0m\u001b[1;33m]\u001b[0m\u001b[1;33m\u001b[0m\u001b[0m\n",
      "\u001b[0;31mNameError\u001b[0m: name 'inaugural' is not defined"
     ]
    }
   ],
   "source": [
    "cfd = nltk.ConditionalFreqDist(\n",
    "    (target, fileid[:4])\n",
    "    for fileid in inaugural.fileids()\n",
    "    for w in inaugural.words(fileid)\n",
    "    for target in ['america', 'citizen']\n",
    "    if w.lower().startswith(target)) [1]\n",
    "cfd.plot()"
   ]
  },
  {
   "cell_type": "markdown",
   "metadata": {},
   "source": [
    "##### ENTIDADE: PESSOA\n",
    "\n",
    "Alimenta a tabela person_doc, da nossa base no mysql, fazendo interseção de dados da tabela persons com a tabela docs."
   ]
  },
  {
   "cell_type": "code",
   "execution_count": 12,
   "metadata": {
    "collapsed": false
   },
   "outputs": [
    {
     "name": "stdout",
     "output_type": "stream",
     "text": [
      "········\n",
      "········\n",
      "azeredo text_id rb_1974.04.17_doc_I-66\n",
      "azeredo text_id onu_1974.03.12_doc_II-49\n",
      "azeredo text_id onu_1974.03.12_doc_V-2\n",
      "azeredo text_id be_1974.04.16_doc_VI-18\n",
      "azeredo text_id be_1977.06.01_doc_II-21\n",
      "azeredo text_id ag_1974.03.13_doc_III-7\n",
      "azeredo text_id ag_1973.11.20_doc_VI-75\n",
      "azeredo text_id d_1974.04.23_doc_XXXII-8\n",
      "azeredo text_id d_1974.03.26_doc_XXXII-32\n",
      "azeredo text_id d_1974.03.26_doc_XXII-9\n"
     ]
    }
   ],
   "source": [
    "'''''''''''''''''''''''''''''''''''''''''''''''''''''''''''''''''''''''''''''\n",
    "alimenta a a tabela person_doc, da nossa base no mysql.\n",
    "'''''''''''''''''''''''''''''''''''''''''''''''''''''''''''''''''''''''''''''\n",
    "count = 0\n",
    "#percentil = int(len(cursor.rowcount/100)\n",
    "\n",
    "pass_sshkey = getpass.getpass()\n",
    "pass_mysql = getpass.getpass()\n",
    "with SSHTunnelForwarder(('200.20.164.147', 22),\n",
    "                        ssh_private_key = \"C:/Users/marcelo.ribeiro/Dropbox/A-Marcelo/Educação-Trabalho/2016-CPDOC/Remoto/marcelo_priv_rsa\",\n",
    "                        #ssh_private_key = '/home/rsouza/.ssh/id_rsa',\n",
    "                        ssh_private_key_password = pass_sshkey,\n",
    "                        ssh_username=\"marcelobribeiro\",\n",
    "                        #ssh_username=\"rsouza\",\n",
    "                        remote_bind_address=('127.0.0.1', 3306)) as server:\n",
    "    \n",
    "    conn = pymysql.connect(host='localhost', \n",
    "                           port=server.local_bind_port, \n",
    "                           user='marcelobribeiro', \n",
    "                           #user='rsouza',\n",
    "                           passwd=pass_mysql,\n",
    "                           db='CPDOC_AS',\n",
    "                           use_unicode=True, \n",
    "                           charset=\"utf8\")\n",
    "    cur = conn.cursor()\n",
    "    '''''''''''''''''''''''''''''''''''''''''''''''''''''''''''''''''''''''''''''\n",
    "    insere dados na base mysql\n",
    "    captura documentos da tabela docs, transfere para a tabela topic-doc e insere dados de tópicos\n",
    "    '''''''''''''''''''''''''''''''''''''''''''''''''''''''''''''''''''''''''''''\n",
    "    \n",
    "    cur.execute(\"DROP TABLE IF EXISTS person_doc\")\n",
    "    cur.execute('''CREATE TABLE IF NOT EXISTS person_doc \n",
    "               (person_id INT(11), doc_id VARCHAR(31), person_count BIGINT(21)\n",
    "               DEFAULT NULL)\n",
    "               ENGINE=MyISAM DEFAULT CHARSET='utf8';''')\n",
    "\n",
    "    cur.execute(\"SELECT id,body FROM CPDOC_AS.docs\")\n",
    "    data = cur.fetchall()\n",
    "    for row in data:\n",
    "        count += 1 # for break event\n",
    "        if row is None: break\n",
    "        text_id = row[0]\n",
    "        text =  row[1]\n",
    "        #text = text.split()\n",
    "        doc_id = row[0]\n",
    "        for name in names_list_test:\n",
    "            person_id = 1\n",
    "            person_count = text.count(name)\n",
    "            #query = \"INSERT INTO person_doc VALUES (%s, %s, %s)\"\n",
    "            #cur.execute(query, (person_id, doc_id, person_count))\n",
    "        print(name, 'text_id', text_id)\n",
    "        #print(doc_id, topic_id, topic_score)   \n",
    "        #cur.execute(\"ALTER TABLE person_doc ORDER BY doc_id ASC, person_count DESC\")\n",
    "        \n",
    "        if count == 2: break #amostra de apenas 10 linhas"
   ]
  },
  {
   "cell_type": "markdown",
   "metadata": {},
   "source": [
    "##### ENTIDADE: LUGAR (PAÍS)\n",
    "\n",
    "Alimenta a a tabela country_doc, da nossa base no mysql, fazendo interseção de dados da tabela countries com a tabela docs."
   ]
  },
  {
   "cell_type": "raw",
   "metadata": {},
   "source": [
    "'''''''''''''''''''''''''''''''''''''''''''''''''''''''''''''''''''''''''''''\n",
    "alimenta a a tabela person_doc, da nossa base no mysql.\n",
    "'''''''''''''''''''''''''''''''''''''''''''''''''''''''''''''''''''''''''''''\n",
    "count = 0\n",
    "#percentil = int(len(cursor.rowcount/100)\n",
    "\n",
    "pass_sshkey = getpass.getpass()\n",
    "pass_mysql = getpass.getpass()\n",
    "with SSHTunnelForwarder(('200.20.164.147', 22),\n",
    "                        ssh_private_key = \"C:/Users/marcelo.ribeiro/Dropbox/A-Marcelo/Educação-Trabalho/2016-CPDOC/Remoto/marcelo_priv_rsa\",\n",
    "                        #ssh_private_key = '/home/rsouza/.ssh/id_rsa',\n",
    "                        ssh_private_key_password = pass_sshkey,\n",
    "                        ssh_username=\"marcelobribeiro\",\n",
    "                        #ssh_username=\"rsouza\",\n",
    "                        remote_bind_address=('127.0.0.1', 3306)) as server:\n",
    "    \n",
    "    conn = pymysql.connect(host='localhost', \n",
    "                           port=server.local_bind_port, \n",
    "                           user='marcelobribeiro', \n",
    "                           #user='rsouza',\n",
    "                           passwd=pass_mysql,\n",
    "                           db='CPDOC_AS',\n",
    "                           use_unicode=True, \n",
    "                           charset=\"utf8\")\n",
    "    cur = conn.cursor()\n",
    "    '''''''''''''''''''''''''''''''''''''''''''''''''''''''''''''''''''''''''''''\n",
    "    insere dados na base mysql\n",
    "    captura documentos da tabela docs, transfere para a tabela topic-doc e insere dados de tópicos\n",
    "    '''''''''''''''''''''''''''''''''''''''''''''''''''''''''''''''''''''''''''''\n",
    "    \n",
    "    cur.execute(\"DROP TABLE IF EXISTS country_doc\")\n",
    "    cur.execute('''CREATE TABLE IF NOT EXISTS country_doc \n",
    "               (country_id VARBINARY(11), doc_id VARCHAR(31), person_count INT(11)\n",
    "               DEFAULT NULL)\n",
    "               ENGINE=MyISAM DEFAULT CHARSET='utf8';''')"
   ]
  }
 ],
 "metadata": {
  "anaconda-cloud": {},
  "kernelspec": {
   "display_name": "Python [conda root]",
   "language": "python",
   "name": "conda-root-py"
  },
  "language_info": {
   "codemirror_mode": {
    "name": "ipython",
    "version": 3
   },
   "file_extension": ".py",
   "mimetype": "text/x-python",
   "name": "python",
   "nbconvert_exporter": "python",
   "pygments_lexer": "ipython3",
   "version": "3.5.2"
  }
 },
 "nbformat": 4,
 "nbformat_minor": 0
}
