{
 "cells": [
  {
   "cell_type": "markdown",
   "metadata": {},
   "source": [
    "### doc_entity\n",
    "ESTABELECE RELAÇÕES ENTRE DOCUMENTOS E ENTIDADES NA BASE DE DADOS NO MYSQL. TRABALHAMOS COM O ACERVO **ANTONIO AZEREDO DA SILVEIRA, MINISTÉRIO DAS RELAÇÕES EXTERIORES**.  \n",
    "\n",
    "AS ENTIDADES A SEREM TRABALHADAS SÃO:\n",
    "* TÓPICOS\n",
    "* PAÍSES\n",
    "* PESSOAS"
   ]
  },
  {
   "cell_type": "code",
   "execution_count": 1,
   "metadata": {
    "collapsed": false
   },
   "outputs": [],
   "source": [
    "import os\n",
    "import sys\n",
    "import time\n",
    "import datetime\n",
    "import numpy as np\n",
    "import pandas as pd\n",
    "import re\n",
    "import pymysql\n",
    "#import psycopg2\n",
    "import getpass\n",
    "\n",
    "from sshtunnel import SSHTunnelForwarder\n",
    "import time\n",
    "\n",
    "import codecs\n",
    "from langdetect import detect\n",
    "from IPython.display import clear_output\n",
    "import csv"
   ]
  },
  {
   "cell_type": "raw",
   "metadata": {},
   "source": [
    "'''''''''''''''''''''''''''''''''''''''''''''''''''''''''''''''''''''''''''''\n",
    "cria tabelas de entidades.\n",
    "nota: é apenas um template para código a ser criado\n",
    "'''''''''''''''''''''''''''''''''''''''''''''''''''''''''''''''''''''''''''''\n",
    "    cur.execute(\"DROP TABLE IF EXISTS person_doc\")\n",
    "    cur.execute('''CREATE TABLE IF NOT EXISTS person_doc \n",
    "               (person_id INT(11), doc_id VARCHAR(31), person_count BIGINT(21)\n",
    "               DEFAULT NULL)\n",
    "               ENGINE=MyISAM DEFAULT CHARSET='utf8';''')\n",
    "    \n",
    "    cur.execute(\"DROP TABLE IF EXISTS country_doc\")\n",
    "    cur.execute('''CREATE TABLE IF NOT EXISTS country_doc \n",
    "               (country_id VARBINARY(11), doc_id VARCHAR(31), person_count INT(11)\n",
    "               DEFAULT NULL)\n",
    "               ENGINE=MyISAM DEFAULT CHARSET='utf8';''')\n",
    "    "
   ]
  },
  {
   "cell_type": "code",
   "execution_count": 2,
   "metadata": {
    "collapsed": false
   },
   "outputs": [],
   "source": [
    "'''''''''''''''''''''''''''''''''''''''''''''''''''''''''''''''''''''''''''''\n",
    "define pastas de trabalho\n",
    "'''''''''''''''''''''''''''''''''''''''''''''''''''''''''''''''''''''''''''''\n",
    "\n",
    "path = \"C:/Users/marcelo.ribeiro/Documents/textfiles-corrected-regrouped/\"\n",
    "#path = \"C:/Users/marcelo.ribeiro/Documents/temp/\" #TESTE!\n",
    "#outputs = \"C:/Users/marcelo.ribeiro/Documents/outputs/\"\n",
    "#path = \"/home/rsouza/Documentos/text-learning-tools/textfiles-corrected-regrouped/\"\n",
    "\n",
    "files = [f for f in os.listdir(path)]\n",
    "fullpath_list = []\n",
    "fullpath = ''\n",
    "for file in files:\n",
    "    fullpath = path+file\n",
    "    fullpath_list.append(fullpath)"
   ]
  },
  {
   "cell_type": "code",
   "execution_count": 3,
   "metadata": {
    "collapsed": false
   },
   "outputs": [
    {
     "data": {
      "text/plain": [
       "['AAS_mre_ag_1973.11.20_doc_I-1.txt',\n",
       " 'AAS_mre_ag_1973.11.20_doc_I-10.txt',\n",
       " 'AAS_mre_ag_1973.11.20_doc_I-100.txt',\n",
       " 'AAS_mre_ag_1973.11.20_doc_I-101.txt']"
      ]
     },
     "execution_count": 3,
     "metadata": {},
     "output_type": "execute_result"
    }
   ],
   "source": [
    "files[0:4]"
   ]
  },
  {
   "cell_type": "code",
   "execution_count": null,
   "metadata": {
    "collapsed": true
   },
   "outputs": [],
   "source": [
    "'''''''''''''''''''''''''''''''''''''''''''''''''''''''''''''''''''''''''''''\n",
    "alimenta a base mysql\n",
    "\n",
    "'''''''''''''''''''''''''''''''''''''''''''''''''''''''''''''''''''''''''''''\n",
    "count = 0\n",
    "temp = 0\n",
    "\n",
    "doc_class = []\n",
    "lang_class = 0\n",
    "count_doc = 0\n",
    "not_readable = []\n",
    "percentil = int(len(fullpath_list)/100)\n",
    "\n",
    "pass_sshkey = getpass.getpass()\n",
    "pass_mysql = getpass.getpass()\n",
    "with SSHTunnelForwarder(('200.20.164.147', 22),\n",
    "                        ssh_private_key = \"C:/Users/marcelo.ribeiro/Dropbox/A-Marcelo/Educação-Trabalho/2016-CPDOC/Remoto/marcelo_priv_rsa\",\n",
    "                        #ssh_private_key = '/home/rsouza/.ssh/id_rsa',\n",
    "                        ssh_private_key_password = pass_sshkey,\n",
    "                        #ssh_private_key_password = input('Entre com a senha da chave privada'),\n",
    "                        ssh_username=\"marcelobribeiro\",\n",
    "                        #ssh_username=\"rsouza\",\n",
    "                        remote_bind_address=('127.0.0.1', 3306)) as server:\n",
    "    \n",
    "    conn = pymysql.connect(host='localhost', \n",
    "                           port=server.local_bind_port, \n",
    "                           user='marcelobribeiro', \n",
    "                           #user='rsouza',\n",
    "                           passwd=pass_mysql,\n",
    "                           #passwd=input('Entre com a senha do usuário no banco de dados'),\n",
    "                           db='CPDOC_AS',\n",
    "                           use_unicode=True, \n",
    "                           charset=\"utf8\")\n",
    "    cur = conn.cursor()\n",
    "    \n",
    "    '''''''''''''''''''''''''''''''''''''''''''''''''''''''''''''''''''''''''''''\n",
    "    insere dados na base mysql\n",
    "    '''''''''''''''''''''''''''''''''''''''''''''''''''''''''''''''''''''''''''''\n",
    "    \n",
    "    cur.execute(\"DROP TABLE marcelo_draft\")\n",
    "    cur.execute('''CREATE TABLE IF NOT EXISTS marcelo_draft \n",
    "               (id VARCHAR(50), body LONGTEXT, year VARCHAR(4), month VARCHAR(2), url VARCHAR(200), main_language VARCHAR(10), temp VARCHAR(2)\n",
    "               DEFAULT NULL)\n",
    "               ENGINE=MyISAM DEFAULT CHARSET='utf8';''')\n",
    "    cur.execute(\"DELETE FROM marcelo_draft WHERE temp = 0\")\n",
    "    \n",
    "    for txt in fullpath_list[0:200]:\n",
    "        \n",
    "        ### mede percentual de conclusão da tarefa ###\n",
    "        count_doc += 1\n",
    "        if count_doc % percentil == 0: print(int(count_doc/percentil),'% done')\n",
    "        if count_doc % (percentil-1) == 0: clear_output()\n",
    "        \n",
    "                \n",
    "        with open(txt, 'r', encoding='utf-8') as f: #obs: deveria usar encoding utf-8. Ignorando erros\n",
    "            txt_body = f.read()\n",
    "\n",
    "            \n",
    "            ### insere dados na base mysql ###\n",
    "            query = \"INSERT INTO marcelo_draft VALUES (%s, %s, %s, %s, %s, %s, %s)\"\n",
    "            cur.execute(query, (txt_id, txt_body, txt_year, txt_month, url, lang_class, temp))\n",
    "\n",
    "    cur.execute(\"SELECT * FROM marcelo_draft\");\n",
    "    rows = cur.fetchall()\n",
    "    \n",
    "    print(rows)"
   ]
  }
 ],
 "metadata": {
  "anaconda-cloud": {},
  "kernelspec": {
   "display_name": "Python [Root]",
   "language": "python",
   "name": "Python [Root]"
  },
  "language_info": {
   "codemirror_mode": {
    "name": "ipython",
    "version": 3
   },
   "file_extension": ".py",
   "mimetype": "text/x-python",
   "name": "python",
   "nbconvert_exporter": "python",
   "pygments_lexer": "ipython3",
   "version": "3.5.2"
  }
 },
 "nbformat": 4,
 "nbformat_minor": 0
}
