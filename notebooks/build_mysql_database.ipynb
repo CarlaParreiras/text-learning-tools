{
 "cells": [
  {
   "cell_type": "markdown",
   "metadata": {},
   "source": [
    "### build-mysql-database\n",
    "CONSTROI BASE DE DADOS NO MYSQL POR MEIO DE DOCUMENTOS DA COLEÇÃO **ANTONIO AZEREDO DA SILVEIRA, MINISTÉRIO DAS RELAÇÕES EXTERIORES**.  \n",
    "\n",
    "AS INFORMAÇÕES DE CADA DOCUMENTO A SEREM INSERIDAS NA BASE SÃO:\n",
    "* ID\n",
    "* CORPO DE TEXTO\n",
    "* DATAS (ANO E MÊS)\n",
    "* URL\n",
    "* IDIOMA PRINCIPAL"
   ]
  },
  {
   "cell_type": "code",
   "execution_count": 40,
   "metadata": {
    "collapsed": false
   },
   "outputs": [],
   "source": [
    "import os\n",
    "import sys\n",
    "import time\n",
    "import datetime\n",
    "import numpy as np\n",
    "import pandas as pd\n",
    "import re\n",
    "import pymysql\n",
    "import getpass\n",
    "\n",
    "from sshtunnel import SSHTunnelForwarder\n",
    "import time\n",
    "\n",
    "import codecs\n",
    "from langdetect import detect\n",
    "from IPython.display import clear_output\n",
    "import csv"
   ]
  },
  {
   "cell_type": "code",
   "execution_count": 41,
   "metadata": {
    "collapsed": true
   },
   "outputs": [],
   "source": [
    "'''''''''''''''''''''''''''''''''''''''''''''''''''''''''''''''''''''''''''''\n",
    "Cria função que lista arquivos de forma ordenada\n",
    "Precisei atentar para arquivos com numeração distinta, tais como:\n",
    "AAS_mre_onu_1975.01.23_doc_I-A.txt\n",
    "AAS_mre_onu_1975.01.23_doc_I-6A8.txt\n",
    "'''''''''''''''''''''''''''''''''''''''''''''''''''''''''''''''''''''''''''''\n",
    "def to_zero(x):\n",
    "    if x == '': x = '0'\n",
    "    return x\n",
    "def special_sort(l):\n",
    "    convert = lambda text: int(text) if text.isdigit() else str(text)\n",
    "    alphanum_key = lambda key: [ convert(to_zero(c)) for c in filter(None, re.split('(\\d)A|A\\d|([A-Z]*)-A?|.txt', key))] \n",
    "    return sorted(l, key = alphanum_key)"
   ]
  },
  {
   "cell_type": "code",
   "execution_count": 42,
   "metadata": {
    "collapsed": false
   },
   "outputs": [],
   "source": [
    "'''''''''''''''''''''''''''''''''''''''''''''''''''''''''''''''''''''''''''''\n",
    "define pastas de trabalho\n",
    "'''''''''''''''''''''''''''''''''''''''''''''''''''''''''''''''''''''''''''''\n",
    "\n",
    "path = \"C:/Users/marcelo.ribeiro/Documents/textfiles-corrected-regrouped/\"\n",
    "#path = \"C:/Users/marcelo.ribeiro/Documents/temp/\" #TESTE!\n",
    "#outputs = \"C:/Users/marcelo.ribeiro/Documents/outputs/\"\n",
    "#path = \"/home/rsouza/Documentos/text-learning-tools/textfiles-corrected-regrouped/\"\n",
    "\n",
    "files = [f for f in sorted(os.listdir(path))]\n",
    "fullpath_list = []\n",
    "fullpath = ''\n",
    "for file in files:\n",
    "    fullpath = path+file\n",
    "    fullpath_list.append(fullpath)\n",
    "fullpath_list = special_sort(fullpath_list)"
   ]
  },
  {
   "cell_type": "code",
   "execution_count": 43,
   "metadata": {
    "collapsed": false
   },
   "outputs": [
    {
     "data": {
      "text/plain": [
       "['C:/Users/marcelo.ribeiro/Documents/textfiles-corrected-regrouped/AAS_mre_ag_1973.11.20_doc_I-1.txt',\n",
       " 'C:/Users/marcelo.ribeiro/Documents/textfiles-corrected-regrouped/AAS_mre_ag_1973.11.20_doc_I-2.txt',\n",
       " 'C:/Users/marcelo.ribeiro/Documents/textfiles-corrected-regrouped/AAS_mre_ag_1973.11.20_doc_I-3.txt',\n",
       " 'C:/Users/marcelo.ribeiro/Documents/textfiles-corrected-regrouped/AAS_mre_ag_1973.11.20_doc_I-4.txt',\n",
       " 'C:/Users/marcelo.ribeiro/Documents/textfiles-corrected-regrouped/AAS_mre_ag_1973.11.20_doc_I-5.txt',\n",
       " 'C:/Users/marcelo.ribeiro/Documents/textfiles-corrected-regrouped/AAS_mre_ag_1973.11.20_doc_I-6.txt',\n",
       " 'C:/Users/marcelo.ribeiro/Documents/textfiles-corrected-regrouped/AAS_mre_ag_1973.11.20_doc_I-7.txt',\n",
       " 'C:/Users/marcelo.ribeiro/Documents/textfiles-corrected-regrouped/AAS_mre_ag_1973.11.20_doc_I-8.txt',\n",
       " 'C:/Users/marcelo.ribeiro/Documents/textfiles-corrected-regrouped/AAS_mre_ag_1973.11.20_doc_I-9.txt',\n",
       " 'C:/Users/marcelo.ribeiro/Documents/textfiles-corrected-regrouped/AAS_mre_ag_1973.11.20_doc_I-10.txt']"
      ]
     },
     "execution_count": 43,
     "metadata": {},
     "output_type": "execute_result"
    }
   ],
   "source": [
    "fullpath_list[0:10]"
   ]
  },
  {
   "cell_type": "code",
   "execution_count": 44,
   "metadata": {
    "collapsed": false
   },
   "outputs": [],
   "source": [
    "'''''''''''''''''''''''''''''''''''''''''''''''''''''''''''''''''''''''''''''\n",
    "Cria listas de url e dossies correspondentes\n",
    "'''''''''''''''''''''''''''''''''''''''''''''''''''''''''''''''''''''''''''''\n",
    "url_list = []\n",
    "dossie_list = []\n",
    "url_inputs = \"C:/Users/marcelo.ribeiro/Dropbox/A-Marcelo/Educação-Trabalho/2016-CPDOC/Azeredo Papers/Processamento/text-learning-tools/inputs/URLS-AAS-marcelo.csv\"\n",
    "#url_inputs = \"/home/rsouza/Documentos/text-learning-tools/inputs/URLS-AAS_2.csv\"\n",
    "with open(url_inputs, 'r') as csvfile:\n",
    "    reader = csv.reader(csvfile, delimiter=';')\n",
    "    for row in reader:\n",
    "        if ' mre ' not in row[1]: continue\n",
    "        dossie = re.sub(' ','_',row[1])\n",
    "        dossie = re.sub('AAS_mre_(.*)',r'\\1',dossie)\n",
    "        dossie_list.append(dossie)\n",
    "        url_list.append(row[2])"
   ]
  },
  {
   "cell_type": "code",
   "execution_count": 46,
   "metadata": {
    "collapsed": false
   },
   "outputs": [
    {
     "name": "stdout",
     "output_type": "stream",
     "text": [
      "········\n",
      "········\n"
     ]
    }
   ],
   "source": [
    "'''''''''''''''''''''''''''''''''''''''''''''''''''''''''''''''''''''''''''''\n",
    "Cria e alimenta a base mysql\n",
    "Classifica o corpus de acordo com: tipo textual (para separar textos sujos, como letra cursiva, foto, fonte alternativa) e idioma\n",
    "\n",
    "Textos ilegíveis são retirados da base mysql, mas listados na pasta Outputs para que busquemos soluções futuramente.\n",
    "\n",
    "nenhum = 0\n",
    "pt = 1\n",
    "en = 2\n",
    "es = 3\n",
    "fr = 4\n",
    "de = 5\n",
    "'''''''''''''''''''''''''''''''''''''''''''''''''''''''''''''''''''''''''''''\n",
    "count = 0\n",
    "temp = 0\n",
    "\n",
    "doc_class = []\n",
    "lang_class = 'none'\n",
    "count_doc = 0\n",
    "not_readable = []\n",
    "percentil = int(len(fullpath_list)/100)\n",
    "\n",
    "pass_sshkey = getpass.getpass()\n",
    "pass_mysql = getpass.getpass()\n",
    "with SSHTunnelForwarder(('200.20.164.147', 22),\n",
    "                        ssh_private_key = \"C:/Users/marcelo.ribeiro/Dropbox/A-Marcelo/Educação-Trabalho/2016-CPDOC/Remoto/marcelo_priv_rsa\",\n",
    "                        #ssh_private_key = '/home/rsouza/.ssh/id_rsa',\n",
    "                        ssh_private_key_password = pass_sshkey,\n",
    "                        ssh_username=\"marcelobribeiro\",\n",
    "                        #ssh_username=\"rsouza\",\n",
    "                        remote_bind_address=('127.0.0.1', 3306)) as server:\n",
    "    \n",
    "    conn = pymysql.connect(host='localhost', \n",
    "                           port=server.local_bind_port, \n",
    "                           user='marcelobribeiro', \n",
    "                           #user='rsouza',\n",
    "                           passwd=pass_mysql,\n",
    "                           db='CPDOC_AS',\n",
    "                           use_unicode=True, \n",
    "                           charset=\"utf8\")\n",
    "    cur = conn.cursor()\n",
    "    \n",
    "    '''''''''''''''''''''''''''''''''''''''''''''''''''''''''''''''''''''''''''''\n",
    "    insere dados na base mysql\n",
    "    '''''''''''''''''''''''''''''''''''''''''''''''''''''''''''''''''''''''''''''\n",
    "    \n",
    "    cur.execute(\"DROP TABLE IF EXISTS docs\")\n",
    "    cur.execute('''CREATE TABLE IF NOT EXISTS docs \n",
    "               (id VARCHAR(31), body LONGTEXT, date DATETIME, date_year SMALLINT(6), date_month TINYINT(4), \n",
    "               is_date_exact TINYINT(1), collection VARCHAR(16), url VARCHAR(200), main_language VARCHAR(10),\n",
    "               readability VARCHAR(10)\n",
    "               DEFAULT NULL)\n",
    "               ENGINE=MyISAM DEFAULT CHARSET='utf8';''')\n",
    "    \n",
    "    ### adiciona info não-variável para as colunas collection e is_date_exact ###\n",
    "    is_date_exact = 0 # datas não são precisas\n",
    "    collection = \"CPDOC\"\n",
    "\n",
    "    ###  ###\n",
    "    for txt in fullpath_list:\n",
    "        \n",
    "        ### mede percentual de conclusão da tarefa ###\n",
    "        count_doc += 1\n",
    "        if count_doc % percentil == 0: print(int(count_doc/percentil),'% done')\n",
    "        if count_doc % (percentil-1) == 0: clear_output()\n",
    "        \n",
    "        ### captura info de data, ano, mes e id de cada documento ###\n",
    "        txt_date = re.sub('.*(19\\d\\d\\.\\d\\d\\.\\d\\d).*', r'\\1', txt)\n",
    "        txt_year = re.sub('.*(19\\d\\d).*', r'\\1', txt)\n",
    "        txt_month = re.sub('.*19\\d\\d\\.(\\d\\d).*', r'\\1', txt)\n",
    "        txt_id = re.sub('.*AAS_mre_(.*).txt', r'\\1', txt)\n",
    "\n",
    "        ### captura info de url ###\n",
    "        txt_id_dossie = re.sub('.*AAS_mre_(.*)_doc.*', r'\\1', txt)\n",
    "        for dossie_with_url in dossie_list:\n",
    "            if txt_id_dossie == dossie_with_url:\n",
    "                list_number = dossie_list.index(dossie_with_url)\n",
    "                url = url_list[list_number]\n",
    "        \n",
    "        ### faz parseamento em cada documento ###\n",
    "        with open(txt, 'r', encoding='ISO-8859-1') as f: #with open(txt, 'r', encoding='utf-8') as f: \n",
    "            txt_body = f.read()\n",
    "           \n",
    "            ### identifica idioma por documento ###\n",
    "            texto_pt = texto_en = texto_es = texto_fr = txt_body\n",
    "            texto_split = re.split('\\.|\\?|\\:|\\,', txt_body)\n",
    "            count = pt_count = en_count = es_count = fr_count = de_count = lang_count = total_count = 0\n",
    "            for phrase in texto_split:\n",
    "                try: \n",
    "                    if len(re.findall(\"[^\\W\\d]\", phrase)) <= 10: continue\n",
    "                    language = detect(phrase)\n",
    "                    total_count += 1\n",
    "                except: \n",
    "                    continue\n",
    "                #print (language, phrase_readability, 'PHRASE', phrase)\n",
    "                if language == 'pt':\n",
    "                    pt_count += 1\n",
    "                if language == 'en':\n",
    "                    en_count += 1\n",
    "                if language == 'es':\n",
    "                    es_count += 1\n",
    "                if language == 'fr':\n",
    "                    fr_count += 1\n",
    "                if language == 'de':\n",
    "                    de_count += 1\n",
    "            lang_count = pt_count + en_count + es_count + fr_count + de_count        \n",
    "            if total_count == 0: readability_ratio = 0\n",
    "            else: readability_ratio = lang_count/total_count\n",
    "            if readability_ratio < 0.3: \n",
    "                not_readable.append(txt)\n",
    "                continue\n",
    "            elif readability_ratio < 0.4: readability = 'low'\n",
    "            elif readability_ratio < 0.7 and total_count > 20: readability = 'medium'\n",
    "            elif readability_ratio >= 0.7 and total_count > 20: readability = 'high'\n",
    "            else: readability = 'undefined'\n",
    "            # obs: Com os critérios adotados, documentos podem ter legibilidade, mas não ter lang_class\n",
    "            if de_count/total_count > 0.3 and de_count >= 3: \n",
    "                lang_class = 'de'\n",
    "            if fr_count/total_count > 0.3 and fr_count >= 3: \n",
    "                lang_class = 'fr'\n",
    "            if es_count/total_count > 0.3 and es_count >= 3: \n",
    "                lang_class = 'es'\n",
    "            if en_count/total_count > 0.3 and en_count >= 3: \n",
    "                lang_class = 'en'\n",
    "            if pt_count/total_count > 0.3 and pt_count >= 3: \n",
    "                lang_class = 'pt'\n",
    "            \n",
    "            ### insere dados na base mysql ###\n",
    "            query = \"INSERT INTO docs VALUES (%s, %s, %s, %s, %s, %s, %s, %s, %s, %s)\"\n",
    "            cur.execute(query, (txt_id, txt_body, txt_date, txt_year, txt_month, is_date_exact, collection, url, lang_class, readability))"
   ]
  },
  {
   "cell_type": "code",
   "execution_count": 45,
   "metadata": {
    "collapsed": false
   },
   "outputs": [],
   "source": [
    "'''''''''''''''''''''''''''''''''''''''''''''''''''''''''''''''''''''''''''''\n",
    "Salva arquivo com lista de documentos ilegíveis\n",
    "'''''''''''''''''''''''''''''''''''''''''''''''''''''''''''''''''''''''''''''\n",
    "not_readable_files = \"C:/Users/marcelo.ribeiro/Dropbox/A-Marcelo/Educação-Trabalho/2016-CPDOC/Azeredo Papers/Processamento/text-learning-tools/outputs/not_readable_files.txt\"\n",
    "\n",
    "with open(not_readable_files, 'w+', encoding='utf-8') as f: \n",
    "    text = f.write(not_readable[0])\n",
    "    text = f.write('\\r\\n')\n",
    "for file in not_readable[1:]:\n",
    "    with open(not_readable_files, 'a+', encoding='utf-8') as f:\n",
    "        text = f.write(file)\n",
    "        text = f.write('\\r\\n')"
   ]
  },
  {
   "cell_type": "code",
   "execution_count": null,
   "metadata": {
    "collapsed": true
   },
   "outputs": [],
   "source": []
  }
 ],
 "metadata": {
  "anaconda-cloud": {},
  "kernelspec": {
   "display_name": "Python [Root]",
   "language": "python",
   "name": "Python [Root]"
  },
  "language_info": {
   "codemirror_mode": {
    "name": "ipython",
    "version": 3
   },
   "file_extension": ".py",
   "mimetype": "text/x-python",
   "name": "python",
   "nbconvert_exporter": "python",
   "pygments_lexer": "ipython3",
   "version": "3.5.2"
  }
 },
 "nbformat": 4,
 "nbformat_minor": 0
}
