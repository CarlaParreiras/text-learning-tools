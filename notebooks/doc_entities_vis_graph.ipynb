{
 "cells": [
  {
   "cell_type": "markdown",
   "metadata": {},
   "source": [
    "### doc_entity\n",
    "ESTABELECE RELAÇÕES ENTRE DOCUMENTOS E ENTIDADES NA BASE DE DADOS NO MYSQL. TRABALHAMOS COM O ACERVO **ANTONIO AZEREDO DA SILVEIRA, MINISTÉRIO DAS RELAÇÕES EXTERIORES**.  \n",
    "\n",
    "AS ENTIDADES A SEREM TRABALHADAS SÃO:\n",
    "* PAÍSES\n",
    "* PESSOAS"
   ]
  },
  {
   "cell_type": "code",
   "execution_count": 1,
   "metadata": {
    "collapsed": false
   },
   "outputs": [],
   "source": [
    "import os\n",
    "import sys\n",
    "import time\n",
    "import datetime\n",
    "import numpy as np\n",
    "import pandas as pd\n",
    "import re\n",
    "\n",
    "import pymysql\n",
    "import getpass\n",
    "from sshtunnel import SSHTunnelForwarder\n",
    "\n",
    "from IPython.display import clear_output\n",
    "\n",
    "import csv\n",
    "import xlrd\n",
    "import xlwt"
   ]
  },
  {
   "cell_type": "markdown",
   "metadata": {},
   "source": [
    "Especifica qual sistema operacional está sendo usado. Renato = Linux ; Marcelo = nt (Windows) e define variáveis a partir disso"
   ]
  },
  {
   "cell_type": "code",
   "execution_count": 2,
   "metadata": {
    "collapsed": true
   },
   "outputs": [],
   "source": [
    "if os.name == 'nt':\n",
    "    encoding_type = 'utf-8'\n",
    "    ssh_priv_key = 'C:/Users/marcelo.ribeiro/Dropbox/A-Marcelo/Educação-Trabalho/2016-CPDOC/Remoto/marcelo_priv_rsa'\n",
    "    ssh_user='marcelobribeiro'\n",
    "    sql_user='marcelobribeiro'\n",
    "    path_inputs = \"C:/Users/marcelo.ribeiro/Dropbox/A-Marcelo/Educação-Trabalho/2016-CPDOC/Azeredo Papers/Processamento/text-learning-tools/inputs/\"\n",
    "    #path_inputs = \"C:/Users/MARCELO/Dropbox/A-Marcelo/Educação-Trabalho/2016-CPDOC/Azeredo Papers/Processamento/text-learning-tools/inputs/\"\n",
    "    path_outputs = \"C:/Users/marcelo.ribeiro/Dropbox/A-Marcelo/Educação-Trabalho/2016-CPDOC/Azeredo Papers/Processamento/text-learning-tools/outputs/\"\n",
    "else:\n",
    "    encoding_type = 'ISO-8859-1'\n",
    "    ssh_priv_key = '/home/rsouza/.ssh/id_rsa'\n",
    "    ssh_user='rsouza'\n",
    "    sql_user='rsouza'\n",
    "    path_inputs = \"/home/rsouza/Documentos/text-learning-tools/inputs/\"\n",
    "    path_outputs = \"/home/rsouza/Documentos/text-learning-tools/outputs/\""
   ]
  },
  {
   "cell_type": "markdown",
   "metadata": {},
   "source": [
    "## Pessoas\n",
    "Trabalhos de visualização com entidades pessoas"
   ]
  },
  {
   "cell_type": "code",
   "execution_count": 23,
   "metadata": {
    "collapsed": false
   },
   "outputs": [
    {
     "name": "stdout",
     "output_type": "stream",
     "text": [
      "········\n",
      "········\n"
     ]
    }
   ],
   "source": [
    "count = 0\n",
    "aas_graph = []\n",
    "\n",
    "pass_sshkey = getpass.getpass()\n",
    "pass_mysql = getpass.getpass()\n",
    "with SSHTunnelForwarder(('200.20.164.146', 22),\n",
    "                        ssh_private_key=ssh_priv_key,\n",
    "                        ssh_private_key_password=pass_sshkey,\n",
    "                        ssh_username=ssh_user,\n",
    "                        remote_bind_address=('127.0.0.1', 3306)) as server:\n",
    "    \n",
    "    conn = pymysql.connect(host='localhost', \n",
    "                           port=server.local_bind_port, \n",
    "                           user=sql_user,\n",
    "                           passwd=pass_mysql,\n",
    "                           db='CPDOC_AS',\n",
    "                           use_unicode=True, \n",
    "                           charset=\"utf8\")\n",
    "    cur = conn.cursor()\n",
    "    '''''''''''''''''''''''''''''''''''''''''''''''''''''''''''''''''''''''''''''\n",
    "\n",
    "    '''''''''''''''''''''''''''''''''''''''''''''''''''''''''''''''''''''''''''''\n",
    "    \n",
    "    cur.execute('''SELECT person_doc.person_id, person_doc.doc_id, persons.person_name FROM CPDOC_AS.person_doc \n",
    "    JOIN CPDOC_AS.persons\n",
    "    ON person_doc.person_id = persons.id\n",
    "    WHERE doc_id \n",
    "    IN (SELECT doc_id FROM person_doc GROUP BY doc_id \n",
    "    HAVING count(*) > 1)\n",
    "    ORDER BY doc_id ASC  \n",
    "    ''')  \n",
    "    person_doc_data = cur.fetchall()\n",
    "    \n",
    "    cur.execute(\"SELECT * FROM CPDOC_AS.persons\")\n",
    "    persons_data = cur.fetchall()\n",
    "    \n",
    "    old_doc_id = \"\"\n",
    "    co_ocurring_names = \"\"\n",
    "    for row in person_doc_data:\n",
    "        if row is None: break\n",
    "\n",
    "        person_id = row[0]\n",
    "        doc_id = row[1]\n",
    "        person_name = '\"'+row[2]+'\"'\n",
    "        \n",
    "        if doc_id != old_doc_id: \n",
    "            aas_graph.append(co_ocurring_names)\n",
    "            co_ocurring_names = person_name\n",
    "        else:\n",
    "            co_ocurring_names = co_ocurring_names+\",\"+person_name\n",
    "        old_doc_id = doc_id\n",
    "aas_graph.remove(\"\")"
   ]
  },
  {
   "cell_type": "code",
   "execution_count": 24,
   "metadata": {
    "collapsed": false
   },
   "outputs": [
    {
     "data": {
      "text/plain": [
       "['\"pedro ii\",\"vieira souto\"',\n",
       " '\"vieira souto\",\"francisco eduardo de paula machado\"',\n",
       " '\"vieira de mello\",\"vieira souto\"',\n",
       " '\"vieira souto\",\"rui barbosa\"',\n",
       " '\"paulo cabral\",\"vieira souto\"',\n",
       " '\"vieira souto\",\"pedro ernesto\"',\n",
       " '\"vieira souto\",\"borges de medeiros\"',\n",
       " '\"vieira souto\",\"haroldo valadao\"',\n",
       " '\"carlos chagas\",\"vieira souto\"',\n",
       " '\"emilio garrastazu medici\",\"costa e silva\"',\n",
       " '\"rodrigo otávio\",\"arnaldo sussekind\"',\n",
       " '\"condessa pereira carneiro\",\"pereira carneiro\"',\n",
       " '\"pires do rio\",\"sapena pastor\",\"almeida santos\",\"arnaldo carrilho\",\"augusto pinochet\",\"bittencourt de sá\",\"josé guilherme merquior\",\"yolanda prada\",\"carlos garcia\",\"papa paulo vi\"',\n",
       " '\"jorge de carvalho e silva\",\"carvalho pinto\"',\n",
       " '\"eurico \",\"eurico penteado\"',\n",
       " '\"macedo soares\",\"mar territorial\",\"marcelo caetano\",\"paulo nogueira batista\",\"roberto campos\",\"albuquerque lima\",\"bilac pinto\",\"celso lafer\",\"costa e silva\",\"joão goulart\",\"janio quadros\"',\n",
       " '\"eurico \",\"fernando costa\",\"francisco campos\",\"getulio vargas\",\"gustavo capanema\",\"mendonça lima\",\"waldemar falcão\"',\n",
       " '\"rui barbosa\",\"barão do rio branco\"',\n",
       " '\"adalberto pereira dos santos\",\"alberto pereira dos santos\"',\n",
       " '\"geraldo azevedo henning\",\"mar territorial\"']"
      ]
     },
     "execution_count": 24,
     "metadata": {},
     "output_type": "execute_result"
    }
   ],
   "source": [
    "aas_graph[:20]"
   ]
  },
  {
   "cell_type": "code",
   "execution_count": 25,
   "metadata": {
    "collapsed": false
   },
   "outputs": [],
   "source": [
    "'''''''''''''''''''''''''''''''''''''''''''''''''''''''''''''''''''''''''''''\n",
    "\n",
    "'''''''''''''''''''''''''''''''''''''''''''''''''''''''''''''''''''''''''''''\n",
    "aas_graph_file = path_outputs+\"aas_persons_graph.csv\"\n",
    "with open(aas_graph_file, 'w') as csvfile:\n",
    "    writer = csv.writer(csvfile, delimiter=\",\", quoting=csv.QUOTE_NONE, quotechar='', escapechar=' ')\n",
    "    for i in range(len(aas_graph)):\n",
    "        writer.writerow([aas_graph[i]])"
   ]
  },
  {
   "cell_type": "markdown",
   "metadata": {},
   "source": [
    "## Países\n",
    "Trabalhos de visualização com entidades países"
   ]
  },
  {
   "cell_type": "markdown",
   "metadata": {},
   "source": [
    "Graph structure"
   ]
  },
  {
   "cell_type": "code",
   "execution_count": 107,
   "metadata": {
    "collapsed": false
   },
   "outputs": [
    {
     "name": "stdout",
     "output_type": "stream",
     "text": [
      "········\n",
      "········\n"
     ]
    }
   ],
   "source": [
    "count = 0\n",
    "aas_graph = []\n",
    "\n",
    "pass_sshkey = getpass.getpass()\n",
    "pass_mysql = getpass.getpass()\n",
    "with SSHTunnelForwarder(('200.20.164.146', 22),\n",
    "                        ssh_private_key=ssh_priv_key,\n",
    "                        ssh_private_key_password=pass_sshkey,\n",
    "                        ssh_username=ssh_user,\n",
    "                        remote_bind_address=('127.0.0.1', 3306)) as server:\n",
    "    \n",
    "    conn = pymysql.connect(host='localhost', \n",
    "                           port=server.local_bind_port, \n",
    "                           user=sql_user,\n",
    "                           passwd=pass_mysql,\n",
    "                           db='CPDOC_AS',\n",
    "                           use_unicode=True, \n",
    "                           charset=\"utf8\")\n",
    "    cur = conn.cursor()\n",
    "    '''''''''''''''''''''''''''''''''''''''''''''''''''''''''''''''''''''''''''''\n",
    "    Reescrever a seleção de dados. Priorizei a estrutura do tableau\n",
    "    '''''''''''''''''''''''''''''''''''''''''''''''''''''''''''''''''''''''''''''\n",
    "    \n",
    "    cur.execute('''SELECT country_doc.country_id, countries.name, COUNT(doc_id) AS doc_count\n",
    "    FROM CPDOC_AS.country_doc \n",
    "    JOIN CPDOC_AS.countries\n",
    "    ON country_doc.country_id = countries.id\n",
    "    WHERE doc_id \n",
    "    IN (SELECT doc_id FROM country_doc GROUP BY doc_id \n",
    "    HAVING count(*) > 1)\n",
    "    GROUP BY name\n",
    "    ORDER BY name ASC\n",
    "    ''')  \n",
    "    country_doc_data = cur.fetchall()\n",
    "    \n",
    "    cur.execute(\"SELECT * FROM CPDOC_AS.countries\")\n",
    "    countrys_data = cur.fetchall()\n",
    "    \n",
    "    old_doc_id = \"\"\n",
    "    co_ocurring_names = \"\"\n",
    "    for row in country_doc_data:\n",
    "        if row is None: break\n",
    "\n",
    "        country_id = row[0]\n",
    "        doc_id = row[1]\n",
    "        country_name = '\"'+row[2]+'\"'\n",
    "        \n",
    "        if doc_id != old_doc_id: \n",
    "            aas_graph.append(co_ocurring_names)\n",
    "            co_ocurring_names = country_name\n",
    "        else:\n",
    "            co_ocurring_names = co_ocurring_names+\",\"+country_name\n",
    "        old_doc_id = doc_id\n",
    "aas_graph.remove(\"\")"
   ]
  },
  {
   "cell_type": "code",
   "execution_count": 110,
   "metadata": {
    "collapsed": false
   },
   "outputs": [
    {
     "data": {
      "text/plain": [
       "'\"mozambique\",\"poland\",\"germany\",\"cuba\",\"mali\"'"
      ]
     },
     "execution_count": 110,
     "metadata": {},
     "output_type": "execute_result"
    }
   ],
   "source": [
    "co_ocurring_names"
   ]
  },
  {
   "cell_type": "markdown",
   "metadata": {},
   "source": [
    "Tableau structure"
   ]
  },
  {
   "cell_type": "code",
   "execution_count": 22,
   "metadata": {
    "collapsed": false
   },
   "outputs": [
    {
     "name": "stdout",
     "output_type": "stream",
     "text": [
      "········\n",
      "········\n"
     ]
    }
   ],
   "source": [
    "count = 0\n",
    "workbook = xlwt.Workbook()\n",
    "worksheet = workbook.add_sheet('country_doc')\n",
    "pass_sshkey = getpass.getpass()\n",
    "pass_mysql = getpass.getpass()\n",
    "with SSHTunnelForwarder(('200.20.164.146', 22),\n",
    "                        ssh_private_key=ssh_priv_key,\n",
    "                        ssh_private_key_password=pass_sshkey,\n",
    "                        ssh_username=ssh_user,\n",
    "                        remote_bind_address=('127.0.0.1', 3306)) as server:\n",
    "    \n",
    "    conn = pymysql.connect(host='localhost', \n",
    "                           port=server.local_bind_port, \n",
    "                           user=sql_user,\n",
    "                           passwd=pass_mysql,\n",
    "                           db='CPDOC_AS',\n",
    "                           use_unicode=True, \n",
    "                           charset=\"utf8\")\n",
    "    cur = conn.cursor()\n",
    "    '''''''''''''''''''''''''''''''''''''''''''''''''''''''''''''''''''''''''''''\n",
    "    Reescrever a seleção de dados. Priorizei a estrutura do tableau\n",
    "    '''''''''''''''''''''''''''''''''''''''''''''''''''''''''''''''''''''''''''''\n",
    "    \n",
    "    cur.execute('''SELECT country_doc.country_id, countries.name, COUNT(doc_id) AS doc_count\n",
    "    FROM CPDOC_AS.country_doc \n",
    "    JOIN CPDOC_AS.countries\n",
    "    ON country_doc.country_id = countries.id\n",
    "    WHERE doc_id \n",
    "    IN (SELECT doc_id FROM country_doc GROUP BY doc_id \n",
    "    HAVING count(*) > 1)\n",
    "    GROUP BY name\n",
    "    ORDER BY name ASC\n",
    "    ''')  \n",
    "    country_doc_data = cur.fetchall()\n",
    "    \n",
    "    worksheet.write(0, 0, 'country_id')\n",
    "    worksheet.write(0, 1, 'country')\n",
    "    worksheet.write(0, 2, 'country_freq')\n",
    "    \n",
    "    for row in country_doc_data:\n",
    "        #if row is None: break\n",
    "\n",
    "        country_id = row[0]\n",
    "        country_name = row[1]\n",
    "        country_freq = row[2]\n",
    "        row_index = country_doc_data.index(row)+1\n",
    "        \n",
    "        \n",
    "        worksheet.write(row_index, 0, country_id)\n",
    "        worksheet.write(row_index, 1, country_name)\n",
    "        worksheet.write(row_index, 2, country_freq)\n",
    "workbook.save(path_outputs+'country_doc.xls')"
   ]
  },
  {
   "cell_type": "code",
   "execution_count": null,
   "metadata": {
    "collapsed": true
   },
   "outputs": [],
   "source": []
  }
 ],
 "metadata": {
  "anaconda-cloud": {},
  "kernelspec": {
   "display_name": "Python [conda root]",
   "language": "python",
   "name": "conda-root-py"
  },
  "language_info": {
   "codemirror_mode": {
    "name": "ipython",
    "version": 3
   },
   "file_extension": ".py",
   "mimetype": "text/x-python",
   "name": "python",
   "nbconvert_exporter": "python",
   "pygments_lexer": "ipython3",
   "version": "3.5.2"
  }
 },
 "nbformat": 4,
 "nbformat_minor": 0
}
