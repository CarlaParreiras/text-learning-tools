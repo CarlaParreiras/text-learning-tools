{
 "cells": [
  {
   "cell_type": "markdown",
   "metadata": {},
   "source": [
    "### build-mysql-database\n",
    "CONSTROI BASE DE DADOS NO MYSQL POR MEIO DE DOCUMENTOS DA COLEÇÃO **ANTONIO AZEREDO DA SILVEIRA, MINISTÉRIO DAS RELAÇÕES EXTERIORES**.  \n",
    "\n",
    "AS INFORMAÇÕES DE CADA DOCUMENTO A SEREM INSERIDAS NA BASE SÃO:\n",
    "* ID\n",
    "* CORPO DE TEXTO\n",
    "* DATAS (ANO E MÊS)\n",
    "* URL\n",
    "* IDIOMA PRINCIPAL"
   ]
  },
  {
   "cell_type": "code",
   "execution_count": 1,
   "metadata": {
    "collapsed": false
   },
   "outputs": [],
   "source": [
    "import os\n",
    "import sys\n",
    "import time\n",
    "import datetime\n",
    "import numpy as np\n",
    "import pandas as pd\n",
    "import re\n",
    "import pymysql\n",
    "#import psycopg2\n",
    "import getpass\n",
    "\n",
    "from sshtunnel import SSHTunnelForwarder\n",
    "import time\n",
    "\n",
    "import codecs\n",
    "from langdetect import detect\n",
    "from IPython.display import clear_output\n",
    "import csv"
   ]
  },
  {
   "cell_type": "code",
   "execution_count": 2,
   "metadata": {
    "collapsed": false
   },
   "outputs": [],
   "source": [
    "'''''''''''''''''''''''''''''''''''''''''''''''''''''''''''''''''''''''''''''\n",
    "define pastas de trabalho\n",
    "'''''''''''''''''''''''''''''''''''''''''''''''''''''''''''''''''''''''''''''\n",
    "\n",
    "#path = \"C:/Users/marcelo.ribeiro/Documents/textfiles-corrected-regrouped/\"\n",
    "#path = \"C:/Users/marcelo.ribeiro/Documents/temp/\" #TESTE!\n",
    "#outputs = \"C:/Users/marcelo.ribeiro/Documents/outputs/\"\n",
    "path = \"/home/rsouza/Documentos/text-learning-tools/textfiles-corrected-regrouped/\"\n",
    "\n",
    "files = [f for f in os.listdir(path)]\n",
    "fullpath_list = []\n",
    "fullpath = ''\n",
    "for file in files:\n",
    "    fullpath = path+file\n",
    "    fullpath_list.append(fullpath)"
   ]
  },
  {
   "cell_type": "code",
   "execution_count": 3,
   "metadata": {
    "collapsed": false
   },
   "outputs": [
    {
     "data": {
      "text/plain": [
       "['AAS_mre_rb_1974.04.17_doc_I-66.txt',\n",
       " 'AAS_mre_onu_1974.03.12_doc_II-49.txt',\n",
       " 'AAS_mre_onu_1974.03.12_doc_V-2.txt',\n",
       " 'AAS_mre_be_1974.04.16_doc_VI-18.txt']"
      ]
     },
     "execution_count": 3,
     "metadata": {},
     "output_type": "execute_result"
    }
   ],
   "source": [
    "files[0:4]"
   ]
  },
  {
   "cell_type": "code",
   "execution_count": 7,
   "metadata": {
    "collapsed": false
   },
   "outputs": [
    {
     "data": {
      "text/plain": [
       "['/home/rsouza/Documentos/text-learning-tools/textfiles-corrected-regrouped/AAS_mre_rb_1974.04.17_doc_I-66.txt',\n",
       " '/home/rsouza/Documentos/text-learning-tools/textfiles-corrected-regrouped/AAS_mre_onu_1974.03.12_doc_II-49.txt',\n",
       " '/home/rsouza/Documentos/text-learning-tools/textfiles-corrected-regrouped/AAS_mre_onu_1974.03.12_doc_V-2.txt',\n",
       " '/home/rsouza/Documentos/text-learning-tools/textfiles-corrected-regrouped/AAS_mre_be_1974.04.16_doc_VI-18.txt']"
      ]
     },
     "execution_count": 7,
     "metadata": {},
     "output_type": "execute_result"
    }
   ],
   "source": [
    "fullpath_list[0:4]"
   ]
  },
  {
   "cell_type": "code",
   "execution_count": 5,
   "metadata": {
    "collapsed": false
   },
   "outputs": [],
   "source": [
    "'''''''''''''''''''''''''''''''''''''''''''''''''''''''''''''''''''''''''''''\n",
    "Cria listas de url e dossies correspondentes\n",
    "'''''''''''''''''''''''''''''''''''''''''''''''''''''''''''''''''''''''''''''\n",
    "url_list = []\n",
    "dossie_list = []\n",
    "#url_inputs = \"C:/Users/marcelo.ribeiro/Dropbox/A-Marcelo/Educação-Trabalho/2016-CPDOC/Azeredo Papers/Processamento/text-learning-tools/inputs/URLS-AAS_2.csv\"\n",
    "url_inputs = \"/home/rsouza/Documentos/text-learning-tools/inputs/URLS-AAS_2.csv\"\n",
    "with open(url_inputs, 'r') as csvfile:\n",
    "    reader = csv.reader(csvfile, delimiter=';')\n",
    "    for row in reader:\n",
    "        if ' mre ' not in row[1]: continue\n",
    "        dossie = re.sub(' ','_',row[1])\n",
    "        dossie = re.sub('AAS_mre_(.*)',r'\\1',dossie)\n",
    "        dossie_list.append(dossie)\n",
    "        url_list.append(row[2])"
   ]
  },
  {
   "cell_type": "code",
   "execution_count": 12,
   "metadata": {
    "collapsed": false
   },
   "outputs": [],
   "source": [
    "'''''''''''''''''''''''''''''''''''''''''''''''''''''''''''''''''''''''''''''\n",
    "Cria e alimenta a base mysql\n",
    "Classifica o corpus de acordo com: tipo textual (para separar textos sujos, como letra cursiva, foto, fonte alternativa) e idioma\n",
    "\n",
    "Textos ilegíveis são retirados da base mysql, mas listados na pasta Outputs para que busquemos soluções futuramente.\n",
    "\n",
    "pt = 1\n",
    "en = 2\n",
    "es = 3\n",
    "fr = 4\n",
    "de = 5\n",
    "não identificado = 0\n",
    "'''''''''''''''''''''''''''''''''''''''''''''''''''''''''''''''''''''''''''''\n",
    "count = 0\n",
    "temp = 0\n",
    "\n",
    "doc_class = []\n",
    "lang_class = 0\n",
    "count_doc = 0\n",
    "not_readable = []\n",
    "percentil = int(len(fullpath_list)/100)\n",
    "\n",
    "pass_sshkey = getpass.getpass()\n",
    "pass_mysql = getpass.getpass()\n",
    "with SSHTunnelForwarder(('200.20.164.147', 22),\n",
    "                        #ssh_private_key = \"C:/Users/marcelo.ribeiro/Dropbox/A-Marcelo/Educação-Trabalho/2016-CPDOC/Remoto/marcelo_priv_rsa\",\n",
    "                        ssh_private_key = '/home/rsouza/.ssh/id_rsa',\n",
    "                        ssh_private_key_password = pass_sshkey,\n",
    "                        #ssh_username=\"marcelobribeiro\",\n",
    "                        ssh_username=\"rsouza\",\n",
    "                        remote_bind_address=('127.0.0.1', 3306)) as server:\n",
    "    \n",
    "    conn = pymysql.connect(host='localhost', \n",
    "                           port=server.local_bind_port, \n",
    "                           #user='marcelobribeiro', \n",
    "                           user='rsouza',\n",
    "                           passwd=pass_mysql,\n",
    "                           db='CPDOC_AS',\n",
    "                           use_unicode=True, \n",
    "                           charset=\"utf8\")\n",
    "    cur = conn.cursor()\n",
    "    \n",
    "    '''''''''''''''''''''''''''''''''''''''''''''''''''''''''''''''''''''''''''''\n",
    "    insere dados na base mysql\n",
    "    '''''''''''''''''''''''''''''''''''''''''''''''''''''''''''''''''''''''''''''\n",
    "    \n",
    "    cur.execute(\"DROP TABLE doc\")\n",
    "    cur.execute('''CREATE TABLE IF NOT EXISTS doc \n",
    "               (id VARCHAR(50), body LONGTEXT, year VARCHAR(4), month VARCHAR(2), url VARCHAR(200), main_language VARCHAR(10), temp VARCHAR(2)\n",
    "               DEFAULT NULL)\n",
    "               ENGINE=MyISAM DEFAULT CHARSET='utf8';''')\n",
    "    #cur.execute(\"DELETE FROM doc WHERE temp = 0\")\n",
    "    \n",
    "    for txt in fullpath_list:\n",
    "        \n",
    "        ### mede percentual de conclusão da tarefa ###\n",
    "        count_doc += 1\n",
    "        if count_doc % percentil == 0: print(int(count_doc/percentil),'% done')\n",
    "        if count_doc % (percentil-1) == 0: clear_output()\n",
    "        \n",
    "        ### captura info de ano, mes e id de cada documento ###\n",
    "        txt_year = re.sub('.*(19\\d\\d).*', r'\\1', txt)\n",
    "        txt_month = re.sub('.*19\\d\\d\\.(\\d\\d).*', r'\\1', txt)\n",
    "        txt_id = re.sub('.*AAS_mre_(.*).txt', r'\\1', txt)\n",
    "\n",
    "        ### captura info de url ###\n",
    "        txt_id_dossie = re.sub('.*AAS_mre_(.*)_doc.*', r'\\1', txt)\n",
    "        for dossie_with_url in dossie_list:\n",
    "            if txt_id_dossie == dossie_with_url:\n",
    "                list_number = dossie_list.index(dossie_with_url)\n",
    "                url = url_list[list_number]\n",
    "                \n",
    "        with open(txt, 'r', encoding='ISO-8859-1') as f: #with open(txt, 'r', encoding='utf-8') as f: \n",
    "            txt_body = f.read()\n",
    "           \n",
    "            ### identifica idioma por documento ###\n",
    "            texto_pt = texto_en = texto_es = texto_fr = txt_body\n",
    "            texto_split = re.split('\\.|\\?|\\:', txt_body)\n",
    "            #print(texto_split)\n",
    "            count = pt_count = en_count = es_count = fr_count = de_count = lang_count = total_count = 0\n",
    "            for phrase in texto_split:\n",
    "                total_count += 1\n",
    "                if not re.search('[^\\W\\d_]', phrase): continue\n",
    "                try: \n",
    "                    language = detect(phrase)\n",
    "                except: \n",
    "                    print(txt)\n",
    "                    print('PHRASE', phrase, 'LANGUAGE', language)\n",
    "                total_count += 1\n",
    "                if language == 'pt':\n",
    "                    pt_count += 1\n",
    "                if language == 'en':\n",
    "                    en_count += 1\n",
    "                if language == 'es':\n",
    "                    es_count += 1\n",
    "                if language == 'fr':\n",
    "                    fr_count += 1\n",
    "                if language == 'de':\n",
    "                    de_count += 1\n",
    "            lang_count = pt_count + en_count + es_count + fr_count + de_count        \n",
    "            if lang_count/total_count < 0.08: \n",
    "                #print('not readable', txt)\n",
    "                not_readable.append(txt)\n",
    "                continue\n",
    "            # obs: provavelmente sobrarão documentos com lang_class = 0. Manter sem identificação de idioma?\n",
    "            if de_count/total_count > 0.1: \n",
    "                lang_class = 5\n",
    "            if fr_count/total_count > 0.1: \n",
    "                lang_class = 4\n",
    "            if es_count/total_count > 0.1: \n",
    "                lang_class = 3\n",
    "            if en_count/total_count > 0.1: \n",
    "                lang_class = 2\n",
    "            if pt_count/total_count > 0.1: \n",
    "                lang_class = 1\n",
    "            \n",
    "            ### insere dados na base mysql ###\n",
    "            query = \"INSERT INTO doc VALUES (%s, %s, %s, %s, %s, %s, %s)\"\n",
    "            cur.execute(query, (txt_id, txt_body, txt_year, txt_month, url, lang_class, temp))\n",
    "\n",
    "    #cur.execute(\"SELECT * FROM doc\");\n",
    "    #rows = cur.fetchall()\n",
    "    #print(rows)"
   ]
  },
  {
   "cell_type": "code",
   "execution_count": 29,
   "metadata": {
    "collapsed": false
   },
   "outputs": [
    {
     "name": "stdout",
     "output_type": "stream",
     "text": [
      "<class 'tuple'>\n"
     ]
    }
   ],
   "source": [
    "rows = ()\n",
    "print(type(rows))"
   ]
  },
  {
   "cell_type": "raw",
   "metadata": {},
   "source": [
    "'''''''''''''''''''''''''''''''''''''''''''''''''''''''''''''''''''''''''''''\n",
    "Captura datas\n",
    "'''''''''''''''''''''''''''''''''''''''''''''''''''''''''''''''''''''''''''''\n",
    "for file in files[0:10]:\n",
    "    date = re.sub('.*(19\\d\\d.*)_.*_.*', r'\\1', file)\n",
    "    print(date)"
   ]
  },
  {
   "cell_type": "code",
   "execution_count": null,
   "metadata": {
    "collapsed": true
   },
   "outputs": [],
   "source": [
    "for txt in fullpath_list:\n",
    "    txt_date = re.sub('.*(19\\d\\d.*)_.*_.*', r'\\1', txt)\n",
    "    txt_id = re.sub('.*AAS_mre_(.*).txt', r'\\1', txt)\n",
    "    with open(os.path.join(path,txt), 'r', encoding='utf-8') as f:\n",
    "        txt_body = f.read()\n",
    "        #curs.execute('''INSERT INTO marcelo_draft VALUES (txt_id, txt_body, txt_date, txt_date)''')"
   ]
  },
  {
   "cell_type": "raw",
   "metadata": {
    "collapsed": false
   },
   "source": [
    "'''''''''''''''''''''''''''''''''''''''''''''''''''''''''''''''''''''''''''''\n",
    "Classifica o corpus de acordo com: tipo textual (para separar textos sujos, como letra cursiva, foto, fonte alternativa) e idioma\n",
    "pt = 1\n",
    "de = 2\n",
    "en = 3\n",
    "es = 4\n",
    "fr = 5\n",
    "'''''''''''''''''''''''''''''''''''''''''''''''''''''''''''''''''''''''''''''\n",
    "doc_class = []\n",
    "lang_class = []\n",
    "count_doc = 0\n",
    "not_readable = []\n",
    "percentil = int(len(fullpath_list)/100)\n",
    "for txt in fullpath_list[0:100]:\n",
    "    with open(txt, 'r', encoding='utf-8') as f:\n",
    "        count_doc += 1\n",
    "        if count_doc % percentil == 0: print(int(count_doc/percentil),'% done')\n",
    "        #if count_doc % (percentil-1) == 0: clear_output()\n",
    "        texto = f.read()\n",
    "        texto_pt = texto_en = texto_es = texto_fr = texto\n",
    "        #texto_split = re.split('\\.|\\[|\\]|\\(|\\)|\\?|\\/|\\n|\\*|\\:|\\%|\\d+|\\ª|\\º', texto)\n",
    "        texto_split = re.split('\\.|\\?|\\:', texto)\n",
    "        #print(texto_split)\n",
    "        count = pt_count = en_count = es_count = fr_count = de_count = lang_count = total_count = 0\n",
    "        for phrase in texto_split:\n",
    "            total_count += 1\n",
    "            if not re.search('[^\\W\\d_]', phrase): continue\n",
    "            try: \n",
    "                language = detect(phrase)\n",
    "            except: \n",
    "                print(txt)\n",
    "                print('PHRASE', phrase, 'LANGUAGE', language)\n",
    "            total_count += 1\n",
    "            if language == 'pt':\n",
    "                pt_count += 1\n",
    "            if language == 'en':\n",
    "                en_count += 1\n",
    "            if language == 'es':\n",
    "                es_count += 1\n",
    "            if language == 'fr':\n",
    "                fr_count += 1\n",
    "            if language == 'de':\n",
    "                de_count += 1\n",
    "        lang_count = pt_count + en_count + es_count + fr_count + de_count        \n",
    "        #print(total_count, lang_count, 'proportion', lang_count/total_count)\n",
    "        if lang_count/total_count < 0.08: \n",
    "            doc_class.append(0)\n",
    "            #print('not readable', txt)\n",
    "            not_readable.append(txt)\n",
    "        else: doc_class.append(1)\n",
    "        lang_class.append(0)\n",
    "        if de_count/total_count > 0.1: \n",
    "            lang_class[-1] = 2\n",
    "        if fr_count/total_count > 0.1: \n",
    "            lang_class[-1] = 5\n",
    "        if es_count/total_count > 0.1: \n",
    "            lang_class[-1] = 4\n",
    "        if en_count/total_count > 0.1: \n",
    "            lang_class[-1] = 3\n",
    "        if pt_count/total_count > 0.1: \n",
    "            lang_class[-1] = 1\n",
    "        #else: \n",
    "\n",
    "        #print(pt_count/total_count)\n",
    "        #print(en_count/total_count)\n",
    "        #print(es_count/total_count)\n",
    "        #print(fr_count/total_count)\n",
    "        #print(de_count/total_count)\n",
    "        \n",
    "        #print('len',len(texto_split))\n",
    "print(doc_class)\n",
    "#print(lang_class)\n",
    "        "
   ]
  },
  {
   "cell_type": "code",
   "execution_count": 18,
   "metadata": {
    "collapsed": false
   },
   "outputs": [],
   "source": [
    "#print(not_readable)\n",
    "file = \"C:/Users/marcelo.ribeiro/Dropbox/A-Marcelo/Educação-Trabalho/2016-CPDOC/Azeredo Papers/Processamento/text-learning-tools/outputs/not_readable.txt\"\n",
    "for i in not_readable:\n",
    "    if i == not_readable[0]: \n",
    "        with open(file, 'w', encoding='utf-8') as f: \n",
    "            txt = f.write(i)\n",
    "    else: \n",
    "        with open(file, 'a', encoding='utf-8') as f: \n",
    "            txt = f.write('\\r\\n')\n",
    "            txt = f.write(i)\n",
    "        \n",
    "        \n",
    "\n"
   ]
  },
  {
   "cell_type": "code",
   "execution_count": 7,
   "metadata": {
    "collapsed": false
   },
   "outputs": [
    {
     "name": "stdout",
     "output_type": "stream",
     "text": [
      "C:/Users/marcelo.ribeiro/Documents/textfiles-corrected-regrouped/AAS_mre_ag_1973.11.20_doc_I-10.txt\n"
     ]
    }
   ],
   "source": [
    "print(not_readable[0])"
   ]
  },
  {
   "cell_type": "markdown",
   "metadata": {},
   "source": [
    "### RASCUNHOS"
   ]
  },
  {
   "cell_type": "code",
   "execution_count": 28,
   "metadata": {
    "collapsed": false
   },
   "outputs": [
    {
     "name": "stdout",
     "output_type": "stream",
     "text": [
      "<_io.BufferedReader name='C:/Users/marcelo.ribeiro/Documents/temp/AAS_mre_ag_1973.11.20_doc_I-1.txt'>\n",
      "b' \\r\\n\\r\\njr, /h \\' \"& m$ hb\\'h\\'qo\\r\\n& la\\'?\\r\\n\\r\\n, \\xc3\\xa9 %%3 - _\\r\\n(aonsulado do brasil _/ , ova/caio\\r\\n4 & ,\\r\\n* brazilian consulate wo \\'\\r\\naas hawthorn st. 16 % wja mm\\r\\nmu. .. \" \"\\r\\nmm .\\r\\n\\r\\nnew bedford, massachuseti\\'s. u. s, a, 02740\\r\\n\\r\\n \\r\\n\\r\\nmarcio muller bueno\\r\\n\" , /\\r\\n11:11:3sz mao jz\". www n\\xc3\\xa3o\"3337552 %%, \" aca-m\\r\\n)\\r\\nwha %\" wom- aba/v\\xc3\\xa0 %%\\r\\n\\r\\nxb\" 7/35 andado.\\r\\n\\r\\n_, \\xc3\\xad\\xc3\\xa1aw m\\xc3\\xad. m luz/\\xc3\\xa1 && %% %%, aj alma, ;\\r\\n(\\r\\n\\r\\n\"me/&& % \\'wl-(aajj-mi- # \"a\" aaa/fo &\\r\\n\"n\\xc3\\xa3o. aiwa %%%&/a %%%&/www a* m\" \\xc3\\xa1?!\" \\xc3\\xa1\\r\\n1/1\"me %\"a\\xc3\\xad\\'ej\\'wfo m/k%/\\xc3\\xa1m%\\xc3\\xa2 tai/\\xc3\\xa1\\r\\nw. : \\xc3\\xbaw\\xc3\\xa1 2-- /i < %%\\r\\n\"melwa/ vol\\xc3\\xadco ay? mul/1 \"( o , (-\\r\\n\\r\\n\\' % \\xc3\\xb3<\\r\\n/l ano)/4% wklt-w wa: (lw/\\xc3\\xa1m/[a w\\r\\n&& mwr\\xc3\\xa1ww/l\\xc3\\xa1w wa\",\\r\\n\\r\\n/-\\r\\n\\r\\n\\r\\n\"ac-\"44. \\' p\\xc3\\xa1 , (\".\\r\\nv \\xc2\\xa3 f (1. \\xc3\\xa9 : \"l 01; mw w wm %- &\\r\\n/\\r\\n\\r\\nwl] [iv-156%; , (, \\'\\r\\n\"ab/q \"j\\xc3\\xa1-m m\\xc2\\x80) k\\xc3\\xadfa-nmc aaa-x mw, ala\\r\\nwww,\\r\\n%\"w\\xc3\\xa1w\\xc3\\xad, 9 m: ( c/mn\\r\\n\\r\\n%sjj\\xc3\\xa9\\xc3\\xa3m\\r\\n\\r\\n\"\\xc3\\xa9m-k w [\\', /\\xc3\\xa1\" \"**-\"\\xc3\\xad; p\\xc3\\xa9 if\\xc3\\xa1?!\" w %\\'0\\r\\nm amo. .. /lilia\"? jm\\xc3\\xa1%. %i/w %\\r\\n&& po \"vpmt\\xc3\\xa3vak_ jun moo-\"n & %% \"4/4, \"\\r\\n\\r\\np (a\\xc3\\xb5 piat\\xc3\\xa3 h , azo\"wat ao.\\r\\n\\r\\n \\r\\n\\r\\nthe secretary of state\\r\\nwashington\\r\\n\\r\\nnovember 20, 1973\\r\\n\\r\\ndear mr. bueno:\\r\\n\\r\\nthank you for your letter of congratulations. i remember our work with the\\r\\nbrazilian student-leaders, and i deeply\\r\\nappreciate hearing from you.\\r\\n\\r\\nbest regards,\\r\\n\\r\\npor\"?\\r\\n\\r\\nhenry a. Kissinger\\r\\n\\r\\nmr. marcio muller bueno,\\r\\nconsul of brazil,\\r\\nbrazilian consulate,\\r\\n229 hawthorn street,\\r\\nnew bedford, massachusetts.\\r\\n\\r\\n;\" m\\r\\n\\r\\n'\n"
     ]
    }
   ],
   "source": [
    "count = 0\n",
    "for txt in fullpath_list[0:1]:\n",
    "        count += 1\n",
    "        txt_date = re.sub('.*(19\\d\\d.*)_.*_.*', r'\\1', txt)\n",
    "        txt_id = re.sub('.*AAS_mre_(.*).txt', r'\\1', txt)\n",
    "        #obs: deveria usar encoding utf-8\n",
    "        with open(txt, 'rb') as f:\n",
    "            print(f)\n",
    "            txt_body = f.read()\n",
    "            \n",
    "            txt_body = txt_body.decode('latin-1').encode('utf8')\n",
    "            print(txt_body)"
   ]
  },
  {
   "cell_type": "code",
   "execution_count": 14,
   "metadata": {
    "collapsed": false
   },
   "outputs": [
    {
     "ename": "TypeError",
     "evalue": "decoding with 'utf-8' codec failed (TypeError: a bytes-like object is required, not 'str')",
     "output_type": "error",
     "traceback": [
      "\u001b[1;31m---------------------------------------------------------------------------\u001b[0m",
      "\u001b[1;31mTypeError\u001b[0m                                 Traceback (most recent call last)",
      "\u001b[1;32mC:\\Anaconda3\\lib\\encodings\\utf_8.py\u001b[0m in \u001b[0;36mdecode\u001b[1;34m(input, errors)\u001b[0m\n\u001b[0;32m     15\u001b[0m \u001b[1;32mdef\u001b[0m \u001b[0mdecode\u001b[0m\u001b[1;33m(\u001b[0m\u001b[0minput\u001b[0m\u001b[1;33m,\u001b[0m \u001b[0merrors\u001b[0m\u001b[1;33m=\u001b[0m\u001b[1;34m'strict'\u001b[0m\u001b[1;33m)\u001b[0m\u001b[1;33m:\u001b[0m\u001b[1;33m\u001b[0m\u001b[0m\n\u001b[1;32m---> 16\u001b[1;33m     \u001b[1;32mreturn\u001b[0m \u001b[0mcodecs\u001b[0m\u001b[1;33m.\u001b[0m\u001b[0mutf_8_decode\u001b[0m\u001b[1;33m(\u001b[0m\u001b[0minput\u001b[0m\u001b[1;33m,\u001b[0m \u001b[0merrors\u001b[0m\u001b[1;33m,\u001b[0m \u001b[1;32mTrue\u001b[0m\u001b[1;33m)\u001b[0m\u001b[1;33m\u001b[0m\u001b[0m\n\u001b[0m\u001b[0;32m     17\u001b[0m \u001b[1;33m\u001b[0m\u001b[0m\n",
      "\u001b[1;31mTypeError\u001b[0m: a bytes-like object is required, not 'str'",
      "\nThe above exception was the direct cause of the following exception:\n",
      "\u001b[1;31mTypeError\u001b[0m                                 Traceback (most recent call last)",
      "\u001b[1;32m<ipython-input-14-47e85f62f46f>\u001b[0m in \u001b[0;36m<module>\u001b[1;34m()\u001b[0m\n\u001b[0;32m      1\u001b[0m \u001b[1;33m\u001b[0m\u001b[0m\n\u001b[1;32m----> 2\u001b[1;33m \u001b[0mcodecs\u001b[0m\u001b[1;33m.\u001b[0m\u001b[0mdecode\u001b[0m\u001b[1;33m(\u001b[0m\u001b[1;34m'''jr, /h ' \"& m$ hb'h'qo & la'?  , é %%3 - _ (aonsulado do brasil _/ , ova/caio 4 & , * brazilian consulate wo ' aas hawthorn st. 16 % wja mm mu. .. \" \" mm .  new bedford, massachuseti's. u. s, a, 02740     marcio muller bueno \" , / 11:11:3sz mao jz\". www não\"3337552 %%, \" aca-m ) wha %\" wom- aba/và %%  xb\" 7/35 andado.  _, íáaw mí. m luz/á && %% %%, aj alma, ; (  \"me/&& % 'wl-(aajj-mi- # \"a\" aaa/fo & \"não. aiwa %%%&/a %%%&/www a* m\" á?!\" á 1/1\"me %\"aí'ej'wfo m/k%/ám%â tai/á w. : úwá 2-- /i < %% \"melwa/ volíco ay? mul/1 \"( o , (-  ' % ó< /l ano)/4% wklt-w wa: (lw/ám/[a w && mwráww/láw wa\",  /-   \"ac-\"44. ' pá , (\". v £ f (1. é : \"l 01; mw w wm %- & /  wl] [iv-156%; , (, ' \"ab/q \"já-m m€) kífa-nmc aaa-x mw, ala www, %\"wáwí, 9 m: ( c/mn  %sjjéãm  \"ém-k w [', /á\" \"**-\"í; pé ifá?!\" w %'0 m amo. .. /lilia\"? jmá%. %i/w % && po \"vpmtãvak_ jun moo-\"n & %% \"4/4, \"  p (aõ piatã h , azo\"wat ao.     the secretary of state washington  november 20, 1973  dear mr. bueno:  thank you for your letter of congratulations. i remember our work with the brazilian student-leaders, and i deeply appreciate hearing from you.  best regards,  por\"?  henry a. Kissinger  mr. marcio muller bueno, consul of brazil, brazilian consulate, 229 hawthorn street, new bedford, massachusetts.  ;\" m '''\u001b[0m\u001b[1;33m)\u001b[0m\u001b[1;33m\u001b[0m\u001b[0m\n\u001b[0m\u001b[0;32m      3\u001b[0m \u001b[1;31m#'\\xc4pple'\u001b[0m\u001b[1;33m\u001b[0m\u001b[1;33m\u001b[0m\u001b[0m\n\u001b[0;32m      4\u001b[0m \u001b[1;31m#apple.decode('iso-8859-1').encode('utf8')\u001b[0m\u001b[1;33m\u001b[0m\u001b[1;33m\u001b[0m\u001b[0m\n",
      "\u001b[1;31mTypeError\u001b[0m: decoding with 'utf-8' codec failed (TypeError: a bytes-like object is required, not 'str')"
     ]
    }
   ],
   "source": [
    "\n",
    "codecs.decode('''jr, /h ' \"& m$ hb'h'qo & la'?  , é %%3 - _ (aonsulado do brasil _/ , ova/caio 4 & , * brazilian consulate wo ' aas hawthorn st. 16 % wja mm mu. .. \" \" mm .  new bedford, massachuseti's. u. s, a, 02740     marcio muller bueno \" , / 11:11:3sz mao jz\". www não\"3337552 %%, \" aca-m ) wha %\" wom- aba/và %%  xb\" 7/35 andado.  _, íáaw mí. m luz/á && %% %%, aj alma, ; (  \"me/&& % 'wl-(aajj-mi- # \"a\" aaa/fo & \"não. aiwa %%%&/a %%%&/www a* m\" á?!\" á 1/1\"me %\"aí'ej'wfo m/k%/ám%â tai/á w. : úwá 2-- /i < %% \"melwa/ volíco ay? mul/1 \"( o , (-  ' % ó< /l ano)/4% wklt-w wa: (lw/ám/[a w && mwráww/láw wa\",  /-   \"ac-\"44. ' pá , (\". v £ f (1. é : \"l 01; mw w wm %- & /  wl] [iv-156%; , (, ' \"ab/q \"já-m m€) kífa-nmc aaa-x mw, ala www, %\"wáwí, 9 m: ( c/mn  %sjjéãm  \"ém-k w [', /á\" \"**-\"í; pé ifá?!\" w %'0 m amo. .. /lilia\"? jmá%. %i/w % && po \"vpmtãvak_ jun moo-\"n & %% \"4/4, \"  p (aõ piatã h , azo\"wat ao.     the secretary of state washington  november 20, 1973  dear mr. bueno:  thank you for your letter of congratulations. i remember our work with the brazilian student-leaders, and i deeply appreciate hearing from you.  best regards,  por\"?  henry a. Kissinger  mr. marcio muller bueno, consul of brazil, brazilian consulate, 229 hawthorn street, new bedford, massachusetts.  ;\" m ''')\n",
    "#'\\xc4pple'\n",
    "#apple.decode('iso-8859-1').encode('utf8')"
   ]
  },
  {
   "cell_type": "code",
   "execution_count": null,
   "metadata": {
    "collapsed": true
   },
   "outputs": [],
   "source": []
  }
 ],
 "metadata": {
  "anaconda-cloud": {},
  "kernelspec": {
   "display_name": "Python 3",
   "language": "python",
   "name": "python3"
  },
  "language_info": {
   "codemirror_mode": {
    "name": "ipython",
    "version": 3
   },
   "file_extension": ".py",
   "mimetype": "text/x-python",
   "name": "python",
   "nbconvert_exporter": "python",
   "pygments_lexer": "ipython3",
   "version": "3.5.2"
  }
 },
 "nbformat": 4,
 "nbformat_minor": 0
}
