{
 "cells": [
  {
   "cell_type": "markdown",
   "metadata": {},
   "source": [
    "### build-mysql-database\n",
    "CONSTROI BASE DE DADOS NO MYSQL POR MEIO DE DOCUMENTOS DA COLEÇÃO **ANTONIO AZEREDO DA SILVEIRA, MINISTÉRIO DAS RELAÇÕES EXTERIORES**.  \n",
    "\n",
    "AS INFORMAÇÕES DE CADA DOCUMENTO A SEREM INSERIDAS NA BASE SÃO:\n",
    "* ID\n",
    "* CORPO DE TEXTO\n",
    "* DATAS (ANO E MÊS)\n",
    "* URL\n",
    "* IDIOMA PRINCIPAL"
   ]
  },
  {
   "cell_type": "code",
   "execution_count": 1,
   "metadata": {
    "collapsed": false
   },
   "outputs": [],
   "source": [
    "import os\n",
    "import sys\n",
    "import time\n",
    "import datetime\n",
    "import numpy as np\n",
    "import pandas as pd\n",
    "import re\n",
    "import pymysql\n",
    "#import psycopg2\n",
    "import getpass\n",
    "\n",
    "from sshtunnel import SSHTunnelForwarder\n",
    "import time\n",
    "\n",
    "import codecs\n",
    "from langdetect import detect\n",
    "from IPython.display import clear_output\n",
    "import csv"
   ]
  },
  {
   "cell_type": "code",
   "execution_count": 2,
   "metadata": {
    "collapsed": false
   },
   "outputs": [],
   "source": [
    "'''''''''''''''''''''''''''''''''''''''''''''''''''''''''''''''''''''''''''''\n",
    "define pastas de trabalho\n",
    "'''''''''''''''''''''''''''''''''''''''''''''''''''''''''''''''''''''''''''''\n",
    "\n",
    "#path = \"C:/Users/marcelo.ribeiro/Documents/textfiles-corrected-regrouped/\"\n",
    "#path = \"C:/Users/marcelo.ribeiro/Documents/temp/\" #TESTE!\n",
    "#outputs = \"C:/Users/marcelo.ribeiro/Documents/outputs/\"\n",
    "path = \"/home/rsouza/Documentos/text-learning-tools/textfiles-corrected-regrouped/\"\n",
    "\n",
    "files = [f for f in os.listdir(path)]\n",
    "fullpath_list = []\n",
    "fullpath = ''\n",
    "for file in files:\n",
    "    fullpath = path+file\n",
    "    fullpath_list.append(fullpath)"
   ]
  },
  {
   "cell_type": "code",
   "execution_count": 3,
   "metadata": {
    "collapsed": false
   },
   "outputs": [
    {
     "data": {
      "text/plain": [
       "['AAS_mre_rb_1974.04.17_doc_I-66.txt',\n",
       " 'AAS_mre_onu_1974.03.12_doc_II-49.txt',\n",
       " 'AAS_mre_onu_1974.03.12_doc_V-2.txt',\n",
       " 'AAS_mre_be_1974.04.16_doc_VI-18.txt']"
      ]
     },
     "execution_count": 3,
     "metadata": {},
     "output_type": "execute_result"
    }
   ],
   "source": [
    "files[0:4]"
   ]
  },
  {
   "cell_type": "code",
   "execution_count": 7,
   "metadata": {
    "collapsed": false
   },
   "outputs": [
    {
     "data": {
      "text/plain": [
       "['/home/rsouza/Documentos/text-learning-tools/textfiles-corrected-regrouped/AAS_mre_rb_1974.04.17_doc_I-66.txt',\n",
       " '/home/rsouza/Documentos/text-learning-tools/textfiles-corrected-regrouped/AAS_mre_onu_1974.03.12_doc_II-49.txt',\n",
       " '/home/rsouza/Documentos/text-learning-tools/textfiles-corrected-regrouped/AAS_mre_onu_1974.03.12_doc_V-2.txt',\n",
       " '/home/rsouza/Documentos/text-learning-tools/textfiles-corrected-regrouped/AAS_mre_be_1974.04.16_doc_VI-18.txt']"
      ]
     },
     "execution_count": 7,
     "metadata": {},
     "output_type": "execute_result"
    }
   ],
   "source": [
    "fullpath_list[0:4]"
   ]
  },
  {
   "cell_type": "code",
   "execution_count": 5,
   "metadata": {
    "collapsed": false
   },
   "outputs": [],
   "source": [
    "'''''''''''''''''''''''''''''''''''''''''''''''''''''''''''''''''''''''''''''\n",
    "Cria listas de url e dossies correspondentes\n",
    "'''''''''''''''''''''''''''''''''''''''''''''''''''''''''''''''''''''''''''''\n",
    "url_list = []\n",
    "dossie_list = []\n",
    "#url_inputs = \"C:/Users/marcelo.ribeiro/Dropbox/A-Marcelo/Educação-Trabalho/2016-CPDOC/Azeredo Papers/Processamento/text-learning-tools/inputs/URLS-AAS_2.csv\"\n",
    "url_inputs = \"/home/rsouza/Documentos/text-learning-tools/inputs/URLS-AAS_2.csv\"\n",
    "with open(url_inputs, 'r') as csvfile:\n",
    "    reader = csv.reader(csvfile, delimiter=';')\n",
    "    for row in reader:\n",
    "        if ' mre ' not in row[1]: continue\n",
    "        dossie = re.sub(' ','_',row[1])\n",
    "        dossie = re.sub('AAS_mre_(.*)',r'\\1',dossie)\n",
    "        dossie_list.append(dossie)\n",
    "        url_list.append(row[2])"
   ]
  },
  {
   "cell_type": "code",
   "execution_count": 11,
   "metadata": {
    "collapsed": false
   },
   "outputs": [
    {
     "name": "stdout",
     "output_type": "stream",
     "text": [
      "1 % done\n",
      "/home/rsouza/Documentos/text-learning-tools/textfiles-corrected-regrouped/AAS_mre_d_1974.04.23_doc_X-9.txt\n",
      "PHRASE  '7ª\"  LANGUAGE fr\n"
     ]
    }
   ],
   "source": [
    "'''''''''''''''''''''''''''''''''''''''''''''''''''''''''''''''''''''''''''''\n",
    "Cria e alimenta a base mysql\n",
    "Classifica o corpus de acordo com: tipo textual (para separar textos sujos, como letra cursiva, foto, fonte alternativa) e idioma\n",
    "\n",
    "Textos ilegíveis são retirados da base mysql, mas listados na pasta Outputs para que busquemos soluções futuramente.\n",
    "\n",
    "pt = 1\n",
    "en = 2\n",
    "es = 3\n",
    "fr = 4\n",
    "de = 5\n",
    "não identificado = 0\n",
    "'''''''''''''''''''''''''''''''''''''''''''''''''''''''''''''''''''''''''''''\n",
    "count = 0\n",
    "temp = 0\n",
    "\n",
    "doc_class = []\n",
    "lang_class = 0\n",
    "count_doc = 0\n",
    "not_readable = []\n",
    "percentil = int(len(fullpath_list)/100)\n",
    "\n",
    "pass_sshkey = getpass.getpass()\n",
    "pass_mysql = getpass.getpass()\n",
    "with SSHTunnelForwarder(('200.20.164.147', 22),\n",
    "                        #ssh_private_key = \"C:/Users/marcelo.ribeiro/Dropbox/A-Marcelo/Educação-Trabalho/2016-CPDOC/Remoto/marcelo_priv_rsa\",\n",
    "                        ssh_private_key = '/home/rsouza/.ssh/id_rsa',\n",
    "                        ssh_private_key_password = pass_sshkey,\n",
    "                        #ssh_username=\"marcelobribeiro\",\n",
    "                        ssh_username=\"rsouza\",\n",
    "                        remote_bind_address=('127.0.0.1', 3306)) as server:\n",
    "    \n",
    "    conn = pymysql.connect(host='localhost', \n",
    "                           port=server.local_bind_port, \n",
    "                           #user='marcelobribeiro', \n",
    "                           user='rsouza',\n",
    "                           passwd=pass_mysql,\n",
    "                           db='CPDOC_AS',\n",
    "                           use_unicode=True, \n",
    "                           charset=\"utf8\")\n",
    "    cur = conn.cursor()\n",
    "    \n",
    "    '''''''''''''''''''''''''''''''''''''''''''''''''''''''''''''''''''''''''''''\n",
    "    insere dados na base mysql\n",
    "    '''''''''''''''''''''''''''''''''''''''''''''''''''''''''''''''''''''''''''''\n",
    "    \n",
    "    cur.execute(\"DROP TABLE doc\")\n",
    "    cur.execute('''CREATE TABLE IF NOT EXISTS doc \n",
    "               (id VARCHAR(50), body LONGTEXT, year VARCHAR(4), month VARCHAR(2), url VARCHAR(200), main_language VARCHAR(10), temp VARCHAR(2)\n",
    "               DEFAULT NULL)\n",
    "               ENGINE=MyISAM DEFAULT CHARSET='utf8';''')\n",
    "    #cur.execute(\"DELETE FROM doc WHERE temp = 0\")\n",
    "    \n",
    "    for txt in fullpath_list[0:200]:\n",
    "        \n",
    "        ### mede percentual de conclusão da tarefa ###\n",
    "        count_doc += 1\n",
    "        if count_doc % percentil == 0: print(int(count_doc/percentil),'% done')\n",
    "        if count_doc % (percentil-1) == 0: clear_output()\n",
    "        \n",
    "        ### captura info de ano, mes e id de cada documento ###\n",
    "        txt_year = re.sub('.*(19\\d\\d).*', r'\\1', txt)\n",
    "        txt_month = re.sub('.*19\\d\\d\\.(\\d\\d).*', r'\\1', txt)\n",
    "        txt_id = re.sub('.*AAS_mre_(.*).txt', r'\\1', txt)\n",
    "\n",
    "        ### captura info de url ###\n",
    "        txt_id_dossie = re.sub('.*AAS_mre_(.*)_doc.*', r'\\1', txt)\n",
    "        for dossie_with_url in dossie_list:\n",
    "            if txt_id_dossie == dossie_with_url:\n",
    "                list_number = dossie_list.index(dossie_with_url)\n",
    "                url = url_list[list_number]\n",
    "                \n",
    "        with open(txt, 'r', encoding='ISO-8859-1') as f: #with open(txt, 'r', encoding='utf-8') as f: \n",
    "            txt_body = f.read()\n",
    "           \n",
    "            ### identifica idioma por documento ###\n",
    "            texto_pt = texto_en = texto_es = texto_fr = txt_body\n",
    "            texto_split = re.split('\\.|\\?|\\:', txt_body)\n",
    "            #print(texto_split)\n",
    "            count = pt_count = en_count = es_count = fr_count = de_count = lang_count = total_count = 0\n",
    "            for phrase in texto_split:\n",
    "                total_count += 1\n",
    "                if not re.search('[^\\W\\d_]', phrase): continue\n",
    "                try: \n",
    "                    language = detect(phrase)\n",
    "                except: \n",
    "                    print(txt)\n",
    "                    print('PHRASE', phrase, 'LANGUAGE', language)\n",
    "                total_count += 1\n",
    "                if language == 'pt':\n",
    "                    pt_count += 1\n",
    "                if language == 'en':\n",
    "                    en_count += 1\n",
    "                if language == 'es':\n",
    "                    es_count += 1\n",
    "                if language == 'fr':\n",
    "                    fr_count += 1\n",
    "                if language == 'de':\n",
    "                    de_count += 1\n",
    "            lang_count = pt_count + en_count + es_count + fr_count + de_count        \n",
    "            if lang_count/total_count < 0.08: \n",
    "                #print('not readable', txt)\n",
    "                not_readable.append(txt)\n",
    "                continue\n",
    "            # obs: provavelmente sobrarão documentos com lang_class = 0. Manter sem identificação de idioma?\n",
    "            if de_count/total_count > 0.1: \n",
    "                lang_class = 5\n",
    "            if fr_count/total_count > 0.1: \n",
    "                lang_class = 4\n",
    "            if es_count/total_count > 0.1: \n",
    "                lang_class = 3\n",
    "            if en_count/total_count > 0.1: \n",
    "                lang_class = 2\n",
    "            if pt_count/total_count > 0.1: \n",
    "                lang_class = 1\n",
    "            \n",
    "            ### insere dados na base mysql ###\n",
    "            query = \"INSERT INTO doc VALUES (%s, %s, %s, %s, %s, %s, %s)\"\n",
    "            cur.execute(query, (txt_id, txt_body, txt_year, txt_month, url, lang_class, temp))\n",
    "\n",
    "    #cur.execute(\"SELECT * FROM doc\");\n",
    "    #rows = cur.fetchall()\n",
    "    #print(rows)"
   ]
  }
 ],
 "metadata": {
  "anaconda-cloud": {},
  "kernelspec": {
   "display_name": "Python [Root]",
   "language": "python",
   "name": "Python [Root]"
  },
  "language_info": {
   "codemirror_mode": {
    "name": "ipython",
    "version": 3
   },
   "file_extension": ".py",
   "mimetype": "text/x-python",
   "name": "python",
   "nbconvert_exporter": "python",
   "pygments_lexer": "ipython3",
   "version": "3.5.2"
  }
 },
 "nbformat": 4,
 "nbformat_minor": 0
}
