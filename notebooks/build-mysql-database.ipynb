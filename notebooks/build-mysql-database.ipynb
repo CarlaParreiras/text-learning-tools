{
 "cells": [
  {
   "cell_type": "markdown",
   "metadata": {},
   "source": [
    "### build-mysql-database\n",
    "CONSTROI BASE DE DADOS NO MYSQL POR MEIO DE DOCUMENTOS DA COLEÇÃO **ANTONIO AZEREDO DA SILVEIRA, MINISTÉRIO DAS RELAÇÕES EXTERIORES**.  "
   ]
  },
  {
   "cell_type": "code",
   "execution_count": 1,
   "metadata": {
    "collapsed": false
   },
   "outputs": [],
   "source": [
    "import os\n",
    "import sys\n",
    "import time\n",
    "import datetime\n",
    "import numpy as np\n",
    "import pandas as pd\n",
    "import re\n",
    "import pymysql\n",
    "import getpass\n",
    "\n",
    "#import paramiko\n",
    "\n",
    "import psycopg2\n",
    "from sshtunnel import SSHTunnelForwarder\n",
    "import time"
   ]
  },
  {
   "cell_type": "code",
   "execution_count": 60,
   "metadata": {
    "collapsed": false
   },
   "outputs": [],
   "source": [
    "'''''''''''''''''''''''''''''''''''''''''''''''''''''''''''''''''''''''''''''\n",
    "define pastas de trabalho\n",
    "'''''''''''''''''''''''''''''''''''''''''''''''''''''''''''''''''''''''''''''\n",
    "\n",
    "#path = \"C:/Users/marcelo.ribeiro/Documents/textfiles-corrected-regrouped/\"\n",
    "path = \"C:/Users/marcelo.ribeiro/Documents/temp/\" #TESTE!\n",
    "outputs = \"C:/Users/marcelo.ribeiro/Documents/outputs/\"\n",
    "\n",
    "files = [f for f in os.listdir(path)]\n",
    "fullpath_list = []\n",
    "fullpath = ''\n",
    "for file in files:\n",
    "    fullpath = path+file\n",
    "    fullpath_list.append(fullpath)"
   ]
  },
  {
   "cell_type": "code",
   "execution_count": 61,
   "metadata": {
    "collapsed": false
   },
   "outputs": [
    {
     "data": {
      "text/plain": [
       "['AAS_mre_ag_1973.11.20_doc_I-1.txt',\n",
       " 'AAS_mre_ag_1973.11.20_doc_I-2.txt',\n",
       " 'AAS_mre_ag_1973.11.20_doc_I-3.txt',\n",
       " 'AAS_mre_ag_1973.11.20_doc_I-4.txt']"
      ]
     },
     "execution_count": 61,
     "metadata": {},
     "output_type": "execute_result"
    }
   ],
   "source": [
    "files[0:4]"
   ]
  },
  {
   "cell_type": "code",
   "execution_count": 63,
   "metadata": {
    "collapsed": false
   },
   "outputs": [
    {
     "name": "stdout",
     "output_type": "stream",
     "text": [
      "········\n",
      "········\n",
      "<_io.TextIOWrapper name='C:/Users/marcelo.ribeiro/Documents/temp/AAS_mre_ag_1973.11.20_doc_I-1.txt' mode='r' encoding='utf-8'>\n"
     ]
    },
    {
     "ename": "UnicodeDecodeError",
     "evalue": "'utf-8' codec can't decode byte 0xe9 in position 41: invalid continuation byte",
     "output_type": "error",
     "traceback": [
      "\u001b[1;31m---------------------------------------------------------------------------\u001b[0m",
      "\u001b[1;31mUnicodeDecodeError\u001b[0m                        Traceback (most recent call last)",
      "\u001b[1;32m<ipython-input-63-431e8859b9e6>\u001b[0m in \u001b[0;36m<module>\u001b[1;34m()\u001b[0m\n\u001b[0;32m     36\u001b[0m         \u001b[1;32mwith\u001b[0m \u001b[0mopen\u001b[0m\u001b[1;33m(\u001b[0m\u001b[0mtxt\u001b[0m\u001b[1;33m,\u001b[0m \u001b[1;34m'r'\u001b[0m\u001b[1;33m,\u001b[0m \u001b[0mencoding\u001b[0m\u001b[1;33m=\u001b[0m\u001b[1;34m'utf-8'\u001b[0m\u001b[1;33m)\u001b[0m \u001b[1;32mas\u001b[0m \u001b[0mf\u001b[0m\u001b[1;33m:\u001b[0m\u001b[1;33m\u001b[0m\u001b[0m\n\u001b[0;32m     37\u001b[0m             \u001b[0mprint\u001b[0m\u001b[1;33m(\u001b[0m\u001b[0mf\u001b[0m\u001b[1;33m)\u001b[0m\u001b[1;33m\u001b[0m\u001b[0m\n\u001b[1;32m---> 38\u001b[1;33m             \u001b[0mtxt_body\u001b[0m \u001b[1;33m=\u001b[0m \u001b[0mf\u001b[0m\u001b[1;33m.\u001b[0m\u001b[0mread\u001b[0m\u001b[1;33m(\u001b[0m\u001b[1;33m)\u001b[0m\u001b[1;33m\u001b[0m\u001b[0m\n\u001b[0m\u001b[0;32m     39\u001b[0m             \u001b[0mprint\u001b[0m\u001b[1;33m(\u001b[0m\u001b[0mtxt_body\u001b[0m\u001b[1;33m)\u001b[0m\u001b[1;33m\u001b[0m\u001b[0m\n\u001b[0;32m     40\u001b[0m             \u001b[1;31m#cur.execute('''INSERT INTO marcelo_draft VALUES (txt_id, txt_body, txt_date)''')\u001b[0m\u001b[1;33m\u001b[0m\u001b[1;33m\u001b[0m\u001b[0m\n",
      "\u001b[1;32mC:\\Anaconda3\\lib\\codecs.py\u001b[0m in \u001b[0;36mdecode\u001b[1;34m(self, input, final)\u001b[0m\n\u001b[0;32m    319\u001b[0m         \u001b[1;31m# decode input (taking the buffer into account)\u001b[0m\u001b[1;33m\u001b[0m\u001b[1;33m\u001b[0m\u001b[0m\n\u001b[0;32m    320\u001b[0m         \u001b[0mdata\u001b[0m \u001b[1;33m=\u001b[0m \u001b[0mself\u001b[0m\u001b[1;33m.\u001b[0m\u001b[0mbuffer\u001b[0m \u001b[1;33m+\u001b[0m \u001b[0minput\u001b[0m\u001b[1;33m\u001b[0m\u001b[0m\n\u001b[1;32m--> 321\u001b[1;33m         \u001b[1;33m(\u001b[0m\u001b[0mresult\u001b[0m\u001b[1;33m,\u001b[0m \u001b[0mconsumed\u001b[0m\u001b[1;33m)\u001b[0m \u001b[1;33m=\u001b[0m \u001b[0mself\u001b[0m\u001b[1;33m.\u001b[0m\u001b[0m_buffer_decode\u001b[0m\u001b[1;33m(\u001b[0m\u001b[0mdata\u001b[0m\u001b[1;33m,\u001b[0m \u001b[0mself\u001b[0m\u001b[1;33m.\u001b[0m\u001b[0merrors\u001b[0m\u001b[1;33m,\u001b[0m \u001b[0mfinal\u001b[0m\u001b[1;33m)\u001b[0m\u001b[1;33m\u001b[0m\u001b[0m\n\u001b[0m\u001b[0;32m    322\u001b[0m         \u001b[1;31m# keep undecoded input until the next call\u001b[0m\u001b[1;33m\u001b[0m\u001b[1;33m\u001b[0m\u001b[0m\n\u001b[0;32m    323\u001b[0m         \u001b[0mself\u001b[0m\u001b[1;33m.\u001b[0m\u001b[0mbuffer\u001b[0m \u001b[1;33m=\u001b[0m \u001b[0mdata\u001b[0m\u001b[1;33m[\u001b[0m\u001b[0mconsumed\u001b[0m\u001b[1;33m:\u001b[0m\u001b[1;33m]\u001b[0m\u001b[1;33m\u001b[0m\u001b[0m\n",
      "\u001b[1;31mUnicodeDecodeError\u001b[0m: 'utf-8' codec can't decode byte 0xe9 in position 41: invalid continuation byte"
     ]
    }
   ],
   "source": [
    "count = 0\n",
    "pass_sshkey = getpass.getpass()\n",
    "pass_mysql = getpass.getpass()\n",
    "with SSHTunnelForwarder(('200.20.164.147', 22),\n",
    "                        ssh_private_key = \"C:/Users/marcelo.ribeiro/Dropbox/A-Marcelo/Educação-Trabalho/2016-CPDOC/Remoto/marcelo_priv_rsa\",\n",
    "                        ssh_private_key_password = pass_sshkey,\n",
    "                        ssh_username=\"marcelobribeiro\",\n",
    "                        remote_bind_address=('127.0.0.1', 3306)) as server:\n",
    "    \n",
    "    conn = pymysql.connect(host='localhost', \n",
    "                           port=server.local_bind_port, \n",
    "                           user='marcelobribeiro', \n",
    "                           passwd=pass_mysql, \n",
    "                           db='CPDOC_AS')\n",
    "    cur = conn.cursor()\n",
    "    sql = \"select * from marcelo_draft\"\n",
    "    cur.execute(sql)\n",
    "    #cur.execute(\"USE CPDOC_AS\")\n",
    "    '''''''''''''''''''''''''''''''''''''''''''''''''''''''''''''''''''''''''''''\n",
    "    insere id de documentos e corpo de texto na base mysql\n",
    "    '''''''''''''''''''''''''''''''''''''''''''''''''''''''''''''''''''''''''''''\n",
    "    cur.execute('''CREATE TABLE IF NOT EXISTS marcelo_draft \n",
    "               (id VARCHAR(50), body LONGTEXT, date VARCHAR(20), readability TINYINT(2), main_language VARCHAR(10)\n",
    "               DEFAULT NULL)\n",
    "               ENGINE=MyISAM DEFAULT CHARSET='utf8';''')\n",
    "    #cur.execute('INSERT INTO marcelo_draft VALUES (\"1\", \"2\", \"3\", \"4\", \"5\")')\n",
    "    cur.execute(\"SELECT * FROM marcelo_draft\")\n",
    "    \n",
    "    #for row in rows:\n",
    "    #    print(row)\n",
    "    for txt in fullpath_list[0:2]:\n",
    "        count += 1\n",
    "        txt_date = re.sub('.*(19\\d\\d.*)_.*_.*', r'\\1', txt)\n",
    "        txt_id = re.sub('.*AAS_mre_(.*).txt', r'\\1', txt)\n",
    "        #obs: deveria usar encoding utf-8\n",
    "        with open(txt, 'r', encoding='utf-8') as f:\n",
    "            print(f)\n",
    "            txt_body = f.read()\n",
    "            print(txt_body)\n",
    "            #cur.execute('''INSERT INTO marcelo_draft VALUES (txt_id, txt_body, txt_date)''')\n",
    "            cur.execute('INSERT INTO marcelo_draft VALUES (\"%s\", \"%s\", \"%s\", \"%s\", \"%s\")' % (txt_id, txt_body, txt_date, 0, 0))\n",
    "    cur.execute(\"SELECT * FROM marcelo_draft\");\n",
    "    rows = cur.fetchall()\n",
    "    print(rows)\n",
    "            "
   ]
  },
  {
   "cell_type": "raw",
   "metadata": {},
   "source": [
    "'''''''''''''''''''''''''''''''''''''''''''''''''''''''''''''''''''''''''''''\n",
    "Captura datas\n",
    "'''''''''''''''''''''''''''''''''''''''''''''''''''''''''''''''''''''''''''''\n",
    "for file in files[0:10]:\n",
    "    date = re.sub('.*(19\\d\\d.*)_.*_.*', r'\\1', file)\n",
    "    print(date)"
   ]
  },
  {
   "cell_type": "code",
   "execution_count": null,
   "metadata": {
    "collapsed": true
   },
   "outputs": [],
   "source": [
    "for txt in fullpath_list:\n",
    "    txt_date = re.sub('.*(19\\d\\d.*)_.*_.*', r'\\1', txt)\n",
    "    txt_id = re.sub('.*AAS_mre_(.*).txt', r'\\1', txt)\n",
    "    with open(os.path.join(path,txt), 'r', encoding='utf-8') as f:\n",
    "        txt_body = f.read()\n",
    "        #curs.execute('''INSERT INTO marcelo_draft VALUES (txt_id, txt_body, txt_date, txt_date)''')"
   ]
  },
  {
   "cell_type": "code",
   "execution_count": null,
   "metadata": {
    "collapsed": true
   },
   "outputs": [],
   "source": [
    "'''''''''''''''''''''''''''''''''''''''''''''''''''''''''''''''''''''''''''''\n",
    "Classifica o corpus de acordo com: tipo textual (para separar textos sujos, como letra cursiva, foto, fonte alternativa) e idioma\n",
    "pt = 1\n",
    "de = 2\n",
    "en = 3\n",
    "es = 4\n",
    "fr = 5\n",
    "'''''''''''''''''''''''''''''''''''''''''''''''''''''''''''''''''''''''''''''\n",
    "doc_class = []\n",
    "lang_class = []\n",
    "count_doc = 0\n",
    "percentil = int(len(onlyfiles)/100)\n",
    "for txt in onlyfiles[0:]:\n",
    "    #print(txt)\n",
    "    with open(os.path.join(path,txt), 'r', encoding='latin-1') as f:\n",
    "        if count_doc % percentil == 0: print(int(count_doc/percentil),'% done')\n",
    "        if count_doc % (percentil-1) == 0: clear_output()\n",
    "        texto = f.read()\n",
    "        texto_pt = texto_en = texto_es = texto_fr = texto\n",
    "        texto_split = re.split('\\.|\\[|\\]|\\(|\\)|\\?|\\/|\\n|\\*|\\:|\\%|\\d+|\\ª|\\º', texto)\n",
    "        #print(texto_split)\n",
    "        count = pt_count = en_count = es_count = fr_count = de_count = 0\n",
    "        total_count = 0\n",
    "        for phrase in texto_split:\n",
    "            total_count += 1\n",
    "            if not re.search('[^\\W\\d_]', phrase): continue\n",
    "            language = detect(phrase)\n",
    "            #print('PHRASE', phrase, 'LANGUAGE', language)\n",
    "            total_count += 1\n",
    "            if language == 'pt':\n",
    "                pt_count += 1\n",
    "            if language == 'en':\n",
    "                en_count += 1\n",
    "            if language == 'es':\n",
    "                es_count += 1\n",
    "            if language == 'fr':\n",
    "                fr_count += 1\n",
    "            if language == 'de':\n",
    "                de_count += 1\n",
    "        lang_count = pt_count + en_count + es_count + fr_count + de_count        \n",
    "        #print(total_count, lang_count, 'proportion', lang_count/total_count)\n",
    "        if lang_count/total_count < 0.03: \n",
    "            doc_class.append(0)\n",
    "        else: doc_class.append(1)\n",
    "        lang_class.append(0)\n",
    "        if de_count/total_count > 0.1: \n",
    "            lang_class[-1] = 2\n",
    "        if fr_count/total_count > 0.1: \n",
    "            lang_class[-1] = 5\n",
    "        if es_count/total_count > 0.1: \n",
    "            lang_class[-1] = 4\n",
    "        if en_count/total_count > 0.1: \n",
    "            lang_class[-1] = 3\n",
    "        if pt_count/total_count > 0.1: \n",
    "            lang_class[-1] = 1\n",
    "        else: \n",
    "\n",
    "        #print(pt_count/total_count)\n",
    "        #print(en_count/total_count)\n",
    "        #print(es_count/total_count)\n",
    "        #print(fr_count/total_count)\n",
    "        #print(de_count/total_count)\n",
    "        \n",
    "        #print('len',len(texto_split))\n",
    "        #print(doc_class)"
   ]
  }
 ],
 "metadata": {
  "anaconda-cloud": {},
  "kernelspec": {
   "display_name": "Python [Root]",
   "language": "python",
   "name": "Python [Root]"
  },
  "language_info": {
   "codemirror_mode": {
    "name": "ipython",
    "version": 3
   },
   "file_extension": ".py",
   "mimetype": "text/x-python",
   "name": "python",
   "nbconvert_exporter": "python",
   "pygments_lexer": "ipython3",
   "version": "3.5.2"
  }
 },
 "nbformat": 4,
 "nbformat_minor": 0
}
