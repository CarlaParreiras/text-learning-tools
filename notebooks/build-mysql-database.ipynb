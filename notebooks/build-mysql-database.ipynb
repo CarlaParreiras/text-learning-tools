{
 "cells": [
  {
   "cell_type": "markdown",
   "metadata": {},
   "source": [
    "### build-mysql-database\n",
    "CONSTROI BASE DE DADOS NO MYSQL POR MEIO DE DOCUMENTOS DA COLEÇÃO **ANTONIO AZEREDO DA SILVEIRA, MINISTÉRIO DAS RELAÇÕES EXTERIORES**.  "
   ]
  },
  {
   "cell_type": "code",
   "execution_count": 2,
   "metadata": {
    "collapsed": false
   },
   "outputs": [],
   "source": [
    "import os\n",
    "import sys\n",
    "import time\n",
    "import datetime\n",
    "import numpy as np\n",
    "import pandas as pd\n",
    "import re\n",
    "import pymysql\n",
    "#import psycopg2\n",
    "import getpass\n",
    "\n",
    "from sshtunnel import SSHTunnelForwarder\n",
    "import time\n",
    "\n",
    "import codecs\n",
    "from langdetect import detect"
   ]
  },
  {
   "cell_type": "code",
   "execution_count": 3,
   "metadata": {
    "collapsed": false
   },
   "outputs": [],
   "source": [
    "'''''''''''''''''''''''''''''''''''''''''''''''''''''''''''''''''''''''''''''\n",
    "define pastas de trabalho\n",
    "'''''''''''''''''''''''''''''''''''''''''''''''''''''''''''''''''''''''''''''\n",
    "\n",
    "#path = \"C:/Users/marcelo.ribeiro/Documents/textfiles-corrected-regrouped/\"\n",
    "#path = \"C:/Users/marcelo.ribeiro/Documents/temp/\" #TESTE!\n",
    "#outputs = \"C:/Users/marcelo.ribeiro/Documents/outputs/\"\n",
    "path = \"/home/rsouza/Documentos/text-learning-tools/textfiles-corrected-regrouped/\"\n",
    "\n",
    "files = [f for f in os.listdir(path)]\n",
    "fullpath_list = []\n",
    "fullpath = ''\n",
    "for file in files:\n",
    "    fullpath = path+file\n",
    "    fullpath_list.append(fullpath)"
   ]
  },
  {
   "cell_type": "code",
   "execution_count": 4,
   "metadata": {
    "collapsed": false
   },
   "outputs": [
    {
     "data": {
      "text/plain": [
       "['AAS_mre_rb_1974.04.17_doc_I-66.txt',\n",
       " 'AAS_mre_onu_1974.03.12_doc_II-49.txt',\n",
       " 'AAS_mre_onu_1974.03.12_doc_V-2.txt',\n",
       " 'AAS_mre_be_1974.04.16_doc_VI-18.txt']"
      ]
     },
     "execution_count": 4,
     "metadata": {},
     "output_type": "execute_result"
    }
   ],
   "source": [
    "files[0:4]"
   ]
  },
  {
   "cell_type": "code",
   "execution_count": 38,
   "metadata": {
    "collapsed": false
   },
   "outputs": [
    {
     "name": "stdout",
     "output_type": "stream",
     "text": [
      "········\n",
      "········\n",
      " \n",
      "\n",
      "aas, vãqú oh 4?\n",
      "/y, ', - -- (, ( rio\n",
      "\n",
      ", brasília, em 29 de dezembro de 1976\n",
      "\n",
      "sua excelência o senhor\n",
      "\n",
      "embaixador enrique pérez-hernández\n",
      "embaixada da espanha\n",
      "\n",
      "buenos aires - argentina\n",
      "\n",
      "prezado embaixador e caro amigo,\n",
      "\n",
      "foi com grande alegria que recebi sua?\n",
      "carta de 7 de dezembro corrente com a notícia de que havia assumido a embaixada da espanha em buenos aires.\n",
      "\n",
      "como bem sabe, por cinco anos tive a\n",
      "grande honra de representar meu país na argentina e o\n",
      "prazer de gozar da convivência dos amigos argentinos. _\n",
      "\n",
      "ainda tenho vivas as lembranças dos :\n",
      "\n",
      " \n",
      "\n",
      "tempos de genebra e espero um dia voltar a vê-lo, seja\n",
      "\n",
      "vaqui em brasília seja alhures.\n",
      "\n",
      " \n",
      "\n",
      " \n",
      "\n",
      "cordial abraça, \"\n",
      "\n",
      "tam\"\n",
      "\n",
      "xv w\n",
      "\n",
      "(an nio f. a edo da silveira)\n",
      "\n",
      "(a.\n",
      "\n",
      "lpt\n",
      "\n",
      " \n",
      "\n",
      "mé mu . ou. i:!-\n",
      "wl \"\n",
      "\n",
      "buenos aires, 7 de diciembre de 1976.\n",
      "\n",
      "(o 4 . (o .\n",
      "klmdnqaôox nx\" &). \"ismm\n",
      "\n",
      "excmo. sr. don antonio francisco azeredo da silveira,\n",
      "ministro de relaciones exteriores,\n",
      "\n",
      "b r a s i l i a.\n",
      "\n",
      "mi querido ministro y amigo:\n",
      "\n",
      "ayer presenté cartas credenciales y hoy te mando\n",
      "estas líneas para comunicártelo y para que sepas que estoy aqui, como\n",
      "siempre, & tu disposición. sabes de mi sincera admiración por tu gran\n",
      "país y espero que no hayas olvidado la amistad y el aprecio que por ti\n",
      "\n",
      "siento.\n",
      "\n",
      "aún no he visitado & tu embajador en buenos aires,\n",
      "\n",
      "dado el corto tiempo, apenas una semana, transcurrido desde mi llegada.\n",
      "\n",
      "recibe mí querido ministro, un abrazo muy fuerte\n",
      "\n",
      "con el recuerdo de los tiempos de ginebra y con toda mi amistad,\n",
      "\n",
      "ix\" 4/77/\n",
      "\n",
      "l , / > 4 (\"/31%. - x\n",
      "_ * . , . r , ( (16.1 > ( '\n",
      "(. , , \"l e k. ,\n",
      "\n",
      " \n",
      "\n",
      "\", \"-\"_\"\n",
      "\n",
      "enrique pérez-hernández\n",
      "\n",
      "t; %64\n",
      "\n",
      "\n"
     ]
    },
    {
     "ename": "ProgrammingError",
     "evalue": "(1064, \"You have an error in your SQL syntax; check the manual that corresponds to your MySQL server version for the right syntax to use near 'oh 4?\\n/y, ', - -- (, ( rio\\n\\n, brasília, em 29 de dezembro de 1976\\n\\nsua excelên' at line 3\")",
     "output_type": "error",
     "traceback": [
      "\u001b[0;31m---------------------------------------------------------------------------\u001b[0m",
      "\u001b[0;31mProgrammingError\u001b[0m                          Traceback (most recent call last)",
      "\u001b[0;32m<ipython-input-38-31e4be0338c5>\u001b[0m in \u001b[0;36m<module>\u001b[0;34m()\u001b[0m\n\u001b[1;32m     45\u001b[0m             \u001b[0mprint\u001b[0m\u001b[0;34m(\u001b[0m\u001b[0mtxt_body\u001b[0m\u001b[0;34m)\u001b[0m\u001b[0;34m\u001b[0m\u001b[0m\n\u001b[1;32m     46\u001b[0m             \u001b[0;31m#cur.execute('''INSERT INTO marcelo_draft VALUES (txt_id, txt_body, txt_date)''')\u001b[0m\u001b[0;34m\u001b[0m\u001b[0;34m\u001b[0m\u001b[0m\n\u001b[0;32m---> 47\u001b[0;31m             \u001b[0mcur\u001b[0m\u001b[0;34m.\u001b[0m\u001b[0mexecute\u001b[0m\u001b[0;34m(\u001b[0m\u001b[0;34m\"INSERT INTO marcelo_draft VALUES (%s), (%s), (%s), (%s), (%s))\"\u001b[0m \u001b[0;34m%\u001b[0m \u001b[0;34m(\u001b[0m\u001b[0mtxt_id\u001b[0m\u001b[0;34m,\u001b[0m \u001b[0mtxt_body\u001b[0m\u001b[0;34m,\u001b[0m \u001b[0mtxt_date\u001b[0m\u001b[0;34m,\u001b[0m \u001b[0;36m0\u001b[0m\u001b[0;34m,\u001b[0m \u001b[0;36m0\u001b[0m\u001b[0;34m)\u001b[0m\u001b[0;34m)\u001b[0m\u001b[0;34m\u001b[0m\u001b[0m\n\u001b[0m\u001b[1;32m     48\u001b[0m             \u001b[0;31m#cur.execute('''INSERT INTO marcelo_draft VALUES {} {} {} {} {}'''.format(txt_id, txt_body, txt_date, 0, 0))\u001b[0m\u001b[0;34m\u001b[0m\u001b[0;34m\u001b[0m\u001b[0m\n\u001b[1;32m     49\u001b[0m             \u001b[0;31m#cur.execute(\"INSERT INTO marcelo_draft VALUES (?,?,?,?,?)\",(txt_id, txt_body, txt_date, \"0\", \"0\"))\u001b[0m\u001b[0;34m\u001b[0m\u001b[0;34m\u001b[0m\u001b[0m\n",
      "\u001b[0;32m/usr/local/lib/python3.5/dist-packages/pymysql/cursors.py\u001b[0m in \u001b[0;36mexecute\u001b[0;34m(self, query, args)\u001b[0m\n\u001b[1;32m    159\u001b[0m         \u001b[0mquery\u001b[0m \u001b[0;34m=\u001b[0m \u001b[0mself\u001b[0m\u001b[0;34m.\u001b[0m\u001b[0mmogrify\u001b[0m\u001b[0;34m(\u001b[0m\u001b[0mquery\u001b[0m\u001b[0;34m,\u001b[0m \u001b[0margs\u001b[0m\u001b[0;34m)\u001b[0m\u001b[0;34m\u001b[0m\u001b[0m\n\u001b[1;32m    160\u001b[0m \u001b[0;34m\u001b[0m\u001b[0m\n\u001b[0;32m--> 161\u001b[0;31m         \u001b[0mresult\u001b[0m \u001b[0;34m=\u001b[0m \u001b[0mself\u001b[0m\u001b[0;34m.\u001b[0m\u001b[0m_query\u001b[0m\u001b[0;34m(\u001b[0m\u001b[0mquery\u001b[0m\u001b[0;34m)\u001b[0m\u001b[0;34m\u001b[0m\u001b[0m\n\u001b[0m\u001b[1;32m    162\u001b[0m         \u001b[0mself\u001b[0m\u001b[0;34m.\u001b[0m\u001b[0m_executed\u001b[0m \u001b[0;34m=\u001b[0m \u001b[0mquery\u001b[0m\u001b[0;34m\u001b[0m\u001b[0m\n\u001b[1;32m    163\u001b[0m         \u001b[0;32mreturn\u001b[0m \u001b[0mresult\u001b[0m\u001b[0;34m\u001b[0m\u001b[0m\n",
      "\u001b[0;32m/usr/local/lib/python3.5/dist-packages/pymysql/cursors.py\u001b[0m in \u001b[0;36m_query\u001b[0;34m(self, q)\u001b[0m\n\u001b[1;32m    315\u001b[0m         \u001b[0mconn\u001b[0m \u001b[0;34m=\u001b[0m \u001b[0mself\u001b[0m\u001b[0;34m.\u001b[0m\u001b[0m_get_db\u001b[0m\u001b[0;34m(\u001b[0m\u001b[0;34m)\u001b[0m\u001b[0;34m\u001b[0m\u001b[0m\n\u001b[1;32m    316\u001b[0m         \u001b[0mself\u001b[0m\u001b[0;34m.\u001b[0m\u001b[0m_last_executed\u001b[0m \u001b[0;34m=\u001b[0m \u001b[0mq\u001b[0m\u001b[0;34m\u001b[0m\u001b[0m\n\u001b[0;32m--> 317\u001b[0;31m         \u001b[0mconn\u001b[0m\u001b[0;34m.\u001b[0m\u001b[0mquery\u001b[0m\u001b[0;34m(\u001b[0m\u001b[0mq\u001b[0m\u001b[0;34m)\u001b[0m\u001b[0;34m\u001b[0m\u001b[0m\n\u001b[0m\u001b[1;32m    318\u001b[0m         \u001b[0mself\u001b[0m\u001b[0;34m.\u001b[0m\u001b[0m_do_get_result\u001b[0m\u001b[0;34m(\u001b[0m\u001b[0;34m)\u001b[0m\u001b[0;34m\u001b[0m\u001b[0m\n\u001b[1;32m    319\u001b[0m         \u001b[0;32mreturn\u001b[0m \u001b[0mself\u001b[0m\u001b[0;34m.\u001b[0m\u001b[0mrowcount\u001b[0m\u001b[0;34m\u001b[0m\u001b[0m\n",
      "\u001b[0;32m/usr/local/lib/python3.5/dist-packages/pymysql/connections.py\u001b[0m in \u001b[0;36mquery\u001b[0;34m(self, sql, unbuffered)\u001b[0m\n\u001b[1;32m    835\u001b[0m                 \u001b[0msql\u001b[0m \u001b[0;34m=\u001b[0m \u001b[0msql\u001b[0m\u001b[0;34m.\u001b[0m\u001b[0mencode\u001b[0m\u001b[0;34m(\u001b[0m\u001b[0mself\u001b[0m\u001b[0;34m.\u001b[0m\u001b[0mencoding\u001b[0m\u001b[0;34m,\u001b[0m \u001b[0;34m'surrogateescape'\u001b[0m\u001b[0;34m)\u001b[0m\u001b[0;34m\u001b[0m\u001b[0m\n\u001b[1;32m    836\u001b[0m         \u001b[0mself\u001b[0m\u001b[0;34m.\u001b[0m\u001b[0m_execute_command\u001b[0m\u001b[0;34m(\u001b[0m\u001b[0mCOMMAND\u001b[0m\u001b[0;34m.\u001b[0m\u001b[0mCOM_QUERY\u001b[0m\u001b[0;34m,\u001b[0m \u001b[0msql\u001b[0m\u001b[0;34m)\u001b[0m\u001b[0;34m\u001b[0m\u001b[0m\n\u001b[0;32m--> 837\u001b[0;31m         \u001b[0mself\u001b[0m\u001b[0;34m.\u001b[0m\u001b[0m_affected_rows\u001b[0m \u001b[0;34m=\u001b[0m \u001b[0mself\u001b[0m\u001b[0;34m.\u001b[0m\u001b[0m_read_query_result\u001b[0m\u001b[0;34m(\u001b[0m\u001b[0munbuffered\u001b[0m\u001b[0;34m=\u001b[0m\u001b[0munbuffered\u001b[0m\u001b[0;34m)\u001b[0m\u001b[0;34m\u001b[0m\u001b[0m\n\u001b[0m\u001b[1;32m    838\u001b[0m         \u001b[0;32mreturn\u001b[0m \u001b[0mself\u001b[0m\u001b[0;34m.\u001b[0m\u001b[0m_affected_rows\u001b[0m\u001b[0;34m\u001b[0m\u001b[0m\n\u001b[1;32m    839\u001b[0m \u001b[0;34m\u001b[0m\u001b[0m\n",
      "\u001b[0;32m/usr/local/lib/python3.5/dist-packages/pymysql/connections.py\u001b[0m in \u001b[0;36m_read_query_result\u001b[0;34m(self, unbuffered)\u001b[0m\n\u001b[1;32m   1019\u001b[0m         \u001b[0;32melse\u001b[0m\u001b[0;34m:\u001b[0m\u001b[0;34m\u001b[0m\u001b[0m\n\u001b[1;32m   1020\u001b[0m             \u001b[0mresult\u001b[0m \u001b[0;34m=\u001b[0m \u001b[0mMySQLResult\u001b[0m\u001b[0;34m(\u001b[0m\u001b[0mself\u001b[0m\u001b[0;34m)\u001b[0m\u001b[0;34m\u001b[0m\u001b[0m\n\u001b[0;32m-> 1021\u001b[0;31m             \u001b[0mresult\u001b[0m\u001b[0;34m.\u001b[0m\u001b[0mread\u001b[0m\u001b[0;34m(\u001b[0m\u001b[0;34m)\u001b[0m\u001b[0;34m\u001b[0m\u001b[0m\n\u001b[0m\u001b[1;32m   1022\u001b[0m         \u001b[0mself\u001b[0m\u001b[0;34m.\u001b[0m\u001b[0m_result\u001b[0m \u001b[0;34m=\u001b[0m \u001b[0mresult\u001b[0m\u001b[0;34m\u001b[0m\u001b[0m\n\u001b[1;32m   1023\u001b[0m         \u001b[0;32mif\u001b[0m \u001b[0mresult\u001b[0m\u001b[0;34m.\u001b[0m\u001b[0mserver_status\u001b[0m \u001b[0;32mis\u001b[0m \u001b[0;32mnot\u001b[0m \u001b[0;32mNone\u001b[0m\u001b[0;34m:\u001b[0m\u001b[0;34m\u001b[0m\u001b[0m\n",
      "\u001b[0;32m/usr/local/lib/python3.5/dist-packages/pymysql/connections.py\u001b[0m in \u001b[0;36mread\u001b[0;34m(self)\u001b[0m\n\u001b[1;32m   1302\u001b[0m     \u001b[0;32mdef\u001b[0m \u001b[0mread\u001b[0m\u001b[0;34m(\u001b[0m\u001b[0mself\u001b[0m\u001b[0;34m)\u001b[0m\u001b[0;34m:\u001b[0m\u001b[0;34m\u001b[0m\u001b[0m\n\u001b[1;32m   1303\u001b[0m         \u001b[0;32mtry\u001b[0m\u001b[0;34m:\u001b[0m\u001b[0;34m\u001b[0m\u001b[0m\n\u001b[0;32m-> 1304\u001b[0;31m             \u001b[0mfirst_packet\u001b[0m \u001b[0;34m=\u001b[0m \u001b[0mself\u001b[0m\u001b[0;34m.\u001b[0m\u001b[0mconnection\u001b[0m\u001b[0;34m.\u001b[0m\u001b[0m_read_packet\u001b[0m\u001b[0;34m(\u001b[0m\u001b[0;34m)\u001b[0m\u001b[0;34m\u001b[0m\u001b[0m\n\u001b[0m\u001b[1;32m   1305\u001b[0m \u001b[0;34m\u001b[0m\u001b[0m\n\u001b[1;32m   1306\u001b[0m             \u001b[0;32mif\u001b[0m \u001b[0mfirst_packet\u001b[0m\u001b[0;34m.\u001b[0m\u001b[0mis_ok_packet\u001b[0m\u001b[0;34m(\u001b[0m\u001b[0;34m)\u001b[0m\u001b[0;34m:\u001b[0m\u001b[0;34m\u001b[0m\u001b[0m\n",
      "\u001b[0;32m/usr/local/lib/python3.5/dist-packages/pymysql/connections.py\u001b[0m in \u001b[0;36m_read_packet\u001b[0;34m(self, packet_type)\u001b[0m\n\u001b[1;32m    981\u001b[0m \u001b[0;34m\u001b[0m\u001b[0m\n\u001b[1;32m    982\u001b[0m         \u001b[0mpacket\u001b[0m \u001b[0;34m=\u001b[0m \u001b[0mpacket_type\u001b[0m\u001b[0;34m(\u001b[0m\u001b[0mbuff\u001b[0m\u001b[0;34m,\u001b[0m \u001b[0mself\u001b[0m\u001b[0;34m.\u001b[0m\u001b[0mencoding\u001b[0m\u001b[0;34m)\u001b[0m\u001b[0;34m\u001b[0m\u001b[0m\n\u001b[0;32m--> 983\u001b[0;31m         \u001b[0mpacket\u001b[0m\u001b[0;34m.\u001b[0m\u001b[0mcheck_error\u001b[0m\u001b[0;34m(\u001b[0m\u001b[0;34m)\u001b[0m\u001b[0;34m\u001b[0m\u001b[0m\n\u001b[0m\u001b[1;32m    984\u001b[0m         \u001b[0;32mreturn\u001b[0m \u001b[0mpacket\u001b[0m\u001b[0;34m\u001b[0m\u001b[0m\n\u001b[1;32m    985\u001b[0m \u001b[0;34m\u001b[0m\u001b[0m\n",
      "\u001b[0;32m/usr/local/lib/python3.5/dist-packages/pymysql/connections.py\u001b[0m in \u001b[0;36mcheck_error\u001b[0;34m(self)\u001b[0m\n\u001b[1;32m    393\u001b[0m             \u001b[0merrno\u001b[0m \u001b[0;34m=\u001b[0m \u001b[0mself\u001b[0m\u001b[0;34m.\u001b[0m\u001b[0mread_uint16\u001b[0m\u001b[0;34m(\u001b[0m\u001b[0;34m)\u001b[0m\u001b[0;34m\u001b[0m\u001b[0m\n\u001b[1;32m    394\u001b[0m             \u001b[0;32mif\u001b[0m \u001b[0mDEBUG\u001b[0m\u001b[0;34m:\u001b[0m \u001b[0mprint\u001b[0m\u001b[0;34m(\u001b[0m\u001b[0;34m\"errno =\"\u001b[0m\u001b[0;34m,\u001b[0m \u001b[0merrno\u001b[0m\u001b[0;34m)\u001b[0m\u001b[0;34m\u001b[0m\u001b[0m\n\u001b[0;32m--> 395\u001b[0;31m             \u001b[0merr\u001b[0m\u001b[0;34m.\u001b[0m\u001b[0mraise_mysql_exception\u001b[0m\u001b[0;34m(\u001b[0m\u001b[0mself\u001b[0m\u001b[0;34m.\u001b[0m\u001b[0m_data\u001b[0m\u001b[0;34m)\u001b[0m\u001b[0;34m\u001b[0m\u001b[0m\n\u001b[0m\u001b[1;32m    396\u001b[0m \u001b[0;34m\u001b[0m\u001b[0m\n\u001b[1;32m    397\u001b[0m     \u001b[0;32mdef\u001b[0m \u001b[0mdump\u001b[0m\u001b[0;34m(\u001b[0m\u001b[0mself\u001b[0m\u001b[0;34m)\u001b[0m\u001b[0;34m:\u001b[0m\u001b[0;34m\u001b[0m\u001b[0m\n",
      "\u001b[0;32m/usr/local/lib/python3.5/dist-packages/pymysql/err.py\u001b[0m in \u001b[0;36mraise_mysql_exception\u001b[0;34m(data)\u001b[0m\n\u001b[1;32m    118\u001b[0m \u001b[0;32mdef\u001b[0m \u001b[0mraise_mysql_exception\u001b[0m\u001b[0;34m(\u001b[0m\u001b[0mdata\u001b[0m\u001b[0;34m)\u001b[0m\u001b[0;34m:\u001b[0m\u001b[0;34m\u001b[0m\u001b[0m\n\u001b[1;32m    119\u001b[0m     \u001b[0merrinfo\u001b[0m \u001b[0;34m=\u001b[0m \u001b[0m_get_error_info\u001b[0m\u001b[0;34m(\u001b[0m\u001b[0mdata\u001b[0m\u001b[0;34m)\u001b[0m\u001b[0;34m\u001b[0m\u001b[0m\n\u001b[0;32m--> 120\u001b[0;31m     \u001b[0m_check_mysql_exception\u001b[0m\u001b[0;34m(\u001b[0m\u001b[0merrinfo\u001b[0m\u001b[0;34m)\u001b[0m\u001b[0;34m\u001b[0m\u001b[0m\n\u001b[0m",
      "\u001b[0;32m/usr/local/lib/python3.5/dist-packages/pymysql/err.py\u001b[0m in \u001b[0;36m_check_mysql_exception\u001b[0;34m(errinfo)\u001b[0m\n\u001b[1;32m    110\u001b[0m     \u001b[0merrorclass\u001b[0m \u001b[0;34m=\u001b[0m \u001b[0merror_map\u001b[0m\u001b[0;34m.\u001b[0m\u001b[0mget\u001b[0m\u001b[0;34m(\u001b[0m\u001b[0merrno\u001b[0m\u001b[0;34m,\u001b[0m \u001b[0;32mNone\u001b[0m\u001b[0;34m)\u001b[0m\u001b[0;34m\u001b[0m\u001b[0m\n\u001b[1;32m    111\u001b[0m     \u001b[0;32mif\u001b[0m \u001b[0merrorclass\u001b[0m\u001b[0;34m:\u001b[0m\u001b[0;34m\u001b[0m\u001b[0m\n\u001b[0;32m--> 112\u001b[0;31m         \u001b[0;32mraise\u001b[0m \u001b[0merrorclass\u001b[0m\u001b[0;34m(\u001b[0m\u001b[0merrno\u001b[0m\u001b[0;34m,\u001b[0m \u001b[0merrorvalue\u001b[0m\u001b[0;34m)\u001b[0m\u001b[0;34m\u001b[0m\u001b[0m\n\u001b[0m\u001b[1;32m    113\u001b[0m \u001b[0;34m\u001b[0m\u001b[0m\n\u001b[1;32m    114\u001b[0m     \u001b[0;31m# couldn't find the right error number\u001b[0m\u001b[0;34m\u001b[0m\u001b[0;34m\u001b[0m\u001b[0m\n",
      "\u001b[0;31mProgrammingError\u001b[0m: (1064, \"You have an error in your SQL syntax; check the manual that corresponds to your MySQL server version for the right syntax to use near 'oh 4?\\n/y, ', - -- (, ( rio\\n\\n, brasília, em 29 de dezembro de 1976\\n\\nsua excelên' at line 3\")"
     ]
    }
   ],
   "source": [
    "count = 0\n",
    "pass_sshkey = getpass.getpass()\n",
    "pass_mysql = getpass.getpass()\n",
    "with SSHTunnelForwarder(('200.20.164.147', 22),\n",
    "                        #ssh_private_key = \"C:/Users/marcelo.ribeiro/Dropbox/A-Marcelo/Educação-Trabalho/2016-CPDOC/Remoto/marcelo_priv_rsa\",\n",
    "                        ssh_private_key = '/home/rsouza/.ssh/id_rsa',\n",
    "                        ssh_private_key_password = pass_sshkey,\n",
    "                        #ssh_private_key_password = input('Entre com a senha da chave privada'),\n",
    "                        #ssh_username=\"marcelobribeiro\",\n",
    "                        ssh_username=\"rsouza\",\n",
    "                        remote_bind_address=('127.0.0.1', 3306)) as server:\n",
    "    \n",
    "    conn = pymysql.connect(host='localhost', \n",
    "                           port=server.local_bind_port, \n",
    "                           #user='marcelobribeiro', \n",
    "                           user='rsouza',\n",
    "                           passwd=pass_mysql,\n",
    "                           #passwd=input('Entre com a senha do usuário no banco de dados'),\n",
    "                           db='CPDOC_AS',\n",
    "                           use_unicode=True, \n",
    "                           charset=\"utf8\")\n",
    "    cur = conn.cursor()\n",
    "    #sql = \"select * from marcelo_draft\"\n",
    "    #cur.execute(sql)\n",
    "    #cur.execute(\"USE CPDOC_AS\")\n",
    "    '''''''''''''''''''''''''''''''''''''''''''''''''''''''''''''''''''''''''''''\n",
    "    insere id de documentos e corpo de texto na base mysql\n",
    "    '''''''''''''''''''''''''''''''''''''''''''''''''''''''''''''''''''''''''''''\n",
    "    cur.execute('''CREATE TABLE IF NOT EXISTS marcelo_draft \n",
    "               (id VARCHAR(50), body LONGTEXT, date VARCHAR(20), readability TINYINT(2), main_language VARCHAR(10)\n",
    "               DEFAULT NULL)\n",
    "               ENGINE=MyISAM DEFAULT CHARSET='utf8';''')\n",
    "    #cur.execute('INSERT INTO marcelo_draft VALUES (\"1\", \"2\", \"3\", \"4\", \"5\")')\n",
    "    cur.execute(\"SELECT * FROM marcelo_draft\")\n",
    "    for txt in fullpath_list[0:1]:\n",
    "        count += 1\n",
    "        txt_date = re.sub('.*(19\\d\\d.*)_.*_.*', r'\\1', txt)\n",
    "        txt_id = re.sub('.*AAS_mre_(.*).txt', r'\\1', txt)\n",
    "        #obs: deveria usar encoding utf-8. Ignorando erros\n",
    "        with open(txt, 'r', encoding='ISO-8859-1') as f:\n",
    "            txt_body = f.read()\n",
    "            #txt_body = txt_body.decode('latin-1')#.encode('utf-8')\n",
    "            #txt_body = txt_body.encode('latin-1')\n",
    "            #txt_body = txt_body.decode('utf-8')\n",
    "            print(txt_body)\n",
    "            #cur.execute('''INSERT INTO marcelo_draft VALUES (txt_id, txt_body, txt_date)''')\n",
    "            cur.execute(\"INSERT INTO marcelo_draft VALUES (%s), (%s), (%s), (%s), (%s))\" % (txt_id, txt_body, txt_date, 0, 0))\n",
    "            #cur.execute('''INSERT INTO marcelo_draft VALUES {} {} {} {} {}'''.format(txt_id, txt_body, txt_date, 0, 0))\n",
    "            #cur.execute(\"INSERT INTO marcelo_draft VALUES (?,?,?,?,?)\",(txt_id, txt_body, txt_date, \"0\", \"0\"))\n",
    "    #cur.execute(\"SELECT * FROM marcelo_draft\");\n",
    "    #rows = cur.fetchall()\n",
    "    #print(rows)"
   ]
  },
  {
   "cell_type": "raw",
   "metadata": {},
   "source": [
    "'''''''''''''''''''''''''''''''''''''''''''''''''''''''''''''''''''''''''''''\n",
    "Captura datas\n",
    "'''''''''''''''''''''''''''''''''''''''''''''''''''''''''''''''''''''''''''''\n",
    "for file in files[0:10]:\n",
    "    date = re.sub('.*(19\\d\\d.*)_.*_.*', r'\\1', file)\n",
    "    print(date)"
   ]
  },
  {
   "cell_type": "code",
   "execution_count": null,
   "metadata": {
    "collapsed": true
   },
   "outputs": [],
   "source": [
    "for txt in fullpath_list:\n",
    "    txt_date = re.sub('.*(19\\d\\d.*)_.*_.*', r'\\1', txt)\n",
    "    txt_id = re.sub('.*AAS_mre_(.*).txt', r'\\1', txt)\n",
    "    with open(os.path.join(path,txt), 'r', encoding='utf-8') as f:\n",
    "        txt_body = f.read()\n",
    "        #curs.execute('''INSERT INTO marcelo_draft VALUES (txt_id, txt_body, txt_date, txt_date)''')"
   ]
  },
  {
   "cell_type": "code",
   "execution_count": 58,
   "metadata": {
    "collapsed": false
   },
   "outputs": [],
   "source": [
    "'''''''''''''''''''''''''''''''''''''''''''''''''''''''''''''''''''''''''''''\n",
    "Classifica o corpus de acordo com: tipo textual (para separar textos sujos, como letra cursiva, foto, fonte alternativa) e idioma\n",
    "pt = 1\n",
    "de = 2\n",
    "en = 3\n",
    "es = 4\n",
    "fr = 5\n",
    "'''''''''''''''''''''''''''''''''''''''''''''''''''''''''''''''''''''''''''''\n",
    "doc_class = []\n",
    "lang_class = []\n",
    "count_doc = 0\n",
    "#percentil = int(len(onlyfiles)/100)\n",
    "for txt in fullpath_list[0:]:\n",
    "    #print(txt)\n",
    "    with open(txt, 'r', encoding='utf-8') as f:\n",
    "        #if count_doc % percentil == 0: print(int(count_doc/percentil),'% done')\n",
    "        #if count_doc % (percentil-1) == 0: clear_output()\n",
    "        texto = f.read()\n",
    "        texto_pt = texto_en = texto_es = texto_fr = texto\n",
    "        #texto_split = re.split('\\.|\\[|\\]|\\(|\\)|\\?|\\/|\\n|\\*|\\:|\\%|\\d+|\\ª|\\º', texto)\n",
    "        texto_split = re.split('\\.|\\?|\\:', texto)\n",
    "        #print(texto_split)\n",
    "        count = pt_count = en_count = es_count = fr_count = de_count = 0\n",
    "        total_count = 0\n",
    "        for phrase in texto_split:\n",
    "            total_count += 1\n",
    "            if not re.search('[^\\W\\d_]', phrase): continue\n",
    "            language = detect(phrase)\n",
    "            #print('PHRASE', phrase, 'LANGUAGE', language)\n",
    "            total_count += 1\n",
    "            if language == 'pt':\n",
    "                pt_count += 1\n",
    "            if language == 'en':\n",
    "                en_count += 1\n",
    "            if language == 'es':\n",
    "                es_count += 1\n",
    "            if language == 'fr':\n",
    "                fr_count += 1\n",
    "            if language == 'de':\n",
    "                de_count += 1\n",
    "        lang_count = pt_count + en_count + es_count + fr_count + de_count        \n",
    "        #print(total_count, lang_count, 'proportion', lang_count/total_count)\n",
    "        if lang_count/total_count < 0.03: \n",
    "            doc_class.append(0)\n",
    "        else: doc_class.append(1)\n",
    "        lang_class.append(0)\n",
    "        if de_count/total_count > 0.1: \n",
    "            lang_class[-1] = 2\n",
    "        if fr_count/total_count > 0.1: \n",
    "            lang_class[-1] = 5\n",
    "        if es_count/total_count > 0.1: \n",
    "            lang_class[-1] = 4\n",
    "        if en_count/total_count > 0.1: \n",
    "            lang_class[-1] = 3\n",
    "        if pt_count/total_count > 0.1: \n",
    "            lang_class[-1] = 1\n",
    "        #else: \n",
    "\n",
    "        #print(pt_count/total_count)\n",
    "        #print(en_count/total_count)\n",
    "        #print(es_count/total_count)\n",
    "        #print(fr_count/total_count)\n",
    "        #print(de_count/total_count)\n",
    "        \n",
    "        #print('len',len(texto_split))\n",
    "        #print(doc_class)\n",
    "        "
   ]
  },
  {
   "cell_type": "markdown",
   "metadata": {},
   "source": [
    "### RASCUNHOS"
   ]
  },
  {
   "cell_type": "code",
   "execution_count": 28,
   "metadata": {
    "collapsed": false
   },
   "outputs": [
    {
     "name": "stdout",
     "output_type": "stream",
     "text": [
      "<_io.BufferedReader name='C:/Users/marcelo.ribeiro/Documents/temp/AAS_mre_ag_1973.11.20_doc_I-1.txt'>\n",
      "b' \\r\\n\\r\\njr, /h \\' \"& m$ hb\\'h\\'qo\\r\\n& la\\'?\\r\\n\\r\\n, \\xc3\\xa9 %%3 - _\\r\\n(aonsulado do brasil _/ , ova/caio\\r\\n4 & ,\\r\\n* brazilian consulate wo \\'\\r\\naas hawthorn st. 16 % wja mm\\r\\nmu. .. \" \"\\r\\nmm .\\r\\n\\r\\nnew bedford, massachuseti\\'s. u. s, a, 02740\\r\\n\\r\\n \\r\\n\\r\\nmarcio muller bueno\\r\\n\" , /\\r\\n11:11:3sz mao jz\". www n\\xc3\\xa3o\"3337552 %%, \" aca-m\\r\\n)\\r\\nwha %\" wom- aba/v\\xc3\\xa0 %%\\r\\n\\r\\nxb\" 7/35 andado.\\r\\n\\r\\n_, \\xc3\\xad\\xc3\\xa1aw m\\xc3\\xad. m luz/\\xc3\\xa1 && %% %%, aj alma, ;\\r\\n(\\r\\n\\r\\n\"me/&& % \\'wl-(aajj-mi- # \"a\" aaa/fo &\\r\\n\"n\\xc3\\xa3o. aiwa %%%&/a %%%&/www a* m\" \\xc3\\xa1?!\" \\xc3\\xa1\\r\\n1/1\"me %\"a\\xc3\\xad\\'ej\\'wfo m/k%/\\xc3\\xa1m%\\xc3\\xa2 tai/\\xc3\\xa1\\r\\nw. : \\xc3\\xbaw\\xc3\\xa1 2-- /i < %%\\r\\n\"melwa/ vol\\xc3\\xadco ay? mul/1 \"( o , (-\\r\\n\\r\\n\\' % \\xc3\\xb3<\\r\\n/l ano)/4% wklt-w wa: (lw/\\xc3\\xa1m/[a w\\r\\n&& mwr\\xc3\\xa1ww/l\\xc3\\xa1w wa\",\\r\\n\\r\\n/-\\r\\n\\r\\n\\r\\n\"ac-\"44. \\' p\\xc3\\xa1 , (\".\\r\\nv \\xc2\\xa3 f (1. \\xc3\\xa9 : \"l 01; mw w wm %- &\\r\\n/\\r\\n\\r\\nwl] [iv-156%; , (, \\'\\r\\n\"ab/q \"j\\xc3\\xa1-m m\\xc2\\x80) k\\xc3\\xadfa-nmc aaa-x mw, ala\\r\\nwww,\\r\\n%\"w\\xc3\\xa1w\\xc3\\xad, 9 m: ( c/mn\\r\\n\\r\\n%sjj\\xc3\\xa9\\xc3\\xa3m\\r\\n\\r\\n\"\\xc3\\xa9m-k w [\\', /\\xc3\\xa1\" \"**-\"\\xc3\\xad; p\\xc3\\xa9 if\\xc3\\xa1?!\" w %\\'0\\r\\nm amo. .. /lilia\"? jm\\xc3\\xa1%. %i/w %\\r\\n&& po \"vpmt\\xc3\\xa3vak_ jun moo-\"n & %% \"4/4, \"\\r\\n\\r\\np (a\\xc3\\xb5 piat\\xc3\\xa3 h , azo\"wat ao.\\r\\n\\r\\n \\r\\n\\r\\nthe secretary of state\\r\\nwashington\\r\\n\\r\\nnovember 20, 1973\\r\\n\\r\\ndear mr. bueno:\\r\\n\\r\\nthank you for your letter of congratulations. i remember our work with the\\r\\nbrazilian student-leaders, and i deeply\\r\\nappreciate hearing from you.\\r\\n\\r\\nbest regards,\\r\\n\\r\\npor\"?\\r\\n\\r\\nhenry a. Kissinger\\r\\n\\r\\nmr. marcio muller bueno,\\r\\nconsul of brazil,\\r\\nbrazilian consulate,\\r\\n229 hawthorn street,\\r\\nnew bedford, massachusetts.\\r\\n\\r\\n;\" m\\r\\n\\r\\n'\n"
     ]
    }
   ],
   "source": [
    "count = 0\n",
    "for txt in fullpath_list[0:1]:\n",
    "        count += 1\n",
    "        txt_date = re.sub('.*(19\\d\\d.*)_.*_.*', r'\\1', txt)\n",
    "        txt_id = re.sub('.*AAS_mre_(.*).txt', r'\\1', txt)\n",
    "        #obs: deveria usar encoding utf-8\n",
    "        with open(txt, 'rb') as f:\n",
    "            print(f)\n",
    "            txt_body = f.read()\n",
    "            \n",
    "            txt_body = txt_body.decode('latin-1').encode('utf8')\n",
    "            print(txt_body)"
   ]
  },
  {
   "cell_type": "code",
   "execution_count": 14,
   "metadata": {
    "collapsed": false
   },
   "outputs": [
    {
     "ename": "TypeError",
     "evalue": "decoding with 'utf-8' codec failed (TypeError: a bytes-like object is required, not 'str')",
     "output_type": "error",
     "traceback": [
      "\u001b[1;31m---------------------------------------------------------------------------\u001b[0m",
      "\u001b[1;31mTypeError\u001b[0m                                 Traceback (most recent call last)",
      "\u001b[1;32mC:\\Anaconda3\\lib\\encodings\\utf_8.py\u001b[0m in \u001b[0;36mdecode\u001b[1;34m(input, errors)\u001b[0m\n\u001b[0;32m     15\u001b[0m \u001b[1;32mdef\u001b[0m \u001b[0mdecode\u001b[0m\u001b[1;33m(\u001b[0m\u001b[0minput\u001b[0m\u001b[1;33m,\u001b[0m \u001b[0merrors\u001b[0m\u001b[1;33m=\u001b[0m\u001b[1;34m'strict'\u001b[0m\u001b[1;33m)\u001b[0m\u001b[1;33m:\u001b[0m\u001b[1;33m\u001b[0m\u001b[0m\n\u001b[1;32m---> 16\u001b[1;33m     \u001b[1;32mreturn\u001b[0m \u001b[0mcodecs\u001b[0m\u001b[1;33m.\u001b[0m\u001b[0mutf_8_decode\u001b[0m\u001b[1;33m(\u001b[0m\u001b[0minput\u001b[0m\u001b[1;33m,\u001b[0m \u001b[0merrors\u001b[0m\u001b[1;33m,\u001b[0m \u001b[1;32mTrue\u001b[0m\u001b[1;33m)\u001b[0m\u001b[1;33m\u001b[0m\u001b[0m\n\u001b[0m\u001b[0;32m     17\u001b[0m \u001b[1;33m\u001b[0m\u001b[0m\n",
      "\u001b[1;31mTypeError\u001b[0m: a bytes-like object is required, not 'str'",
      "\nThe above exception was the direct cause of the following exception:\n",
      "\u001b[1;31mTypeError\u001b[0m                                 Traceback (most recent call last)",
      "\u001b[1;32m<ipython-input-14-47e85f62f46f>\u001b[0m in \u001b[0;36m<module>\u001b[1;34m()\u001b[0m\n\u001b[0;32m      1\u001b[0m \u001b[1;33m\u001b[0m\u001b[0m\n\u001b[1;32m----> 2\u001b[1;33m \u001b[0mcodecs\u001b[0m\u001b[1;33m.\u001b[0m\u001b[0mdecode\u001b[0m\u001b[1;33m(\u001b[0m\u001b[1;34m'''jr, /h ' \"& m$ hb'h'qo & la'?  , é %%3 - _ (aonsulado do brasil _/ , ova/caio 4 & , * brazilian consulate wo ' aas hawthorn st. 16 % wja mm mu. .. \" \" mm .  new bedford, massachuseti's. u. s, a, 02740     marcio muller bueno \" , / 11:11:3sz mao jz\". www não\"3337552 %%, \" aca-m ) wha %\" wom- aba/và %%  xb\" 7/35 andado.  _, íáaw mí. m luz/á && %% %%, aj alma, ; (  \"me/&& % 'wl-(aajj-mi- # \"a\" aaa/fo & \"não. aiwa %%%&/a %%%&/www a* m\" á?!\" á 1/1\"me %\"aí'ej'wfo m/k%/ám%â tai/á w. : úwá 2-- /i < %% \"melwa/ volíco ay? mul/1 \"( o , (-  ' % ó< /l ano)/4% wklt-w wa: (lw/ám/[a w && mwráww/láw wa\",  /-   \"ac-\"44. ' pá , (\". v £ f (1. é : \"l 01; mw w wm %- & /  wl] [iv-156%; , (, ' \"ab/q \"já-m m€) kífa-nmc aaa-x mw, ala www, %\"wáwí, 9 m: ( c/mn  %sjjéãm  \"ém-k w [', /á\" \"**-\"í; pé ifá?!\" w %'0 m amo. .. /lilia\"? jmá%. %i/w % && po \"vpmtãvak_ jun moo-\"n & %% \"4/4, \"  p (aõ piatã h , azo\"wat ao.     the secretary of state washington  november 20, 1973  dear mr. bueno:  thank you for your letter of congratulations. i remember our work with the brazilian student-leaders, and i deeply appreciate hearing from you.  best regards,  por\"?  henry a. Kissinger  mr. marcio muller bueno, consul of brazil, brazilian consulate, 229 hawthorn street, new bedford, massachusetts.  ;\" m '''\u001b[0m\u001b[1;33m)\u001b[0m\u001b[1;33m\u001b[0m\u001b[0m\n\u001b[0m\u001b[0;32m      3\u001b[0m \u001b[1;31m#'\\xc4pple'\u001b[0m\u001b[1;33m\u001b[0m\u001b[1;33m\u001b[0m\u001b[0m\n\u001b[0;32m      4\u001b[0m \u001b[1;31m#apple.decode('iso-8859-1').encode('utf8')\u001b[0m\u001b[1;33m\u001b[0m\u001b[1;33m\u001b[0m\u001b[0m\n",
      "\u001b[1;31mTypeError\u001b[0m: decoding with 'utf-8' codec failed (TypeError: a bytes-like object is required, not 'str')"
     ]
    }
   ],
   "source": [
    "\n",
    "codecs.decode('''jr, /h ' \"& m$ hb'h'qo & la'?  , é %%3 - _ (aonsulado do brasil _/ , ova/caio 4 & , * brazilian consulate wo ' aas hawthorn st. 16 % wja mm mu. .. \" \" mm .  new bedford, massachuseti's. u. s, a, 02740     marcio muller bueno \" , / 11:11:3sz mao jz\". www não\"3337552 %%, \" aca-m ) wha %\" wom- aba/và %%  xb\" 7/35 andado.  _, íáaw mí. m luz/á && %% %%, aj alma, ; (  \"me/&& % 'wl-(aajj-mi- # \"a\" aaa/fo & \"não. aiwa %%%&/a %%%&/www a* m\" á?!\" á 1/1\"me %\"aí'ej'wfo m/k%/ám%â tai/á w. : úwá 2-- /i < %% \"melwa/ volíco ay? mul/1 \"( o , (-  ' % ó< /l ano)/4% wklt-w wa: (lw/ám/[a w && mwráww/láw wa\",  /-   \"ac-\"44. ' pá , (\". v £ f (1. é : \"l 01; mw w wm %- & /  wl] [iv-156%; , (, ' \"ab/q \"já-m m€) kífa-nmc aaa-x mw, ala www, %\"wáwí, 9 m: ( c/mn  %sjjéãm  \"ém-k w [', /á\" \"**-\"í; pé ifá?!\" w %'0 m amo. .. /lilia\"? jmá%. %i/w % && po \"vpmtãvak_ jun moo-\"n & %% \"4/4, \"  p (aõ piatã h , azo\"wat ao.     the secretary of state washington  november 20, 1973  dear mr. bueno:  thank you for your letter of congratulations. i remember our work with the brazilian student-leaders, and i deeply appreciate hearing from you.  best regards,  por\"?  henry a. Kissinger  mr. marcio muller bueno, consul of brazil, brazilian consulate, 229 hawthorn street, new bedford, massachusetts.  ;\" m ''')\n",
    "#'\\xc4pple'\n",
    "#apple.decode('iso-8859-1').encode('utf8')"
   ]
  },
  {
   "cell_type": "code",
   "execution_count": null,
   "metadata": {
    "collapsed": true
   },
   "outputs": [],
   "source": []
  }
 ],
 "metadata": {
  "anaconda-cloud": {},
  "kernelspec": {
   "display_name": "Python 3",
   "language": "python",
   "name": "python3"
  },
  "language_info": {
   "codemirror_mode": {
    "name": "ipython",
    "version": 3
   },
   "file_extension": ".py",
   "mimetype": "text/x-python",
   "name": "python",
   "nbconvert_exporter": "python",
   "pygments_lexer": "ipython3",
   "version": "3.5.2"
  }
 },
 "nbformat": 4,
 "nbformat_minor": 0
}
