{
 "cells": [
  {
   "cell_type": "code",
   "execution_count": 13,
   "metadata": {
    "collapsed": true
   },
   "outputs": [],
   "source": [
    "from IPython.display import clear_output\n",
    "import os\n",
    "import sys\n",
    "import re\n",
    "import pymysql\n",
    "import getpass\n",
    "import nltk\n",
    "import string\n",
    "import pickle\n",
    "import csv"
   ]
  },
  {
   "cell_type": "code",
   "execution_count": 14,
   "metadata": {
    "collapsed": true
   },
   "outputs": [],
   "source": [
    "encoding_type = 'ISO-8859-1'\n",
    "sql_user='marcelobribeiro'\n",
    "path = \"../../textfiles-corrected-ignorecase/\"\n",
    "path_inputs = \"../inputs/\"\n",
    "path_outputs = \"../outputs/\"\n",
    "#sql_user='rsouza'"
   ]
  },
  {
   "cell_type": "markdown",
   "metadata": {},
   "source": [
    "### create function of special sort"
   ]
  },
  {
   "cell_type": "code",
   "execution_count": 15,
   "metadata": {
    "collapsed": true
   },
   "outputs": [],
   "source": [
    "def to_zero(x):\n",
    "    if x == '': x = '0'\n",
    "    return x\n",
    "def special_sort(l):\n",
    "    convert = lambda text: int(text) if text.isdigit() else str(text)\n",
    "    alphanum_key = lambda key: [ convert(to_zero(c)) for c in filter(None, re.split('(\\d)A|A\\d|([A-Z]*)-A?|.txt', key))] \n",
    "    return sorted(l, key = alphanum_key)"
   ]
  },
  {
   "cell_type": "markdown",
   "metadata": {},
   "source": [
    "### creates list of dossiers and urls"
   ]
  },
  {
   "cell_type": "code",
   "execution_count": 16,
   "metadata": {
    "collapsed": true
   },
   "outputs": [],
   "source": [
    "dossie_sub_list = []\n",
    "dossie_enddate_list = []\n",
    "\n",
    "metadata_file = path_inputs+'AAS-mre-metadados_Accessus.csv'\n",
    "\n",
    "with open(metadata_file, 'r', encoding=encoding_type) as csvfile:\n",
    "    reader = csv.reader(csvfile, delimiter=';')\n",
    "    next(reader, None)\n",
    "    for row in reader:\n",
    "        if row[0] == '': break\n",
    "        subserie = row[3]\n",
    "        subserie = re.sub('(\\w)\\w*( do p?r?e?s?i?d?e?n?t?e? ?| com o |[\\s-])(\\w)\\w*',r'\\1\\3',subserie)\n",
    "        subserie = subserie.lower()\n",
    "        if subserie == 'dp geisel': subserie = 'd'\n",
    "        if subserie == 'vg': subserie = 'vp'\n",
    "        dossie_date_beg = str(row[1])\n",
    "        dossie_date_beg = re.sub('\\/',r'-',dossie_date_beg)\n",
    "        dossie_date_end = str(row[6])\n",
    "        \n",
    "        count_num = dossie_date_end.count('19')\n",
    "        if count_num == 1: dossie_date_end = '1979.12.31'\n",
    "        \n",
    "        dossie_date_end = re.sub('\\/',r'.',dossie_date_end)\n",
    "        dossie_date_end = re.sub('.* a (\\d\\d\\.\\d\\d\\.\\d\\d\\d\\d)',r'\\1',dossie_date_end)\n",
    "        dossie_date_end = re.sub('(\\d\\d)\\.(\\d\\d)\\.(\\d\\d\\d\\d)',r'\\3.\\2.\\1',dossie_date_end)\n",
    "        dossie_date_end = re.sub('\\.00\\.', '.12.',dossie_date_end)\n",
    "        dossie_date_end = re.sub('(\\.\\d\\d)\\.00', r'\\1.15',dossie_date_end)\n",
    "        dossie = subserie+'_'+dossie_date_beg\n",
    "        dossie_sub_list.append(dossie)\n",
    "        dossie_enddate_list.append(dossie_date_end)"
   ]
  },
  {
   "cell_type": "markdown",
   "metadata": {},
   "source": [
    "### month strings"
   ]
  },
  {
   "cell_type": "code",
   "execution_count": 17,
   "metadata": {
    "collapsed": true
   },
   "outputs": [],
   "source": [
    "months = ['jan','fev','mar','abr', 'mai','jun','jul','ago','set','out','nov','dez',\n",
    "               'feb','apr','may','aug','sep','oct','dec']\n",
    "months_num = ['01','02','03','04','05','06','07','08','09','10','11','12', '02', '04', '05', '08', '09', '10', '12']"
   ]
  },
  {
   "cell_type": "markdown",
   "metadata": {},
   "source": [
    "### function to avoid incorrect dates"
   ]
  },
  {
   "cell_type": "code",
   "execution_count": 18,
   "metadata": {
    "collapsed": true
   },
   "outputs": [],
   "source": [
    "def date_corrector(m,d):\n",
    "    if m == '04' or m == '06' or m == '09' or m == '11' and d == '31': d = '15'\n",
    "    if m == '02' and (d == '31' or d == '30' and d == '29'): d = '15'\n",
    "    return d"
   ]
  },
  {
   "cell_type": "markdown",
   "metadata": {},
   "source": [
    "### data mining and storage on mysql\n",
    "* month: when unable do detect month, if year changes, set month do 01. If unchanged, keep former month.\n",
    "* day: when unable do detect day, if month changes, set day to 15, because it is the average."
   ]
  },
  {
   "cell_type": "markdown",
   "metadata": {},
   "source": [
    "Note: problematic document - vp_1976.03.30_doc_6"
   ]
  },
  {
   "cell_type": "code",
   "execution_count": 44,
   "metadata": {
    "collapsed": true
   },
   "outputs": [],
   "source": [
    "pass_mysql = getpass.getpass()\n",
    "conn = pymysql.connect(host='localhost', \n",
    "                       user=sql_user,\n",
    "                       passwd=pass_mysql,\n",
    "                       db='CPDOC_AS',\n",
    "                       use_unicode=True, \n",
    "                       charset=\"utf8\")\n",
    "cur = conn.cursor()\n",
    "\n",
    "'''''''''''''''''''''''''''''''''''''''''''''''''''''''''''''''''''''''''''''\n",
    "collects and inserts data into mysql database: date\n",
    "'''''''''''''''''''''''''''''''''''''''''''''''''''''''''''''''''''''''''''''\n",
    "cur.execute(\"SELECT id,body FROM CPDOC_AS.docs\")  \n",
    "doc_id_list = cur.fetchall()\n",
    "try: cur.execute(\"ALTER TABLE docs DROP COLUMN date\")\n",
    "except: pass\n",
    "cur.execute('''ALTER TABLE docs ADD date DATETIME''')\n",
    "\n",
    "percentil = int(len(doc_id_list)/100)\n",
    "dossie_old = ''\n",
    "\n",
    "for file in doc_id_list:\n",
    "    doc_id = file[0]\n",
    "    dossie_id = re.sub('(.*)\\_doc.*', r'\\1', file[0])\n",
    "\n",
    "    text = file[1]\n",
    "        \n",
    "    ''' correct OCR errors '''\n",
    "    text = re.sub('\\D([liíìîI])\\d\\d.\\D', r'1', text)\n",
    "    \n",
    "    ''' measures completion percentage '''\n",
    "    count_doc = doc_id_list.index(file)\n",
    "    if count_doc % percentil == 0: print(int(count_doc/percentil),'% done')\n",
    "    if count_doc % (percentil-1) == 0: clear_output()\n",
    "    \n",
    "    txt_date = re.sub('.*(19\\d\\d\\.\\d\\d\\.\\d\\d).*', r'\\1', file[0])\n",
    "    txt_date = re.sub('\\/',r'-',txt_date)\n",
    "    txt_date = re.sub('00',r'01',txt_date)\n",
    "    year_beg = re.sub('(19\\d\\d).*', r'\\1', txt_date)\n",
    "    date_end = dossie_enddate_list[dossie_sub_list.index(dossie_id)]\n",
    "    year_end = re.sub('(19\\d\\d).*', r'\\1', date_end)\n",
    "    date_end = re.sub('\\.00\\.', '.12.', date_end)\n",
    "    date_end = re.sub('(\\d\\d\\.)00', r'\\115', date_end)\n",
    "    month_beg = re.sub('.*19\\d\\d\\.(\\d\\d).*', r'\\1', txt_date)\n",
    "    month_end = re.sub('.*19\\d\\d\\.(\\d\\d).*', r'\\1', date_end)\n",
    "    day_beg = re.sub('.*19\\d\\d\\.\\d\\d\\.(\\d\\d)', r'\\1', txt_date)\n",
    "    \n",
    "    ''' checks if started new dossie '''\n",
    "    if dossie_id != dossie_old:\n",
    "        year_updated = \"false\"\n",
    "        year = year_beg\n",
    "    dossie_old = dossie_id\n",
    "    \n",
    "    ''' captures info about date, year, month and day '''\n",
    "    txt_year_yyyy = re.findall('[\\D](197\\d)[\\D]', text)\n",
    "    \n",
    "    digit = '\\d'\n",
    "    if txt_year_yyyy != []:\n",
    "        day = 15 # set to average\n",
    "        txt_year_yyyy = txt_year_yyyy[0]\n",
    "        if int(txt_year_yyyy) >= int(year) and int(txt_year_yyyy) <= int(year_end):\n",
    "            if txt_year_yyyy > year:\n",
    "                month = \"01\"\n",
    "            year = txt_year_yyyy\n",
    "            year_updated = \"true\"\n",
    "            year_new = year\n",
    "            \n",
    "            '''collect month'''\n",
    "            tknzr = nltk.tokenize.WordPunctTokenizer()\n",
    "            tokens = tknzr.tokenize(text) \n",
    "            try:\n",
    "                date_tokens = tokens[tokens.index(year)-5 : tokens.index(year)+2]\n",
    "            except: pass\n",
    "            for t in date_tokens:\n",
    "                for m in months:\n",
    "                    if t.startswith(m): \n",
    "                        month = months_num[months.index(m)]\n",
    "                        try: day = int(date_tokens[date_tokens.index(t)-2])\n",
    "                        except: pass\n",
    "            if day > 0 and day < 32: day = str(day)\n",
    "            else: day = \"15\"\n",
    "    \n",
    "    else:\n",
    "        if year_updated == \"true\":\n",
    "            year = year_new\n",
    "        if year_updated == \"false\":\n",
    "            year = year_beg\n",
    "            day = day_beg\n",
    "    day = str(day)\n",
    "    day = date_corrector(month, day)\n",
    "    date = year+'.'+month+'.'+day\n",
    "\n",
    "    \n",
    "    query = \"UPDATE docs SET date=%s WHERE id=%s\"\n",
    "    cur.execute(query, (date, doc_id))"
   ]
  }
 ],
 "metadata": {
  "anaconda-cloud": {},
  "kernelspec": {
   "display_name": "Python 3",
   "language": "python",
   "name": "python3"
  },
  "language_info": {
   "codemirror_mode": {
    "name": "ipython",
    "version": 3
   },
   "file_extension": ".py",
   "mimetype": "text/x-python",
   "name": "python",
   "nbconvert_exporter": "python",
   "pygments_lexer": "ipython3",
   "version": "3.5.2+"
  }
 },
 "nbformat": 4,
 "nbformat_minor": 1
}
