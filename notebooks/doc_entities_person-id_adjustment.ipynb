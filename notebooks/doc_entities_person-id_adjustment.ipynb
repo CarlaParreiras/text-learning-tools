{
 "cells": [
  {
   "cell_type": "markdown",
   "metadata": {},
   "source": [
    "### doc_entity\n",
    "ESTABELECE RELAÇÕES ENTRE DOCUMENTOS E ENTIDADES NA BASE DE DADOS NO MYSQL. TRABALHAMOS COM O ACERVO **ANTONIO AZEREDO DA SILVEIRA, MINISTÉRIO DAS RELAÇÕES EXTERIORES**.  \n",
    "\n",
    "AS ENTIDADES A SEREM TRABALHADAS SÃO:\n",
    "* PAÍSES\n",
    "* PESSOAS"
   ]
  },
  {
   "cell_type": "code",
   "execution_count": 31,
   "metadata": {
    "collapsed": true
   },
   "outputs": [],
   "source": [
    "import os\n",
    "import sys\n",
    "import numpy as np\n",
    "import pandas as pd\n",
    "import re\n",
    "from IPython.display import clear_output\n",
    "import csv\n",
    "import getpass\n",
    "import pymysql\n",
    "import string\n",
    "import pickle\n",
    "import random\n",
    "import unicodedata\n",
    "import collections\n",
    "import nltk"
   ]
  },
  {
   "cell_type": "code",
   "execution_count": 2,
   "metadata": {
    "collapsed": true
   },
   "outputs": [],
   "source": [
    "sql_user='marcelobribeiro'"
   ]
  },
  {
   "cell_type": "code",
   "execution_count": 15,
   "metadata": {
    "collapsed": true
   },
   "outputs": [],
   "source": [
    "path_outputs = '../../text-learning-tools/outputs/'"
   ]
  },
  {
   "cell_type": "code",
   "execution_count": 4,
   "metadata": {
    "collapsed": true
   },
   "outputs": [],
   "source": [
    "def strip_accents(s):\n",
    "   return ''.join(c for c in unicodedata.normalize('NFD', s)\n",
    "                  if unicodedata.category(c) != 'Mn')"
   ]
  },
  {
   "cell_type": "markdown",
   "metadata": {},
   "source": [
    "### Corrections on names that had errors:\n",
    "* Castro Alves is actually Dario (Moreira) Castro Alves.\n",
    "* U Nu was a Burmese politician that was incorrectly mined, because all the parameters made weren't enough to handle this type of name.\n",
    "* John J. Kennedy is ambiguous with John F. Kennedy.\n",
    "* Vieira Souto was mined incorrectly, even using 'palavras'. The name is always avenue, but was often mined as person.\n",
    "* renamed persons which only had surnames: \n",
    "    - debernardi\n",
    "    - allara\n",
    "    - sauvagnargues\n",
    "\n",
    "OBS: to search neighbor tokens (of persons) using nltk, see function_drafts file."
   ]
  },
  {
   "cell_type": "markdown",
   "metadata": {},
   "source": [
    "** correct names on database ** "
   ]
  },
  {
   "cell_type": "code",
   "execution_count": 6,
   "metadata": {},
   "outputs": [
    {
     "name": "stdout",
     "output_type": "stream",
     "text": [
      "········\n"
     ]
    },
    {
     "data": {
      "text/plain": [
       "1"
      ]
     },
     "execution_count": 6,
     "metadata": {},
     "output_type": "execute_result"
    }
   ],
   "source": [
    "pass_mysql = getpass.getpass()\n",
    "conn = pymysql.connect(host='localhost', \n",
    "                       user=sql_user,\n",
    "                       passwd=pass_mysql,\n",
    "                       db='CPDOC_AS',\n",
    "                       use_unicode=True, \n",
    "                       charset=\"utf8\")\n",
    "cur = conn.cursor()\n",
    "\n",
    "cur.execute(\"UPDATE person_doc SET person_id='500272' WHERE person_id='500222'\") # Dario Castro Alves\n",
    "cur.execute(\"DELETE FROM person_doc WHERE person_id='109955'\") # U Nu \n",
    "cur.execute(\"DELETE FROM person_doc WHERE person_id='500988'\") # Vieira Souto\n",
    "cur.execute(\"DELETE FROM person_doc WHERE person_id='107026'\") # John J. Kennedy\n",
    "\n",
    "# corrected on doc_entities_person_names_list\n",
    "cur.execute(\"UPDATE persons SET person_name='enzo debernardi' WHERE id='500275'\") # Debernardi\n",
    "cur.execute(\"UPDATE persons SET person_name='gualter oscar allara' WHERE id='500056'\") # Allara\n",
    "cur.execute(\"UPDATE persons SET person_name='jean sauvagnargues' WHERE id='500942'\") # Sauvagnargues    "
   ]
  },
  {
   "cell_type": "markdown",
   "metadata": {},
   "source": [
    "## correct duplicates on frus, kissinger and clinton DBs"
   ]
  },
  {
   "cell_type": "markdown",
   "metadata": {},
   "source": [
    "### Captures list of  names at History-Lab database\n",
    "Tables are:\n",
    "* declassification_frus - already used\n",
    "* declassification_cables - no persons table\n",
    "* declassification_ddrs - no persons table\n",
    "* declassification_kissinger\n",
    "* declassification_clinton - ok"
   ]
  },
  {
   "cell_type": "markdown",
   "metadata": {},
   "source": [
    "### function of name extraction"
   ]
  },
  {
   "cell_type": "code",
   "execution_count": 8,
   "metadata": {
    "collapsed": true
   },
   "outputs": [],
   "source": [
    "def extract_names(data, names_list, names_ids_list):\n",
    "    for row in data:\n",
    "        if row is None: break\n",
    "        var_names = []\n",
    "        name_id = row[0]\n",
    "        fullname =  str(row[1])\n",
    "        fullname = str.lower(fullname)\n",
    "        #print('1', fullname)\n",
    "        fullname = re.sub('(.*?)\\;.*', r'\\1', fullname) #take out variants\n",
    "        fullname = re.sub('^b[\\\"\\']', r'', fullname) #take out quotation mark\n",
    "        fullname = re.sub('[\\\"\\']$', r'', fullname) #take out quotation mark\n",
    "        fullname = re.sub('[^ ]\\(.*\\) ', r'', fullname) #take out nicknames in parenthesis\n",
    "        fullname = re.sub(' \\(.*\\)[^ ]', r'', fullname) #take out nicknames in parenthesis\n",
    "        fullname = re.sub('(.*), (.*)', r'\\2 \\1', fullname) #name format, from english to portuguese\n",
    "        fullname = re.sub('(.*)\\(.*\\)\\s?(.*)', r'\\1\\2', fullname)\n",
    "        #print('2', fullname)\n",
    "        fullname = re.sub('- ', '-', fullname)\n",
    "        fullname_strip_accent = strip_accents(fullname)\n",
    "        fullname_strip_abrev = re.sub('(\\w+\\. ){0,4}', r'', fullname)\n",
    "        fullname_strip_both = strip_accents(fullname_strip_abrev)\n",
    "        var_names.append(fullname)\n",
    "        if fullname_strip_accent != fullname: var_names.append(fullname_strip_accent)\n",
    "        if fullname_strip_abrev  != fullname: var_names.append(fullname_strip_abrev)\n",
    "        if fullname_strip_both   != fullname_strip_abrev and fullname_strip_both != fullname_strip_accent: \n",
    "            var_names.append(fullname_strip_both)\n",
    "        names_list[fullname] = var_names\n",
    "        name_id_pair = [name_id, fullname]\n",
    "        names_ids_list.append(name_id_pair)"
   ]
  },
  {
   "cell_type": "raw",
   "metadata": {},
   "source": [
    "def con_sql_history_lab(database, data):\n",
    "    pass_mysql = getpass.getpass()\n",
    "    conn = pymysql.connect(host='history-lab.org', \n",
    "                           user='de_reader',\n",
    "                           passwd=pass_mysql,\n",
    "                           db=database,\n",
    "                           use_unicode=True, \n",
    "                           charset=\"utf8\")\n",
    "    cur = conn.cursor()\n",
    "    \n",
    "    cur.execute(\"SELECT id, name FROM persons\")\n",
    "    data = cur.fetchall()\n",
    "    #print(data[1])\n",
    "    #return(data)"
   ]
  },
  {
   "cell_type": "raw",
   "metadata": {},
   "source": [
    "data = ()\n",
    "database = 'declassification_clinton'\n",
    "con_sql_history_lab(database, data)\n",
    "\n",
    "#clinton_names_list = {}\n",
    "#clinton_names_ids_list = []\n",
    "#extract_names(data, clinton_names_list, clinton_names_ids_list)"
   ]
  },
  {
   "cell_type": "raw",
   "metadata": {},
   "source": [
    "data = ()\n",
    "database = 'declassification_kissinger'\n",
    "con_sql_history_lab(database, data)\n",
    "\n",
    "kissinger_names_list = {}\n",
    "kissinger_names_ids_list = []\n",
    "extract_names(data, kissinger_names_list, kissinger_names_ids_list)"
   ]
  },
  {
   "cell_type": "code",
   "execution_count": 59,
   "metadata": {},
   "outputs": [
    {
     "data": {
      "text/plain": [
       "()"
      ]
     },
     "execution_count": 59,
     "metadata": {},
     "output_type": "execute_result"
    }
   ],
   "source": [
    "data"
   ]
  },
  {
   "cell_type": "markdown",
   "metadata": {},
   "source": [
    "### names extraction from databases\n",
    "Databases are: FRUS, kissinger, clinton."
   ]
  },
  {
   "cell_type": "code",
   "execution_count": 9,
   "metadata": {},
   "outputs": [
    {
     "name": "stdout",
     "output_type": "stream",
     "text": [
      "········\n"
     ]
    }
   ],
   "source": [
    "frus_names_list = {}\n",
    "frus_names_ids_list = []\n",
    "\n",
    "pass_mysql = getpass.getpass()\n",
    "conn = pymysql.connect(host='history-lab.org', \n",
    "                       user='de_reader',\n",
    "                       passwd=pass_mysql,\n",
    "                       db='declassification_frus',\n",
    "                       use_unicode=True, \n",
    "                       charset=\"utf8\")\n",
    "cur = conn.cursor()\n",
    "'''''''''''''''''''''''''''''''''''''''''''''''''''''''''''''''''''''''''''''\n",
    "\n",
    "'''''''''''''''''''''''''''''''''''''''''''''''''''''''''''''''''''''''''''''\n",
    "\n",
    "cur.execute(\"SELECT id, name FROM persons\")\n",
    "data = cur.fetchall()\n",
    "\n",
    "extract_names(data, frus_names_list, frus_names_ids_list)"
   ]
  },
  {
   "cell_type": "code",
   "execution_count": 10,
   "metadata": {},
   "outputs": [
    {
     "name": "stdout",
     "output_type": "stream",
     "text": [
      "········\n"
     ]
    }
   ],
   "source": [
    "clinton_names_list = {}\n",
    "clinton_names_ids_list = []\n",
    "\n",
    "pass_mysql = getpass.getpass()\n",
    "conn = pymysql.connect(host='history-lab.org', \n",
    "                       user='de_reader',\n",
    "                       passwd=pass_mysql,\n",
    "                       db='declassification_clinton',\n",
    "                       use_unicode=True, \n",
    "                       charset=\"utf8\")\n",
    "cur = conn.cursor()\n",
    "'''''''''''''''''''''''''''''''''''''''''''''''''''''''''''''''''''''''''''''\n",
    "\n",
    "'''''''''''''''''''''''''''''''''''''''''''''''''''''''''''''''''''''''''''''\n",
    "\n",
    "cur.execute(\"SELECT id, name FROM persons\")\n",
    "data = cur.fetchall()\n",
    "\n",
    "extract_names(data, clinton_names_list, clinton_names_ids_list)"
   ]
  },
  {
   "cell_type": "code",
   "execution_count": 11,
   "metadata": {},
   "outputs": [
    {
     "name": "stdout",
     "output_type": "stream",
     "text": [
      "········\n"
     ]
    }
   ],
   "source": [
    "kissinger_names_list = {}\n",
    "kissinger_names_ids_list = []\n",
    "\n",
    "pass_mysql = getpass.getpass()\n",
    "conn = pymysql.connect(host='history-lab.org', \n",
    "                       user='de_reader',\n",
    "                       passwd=pass_mysql,\n",
    "                       db='declassification_kissinger',\n",
    "                       use_unicode=True, \n",
    "                       charset=\"utf8\")\n",
    "cur = conn.cursor()\n",
    "'''''''''''''''''''''''''''''''''''''''''''''''''''''''''''''''''''''''''''''\n",
    "\n",
    "'''''''''''''''''''''''''''''''''''''''''''''''''''''''''''''''''''''''''''''\n",
    "\n",
    "cur.execute(\"SELECT id, name FROM persons\")\n",
    "data = cur.fetchall()\n",
    "\n",
    "extract_names(data, kissinger_names_list, kissinger_names_ids_list)"
   ]
  },
  {
   "cell_type": "markdown",
   "metadata": {},
   "source": [
    "### collect duplicated names"
   ]
  },
  {
   "cell_type": "code",
   "execution_count": 18,
   "metadata": {
    "collapsed": true
   },
   "outputs": [],
   "source": [
    "cpdoc_names_check_file = path_outputs+'corpus_entities_persons_list_cpdoc.pkl'\n",
    "cpdoc_names_check = pickle.load(open(cpdoc_names_check_file, 'rb'))"
   ]
  },
  {
   "cell_type": "code",
   "execution_count": 20,
   "metadata": {
    "collapsed": true
   },
   "outputs": [],
   "source": [
    "id_names_list = []\n",
    "for name, values in cpdoc_names_check.items():\n",
    "    for alt_name in values:\n",
    "        for frus_name, frus_values in frus_names_list.items():\n",
    "            for frus_alt_name in frus_values:\n",
    "                if alt_name == frus_alt_name:\n",
    "                    for id_name_tuple in frus_names_ids_list:\n",
    "                        if frus_name == id_name_tuple[1]:\n",
    "                            name_id = id_name_tuple[0]\n",
    "                            cpdoc_id_name = [name_id, name, 'frus and cpdoc']\n",
    "                            id_names_list.append(cpdoc_id_name)\n",
    "        for kis_name, kis_values in kissinger_names_list.items():\n",
    "            for kis_alt_name in kis_values:\n",
    "                if alt_name == kis_alt_name:\n",
    "                    for id_name_tuple in kissinger_names_ids_list:\n",
    "                        if kis_name == id_name_tuple[1]:\n",
    "                            name_id = id_name_tuple[0]\n",
    "                            cpdoc_id_name = [name_id, name, 'kissinger and cpdoc']\n",
    "                            id_names_list.append(cpdoc_id_name)\n",
    "        for cli_name, cli_values in clinton_names_list.items():\n",
    "            for cli_alt_name in cli_values:\n",
    "                if alt_name == cli_alt_name:\n",
    "                    #print(alt_name)\n",
    "                    for id_name_tuple in clinton_names_ids_list:\n",
    "                        if cli_name == id_name_tuple[1]:\n",
    "                            #print('cli', cli_name)\n",
    "                            name_id = id_name_tuple[0]\n",
    "                            cpdoc_id_name = [name_id, name, 'clinton and cpdoc']\n",
    "                            id_names_list.append(cpdoc_id_name)           "
   ]
  },
  {
   "cell_type": "markdown",
   "metadata": {},
   "source": [
    "### check for duplicated ids"
   ]
  },
  {
   "cell_type": "markdown",
   "metadata": {},
   "source": [
    "** remove completely duplicated lines **"
   ]
  },
  {
   "cell_type": "code",
   "execution_count": 21,
   "metadata": {
    "collapsed": true
   },
   "outputs": [],
   "source": [
    "id_names_list_rmdupl = []\n",
    "for value in id_names_list:\n",
    "    if value not in id_names_list_rmdupl:\n",
    "        id_names_list_rmdupl.append(value)\n",
    "id_names_list = id_names_list_rmdupl"
   ]
  },
  {
   "cell_type": "markdown",
   "metadata": {},
   "source": [
    "** remove lines with duplicated ids **"
   ]
  },
  {
   "cell_type": "code",
   "execution_count": 22,
   "metadata": {
    "collapsed": true
   },
   "outputs": [],
   "source": [
    "id_duplicates_check = []\n",
    "ids = []\n",
    "for i in id_names_list:\n",
    "    id_check = int(i[0])\n",
    "    ids.append(id_check)\n",
    "id_duplicates_check = [item for item, count in collections.Counter(ids).items() if count > 1]"
   ]
  },
  {
   "cell_type": "code",
   "execution_count": 23,
   "metadata": {
    "collapsed": true
   },
   "outputs": [],
   "source": [
    "id_names_list.remove(['107026', 'john kennedy', 'frus and cpdoc'])\n",
    "for i in id_names_list:\n",
    "    if int(i[0]) in id_duplicates_check and i[2] != 'frus and cpdoc': \n",
    "        id_names_list.remove(i)"
   ]
  },
  {
   "cell_type": "markdown",
   "metadata": {},
   "source": [
    "** remove duplicated names **"
   ]
  },
  {
   "cell_type": "code",
   "execution_count": 46,
   "metadata": {},
   "outputs": [
    {
     "data": {
      "text/plain": [
       "[[7162, 'mário soares', 'clinton and cpdoc'],\n",
       " ['114246', 'vernon walters', 'frus and cpdoc'],\n",
       " [8079, 'vernon walters', 'clinton and cpdoc'],\n",
       " ['116279', 'frederick wills', 'frus and cpdoc']]"
      ]
     },
     "execution_count": 46,
     "metadata": {},
     "output_type": "execute_result"
    }
   ],
   "source": [
    "id_names_list[:4]"
   ]
  },
  {
   "cell_type": "code",
   "execution_count": 53,
   "metadata": {
    "collapsed": true
   },
   "outputs": [],
   "source": [
    "for line in id_names_list:\n",
    "    prev_line = id_names_list[id_names_list.index(line)-1]\n",
    "    if line[1] == prev_line[1]:\n",
    "        id_names_list.remove(line)"
   ]
  },
  {
   "cell_type": "markdown",
   "metadata": {},
   "source": [
    "### analyse database"
   ]
  },
  {
   "cell_type": "code",
   "execution_count": 24,
   "metadata": {},
   "outputs": [
    {
     "name": "stdout",
     "output_type": "stream",
     "text": [
      "········\n"
     ]
    },
    {
     "ename": "IndexError",
     "evalue": "tuple index out of range",
     "output_type": "error",
     "traceback": [
      "\u001b[0;31m---------------------------------------------------------------------------\u001b[0m",
      "\u001b[0;31mIndexError\u001b[0m                                Traceback (most recent call last)",
      "\u001b[0;32m<ipython-input-24-9687e0e498f8>\u001b[0m in \u001b[0;36m<module>\u001b[0;34m()\u001b[0m\n\u001b[1;32m     21\u001b[0m \u001b[0;32mfor\u001b[0m \u001b[0mline\u001b[0m \u001b[0;32min\u001b[0m \u001b[0mduplicate_names\u001b[0m\u001b[0;34m:\u001b[0m\u001b[0;34m\u001b[0m\u001b[0m\n\u001b[1;32m     22\u001b[0m     \u001b[0mp_id1\u001b[0m \u001b[0;34m=\u001b[0m \u001b[0mline\u001b[0m\u001b[0;34m[\u001b[0m\u001b[0;36m0\u001b[0m\u001b[0;34m]\u001b[0m\u001b[0;34m[\u001b[0m\u001b[0;36m0\u001b[0m\u001b[0;34m]\u001b[0m\u001b[0;34m\u001b[0m\u001b[0m\n\u001b[0;32m---> 23\u001b[0;31m     \u001b[0mp_id2\u001b[0m \u001b[0;34m=\u001b[0m \u001b[0mline\u001b[0m\u001b[0;34m[\u001b[0m\u001b[0;36m1\u001b[0m\u001b[0;34m]\u001b[0m\u001b[0;34m[\u001b[0m\u001b[0;36m0\u001b[0m\u001b[0;34m]\u001b[0m\u001b[0;34m\u001b[0m\u001b[0m\n\u001b[0m\u001b[1;32m     24\u001b[0m     query = \"\"\"\n\u001b[1;32m     25\u001b[0m     \u001b[0mSELECT\u001b[0m \u001b[0mperson_id\u001b[0m\u001b[0;34m,\u001b[0m \u001b[0mCOUNT\u001b[0m\u001b[0;34m(\u001b[0m\u001b[0mperson_id\u001b[0m\u001b[0;34m)\u001b[0m \u001b[0mAS\u001b[0m \u001b[0msum_id\u001b[0m \u001b[0mFROM\u001b[0m \u001b[0mperson_doc\u001b[0m\u001b[0;34m\u001b[0m\u001b[0m\n",
      "\u001b[0;31mIndexError\u001b[0m: tuple index out of range"
     ]
    }
   ],
   "source": [
    "duplicate_names = []\n",
    "count_names = []\n",
    "pass_mysql = getpass.getpass()\n",
    "conn = pymysql.connect(host='localhost', \n",
    "                       user=sql_user,\n",
    "                       passwd=pass_mysql,\n",
    "                       db='CPDOC_AS',\n",
    "                       use_unicode=True, \n",
    "                       charset=\"utf8\")\n",
    "cur = conn.cursor()\n",
    "\n",
    "for i in id_names_list:\n",
    "    p_id = i[0]\n",
    "    p_name = i[1]\n",
    "    p_source = i[2]\n",
    "    if p_source == 'frus and cpdoc':\n",
    "        query = \"SELECT * FROM persons WHERE (id =%s OR person_name=%s)\"\n",
    "        cur.execute(query, (p_id, p_name))\n",
    "        duplicate_name = cur.fetchall()\n",
    "        duplicate_names.append(duplicate_name)\n",
    "for line in duplicate_names:\n",
    "    p_id1 = line[0][0]\n",
    "    p_id2 = line[1][0]\n",
    "    query = \"\"\"\n",
    "    SELECT person_id, COUNT(person_id) AS sum_id FROM person_doc \n",
    "    WHERE person_id = %s\n",
    "    GROUP BY person_id\n",
    "    \"\"\"\n",
    "    cur.execute(query, (p_id1))\n",
    "    eval_name1 = cur.fetchall()\n",
    "    cur.execute(query, (p_id2))\n",
    "    eval_name2 = cur.fetchall()\n",
    "    eval_names = [eval_name1, eval_name2]\n",
    "    print('1',line)\n",
    "    print('2',eval_names)\n",
    "    count_names.append(eval_names)"
   ]
  },
  {
   "cell_type": "code",
   "execution_count": 25,
   "metadata": {},
   "outputs": [
    {
     "data": {
      "text/plain": [
       "[(('114246', 'vernon walters', 'frus and cpdoc', None, None, None),),\n",
       " (('116279', 'frederick wills', 'frus and cpdoc', None, None, None),),\n",
       " (('104230', 'raul fernandes', 'frus and cpdoc', None, None, None),),\n",
       " (('115232', 'juan maria bordaberry', 'frus and cpdoc', None, None, None),),\n",
       " (('111914', 'hernan santa cruz', 'frus and cpdoc', None, None, None),),\n",
       " (('101368', 'eugene black', 'frus and cpdoc', None, None, None),),\n",
       " (('106300', 'samuel huntington', 'frus and cpdoc', None, None, None),),\n",
       " (('109882', 'richard nixon', 'frus and cpdoc', None, None, None),),\n",
       " (('111954', 'eisaku sato', 'frus and cpdoc', None, None, None),),\n",
       " (('102333', 'nicolae ceausescu', 'frus and cpdoc', None, None, None),),\n",
       " (('115847', 'aparício mendez', 'frus and cpdoc', None, None, None),),\n",
       " (('102566', 'winston churchill', 'frus and cpdoc', None, None, None),),\n",
       " (('107024', 'edward kennedy', 'frus and cpdoc', None, None, None),),\n",
       " (('104698', 'carlos garcia', 'frus and cpdoc', None, None, None),),\n",
       " (('102884', 'nicanor costa mendez', 'frus and cpdoc', None, None, None),),\n",
       " (('111219', 'ronald reagan', 'frus and cpdoc', None, None, None),),\n",
       " (('107252', 'henry kissinger', 'frus and cpdoc', None, None, None),),\n",
       " (('111162', 'vicente rao', 'frus and cpdoc', None, None, None),),\n",
       " (('106686', 'eric johnston', 'frus and cpdoc', None, None, None),),\n",
       " (('107032', 'robert kennedy', 'frus and cpdoc', None, None, None),),\n",
       " (('107314', 'edward koch', 'frus and cpdoc', None, None, None),),\n",
       " (('107025', 'john kennedy', 'frus and cpdoc', None, None, None),),\n",
       " (('106351', 'carlos ibañez del campo', 'frus and cpdoc', None, None, None),),\n",
       " (('111642', 'zenon rossides', 'frus and cpdoc', None, None, None),)]"
      ]
     },
     "execution_count": 25,
     "metadata": {},
     "output_type": "execute_result"
    }
   ],
   "source": [
    "duplicate_names"
   ]
  },
  {
   "cell_type": "markdown",
   "metadata": {},
   "source": [
    "### alter ids"
   ]
  },
  {
   "cell_type": "raw",
   "metadata": {
    "collapsed": true
   },
   "source": [
    "pass_mysql = getpass.getpass()\n",
    "conn = pymysql.connect(host='localhost', \n",
    "                       user=sql_user,\n",
    "                       passwd=pass_mysql,\n",
    "                       db='CPDOC_AS',\n",
    "                       use_unicode=True, \n",
    "                       charset=\"utf8\")\n",
    "cur = conn.cursor()\n",
    "\n",
    "for i in id_names_list:\n",
    "    p_id = i[0]\n",
    "    p_name = i[1]\n",
    "    p_source = i[2]\n",
    "    \n",
    "    '''updating ids of table person_doc with history-lab ids'''\n",
    "    if p_source == 'frus and cpdoc':\n",
    "        query = \"SELECT id FROM persons5 WHERE person_name=%s AND source = 'cpdoc'\"\n",
    "        cur.execute(query, (p_name))\n",
    "        old_id = cur.fetchall()[0][0]\n",
    "        query = \"DELETE FROM person_doc5 WHERE person_id=%s\" # só pode rodar isso 1 vez. Caso contrário, vai deletar ids corretas!\n",
    "        cur.execute(query, (p_id))\n",
    "        query = \"UPDATE person_doc5 SET person_id =%s WHERE person_id=%s\"\n",
    "        cur.execute(query, (p_id, old_id))\n",
    "        \n",
    "    '''updating ids of table persons with history-lab ids'''\n",
    "    query = \"DELETE FROM persons5 WHERE id=%s\"\n",
    "    cur.execute(query, (p_id))\n",
    "    query = \"UPDATE persons5 SET id =%s WHERE person_name=%s AND source = 'cpdoc'\"\n",
    "    cur.execute(query, (p_id, p_name))\n",
    "\n",
    "    '''fixing source'''\n",
    "    query = \"UPDATE persons5 SET source =%s WHERE person_name=%s AND source = 'cpdoc'\"\n",
    "    cur.execute(query, (p_source, p_name))\n",
    "    \n",
    "'''renaming source with badly chosen name'''\n",
    "cur.execute(\"UPDATE persons5 SET source = 'frus and cpdoc' WHERE source = 'duplicate'\")"
   ]
  },
  {
   "cell_type": "raw",
   "metadata": {},
   "source": [
    "pass_mysql = getpass.getpass()\n",
    "conn = pymysql.connect(host='localhost', \n",
    "                       user=sql_user,\n",
    "                       passwd=pass_mysql,\n",
    "                       db='CPDOC_AS',\n",
    "                       use_unicode=True, \n",
    "                       charset=\"utf8\")\n",
    "cur = conn.cursor()\n",
    "\n",
    "cur.execute(\"DROP TABLE IF EXISTS persons6\")\n",
    "cur.execute('''CREATE TABLE IF NOT EXISTS persons6\n",
    "           (id VARCHAR(128) PRIMARY KEY, person_name VARCHAR(128), source VARCHAR(128),\n",
    "           birth_year INT(4), death_year INT(4), description MEDIUMTEXT\n",
    "           DEFAULT NULL)\n",
    "           ENGINE=MyISAM DEFAULT CHARSET='utf8';''')\n",
    "\n",
    "cur.execute(\"DROP TABLE IF EXISTS person_doc6\")\n",
    "cur.execute('''CREATE TABLE IF NOT EXISTS person_doc6\n",
    "           (person_id VARCHAR(128), doc_id VARCHAR(31), person_count SMALLINT(5), date DATETIME\n",
    "           DEFAULT NULL)\n",
    "           ENGINE=MyISAM DEFAULT CHARSET='utf8';''')"
   ]
  },
  {
   "cell_type": "code",
   "execution_count": 56,
   "metadata": {},
   "outputs": [
    {
     "name": "stdout",
     "output_type": "stream",
     "text": [
      "········\n",
      "[7162, 'mário soares', 'clinton and cpdoc']\n",
      "['114246', 'vernon walters', 'frus and cpdoc']\n",
      "['116279', 'frederick wills', 'frus and cpdoc']\n",
      "['104230', 'raul fernandes', 'frus and cpdoc']\n",
      "[2877, 'lincoln gordon', 'clinton and cpdoc']\n",
      "[1183, 'rafael caldera', 'clinton and cpdoc']\n",
      "['115232', 'juan maria bordaberry', 'frus and cpdoc']\n",
      "[47, 'dean acheson', 'clinton and cpdoc']\n",
      "['111914', 'hernan santa cruz', 'frus and cpdoc']\n",
      "['101368', 'eugene black', 'frus and cpdoc']\n",
      "['106300', 'samuel huntington', 'frus and cpdoc']\n",
      "['109882', 'richard nixon', 'frus and cpdoc']\n",
      "['111954', 'eisaku sato', 'frus and cpdoc']\n",
      "['102333', 'nicolae ceausescu', 'frus and cpdoc']\n",
      "[111487, 'nelson rockefeller', 'kissinger and cpdoc']\n",
      "[5091, 'emílio garrastazu médici', 'clinton and cpdoc']\n",
      "[6267, 'jânio quadros', 'clinton and cpdoc']\n",
      "['115847', 'aparício mendez', 'frus and cpdoc']\n",
      "['102566', 'winston churchill', 'frus and cpdoc']\n",
      "['107024', 'edward kennedy', 'frus and cpdoc']\n",
      "['104698', 'carlos garcia', 'frus and cpdoc']\n",
      "['102884', 'nicanor costa mendez', 'frus and cpdoc']\n",
      "[8041, 'robert f. wagner', 'clinton and cpdoc']\n",
      "[4095, 'j. burke knapp', 'clinton and cpdoc']\n",
      "[3762, 'lyndon b. johnson', 'clinton and cpdoc']\n",
      "['111219', 'ronald reagan', 'frus and cpdoc']\n",
      "[113958, 'cyrus vance', 'kissinger and cpdoc']\n",
      "['107252', 'henry kissinger', 'frus and cpdoc']\n",
      "['111162', 'vicente rao', 'frus and cpdoc']\n",
      "['106686', 'eric johnston', 'frus and cpdoc']\n",
      "['107032', 'robert kennedy', 'frus and cpdoc']\n",
      "['107314', 'edward koch', 'frus and cpdoc']\n",
      "[112538, 'joseph j. sisco', 'kissinger and cpdoc']\n",
      "['107025', 'john kennedy', 'frus and cpdoc']\n",
      "[5639, 'sam nujoma', 'clinton and cpdoc']\n",
      "[111738, 'dean rusk', 'kissinger and cpdoc']\n",
      "[2832, 'arthur goldberg', 'clinton and cpdoc']\n",
      "['106351', 'carlos ibañez del campo', 'frus and cpdoc']\n",
      "[1756, \"valéry giscard d'estaing\", 'clinton and cpdoc']\n",
      "[111529, 'william d. rogers', 'kissinger and cpdoc']\n",
      "[7334, 'adlai e. stevenson', 'clinton and cpdoc']\n",
      "['111642', 'zenon rossides', 'frus and cpdoc']\n"
     ]
    },
    {
     "data": {
      "text/plain": [
       "67"
      ]
     },
     "execution_count": 56,
     "metadata": {},
     "output_type": "execute_result"
    }
   ],
   "source": [
    "pass_mysql = getpass.getpass()\n",
    "conn = pymysql.connect(host='localhost', \n",
    "                       user=sql_user,\n",
    "                       passwd=pass_mysql,\n",
    "                       db='CPDOC_AS',\n",
    "                       use_unicode=True, \n",
    "                       charset=\"utf8\")\n",
    "cur = conn.cursor()\n",
    "\n",
    "for i in id_names_list:\n",
    "    print(i)\n",
    "    p_id = i[0]\n",
    "    p_name = i[1]\n",
    "    p_source = i[2]\n",
    "    \n",
    "    '''updating ids of table person_doc with history-lab ids'''\n",
    "    query = \"SELECT id FROM persons5 WHERE person_name=%s AND source = 'cpdoc'\"\n",
    "    cur.execute(query, (p_name))\n",
    "    #print(cur.fetchall())\n",
    "    old_id = cur.fetchall()[0][0]\n",
    "    query = \"DELETE FROM person_doc5 WHERE person_id=%s\" # só pode rodar isso 1 vez. Caso contrário, vai deletar ids corretas!\n",
    "    cur.execute(query, (p_id))\n",
    "    query = \"UPDATE person_doc5 SET person_id =%s WHERE person_id=%s\"\n",
    "    cur.execute(query, (p_id, old_id))\n",
    "        \n",
    "    '''updating ids of table persons with history-lab ids'''\n",
    "    query = \"DELETE FROM persons5 WHERE id=%s\"\n",
    "    cur.execute(query, (p_id))\n",
    "    query = \"UPDATE persons5 SET id =%s WHERE person_name=%s AND source = 'cpdoc'\"\n",
    "    cur.execute(query, (p_id, p_name))\n",
    "\n",
    "    '''fixing source'''\n",
    "    query = \"UPDATE persons5 SET source =%s WHERE person_name=%s AND source = 'cpdoc'\"\n",
    "    cur.execute(query, (p_source, p_name))\n",
    "    \n",
    "'''renaming source with badly chosen name'''\n",
    "cur.execute(\"UPDATE persons5 SET source = 'frus and cpdoc' WHERE source = 'duplicate'\")"
   ]
  },
  {
   "cell_type": "code",
   "execution_count": 60,
   "metadata": {},
   "outputs": [
    {
     "name": "stdout",
     "output_type": "stream",
     "text": [
      "········\n"
     ]
    },
    {
     "name": "stderr",
     "output_type": "stream",
     "text": [
      "/usr/local/lib/python3.5/dist-packages/pymysql/cursors.py:166: Warning: (1051, \"Unknown table 'CPDOC_AS.person_doc6'\")\n",
      "  result = self._query(query)\n"
     ]
    },
    {
     "data": {
      "text/plain": [
       "0"
      ]
     },
     "execution_count": 60,
     "metadata": {},
     "output_type": "execute_result"
    }
   ],
   "source": [
    "pass_mysql = getpass.getpass()\n",
    "conn = pymysql.connect(host='localhost', \n",
    "                       user=sql_user,\n",
    "                       passwd=pass_mysql,\n",
    "                       db='CPDOC_AS',\n",
    "                       use_unicode=True, \n",
    "                       charset=\"utf8\")\n",
    "cur = conn.cursor()\n",
    "\n",
    "#cur.execute(\"DROP TABLE IF EXISTS persons6\")\n",
    "#cur.execute('''CREATE TABLE IF NOT EXISTS persons6\n",
    "#           (id VARCHAR(128) PRIMARY KEY, person_name VARCHAR(128), source VARCHAR(128),\n",
    "#           birth_year INT(4), death_year INT(4), description MEDIUMTEXT\n",
    "#           DEFAULT NULL)\n",
    "#           ENGINE=MyISAM DEFAULT CHARSET='utf8';''')\n",
    "\n",
    "cur.execute(\"DROP TABLE IF EXISTS person_doc6\")\n",
    "cur.execute('''CREATE TABLE IF NOT EXISTS person_doc6\n",
    "           (person_id VARCHAR(128), doc_id VARCHAR(31), person_count SMALLINT(5), date DATETIME,\n",
    "           FOREIGN KEY (person_id) REFERENCES persons6(id)\n",
    "           )\n",
    "           ENGINE=MyISAM DEFAULT CHARSET='utf8';''')"
   ]
  },
  {
   "cell_type": "code",
   "execution_count": null,
   "metadata": {
    "collapsed": true
   },
   "outputs": [],
   "source": []
  }
 ],
 "metadata": {
  "anaconda-cloud": {},
  "kernelspec": {
   "display_name": "Python 3",
   "language": "python",
   "name": "python3"
  },
  "language_info": {
   "codemirror_mode": {
    "name": "ipython",
    "version": 3
   },
   "file_extension": ".py",
   "mimetype": "text/x-python",
   "name": "python",
   "nbconvert_exporter": "python",
   "pygments_lexer": "ipython3",
   "version": "3.5.2+"
  }
 },
 "nbformat": 4,
 "nbformat_minor": 1
}
