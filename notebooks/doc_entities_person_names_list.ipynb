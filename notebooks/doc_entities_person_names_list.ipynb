{
 "cells": [
  {
   "cell_type": "markdown",
   "metadata": {},
   "source": [
    "### doc_entity\n",
    "ESTABELECE RELAÇÕES ENTRE DOCUMENTOS E ENTIDADES NA BASE DE DADOS NO MYSQL. TRABALHAMOS COM O ACERVO **ANTONIO AZEREDO DA SILVEIRA, MINISTÉRIO DAS RELAÇÕES EXTERIORES**.  \n",
    "\n",
    "AS ENTIDADES A SEREM TRABALHADAS SÃO:\n",
    "* PAÍSES\n",
    "* PESSOAS"
   ]
  },
  {
   "cell_type": "code",
   "execution_count": 1,
   "metadata": {
    "collapsed": false
   },
   "outputs": [],
   "source": [
    "import os\n",
    "import sys\n",
    "import numpy as np\n",
    "import pandas as pd\n",
    "import re\n",
    "from IPython.display import clear_output\n",
    "import csv\n",
    "import xlrd\n",
    "import xlwt\n",
    "import getpass\n",
    "from sshtunnel import SSHTunnelForwarder\n",
    "import pymysql\n",
    "import string\n",
    "import pickle\n",
    "import random"
   ]
  },
  {
   "cell_type": "raw",
   "metadata": {},
   "source": [
    "Sobre leitura de arquivos xls\n",
    "Links importantes:\n",
    "https://www.sitepoint.com/using-python-parse-spreadsheet-data/"
   ]
  },
  {
   "cell_type": "raw",
   "metadata": {},
   "source": [
    "'''''''''''''''''''''''''''''''''''''''''''''''''''''''''''''''''''''''''''''\n",
    "cria tabelas de entidades.\n",
    "nota: é apenas um template para código a ser criado\n",
    "'''''''''''''''''''''''''''''''''''''''''''''''''''''''''''''''''''''''''''''\n",
    "    cur.execute(\"DROP TABLE IF EXISTS person_doc\")\n",
    "    cur.execute('''CREATE TABLE IF NOT EXISTS person_doc \n",
    "               (person_id INT(11), doc_id VARCHAR(31), person_count BIGINT(21)\n",
    "               DEFAULT NULL)\n",
    "               ENGINE=MyISAM DEFAULT CHARSET='utf8';''')\n",
    "    \n",
    "    cur.execute(\"DROP TABLE IF EXISTS country_doc\")\n",
    "    cur.execute('''CREATE TABLE IF NOT EXISTS country_doc \n",
    "               (country_id VARBINARY(11), doc_id VARCHAR(31), person_count INT(11)\n",
    "               DEFAULT NULL)\n",
    "               ENGINE=MyISAM DEFAULT CHARSET='utf8';''')\n",
    "    "
   ]
  },
  {
   "cell_type": "markdown",
   "metadata": {},
   "source": [
    "Especifica qual sistema operacional está sendo usado. Renato = Linux ; Marcelo = nt (Windows) e define variáveis a partir disso"
   ]
  },
  {
   "cell_type": "code",
   "execution_count": 3,
   "metadata": {
    "collapsed": true
   },
   "outputs": [],
   "source": [
    "if os.name == 'nt':\n",
    "    ssh_priv_key = 'C:/Users/marcelo.ribeiro/Dropbox/A-Marcelo/Educação-Trabalho/2016-CPDOC/Remoto/marcelo_priv_rsa'\n",
    "    ssh_user='marcelobribeiro'\n",
    "    sql_user='marcelobribeiro'\n",
    "    path_inputs = \"C:/Users/marcelo.ribeiro/Dropbox/A-Marcelo/Educação-Trabalho/2016-CPDOC/Azeredo Papers/Processamento/text-learning-tools/inputs/\"\n",
    "    #path_inputs = \"C:/Users/MARCELO/Dropbox/A-Marcelo/Educação-Trabalho/2016-CPDOC/Azeredo Papers/Processamento/text-learning-tools/inputs/\"\n",
    "    path_outputs = \"C:/Users/marcelo.ribeiro/Dropbox/A-Marcelo/Educação-Trabalho/2016-CPDOC/Azeredo Papers/Processamento/text-learning-tools/outputs/\"\n",
    "else:\n",
    "    ssh_priv_key = '/home/rsouza/.ssh/id_rsa'\n",
    "    ssh_user='rsouza'\n",
    "    sql_user='rsouza'\n",
    "    path_inputs = \"/home/rsouza/Documentos/text-learning-tools/inputs/\"\n",
    "    path_outputs = \"/home/rsouza/Documentos/text-learning-tools/outputs/\""
   ]
  },
  {
   "cell_type": "markdown",
   "metadata": {},
   "source": [
    "### Captura lista de nomes da base Accessus/CPDOC"
   ]
  },
  {
   "cell_type": "markdown",
   "metadata": {},
   "source": [
    "Abre arquivo XLS"
   ]
  },
  {
   "cell_type": "code",
   "execution_count": 11,
   "metadata": {
    "collapsed": false
   },
   "outputs": [
    {
     "name": "stdout",
     "output_type": "stream",
     "text": [
      "WARNING *** file size (1367936) not 512 + multiple of sector size (512)\n"
     ]
    }
   ],
   "source": [
    "workbook = xlrd.open_workbook(path_inputs+'PESSOAS-do-Accessus.xls', on_demand = True)\n",
    "\n",
    "#worksheet = workbook.sheet_by_index(0)\n",
    "worksheet = workbook.sheet_by_name('Rel_DescritorEleito')"
   ]
  },
  {
   "cell_type": "code",
   "execution_count": 12,
   "metadata": {
    "collapsed": false
   },
   "outputs": [],
   "source": [
    "def strip_accents(s):\n",
    "   return ''.join(c for c in unicodedata.normalize('NFD', s)\n",
    "                  if unicodedata.category(c) != 'Mn')"
   ]
  },
  {
   "cell_type": "markdown",
   "metadata": {},
   "source": [
    "Retira termos obtidos da lista de nomes, obtida em teste preliminar, que não são pessoas."
   ]
  },
  {
   "cell_type": "code",
   "execution_count": 13,
   "metadata": {
    "collapsed": true
   },
   "outputs": [],
   "source": [
    "not_persons_list = ['manifestações', 'manobras', 'mão de obra', 'marxismo', 'materialismo', 'medicina', 'medidas', 'meeiros', 'meio', 'mercado', \n",
    " 'mercantilismo', 'messianismo', 'metrologia', 'ministério', 'missão', 'mobilidade', 'mobilização', 'modelo', 'monarquia', \n",
    " 'monopólio', 'mortalidade', 'movimento', 'mudança', 'municípios', 'nação', 'nacionalismo', 'negros']"
   ]
  },
  {
   "cell_type": "code",
   "execution_count": 14,
   "metadata": {
    "collapsed": false
   },
   "outputs": [],
   "source": [
    "cpdoc_names_list = {}\n",
    "\n",
    "for line in range(worksheet.nrows):\n",
    "    breakpoint = 0\n",
    "    var_names = []\n",
    "    number_name = str(worksheet.cell(line, 0).value)\n",
    "    check_number = re.search('^\\d',number_name)\n",
    "    if check_number is not None:\n",
    "        if line == worksheet.nrows-1: break\n",
    "        fullname = str(worksheet.cell(line, 1).value)\n",
    "        fullname = str.lower(fullname)\n",
    "        for not_person in not_persons_list:\n",
    "            if not_person in fullname: breakpoint = 1\n",
    "        if breakpoint == 1: continue\n",
    "        fullname_strip_accent = strip_accents(fullname)\n",
    "        fullname_strip_abrev = re.sub('(\\w\\. ){0,4}', r'', fullname)\n",
    "        fullname_strip_both = strip_accents(fullname_strip_abrev)\n",
    "        var_names.append(fullname)\n",
    "        if fullname_strip_accent != fullname: var_names.append(fullname_strip_accent)\n",
    "        if fullname_strip_abrev  != fullname: var_names.append(fullname_strip_abrev)\n",
    "        if fullname_strip_both   != fullname_strip_abrev and fullname_strip_both != fullname_strip_accent: \n",
    "            var_names.append(fullname_strip_both)\n",
    "        cpdoc_names_list[fullname] = var_names"
   ]
  },
  {
   "cell_type": "code",
   "execution_count": 56,
   "metadata": {
    "collapsed": false
   },
   "outputs": [
    {
     "data": {
      "text/plain": [
       "['adelmo lodi',\n",
       " 'ademar alegria',\n",
       " 'ademar braga',\n",
       " 'ademar de barros',\n",
       " 'ademar de barros filho',\n",
       " 'ademar de faria',\n",
       " 'ademar de melo ',\n",
       " 'ademar de queiroz',\n",
       " 'ademar galvão',\n",
       " 'ademar gutierrez']"
      ]
     },
     "execution_count": 56,
     "metadata": {},
     "output_type": "execute_result"
    }
   ],
   "source": [
    "sorted(cpdoc_names_list)[100:110]"
   ]
  },
  {
   "cell_type": "markdown",
   "metadata": {},
   "source": [
    "### Captura lista de nomes da base History-Lab."
   ]
  },
  {
   "cell_type": "code",
   "execution_count": 91,
   "metadata": {
    "collapsed": false
   },
   "outputs": [
    {
     "name": "stdout",
     "output_type": "stream",
     "text": [
      "········\n"
     ]
    }
   ],
   "source": [
    "count = 0\n",
    "texts = []\n",
    "frus_names_list = {}\n",
    "\n",
    "#pass_sshkey = getpass.getpass()\n",
    "pass_mysql = getpass.getpass()\n",
    "conn = pymysql.connect(host='history-lab.org', \n",
    "                       user='de_reader',\n",
    "                       passwd=pass_mysql,\n",
    "                       db='declassification_frus',\n",
    "                       use_unicode=True, \n",
    "                       charset=\"utf8\")\n",
    "cur = conn.cursor()\n",
    "'''''''''''''''''''''''''''''''''''''''''''''''''''''''''''''''''''''''''''''\n",
    "insere dados na base mysql\n",
    "captura documentos da tabela docs, transfere para a tabela topic-doc e insere dados de tópicos\n",
    "'''''''''''''''''''''''''''''''''''''''''''''''''''''''''''''''''''''''''''''\n",
    "\n",
    "cur.execute(\"SELECT id, name FROM persons\")\n",
    "data = cur.fetchall()\n",
    "\n",
    "for row in data:\n",
    "    if row is None: break\n",
    "    var_names = []\n",
    "    count += 1 # for break event\n",
    "    fullname =  row[1]\n",
    "    fullname = str.lower(fullname)\n",
    "    fullname = re.sub('(.*), (.*)', r'\\2 \\1', fullname)\n",
    "    fullname = re.sub('(.*)\\(.*\\)\\s?(.*)', r'\\1\\2', fullname)\n",
    "    fullname = re.sub('- ', '-', fullname)\n",
    "    fullname_strip_accent = strip_accents(fullname)\n",
    "    fullname_strip_abrev = re.sub('(\\w\\. ){0,4}', r'', fullname)\n",
    "    fullname_strip_both = strip_accents(fullname_strip_abrev)\n",
    "    var_names.append(fullname)\n",
    "    if fullname_strip_accent != fullname: var_names.append(fullname_strip_accent)\n",
    "    if fullname_strip_abrev  != fullname: var_names.append(fullname_strip_abrev)\n",
    "    if fullname_strip_both   != fullname_strip_abrev and fullname_strip_both != fullname_strip_accent: \n",
    "        var_names.append(fullname_strip_both)\n",
    "    frus_names_list[fullname] = var_names    \n",
    "    #if count == 10: break #amostra de apenas x linhas"
   ]
  },
  {
   "cell_type": "code",
   "execution_count": 93,
   "metadata": {
    "collapsed": false
   },
   "outputs": [
    {
     "data": {
      "text/plain": [
       "16284"
      ]
     },
     "execution_count": 93,
     "metadata": {},
     "output_type": "execute_result"
    }
   ],
   "source": [
    "len(frus_names_list)"
   ]
  },
  {
   "cell_type": "markdown",
   "metadata": {},
   "source": [
    "### Cria lista de nomes duplicados e remove das outras listas"
   ]
  },
  {
   "cell_type": "code",
   "execution_count": 24,
   "metadata": {
    "collapsed": false
   },
   "outputs": [],
   "source": [
    "duplicate_names_list = {}\n",
    "for name, values in cpdoc_names_list.items():\n",
    "    for alt_name in values:\n",
    "        if alt_name in frus_names_list:\n",
    "            duplicate_names_list[name] = cpdoc_names_list[name]"
   ]
  },
  {
   "cell_type": "markdown",
   "metadata": {},
   "source": [
    "Remove das outras listas"
   ]
  },
  {
   "cell_type": "code",
   "execution_count": 26,
   "metadata": {
    "collapsed": true
   },
   "outputs": [],
   "source": [
    "for name in duplicate_names_list:\n",
    "    cpdoc_names_list.pop(name, None)\n",
    "    frus_names_list.pop(name, None)   "
   ]
  },
  {
   "cell_type": "markdown",
   "metadata": {},
   "source": [
    "### Captura textos da base CPDOC_AS do mysql."
   ]
  },
  {
   "cell_type": "code",
   "execution_count": 19,
   "metadata": {
    "collapsed": false
   },
   "outputs": [
    {
     "name": "stdout",
     "output_type": "stream",
     "text": [
      "········\n",
      "········\n"
     ]
    }
   ],
   "source": [
    "count = 0\n",
    "texts = ''\n",
    "\n",
    "pass_sshkey = getpass.getpass()\n",
    "pass_mysql = getpass.getpass()\n",
    "with SSHTunnelForwarder(('200.20.164.147', 22),\n",
    "                        ssh_private_key=ssh_priv_key,\n",
    "                        ssh_private_key_password=pass_sshkey,\n",
    "                        ssh_username=ssh_user,\n",
    "                        remote_bind_address=('127.0.0.1', 3306)) as server:\n",
    "    \n",
    "    conn = pymysql.connect(host='localhost', \n",
    "                           port=server.local_bind_port, \n",
    "                           user=sql_user,\n",
    "                           passwd=pass_mysql,\n",
    "                           db='CPDOC_AS',\n",
    "                           use_unicode=True, \n",
    "                           charset=\"utf8\")\n",
    "    cur = conn.cursor()\n",
    "\n",
    "    cur.execute(\"SELECT id,body FROM CPDOC_AS.docs\")\n",
    "    data = cur.fetchall()\n",
    "    \n",
    "    for row in data:\n",
    "        if row is None: break\n",
    "        count += 1 # for break event\n",
    "        text =  row[1]\n",
    "        texts += '\\r\\n'+ text\n",
    "        #if count == 10: break #amostra de apenas x linhas"
   ]
  },
  {
   "cell_type": "markdown",
   "metadata": {},
   "source": [
    "### Faz mineração de dados: checa a existência de cada nome das listas em todo o corpus. Cria novas listas com os nomes checados.\n",
    "OBS: Essa primeira checagem captura o máximo possível de nomes, pois busca tanto por nomes quanto sobrenomes. Será necessário fazer uma segunda checagem para verificar se o nome exato ocorre, para evitar falsos positivos desnecessários e também para evitar ambiguidades."
   ]
  },
  {
   "cell_type": "code",
   "execution_count": null,
   "metadata": {
    "collapsed": true
   },
   "outputs": [],
   "source": [
    "cpdoc_names_check = {}\n",
    "frus_names_check = {}\n",
    "duplicate_names_check = {}\n",
    "collections_names_check = [cpdoc_names_check, frus_names_check, duplicate_names_check]\n",
    "collections_names_list = [cpdoc_names_list, frus_names_list, duplicate_names_list]\n",
    "for names_list in collections_names_list:\n",
    "    count = 0\n",
    "    percentil = int(len(names_list)/100)\n",
    "    collections_names_list_index = collections_names_list.index(names_list)\n",
    "    names_check = collections_names_check[collections_names_list_index]\n",
    "    for name,alt_names in names_list.items():\n",
    "        \n",
    "        count += 1\n",
    "        if count % percentil == 0: \n",
    "                clear_output()\n",
    "                print(int(count/percentil),'% done on list',collections_names_list.index(names_list))\n",
    "        \n",
    "        for i in alt_names:\n",
    "            if i in texts:\n",
    "                names_check[name] =  names_list[name]\n",
    "                break\n",
    "    "
   ]
  },
  {
   "cell_type": "code",
   "execution_count": 38,
   "metadata": {
    "collapsed": false
   },
   "outputs": [
    {
     "name": "stdout",
     "output_type": "stream",
     "text": [
      "1022\n",
      "922\n",
      "66\n"
     ]
    }
   ],
   "source": [
    "print(len(cpdoc_names_check))\n",
    "print(len(frus_names_check))\n",
    "print(len(duplicate_names_check))\n",
    "#sorted(duplicate_names_check)[:10]"
   ]
  },
  {
   "cell_type": "markdown",
   "metadata": {},
   "source": [
    "Cria lista de nomes que aparecem no corpus, mas estão fora das listas do accessus e do history-lab, ma. Nota: alguns nomes não estão identificados."
   ]
  },
  {
   "cell_type": "code",
   "execution_count": 15,
   "metadata": {
    "collapsed": false
   },
   "outputs": [],
   "source": [
    "azeredopapers_names_check = {}\n",
    "new_names = ['debernardi', 'alberto nogués', 'hans-dietrich genscher', 'allara', 'akasaka', 'sauvagnargues', 'andrei gromyko']\n",
    "for name in new_names: azeredopapers_names_check[name] = [name]"
   ]
  },
  {
   "cell_type": "code",
   "execution_count": null,
   "metadata": {
    "collapsed": true
   },
   "outputs": [],
   "source": [
    "for name in new_names: cpdoc_names_check.pop(name, None)    "
   ]
  },
  {
   "cell_type": "markdown",
   "metadata": {},
   "source": [
    "### Salva as 3 listas de nomes criadas (ou as recarrega)"
   ]
  },
  {
   "cell_type": "code",
   "execution_count": 18,
   "metadata": {
    "collapsed": false
   },
   "outputs": [],
   "source": [
    "cpdoc_names_check_file = path_outputs+'/corpus_entities_persons_list_cpdoc.pkl'\n",
    "frus_names_check_file = path_outputs+'/corpus_entities_persons_list_frus.pkl'\n",
    "duplicate_names_check_file = path_outputs+'/corpus_entities_persons_list_duplicate.pkl'\n",
    "azeredopapers_names_check_file = path_outputs+'/corpus_entities_persons_list_azeredopapers.pkl'"
   ]
  },
  {
   "cell_type": "raw",
   "metadata": {
    "collapsed": false
   },
   "source": [
    "# Ativar esta função apenas se precisar salvar novamente as listas de nomes checados no corpus\n",
    "pickle.dump(cpdoc_names_check, open(cpdoc_names_check_file, 'wb'))\n",
    "pickle.dump(frus_names_check, open(frus_names_check_file, 'wb'))\n",
    "pickle.dump(duplicate_names_check, open(duplicate_names_check_file, 'wb'))\n",
    "pickle.dump(azeredopapers_names_check, open(azeredopapers_names_check_file, 'wb'))"
   ]
  },
  {
   "cell_type": "code",
   "execution_count": 19,
   "metadata": {
    "collapsed": false
   },
   "outputs": [],
   "source": [
    "''' caso queira carregar os arquivos '''\n",
    "cpdoc_names_check = pickle.load(open(cpdoc_names_check_file, 'rb'))\n",
    "frus_names_check = pickle.load(open(frus_names_check_file, 'rb'))\n",
    "duplicate_names_check = pickle.load(open(duplicate_names_check_file, 'rb'))\n",
    "azeredopapers_names_check = pickle.load(open(azeredopapers_names_check_file, 'rb'))"
   ]
  },
  {
   "cell_type": "code",
   "execution_count": 20,
   "metadata": {
    "collapsed": false
   },
   "outputs": [
    {
     "data": {
      "text/plain": [
       "{'akasaka': ['akasaka'],\n",
       " 'alberto nogués': ['alberto nogués'],\n",
       " 'allara': ['allara'],\n",
       " 'andrei gromyko': ['andrei gromyko'],\n",
       " 'debernardi': ['debernardi'],\n",
       " 'hans-dietrich genscher': ['hans-dietrich genscher'],\n",
       " 'sauvagnargues': ['sauvagnargues']}"
      ]
     },
     "execution_count": 20,
     "metadata": {},
     "output_type": "execute_result"
    }
   ],
   "source": [
    "azeredopapers_names_check"
   ]
  },
  {
   "cell_type": "markdown",
   "metadata": {},
   "source": [
    "### Faz segunda checagem de nomes (duplicidades e ambiguidades), agora com a lista de nomes presentes no corpus"
   ]
  },
  {
   "cell_type": "markdown",
   "metadata": {},
   "source": [
    "Retira nomes ambíguos por não serem nomes compostos (sem sobrenome em geral), preservando exceções."
   ]
  },
  {
   "cell_type": "code",
   "execution_count": 21,
   "metadata": {
    "collapsed": false
   },
   "outputs": [
    {
     "name": "stdout",
     "output_type": "stream",
     "text": [
      "hirohito\n",
      "yoshihito\n",
      "akihito\n"
     ]
    }
   ],
   "source": [
    "ambiguous_list = []\n",
    "exception_names = ['hirohito', 'yoshihito', 'akihito']\n",
    "for fullname in frus_names_check:\n",
    "    if \" \" not in fullname and fullname not in exception_names:\n",
    "        ambiguous_list.append(fullname)\n",
    "for fullname in ambiguous_list:\n",
    "    frus_names_check.pop(fullname, None)\n",
    "for fullname in frus_names_check:\n",
    "    if \" \" not in fullname:\n",
    "        print(fullname)"
   ]
  },
  {
   "cell_type": "markdown",
   "metadata": {},
   "source": [
    "Retira mais termos que não são pessoas"
   ]
  },
  {
   "cell_type": "code",
   "execution_count": 22,
   "metadata": {
    "collapsed": false
   },
   "outputs": [],
   "source": [
    "non_names = ['moçambique', 'microfilmagem', 'marrocos', 'méxico', 'camboja', 'maçonaria', 'allara', 'niterói', 'nicarágua', \n",
    "             'misticismo', 'militarismo', 'legislação', 'burundi', 'música', 'maranhão', 'nova república', \n",
    "             'mar territorial', 'jogos olímpicos', 'américa do norte'\n",
    "            ]\n",
    "for i in non_names:\n",
    "    cpdoc_names_check.pop(i, None)    "
   ]
  },
  {
   "cell_type": "markdown",
   "metadata": {},
   "source": [
    "Lista nomes que se tornam ambíguos ao retirar as abreviações."
   ]
  },
  {
   "cell_type": "code",
   "execution_count": 23,
   "metadata": {
    "collapsed": false
   },
   "outputs": [
    {
     "name": "stdout",
     "output_type": "stream",
     "text": [
      "j. e. brant\n",
      "i. c. tupper\n",
      "c. k. yen\n",
      "e. m. feinberg\n",
      "j. h. russo\n",
      "j. j. seabra\n",
      "j. a. wright\n",
      "j. peres\n",
      "f. chermont\n",
      "n. brandão\n",
      "d. a. doran\n",
      "e. l. resende\n",
      "c. h. adams\n",
      "m. france\n",
      "h. s. owen\n",
      "y. k. pao\n",
      "a. faria\n",
      "d. gregory\n",
      "m. bastos\n",
      "a. azevedo\n",
      "b. goulart\n",
      "k. kato\n"
     ]
    }
   ],
   "source": [
    "for fullname in cpdoc_names_check:\n",
    "    fullname_strip_abrev = re.sub('(\\w\\. ){0,4}', r'', fullname)\n",
    "    if \" \" not in fullname_strip_abrev and fullname_strip_abrev != fullname:\n",
    "        print(fullname)"
   ]
  },
  {
   "cell_type": "markdown",
   "metadata": {},
   "source": [
    "Corrige nomes ambíguos, escritos de outra forma."
   ]
  },
  {
   "cell_type": "code",
   "execution_count": 24,
   "metadata": {
    "collapsed": false
   },
   "outputs": [
    {
     "data": {
      "text/plain": [
       "['hirohito']"
      ]
     },
     "execution_count": 24,
     "metadata": {},
     "output_type": "execute_result"
    }
   ],
   "source": [
    "#nomes duplicados \n",
    "duplicate_names_check['hirohito'] = frus_names_check['hirohito']\n",
    "cpdoc_names_check.pop('imperador hirohito', None) \n",
    "frus_names_check.pop('hirohito', None) \n",
    "\n",
    "#ocorrências incorretas\n",
    "#cpdoc_names_check.pop('albert probst', None)"
   ]
  },
  {
   "cell_type": "markdown",
   "metadata": {},
   "source": [
    "Verifica frequência de sobrenomes (retira primeiro nome e abreviações)"
   ]
  },
  {
   "cell_type": "code",
   "execution_count": 25,
   "metadata": {
    "collapsed": false
   },
   "outputs": [],
   "source": [
    "surnames_list = []\n",
    "for fullname in cpdoc_names_check:\n",
    "    fullname = re.sub('(\\w\\. ){0,4}', r'', fullname)\n",
    "    fullname = re.sub('( d[aeo] )', r' ', fullname)\n",
    "    fullname = re.sub('\\w+ (.*)', r'\\1', fullname)\n",
    "    fullname = fullname.split(' ')\n",
    "    for name in fullname:\n",
    "        surnames_list.append(name)\n",
    "for fullname in frus_names_check:\n",
    "    fullname = re.sub('(\\w\\. ){0,4}', r'', fullname)\n",
    "    fullname = re.sub('( d[aeo] )', r' ', fullname)\n",
    "    fullname = re.sub('\\w+ (.*)', r'\\1', fullname)\n",
    "    fullname = fullname.split(' ')\n",
    "    for name in fullname:\n",
    "        surnames_list.append(name)"
   ]
  },
  {
   "cell_type": "code",
   "execution_count": 26,
   "metadata": {
    "collapsed": false
   },
   "outputs": [
    {
     "data": {
      "text/plain": [
       "['vilhena',\n",
       " 'ferreira',\n",
       " 'braga',\n",
       " 'ribeiro',\n",
       " 'havelange',\n",
       " 'sá',\n",
       " 'eugênio',\n",
       " 'macedo',\n",
       " 'soares',\n",
       " 'almeida']"
      ]
     },
     "execution_count": 26,
     "metadata": {},
     "output_type": "execute_result"
    }
   ],
   "source": [
    "surnames_list[:10]"
   ]
  },
  {
   "cell_type": "markdown",
   "metadata": {},
   "source": [
    "### Adiciona sobrenomes muito importantes em listas de alt_names\n",
    "Obs: isso pode aumentar a frequência de falsos positivos, devido à presença de parentes, mas o importante é zerar o número de falsos negativos."
   ]
  },
  {
   "cell_type": "code",
   "execution_count": 40,
   "metadata": {
    "collapsed": true
   },
   "outputs": [],
   "source": [
    "#imp_surnames = ['callaghan', 'stroessner', 'crimmins', 'banzer', 'golbery', 'echeverría', 'carter', 'azeredo', 'nixon', 'geisel']\n",
    "imp_fullnames = ['richard nixon','jimmy carter','antônio azeredo da silveira','hugo banzer suárez','alfredo stroessner','golbery do couto e silva','john hugh crimmins','james callaghan','ernesto geisel']\n",
    "\n",
    "\n",
    "collections_names_check = [cpdoc_names_check, frus_names_check, duplicate_names_check, azeredopapers_names_check]\n",
    "collections_names = ['cpdoc_names_check', 'frus_names_check', 'duplicate_names_check', 'azeredopapers_names_check']\n",
    "for collection in collections_names_check:\n",
    "    for name,alt_names in collection.items():\n",
    "        if any(fullname_check == name for fullname_check in imp_fullnames):\n",
    "            if name == 'antônio azeredo da silveira' or name == 'hugo banzer suárez': \n",
    "                imp_surname = re.sub('\\w+ (\\w+) .*', r'\\1', name)\n",
    "            elif name == 'golbery do couto e silva':\n",
    "                imp_surname = re.sub('^(\\w+) .*', r'\\1', name)\n",
    "            else: \n",
    "                imp_surname = re.sub('.* (\\w+)$', r'\\1', name)\n",
    "            alt_names.append(imp_surname)\n",
    "            collection[name] = alt_names"
   ]
  },
  {
   "cell_type": "markdown",
   "metadata": {},
   "source": [
    "### Organizando nomes (do cpdoc) em tabela"
   ]
  },
  {
   "cell_type": "code",
   "execution_count": 29,
   "metadata": {
    "collapsed": false
   },
   "outputs": [],
   "source": [
    "all_names_check = {}\n",
    "all_names_check.update(cpdoc_names_check)\n",
    "all_names_check.update(frus_names_check)\n",
    "all_names_check.update(duplicate_names_check)\n",
    "all_names_check.update(azeredopapers_names_check)\n",
    "\n",
    "names_series = pd.Series(all_names_check)"
   ]
  },
  {
   "cell_type": "code",
   "execution_count": 46,
   "metadata": {
    "collapsed": false
   },
   "outputs": [],
   "source": [
    "person_id = 500000 # id do History-Lab termina em 116.000. Precisamos ter uma sequência de ID distante, tal como foi acordado entre Marcelo e Rohan\n",
    "names_data = pd.DataFrame(names_series, columns=['alt_names'])\n",
    "names_data.index.name = 'names'\n",
    "names_data['id'] = person_id\n",
    "names_data['source'] = ''\n",
    "names_data['has_ambiguous_surname'] = 'False'\n",
    "names_data['short_fullname'] = 'False'\n",
    "names_data['short_surname'] = 'False'\n",
    "names_data['important_name'] = 'False'\n",
    "\n",
    "\n",
    "for row in names_data.itertuples():\n",
    "    \n",
    "    names_data.ix[row[0], 'id'] = str(person_id)\n",
    "    person_id += 1\n",
    "    \n",
    "    # check if fullname is too short\n",
    "    for alt_name in row[1]: \n",
    "        alt_name = re.sub('^(d[aeo]s? )', '', alt_name)\n",
    "        alt_name = re.sub('( d[aeo]s? )', ' ', alt_name)\n",
    "        if \" \" not in alt_name: names_data.ix[row[0], 'short_fullname'] = 'True'\n",
    "               \n",
    "    # check if fullname has a too ambiguous surname, or if fullname has a too short surname\n",
    "    fullname = row[0]\n",
    "    clean_fullname = re.sub('\\w+ (.*)', r'\\1', fullname)\n",
    "    clean_fullname = re.sub('(\\w\\. ){0,4}', '', clean_fullname)\n",
    "    clean_fullname = re.sub('^(d[aeo]s? )', '', clean_fullname)\n",
    "    clean_fullname = re.sub('( d[aeo]s? )', ' ', clean_fullname)\n",
    "    clean_fullname = clean_fullname.split(' ')\n",
    "    for name in clean_fullname:\n",
    "        count = 0\n",
    "        for key in cpdoc_names_check.keys():\n",
    "            if name in key:\n",
    "                count += 1\n",
    "        if count > 1: names_data.ix[row[0], 'has_ambiguous_surname'] = 'True'         \n",
    "        if len(name) < 5: names_data.ix[row[0], 'short_surname'] = 'True'\n",
    "            \n",
    "    # check if fullname is important\n",
    "    for imp_name in imp_fullnames:\n",
    "        if imp_name in row[0]:\n",
    "            names_data.ix[row[0], 'important_name'] = 'True'\n",
    "    \n",
    "    #pick source (SHOULD HAVE DONE THAT BEFORE)\n",
    "    for collection in collections_names_check:\n",
    "        coll_index = collections_names_check.index(collection)\n",
    "        coll_name = collections_names[coll_index]\n",
    "        collection_name = re.sub('(.*)_names_check', r'\\1', coll_name)\n",
    "        if fullname in collection.keys():\n",
    "            names_data.ix[row[0], 'source'] = collection_name"
   ]
  },
  {
   "cell_type": "code",
   "execution_count": 47,
   "metadata": {
    "collapsed": false
   },
   "outputs": [
    {
     "data": {
      "text/html": [
       "<div>\n",
       "<table border=\"1\" class=\"dataframe\">\n",
       "  <thead>\n",
       "    <tr style=\"text-align: right;\">\n",
       "      <th></th>\n",
       "      <th>alt_names</th>\n",
       "      <th>id</th>\n",
       "      <th>source</th>\n",
       "      <th>has_ambiguous_surname</th>\n",
       "      <th>short_fullname</th>\n",
       "      <th>short_surname</th>\n",
       "      <th>important_name</th>\n",
       "    </tr>\n",
       "    <tr>\n",
       "      <th>names</th>\n",
       "      <th></th>\n",
       "      <th></th>\n",
       "      <th></th>\n",
       "      <th></th>\n",
       "      <th></th>\n",
       "      <th></th>\n",
       "      <th></th>\n",
       "    </tr>\n",
       "  </thead>\n",
       "  <tbody>\n",
       "    <tr>\n",
       "      <th>a. a. fisher</th>\n",
       "      <td>[a. a. fisher, fisher]</td>\n",
       "      <td>500000</td>\n",
       "      <td>frus</td>\n",
       "      <td>False</td>\n",
       "      <td>True</td>\n",
       "      <td>False</td>\n",
       "      <td>False</td>\n",
       "    </tr>\n",
       "    <tr>\n",
       "      <th>a. azevedo</th>\n",
       "      <td>[a. azevedo, azevedo]</td>\n",
       "      <td>500001</td>\n",
       "      <td>cpdoc</td>\n",
       "      <td>True</td>\n",
       "      <td>True</td>\n",
       "      <td>False</td>\n",
       "      <td>False</td>\n",
       "    </tr>\n",
       "    <tr>\n",
       "      <th>a. bentinck</th>\n",
       "      <td>[a. bentinck, bentinck]</td>\n",
       "      <td>500002</td>\n",
       "      <td>frus</td>\n",
       "      <td>False</td>\n",
       "      <td>True</td>\n",
       "      <td>False</td>\n",
       "      <td>False</td>\n",
       "    </tr>\n",
       "    <tr>\n",
       "      <th>a. f. susin</th>\n",
       "      <td>[a. f. susin, susin]</td>\n",
       "      <td>500003</td>\n",
       "      <td>frus</td>\n",
       "      <td>False</td>\n",
       "      <td>True</td>\n",
       "      <td>False</td>\n",
       "      <td>False</td>\n",
       "    </tr>\n",
       "    <tr>\n",
       "      <th>a. faria</th>\n",
       "      <td>[a. faria, faria]</td>\n",
       "      <td>500004</td>\n",
       "      <td>cpdoc</td>\n",
       "      <td>True</td>\n",
       "      <td>True</td>\n",
       "      <td>False</td>\n",
       "      <td>False</td>\n",
       "    </tr>\n",
       "    <tr>\n",
       "      <th>a. i. de lima</th>\n",
       "      <td>[a. i. de lima, de lima]</td>\n",
       "      <td>500005</td>\n",
       "      <td>cpdoc</td>\n",
       "      <td>True</td>\n",
       "      <td>True</td>\n",
       "      <td>True</td>\n",
       "      <td>False</td>\n",
       "    </tr>\n",
       "    <tr>\n",
       "      <th>a. j. peixoto de castro</th>\n",
       "      <td>[a. j. peixoto de castro, peixoto de castro]</td>\n",
       "      <td>500006</td>\n",
       "      <td>cpdoc</td>\n",
       "      <td>True</td>\n",
       "      <td>False</td>\n",
       "      <td>False</td>\n",
       "      <td>False</td>\n",
       "    </tr>\n",
       "    <tr>\n",
       "      <th>a. l. conrad</th>\n",
       "      <td>[a. l. conrad, conrad]</td>\n",
       "      <td>500007</td>\n",
       "      <td>frus</td>\n",
       "      <td>False</td>\n",
       "      <td>True</td>\n",
       "      <td>False</td>\n",
       "      <td>False</td>\n",
       "    </tr>\n",
       "    <tr>\n",
       "      <th>a. m. malik</th>\n",
       "      <td>[a. m. malik, malik]</td>\n",
       "      <td>500008</td>\n",
       "      <td>frus</td>\n",
       "      <td>False</td>\n",
       "      <td>True</td>\n",
       "      <td>False</td>\n",
       "      <td>False</td>\n",
       "    </tr>\n",
       "    <tr>\n",
       "      <th>abdel meguid</th>\n",
       "      <td>[abdel meguid]</td>\n",
       "      <td>500009</td>\n",
       "      <td>frus</td>\n",
       "      <td>False</td>\n",
       "      <td>False</td>\n",
       "      <td>False</td>\n",
       "      <td>False</td>\n",
       "    </tr>\n",
       "  </tbody>\n",
       "</table>\n",
       "</div>"
      ],
      "text/plain": [
       "                                                            alt_names      id  \\\n",
       "names                                                                           \n",
       "a. a. fisher                                   [a. a. fisher, fisher]  500000   \n",
       "a. azevedo                                      [a. azevedo, azevedo]  500001   \n",
       "a. bentinck                                   [a. bentinck, bentinck]  500002   \n",
       "a. f. susin                                      [a. f. susin, susin]  500003   \n",
       "a. faria                                            [a. faria, faria]  500004   \n",
       "a. i. de lima                                [a. i. de lima, de lima]  500005   \n",
       "a. j. peixoto de castro  [a. j. peixoto de castro, peixoto de castro]  500006   \n",
       "a. l. conrad                                   [a. l. conrad, conrad]  500007   \n",
       "a. m. malik                                      [a. m. malik, malik]  500008   \n",
       "abdel meguid                                           [abdel meguid]  500009   \n",
       "\n",
       "                        source has_ambiguous_surname short_fullname  \\\n",
       "names                                                                 \n",
       "a. a. fisher              frus                 False           True   \n",
       "a. azevedo               cpdoc                  True           True   \n",
       "a. bentinck               frus                 False           True   \n",
       "a. f. susin               frus                 False           True   \n",
       "a. faria                 cpdoc                  True           True   \n",
       "a. i. de lima            cpdoc                  True           True   \n",
       "a. j. peixoto de castro  cpdoc                  True          False   \n",
       "a. l. conrad              frus                 False           True   \n",
       "a. m. malik               frus                 False           True   \n",
       "abdel meguid              frus                 False          False   \n",
       "\n",
       "                        short_surname important_name  \n",
       "names                                                 \n",
       "a. a. fisher                    False          False  \n",
       "a. azevedo                      False          False  \n",
       "a. bentinck                     False          False  \n",
       "a. f. susin                     False          False  \n",
       "a. faria                        False          False  \n",
       "a. i. de lima                    True          False  \n",
       "a. j. peixoto de castro         False          False  \n",
       "a. l. conrad                    False          False  \n",
       "a. m. malik                     False          False  \n",
       "abdel meguid                    False          False  "
      ]
     },
     "execution_count": 47,
     "metadata": {},
     "output_type": "execute_result"
    }
   ],
   "source": [
    "names_data[:10]"
   ]
  },
  {
   "cell_type": "code",
   "execution_count": 48,
   "metadata": {
    "collapsed": false
   },
   "outputs": [
    {
     "name": "stdout",
     "output_type": "stream",
     "text": [
      "Pandas(Index='alfredo stroessner', alt_names=['alfredo stroessner', 'stroessner', 'stroessner', 'stroessner'], id='500092', source='duplicate', has_ambiguous_surname='False', short_fullname='True', short_surname='False', important_name='True')\n",
      "Pandas(Index='antônio azeredo da silveira', alt_names=['antônio azeredo da silveira', 'antonio azeredo da silveira', 'azeredo', 'azeredo', 'azeredo'], id='500160', source='cpdoc', has_ambiguous_surname='True', short_fullname='True', short_surname='False', important_name='True')\n",
      "Pandas(Index='ernesto geisel', alt_names=['ernesto geisel', 'geisel', 'geisel', 'geisel'], id='500562', source='duplicate', has_ambiguous_surname='True', short_fullname='True', short_surname='False', important_name='True')\n",
      "Pandas(Index='golbery do couto e silva', alt_names=['golbery do couto e silva', 'golbery', 'golbery', 'golbery'], id='500725', source='duplicate', has_ambiguous_surname='True', short_fullname='True', short_surname='True', important_name='True')\n",
      "Pandas(Index='hugo banzer suárez', alt_names=['hugo banzer suárez', 'hugo banzer suarez', 'banzer', 'banzer', 'banzer'], id='500844', source='frus', has_ambiguous_surname='False', short_fullname='True', short_surname='False', important_name='True')\n",
      "Pandas(Index='james callaghan', alt_names=['james callaghan', 'callaghan', 'callaghan', 'callaghan'], id='500933', source='duplicate', has_ambiguous_surname='False', short_fullname='True', short_surname='False', important_name='True')\n",
      "Pandas(Index='jimmy carter', alt_names=['jimmy carter', 'carter', 'carter', 'carter'], id='500965', source='cpdoc', has_ambiguous_surname='False', short_fullname='True', short_surname='False', important_name='True')\n",
      "Pandas(Index='john hugh crimmins', alt_names=['john hugh crimmins', 'crimmins', 'crimmins', 'crimmins'], id='500986', source='duplicate', has_ambiguous_surname='False', short_fullname='True', short_surname='True', important_name='True')\n",
      "Pandas(Index='richard nixon', alt_names=['richard nixon', 'nixon', 'nixon', 'nixon'], id='501640', source='cpdoc', has_ambiguous_surname='False', short_fullname='True', short_surname='False', important_name='True')\n"
     ]
    }
   ],
   "source": [
    "for name in names_data.itertuples():\n",
    "    if name[0] in imp_fullnames:\n",
    "        print (name)"
   ]
  },
  {
   "cell_type": "markdown",
   "metadata": {},
   "source": [
    "### Cria lista de nomes de arquivos filtrados "
   ]
  },
  {
   "cell_type": "code",
   "execution_count": 17,
   "metadata": {
    "collapsed": false
   },
   "outputs": [
    {
     "name": "stdout",
     "output_type": "stream",
     "text": [
      "········\n",
      "········\n"
     ]
    }
   ],
   "source": [
    "doc_id_list = []\n",
    "\n",
    "pass_sshkey = getpass.getpass()\n",
    "pass_mysql = getpass.getpass()\n",
    "with SSHTunnelForwarder(('200.20.164.147', 22),\n",
    "                        ssh_private_key=ssh_priv_key,\n",
    "                        ssh_private_key_password=pass_sshkey,\n",
    "                        ssh_username=ssh_user,\n",
    "                        remote_bind_address=('127.0.0.1', 3306)) as server:\n",
    "    \n",
    "    conn = pymysql.connect(host='localhost', \n",
    "                           port=server.local_bind_port, \n",
    "                           user=sql_user,\n",
    "                           passwd=pass_mysql,\n",
    "                           db='CPDOC_AS',\n",
    "                           use_unicode=True, \n",
    "                           charset=\"utf8\")\n",
    "    cur = conn.cursor()\n",
    "\n",
    "    cur.execute(\"SELECT * FROM CPDOC_AS.docs WHERE main_language = 'pt' AND (readability > 0.4 OR readability = -1) \")  \n",
    "    data = cur.fetchall()\n",
    "    \n",
    "    for row in data:\n",
    "        if row is None: break\n",
    "        doc_id =  row[0]\n",
    "        doc_id = 'AAS_mre_'+doc_id+'.txt'\n",
    "        doc_id_list.append(doc_id)"
   ]
  },
  {
   "cell_type": "markdown",
   "metadata": {},
   "source": [
    "### salva arquivos para segunda fase de extração"
   ]
  },
  {
   "cell_type": "code",
   "execution_count": 49,
   "metadata": {
    "collapsed": true
   },
   "outputs": [],
   "source": [
    "names_dataframe_file = path_outputs+'/names_dataframe.pkl'\n",
    "#doc_id_list_file = path_outputs+'/doc_id_list.pkl'"
   ]
  },
  {
   "cell_type": "code",
   "execution_count": 50,
   "metadata": {
    "collapsed": true
   },
   "outputs": [],
   "source": [
    "# Ativar esta função apenas se precisar salvar novamente as listas de nomes checados no corpus\n",
    "pickle.dump(names_data, open(names_dataframe_file, 'wb'))\n",
    "#pickle.dump(doc_id_list, open(doc_id_list_file, 'wb'))"
   ]
  },
  {
   "cell_type": "code",
   "execution_count": 51,
   "metadata": {
    "collapsed": true
   },
   "outputs": [],
   "source": [
    "''' caso queira carregar os arquivos '''\n",
    "names_data = pickle.load(open(names_dataframe_file, 'rb'))\n",
    "#doc_id_list = pickle.load(open(doc_id_list_file, 'rb'))"
   ]
  },
  {
   "cell_type": "code",
   "execution_count": null,
   "metadata": {
    "collapsed": true
   },
   "outputs": [],
   "source": []
  }
 ],
 "metadata": {
  "anaconda-cloud": {},
  "kernelspec": {
   "display_name": "Python [default]",
   "language": "python",
   "name": "python3"
  },
  "language_info": {
   "codemirror_mode": {
    "name": "ipython",
    "version": 3
   },
   "file_extension": ".py",
   "mimetype": "text/x-python",
   "name": "python",
   "nbconvert_exporter": "python",
   "pygments_lexer": "ipython3",
   "version": "3.5.2"
  }
 },
 "nbformat": 4,
 "nbformat_minor": 0
}
