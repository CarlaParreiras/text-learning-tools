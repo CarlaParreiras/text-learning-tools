{
 "cells": [
  {
   "cell_type": "markdown",
   "metadata": {},
   "source": [
    "### doc_topics\n",
    "ESTABELECE RELAÇÕES ENTRE DOCUMENTOS E TÓPICOS NA BASE DE DADOS NO MYSQL. TRABALHAMOS COM O ACERVO **ANTONIO AZEREDO DA SILVEIRA, MINISTÉRIO DAS RELAÇÕES EXTERIORES**."
   ]
  },
  {
   "cell_type": "code",
   "execution_count": 1,
   "metadata": {
    "collapsed": false
   },
   "outputs": [
    {
     "name": "stderr",
     "output_type": "stream",
     "text": [
      "C:\\Anaconda3\\lib\\site-packages\\funcy\\decorators.py:56: DeprecationWarning: inspect.getargspec() is deprecated, use inspect.signature() instead\n",
      "  spec = inspect.getargspec(func)\n",
      "C:\\Anaconda3\\lib\\site-packages\\funcy\\decorators.py:56: DeprecationWarning: inspect.getargspec() is deprecated, use inspect.signature() instead\n",
      "  spec = inspect.getargspec(func)\n",
      "C:\\Anaconda3\\lib\\site-packages\\funcy\\decorators.py:56: DeprecationWarning: inspect.getargspec() is deprecated, use inspect.signature() instead\n",
      "  spec = inspect.getargspec(func)\n",
      "C:\\Anaconda3\\lib\\site-packages\\funcy\\decorators.py:56: DeprecationWarning: inspect.getargspec() is deprecated, use inspect.signature() instead\n",
      "  spec = inspect.getargspec(func)\n",
      "C:\\Anaconda3\\lib\\site-packages\\funcy\\decorators.py:56: DeprecationWarning: inspect.getargspec() is deprecated, use inspect.signature() instead\n",
      "  spec = inspect.getargspec(func)\n",
      "C:\\Anaconda3\\lib\\site-packages\\funcy\\decorators.py:56: DeprecationWarning: inspect.getargspec() is deprecated, use inspect.signature() instead\n",
      "  spec = inspect.getargspec(func)\n"
     ]
    }
   ],
   "source": [
    "import nltk\n",
    "import os\n",
    "import codecs\n",
    "import string\n",
    "import matplotlib.pyplot as plt\n",
    "import matplotlib as mpl\n",
    "from gensim import corpora, models, similarities #Latent Dirichlet Allocation implementation with Gensim\n",
    "import pyLDAvis\n",
    "import pyLDAvis.gensim\n",
    "from IPython.display import clear_output\n",
    "\n",
    "import getpass\n",
    "from sshtunnel import SSHTunnelForwarder\n",
    "import pymysql"
   ]
  },
  {
   "cell_type": "code",
   "execution_count": 2,
   "metadata": {
    "collapsed": true
   },
   "outputs": [],
   "source": [
    "outputs = \"../outputs/\""
   ]
  },
  {
   "cell_type": "code",
   "execution_count": 3,
   "metadata": {
    "collapsed": false
   },
   "outputs": [
    {
     "name": "stdout",
     "output_type": "stream",
     "text": [
      "········\n",
      "········\n"
     ]
    }
   ],
   "source": [
    "'''''''''''''''''''''''''''''''''''''''''''''''''''''''''''''''''''''''''''''\n",
    "Seleciona textos da base mysql para fazer modelagem de tópicos\n",
    "NOTA: DEIXEI EM RAW PORQUE ESSA EXTRAÇÃO TORNA O CÓDIGO MUITO LENTO, MAS DEVE SER FEITO DESSA FORMA NO CPU DO RENATO\n",
    "'''''''''''''''''''''''''''''''''''''''''''''''''''''''''''''''''''''''''''''\n",
    "count = 0\n",
    "texts = []\n",
    "pass_sshkey = getpass.getpass()\n",
    "pass_mysql = getpass.getpass()\n",
    "\n",
    "with SSHTunnelForwarder(('200.20.164.147', 22),\n",
    "                        ssh_private_key = \"C:/Users/marcelo.ribeiro/Dropbox/A-Marcelo/Educação-Trabalho/2016-CPDOC/Remoto/marcelo_priv_rsa\",\n",
    "                        #ssh_private_key = '/home/rsouza/.ssh/id_rsa',\n",
    "                        ssh_private_key_password = pass_sshkey,\n",
    "                        ssh_username=\"marcelobribeiro\",\n",
    "                        #ssh_username=\"rsouza\",\n",
    "                        remote_bind_address=('127.0.0.1', 3306)) as server:\n",
    "    \n",
    "    conn = pymysql.connect(host='localhost', \n",
    "                           port=server.local_bind_port, \n",
    "                           user='marcelobribeiro', \n",
    "                           #user='rsouza',\n",
    "                           passwd=pass_mysql,\n",
    "                           db='CPDOC_AS',\n",
    "                           use_unicode=True, \n",
    "                           charset=\"utf8\")\n",
    "    cur = conn.cursor()\n",
    "    \n",
    "    '''''''''''''''''''''''''''''''''''''''''''''''''''''''''''''''''''''''''''''\n",
    "    captura documentos da tabela docs para posterior modelagem de tópicos\n",
    "    '''''''''''''''''''''''''''''''''''''''''''''''''''''''''''''''''''''''''''''\n",
    "    cur.execute(\"SELECT * FROM CPDOC_AS.docs WHERE main_language = 1\") # seleciona apenas textos majoritariamente em português    \n",
    "    data = cur.fetchall()\n",
    "    numrows = cur.rowcount\n",
    "    percentil = numrows/100\n",
    "    \n",
    "    for row in data:\n",
    "        count += 1\n",
    "        if row is None: break\n",
    "\n",
    "        if count % percentil == 0: \n",
    "            clear_output()\n",
    "            print(int(count/percentil),'% done')\n",
    "\n",
    "        text =  row[1]\n",
    "        text = text.split()\n",
    "        symbols = [x for x in string.punctuation]\n",
    "        text = [p for p in text if p not in symbols]\n",
    "        text = [p.strip(string.punctuation) for p in text]\n",
    "        text = [p for p in text if not p.isdigit()]\n",
    "        text = [p for p in text if len(p)>1]\n",
    "        texts.append(text)\n",
    "        \n",
    "        #if count == 3: break #amostra de apenas 3 linhas. No computador do Renato, não usar o break."
   ]
  },
  {
   "cell_type": "code",
   "execution_count": null,
   "metadata": {
    "collapsed": true
   },
   "outputs": [],
   "source": [
    "# load nltk's English stopwords as variable called 'stopwords'\n",
    "\n",
    "additional_words = ['mr','one', 'two', 'three', 'four', \n",
    "                    'five', 'um', 'dois', 'três', 'quatro', \n",
    "                    'cinco', 'janeiro', 'fevereiro', 'março', \n",
    "                    'abril', 'maio', 'junho', 'julho', 'agosto', \n",
    "                    'setembro', 'outubro', 'novembro', 'dezembro', \n",
    "                    'january', 'february', 'march', 'april', 'may', \n",
    "                    'june', 'july', 'august', 'september', \n",
    "                    'october', 'november', 'december', 'países', \n",
    "                    'ser', 'país', 'ainda', 'milhões', 'maior', \n",
    "                    'anos', 'grande', 'apenas', 'outros', 'pode', \n",
    "                    'parte', 'partes', 'item', 'vossa', 'nota', \n",
    "                    'havia', 'pt', 'vg', 'ptvg', 'eh', 'nr', 'hrs', \n",
    "                    'pais', 'parte', 'hoje', 'brasemb', 'ontem', \n",
    "                    'dia', 'countries', 'would', 'new', 'also', \n",
    "                    'must', 'draft', 'shall', 'item', 'page', \n",
    "                    'th', 'anos', 'ii', 'dias', 'poderá', 'caso', \n",
    "                    'casos', 'qualquer', 'ano', 'mil', 'pessoas', \n",
    "                    'único', 'única', 'únicos', 'únicas', 'índice', \n",
    "                    'expedido', 'co', 'mm', 'er', 'via', 'ww', 'ra', \n",
    "                    'ia', 'ca', 'nu', 'wa', 'aa', 'ms', 'dc', 'mmm', 'pa']\n",
    "\n",
    "stopwords = nltk.corpus.stopwords.words('english') + \\\n",
    "            nltk.corpus.stopwords.words('portuguese') + \\\n",
    "            nltk.corpus.stopwords.words('french') + \\\n",
    "            nltk.corpus.stopwords.words('spanish') + \\\n",
    "            additional_words\n",
    "\n",
    "stopwords = list(set(stopwords))"
   ]
  },
  {
   "cell_type": "markdown",
   "metadata": {},
   "source": [
    "### Latent Dirichlet Allocation"
   ]
  },
  {
   "cell_type": "code",
   "execution_count": 4,
   "metadata": {
    "collapsed": false
   },
   "outputs": [
    {
     "name": "stdout",
     "output_type": "stream",
     "text": [
      "Wall time: 0 ns\n"
     ]
    }
   ],
   "source": [
    "#%time texts = [[word for word in text] for text in texts]\n",
    "%time texts = [[word for word in text if word not in stopwords] for text in textos]"
   ]
  },
  {
   "cell_type": "code",
   "execution_count": 5,
   "metadata": {
    "collapsed": false
   },
   "outputs": [
    {
     "name": "stdout",
     "output_type": "stream",
     "text": [
      "218\n"
     ]
    }
   ],
   "source": [
    "#print(len([word for word in texts[0] if word not in stopwords]))\n",
    "print(len(texts[0]))"
   ]
  },
  {
   "cell_type": "code",
   "execution_count": 6,
   "metadata": {
    "collapsed": false
   },
   "outputs": [],
   "source": [
    "dictionary = corpora.Dictionary(texts)\n",
    "dictionary.filter_extremes(no_below=1, no_above=0.8)\n",
    "#print(dictionary.token2id['']) #examina o id a partir do token\n",
    "#print(dictionary.id2token[0]) #examina o token a partir do id\n",
    "dictionary.filter_tokens(bad_ids=[0,]) #retira palavras a partir do id\n",
    "corpus = [dictionary.doc2bow(text) for text in texts]"
   ]
  },
  {
   "cell_type": "code",
   "execution_count": 7,
   "metadata": {
    "collapsed": false
   },
   "outputs": [
    {
     "data": {
      "text/plain": [
       "3"
      ]
     },
     "execution_count": 7,
     "metadata": {},
     "output_type": "execute_result"
    }
   ],
   "source": [
    "len(corpus)"
   ]
  },
  {
   "cell_type": "code",
   "execution_count": 8,
   "metadata": {
    "collapsed": false
   },
   "outputs": [
    {
     "name": "stdout",
     "output_type": "stream",
     "text": [
      "Wall time: 506 ms\n"
     ]
    }
   ],
   "source": [
    "%time lda = models.LdaModel(corpus, num_topics=50, id2word=dictionary, passes=10)"
   ]
  },
  {
   "cell_type": "code",
   "execution_count": 9,
   "metadata": {
    "collapsed": false
   },
   "outputs": [
    {
     "data": {
      "text/plain": [
       "[(0,\n",
       "  '0.003*da + 0.003*do + 0.003*humanos + 0.003*no + 0.003*direitos + 0.003*que + 0.003*grupo + 0.003*comunicações + 0.003*brasil + 0.003*por + 0.003*as + 0.003*foram + 0.003*contra + 0.003*ao + 0.003*comissão + 0.003*membro + 0.003*se + 0.003*subcomissão + 0.003*na + 0.003*alegações'),\n",
       " (1,\n",
       "  '0.003*sr + 0.003*vê-lo + 0.003*posterior + 0.003*passados + 0.003*caro + 0.003*sentido + 0.003*nenhuma + 0.003*durante + 0.003*ainda + 0.003*et + 0.003*mé + 0.003*uma + 0.003*local + 0.003*gestões + 0.003*aas + 0.003*disposición + 0.003*discriminação + 0.003*embaixada + 0.003*as + 0.003*con'),\n",
       " (2,\n",
       "  '0.004*da + 0.004*do + 0.004*que + 0.004*no + 0.003*grupo + 0.003*por + 0.003*humanos + 0.003*direitos + 0.003*dos + 0.003*comissão + 0.003*as + 0.003*comunicações + 0.003*brasil + 0.003*genebra + 0.003*embaixador + 0.003*junto + 0.003*na + 0.003*américa + 0.003*se + 0.003*contra'),\n",
       " (3,\n",
       "  '0.041*do + 0.038*da + 0.020*no + 0.020*grupo + 0.018*que + 0.018*humanos + 0.018*direitos + 0.015*dos + 0.015*por + 0.015*brasil + 0.015*comunicações + 0.015*comissão + 0.012*ao + 0.012*contra + 0.012*as + 0.012*foram + 0.009*membro + 0.009*na + 0.009*alegações + 0.009*genebra'),\n",
       " (4,\n",
       "  '0.003*sr + 0.003*vê-lo + 0.003*posterior + 0.003*passados + 0.003*caro + 0.003*sentido + 0.003*nenhuma + 0.003*durante + 0.003*ainda + 0.003*et + 0.003*mé + 0.003*uma + 0.003*local + 0.003*gestões + 0.003*aas + 0.003*disposición + 0.003*discriminação + 0.003*embaixada + 0.003*as + 0.003*con'),\n",
       " (5,\n",
       "  '0.003*sr + 0.003*vê-lo + 0.003*posterior + 0.003*passados + 0.003*caro + 0.003*sentido + 0.003*nenhuma + 0.003*durante + 0.003*ainda + 0.003*et + 0.003*mé + 0.003*uma + 0.003*local + 0.003*gestões + 0.003*aas + 0.003*disposición + 0.003*discriminação + 0.003*embaixada + 0.003*as + 0.003*con'),\n",
       " (6,\n",
       "  '0.003*sr + 0.003*vê-lo + 0.003*posterior + 0.003*passados + 0.003*caro + 0.003*sentido + 0.003*nenhuma + 0.003*durante + 0.003*ainda + 0.003*et + 0.003*mé + 0.003*uma + 0.003*local + 0.003*gestões + 0.003*aas + 0.003*disposición + 0.003*discriminação + 0.003*embaixada + 0.003*as + 0.003*con'),\n",
       " (7,\n",
       "  '0.030*que + 0.025*da + 0.020*buenos + 0.020*aires + 0.015*por + 0.015*el + 0.015*tu + 0.015*ministro + 0.010*no + 0.010*dos + 0.010*sua + 0.010*silveira + 0.010*brasília + 0.010*embaixada + 0.010*país + 0.010*seja + 0.010*embaixador + 0.010*amigo + 0.010*com + 0.010*querido'),\n",
       " (8,\n",
       "  '0.003*sr + 0.003*vê-lo + 0.003*posterior + 0.003*passados + 0.003*caro + 0.003*sentido + 0.003*nenhuma + 0.003*durante + 0.003*ainda + 0.003*et + 0.003*mé + 0.003*uma + 0.003*local + 0.003*gestões + 0.003*aas + 0.003*disposición + 0.003*discriminação + 0.003*embaixada + 0.003*as + 0.003*con'),\n",
       " (9,\n",
       "  '0.003*sr + 0.003*vê-lo + 0.003*posterior + 0.003*passados + 0.003*caro + 0.003*sentido + 0.003*nenhuma + 0.003*durante + 0.003*ainda + 0.003*et + 0.003*mé + 0.003*uma + 0.003*local + 0.003*gestões + 0.003*aas + 0.003*disposición + 0.003*discriminação + 0.003*embaixada + 0.003*as + 0.003*con'),\n",
       " (10,\n",
       "  '0.005*do + 0.004*da + 0.004*que + 0.004*comunicações + 0.003*por + 0.003*grupo + 0.003*humanos + 0.003*comissão + 0.003*no + 0.003*dos + 0.003*ao + 0.003*brasil + 0.003*direitos + 0.003*foram + 0.003*as + 0.003*genebra + 0.003*alegações + 0.003*subcomissão + 0.003*se + 0.003*contra'),\n",
       " (11,\n",
       "  '0.003*que + 0.003*buenos + 0.003*aires + 0.003*por + 0.003*da + 0.003*ministro + 0.003*pérez-hernández + 0.003*com + 0.003*como + 0.003*dezembro + 0.003*país + 0.003*querido + 0.003*dos + 0.003*espanha + 0.003*tu + 0.003*no + 0.003*grande + 0.003*el + 0.003*amigo + 0.003*sua'),\n",
       " (12,\n",
       "  '0.004*da + 0.004*do + 0.003*comissão + 0.003*no + 0.003*grupo + 0.003*humanos + 0.003*que + 0.003*direitos + 0.003*brasil + 0.003*contra + 0.003*comunicações + 0.003*por + 0.003*dos + 0.003*as + 0.003*ao + 0.003*foram + 0.003*subcomissão + 0.003*junto + 0.003*américa + 0.003*alegações'),\n",
       " (13,\n",
       "  '0.003*sr + 0.003*vê-lo + 0.003*posterior + 0.003*passados + 0.003*caro + 0.003*sentido + 0.003*nenhuma + 0.003*durante + 0.003*ainda + 0.003*et + 0.003*mé + 0.003*uma + 0.003*local + 0.003*gestões + 0.003*aas + 0.003*disposición + 0.003*discriminação + 0.003*embaixada + 0.003*as + 0.003*con'),\n",
       " (14,\n",
       "  '0.003*sr + 0.003*vê-lo + 0.003*posterior + 0.003*passados + 0.003*caro + 0.003*sentido + 0.003*nenhuma + 0.003*durante + 0.003*ainda + 0.003*et + 0.003*mé + 0.003*uma + 0.003*local + 0.003*gestões + 0.003*aas + 0.003*disposición + 0.003*discriminação + 0.003*embaixada + 0.003*as + 0.003*con'),\n",
       " (15,\n",
       "  '0.003*sr + 0.003*vê-lo + 0.003*posterior + 0.003*passados + 0.003*caro + 0.003*sentido + 0.003*nenhuma + 0.003*durante + 0.003*ainda + 0.003*et + 0.003*mé + 0.003*uma + 0.003*local + 0.003*gestões + 0.003*aas + 0.003*disposición + 0.003*discriminação + 0.003*embaixada + 0.003*as + 0.003*con'),\n",
       " (16,\n",
       "  '0.004*da + 0.004*que + 0.004*buenos + 0.004*aires + 0.003*ministro + 0.003*por + 0.003*el + 0.003*tu + 0.003*querido + 0.003*embaixador + 0.003*dos + 0.003*dezembro + 0.003*silveira + 0.003*seja + 0.003*no + 0.003*enrique + 0.003*amigo + 0.003*espanha + 0.003*brasília + 0.003*embaixada'),\n",
       " (17,\n",
       "  '0.003*que + 0.003*buenos + 0.003*aires + 0.003*ministro + 0.003*da + 0.003*por + 0.003*el + 0.003*con + 0.003*pérez-hernández + 0.003*enrique + 0.003*com + 0.003*brasília + 0.003*como + 0.003*espanha + 0.003*argentina + 0.003*amistad + 0.003*no + 0.003*seja + 0.003*espero + 0.003*tu'),\n",
       " (18,\n",
       "  '0.003*sr + 0.003*vê-lo + 0.003*posterior + 0.003*passados + 0.003*caro + 0.003*sentido + 0.003*nenhuma + 0.003*durante + 0.003*ainda + 0.003*et + 0.003*mé + 0.003*uma + 0.003*local + 0.003*gestões + 0.003*aas + 0.003*disposición + 0.003*discriminação + 0.003*embaixada + 0.003*as + 0.003*con'),\n",
       " (19,\n",
       "  '0.003*sr + 0.003*vê-lo + 0.003*posterior + 0.003*passados + 0.003*caro + 0.003*sentido + 0.003*nenhuma + 0.003*durante + 0.003*ainda + 0.003*et + 0.003*mé + 0.003*uma + 0.003*local + 0.003*gestões + 0.003*aas + 0.003*disposición + 0.003*discriminação + 0.003*embaixada + 0.003*as + 0.003*con'),\n",
       " (20,\n",
       "  '0.003*sr + 0.003*vê-lo + 0.003*posterior + 0.003*passados + 0.003*caro + 0.003*sentido + 0.003*nenhuma + 0.003*durante + 0.003*ainda + 0.003*et + 0.003*mé + 0.003*uma + 0.003*local + 0.003*gestões + 0.003*aas + 0.003*disposición + 0.003*discriminação + 0.003*embaixada + 0.003*as + 0.003*con'),\n",
       " (21,\n",
       "  '0.004*do + 0.004*da + 0.004*grupo + 0.003*direitos + 0.003*no + 0.003*humanos + 0.003*que + 0.003*por + 0.003*comissão + 0.003*foram + 0.003*ao + 0.003*comunicações + 0.003*brasil + 0.003*contra + 0.003*genebra + 0.003*junto + 0.003*dos + 0.003*as + 0.003*se + 0.003*na'),\n",
       " (22,\n",
       "  '0.003*sr + 0.003*vê-lo + 0.003*posterior + 0.003*passados + 0.003*caro + 0.003*sentido + 0.003*nenhuma + 0.003*durante + 0.003*ainda + 0.003*et + 0.003*mé + 0.003*uma + 0.003*local + 0.003*gestões + 0.003*aas + 0.003*disposición + 0.003*discriminação + 0.003*embaixada + 0.003*as + 0.003*con'),\n",
       " (23,\n",
       "  '0.004*que + 0.004*da + 0.004*aires + 0.003*buenos + 0.003*tu + 0.003*por + 0.003*ministro + 0.003*el + 0.003*pérez-hernández + 0.003*amistad + 0.003*enrique + 0.003*dezembro + 0.003*grande + 0.003*espanha + 0.003*embaixador + 0.003*argentina + 0.003*con + 0.003*com + 0.003*como + 0.003*brasília'),\n",
       " (24,\n",
       "  '0.003*sr + 0.003*vê-lo + 0.003*posterior + 0.003*passados + 0.003*caro + 0.003*sentido + 0.003*nenhuma + 0.003*durante + 0.003*ainda + 0.003*et + 0.003*mé + 0.003*uma + 0.003*local + 0.003*gestões + 0.003*aas + 0.003*disposición + 0.003*discriminação + 0.003*embaixada + 0.003*as + 0.003*con'),\n",
       " (25,\n",
       "  '0.003*do + 0.003*da + 0.003*humanos + 0.003*grupo + 0.003*no + 0.003*direitos + 0.003*comunicações + 0.003*as + 0.003*brasil + 0.003*que + 0.003*alegações + 0.003*comissão + 0.003*dos + 0.003*por + 0.003*contra + 0.003*foram + 0.003*ao + 0.003*subcomissão + 0.003*genebra + 0.003*sul'),\n",
       " (26,\n",
       "  '0.003*sr + 0.003*vê-lo + 0.003*posterior + 0.003*passados + 0.003*caro + 0.003*sentido + 0.003*nenhuma + 0.003*durante + 0.003*ainda + 0.003*et + 0.003*mé + 0.003*uma + 0.003*local + 0.003*gestões + 0.003*aas + 0.003*disposición + 0.003*discriminação + 0.003*embaixada + 0.003*as + 0.003*con'),\n",
       " (27,\n",
       "  '0.003*sr + 0.003*vê-lo + 0.003*posterior + 0.003*passados + 0.003*caro + 0.003*sentido + 0.003*nenhuma + 0.003*durante + 0.003*ainda + 0.003*et + 0.003*mé + 0.003*uma + 0.003*local + 0.003*gestões + 0.003*aas + 0.003*disposición + 0.003*discriminação + 0.003*embaixada + 0.003*as + 0.003*con'),\n",
       " (28,\n",
       "  '0.004*global + 0.003*estado + 0.003*ministro + 0.003*exteriores + 0.003*ef + 0.003*recebido + 0.003*eqoyg + 0.003*particular + 0.003*serie + 0.003*respeitosos + 0.003*natalicia + 0.003*familia + 0.003*suogeogunwwoo + 0.003*leqom + 0.003*communic + 0.003*et + 0.003*pelo + 0.003*sr + 0.003*suonesyunwuuog + 0.003*eqo|g'),\n",
       " (29,\n",
       "  '0.003*sr + 0.003*vê-lo + 0.003*posterior + 0.003*passados + 0.003*caro + 0.003*sentido + 0.003*nenhuma + 0.003*durante + 0.003*ainda + 0.003*et + 0.003*mé + 0.003*uma + 0.003*local + 0.003*gestões + 0.003*aas + 0.003*disposición + 0.003*discriminação + 0.003*embaixada + 0.003*as + 0.003*con'),\n",
       " (30,\n",
       "  '0.003*sr + 0.003*vê-lo + 0.003*posterior + 0.003*passados + 0.003*caro + 0.003*sentido + 0.003*nenhuma + 0.003*durante + 0.003*ainda + 0.003*et + 0.003*mé + 0.003*uma + 0.003*local + 0.003*gestões + 0.003*aas + 0.003*disposición + 0.003*discriminação + 0.003*embaixada + 0.003*as + 0.003*con'),\n",
       " (31,\n",
       "  '0.003*que + 0.003*aires + 0.003*buenos + 0.003*tu + 0.003*da + 0.003*ministro + 0.003*embaixada + 0.003*país + 0.003*espero + 0.003*por + 0.003*pérez-hernández + 0.003*amistad + 0.003*amigo + 0.003*no + 0.003*com + 0.003*como + 0.003*silveira + 0.003*el + 0.003*dos + 0.003*querido'),\n",
       " (32,\n",
       "  '0.003*sr + 0.003*vê-lo + 0.003*posterior + 0.003*passados + 0.003*caro + 0.003*sentido + 0.003*nenhuma + 0.003*durante + 0.003*ainda + 0.003*et + 0.003*mé + 0.003*uma + 0.003*local + 0.003*gestões + 0.003*aas + 0.003*disposición + 0.003*discriminação + 0.003*embaixada + 0.003*as + 0.003*con'),\n",
       " (33,\n",
       "  '0.003*da + 0.003*do + 0.003*brasil + 0.003*humanos + 0.003*no + 0.003*que + 0.003*direitos + 0.003*grupo + 0.003*comunicações + 0.003*por + 0.003*as + 0.003*comissão + 0.003*dos + 0.003*foram + 0.003*contra + 0.003*junto + 0.003*ao + 0.003*américa + 0.003*subcomissão + 0.003*um'),\n",
       " (34,\n",
       "  '0.003*sr + 0.003*vê-lo + 0.003*posterior + 0.003*passados + 0.003*caro + 0.003*sentido + 0.003*nenhuma + 0.003*durante + 0.003*ainda + 0.003*et + 0.003*mé + 0.003*uma + 0.003*local + 0.003*gestões + 0.003*aas + 0.003*disposición + 0.003*discriminação + 0.003*embaixada + 0.003*as + 0.003*con'),\n",
       " (35,\n",
       "  '0.003*sr + 0.003*vê-lo + 0.003*posterior + 0.003*passados + 0.003*caro + 0.003*sentido + 0.003*nenhuma + 0.003*durante + 0.003*ainda + 0.003*et + 0.003*mé + 0.003*uma + 0.003*local + 0.003*gestões + 0.003*aas + 0.003*disposición + 0.003*discriminação + 0.003*embaixada + 0.003*as + 0.003*con'),\n",
       " (36,\n",
       "  '0.057*global + 0.038*exteriores + 0.038*estado + 0.038*ministro + 0.020*do + 0.019*onu + 0.019*pelo + 0.019*chanceler + 0.019*ereguan + 0.019*suoueogunwwoo + 0.019*cumprimentos + 0.019*transcurso + 0.019*communicaiions + 0.019*em/23/9/74 + 0.019*americo + 0.019*telegrama + 0.019*retransmissão + 0.019*conhecimento + 0.019*data + 0.019*communic'),\n",
       " (37,\n",
       "  '0.003*sr + 0.003*vê-lo + 0.003*posterior + 0.003*passados + 0.003*caro + 0.003*sentido + 0.003*nenhuma + 0.003*durante + 0.003*ainda + 0.003*et + 0.003*mé + 0.003*uma + 0.003*local + 0.003*gestões + 0.003*aas + 0.003*disposición + 0.003*discriminação + 0.003*embaixada + 0.003*as + 0.003*con'),\n",
       " (38,\n",
       "  '0.003*sr + 0.003*vê-lo + 0.003*posterior + 0.003*passados + 0.003*caro + 0.003*sentido + 0.003*nenhuma + 0.003*durante + 0.003*ainda + 0.003*et + 0.003*mé + 0.003*uma + 0.003*local + 0.003*gestões + 0.003*aas + 0.003*disposición + 0.003*discriminação + 0.003*embaixada + 0.003*as + 0.003*con'),\n",
       " (39,\n",
       "  '0.003*que + 0.003*da + 0.003*buenos + 0.003*aires + 0.003*ministro + 0.003*el + 0.003*tu + 0.003*espanha + 0.003*silveira + 0.003*por + 0.003*país + 0.003*espero + 0.003*con + 0.003*pérez-hernández + 0.003*no + 0.003*enrique + 0.003*amistad + 0.003*embaixada + 0.003*sua + 0.003*brasília'),\n",
       " (40,\n",
       "  '0.004*do + 0.004*da + 0.004*direitos + 0.003*grupo + 0.003*humanos + 0.003*no + 0.003*que + 0.003*comissão + 0.003*por + 0.003*brasil + 0.003*comunicações + 0.003*ao + 0.003*as + 0.003*dos + 0.003*foram + 0.003*contra + 0.003*junto + 0.003*américa + 0.003*se + 0.003*realizada'),\n",
       " (41,\n",
       "  '0.003*global + 0.003*ministro + 0.003*exteriores + 0.003*estado + 0.003*respeitosos + 0.003*communications + 0.003*nova + 0.003*retransmito + 0.003*lopes + 0.003*suonesyunwuuog + 0.003*particular + 0.003*et + 0.003*sr + 0.003*conhecimento + 0.003*onu + 0.003*suogeogunwwoo + 0.003*york + 0.003*em/23/9/74 + 0.003*leqom + 0.003*25/9/74'),\n",
       " (42,\n",
       "  '0.003*sr + 0.003*vê-lo + 0.003*posterior + 0.003*passados + 0.003*caro + 0.003*sentido + 0.003*nenhuma + 0.003*durante + 0.003*ainda + 0.003*et + 0.003*mé + 0.003*uma + 0.003*local + 0.003*gestões + 0.003*aas + 0.003*disposición + 0.003*discriminação + 0.003*embaixada + 0.003*as + 0.003*con'),\n",
       " (43,\n",
       "  '0.003*sr + 0.003*vê-lo + 0.003*posterior + 0.003*passados + 0.003*caro + 0.003*sentido + 0.003*nenhuma + 0.003*durante + 0.003*ainda + 0.003*et + 0.003*mé + 0.003*uma + 0.003*local + 0.003*gestões + 0.003*aas + 0.003*disposición + 0.003*discriminação + 0.003*embaixada + 0.003*as + 0.003*con'),\n",
       " (44,\n",
       "  '0.003*sr + 0.003*vê-lo + 0.003*posterior + 0.003*passados + 0.003*caro + 0.003*sentido + 0.003*nenhuma + 0.003*durante + 0.003*ainda + 0.003*et + 0.003*mé + 0.003*uma + 0.003*local + 0.003*gestões + 0.003*aas + 0.003*disposición + 0.003*discriminação + 0.003*embaixada + 0.003*as + 0.003*con'),\n",
       " (45,\n",
       "  '0.003*do + 0.003*da + 0.003*grupo + 0.003*no + 0.003*que + 0.003*humanos + 0.003*direitos + 0.003*foram + 0.003*brasil + 0.003*comissão + 0.003*dos + 0.003*comunicações + 0.003*por + 0.003*contra + 0.003*as + 0.003*membro + 0.003*alegações + 0.003*subcomissão + 0.003*se + 0.003*na'),\n",
       " (46,\n",
       "  '0.003*que + 0.003*aires + 0.003*buenos + 0.003*tu + 0.003*ministro + 0.003*por + 0.003*el + 0.003*querido + 0.003*argentina + 0.003*com + 0.003*da + 0.003*brasília + 0.003*no + 0.003*amistad + 0.003*amigo + 0.003*espanha + 0.003*espero + 0.003*grande + 0.003*dos + 0.003*enrique'),\n",
       " (47,\n",
       "  '0.003*sr + 0.003*vê-lo + 0.003*posterior + 0.003*passados + 0.003*caro + 0.003*sentido + 0.003*nenhuma + 0.003*durante + 0.003*ainda + 0.003*et + 0.003*mé + 0.003*uma + 0.003*local + 0.003*gestões + 0.003*aas + 0.003*disposición + 0.003*discriminação + 0.003*embaixada + 0.003*as + 0.003*con'),\n",
       " (48,\n",
       "  '0.003*do + 0.003*da + 0.003*no + 0.003*humanos + 0.003*grupo + 0.003*que + 0.003*as + 0.003*direitos + 0.003*comissão + 0.003*brasil + 0.003*comunicações + 0.003*por + 0.003*dos + 0.003*contra + 0.003*foram + 0.003*ao + 0.003*se + 0.003*genebra + 0.003*membro + 0.003*junto'),\n",
       " (49,\n",
       "  '0.003*do + 0.003*da + 0.003*direitos + 0.003*grupo + 0.003*no + 0.003*que + 0.003*humanos + 0.003*comissão + 0.003*brasil + 0.003*por + 0.003*dos + 0.003*américa + 0.003*comunicações + 0.003*contra + 0.003*foram + 0.003*ao + 0.003*as + 0.003*se + 0.003*subcomissão + 0.003*membro')]"
      ]
     },
     "execution_count": 9,
     "metadata": {},
     "output_type": "execute_result"
    }
   ],
   "source": [
    "lda.print_topics(-1, num_words=20)"
   ]
  },
  {
   "cell_type": "code",
   "execution_count": 10,
   "metadata": {
    "collapsed": false
   },
   "outputs": [
    {
     "data": {
      "text/plain": [
       "[(0,\n",
       "  '0.003*da + 0.003*do + 0.003*humanos + 0.003*no + 0.003*direitos + 0.003*que + 0.003*grupo + 0.003*comunicações + 0.003*brasil + 0.003*por'),\n",
       " (1,\n",
       "  '0.003*sr + 0.003*embaixada + 0.003*discriminação + 0.003*disposición + 0.003*aas + 0.003*gestões + 0.003*local + 0.003*uma + 0.003*mé + 0.003*et'),\n",
       " (2,\n",
       "  '0.004*da + 0.004*do + 0.004*que + 0.004*no + 0.003*grupo + 0.003*por + 0.003*humanos + 0.003*direitos + 0.003*dos + 0.003*comissão'),\n",
       " (3,\n",
       "  '0.041*do + 0.038*da + 0.020*no + 0.020*grupo + 0.018*que + 0.018*humanos + 0.018*direitos + 0.015*dos + 0.015*por + 0.015*brasil'),\n",
       " (4,\n",
       "  '0.003*sr + 0.003*embaixada + 0.003*discriminação + 0.003*disposición + 0.003*aas + 0.003*gestões + 0.003*local + 0.003*uma + 0.003*mé + 0.003*et'),\n",
       " (5,\n",
       "  '0.003*sr + 0.003*embaixada + 0.003*discriminação + 0.003*disposición + 0.003*aas + 0.003*gestões + 0.003*local + 0.003*uma + 0.003*mé + 0.003*et'),\n",
       " (6,\n",
       "  '0.003*sr + 0.003*embaixada + 0.003*discriminação + 0.003*disposición + 0.003*aas + 0.003*gestões + 0.003*local + 0.003*uma + 0.003*mé + 0.003*et'),\n",
       " (7,\n",
       "  '0.030*que + 0.025*da + 0.020*buenos + 0.020*aires + 0.015*por + 0.015*el + 0.015*tu + 0.015*ministro + 0.010*no + 0.010*dos'),\n",
       " (8,\n",
       "  '0.003*sr + 0.003*embaixada + 0.003*discriminação + 0.003*disposición + 0.003*aas + 0.003*gestões + 0.003*local + 0.003*uma + 0.003*mé + 0.003*et'),\n",
       " (9,\n",
       "  '0.003*sr + 0.003*embaixada + 0.003*discriminação + 0.003*disposición + 0.003*aas + 0.003*gestões + 0.003*local + 0.003*uma + 0.003*mé + 0.003*et'),\n",
       " (10,\n",
       "  '0.005*do + 0.004*da + 0.004*que + 0.004*comunicações + 0.003*por + 0.003*grupo + 0.003*humanos + 0.003*comissão + 0.003*no + 0.003*dos'),\n",
       " (11,\n",
       "  '0.003*que + 0.003*buenos + 0.003*aires + 0.003*por + 0.003*da + 0.003*ministro + 0.003*pérez-hernández + 0.003*com + 0.003*como + 0.003*dezembro'),\n",
       " (12,\n",
       "  '0.004*da + 0.004*do + 0.003*comissão + 0.003*no + 0.003*grupo + 0.003*humanos + 0.003*que + 0.003*direitos + 0.003*brasil + 0.003*contra'),\n",
       " (13,\n",
       "  '0.003*sr + 0.003*embaixada + 0.003*discriminação + 0.003*disposición + 0.003*aas + 0.003*gestões + 0.003*local + 0.003*uma + 0.003*mé + 0.003*et'),\n",
       " (14,\n",
       "  '0.003*sr + 0.003*embaixada + 0.003*discriminação + 0.003*disposición + 0.003*aas + 0.003*gestões + 0.003*local + 0.003*uma + 0.003*mé + 0.003*et'),\n",
       " (15,\n",
       "  '0.003*sr + 0.003*embaixada + 0.003*discriminação + 0.003*disposición + 0.003*aas + 0.003*gestões + 0.003*local + 0.003*uma + 0.003*mé + 0.003*et'),\n",
       " (16,\n",
       "  '0.004*da + 0.004*que + 0.004*buenos + 0.004*aires + 0.003*ministro + 0.003*por + 0.003*el + 0.003*tu + 0.003*querido + 0.003*embaixador'),\n",
       " (17,\n",
       "  '0.003*que + 0.003*buenos + 0.003*aires + 0.003*ministro + 0.003*da + 0.003*por + 0.003*el + 0.003*con + 0.003*pérez-hernández + 0.003*enrique'),\n",
       " (18,\n",
       "  '0.003*sr + 0.003*embaixada + 0.003*discriminação + 0.003*disposición + 0.003*aas + 0.003*gestões + 0.003*local + 0.003*uma + 0.003*mé + 0.003*et'),\n",
       " (19,\n",
       "  '0.003*sr + 0.003*embaixada + 0.003*discriminação + 0.003*disposición + 0.003*aas + 0.003*gestões + 0.003*local + 0.003*uma + 0.003*mé + 0.003*et'),\n",
       " (20,\n",
       "  '0.003*sr + 0.003*embaixada + 0.003*discriminação + 0.003*disposición + 0.003*aas + 0.003*gestões + 0.003*local + 0.003*uma + 0.003*mé + 0.003*et'),\n",
       " (21,\n",
       "  '0.004*do + 0.004*da + 0.004*grupo + 0.003*direitos + 0.003*no + 0.003*humanos + 0.003*que + 0.003*por + 0.003*comissão + 0.003*foram'),\n",
       " (22,\n",
       "  '0.003*sr + 0.003*embaixada + 0.003*discriminação + 0.003*disposición + 0.003*aas + 0.003*gestões + 0.003*local + 0.003*uma + 0.003*mé + 0.003*et'),\n",
       " (23,\n",
       "  '0.004*que + 0.004*da + 0.004*aires + 0.003*buenos + 0.003*tu + 0.003*por + 0.003*ministro + 0.003*el + 0.003*pérez-hernández + 0.003*amistad'),\n",
       " (24,\n",
       "  '0.003*sr + 0.003*embaixada + 0.003*discriminação + 0.003*disposición + 0.003*aas + 0.003*gestões + 0.003*local + 0.003*uma + 0.003*mé + 0.003*et'),\n",
       " (25,\n",
       "  '0.003*do + 0.003*da + 0.003*humanos + 0.003*grupo + 0.003*no + 0.003*direitos + 0.003*comunicações + 0.003*as + 0.003*brasil + 0.003*que'),\n",
       " (26,\n",
       "  '0.003*sr + 0.003*embaixada + 0.003*discriminação + 0.003*disposición + 0.003*aas + 0.003*gestões + 0.003*local + 0.003*uma + 0.003*mé + 0.003*et'),\n",
       " (27,\n",
       "  '0.003*sr + 0.003*embaixada + 0.003*discriminação + 0.003*disposición + 0.003*aas + 0.003*gestões + 0.003*local + 0.003*uma + 0.003*mé + 0.003*et'),\n",
       " (28,\n",
       "  '0.004*global + 0.003*estado + 0.003*ministro + 0.003*exteriores + 0.003*ef + 0.003*recebido + 0.003*eqoyg + 0.003*particular + 0.003*serie + 0.003*respeitosos'),\n",
       " (29,\n",
       "  '0.003*sr + 0.003*embaixada + 0.003*discriminação + 0.003*disposición + 0.003*aas + 0.003*gestões + 0.003*local + 0.003*uma + 0.003*mé + 0.003*et'),\n",
       " (30,\n",
       "  '0.003*sr + 0.003*embaixada + 0.003*discriminação + 0.003*disposición + 0.003*aas + 0.003*gestões + 0.003*local + 0.003*uma + 0.003*mé + 0.003*et'),\n",
       " (31,\n",
       "  '0.003*que + 0.003*aires + 0.003*buenos + 0.003*tu + 0.003*da + 0.003*ministro + 0.003*embaixada + 0.003*país + 0.003*espero + 0.003*por'),\n",
       " (32,\n",
       "  '0.003*sr + 0.003*embaixada + 0.003*discriminação + 0.003*disposición + 0.003*aas + 0.003*gestões + 0.003*local + 0.003*uma + 0.003*mé + 0.003*et'),\n",
       " (33,\n",
       "  '0.003*da + 0.003*do + 0.003*brasil + 0.003*humanos + 0.003*no + 0.003*que + 0.003*direitos + 0.003*grupo + 0.003*comunicações + 0.003*por'),\n",
       " (34,\n",
       "  '0.003*sr + 0.003*embaixada + 0.003*discriminação + 0.003*disposición + 0.003*aas + 0.003*gestões + 0.003*local + 0.003*uma + 0.003*mé + 0.003*et'),\n",
       " (35,\n",
       "  '0.003*sr + 0.003*embaixada + 0.003*discriminação + 0.003*disposición + 0.003*aas + 0.003*gestões + 0.003*local + 0.003*uma + 0.003*mé + 0.003*et'),\n",
       " (36,\n",
       "  '0.057*global + 0.038*exteriores + 0.038*estado + 0.038*ministro + 0.020*do + 0.019*onu + 0.019*pelo + 0.019*chanceler + 0.019*ereguan + 0.019*suoueogunwwoo'),\n",
       " (37,\n",
       "  '0.003*sr + 0.003*embaixada + 0.003*discriminação + 0.003*disposición + 0.003*aas + 0.003*gestões + 0.003*local + 0.003*uma + 0.003*mé + 0.003*et'),\n",
       " (38,\n",
       "  '0.003*sr + 0.003*embaixada + 0.003*discriminação + 0.003*disposición + 0.003*aas + 0.003*gestões + 0.003*local + 0.003*uma + 0.003*mé + 0.003*et'),\n",
       " (39,\n",
       "  '0.003*que + 0.003*da + 0.003*buenos + 0.003*aires + 0.003*ministro + 0.003*el + 0.003*tu + 0.003*espanha + 0.003*silveira + 0.003*por'),\n",
       " (40,\n",
       "  '0.004*do + 0.004*da + 0.004*direitos + 0.003*grupo + 0.003*humanos + 0.003*no + 0.003*que + 0.003*comissão + 0.003*por + 0.003*brasil'),\n",
       " (41,\n",
       "  '0.003*global + 0.003*ministro + 0.003*exteriores + 0.003*estado + 0.003*respeitosos + 0.003*communications + 0.003*nova + 0.003*retransmito + 0.003*lopes + 0.003*suonesyunwuuog'),\n",
       " (42,\n",
       "  '0.003*sr + 0.003*embaixada + 0.003*discriminação + 0.003*disposición + 0.003*aas + 0.003*gestões + 0.003*local + 0.003*uma + 0.003*mé + 0.003*et'),\n",
       " (43,\n",
       "  '0.003*sr + 0.003*embaixada + 0.003*discriminação + 0.003*disposición + 0.003*aas + 0.003*gestões + 0.003*local + 0.003*uma + 0.003*mé + 0.003*et'),\n",
       " (44,\n",
       "  '0.003*sr + 0.003*embaixada + 0.003*discriminação + 0.003*disposición + 0.003*aas + 0.003*gestões + 0.003*local + 0.003*uma + 0.003*mé + 0.003*et'),\n",
       " (45,\n",
       "  '0.003*do + 0.003*da + 0.003*grupo + 0.003*no + 0.003*que + 0.003*humanos + 0.003*direitos + 0.003*foram + 0.003*brasil + 0.003*comissão'),\n",
       " (46,\n",
       "  '0.003*que + 0.003*aires + 0.003*buenos + 0.003*tu + 0.003*ministro + 0.003*por + 0.003*el + 0.003*querido + 0.003*argentina + 0.003*com'),\n",
       " (47,\n",
       "  '0.003*sr + 0.003*embaixada + 0.003*discriminação + 0.003*disposición + 0.003*aas + 0.003*gestões + 0.003*local + 0.003*uma + 0.003*mé + 0.003*et'),\n",
       " (48,\n",
       "  '0.003*do + 0.003*da + 0.003*no + 0.003*humanos + 0.003*grupo + 0.003*que + 0.003*as + 0.003*direitos + 0.003*comissão + 0.003*brasil'),\n",
       " (49,\n",
       "  '0.003*do + 0.003*da + 0.003*direitos + 0.003*grupo + 0.003*no + 0.003*que + 0.003*humanos + 0.003*comissão + 0.003*brasil + 0.003*por')]"
      ]
     },
     "execution_count": 10,
     "metadata": {},
     "output_type": "execute_result"
    }
   ],
   "source": [
    "lda.show_topics(num_topics=-1)"
   ]
  },
  {
   "cell_type": "code",
   "execution_count": 11,
   "metadata": {
    "collapsed": false
   },
   "outputs": [
    {
     "data": {
      "text/plain": [
       "(34,\n",
       " [('sr', 0.002673796791443851),\n",
       "  ('vê-lo', 0.002673796791443851),\n",
       "  ('posterior', 0.002673796791443851),\n",
       "  ('passados', 0.002673796791443851),\n",
       "  ('caro', 0.002673796791443851),\n",
       "  ('sentido', 0.002673796791443851),\n",
       "  ('nenhuma', 0.002673796791443851),\n",
       "  ('durante', 0.002673796791443851),\n",
       "  ('ainda', 0.002673796791443851),\n",
       "  ('et', 0.002673796791443851),\n",
       "  ('mé', 0.002673796791443851),\n",
       "  ('uma', 0.002673796791443851),\n",
       "  ('local', 0.002673796791443851),\n",
       "  ('gestões', 0.002673796791443851),\n",
       "  ('aas', 0.002673796791443851),\n",
       "  ('disposición', 0.002673796791443851),\n",
       "  ('discriminação', 0.002673796791443851),\n",
       "  ('embaixada', 0.002673796791443851),\n",
       "  ('as', 0.002673796791443851),\n",
       "  ('con', 0.002673796791443851)])"
      ]
     },
     "execution_count": 11,
     "metadata": {},
     "output_type": "execute_result"
    }
   ],
   "source": [
    "topics_matrix = lda.show_topics(formatted=False, num_words=20, num_topics=-1)\n",
    "topics_matrix[34]"
   ]
  },
  {
   "cell_type": "markdown",
   "metadata": {},
   "source": [
    "Gerando a distribuição de tópicos para um novo documento:"
   ]
  },
  {
   "cell_type": "markdown",
   "metadata": {},
   "source": [
    "#### Gera a distribuição de tópicos para um novo documento\n",
    "Alimenta a base mysql com dados de score (relação) entre tópicos e documentos"
   ]
  },
  {
   "cell_type": "code",
   "execution_count": 12,
   "metadata": {
    "collapsed": false
   },
   "outputs": [
    {
     "name": "stdout",
     "output_type": "stream",
     "text": [
      "········\n",
      "········\n",
      "[(7, 0.9938749999999974)]\n",
      "rb_1974.04.17_doc_I-66 7 0.993875\n",
      "[(36, 0.97487179487179387)]\n",
      "onu_1974.03.12_doc_II-49 36 0.974871794872\n",
      "[(7, 0.50999999999999979)]\n",
      "onu_1974.03.12_doc_V-2 7 0.51\n",
      "[(3, 0.99634328358209268)]\n",
      "be_1974.04.16_doc_VI-18 3 0.996343283582\n",
      "[(3, 0.90858161141617577), (7, 0.049972685004809121), (36, 0.030515471020877497)]\n",
      "be_1977.06.01_doc_II-21 36 0.0304864918981\n",
      "[(3, 0.54800575380191874), (7, 0.25160963664082597), (36, 0.19663958963693487)]\n",
      "ag_1974.03.13_doc_III-7 36 0.196650458542\n",
      "[(3, 0.068000000000000005), (7, 0.14323339290505094), (36, 0.72609994042828274)]\n",
      "ag_1973.11.20_doc_VI-75 36 0.725978313008\n",
      "[(3, 0.75655064086215906), (7, 0.16344935913784245)]\n",
      "d_1974.04.23_doc_XXXII-8 7 0.162419385224\n",
      "[(3, 0.81177208746132345), (7, 0.15601219071071712), (36, 0.030049823210449585)]\n",
      "d_1974.03.26_doc_XXXII-32 36 0.0300513188816\n",
      "[(3, 0.81942653401341525), (7, 0.174253366815973)]\n",
      "d_1974.03.26_doc_XXII-9 7 0.174253373038\n"
     ]
    }
   ],
   "source": [
    "count = 0\n",
    "#percentil = int(len(cursor.rowcount/100)\n",
    "\n",
    "pass_sshkey = getpass.getpass()\n",
    "pass_mysql = getpass.getpass()\n",
    "with SSHTunnelForwarder(('200.20.164.147', 22),\n",
    "                        ssh_private_key = \"C:/Users/marcelo.ribeiro/Dropbox/A-Marcelo/Educação-Trabalho/2016-CPDOC/Remoto/marcelo_priv_rsa\",\n",
    "                        #ssh_private_key = '/home/rsouza/.ssh/id_rsa',\n",
    "                        ssh_private_key_password = pass_sshkey,\n",
    "                        ssh_username=\"marcelobribeiro\",\n",
    "                        #ssh_username=\"rsouza\",\n",
    "                        remote_bind_address=('127.0.0.1', 3306)) as server:\n",
    "    \n",
    "    conn = pymysql.connect(host='localhost', \n",
    "                           port=server.local_bind_port, \n",
    "                           user='marcelobribeiro', \n",
    "                           #user='rsouza',\n",
    "                           passwd=pass_mysql,\n",
    "                           db='CPDOC_AS',\n",
    "                           use_unicode=True, \n",
    "                           charset=\"utf8\")\n",
    "    cur = conn.cursor()\n",
    "    '''''''''''''''''''''''''''''''''''''''''''''''''''''''''''''''''''''''''''''\n",
    "    insere dados na base mysql\n",
    "    captura documentos da tabela docs, transfere para a tabela topic-doc e insere dados de tópicos\n",
    "    '''''''''''''''''''''''''''''''''''''''''''''''''''''''''''''''''''''''''''''\n",
    "    \n",
    "    cur.execute(\"DROP TABLE IF EXISTS topic_doc_lang_filter\")\n",
    "    cur.execute('''CREATE TABLE IF NOT EXISTS topic_doc_lang_filter \n",
    "               (doc_id VARCHAR(31), topic_id smallint(6), topic_score FLOAT\n",
    "               DEFAULT NULL)\n",
    "               ENGINE=MyISAM DEFAULT CHARSET='utf8';''')\n",
    "\n",
    "    cur.execute(\"SELECT id,body FROM CPDOC_AS.docs\")\n",
    "    data = cur.fetchall()\n",
    "    for row in data:\n",
    "        count += 1 # for break event\n",
    "        if row is None: break\n",
    "        text =  row[1]\n",
    "        text = text.split()\n",
    "        text_bow = dictionary.doc2bow(text)\n",
    "        print(lda[text_bow])\n",
    "        score_list = lda[text_bow]\n",
    "        doc_id = row[0]\n",
    "        for score in score_list:\n",
    "            topic_id = str(score[0])\n",
    "            topic_score = str(score[1])\n",
    "            query = \"INSERT INTO topic_doc_lang_filter VALUES (%s, %s, %s)\"\n",
    "            cur.execute(query, (doc_id, topic_id, topic_score))\n",
    "        print(doc_id, topic_id, topic_score)   \n",
    "        cur.execute(\"ALTER TABLE CPDOC_AS.topic_doc_lang_filter ORDER BY topic_id ASC, topic_score DESC\")\n",
    "        \n",
    "        #if count == 10: break #amostra de apenas 10 linhas"
   ]
  },
  {
   "cell_type": "markdown",
   "metadata": {},
   "source": [
    "#### Visualizando os tópicos com o PyLDAvis"
   ]
  },
  {
   "cell_type": "code",
   "execution_count": null,
   "metadata": {
    "collapsed": true
   },
   "outputs": [],
   "source": [
    "# https://cran.r-project.org/web/packages/LDAvis/vignettes/details.pdf\n",
    "pyLDAvis.enable_notebook()\n",
    "pyLDAvis.gensim.prepare(lda, corpus, dictionary)"
   ]
  },
  {
   "cell_type": "code",
   "execution_count": null,
   "metadata": {
    "collapsed": true
   },
   "outputs": [],
   "source": [
    "data_ldavis = pyLDAvis.gensim.prepare(lda, corpus, dictionary)\n",
    "pyLDAvis.save_html(data_ldavis, os.path.join(outputs,'pyldavis_langfilter_output.html'))"
   ]
  },
  {
   "cell_type": "code",
   "execution_count": null,
   "metadata": {
    "collapsed": true
   },
   "outputs": [],
   "source": []
  }
 ],
 "metadata": {
  "anaconda-cloud": {},
  "kernelspec": {
   "display_name": "Python [Root]",
   "language": "python",
   "name": "Python [Root]"
  },
  "language_info": {
   "codemirror_mode": {
    "name": "ipython",
    "version": 3
   },
   "file_extension": ".py",
   "mimetype": "text/x-python",
   "name": "python",
   "nbconvert_exporter": "python",
   "pygments_lexer": "ipython3",
   "version": "3.5.2"
  }
 },
 "nbformat": 4,
 "nbformat_minor": 0
}
