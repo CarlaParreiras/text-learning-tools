{
 "cells": [
  {
   "cell_type": "markdown",
   "metadata": {},
   "source": [
    "### doc_topics\n",
    "ESTABELECE RELAÇÕES ENTRE DOCUMENTOS E TÓPICOS NA BASE DE DADOS NO MYSQL. TRABALHAMOS COM O ACERVO **ANTONIO AZEREDO DA SILVEIRA, MINISTÉRIO DAS RELAÇÕES EXTERIORES**."
   ]
  },
  {
   "cell_type": "code",
   "execution_count": 3,
   "metadata": {
    "collapsed": false
   },
   "outputs": [],
   "source": [
    "import nltk\n",
    "import os\n",
    "import codecs\n",
    "import string\n",
    "import matplotlib.pyplot as plt\n",
    "import matplotlib as mpl\n",
    "from gensim import corpora, models, similarities #Latent Dirichlet Allocation implementation with Gensim\n",
    "import pyLDAvis\n",
    "import pyLDAvis.gensim\n",
    "from IPython.display import clear_output\n",
    "\n",
    "import getpass\n",
    "from sshtunnel import SSHTunnelForwarder\n",
    "import pymysql"
   ]
  },
  {
   "cell_type": "code",
   "execution_count": 4,
   "metadata": {
    "collapsed": true
   },
   "outputs": [],
   "source": [
    "outputs = \"../outputs/\""
   ]
  },
  {
   "cell_type": "code",
   "execution_count": 5,
   "metadata": {
    "collapsed": false
   },
   "outputs": [
    {
     "name": "stdout",
     "output_type": "stream",
     "text": [
      "········\n",
      "········\n"
     ]
    }
   ],
   "source": [
    "'''''''''''''''''''''''''''''''''''''''''''''''''''''''''''''''''''''''''''''\n",
    "Seleciona textos da base mysql para fazer modelagem de tópicos\n",
    "NOTA: DEIXEI EM RAW PORQUE ESSA EXTRAÇÃO TORNA O CÓDIGO MUITO LENTO, MAS DEVE SER FEITO DESSA FORMA NO CPU DO RENATO\n",
    "'''''''''''''''''''''''''''''''''''''''''''''''''''''''''''''''''''''''''''''\n",
    "count = 0\n",
    "texts = []\n",
    "pass_sshkey = getpass.getpass()\n",
    "pass_mysql = getpass.getpass()\n",
    "\n",
    "with SSHTunnelForwarder(('200.20.164.147', 22),\n",
    "                        #ssh_private_key = \"C:/Users/marcelo.ribeiro/Dropbox/A-Marcelo/Educação-Trabalho/2016-CPDOC/Remoto/marcelo_priv_rsa\",\n",
    "                        ssh_private_key = '/home/rsouza/.ssh/id_rsa',\n",
    "                        ssh_private_key_password = pass_sshkey,\n",
    "                        #ssh_username=\"marcelobribeiro\",\n",
    "                        ssh_username=\"rsouza\",\n",
    "                        remote_bind_address=('127.0.0.1', 3306)) as server:\n",
    "    \n",
    "    conn = pymysql.connect(host='localhost', \n",
    "                           port=server.local_bind_port, \n",
    "                           #user='marcelobribeiro', \n",
    "                           user='rsouza',\n",
    "                           passwd=pass_mysql,\n",
    "                           db='CPDOC_AS',\n",
    "                           use_unicode=True, \n",
    "                           charset=\"utf8\")\n",
    "    cur = conn.cursor()\n",
    "    \n",
    "    '''''''''''''''''''''''''''''''''''''''''''''''''''''''''''''''''''''''''''''\n",
    "    captura documentos da tabela docs para posterior modelagem de tópicos\n",
    "    '''''''''''''''''''''''''''''''''''''''''''''''''''''''''''''''''''''''''''''\n",
    "    cur.execute(\"SELECT * FROM CPDOC_AS.docs WHERE main_language = 1\") # seleciona apenas textos majoritariamente em português    \n",
    "    data = cur.fetchall()\n",
    "    numrows = cur.rowcount\n",
    "    percentil = numrows/100\n",
    "    \n",
    "    for row in data:\n",
    "        count += 1\n",
    "        if row is None: break\n",
    "\n",
    "        if count % percentil == 0: \n",
    "            clear_output()\n",
    "            print(int(count/percentil),'% done')\n",
    "\n",
    "        text =  row[1]\n",
    "        text = text.split()\n",
    "        symbols = [x for x in string.punctuation]\n",
    "        text = [p for p in text if p not in symbols]\n",
    "        text = [p.strip(string.punctuation) for p in text]\n",
    "        text = [p for p in text if not p.isdigit()]\n",
    "        text = [p for p in text if len(p)>1]\n",
    "        texts.append(text)\n",
    "        \n",
    "        #if count == 3: break #amostra de apenas 3 linhas. No computador do Renato, não usar o break."
   ]
  },
  {
   "cell_type": "code",
   "execution_count": 15,
   "metadata": {
    "collapsed": true
   },
   "outputs": [],
   "source": [
    "# load nltk's English stopwords as variable called 'stopwords'\n",
    "\n",
    "additional_words = ['mr','one', 'two', 'three', 'four', \n",
    "                    'five', 'um', 'dois', 'três', 'quatro', \n",
    "                    'cinco', 'janeiro', 'fevereiro', 'março', \n",
    "                    'abril', 'maio', 'junho', 'julho', 'agosto', \n",
    "                    'setembro', 'outubro', 'novembro', 'dezembro', \n",
    "                    'january', 'february', 'march', 'april', 'may', \n",
    "                    'june', 'july', 'august', 'september', \n",
    "                    'october', 'november', 'december', 'países', \n",
    "                    'ser', 'país', 'ainda', 'milhões', 'maior', \n",
    "                    'anos', 'grande', 'apenas', 'outros', 'pode', \n",
    "                    'parte', 'partes', 'item', 'vossa', 'nota', \n",
    "                    'havia', 'pt', 'vg', 'ptvg', 'eh', 'nr', 'hrs', \n",
    "                    'pais', 'parte', 'hoje', 'brasemb', 'ontem', \n",
    "                    'dia', 'countries', 'would', 'new', 'also', \n",
    "                    'must', 'draft', 'shall', 'item', 'page', \n",
    "                    'th', 'anos', 'ii', 'dias', 'poderá', 'caso', \n",
    "                    'casos', 'qualquer', 'ano', 'mil', 'pessoas', \n",
    "                    'único', 'única', 'únicos', 'únicas', 'índice', \n",
    "                    'expedido', 'co', 'mm', 'er', 'via', 'ww', 'ra', \n",
    "                    'ia', 'ca', 'nu', 'wa', 'aa', 'ms', 'dc', 'mmm', 'pa']\n",
    "\n",
    "stopwords = nltk.corpus.stopwords.words('english') + \\\n",
    "            nltk.corpus.stopwords.words('portuguese') + \\\n",
    "            nltk.corpus.stopwords.words('french') + \\\n",
    "            nltk.corpus.stopwords.words('spanish') + \\\n",
    "            additional_words\n",
    "\n",
    "stopwords = list(set(stopwords))"
   ]
  },
  {
   "cell_type": "markdown",
   "metadata": {},
   "source": [
    "### Latent Dirichlet Allocation"
   ]
  },
  {
   "cell_type": "code",
   "execution_count": 16,
   "metadata": {
    "collapsed": false
   },
   "outputs": [
    {
     "name": "stdout",
     "output_type": "stream",
     "text": [
      "CPU times: user 1min 22s, sys: 0 ns, total: 1min 22s\n",
      "Wall time: 1min 22s\n"
     ]
    }
   ],
   "source": [
    "#%time texts = [[word for word in text] for text in texts]\n",
    "%time texts = [[word for word in text if word not in stopwords] for text in texts]"
   ]
  },
  {
   "cell_type": "code",
   "execution_count": 17,
   "metadata": {
    "collapsed": false
   },
   "outputs": [
    {
     "name": "stdout",
     "output_type": "stream",
     "text": [
      "125\n"
     ]
    }
   ],
   "source": [
    "#print(len([word for word in texts[0] if word not in stopwords]))\n",
    "print(len(texts[0]))"
   ]
  },
  {
   "cell_type": "code",
   "execution_count": 18,
   "metadata": {
    "collapsed": false
   },
   "outputs": [],
   "source": [
    "dictionary = corpora.Dictionary(texts)\n",
    "dictionary.filter_extremes(no_below=1, no_above=0.8)\n",
    "#print(dictionary.token2id['']) #examina o id a partir do token\n",
    "#print(dictionary.id2token[0]) #examina o token a partir do id\n",
    "dictionary.filter_tokens(bad_ids=[0,]) #retira palavras a partir do id\n",
    "corpus = [dictionary.doc2bow(text) for text in texts]"
   ]
  },
  {
   "cell_type": "code",
   "execution_count": 19,
   "metadata": {
    "collapsed": false
   },
   "outputs": [
    {
     "data": {
      "text/plain": [
       "9083"
      ]
     },
     "execution_count": 19,
     "metadata": {},
     "output_type": "execute_result"
    }
   ],
   "source": [
    "len(corpus)"
   ]
  },
  {
   "cell_type": "code",
   "execution_count": 20,
   "metadata": {
    "collapsed": false
   },
   "outputs": [
    {
     "name": "stdout",
     "output_type": "stream",
     "text": [
      "CPU times: user 1h 9min 32s, sys: 5h 33min 34s, total: 6h 43min 7s\n",
      "Wall time: 23min 24s\n"
     ]
    }
   ],
   "source": [
    "%time lda = models.LdaModel(corpus, num_topics=50, id2word=dictionary, passes=10)"
   ]
  },
  {
   "cell_type": "code",
   "execution_count": 21,
   "metadata": {
    "collapsed": false
   },
   "outputs": [
    {
     "data": {
      "text/plain": [
       "[(0,\n",
       "  '0.177*petróleo + 0.072*saudita + 0.049*iraque + 0.039*arábia + 0.036*irã + 0.031*opep + 0.025*petrobras + 0.025*coveite + 0.021*petrobrás + 0.016*teerã + 0.015*iran + 0.013*barris + 0.012*arabia + 0.011*companhias + 0.010*pemex + 0.010*iraniano + 0.009*iraniana + 0.008*nioc + 0.008*compra + 0.007*oil'),\n",
       " (1,\n",
       "  '0.027*acordo + 0.021*governo + 0.019*militar + 0.013*segurança + 0.010*material + 0.008*assistência + 0.007*república + 0.007*marinha + 0.007*forças + 0.007*nacional + 0.007*ministério + 0.007*presente + 0.006*brasil + 0.006*motivos + 0.006*governos + 0.006*excelência + 0.006*exército + 0.006*armadas + 0.006*militares + 0.006*unidos'),\n",
       " (2,\n",
       "  '0.072*der + 0.042*die + 0.039*und + 0.018*sie + 0.017*den + 0.016*zu + 0.015*auf + 0.013*von + 0.009*issct + 0.009*ich + 0.009*beide + 0.008*alemanha + 0.008*federal + 0.008*mit + 0.007*brasilien + 0.007*zwischen + 0.006*im + 0.006*dem + 0.006*fúr + 0.005*xvi'),\n",
       " (3,\n",
       "  '0.019*governo + 0.013*argentina + 0.011*brasileiro + 0.010*tratado + 0.010*brasil + 0.010*relações + 0.008*reunião + 0.008*exteriores + 0.007*respeito + 0.007*assunto + 0.006*posição + 0.006*excelência + 0.005*embaixador + 0.005*argentino + 0.005*acordo + 0.005*proposta + 0.004*prata + 0.004*brasileira + 0.004*bacia + 0.004*poderia'),\n",
       " (4,\n",
       "  '0.036*transporte + 0.016*terrestre + 0.013*dg + 0.011*transito + 0.010*freteiros + 0.010*tráfego + 0.008*trânsito + 0.008*empresas + 0.007*justa + 0.007*dner + 0.007*túnel + 0.006*qe + 0.006*tunel + 0.006*dd + 0.005*gs + 0.005*saum + 0.005*cuevas-caracoles + 0.005*nn + 0.004*db + 0.004*cgh'),\n",
       " (5,\n",
       "  '0.017*ministro + 0.016*silveira + 0.011*rio + 0.010*embaixador + 0.010*senhor + 0.010*azeredo + 0.009*antonio + 0.009*exteriores + 0.007*sr + 0.007*relações + 0.007*paulo + 0.006*particular + 0.006*telegrama + 0.005*brasilia + 0.005*amigo + 0.005*nome + 0.005*votos + 0.004*df + 0.004*afetuoso + 0.004*excelência'),\n",
       " (6,\n",
       "  '0.064*silveira + 0.049*buenos + 0.049*azeredo + 0.047*aires + 0.044*zczc + 0.038*antonio + 0.029*telegrama + 0.019*nnnn + 0.019*minuta + 0.012*exterior + 0.012*distribuição + 0.012*souto + 0.011*lt + 0.010*vieira + 0.010*col + 0.010*amigo + 0.010*generosas + 0.009*agradeço + 0.008*amigos + 0.008*autorizo'),\n",
       " (7,\n",
       "  '0.022*mobral + 0.012*leve + 0.009*responsável + 0.009*analfabeto + 0.008*gb + 0.006*tactics + 0.006*ball + 0.005*pentagono + 0.005*warnke + 0.005*voce + 0.004*nazareth + 0.004*revealed + 0.004*neo-colonialismo + 0.004*desestabilizacao + 0.004*paul + 0.004*carinhoso + 0.004*olinda + 0.004*johnson + 0.004*macs + 0.004*gelb'),\n",
       " (8,\n",
       "  '0.036*itaipu + 0.025*corpus + 0.020*rio + 0.018*paraguai + 0.013*cota + 0.009*operação + 0.008*energia + 0.007*argentina + 0.006*paraguaio + 0.006*assunção + 0.006*construção + 0.005*obras + 0.005*brasil + 0.005*navegação + 0.005*paraná + 0.004*nível + 0.004*barragem + 0.004*paranã + 0.004*trecho + 0.004*engenheiro'),\n",
       " (9,\n",
       "  '0.091*áfrica + 0.068*angola + 0.045*sul + 0.029*costa + 0.027*africanos + 0.025*marfim + 0.023*moçambique + 0.022*zaire + 0.021*senegal + 0.020*africano + 0.020*embaixada + 0.018*luanda + 0.015*independência + 0.014*dacar + 0.013*nigéria + 0.012*situação + 0.011*africana + 0.011*representação + 0.011*zâmbia + 0.009*africanas'),\n",
       " (10,\n",
       "  '0.030*brasil + 0.019*cooperação + 0.012*relações + 0.010*acordo + 0.009*ministro + 0.007*comércio + 0.006*comercial + 0.006*desenvolvimento + 0.005*governo + 0.005*brasileiro + 0.005*interesse + 0.005*brasileira + 0.005*visita + 0.005*técnica + 0.005*intercâmbio + 0.004*econômica + 0.004*comissão + 0.004*república + 0.004*projetos + 0.004*brasileiras'),\n",
       " (11,\n",
       "  '0.038*hh + 0.006*hhh + 0.005*hehe + 0.005*hest + 0.005*sthtes + 0.004*diá + 0.004*bh + 0.004*adidas + 0.004*thht + 0.004*hse + 0.004*ilumine + 0.004*ih + 0.004*ieh + 0.004*hd + 0.004*hiroshi + 0.004*neil + 0.003*macans + 0.003*hhd + 0.003*hhs + 0.003*hsh'),\n",
       " (12,\n",
       "  '0.016*us + 0.009*mercado + 0.009*exportações + 0.009*preços + 0.009*produtos + 0.007*importações + 0.007*total + 0.007*brasil + 0.006*café + 0.006*produção + 0.006*valor + 0.005*exportação + 0.005*dólares + 0.005*período + 0.005*investimentos + 0.005*economia + 0.005*bilhões + 0.005*aumento + 0.004*produto + 0.004*comercial'),\n",
       " (13,\n",
       "  '0.030*argentina + 0.019*gobierno + 0.018*buenos + 0.015*brasil + 0.015*aires + 0.013*paraguay + 0.012*relaciones + 0.011*acuerdo + 0.008*argentino + 0.008*desarrollo + 0.008*prata + 0.008*reunion + 0.007*respecto + 0.007*senor + 0.007*mayor + 0.007*si + 0.006*puede + 0.006*uruguay + 0.006*gobiernos + 0.005*debe'),\n",
       " (14,\n",
       "  '0.007*ãe + 0.006*ão + 0.006*ar + 0.005*cl + 0.005*mw + 0.005*dr + 0.004*ae + 0.004*lu + 0.004*uu + 0.004*mu + 0.004*cc + 0.004*cr + 0.004*ln + 0.004*dn + 0.004*brasil + 0.004*rr + 0.004*rio + 0.003*ea + 0.003*ue + 0.003*cm'),\n",
       " (15,\n",
       "  '0.029*telegrama + 0.012*minuta + 0.010*chanceler + 0.007*página + 0.007*recebido + 0.006*brasil + 0.005*serie + 0.005*continuação + 0.005*distribuição + 0.004*reunião + 0.004*retransmito + 0.004*data + 0.004*número + 0.003*autorizo + 0.003*argentina + 0.003*caráter + 0.003*imprensa + 0.003*assunto + 0.003*governo + 0.002*delegação'),\n",
       " (16,\n",
       "  '0.071*japão + 0.025*japonês + 0.022*china + 0.020*tóquio + 0.020*japonesa + 0.014*japoneses + 0.009*governo + 0.009*pequim + 0.008*popular + 0.008*coreia + 0.008*relações + 0.008*ministro + 0.007*japan + 0.007*rpc + 0.005*primeiro + 0.005*lado + 0.005*chinesa + 0.005*fukuda + 0.005*política + 0.005*japonesas'),\n",
       " (17,\n",
       "  '0.115*portugal + 0.052*portuguesa + 0.051*português + 0.051*lisboa + 0.030*soares + 0.026*governo + 0.025*portugueses + 0.017*verde + 0.017*guiné-bissau + 0.016*cabo + 0.014*mario + 0.013*estrangeiros + 0.011*bissau + 0.011*negócios + 0.011*portuguesas + 0.010*fontoura + 0.010*cultural + 0.009*língua + 0.009*moçambique + 0.007*primeiro'),\n",
       " (18,\n",
       "  '0.027*embaixador + 0.026*presidente + 0.026*senhor + 0.025*informação + 0.025*secreto + 0.023*brasil + 0.023*lembrete + 0.020*relações + 0.018*república + 0.016*ministro + 0.016*visita + 0.011*exteriores + 0.011*confidencial + 0.010*embaixada + 0.009*governo + 0.008*missão + 0.008*convite + 0.008*brasília + 0.007*despacho + 0.006*chefe'),\n",
       " (19,\n",
       "  '0.015*brasil + 0.012*chanceler + 0.006*silveira + 0.006*ministro + 0.005*presidente + 0.005*global + 0.005*governo + 0.004*exteriores + 0.004*imprensa + 0.004*jornal + 0.004*onu + 0.004*brasileiro + 0.004*azeredo + 0.004*segundo + 0.004*serie + 0.003*brasilia + 0.003*brasileira + 0.003*www + 0.003*disse + 0.003*nova'),\n",
       " (20,\n",
       "  '0.013*brasil + 0.010*brasileiro + 0.009*relações + 0.009*exteriores + 0.009*ministério + 0.007*departamento + 0.007*passaporte + 0.006*visto + 0.006*embaixada + 0.006*justiça + 0.005*serviço + 0.005*exterior + 0.005*concessão + 0.005*consular + 0.005*autoridades + 0.005*governo + 0.004*secretaria + 0.004*pedido + 0.004*chefe + 0.004*viagem'),\n",
       " (21,\n",
       "  '0.120*global + 0.097*communications + 0.064*uau + 0.058*york + 0.054*delbrasonu + 0.048*exteriores + 0.043*ministro + 0.041*nova + 0.035*serie + 0.028*chanceler + 0.025*retransmito + 0.023*retransmissão + 0.019*telegrama + 0.017*senhor + 0.016*bsb + 0.015*recebido + 0.015*conhecimento + 0.010*onu + 0.010*eq0|9 + 0.009*suogeogunwwoo'),\n",
       " (22,\n",
       "  '0.066*presidente + 0.035*visita + 0.033*geisel + 0.013*república + 0.013*ministro + 0.010*oficial + 0.008*horas + 0.008*hs + 0.007*senhora + 0.007*comitiva + 0.007*unido + 0.007*chegada + 0.007*programa + 0.006*reino + 0.006*ernesto + 0.006*londres + 0.006*excelência + 0.006*senhor + 0.006*viagem + 0.005*chefe'),\n",
       " (23,\n",
       "  \"0.009*elogiosa + 0.004*manifestacion + 0.004*mapai + 0.004*fargo + 0.004*factory + 0.004*site + 0.004*dry + 0.003*valdes + 0.003*cancelando + 0.003*secneto + 0.003*sankau + 0.003*gas + 0.003*srasileira + 0.002*mace + 0.002*rodesianas + 0.002*literature + 0.002*montaria + 0.002*alexander + 0.002*9'de + 0.002*paraguaz\"),\n",
       " (24,\n",
       "  '0.014*comissão + 0.013*geral + 0.012*unidas + 0.012*projeto + 0.012*resolução + 0.012*assembleia + 0.010*nações + 0.009*brasil + 0.008*delegação + 0.007*sessão + 0.007*votos + 0.007*grupo + 0.007*relatório + 0.006*conselho + 0.006*comitê + 0.006*conferência + 0.004*favor + 0.004*membros + 0.004*internacional + 0.004*questão'),\n",
       " (25,\n",
       "  '0.022*desenvolvimento + 0.011*unidos + 0.010*brasil + 0.009*internacional + 0.007*nuclear + 0.007*nucleares + 0.006*tecnologia + 0.006*negociações + 0.006*energia + 0.006*armas + 0.005*desenvolvidos + 0.005*medidas + 0.005*tratado + 0.005*comércio + 0.004*produtos + 0.004*acordo + 0.004*internacionais + 0.004*sistema + 0.004*cooperação + 0.004*conferência'),\n",
       " (26,\n",
       "  '0.009*25/9/74 + 0.008*egberto + 0.005*em/25/9/74 + 0.005*garater + 0.005*gems + 0.003*textó + 0.003*uekí + 0.003*ortes + 0.003*desvalido + 0.003*úc + 0.003*gleba + 0.003*frustrar-se + 0.003*presado + 0.003*ilé + 0.003*wlaoõ + 0.003*superveniência + 0.002*precí + 0.002*tmo + 0.002*classilicacão + 0.002*23/01/79'),\n",
       " (27,\n",
       "  \"0.047*frança + 0.035*francesa + 0.020*francês + 0.017*paris + 0.014*carrasco + 0.013*france + 0.011*d'estaing + 0.010*giscard + 0.009*franceses + 0.008*brasil + 0.006*francesas + 0.006*van + 0.005*part + 0.005*barre + 0.005*sauvagnargues + 0.005*faire + 0.004*qq + 0.004*brésil + 0.004*flávia + 0.004*carta\"),\n",
       " (28,\n",
       "  '0.007*brasil + 0.005*exteriores + 0.004*serie + 0.004*recebido + 0.004*chanceler + 0.003*paris + 0.002*telegrama + 0.002*política + 0.002*confidencial + 0.002*ministro + 0.002*secretario + 0.002*governo + 0.002*africa + 0.002*silveira + 0.002*Kissinger + 0.002*pagina + 0.002*comercio + 0.002*sob + 0.002*visita + 0.002*embaixada'),\n",
       " (29,\n",
       "  '0.018*soviética + 0.014*política + 0.011*internacional + 0.011*poder + 0.010*urss + 0.010*brzezinski + 0.008*sistema + 0.008*união + 0.007*europa + 0.007*mundo + 0.007*soviéticos + 0.006*externa + 0.006*professor + 0.006*international + 0.005*soviético + 0.005*détente + 0.005*guerra + 0.005*global + 0.004*nações + 0.004*estrutura'),\n",
       " (30,\n",
       "  '0.012*orleans + 0.011*brizzola + 0.009*nnoc + 0.009*leonel + 0.005*hifem + 0.005*nigeriano + 0.004*úo + 0.004*brbr + 0.004*zézc + 0.003*chancéleres + 0.003*claudío + 0.003*suicos + 0.003*ressoal + 0.003*brigadier + 0.003*f-o + 0.003*dps + 0.003*viejo + 0.003*ministqo + 0.002*y-4 + 0.002*instalassem'),\n",
       " (31,\n",
       "  '0.007*nacional + 0.004*área + 0.003*mar + 0.003*recursos + 0.003*etc + 0.003*sr + 0.003*região + 0.003*direito + 0.003*rio + 0.003*regime + 0.003*trabalho + 0.003*comissão + 0.003*congresso + 0.002*população + 0.002*então + 0.002*além + 0.002*federal + 0.002*zona + 0.002*sendo + 0.002*gerais'),\n",
       " (32,\n",
       "  '0.053*senhor + 0.035*ministro + 0.028*embaixador + 0.025*senhora + 0.016*recebe + 0.014*república + 0.011*presidente + 0.010*agenda + 0.009*excelências + 0.009*excelência + 0.008*brasília + 0.008*local + 0.008*palácio + 0.007*paulo + 0.007*chefe + 0.007*almoço + 0.006*exteriores + 0.006*relações + 0.006*hs + 0.006*sr'),\n",
       " (33,\n",
       "  '0.008*governo + 0.008*secreto + 0.008*ordem + 0.007*recebido + 0.007*confidencial + 0.007*classificação + 0.007*alterada + 0.006*reservado + 0.006*ostensivo + 0.006*decreto + 0.004*chile + 0.004*presidente + 0.004*brasil + 0.004*chefe + 0.004*telegrama + 0.004*general + 0.003*excelência + 0.003*geral + 0.003*peru + 0.003*tel'),\n",
       " (34,\n",
       "  '0.070*pesca + 0.040*eanes + 0.036*barcos + 0.025*ramalho + 0.013*station + 0.010*camarão + 0.009*fishing + 0.009*embarcação + 0.008*cpdoc + 0.008*sudepe + 0.007*shrimp + 0.007*embarcações + 0.006*vessels + 0.006*código + 0.006*vessel + 0.006*aas + 0.006*mre/vp + 0.006*territorial + 0.005*18/8/76 + 0.005*religiosas'),\n",
       " (35,\n",
       "  '0.017*excellences + 0.015*canadá + 0.011*leave + 0.011*mrs + 0.010*palace + 0.009*arrive + 0.008*canadense + 0.008*minister + 0.008*senhor + 0.007*carro + 0.007*place + 0.007*ltd + 0.007*excellency + 0.007*jamieson + 0.006*president + 0.006*secretary + 0.006*state + 0.006*tokyo + 0.006*affairs + 0.006*américa'),\n",
       " (36,\n",
       "  '0.035*uruguai + 0.017*obras + 0.014*lagoa + 0.012*mirim + 0.011*protocolo + 0.008*montevidéu + 0.008*comuns + 0.008*uruguaia + 0.008*bacia + 0.007*comissão + 0.006*clm + 0.006*jaguarão + 0.005*cada + 0.005*atos + 0.005*mista + 0.005*mendez + 0.005*ambos + 0.004*uruguaios + 0.004*governos + 0.003*lopez'),\n",
       " (37,\n",
       "  '0.014*artículo + 0.007*comité + 0.006*civil + 0.006*protocolo + 0.006*cn + 0.006*di + 0.005*presente + 0.005*cruz + 0.004*director + 0.004*guerra + 0.004*imigrantes + 0.004*josé + 0.004*ssee + 0.004*personas + 0.003*lc + 0.003*internacional + 0.003*hospital + 0.003*conseil + 0.003*repatriados + 0.003*así'),\n",
       " (38,\n",
       "  '0.016*acento + 0.013*laissez-passer + 0.011*empreiteira + 0.008*granadas + 0.008*nora + 0.007*para-militar + 0.007*retransferência + 0.006*holiday + 0.006*riogb + 0.005*dotel + 0.005*usivo + 0.005*osvaldo + 0.004*senhon + 0.004*correo + 0.004*úmero + 0.003*subalternos + 0.003*partícular + 0.003*angeles + 0.003*nepomuceno + 0.003*pç'),\n",
       " (39,\n",
       "  '0.012*ministério + 0.007*nacional + 0.007*brasil + 0.006*projeto + 0.006*relações + 0.006*exteriores + 0.006*atividades + 0.005*recursos + 0.005*trabalho + 0.005*itamaraty + 0.005*grupo + 0.005*brasileira + 0.004*programa + 0.004*governo + 0.004*informação + 0.004*desenvolvimento + 0.004*secretaria + 0.004*órgãos + 0.004*estudos + 0.003*participação'),\n",
       " (40,\n",
       "  '0.110*sra + 0.010*javits + 0.007*atenciosa + 0.006*udp + 0.005*vehezuela + 0.005*jacob + 0.004*1.97 + 0.004*acarretado + 0.004*icn + 0.004*gá + 0.004*ward + 0.004*17,4 + 0.003*shale + 0.003*susana + 0.003*m7 + 0.003*camp + 0.003*l/j + 0.003*alcançasse + 0.003*celebration + 0.003*enquadrava'),\n",
       " (41,\n",
       "  \"0.053*monsieur + 0.034*madame + 0.032*leurs + 0.020*pays + 0.020*république + 0.019*excellence + 0.018*ie + 0.018*ministre + 0.013*brésil + 0.013*tenue + 0.013*plus + 0.012*president + 0.011*cette + 0.010*président + 0.009*deux + 0.009*relations + 0.009*visite + 0.009*d'une + 0.009*gouvernement + 0.007*chef\"),\n",
       " (42,\n",
       "  '0.025*nuclear + 0.020*carter + 0.017*brasil + 0.015*acordo + 0.014*eua + 0.013*governo + 0.010*energia + 0.010*presidente + 0.009*unidos + 0.007*vance + 0.007*urânio + 0.007*alemanha + 0.006*washington + 0.006*norte-americano + 0.006*nucleares + 0.006*rfa + 0.006*disse + 0.005*norte-americana + 0.005*secretário + 0.005*bonn'),\n",
       " (43,\n",
       "  '0.012*brasil + 0.008*política + 0.008*relações + 0.005*governo + 0.004*internacional + 0.004*desenvolvimento + 0.004*mundo + 0.004*nações + 0.003*interesses + 0.003*problemas + 0.003*presidente + 0.003*assim + 0.003*externa + 0.003*cooperação + 0.003*sempre + 0.003*cada + 0.002*forma + 0.002*pois + 0.002*plano + 0.002*quanto'),\n",
       " (44,\n",
       "  '0.013*united + 0.012*states + 0.012*brazil + 0.011*government + 0.007*international + 0.005*brazilian + 0.005*economic + 0.005*agreement + 0.005*nations + 0.005*relations + 0.005*unidos + 0.005*minister + 0.005*development + 0.005*national + 0.004*foreign + 0.004*world + 0.004*state + 0.004*us + 0.004*republic + 0.004*governments'),\n",
       " (45,\n",
       "  '0.038*artigo + 0.022*art + 0.011*lei + 0.009*parágrafo + 0.008*membros + 0.007*federal + 0.007*conselho + 0.007*direito + 0.006*presente + 0.006*cada + 0.006*contratantes + 0.006*república + 0.005*vigor + 0.005*prazo + 0.004*disposições + 0.004*mediante + 0.004*presidente + 0.004*iii + 0.004*deste + 0.004*estrangeiro'),\n",
       " (46,\n",
       "  '0.023*oea + 0.021*unidos + 0.019*cuba + 0.015*latina + 0.015*direitos + 0.014*humanos + 0.014*américa + 0.013*reunião + 0.012*venezuela + 0.010*panamá + 0.010*americanos + 0.009*canal + 0.008*sistema + 0.007*carta + 0.007*consulta + 0.007*latino-americanos + 0.007*Kissinger + 0.007*posição + 0.007*rica + 0.007*costa'),\n",
       " (47,\n",
       "  '0.137*excelência + 0.076*senhor + 0.043*ministro + 0.026*república + 0.023*oportunidade + 0.018*relações + 0.018*protestos + 0.017*alta + 0.016*honra + 0.016*consideração + 0.016*exteriores + 0.014*aproveito + 0.013*presidente + 0.012*estima + 0.012*azeredo + 0.011*renovar + 0.010*antonio + 0.010*silveira + 0.009*excelentíssimo + 0.009*brasília'),\n",
       " (48,\n",
       "  '0.015*gaza + 0.014*itália + 0.010*rumor + 0.008*leone + 0.007*condecoracao + 0.006*leqole + 0.006*lmu + 0.005*lelegram + 0.005*suoneogunwwog + 0.005*comandante-em-chefe + 0.005*ká + 0.004*neutralizada + 0.004*pautou + 0.004*eqols + 0.004*ernacional + 0.004*ieq + 0.004*24/9/74 + 0.004*ramas + 0.004*zte + 0.004*rodizio'),\n",
       " (49,\n",
       "  '0.066*guiana + 0.024*fronteira + 0.016*georgetown + 0.012*guianense + 0.011*burnham + 0.011*venezuela + 0.011*trinidad + 0.010*tobago + 0.007*cubanos + 0.007*guianenses + 0.007*fronteiras + 0.006*onubrms + 0.006*wills + 0.005*relações + 0.005*tropas + 0.005*ilha + 0.005*nascimento + 0.005*jagan + 0.004*respeito + 0.004*ministro')]"
      ]
     },
     "execution_count": 21,
     "metadata": {},
     "output_type": "execute_result"
    }
   ],
   "source": [
    "lda.print_topics(-1, num_words=20)"
   ]
  },
  {
   "cell_type": "code",
   "execution_count": 22,
   "metadata": {
    "collapsed": false
   },
   "outputs": [
    {
     "data": {
      "text/plain": [
       "[(0,\n",
       "  '0.177*petróleo + 0.072*saudita + 0.049*iraque + 0.039*arábia + 0.036*irã + 0.031*opep + 0.025*petrobras + 0.025*coveite + 0.021*petrobrás + 0.016*teerã'),\n",
       " (1,\n",
       "  '0.027*acordo + 0.021*governo + 0.019*militar + 0.013*segurança + 0.010*material + 0.008*assistência + 0.007*república + 0.007*marinha + 0.007*forças + 0.007*nacional'),\n",
       " (2,\n",
       "  '0.072*der + 0.042*die + 0.039*und + 0.018*sie + 0.017*den + 0.016*zu + 0.015*auf + 0.013*von + 0.009*issct + 0.009*ich'),\n",
       " (3,\n",
       "  '0.019*governo + 0.013*argentina + 0.011*brasileiro + 0.010*tratado + 0.010*brasil + 0.010*relações + 0.008*reunião + 0.008*exteriores + 0.007*respeito + 0.007*assunto'),\n",
       " (4,\n",
       "  '0.036*transporte + 0.016*terrestre + 0.013*dg + 0.011*transito + 0.010*freteiros + 0.010*tráfego + 0.008*trânsito + 0.008*empresas + 0.007*justa + 0.007*dner'),\n",
       " (5,\n",
       "  '0.017*ministro + 0.016*silveira + 0.011*rio + 0.010*embaixador + 0.010*senhor + 0.010*azeredo + 0.009*antonio + 0.009*exteriores + 0.007*sr + 0.007*relações'),\n",
       " (6,\n",
       "  '0.064*silveira + 0.049*buenos + 0.049*azeredo + 0.047*aires + 0.044*zczc + 0.038*antonio + 0.029*telegrama + 0.019*nnnn + 0.019*minuta + 0.012*exterior'),\n",
       " (7,\n",
       "  '0.022*mobral + 0.012*leve + 0.009*responsável + 0.009*analfabeto + 0.008*gb + 0.006*tactics + 0.006*ball + 0.005*pentagono + 0.005*warnke + 0.005*voce'),\n",
       " (8,\n",
       "  '0.036*itaipu + 0.025*corpus + 0.020*rio + 0.018*paraguai + 0.013*cota + 0.009*operação + 0.008*energia + 0.007*argentina + 0.006*paraguaio + 0.006*assunção'),\n",
       " (9,\n",
       "  '0.091*áfrica + 0.068*angola + 0.045*sul + 0.029*costa + 0.027*africanos + 0.025*marfim + 0.023*moçambique + 0.022*zaire + 0.021*senegal + 0.020*africano'),\n",
       " (10,\n",
       "  '0.030*brasil + 0.019*cooperação + 0.012*relações + 0.010*acordo + 0.009*ministro + 0.007*comércio + 0.006*comercial + 0.006*desenvolvimento + 0.005*governo + 0.005*brasileiro'),\n",
       " (11,\n",
       "  '0.038*hh + 0.006*hhh + 0.005*hehe + 0.005*hest + 0.005*sthtes + 0.004*diá + 0.004*bh + 0.004*adidas + 0.004*thht + 0.004*hse'),\n",
       " (12,\n",
       "  '0.016*us + 0.009*mercado + 0.009*exportações + 0.009*preços + 0.009*produtos + 0.007*importações + 0.007*total + 0.007*brasil + 0.006*café + 0.006*produção'),\n",
       " (13,\n",
       "  '0.030*argentina + 0.019*gobierno + 0.018*buenos + 0.015*brasil + 0.015*aires + 0.013*paraguay + 0.012*relaciones + 0.011*acuerdo + 0.008*argentino + 0.008*desarrollo'),\n",
       " (14,\n",
       "  '0.007*ãe + 0.006*ão + 0.006*ar + 0.005*cl + 0.005*mw + 0.005*dr + 0.004*ae + 0.004*lu + 0.004*uu + 0.004*mu'),\n",
       " (15,\n",
       "  '0.029*telegrama + 0.012*minuta + 0.010*chanceler + 0.007*página + 0.007*recebido + 0.006*brasil + 0.005*serie + 0.005*continuação + 0.005*distribuição + 0.004*reunião'),\n",
       " (16,\n",
       "  '0.071*japão + 0.025*japonês + 0.022*china + 0.020*tóquio + 0.020*japonesa + 0.014*japoneses + 0.009*governo + 0.009*pequim + 0.008*popular + 0.008*coreia'),\n",
       " (17,\n",
       "  '0.115*portugal + 0.052*portuguesa + 0.051*português + 0.051*lisboa + 0.030*soares + 0.026*governo + 0.025*portugueses + 0.017*verde + 0.017*guiné-bissau + 0.016*cabo'),\n",
       " (18,\n",
       "  '0.027*embaixador + 0.026*presidente + 0.026*senhor + 0.025*informação + 0.025*secreto + 0.023*brasil + 0.023*lembrete + 0.020*relações + 0.018*república + 0.016*ministro'),\n",
       " (19,\n",
       "  '0.015*brasil + 0.012*chanceler + 0.006*silveira + 0.006*ministro + 0.005*presidente + 0.005*global + 0.005*governo + 0.004*exteriores + 0.004*imprensa + 0.004*jornal'),\n",
       " (20,\n",
       "  '0.013*brasil + 0.010*brasileiro + 0.009*relações + 0.009*exteriores + 0.009*ministério + 0.007*departamento + 0.007*passaporte + 0.006*visto + 0.006*embaixada + 0.006*justiça'),\n",
       " (21,\n",
       "  '0.120*global + 0.097*communications + 0.064*uau + 0.058*york + 0.054*delbrasonu + 0.048*exteriores + 0.043*ministro + 0.041*nova + 0.035*serie + 0.028*chanceler'),\n",
       " (22,\n",
       "  '0.066*presidente + 0.035*visita + 0.033*geisel + 0.013*república + 0.013*ministro + 0.010*oficial + 0.008*horas + 0.008*hs + 0.007*senhora + 0.007*comitiva'),\n",
       " (23,\n",
       "  '0.009*elogiosa + 0.004*manifestacion + 0.004*mapai + 0.004*fargo + 0.004*factory + 0.004*site + 0.004*dry + 0.003*valdes + 0.003*cancelando + 0.003*secneto'),\n",
       " (24,\n",
       "  '0.014*comissão + 0.013*geral + 0.012*unidas + 0.012*projeto + 0.012*resolução + 0.012*assembleia + 0.010*nações + 0.009*brasil + 0.008*delegação + 0.007*sessão'),\n",
       " (25,\n",
       "  '0.022*desenvolvimento + 0.011*unidos + 0.010*brasil + 0.009*internacional + 0.007*nuclear + 0.007*nucleares + 0.006*tecnologia + 0.006*negociações + 0.006*energia + 0.006*armas'),\n",
       " (26,\n",
       "  '0.009*25/9/74 + 0.008*egberto + 0.005*em/25/9/74 + 0.005*garater + 0.005*gems + 0.003*textó + 0.003*uekí + 0.003*ortes + 0.003*desvalido + 0.003*úc'),\n",
       " (27,\n",
       "  \"0.047*frança + 0.035*francesa + 0.020*francês + 0.017*paris + 0.014*carrasco + 0.013*france + 0.011*d'estaing + 0.010*giscard + 0.009*franceses + 0.008*brasil\"),\n",
       " (28,\n",
       "  '0.007*brasil + 0.005*exteriores + 0.004*serie + 0.004*recebido + 0.004*chanceler + 0.003*paris + 0.002*telegrama + 0.002*política + 0.002*confidencial + 0.002*ministro'),\n",
       " (29,\n",
       "  '0.018*soviética + 0.014*política + 0.011*internacional + 0.011*poder + 0.010*urss + 0.010*brzezinski + 0.008*sistema + 0.008*união + 0.007*europa + 0.007*mundo'),\n",
       " (30,\n",
       "  '0.012*orleans + 0.011*brizzola + 0.009*nnoc + 0.009*leonel + 0.005*hifem + 0.005*nigeriano + 0.004*úo + 0.004*brbr + 0.004*zézc + 0.003*chancéleres'),\n",
       " (31,\n",
       "  '0.007*nacional + 0.004*área + 0.003*mar + 0.003*recursos + 0.003*etc + 0.003*sr + 0.003*região + 0.003*direito + 0.003*rio + 0.003*regime'),\n",
       " (32,\n",
       "  '0.053*senhor + 0.035*ministro + 0.028*embaixador + 0.025*senhora + 0.016*recebe + 0.014*república + 0.011*presidente + 0.010*agenda + 0.009*excelências + 0.009*excelência'),\n",
       " (33,\n",
       "  '0.008*governo + 0.008*secreto + 0.008*ordem + 0.007*recebido + 0.007*confidencial + 0.007*classificação + 0.007*alterada + 0.006*reservado + 0.006*ostensivo + 0.006*decreto'),\n",
       " (34,\n",
       "  '0.070*pesca + 0.040*eanes + 0.036*barcos + 0.025*ramalho + 0.013*station + 0.010*camarão + 0.009*fishing + 0.009*embarcação + 0.008*cpdoc + 0.008*sudepe'),\n",
       " (35,\n",
       "  '0.017*excellences + 0.015*canadá + 0.011*leave + 0.011*mrs + 0.010*palace + 0.009*arrive + 0.008*canadense + 0.008*minister + 0.008*senhor + 0.007*carro'),\n",
       " (36,\n",
       "  '0.035*uruguai + 0.017*obras + 0.014*lagoa + 0.012*mirim + 0.011*protocolo + 0.008*montevidéu + 0.008*comuns + 0.008*uruguaia + 0.008*bacia + 0.007*comissão'),\n",
       " (37,\n",
       "  '0.014*artículo + 0.007*comité + 0.006*civil + 0.006*protocolo + 0.006*cn + 0.006*di + 0.005*presente + 0.005*cruz + 0.004*director + 0.004*guerra'),\n",
       " (38,\n",
       "  '0.016*acento + 0.013*laissez-passer + 0.011*empreiteira + 0.008*granadas + 0.008*nora + 0.007*para-militar + 0.007*retransferência + 0.006*holiday + 0.006*riogb + 0.005*dotel'),\n",
       " (39,\n",
       "  '0.012*ministério + 0.007*nacional + 0.007*brasil + 0.006*projeto + 0.006*relações + 0.006*exteriores + 0.006*atividades + 0.005*recursos + 0.005*trabalho + 0.005*itamaraty'),\n",
       " (40,\n",
       "  '0.110*sra + 0.010*javits + 0.007*atenciosa + 0.006*udp + 0.005*vehezuela + 0.005*jacob + 0.004*1.97 + 0.004*acarretado + 0.004*icn + 0.004*gá'),\n",
       " (41,\n",
       "  '0.053*monsieur + 0.034*madame + 0.032*leurs + 0.020*pays + 0.020*république + 0.019*excellence + 0.018*ie + 0.018*ministre + 0.013*brésil + 0.013*tenue'),\n",
       " (42,\n",
       "  '0.025*nuclear + 0.020*carter + 0.017*brasil + 0.015*acordo + 0.014*eua + 0.013*governo + 0.010*energia + 0.010*presidente + 0.009*unidos + 0.007*vance'),\n",
       " (43,\n",
       "  '0.012*brasil + 0.008*política + 0.008*relações + 0.005*governo + 0.004*internacional + 0.004*desenvolvimento + 0.004*mundo + 0.004*nações + 0.003*interesses + 0.003*problemas'),\n",
       " (44,\n",
       "  '0.013*united + 0.012*states + 0.012*brazil + 0.011*government + 0.007*international + 0.005*brazilian + 0.005*economic + 0.005*agreement + 0.005*nations + 0.005*relations'),\n",
       " (45,\n",
       "  '0.038*artigo + 0.022*art + 0.011*lei + 0.009*parágrafo + 0.008*membros + 0.007*federal + 0.007*conselho + 0.007*direito + 0.006*presente + 0.006*cada'),\n",
       " (46,\n",
       "  '0.023*oea + 0.021*unidos + 0.019*cuba + 0.015*latina + 0.015*direitos + 0.014*humanos + 0.014*américa + 0.013*reunião + 0.012*venezuela + 0.010*panamá'),\n",
       " (47,\n",
       "  '0.137*excelência + 0.076*senhor + 0.043*ministro + 0.026*república + 0.023*oportunidade + 0.018*relações + 0.018*protestos + 0.017*alta + 0.016*honra + 0.016*consideração'),\n",
       " (48,\n",
       "  '0.015*gaza + 0.014*itália + 0.010*rumor + 0.008*leone + 0.007*condecoracao + 0.006*leqole + 0.006*lmu + 0.005*lelegram + 0.005*suoneogunwwog + 0.005*comandante-em-chefe'),\n",
       " (49,\n",
       "  '0.066*guiana + 0.024*fronteira + 0.016*georgetown + 0.012*guianense + 0.011*burnham + 0.011*venezuela + 0.011*trinidad + 0.010*tobago + 0.007*cubanos + 0.007*guianenses')]"
      ]
     },
     "execution_count": 22,
     "metadata": {},
     "output_type": "execute_result"
    }
   ],
   "source": [
    "lda.show_topics(num_topics=-1)"
   ]
  },
  {
   "cell_type": "code",
   "execution_count": 23,
   "metadata": {
    "collapsed": false
   },
   "outputs": [
    {
     "data": {
      "text/plain": [
       "(34,\n",
       " [('pesca', 0.06967917974408365),\n",
       "  ('eanes', 0.04026646214306908),\n",
       "  ('barcos', 0.035897413195945263),\n",
       "  ('ramalho', 0.025074744993800652),\n",
       "  ('station', 0.013364091241367046),\n",
       "  ('camarão', 0.0095153528731351713),\n",
       "  ('fishing', 0.0090813570673366917),\n",
       "  ('embarcação', 0.0087996034577154988),\n",
       "  ('cpdoc', 0.0082752626064098288),\n",
       "  ('sudepe', 0.0079392110427844893),\n",
       "  ('shrimp', 0.0070353279362189271),\n",
       "  ('embarcações', 0.0068513889989136019),\n",
       "  ('vessels', 0.0062795848039468348),\n",
       "  ('código', 0.0061986576493448251),\n",
       "  ('vessel', 0.0061907048161978055),\n",
       "  ('aas', 0.0061263651481450326),\n",
       "  ('mre/vp', 0.0058456379354161585),\n",
       "  ('territorial', 0.0057711963380910041),\n",
       "  ('18/8/76', 0.0053890408281960112),\n",
       "  ('religiosas', 0.0053588742977579967)])"
      ]
     },
     "execution_count": 23,
     "metadata": {},
     "output_type": "execute_result"
    }
   ],
   "source": [
    "topics_matrix = lda.show_topics(formatted=False, num_words=20, num_topics=-1)\n",
    "topics_matrix[34]"
   ]
  },
  {
   "cell_type": "markdown",
   "metadata": {},
   "source": [
    "Gerando a distribuição de tópicos para um novo documento:"
   ]
  },
  {
   "cell_type": "markdown",
   "metadata": {},
   "source": [
    "#### Gera a distribuição de tópicos para um novo documento\n",
    "Alimenta a base mysql com dados de score (relação) entre tópicos e documentos"
   ]
  },
  {
   "cell_type": "code",
   "execution_count": null,
   "metadata": {
    "collapsed": false
   },
   "outputs": [
    {
     "name": "stdout",
     "output_type": "stream",
     "text": [
      "········\n",
      "········\n"
     ]
    }
   ],
   "source": [
    "count = 0\n",
    "#percentil = int(len(cursor.rowcount/100)\n",
    "\n",
    "pass_sshkey = getpass.getpass()\n",
    "pass_mysql = getpass.getpass()\n",
    "with SSHTunnelForwarder(('200.20.164.147', 22),\n",
    "                        #ssh_private_key = \"C:/Users/marcelo.ribeiro/Dropbox/A-Marcelo/Educação-Trabalho/2016-CPDOC/Remoto/marcelo_priv_rsa\",\n",
    "                        ssh_private_key = '/home/rsouza/.ssh/id_rsa',\n",
    "                        ssh_private_key_password = pass_sshkey,\n",
    "                        #ssh_username=\"marcelobribeiro\",\n",
    "                        ssh_username=\"rsouza\",\n",
    "                        remote_bind_address=('127.0.0.1', 3306)) as server:\n",
    "    \n",
    "    conn = pymysql.connect(host='localhost', \n",
    "                           port=server.local_bind_port, \n",
    "                           #user='marcelobribeiro', \n",
    "                           user='rsouza',\n",
    "                           passwd=pass_mysql,\n",
    "                           db='CPDOC_AS',\n",
    "                           use_unicode=True, \n",
    "                           charset=\"utf8\")\n",
    "    cur = conn.cursor()\n",
    "    '''''''''''''''''''''''''''''''''''''''''''''''''''''''''''''''''''''''''''''\n",
    "    insere dados na base mysql\n",
    "    captura documentos da tabela docs, transfere para a tabela topic-doc e insere dados de tópicos\n",
    "    '''''''''''''''''''''''''''''''''''''''''''''''''''''''''''''''''''''''''''''\n",
    "    \n",
    "    cur.execute(\"DROP TABLE IF EXISTS topic_doc_lang_filter\")\n",
    "    cur.execute('''CREATE TABLE IF NOT EXISTS topic_doc_lang_filter \n",
    "               (doc_id VARCHAR(31), topic_id smallint(6), topic_score FLOAT\n",
    "               DEFAULT NULL)\n",
    "               ENGINE=MyISAM DEFAULT CHARSET='utf8';''')\n",
    "\n",
    "    cur.execute(\"SELECT id,body FROM CPDOC_AS.docs\")\n",
    "    data = cur.fetchall()\n",
    "    for row in data:\n",
    "        count += 1 # for break event\n",
    "        if row is None: break\n",
    "        text =  row[1]\n",
    "        text = text.split()\n",
    "        text_bow = dictionary.doc2bow(text)\n",
    "        #print(lda[text_bow])\n",
    "        score_list = lda[text_bow]\n",
    "        doc_id = row[0]\n",
    "        for score in score_list:\n",
    "            topic_id = str(score[0])\n",
    "            topic_score = str(score[1])\n",
    "            query = \"INSERT INTO topic_doc_lang_filter VALUES (%s, %s, %s)\"\n",
    "            cur.execute(query, (doc_id, topic_id, topic_score))\n",
    "        #print(doc_id, topic_id, topic_score)   \n",
    "        cur.execute(\"ALTER TABLE CPDOC_AS.topic_doc_lang_filter ORDER BY topic_id ASC, topic_score DESC\")\n",
    "        \n",
    "        #if count == 10: break #amostra de apenas 10 linhas"
   ]
  },
  {
   "cell_type": "markdown",
   "metadata": {},
   "source": [
    "#### Visualizando os tópicos com o PyLDAvis"
   ]
  },
  {
   "cell_type": "code",
   "execution_count": null,
   "metadata": {
    "collapsed": true
   },
   "outputs": [],
   "source": [
    "# https://cran.r-project.org/web/packages/LDAvis/vignettes/details.pdf\n",
    "pyLDAvis.enable_notebook()\n",
    "pyLDAvis.gensim.prepare(lda, corpus, dictionary)"
   ]
  },
  {
   "cell_type": "code",
   "execution_count": null,
   "metadata": {
    "collapsed": true
   },
   "outputs": [],
   "source": [
    "data_ldavis = pyLDAvis.gensim.prepare(lda, corpus, dictionary)\n",
    "pyLDAvis.save_html(data_ldavis, os.path.join(outputs,'pyldavis_langfilter_output.html'))"
   ]
  }
 ],
 "metadata": {
  "anaconda-cloud": {},
  "kernelspec": {
   "display_name": "Python 3",
   "language": "python",
   "name": "python3"
  },
  "language_info": {
   "codemirror_mode": {
    "name": "ipython",
    "version": 3
   },
   "file_extension": ".py",
   "mimetype": "text/x-python",
   "name": "python",
   "nbconvert_exporter": "python",
   "pygments_lexer": "ipython3",
   "version": "3.5.2"
  }
 },
 "nbformat": 4,
 "nbformat_minor": 0
}
