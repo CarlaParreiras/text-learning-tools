{
 "cells": [
  {
   "cell_type": "markdown",
   "metadata": {},
   "source": [
    "### build-mysql-database\n",
    "Builds database in MySQL por from the CPDOC collection **Antonio Azeredo da Silveira, Ministério das Relações Exteriores (AAS-MRE_**.  \n",
    "\n",
    "The meta-data included are:\n",
    "* dossier_id\n",
    "* dates (inaccurate)\n",
    "* URL\n",
    "* dossier subject\n",
    "* dossier keywords"
   ]
  },
  {
   "cell_type": "code",
   "execution_count": 1,
   "metadata": {
    "collapsed": false
   },
   "outputs": [],
   "source": [
    "import os\n",
    "import sys\n",
    "import time\n",
    "import datetime\n",
    "import numpy as np\n",
    "import pandas as pd\n",
    "import re\n",
    "import pymysql\n",
    "import getpass\n",
    "\n",
    "from sshtunnel import SSHTunnelForwarder\n",
    "import time\n",
    "\n",
    "import codecs\n",
    "from langdetect import detect\n",
    "from IPython.display import clear_output\n",
    "import csv\n",
    "import xlrd\n",
    "import xlwt"
   ]
  },
  {
   "cell_type": "markdown",
   "metadata": {},
   "source": [
    "### create special sorting function\n",
    "* Creates function that list files on different order\n",
    "* It was important to pay atention to files with different numeration, such as :\n",
    "* AAS_mre_onu_1975.01.23_doc_I-A.txt\n",
    "* AAS_mre_onu_1975.01.23_doc_I-6A8.txt"
   ]
  },
  {
   "cell_type": "code",
   "execution_count": 18,
   "metadata": {
    "collapsed": true
   },
   "outputs": [],
   "source": [
    "def to_zero(x):\n",
    "    if x == '': x = '0'\n",
    "    return x\n",
    "def special_sort(l):\n",
    "    convert = lambda text: int(text) if text.isdigit() else str(text)\n",
    "    alphanum_key = lambda key: [ convert(to_zero(c)) for c in filter(None, re.split('(\\d)A|A\\d|([A-Z]*)-A?|.txt', key))] \n",
    "    return sorted(l, key = alphanum_key)"
   ]
  },
  {
   "cell_type": "markdown",
   "metadata": {},
   "source": [
    "### set working directory"
   ]
  },
  {
   "cell_type": "code",
   "execution_count": 19,
   "metadata": {
    "collapsed": false
   },
   "outputs": [],
   "source": [
    "path = \"C:/Users/marcelo.ribeiro/Documents/textfiles-corrected-regrouped/\"\n",
    "outputs = \"C:/Users/marcelo.ribeiro/Documents/outputs/\"\n",
    "#path = \"/home/rsouza/Documentos/text-learning-tools/textfiles-corrected-regrouped/\"\n",
    "\n",
    "files = [f for f in sorted(os.listdir(path))]\n",
    "fullpath_list = []\n",
    "fullpath = ''\n",
    "for file in files:\n",
    "    fullpath = path+file\n",
    "    fullpath_list.append(fullpath)\n",
    "fullpath_list = special_sort(fullpath_list)"
   ]
  },
  {
   "cell_type": "code",
   "execution_count": null,
   "metadata": {
    "collapsed": true
   },
   "outputs": [],
   "source": [
    "fullpath_list[0:10]"
   ]
  },
  {
   "cell_type": "markdown",
   "metadata": {},
   "source": [
    "### creates list of dossiers and urls"
   ]
  },
  {
   "cell_type": "code",
   "execution_count": 2,
   "metadata": {
    "collapsed": true
   },
   "outputs": [],
   "source": [
    "url_list = []\n",
    "dossie_url_list = []\n",
    "url_inputs = \"C:/Users/marcelo.ribeiro/Dropbox/A-Marcelo/Educação-Trabalho/2016-CPDOC/Azeredo Papers/Processamento/text-learning-tools/inputs/URLS-AAS-marcelo.csv\"\n",
    "with open(url_inputs, 'r') as csvfile:\n",
    "    reader = csv.reader(csvfile, delimiter=';')\n",
    "    for row in reader:\n",
    "        if ' mre ' not in row[1]: continue\n",
    "        dossie = re.sub(' ','_',row[1])\n",
    "        dossie = re.sub('AAS_mre_(.*)',r'\\1',dossie)\n",
    "        dossie = re.sub('\\/',r'-',dossie)\n",
    "        dossie_url_list.append(dossie)\n",
    "        url_list.append(row[2])"
   ]
  },
  {
   "cell_type": "code",
   "execution_count": null,
   "metadata": {
    "collapsed": true
   },
   "outputs": [],
   "source": [
    "dossie = dossie_url_list[0]\n",
    "dossie_date = re.sub('.*(19\\d\\d\\.\\d\\d\\.\\d\\d).*', r'\\1', dossie)\n",
    "dossie_year = re.sub('.*(19\\d\\d).*', r'\\1', dossie)\n",
    "dossie_month = re.sub('.*19\\d\\d\\.(\\d\\d).*', r'\\1', dossie)\n",
    "dossie_id = dossie\n",
    "print(dossie)\n",
    "print(dossie_date )\n",
    "print(dossie_year )\n",
    "print(dossie_month)\n",
    "print(dossie_id)"
   ]
  },
  {
   "cell_type": "markdown",
   "metadata": {},
   "source": [
    "### creates meta-data of dossiers"
   ]
  },
  {
   "cell_type": "code",
   "execution_count": 3,
   "metadata": {
    "collapsed": false
   },
   "outputs": [],
   "source": [
    "dossie_sub_list = []\n",
    "subject_list  = []\n",
    "keywords_list = []\n",
    "\n",
    "path_inputs = \"../inputs/\"\n",
    "workbook = xlrd.open_workbook(path_inputs+'AAS-mre-metadados_Accessus.xlsx', on_demand = True)\n",
    "worksheet = workbook.sheet_by_index(0)\n",
    "\n",
    "subject_list = []\n",
    "keywords_list = []\n",
    "\n",
    "for line in range(1, worksheet.nrows):\n",
    "#for line in range(1, 3):\n",
    "    if worksheet.cell(line, 0).value == '': break\n",
    "    subject = str(worksheet.cell(line, 4).value)\n",
    "    keywords = str(worksheet.cell(line, 10).value)\n",
    "    subserie = worksheet.cell(line, 3).value\n",
    "    subserie = re.sub('(\\w)\\w*( do p?r?e?s?i?d?e?n?t?e? ?| com o |[\\s-])(\\w)\\w*',r'\\1\\3',subserie)\n",
    "    subserie = subserie.lower()\n",
    "    if subserie == 'dp geisel': subserie = 'd'\n",
    "    if subserie == 'vg': subserie = 'vp'\n",
    "    dossie_date = str(worksheet.cell(line, 1).value)\n",
    "    dossie_date = re.sub('\\/',r'-',dossie_date)\n",
    "    dossie = subserie+'_'+dossie_date\n",
    "    dossie_sub_list.append(dossie)\n",
    "    subject_list.append(subject)\n",
    "    keywords_list.append(keywords)\n"
   ]
  },
  {
   "cell_type": "markdown",
   "metadata": {},
   "source": [
    "### build mysql database\n",
    "Classifies corpus by: dossie_id, dossie subject, dossier keywords, date, URL.\n",
    "\n",
    "Stores metadata in mysql. "
   ]
  },
  {
   "cell_type": "code",
   "execution_count": 22,
   "metadata": {
    "collapsed": false
   },
   "outputs": [
    {
     "name": "stdout",
     "output_type": "stream",
     "text": [
      "········\n",
      "········\n"
     ]
    }
   ],
   "source": [
    "count = 0\n",
    "temp = 0\n",
    "doc_class = []\n",
    "count_doc = 0\n",
    "\n",
    "''' adds constant info in columns \"collection\" and \"is_date_exact\" '''\n",
    "is_date_exact = 0 # datas não são precisas\n",
    "collection = \"CPDOC\"\n",
    "\n",
    "''' initializes MySQL '''\n",
    "pass_sshkey = getpass.getpass()\n",
    "pass_mysql = getpass.getpass()\n",
    "with SSHTunnelForwarder(('200.20.164.146', 22),\n",
    "                        ssh_private_key = \"C:/Users/marcelo.ribeiro/Dropbox/A-Marcelo/Educação-Trabalho/2016-CPDOC/Remoto/marcelo_priv_rsa\",\n",
    "                        #ssh_private_key = '/home/rsouza/.ssh/id_rsa',\n",
    "                        ssh_private_key_password = pass_sshkey,\n",
    "                        ssh_username=\"marcelobribeiro\",\n",
    "                        #ssh_username=\"rsouza\",\n",
    "                        remote_bind_address=('127.0.0.1', 3306)) as server:\n",
    "    \n",
    "    conn = pymysql.connect(host='localhost', \n",
    "                           port=server.local_bind_port, \n",
    "                           user='marcelobribeiro', \n",
    "                           #user='rsouza',\n",
    "                           passwd=pass_mysql,\n",
    "                           db='CPDOC_AS',\n",
    "                           use_unicode=True, \n",
    "                           charset=\"utf8\")\n",
    "    cur = conn.cursor()\n",
    "    \n",
    "    '''''''''''''''''''''''''''''''''''''''''''''''''''''''''''''''''''''''''''''\n",
    "    inserts data into mysql database\n",
    "    '''''''''''''''''''''''''''''''''''''''''''''''''''''''''''''''''''''''''''''\n",
    "    \n",
    "    cur.execute(\"DROP TABLE IF EXISTS dossies\")\n",
    "    cur.execute('''CREATE TABLE dossies \n",
    "               (id VARCHAR(31) PRIMARY KEY, subject LONGTEXT, keywords LONGTEXT, date DATETIME, date_year SMALLINT(6), date_month TINYINT(4), is_date_exact TINYINT(1), \n",
    "               collection VARCHAR(16), url VARCHAR(200)\n",
    "               DEFAULT NULL)\n",
    "               ENGINE=MyISAM DEFAULT CHARSET='utf8';''')\n",
    "\n",
    "    for dossie in dossie_url_list:\n",
    "        \n",
    "        ''' captures info about date, year, month and dossier_id '''\n",
    "        dossie_id = re.sub('.*AAS_mre_(.*).txt', r'\\1', dossie)\n",
    "        dossie_date = re.sub('.*(19\\d\\d\\.\\d\\d\\.\\d\\d).*', r'\\1', dossie)\n",
    "        dossie_year = re.sub('.*(19\\d\\d).*', r'\\1', dossie)\n",
    "        dossie_month = re.sub('.*19\\d\\d\\.(\\d\\d).*', r'\\1', dossie)\n",
    "        \n",
    "        ''' captures info about url '''\n",
    "        list_indexnumber = dossie_url_list.index(dossie)\n",
    "        url = url_list[list_indexnumber]\n",
    "       \n",
    "        ''' captures info about descriptors '''\n",
    "        for i in dossie_sub_list:\n",
    "            if i == dossie:\n",
    "                list_indexnumber = dossie_sub_list.index(i)\n",
    "                subject = subject_list[list_indexnumber]\n",
    "                keywords = keywords_list[list_indexnumber]\n",
    "            \n",
    "        ''' inserts data into mysql '''\n",
    "        query = \"INSERT INTO dossies VALUES (%s, %s, %s, %s, %s, %s, %s, %s, %s)\"\n",
    "        cur.execute(query, (dossie_id, subject, keywords, dossie_date, dossie_year, dossie_month, is_date_exact, collection, url))"
   ]
  },
  {
   "cell_type": "code",
   "execution_count": null,
   "metadata": {
    "collapsed": true
   },
   "outputs": [],
   "source": []
  }
 ],
 "metadata": {
  "anaconda-cloud": {},
  "kernelspec": {
   "display_name": "Python [conda root]",
   "language": "python",
   "name": "conda-root-py"
  },
  "language_info": {
   "codemirror_mode": {
    "name": "ipython",
    "version": 3
   },
   "file_extension": ".py",
   "mimetype": "text/x-python",
   "name": "python",
   "nbconvert_exporter": "python",
   "pygments_lexer": "ipython3",
   "version": "3.5.2"
  }
 },
 "nbformat": 4,
 "nbformat_minor": 0
}
