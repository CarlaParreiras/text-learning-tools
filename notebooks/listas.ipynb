{
 "cells": [
  {
   "cell_type": "markdown",
   "metadata": {},
   "source": [
    "### LISTAS DE LISTAS\n"
   ]
  },
  {
   "cell_type": "code",
   "execution_count": 12,
   "metadata": {
    "collapsed": false
   },
   "outputs": [],
   "source": [
    "import os\n",
    "import sys"
   ]
  },
  {
   "cell_type": "code",
   "execution_count": 14,
   "metadata": {
    "collapsed": false
   },
   "outputs": [],
   "source": [
    "#path = 'C:/Users/marcelo.ribeiro/Documents/textfiles-corrected' # path marcelo\n",
    "path = './textfiles-corrected'\n",
    "onlyfiles = [f for f in os.listdir(path) if os.path.isfile(os.path.join(path,f)) and not f.startswith('.')]\n",
    "onlyfiles.sort()"
   ]
  },
  {
   "cell_type": "code",
   "execution_count": 15,
   "metadata": {
    "collapsed": false
   },
   "outputs": [
    {
     "data": {
      "text/plain": [
       "['txt0000001.txt', 'txt0000002.txt', 'txt0000003.txt', 'txt0000004.txt']"
      ]
     },
     "execution_count": 15,
     "metadata": {},
     "output_type": "execute_result"
    }
   ],
   "source": [
    "onlyfiles[0:4]"
   ]
  },
  {
   "cell_type": "code",
   "execution_count": 20,
   "metadata": {
    "collapsed": false
   },
   "outputs": [
    {
     "name": "stdout",
     "output_type": "stream",
     "text": [
      "[['l\"', '\",', 'aas_qqqa.', \"_os.4'5\", 'aqupn', '.', \";jl'|.\", 'x7_v)\"x', '.', ',', ':', 'qm,', 'lux', '.', '.', '\",', \"i'í\", \"'nzuvs\", '.', '\",', 'v', '\";', 'c.', \"n';:a.\", ':\"_\\'-x', 'um', 'uw', \"-'\", 'brasilia', '-', 'df,', 'ayiso', 'n?', '274/74', 'em', '15', 'de', 'agosto', 'de', '1974.', 'senhor', 'ministro', 'tenho', 'a', 'honra', 'de', 'dirigir-me', 'a', 'vossa', 'excelência', 'a', 'reg', 'peito', 'da', 'informação', 'n?', 'olbl-secreta,', 'de', '29', 'de', 'julho', 'de', '1974,', 'deg', 'se', 'ministério.', 'o', 'assunto', 'contido', 'no', 'referido', 'documento', 'versa', 'sobre', 'a', 'cooperação,', 'no', 'campo', 'industrial', 'das', 'atividades', 'ligadas', 'ao', 'aproveitamento', 'da', 'energia', 'nuclear,', 'entre', 'o', 'brasil', 'e', 'a', 'república', 'federal', 'da', 'alemanha', 'e', 'deu', 'origem', 'ã', 'exposição', 'de', 'motivos', 'n?', '055/74,', 'de', '13', 'de', 'agosto', 'de', '1974,', 'desta', 'secretaria-geral,', 'na', 'qual', 'o', 'excelentíssimo', 'senhor', 'presidente', 'da', 'república', 'deu', 'o', 'seguinte', 'despacho:', '.', \"'\", '\"aprovo', 'em', '13', 'ago', '74\".', 'dando', 'cumprimento', 'ã', 'determinação', 'presidencial,', 'passo', 'às', 'mãos', 'de', 'vossa', 'excelência', 'cõpia', 'da', 'citada', 'exposição', 'de', 'motivos.', \"'\", 'aproveito', 'a', 'oportunidade', 'para', 'renovar', 'a', 'vossa', 'excelência', 'os', 'protestos', 'de', 'elevada', 'estima', 'e', 'distinta', 'consideração.', '!!!', '[aj', 'en', '-d', 'çecre', \"'\", 'io-ger', '1', 'do', 'conselho', 'de', 'segurança', 'nacional', 'a', 'sua', 'excelência', 'embaixador', 'antonio', 'francisco', 'azeredo', 'da', 'silveira', 'dd', 'ministro', 'das', 'relações', 'exteriores'], ['.', 'h', '>?', 'm$', '(cfm-08.15', 'ww', 'brasília', '-', 'df,', '_', 'em', '13', 'de', 'agosto', 'de', '1974.', 'exposição', 'de', 'motivos', 'n?', '\"055/74', 'áq/â', 'of', '7524', '/', '#', 'excelentíssimo', 'senhor', 'presidente', 'da', 'república', 'tenho', 'a', 'honra', 'de', 'dirigir-me', 'a', 'vossa', 'excelência', 'a', 'reg', 'peito', 'da', 'informação', '11?', '0181-secreta,', 'de', '29', 'de', 'julho', 'de', '1974,', 'do', 'ministério', 'das', 'relações', 'exteriores,', 'que', 'versa', 'sobre', 'a', 'cooperaçãc', 'no', 'campo', 'industrial', 'das', 'atividades', 'ligadas', 'ao', 'aproveitamento', 'da', 'energia', 'nuclear,', 'entre', 'o', 'brasil', 'e', 'a', 'república', 'federal', 'da', 'alemae', 'nha.', 'a', 'propósito', 'do', 'assunto', 'esta', 'secretaria-geral', 'verifis', 'cou', 'que:', '-', 'as', 'diretrizes', 'para', 'a', 'política', 'nacional', 'de', 'energia', 'nuclear,', 'aprovadas', 'em', '1967', 'e', 'ainda', 'em', 'vigor,', 'prevêem', 'como', 'objetivos', 'permanentes,', 'entre', 'outros:', '\"estimular', 'e', 'ampliar', 'a', 'infra-estrutura', 'industrial', 'visando', 'ã', 'sua', 'participação', 'mais', 'intensa', 'nos', 'programas', 'de', 'construção', 'de', 'reatores', 'e', 'na', 'fabricação', 'de', 'equipamentos', 'e', 'instrumentos', 'necessários.', '\"', '\"dinamizar', 'o', 'intercâmbio', 'técnico-científico', 'com', 'outros', 'países,', 'no', 'campo', 'da', 'energia', 'nuclear,', 'especialmente', 'com', 'os', 'países', 'mais', 'desenvolvidos.', '\"', '-', 'em', '1969,', \"o'brasil\", 'e', 'a', 'república', 'federal', 'da', 'alema-', 'anha', 'firmaram', 'um', 'acordo', 'geral', 'sobre', 'cooperação', 'nos', 'setores', 'da', 'pesquisa', 'científica', 'e', 'do', 'desenvolvimento', 'tecnológico.', 'com', 'base', 'neste', 'instrumento,', 'foram', 'í-m']]\n"
     ]
    }
   ],
   "source": [
    "count = 0\n",
    "percentil = int(66908/100)\n",
    "textos = []\n",
    "\n",
    "for txt in onlyfiles[0:]:\n",
    "    with open(os.path.join(path,txt), 'r', encoding='utf-8') as f:\n",
    "        count += 1\n",
    "        if count % percentil == 0: print(int(count/percentil),'% done')\n",
    "        texto = f.read()\n",
    "        texto = texto.split()\n",
    "        textos.append(texto)\n",
    "#print(textos)"
   ]
  },
  {
   "cell_type": "code",
   "execution_count": null,
   "metadata": {
    "collapsed": true
   },
   "outputs": [],
   "source": []
  }
 ],
 "metadata": {
  "anaconda-cloud": {},
  "kernelspec": {
   "display_name": "Python [Root]",
   "language": "python",
   "name": "Python [Root]"
  },
  "language_info": {
   "codemirror_mode": {
    "name": "ipython",
    "version": 3
   },
   "file_extension": ".py",
   "mimetype": "text/x-python",
   "name": "python",
   "nbconvert_exporter": "python",
   "pygments_lexer": "ipython3",
   "version": "3.5.2"
  }
 },
 "nbformat": 4,
 "nbformat_minor": 0
}
