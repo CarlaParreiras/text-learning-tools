{
 "cells": [
  {
   "cell_type": "markdown",
   "metadata": {},
   "source": [
    "### doc_topics\n",
    "ESTABELECE RELAÇÕES ENTRE DOCUMENTOS E TÓPICOS NA BASE DE DADOS NO MYSQL. TRABALHAMOS COM O ACERVO **ANTONIO AZEREDO DA SILVEIRA, MINISTÉRIO DAS RELAÇÕES EXTERIORES**."
   ]
  },
  {
   "cell_type": "markdown",
   "metadata": {},
   "source": [
    "### Observações\n",
    "\n",
    "#### Sobre como cria tabela CSV com limite documentos por tópico"
   ]
  },
  {
   "cell_type": "raw",
   "metadata": {},
   "source": [
    "Pode-se criar tabelas CSV com limite de documentos por tópico no próprio SQL. Me parece que seria mais eficiente do que escrever código no Python. Caso deseje selecionar informações com condicional na tabela, use o modelo abaixo no query do SQL:\n",
    "\n",
    "SET @currcount = NULL, @currvalue = NULL;\n",
    "\tSELECT doc_id, topic_id, topic_score FROM (\n",
    "\tSELECT\n",
    "\t\tdoc_id, topic_id, topic_score, \n",
    "\t\t@currcount := IF(@currvalue = topic_id, @currcount + 1, 1) AS count,\n",
    "\t\t@currvalue := topic_id AS temp_column\n",
    "\tFROM topic_doc\n",
    "\tORDER BY topic_id ASC, topic_score DESC\n",
    "    ) AS temp_column WHERE count <= 45\n",
    "    \n",
    "Depois disso, no menu da tabela, clique em 'exportar' e escolha destino e formato de arquivo.\n",
    "\n",
    "Para iterar em tabelas, ver links de referência:\n",
    "#http://stackoverflow.com/questions/15397239/python-mysqldb-iterate-through-table\n",
    "#https://dev.mysql.com/doc/connector-python/en/connector-python-api-mysqlcursor-fetchone.html"
   ]
  },
  {
   "cell_type": "markdown",
   "metadata": {},
   "source": [
    "### Código"
   ]
  },
  {
   "cell_type": "code",
   "execution_count": 1,
   "metadata": {
    "collapsed": false
   },
   "outputs": [
    {
     "name": "stderr",
     "output_type": "stream",
     "text": [
      "C:\\Anaconda3\\lib\\site-packages\\funcy\\decorators.py:56: DeprecationWarning: inspect.getargspec() is deprecated, use inspect.signature() instead\n",
      "  spec = inspect.getargspec(func)\n",
      "C:\\Anaconda3\\lib\\site-packages\\funcy\\decorators.py:56: DeprecationWarning: inspect.getargspec() is deprecated, use inspect.signature() instead\n",
      "  spec = inspect.getargspec(func)\n",
      "C:\\Anaconda3\\lib\\site-packages\\funcy\\decorators.py:56: DeprecationWarning: inspect.getargspec() is deprecated, use inspect.signature() instead\n",
      "  spec = inspect.getargspec(func)\n",
      "C:\\Anaconda3\\lib\\site-packages\\funcy\\decorators.py:56: DeprecationWarning: inspect.getargspec() is deprecated, use inspect.signature() instead\n",
      "  spec = inspect.getargspec(func)\n",
      "C:\\Anaconda3\\lib\\site-packages\\funcy\\decorators.py:56: DeprecationWarning: inspect.getargspec() is deprecated, use inspect.signature() instead\n",
      "  spec = inspect.getargspec(func)\n",
      "C:\\Anaconda3\\lib\\site-packages\\funcy\\decorators.py:56: DeprecationWarning: inspect.getargspec() is deprecated, use inspect.signature() instead\n",
      "  spec = inspect.getargspec(func)\n"
     ]
    }
   ],
   "source": [
    "import nltk\n",
    "import os\n",
    "import codecs\n",
    "import string\n",
    "import matplotlib.pyplot as plt\n",
    "import matplotlib as mpl\n",
    "from gensim import corpora, models, similarities #Latent Dirichlet Allocation implementation with Gensim\n",
    "import pyLDAvis\n",
    "import pyLDAvis.gensim\n",
    "from IPython.display import clear_output\n",
    "\n",
    "import getpass\n",
    "from sshtunnel import SSHTunnelForwarder\n",
    "import pymysql"
   ]
  },
  {
   "cell_type": "code",
   "execution_count": 2,
   "metadata": {
    "collapsed": false
   },
   "outputs": [],
   "source": [
    "outputs = \"../outputs/\""
   ]
  },
  {
   "cell_type": "code",
   "execution_count": 4,
   "metadata": {
    "collapsed": false
   },
   "outputs": [
    {
     "name": "stdout",
     "output_type": "stream",
     "text": [
      "········\n",
      "········\n"
     ]
    }
   ],
   "source": [
    "'''''''''''''''''''''''''''''''''''''''''''''''''''''''''''''''''''''''''''''\n",
    "Seleciona textos da base mysql para fazer modelagem de tópicos\n",
    "NOTA: DEIXEI EM RAW PORQUE ESSA EXTRAÇÃO TORNA O CÓDIGO MUITO LENTO, MAS DEVE SER FEITO DESSA FORMA NO CPU DO RENATO\n",
    "'''''''''''''''''''''''''''''''''''''''''''''''''''''''''''''''''''''''''''''\n",
    "count = 0\n",
    "texts = []\n",
    "pass_sshkey = getpass.getpass()\n",
    "pass_mysql = getpass.getpass()\n",
    "\n",
    "with SSHTunnelForwarder(('200.20.164.147', 22),\n",
    "                        ssh_private_key = \"C:/Users/marcelo.ribeiro/Dropbox/A-Marcelo/Educação-Trabalho/2016-CPDOC/Remoto/marcelo_priv_rsa\",\n",
    "                        #ssh_private_key = '/home/rsouza/.ssh/id_rsa',\n",
    "                        ssh_private_key_password = pass_sshkey,\n",
    "                        ssh_username=\"marcelobribeiro\",\n",
    "                        #ssh_username=\"rsouza\",\n",
    "                        remote_bind_address=('127.0.0.1', 3306)) as server:\n",
    "    \n",
    "    conn = pymysql.connect(host='localhost', \n",
    "                           port=server.local_bind_port, \n",
    "                           user='marcelobribeiro', \n",
    "                           #user='rsouza',\n",
    "                           passwd=pass_mysql,\n",
    "                           db='CPDOC_AS',\n",
    "                           use_unicode=True, \n",
    "                           charset=\"utf8\")\n",
    "    cur = conn.cursor()\n",
    "    \n",
    "    '''''''''''''''''''''''''''''''''''''''''''''''''''''''''''''''''''''''''''''\n",
    "    captura documentos da tabela docs para posterior modelagem de tópicos\n",
    "    '''''''''''''''''''''''''''''''''''''''''''''''''''''''''''''''''''''''''''''\n",
    "    cur.execute(\"SELECT * FROM CPDOC_AS.docs\")\n",
    "    data = cur.fetchall()\n",
    "    numrows = cur.rowcount\n",
    "    percentil = numrows/100\n",
    "    \n",
    "    for row in data:\n",
    "        count += 1\n",
    "        if row is None: break\n",
    "\n",
    "        if count % percentil == 0: \n",
    "            clear_output()\n",
    "            print(int(count/percentil),'% done')\n",
    "        \n",
    "        text =  row[1]  \n",
    "        text = text.split()\n",
    "        symbols = [x for x in string.punctuation]\n",
    "        text = [p for p in text if p not in symbols]\n",
    "        text = [p.strip(string.punctuation) for p in text]\n",
    "        text = [p for p in text if not p.isdigit()]\n",
    "        text = [p for p in text if len(p)>1]\n",
    "        texts.append(text)\n",
    "        \n",
    "        #if count == 3: break #amostra de apenas 3 linhas. No computador do Renato, não usar o break."
   ]
  },
  {
   "cell_type": "code",
   "execution_count": null,
   "metadata": {
    "collapsed": true
   },
   "outputs": [],
   "source": [
    "# load nltk's English stopwords as variable called 'stopwords'\n",
    "\n",
    "additional_words = ['mr','one', 'two', 'three', 'four', \n",
    "                    'five', 'um', 'dois', 'três', 'quatro', \n",
    "                    'cinco', 'janeiro', 'fevereiro', 'março', \n",
    "                    'abril', 'maio', 'junho', 'julho', 'agosto', \n",
    "                    'setembro', 'outubro', 'novembro', 'dezembro', \n",
    "                    'january', 'february', 'march', 'april', 'may', \n",
    "                    'june', 'july', 'august', 'september', \n",
    "                    'october', 'november', 'december', 'países', \n",
    "                    'ser', 'país', 'ainda', 'milhões', 'maior', \n",
    "                    'anos', 'grande', 'apenas', 'outros', 'pode', \n",
    "                    'parte', 'partes', 'item', 'vossa', 'nota', \n",
    "                    'havia', 'pt', 'vg', 'ptvg', 'eh', 'nr', 'hrs', \n",
    "                    'pais', 'parte', 'hoje', 'brasemb', 'ontem', \n",
    "                    'dia', 'countries', 'would', 'new', 'also', \n",
    "                    'must', 'draft', 'shall', 'item', 'page', \n",
    "                    'th', 'anos', 'ii', 'dias', 'poderá', 'caso', \n",
    "                    'casos', 'qualquer', 'ano', 'mil', 'pessoas', \n",
    "                    'único', 'única', 'únicos', 'únicas', 'índice', \n",
    "                    'expedido', 'co', 'mm', 'er', 'via', 'ww', 'ra', \n",
    "                    'ia', 'ca', 'nu', 'wa', 'aa', 'ms', 'dc', 'mmm', 'pa']\n",
    "\n",
    "stopwords = nltk.corpus.stopwords.words('english') + \\\n",
    "            nltk.corpus.stopwords.words('portuguese') + \\\n",
    "            nltk.corpus.stopwords.words('french') + \\\n",
    "            nltk.corpus.stopwords.words('spanish') + \\\n",
    "            additional_words\n",
    "            \n",
    "stopwords = list(set(stopwords))"
   ]
  },
  {
   "cell_type": "code",
   "execution_count": 5,
   "metadata": {
    "collapsed": false
   },
   "outputs": [
    {
     "name": "stdout",
     "output_type": "stream",
     "text": [
      "Wall time: 0 ns\n"
     ]
    }
   ],
   "source": [
    "#%time texts = [[word for word in text] for text in texts]\n",
    "%time texts = [[word for word in text if word not in stopwords] for text in textos]"
   ]
  },
  {
   "cell_type": "code",
   "execution_count": 6,
   "metadata": {
    "collapsed": false
   },
   "outputs": [
    {
     "name": "stdout",
     "output_type": "stream",
     "text": [
      "218\n"
     ]
    }
   ],
   "source": [
    "print(len(texts[0]))"
   ]
  },
  {
   "cell_type": "code",
   "execution_count": 7,
   "metadata": {
    "collapsed": false
   },
   "outputs": [],
   "source": [
    "dictionary = corpora.Dictionary(texts)\n",
    "dictionary.filter_extremes(no_below=1, no_above=0.8)\n",
    "dictionary.filter_tokens(bad_ids=[0,]) #retira palavras a partir do id\n",
    "corpus = [dictionary.doc2bow(text) for text in texts]"
   ]
  },
  {
   "cell_type": "code",
   "execution_count": 8,
   "metadata": {
    "collapsed": false
   },
   "outputs": [
    {
     "data": {
      "text/plain": [
       "3"
      ]
     },
     "execution_count": 8,
     "metadata": {},
     "output_type": "execute_result"
    }
   ],
   "source": [
    "len(corpus)"
   ]
  },
  {
   "cell_type": "code",
   "execution_count": 9,
   "metadata": {
    "collapsed": false
   },
   "outputs": [
    {
     "name": "stdout",
     "output_type": "stream",
     "text": [
      "Wall time: 498 ms\n"
     ]
    }
   ],
   "source": [
    "%time lda = models.LdaModel(corpus, num_topics=50, id2word=dictionary, passes=10)"
   ]
  },
  {
   "cell_type": "code",
   "execution_count": 10,
   "metadata": {
    "collapsed": false
   },
   "outputs": [
    {
     "data": {
      "text/plain": [
       "[(0,\n",
       "  '0.004*retransmissão + 0.004*vaqui + 0.004*nio + 0.004*el + 0.004*sponsors + 0.004*aún + 0.004*sabes + 0.004*excelência + 0.004*ix + 0.004*seja + 0.004*diciembre + 0.004*bem + 0.004*ainda + 0.004*espanha + 0.004*credenciales + 0.004*as + 0.004*relaciones + 0.004*original + 0.004*communic + 0.004*retransmito'),\n",
       " (1,\n",
       "  '0.004*retransmissão + 0.004*vaqui + 0.004*nio + 0.004*el + 0.004*sponsors + 0.004*aún + 0.004*sabes + 0.004*excelência + 0.004*ix + 0.004*seja + 0.004*diciembre + 0.004*bem + 0.004*ainda + 0.004*espanha + 0.004*credenciales + 0.004*as + 0.004*relaciones + 0.004*original + 0.004*communic + 0.004*retransmito'),\n",
       " (2,\n",
       "  '0.005*the + 0.005*of + 0.004*nations + 0.004*united + 0.004*draft + 0.004*and + 0.004*resolution + 0.004*go:-au + 0.004*session + 0.004*peru + 0.004*eat + 0.004*oman + 0.004*chile + 0.004*agenda + 0.004*republic + 0.004*jamaica + 0.004*distr + 0.004*madagascar + 0.004*salvador + 0.004*on'),\n",
       " (3,\n",
       "  '0.004*retransmissão + 0.004*vaqui + 0.004*nio + 0.004*el + 0.004*sponsors + 0.004*aún + 0.004*sabes + 0.004*excelência + 0.004*ix + 0.004*seja + 0.004*diciembre + 0.004*bem + 0.004*ainda + 0.004*espanha + 0.004*credenciales + 0.004*as + 0.004*relaciones + 0.004*original + 0.004*communic + 0.004*retransmito'),\n",
       " (4,\n",
       "  '0.004*retransmissão + 0.004*vaqui + 0.004*nio + 0.004*el + 0.004*sponsors + 0.004*aún + 0.004*sabes + 0.004*excelência + 0.004*ix + 0.004*seja + 0.004*diciembre + 0.004*bem + 0.004*ainda + 0.004*espanha + 0.004*credenciales + 0.004*as + 0.004*relaciones + 0.004*original + 0.004*communic + 0.004*retransmito'),\n",
       " (5,\n",
       "  '0.004*retransmissão + 0.004*vaqui + 0.004*nio + 0.004*el + 0.004*sponsors + 0.004*aún + 0.004*sabes + 0.004*excelência + 0.004*ix + 0.004*seja + 0.004*diciembre + 0.004*bem + 0.004*ainda + 0.004*espanha + 0.004*credenciales + 0.004*as + 0.004*relaciones + 0.004*original + 0.004*communic + 0.004*retransmito'),\n",
       " (6,\n",
       "  '0.004*retransmissão + 0.004*vaqui + 0.004*nio + 0.004*el + 0.004*sponsors + 0.004*aún + 0.004*sabes + 0.004*excelência + 0.004*ix + 0.004*seja + 0.004*diciembre + 0.004*bem + 0.004*ainda + 0.004*espanha + 0.004*credenciales + 0.004*as + 0.004*relaciones + 0.004*original + 0.004*communic + 0.004*retransmito'),\n",
       " (7,\n",
       "  '0.004*de + 0.004*exteriores + 0.004*global + 0.004*para + 0.004*ministro + 0.004*estado + 0.004*serie + 0.004*do + 0.004*chanceler + 0.004*nova + 0.004*familia + 0.004*onu + 0.004*conhecimento + 0.004*recebido + 0.004*natalicia + 0.004*25/9/74 + 0.004*retransmissão + 0.004*communic + 0.004*ef + 0.004*respeitosos'),\n",
       " (8,\n",
       "  '0.004*retransmissão + 0.004*vaqui + 0.004*nio + 0.004*el + 0.004*sponsors + 0.004*aún + 0.004*sabes + 0.004*excelência + 0.004*ix + 0.004*seja + 0.004*diciembre + 0.004*bem + 0.004*ainda + 0.004*espanha + 0.004*credenciales + 0.004*as + 0.004*relaciones + 0.004*original + 0.004*communic + 0.004*retransmito'),\n",
       " (9,\n",
       "  '0.033*de + 0.011*da + 0.010*que + 0.010*aires + 0.010*mi + 0.008*amigo + 0.008*em + 0.008*buenos + 0.007*por + 0.007*sua + 0.007*havia + 0.007*espero + 0.006*senhor + 0.006*espanha + 0.006*ministro + 0.006*alegria + 0.006*meu + 0.006*francisco + 0.006*seja + 0.006*embaixador'),\n",
       " (10,\n",
       "  '0.004*retransmissão + 0.004*vaqui + 0.004*nio + 0.004*el + 0.004*sponsors + 0.004*aún + 0.004*sabes + 0.004*excelência + 0.004*ix + 0.004*seja + 0.004*diciembre + 0.004*bem + 0.004*ainda + 0.004*espanha + 0.004*credenciales + 0.004*as + 0.004*relaciones + 0.004*original + 0.004*communic + 0.004*retransmito'),\n",
       " (11,\n",
       "  '0.004*retransmissão + 0.004*vaqui + 0.004*nio + 0.004*el + 0.004*sponsors + 0.004*aún + 0.004*sabes + 0.004*excelência + 0.004*ix + 0.004*seja + 0.004*diciembre + 0.004*bem + 0.004*ainda + 0.004*espanha + 0.004*credenciales + 0.004*as + 0.004*relaciones + 0.004*original + 0.004*communic + 0.004*retransmito'),\n",
       " (12,\n",
       "  '0.004*de + 0.004*que + 0.004*da + 0.004*mi + 0.004*tu + 0.004*aires + 0.004*em + 0.004*com + 0.004*por + 0.004*grande + 0.004*el + 0.004*buenos + 0.004*no + 0.004*pérez-hernández + 0.004*con + 0.004*espero + 0.004*enrique + 0.004*espanha + 0.004*dos + 0.004*ministro'),\n",
       " (13,\n",
       "  '0.004*retransmissão + 0.004*vaqui + 0.004*nio + 0.004*el + 0.004*sponsors + 0.004*aún + 0.004*sabes + 0.004*excelência + 0.004*ix + 0.004*seja + 0.004*diciembre + 0.004*bem + 0.004*ainda + 0.004*espanha + 0.004*credenciales + 0.004*as + 0.004*relaciones + 0.004*original + 0.004*communic + 0.004*retransmito'),\n",
       " (14,\n",
       "  '0.004*retransmissão + 0.004*vaqui + 0.004*nio + 0.004*el + 0.004*sponsors + 0.004*aún + 0.004*sabes + 0.004*excelência + 0.004*ix + 0.004*seja + 0.004*diciembre + 0.004*bem + 0.004*ainda + 0.004*espanha + 0.004*credenciales + 0.004*as + 0.004*relaciones + 0.004*original + 0.004*communic + 0.004*retransmito'),\n",
       " (15,\n",
       "  '0.004*retransmissão + 0.004*vaqui + 0.004*nio + 0.004*el + 0.004*sponsors + 0.004*aún + 0.004*sabes + 0.004*excelência + 0.004*ix + 0.004*seja + 0.004*diciembre + 0.004*bem + 0.004*ainda + 0.004*espanha + 0.004*credenciales + 0.004*as + 0.004*relaciones + 0.004*original + 0.004*communic + 0.004*retransmito'),\n",
       " (16,\n",
       "  '0.005*de + 0.005*global + 0.005*para + 0.004*ministro + 0.004*estado + 0.004*exteriores + 0.004*natalicia + 0.004*data + 0.004*familia + 0.004*retransmito + 0.004*chanceler + 0.004*retransmissão + 0.004*conhecimento + 0.004*telegrama + 0.004*york + 0.004*suoueogunwwoo + 0.004*ereguan + 0.004*respeitosos + 0.004*eqo|g + 0.004*25/9/74'),\n",
       " (17,\n",
       "  '0.004*de + 0.004*que + 0.004*aires + 0.004*da + 0.004*buenos + 0.004*el + 0.004*em + 0.004*por + 0.004*tu + 0.004*mi + 0.004*brasília + 0.004*ministro + 0.004*no + 0.004*dos + 0.004*querido + 0.004*pérez-hernández + 0.004*grande + 0.004*silveira + 0.004*enrique + 0.004*para'),\n",
       " (18,\n",
       "  '0.007*de + 0.005*que + 0.005*buenos + 0.005*tu + 0.005*da + 0.005*aires + 0.005*mi + 0.005*el + 0.005*por + 0.004*ministro + 0.004*em + 0.004*com + 0.004*dos + 0.004*amistad + 0.004*como + 0.004*con + 0.004*brasília + 0.004*grande + 0.004*pérez-hernández + 0.004*para'),\n",
       " (19,\n",
       "  '0.004*retransmissão + 0.004*vaqui + 0.004*nio + 0.004*el + 0.004*sponsors + 0.004*aún + 0.004*sabes + 0.004*excelência + 0.004*ix + 0.004*seja + 0.004*diciembre + 0.004*bem + 0.004*ainda + 0.004*espanha + 0.004*credenciales + 0.004*as + 0.004*relaciones + 0.004*original + 0.004*communic + 0.004*retransmito'),\n",
       " (20,\n",
       "  '0.008*united + 0.008*the + 0.007*of + 0.007*resolution + 0.006*draft + 0.006*and + 0.006*jamaica + 0.006*nations + 0.006*twenty-ninth + 0.005*mg + 0.005*comutar + 0.005*republic + 0.005*mali + 0.005*écâêãmber + 0.005*tunisia + 0.005*sinuapore + 0.005*tanzania + 0.005*law + 0.005*item + 0.005*add'),\n",
       " (21,\n",
       "  '0.004*retransmissão + 0.004*vaqui + 0.004*nio + 0.004*el + 0.004*sponsors + 0.004*aún + 0.004*sabes + 0.004*excelência + 0.004*ix + 0.004*seja + 0.004*diciembre + 0.004*bem + 0.004*ainda + 0.004*espanha + 0.004*credenciales + 0.004*as + 0.004*relaciones + 0.004*original + 0.004*communic + 0.004*retransmito'),\n",
       " (22,\n",
       "  '0.004*retransmissão + 0.004*vaqui + 0.004*nio + 0.004*el + 0.004*sponsors + 0.004*aún + 0.004*sabes + 0.004*excelência + 0.004*ix + 0.004*seja + 0.004*diciembre + 0.004*bem + 0.004*ainda + 0.004*espanha + 0.004*credenciales + 0.004*as + 0.004*relaciones + 0.004*original + 0.004*communic + 0.004*retransmito'),\n",
       " (23,\n",
       "  '0.004*retransmissão + 0.004*vaqui + 0.004*nio + 0.004*el + 0.004*sponsors + 0.004*aún + 0.004*sabes + 0.004*excelência + 0.004*ix + 0.004*seja + 0.004*diciembre + 0.004*bem + 0.004*ainda + 0.004*espanha + 0.004*credenciales + 0.004*as + 0.004*relaciones + 0.004*original + 0.004*communic + 0.004*retransmito'),\n",
       " (24,\n",
       "  '0.004*retransmissão + 0.004*vaqui + 0.004*nio + 0.004*el + 0.004*sponsors + 0.004*aún + 0.004*sabes + 0.004*excelência + 0.004*ix + 0.004*seja + 0.004*diciembre + 0.004*bem + 0.004*ainda + 0.004*espanha + 0.004*credenciales + 0.004*as + 0.004*relaciones + 0.004*original + 0.004*communic + 0.004*retransmito'),\n",
       " (25,\n",
       "  '0.004*retransmissão + 0.004*vaqui + 0.004*nio + 0.004*el + 0.004*sponsors + 0.004*aún + 0.004*sabes + 0.004*excelência + 0.004*ix + 0.004*seja + 0.004*diciembre + 0.004*bem + 0.004*ainda + 0.004*espanha + 0.004*credenciales + 0.004*as + 0.004*relaciones + 0.004*original + 0.004*communic + 0.004*retransmito'),\n",
       " (26,\n",
       "  '0.063*de + 0.027*que + 0.023*da + 0.018*buenos + 0.018*mi + 0.018*aires + 0.014*tu + 0.014*el + 0.014*ministro + 0.014*por + 0.014*em + 0.009*dezembro + 0.009*no + 0.009*argentina + 0.009*grande + 0.009*país + 0.009*embaixada + 0.009*com + 0.009*silveira + 0.009*para'),\n",
       " (27,\n",
       "  '0.004*retransmissão + 0.004*vaqui + 0.004*nio + 0.004*el + 0.004*sponsors + 0.004*aún + 0.004*sabes + 0.004*excelência + 0.004*ix + 0.004*seja + 0.004*diciembre + 0.004*bem + 0.004*ainda + 0.004*espanha + 0.004*credenciales + 0.004*as + 0.004*relaciones + 0.004*original + 0.004*communic + 0.004*retransmito'),\n",
       " (28,\n",
       "  '0.004*retransmissão + 0.004*vaqui + 0.004*nio + 0.004*el + 0.004*sponsors + 0.004*aún + 0.004*sabes + 0.004*excelência + 0.004*ix + 0.004*seja + 0.004*diciembre + 0.004*bem + 0.004*ainda + 0.004*espanha + 0.004*credenciales + 0.004*as + 0.004*relaciones + 0.004*original + 0.004*communic + 0.004*retransmito'),\n",
       " (29,\n",
       "  '0.004*retransmissão + 0.004*vaqui + 0.004*nio + 0.004*el + 0.004*sponsors + 0.004*aún + 0.004*sabes + 0.004*excelência + 0.004*ix + 0.004*seja + 0.004*diciembre + 0.004*bem + 0.004*ainda + 0.004*espanha + 0.004*credenciales + 0.004*as + 0.004*relaciones + 0.004*original + 0.004*communic + 0.004*retransmito'),\n",
       " (30,\n",
       "  '0.004*retransmissão + 0.004*vaqui + 0.004*nio + 0.004*el + 0.004*sponsors + 0.004*aún + 0.004*sabes + 0.004*excelência + 0.004*ix + 0.004*seja + 0.004*diciembre + 0.004*bem + 0.004*ainda + 0.004*espanha + 0.004*credenciales + 0.004*as + 0.004*relaciones + 0.004*original + 0.004*communic + 0.004*retransmito'),\n",
       " (31,\n",
       "  '0.004*retransmissão + 0.004*vaqui + 0.004*nio + 0.004*el + 0.004*sponsors + 0.004*aún + 0.004*sabes + 0.004*excelência + 0.004*ix + 0.004*seja + 0.004*diciembre + 0.004*bem + 0.004*ainda + 0.004*espanha + 0.004*credenciales + 0.004*as + 0.004*relaciones + 0.004*original + 0.004*communic + 0.004*retransmito'),\n",
       " (32,\n",
       "  '0.004*retransmissão + 0.004*vaqui + 0.004*nio + 0.004*el + 0.004*sponsors + 0.004*aún + 0.004*sabes + 0.004*excelência + 0.004*ix + 0.004*seja + 0.004*diciembre + 0.004*bem + 0.004*ainda + 0.004*espanha + 0.004*credenciales + 0.004*as + 0.004*relaciones + 0.004*original + 0.004*communic + 0.004*retransmito'),\n",
       " (33,\n",
       "  '0.004*retransmissão + 0.004*vaqui + 0.004*nio + 0.004*el + 0.004*sponsors + 0.004*aún + 0.004*sabes + 0.004*excelência + 0.004*ix + 0.004*seja + 0.004*diciembre + 0.004*bem + 0.004*ainda + 0.004*espanha + 0.004*credenciales + 0.004*as + 0.004*relaciones + 0.004*original + 0.004*communic + 0.004*retransmito'),\n",
       " (34,\n",
       "  \"0.056*of + 0.056*the + 0.042*united + 0.028*nations + 0.028*and + 0.028*draft + 0.028*resolution + 0.014*zealand + 0.014*australia + 0.014*ly + 0.014*french + 0.014*list + 0.014*sponsors + 0.014*marun + 0.014*nel/bras/onum'usç + 0.014*madagascar + 0.014*sea + 0.014*iran + 0.014*hu + 0.014*session\"),\n",
       " (35,\n",
       "  '0.004*retransmissão + 0.004*vaqui + 0.004*nio + 0.004*el + 0.004*sponsors + 0.004*aún + 0.004*sabes + 0.004*excelência + 0.004*ix + 0.004*seja + 0.004*diciembre + 0.004*bem + 0.004*ainda + 0.004*espanha + 0.004*credenciales + 0.004*as + 0.004*relaciones + 0.004*original + 0.004*communic + 0.004*retransmito'),\n",
       " (36,\n",
       "  '0.005*de + 0.005*que + 0.005*da + 0.005*mi + 0.005*buenos + 0.004*aires + 0.004*el + 0.004*em + 0.004*ministro + 0.004*dos + 0.004*espero + 0.004*tu + 0.004*país + 0.004*por + 0.004*seja + 0.004*argentina + 0.004*embaixador + 0.004*embaixada + 0.004*no + 0.004*pérez-hernández'),\n",
       " (37,\n",
       "  '0.004*retransmissão + 0.004*vaqui + 0.004*nio + 0.004*el + 0.004*sponsors + 0.004*aún + 0.004*sabes + 0.004*excelência + 0.004*ix + 0.004*seja + 0.004*diciembre + 0.004*bem + 0.004*ainda + 0.004*espanha + 0.004*credenciales + 0.004*as + 0.004*relaciones + 0.004*original + 0.004*communic + 0.004*retransmito'),\n",
       " (38,\n",
       "  '0.004*retransmissão + 0.004*vaqui + 0.004*nio + 0.004*el + 0.004*sponsors + 0.004*aún + 0.004*sabes + 0.004*excelência + 0.004*ix + 0.004*seja + 0.004*diciembre + 0.004*bem + 0.004*ainda + 0.004*espanha + 0.004*credenciales + 0.004*as + 0.004*relaciones + 0.004*original + 0.004*communic + 0.004*retransmito'),\n",
       " (39,\n",
       "  '0.004*retransmissão + 0.004*vaqui + 0.004*nio + 0.004*el + 0.004*sponsors + 0.004*aún + 0.004*sabes + 0.004*excelência + 0.004*ix + 0.004*seja + 0.004*diciembre + 0.004*bem + 0.004*ainda + 0.004*espanha + 0.004*credenciales + 0.004*as + 0.004*relaciones + 0.004*original + 0.004*communic + 0.004*retransmito'),\n",
       " (40,\n",
       "  '0.004*retransmissão + 0.004*vaqui + 0.004*nio + 0.004*el + 0.004*sponsors + 0.004*aún + 0.004*sabes + 0.004*excelência + 0.004*ix + 0.004*seja + 0.004*diciembre + 0.004*bem + 0.004*ainda + 0.004*espanha + 0.004*credenciales + 0.004*as + 0.004*relaciones + 0.004*original + 0.004*communic + 0.004*retransmito'),\n",
       " (41,\n",
       "  '0.004*retransmissão + 0.004*vaqui + 0.004*nio + 0.004*el + 0.004*sponsors + 0.004*aún + 0.004*sabes + 0.004*excelência + 0.004*ix + 0.004*seja + 0.004*diciembre + 0.004*bem + 0.004*ainda + 0.004*espanha + 0.004*credenciales + 0.004*as + 0.004*relaciones + 0.004*original + 0.004*communic + 0.004*retransmito'),\n",
       " (42,\n",
       "  '0.004*retransmissão + 0.004*vaqui + 0.004*nio + 0.004*el + 0.004*sponsors + 0.004*aún + 0.004*sabes + 0.004*excelência + 0.004*ix + 0.004*seja + 0.004*diciembre + 0.004*bem + 0.004*ainda + 0.004*espanha + 0.004*credenciales + 0.004*as + 0.004*relaciones + 0.004*original + 0.004*communic + 0.004*retransmito'),\n",
       " (43,\n",
       "  '0.004*retransmissão + 0.004*vaqui + 0.004*nio + 0.004*el + 0.004*sponsors + 0.004*aún + 0.004*sabes + 0.004*excelência + 0.004*ix + 0.004*seja + 0.004*diciembre + 0.004*bem + 0.004*ainda + 0.004*espanha + 0.004*credenciales + 0.004*as + 0.004*relaciones + 0.004*original + 0.004*communic + 0.004*retransmito'),\n",
       " (44,\n",
       "  '0.004*retransmissão + 0.004*vaqui + 0.004*nio + 0.004*el + 0.004*sponsors + 0.004*aún + 0.004*sabes + 0.004*excelência + 0.004*ix + 0.004*seja + 0.004*diciembre + 0.004*bem + 0.004*ainda + 0.004*espanha + 0.004*credenciales + 0.004*as + 0.004*relaciones + 0.004*original + 0.004*communic + 0.004*retransmito'),\n",
       " (45,\n",
       "  '0.005*de + 0.005*que + 0.004*da + 0.004*tu + 0.004*buenos + 0.004*mi + 0.004*aires + 0.004*el + 0.004*por + 0.004*ministro + 0.004*dos + 0.004*grande + 0.004*em + 0.004*brasília + 0.004*no + 0.004*país + 0.004*pérez-hernández + 0.004*espero + 0.004*espanha + 0.004*para'),\n",
       " (46,\n",
       "  '0.004*retransmissão + 0.004*vaqui + 0.004*nio + 0.004*el + 0.004*sponsors + 0.004*aún + 0.004*sabes + 0.004*excelência + 0.004*ix + 0.004*seja + 0.004*diciembre + 0.004*bem + 0.004*ainda + 0.004*espanha + 0.004*credenciales + 0.004*as + 0.004*relaciones + 0.004*original + 0.004*communic + 0.004*retransmito'),\n",
       " (47,\n",
       "  '0.004*retransmissão + 0.004*vaqui + 0.004*nio + 0.004*el + 0.004*sponsors + 0.004*aún + 0.004*sabes + 0.004*excelência + 0.004*ix + 0.004*seja + 0.004*diciembre + 0.004*bem + 0.004*ainda + 0.004*espanha + 0.004*credenciales + 0.004*as + 0.004*relaciones + 0.004*original + 0.004*communic + 0.004*retransmito'),\n",
       " (48,\n",
       "  '0.006*de + 0.005*para + 0.005*global + 0.005*ministro + 0.005*estado + 0.005*exteriores + 0.005*leqom + 0.005*respeitosos + 0.005*retransmissão + 0.005*chanceler + 0.005*data + 0.005*ereguan + 0.005*suogeogunwwoo + 0.005*communicaiions + 0.005*serie + 0.005*onu + 0.004*em + 0.004*ef + 0.004*americo + 0.004*cumprimentos'),\n",
       " (49,\n",
       "  '0.068*de + 0.051*global + 0.051*para + 0.034*exteriores + 0.034*estado + 0.034*ministro + 0.017*sr + 0.017*nova + 0.017*recebido + 0.017*em/23/9/74 + 0.017*communic + 0.017*transcurso + 0.017*particular + 0.017*lopes + 0.017*eqoyg + 0.017*senhor + 0.017*pelo + 0.017*suonesyunwuuog + 0.017*communications + 0.017*do')]"
      ]
     },
     "execution_count": 10,
     "metadata": {},
     "output_type": "execute_result"
    }
   ],
   "source": [
    "lda.print_topics(-1, num_words=20)"
   ]
  },
  {
   "cell_type": "code",
   "execution_count": 11,
   "metadata": {
    "collapsed": false
   },
   "outputs": [
    {
     "data": {
      "text/plain": [
       "[(0,\n",
       "  '0.004*diciembre + 0.004*ainda + 0.004*sabes + 0.004*excelência + 0.004*ix + 0.004*seja + 0.004*retransmissão + 0.004*bem + 0.004*relaciones + 0.004*credenciales'),\n",
       " (1,\n",
       "  '0.004*diciembre + 0.004*ainda + 0.004*sabes + 0.004*excelência + 0.004*ix + 0.004*seja + 0.004*retransmissão + 0.004*bem + 0.004*relaciones + 0.004*credenciales'),\n",
       " (2,\n",
       "  '0.005*the + 0.005*of + 0.004*nations + 0.004*united + 0.004*draft + 0.004*and + 0.004*resolution + 0.004*go:-au + 0.004*session + 0.004*peru'),\n",
       " (3,\n",
       "  '0.004*diciembre + 0.004*ainda + 0.004*sabes + 0.004*excelência + 0.004*ix + 0.004*seja + 0.004*retransmissão + 0.004*bem + 0.004*relaciones + 0.004*credenciales'),\n",
       " (4,\n",
       "  '0.004*diciembre + 0.004*ainda + 0.004*sabes + 0.004*excelência + 0.004*ix + 0.004*seja + 0.004*retransmissão + 0.004*bem + 0.004*relaciones + 0.004*credenciales'),\n",
       " (5,\n",
       "  '0.004*diciembre + 0.004*ainda + 0.004*sabes + 0.004*excelência + 0.004*ix + 0.004*seja + 0.004*retransmissão + 0.004*bem + 0.004*relaciones + 0.004*credenciales'),\n",
       " (6,\n",
       "  '0.004*diciembre + 0.004*ainda + 0.004*sabes + 0.004*excelência + 0.004*ix + 0.004*seja + 0.004*retransmissão + 0.004*bem + 0.004*relaciones + 0.004*credenciales'),\n",
       " (7,\n",
       "  '0.004*de + 0.004*exteriores + 0.004*global + 0.004*para + 0.004*ministro + 0.004*estado + 0.004*serie + 0.004*do + 0.004*chanceler + 0.004*nova'),\n",
       " (8,\n",
       "  '0.004*diciembre + 0.004*ainda + 0.004*sabes + 0.004*excelência + 0.004*ix + 0.004*seja + 0.004*retransmissão + 0.004*bem + 0.004*relaciones + 0.004*credenciales'),\n",
       " (9,\n",
       "  '0.033*de + 0.011*da + 0.010*que + 0.010*aires + 0.010*mi + 0.008*amigo + 0.008*em + 0.008*buenos + 0.007*por + 0.007*sua'),\n",
       " (10,\n",
       "  '0.004*diciembre + 0.004*ainda + 0.004*sabes + 0.004*excelência + 0.004*ix + 0.004*seja + 0.004*retransmissão + 0.004*bem + 0.004*relaciones + 0.004*credenciales'),\n",
       " (11,\n",
       "  '0.004*diciembre + 0.004*ainda + 0.004*sabes + 0.004*excelência + 0.004*ix + 0.004*seja + 0.004*retransmissão + 0.004*bem + 0.004*relaciones + 0.004*credenciales'),\n",
       " (12,\n",
       "  '0.004*de + 0.004*que + 0.004*da + 0.004*mi + 0.004*tu + 0.004*aires + 0.004*em + 0.004*com + 0.004*por + 0.004*grande'),\n",
       " (13,\n",
       "  '0.004*diciembre + 0.004*ainda + 0.004*sabes + 0.004*excelência + 0.004*ix + 0.004*seja + 0.004*retransmissão + 0.004*bem + 0.004*relaciones + 0.004*credenciales'),\n",
       " (14,\n",
       "  '0.004*diciembre + 0.004*ainda + 0.004*sabes + 0.004*excelência + 0.004*ix + 0.004*seja + 0.004*retransmissão + 0.004*bem + 0.004*relaciones + 0.004*credenciales'),\n",
       " (15,\n",
       "  '0.004*diciembre + 0.004*ainda + 0.004*sabes + 0.004*excelência + 0.004*ix + 0.004*seja + 0.004*retransmissão + 0.004*bem + 0.004*relaciones + 0.004*credenciales'),\n",
       " (16,\n",
       "  '0.005*de + 0.005*global + 0.005*para + 0.004*ministro + 0.004*estado + 0.004*exteriores + 0.004*natalicia + 0.004*data + 0.004*familia + 0.004*retransmito'),\n",
       " (17,\n",
       "  '0.004*de + 0.004*que + 0.004*aires + 0.004*da + 0.004*buenos + 0.004*el + 0.004*em + 0.004*por + 0.004*tu + 0.004*mi'),\n",
       " (18,\n",
       "  '0.007*de + 0.005*que + 0.005*buenos + 0.005*tu + 0.005*da + 0.005*aires + 0.005*mi + 0.005*el + 0.005*por + 0.004*ministro'),\n",
       " (19,\n",
       "  '0.004*diciembre + 0.004*ainda + 0.004*sabes + 0.004*excelência + 0.004*ix + 0.004*seja + 0.004*retransmissão + 0.004*bem + 0.004*relaciones + 0.004*credenciales'),\n",
       " (20,\n",
       "  '0.008*united + 0.008*the + 0.007*of + 0.007*resolution + 0.006*draft + 0.006*and + 0.006*jamaica + 0.006*nations + 0.006*twenty-ninth + 0.005*mg'),\n",
       " (21,\n",
       "  '0.004*diciembre + 0.004*ainda + 0.004*sabes + 0.004*excelência + 0.004*ix + 0.004*seja + 0.004*retransmissão + 0.004*bem + 0.004*relaciones + 0.004*credenciales'),\n",
       " (22,\n",
       "  '0.004*diciembre + 0.004*ainda + 0.004*sabes + 0.004*excelência + 0.004*ix + 0.004*seja + 0.004*retransmissão + 0.004*bem + 0.004*relaciones + 0.004*credenciales'),\n",
       " (23,\n",
       "  '0.004*diciembre + 0.004*ainda + 0.004*sabes + 0.004*excelência + 0.004*ix + 0.004*seja + 0.004*retransmissão + 0.004*bem + 0.004*relaciones + 0.004*credenciales'),\n",
       " (24,\n",
       "  '0.004*diciembre + 0.004*ainda + 0.004*sabes + 0.004*excelência + 0.004*ix + 0.004*seja + 0.004*retransmissão + 0.004*bem + 0.004*relaciones + 0.004*credenciales'),\n",
       " (25,\n",
       "  '0.004*diciembre + 0.004*ainda + 0.004*sabes + 0.004*excelência + 0.004*ix + 0.004*seja + 0.004*retransmissão + 0.004*bem + 0.004*relaciones + 0.004*credenciales'),\n",
       " (26,\n",
       "  '0.063*de + 0.027*que + 0.023*da + 0.018*buenos + 0.018*mi + 0.018*aires + 0.014*tu + 0.014*el + 0.014*ministro + 0.014*por'),\n",
       " (27,\n",
       "  '0.004*diciembre + 0.004*ainda + 0.004*sabes + 0.004*excelência + 0.004*ix + 0.004*seja + 0.004*retransmissão + 0.004*bem + 0.004*relaciones + 0.004*credenciales'),\n",
       " (28,\n",
       "  '0.004*diciembre + 0.004*ainda + 0.004*sabes + 0.004*excelência + 0.004*ix + 0.004*seja + 0.004*retransmissão + 0.004*bem + 0.004*relaciones + 0.004*credenciales'),\n",
       " (29,\n",
       "  '0.004*diciembre + 0.004*ainda + 0.004*sabes + 0.004*excelência + 0.004*ix + 0.004*seja + 0.004*retransmissão + 0.004*bem + 0.004*relaciones + 0.004*credenciales'),\n",
       " (30,\n",
       "  '0.004*diciembre + 0.004*ainda + 0.004*sabes + 0.004*excelência + 0.004*ix + 0.004*seja + 0.004*retransmissão + 0.004*bem + 0.004*relaciones + 0.004*credenciales'),\n",
       " (31,\n",
       "  '0.004*diciembre + 0.004*ainda + 0.004*sabes + 0.004*excelência + 0.004*ix + 0.004*seja + 0.004*retransmissão + 0.004*bem + 0.004*relaciones + 0.004*credenciales'),\n",
       " (32,\n",
       "  '0.004*diciembre + 0.004*ainda + 0.004*sabes + 0.004*excelência + 0.004*ix + 0.004*seja + 0.004*retransmissão + 0.004*bem + 0.004*relaciones + 0.004*credenciales'),\n",
       " (33,\n",
       "  '0.004*diciembre + 0.004*ainda + 0.004*sabes + 0.004*excelência + 0.004*ix + 0.004*seja + 0.004*retransmissão + 0.004*bem + 0.004*relaciones + 0.004*credenciales'),\n",
       " (34,\n",
       "  '0.056*of + 0.056*the + 0.042*united + 0.028*nations + 0.028*and + 0.028*draft + 0.028*resolution + 0.014*zealand + 0.014*australia + 0.014*ly'),\n",
       " (35,\n",
       "  '0.004*diciembre + 0.004*ainda + 0.004*sabes + 0.004*excelência + 0.004*ix + 0.004*seja + 0.004*retransmissão + 0.004*bem + 0.004*relaciones + 0.004*credenciales'),\n",
       " (36,\n",
       "  '0.005*de + 0.005*que + 0.005*da + 0.005*mi + 0.005*buenos + 0.004*aires + 0.004*el + 0.004*em + 0.004*ministro + 0.004*dos'),\n",
       " (37,\n",
       "  '0.004*diciembre + 0.004*ainda + 0.004*sabes + 0.004*excelência + 0.004*ix + 0.004*seja + 0.004*retransmissão + 0.004*bem + 0.004*relaciones + 0.004*credenciales'),\n",
       " (38,\n",
       "  '0.004*diciembre + 0.004*ainda + 0.004*sabes + 0.004*excelência + 0.004*ix + 0.004*seja + 0.004*retransmissão + 0.004*bem + 0.004*relaciones + 0.004*credenciales'),\n",
       " (39,\n",
       "  '0.004*diciembre + 0.004*ainda + 0.004*sabes + 0.004*excelência + 0.004*ix + 0.004*seja + 0.004*retransmissão + 0.004*bem + 0.004*relaciones + 0.004*credenciales'),\n",
       " (40,\n",
       "  '0.004*diciembre + 0.004*ainda + 0.004*sabes + 0.004*excelência + 0.004*ix + 0.004*seja + 0.004*retransmissão + 0.004*bem + 0.004*relaciones + 0.004*credenciales'),\n",
       " (41,\n",
       "  '0.004*diciembre + 0.004*ainda + 0.004*sabes + 0.004*excelência + 0.004*ix + 0.004*seja + 0.004*retransmissão + 0.004*bem + 0.004*relaciones + 0.004*credenciales'),\n",
       " (42,\n",
       "  '0.004*diciembre + 0.004*ainda + 0.004*sabes + 0.004*excelência + 0.004*ix + 0.004*seja + 0.004*retransmissão + 0.004*bem + 0.004*relaciones + 0.004*credenciales'),\n",
       " (43,\n",
       "  '0.004*diciembre + 0.004*ainda + 0.004*sabes + 0.004*excelência + 0.004*ix + 0.004*seja + 0.004*retransmissão + 0.004*bem + 0.004*relaciones + 0.004*credenciales'),\n",
       " (44,\n",
       "  '0.004*diciembre + 0.004*ainda + 0.004*sabes + 0.004*excelência + 0.004*ix + 0.004*seja + 0.004*retransmissão + 0.004*bem + 0.004*relaciones + 0.004*credenciales'),\n",
       " (45,\n",
       "  '0.005*de + 0.005*que + 0.004*da + 0.004*tu + 0.004*buenos + 0.004*mi + 0.004*aires + 0.004*el + 0.004*por + 0.004*ministro'),\n",
       " (46,\n",
       "  '0.004*diciembre + 0.004*ainda + 0.004*sabes + 0.004*excelência + 0.004*ix + 0.004*seja + 0.004*retransmissão + 0.004*bem + 0.004*relaciones + 0.004*credenciales'),\n",
       " (47,\n",
       "  '0.004*diciembre + 0.004*ainda + 0.004*sabes + 0.004*excelência + 0.004*ix + 0.004*seja + 0.004*retransmissão + 0.004*bem + 0.004*relaciones + 0.004*credenciales'),\n",
       " (48,\n",
       "  '0.006*de + 0.005*para + 0.005*global + 0.005*ministro + 0.005*estado + 0.005*exteriores + 0.005*leqom + 0.005*respeitosos + 0.005*retransmissão + 0.005*chanceler'),\n",
       " (49,\n",
       "  '0.068*de + 0.051*global + 0.051*para + 0.034*exteriores + 0.034*estado + 0.034*ministro + 0.017*sr + 0.017*nova + 0.017*recebido + 0.017*em/23/9/74')]"
      ]
     },
     "execution_count": 11,
     "metadata": {},
     "output_type": "execute_result"
    }
   ],
   "source": [
    "lda.show_topics(num_topics=-1)"
   ]
  },
  {
   "cell_type": "code",
   "execution_count": 12,
   "metadata": {
    "collapsed": false
   },
   "outputs": [
    {
     "data": {
      "text/plain": [
       "(11,\n",
       " [('retransmissão', 0.0040983606557377051),\n",
       "  ('vaqui', 0.0040983606557377051),\n",
       "  ('nio', 0.0040983606557377051),\n",
       "  ('el', 0.0040983606557377051),\n",
       "  ('sponsors', 0.0040983606557377051),\n",
       "  ('aún', 0.0040983606557377051),\n",
       "  ('sabes', 0.0040983606557377051),\n",
       "  ('excelência', 0.0040983606557377051),\n",
       "  ('ix', 0.0040983606557377051),\n",
       "  ('seja', 0.0040983606557377051),\n",
       "  ('diciembre', 0.0040983606557377051),\n",
       "  ('bem', 0.0040983606557377051),\n",
       "  ('ainda', 0.0040983606557377051),\n",
       "  ('espanha', 0.0040983606557377051),\n",
       "  ('credenciales', 0.0040983606557377051),\n",
       "  ('as', 0.0040983606557377051),\n",
       "  ('relaciones', 0.0040983606557377051),\n",
       "  ('original', 0.0040983606557377051),\n",
       "  ('communic', 0.0040983606557377051),\n",
       "  ('retransmito', 0.0040983606557377051)])"
      ]
     },
     "execution_count": 12,
     "metadata": {},
     "output_type": "execute_result"
    }
   ],
   "source": [
    "topics_matrix = lda.show_topics(formatted=False, num_words=20, num_topics=-1)\n",
    "topics_matrix[11]"
   ]
  },
  {
   "cell_type": "markdown",
   "metadata": {},
   "source": [
    "#### Gera a distribuição de tópicos para um novo documento\n",
    "Alimenta a base mysql com dados de score (relação) entre tópicos e documentos"
   ]
  },
  {
   "cell_type": "code",
   "execution_count": 13,
   "metadata": {
    "collapsed": false
   },
   "outputs": [
    {
     "name": "stdout",
     "output_type": "stream",
     "text": [
      "········\n",
      "········\n",
      "[(26, 0.99467391304347696)]\n",
      "rb_1974.04.17_doc_I-66 26 0.994673913043\n",
      "[(49, 0.97958333333333325)]\n",
      "onu_1974.03.12_doc_II-49 49 0.979583333333\n",
      "[(34, 0.97822222222222122)]\n",
      "onu_1974.03.12_doc_V-2 34 0.978222222222\n",
      "[(26, 0.73621051069686505), (49, 0.2464443565597729)]\n",
      "be_1974.04.16_doc_VI-18 49 0.246421600596\n",
      "[(26, 0.81898279059754375), (49, 0.16958863797388582)]\n",
      "be_1977.06.01_doc_II-21 49 0.169449675672\n",
      "[(26, 0.48448725331096754), (34, 0.052752502340245699), (49, 0.45967827713567128)]\n",
      "ag_1974.03.13_doc_III-7 49 0.459591147144\n",
      "[(26, 0.12210141495085997), (49, 0.83789858504913994)]\n",
      "ag_1973.11.20_doc_VI-75 49 0.837979085477\n",
      "[(26, 0.79448591007198721), (49, 0.11824136265528624)]\n",
      "d_1974.04.23_doc_XXXII-8 49 0.118821829911\n",
      "[(26, 0.78184023928953517), (49, 0.21375526632844322)]\n",
      "d_1974.03.26_doc_XXXII-32 49 0.213765446739\n",
      "[(26, 0.80873035621816924), (34, 0.013018602669232748), (49, 0.17781464371241248)]\n",
      "d_1974.03.26_doc_XXII-9 49 0.177818561781\n"
     ]
    }
   ],
   "source": [
    "count = 0\n",
    "#percentil = int(len(cursor.rowcount/100)\n",
    "\n",
    "pass_sshkey = getpass.getpass()\n",
    "pass_mysql = getpass.getpass()\n",
    "with SSHTunnelForwarder(('200.20.164.147', 22),\n",
    "                        ssh_private_key = \"C:/Users/marcelo.ribeiro/Dropbox/A-Marcelo/Educação-Trabalho/2016-CPDOC/Remoto/marcelo_priv_rsa\",\n",
    "                        #ssh_private_key = '/home/rsouza/.ssh/id_rsa',\n",
    "                        ssh_private_key_password = pass_sshkey,\n",
    "                        ssh_username=\"marcelobribeiro\",\n",
    "                        #ssh_username=\"rsouza\",\n",
    "                        remote_bind_address=('127.0.0.1', 3306)) as server:\n",
    "    \n",
    "    conn = pymysql.connect(host='localhost', \n",
    "                           port=server.local_bind_port, \n",
    "                           user='marcelobribeiro', \n",
    "                           #user='rsouza',\n",
    "                           passwd=pass_mysql,\n",
    "                           db='CPDOC_AS',\n",
    "                           use_unicode=True, \n",
    "                           charset=\"utf8\")\n",
    "    cur = conn.cursor()\n",
    "    '''''''''''''''''''''''''''''''''''''''''''''''''''''''''''''''''''''''''''''\n",
    "    insere dados na base mysql\n",
    "    captura documentos da tabela docs, transfere para a tabela topic-doc e insere dados de tópicos\n",
    "    '''''''''''''''''''''''''''''''''''''''''''''''''''''''''''''''''''''''''''''\n",
    "    \n",
    "    cur.execute(\"DROP TABLE IF EXISTS topic_doc\")\n",
    "    cur.execute('''CREATE TABLE IF NOT EXISTS topic_doc \n",
    "               (doc_id VARCHAR(31), topic_id smallint(6), topic_score FLOAT\n",
    "               DEFAULT NULL)\n",
    "               ENGINE=MyISAM DEFAULT CHARSET='utf8';''')\n",
    "\n",
    "    cur.execute(\"SELECT id,body FROM CPDOC_AS.docs\")\n",
    "    data = cur.fetchall()\n",
    "    for row in data:\n",
    "        count += 1 # for break event\n",
    "        if row is None: break\n",
    "        \n",
    "        text =  row[1]\n",
    "        text = text.split()\n",
    "        text_bow = dictionary.doc2bow(text)\n",
    "        print(lda[text_bow])\n",
    "        score_list = lda[text_bow]\n",
    "        doc_id = row[0]\n",
    "        for score in score_list:\n",
    "            topic_id = str(score[0])\n",
    "            topic_score = str(score[1])\n",
    "            query = \"INSERT INTO topic_doc VALUES (%s, %s, %s)\"\n",
    "            cur.execute(query, (doc_id, topic_id, topic_score))\n",
    "        print(doc_id, topic_id, topic_score)   \n",
    "        cur.execute(\"ALTER TABLE CPDOC_AS.topic_doc ORDER BY topic_id ASC, topic_score DESC\")\n",
    "        \n",
    "        #if count == 10: break #amostra de apenas 10 linhas"
   ]
  },
  {
   "cell_type": "raw",
   "metadata": {
    "collapsed": true
   },
   "source": [
    "Links de referência\n",
    "#http://stackoverflow.com/questions/15397239/python-mysqldb-iterate-through-table\n",
    "#https://dev.mysql.com/doc/connector-python/en/connector-python-api-mysqlcursor-fetchone.html"
   ]
  },
  {
   "cell_type": "markdown",
   "metadata": {},
   "source": [
    "#### Visualizando os tópicos com o PyLDAvis"
   ]
  },
  {
   "cell_type": "code",
   "execution_count": null,
   "metadata": {
    "collapsed": true
   },
   "outputs": [],
   "source": [
    "# https://cran.r-project.org/web/packages/LDAvis/vignettes/details.pdf\n",
    "pyLDAvis.enable_notebook()\n",
    "pyLDAvis.gensim.prepare(lda, corpus, dictionary)"
   ]
  },
  {
   "cell_type": "code",
   "execution_count": null,
   "metadata": {
    "collapsed": true
   },
   "outputs": [],
   "source": [
    "data_ldavis = pyLDAvis.gensim.prepare(lda, corpus, dictionary)\n",
    "pyLDAvis.save_html(data_ldavis, os.path.join(outputs,'pyldavis_output.html'))"
   ]
  }
 ],
 "metadata": {
  "anaconda-cloud": {},
  "kernelspec": {
   "display_name": "Python [Root]",
   "language": "python",
   "name": "Python [Root]"
  },
  "language_info": {
   "codemirror_mode": {
    "name": "ipython",
    "version": 3
   },
   "file_extension": ".py",
   "mimetype": "text/x-python",
   "name": "python",
   "nbconvert_exporter": "python",
   "pygments_lexer": "ipython3",
   "version": "3.5.2"
  }
 },
 "nbformat": 4,
 "nbformat_minor": 0
}
