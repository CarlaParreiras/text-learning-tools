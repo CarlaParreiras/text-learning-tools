{
 "cells": [
  {
   "cell_type": "markdown",
   "metadata": {},
   "source": [
    "### doc_topics\n",
    "ESTABELECE RELAÇÕES ENTRE DOCUMENTOS E TÓPICOS NA BASE DE DADOS NO MYSQL. TRABALHAMOS COM O ACERVO **ANTONIO AZEREDO DA SILVEIRA, MINISTÉRIO DAS RELAÇÕES EXTERIORES**."
   ]
  },
  {
   "cell_type": "markdown",
   "metadata": {},
   "source": [
    "### Observações\n",
    "\n",
    "#### Sobre como cria tabela CSV com limite documentos por tópico"
   ]
  },
  {
   "cell_type": "raw",
   "metadata": {},
   "source": [
    "Pode-se criar tabelas CSV com limite de documentos por tópico no próprio SQL. Me parece que seria mais eficiente do que escrever código no Python. Caso deseje selecionar informações com condicional na tabela, use o modelo abaixo no query do SQL:\n",
    "\n",
    "SET @currcount = NULL, @currvalue = NULL;\n",
    "\tSELECT doc_id, topic_id, topic_score FROM (\n",
    "\tSELECT\n",
    "\t\tdoc_id, topic_id, topic_score, \n",
    "\t\t@currcount := IF(@currvalue = topic_id, @currcount + 1, 1) AS count,\n",
    "\t\t@currvalue := topic_id AS temp_column\n",
    "\tFROM topic_doc\n",
    "\tORDER BY topic_id ASC, topic_score DESC\n",
    "    ) AS temp_column WHERE count <= 45\n",
    "    \n",
    "Depois disso, no menu da tabela, clique em 'exportar' e escolha destino e formato de arquivo.\n",
    "\n",
    "Para iterar em tabelas, ver links de referência:\n",
    "#http://stackoverflow.com/questions/15397239/python-mysqldb-iterate-through-table\n",
    "#https://dev.mysql.com/doc/connector-python/en/connector-python-api-mysqlcursor-fetchone.html"
   ]
  },
  {
   "cell_type": "code",
   "execution_count": 1,
   "metadata": {
    "collapsed": false
   },
   "outputs": [
    {
     "name": "stdout",
     "output_type": "stream",
     "text": [
      "Couldn't import dot_parser, loading of dot files will not be possible.\n"
     ]
    },
    {
     "name": "stderr",
     "output_type": "stream",
     "text": [
      "Using gpu device 0: Quadro K4200 (CNMeM is disabled, cuDNN 5103)\n",
      "/usr/local/lib/python3.5/dist-packages/theano/sandbox/cuda/__init__.py:600: UserWarning: Your cuDNN version is more recent than the one Theano officially supports. If you see any problems, try updating Theano or downgrading cuDNN to version 5.\n",
      "  warnings.warn(warn)\n",
      "/usr/local/lib/python3.5/dist-packages/funcy/decorators.py:56: DeprecationWarning: inspect.getargspec() is deprecated, use inspect.signature() instead\n",
      "  spec = inspect.getargspec(func)\n",
      "/usr/local/lib/python3.5/dist-packages/funcy/decorators.py:56: DeprecationWarning: inspect.getargspec() is deprecated, use inspect.signature() instead\n",
      "  spec = inspect.getargspec(func)\n",
      "/usr/local/lib/python3.5/dist-packages/funcy/decorators.py:56: DeprecationWarning: inspect.getargspec() is deprecated, use inspect.signature() instead\n",
      "  spec = inspect.getargspec(func)\n",
      "/usr/local/lib/python3.5/dist-packages/funcy/decorators.py:56: DeprecationWarning: inspect.getargspec() is deprecated, use inspect.signature() instead\n",
      "  spec = inspect.getargspec(func)\n",
      "/usr/local/lib/python3.5/dist-packages/funcy/decorators.py:56: DeprecationWarning: inspect.getargspec() is deprecated, use inspect.signature() instead\n",
      "  spec = inspect.getargspec(func)\n",
      "/usr/local/lib/python3.5/dist-packages/funcy/decorators.py:56: DeprecationWarning: inspect.getargspec() is deprecated, use inspect.signature() instead\n",
      "  spec = inspect.getargspec(func)\n"
     ]
    }
   ],
   "source": [
    "import nltk\n",
    "import os\n",
    "import codecs\n",
    "import string\n",
    "import matplotlib.pyplot as plt\n",
    "import matplotlib as mpl\n",
    "from gensim import corpora, models, similarities #Latent Dirichlet Allocation implementation with Gensim\n",
    "import pyLDAvis\n",
    "import pyLDAvis.gensim\n",
    "from IPython.display import clear_output\n",
    "\n",
    "import getpass\n",
    "from sshtunnel import SSHTunnelForwarder\n",
    "import pymysql\n",
    "\n",
    "import pickle"
   ]
  },
  {
   "cell_type": "code",
   "execution_count": 2,
   "metadata": {
    "collapsed": true
   },
   "outputs": [],
   "source": [
    "'''''''''''''''''''''''''''''''''''''''''''''''''''''''''''''''''''''''''''''\n",
    "Verifica qual sistema operacional está sendo usado e cria variáveis. Renato = Linux ; Marcelo = nt (Windows)\n",
    "'''''''''''''''''''''''''''''''''''''''''''''''''''''''''''''''''''''''''''''\n",
    "if os.name == 'nt':\n",
    "    encoding_type = 'utf-8'\n",
    "    ssh_priv_key = 'C:/Users/marcelo.ribeiro/Dropbox/A-Marcelo/Educação-Trabalho/2016-CPDOC/Remoto/marcelo_priv_rsa'\n",
    "    ssh_user='marcelobribeiro'\n",
    "    sql_user='marcelobribeiro'\n",
    "    outputs = 'C:/Users/marcelo.ribeiro/Dropbox/A-Marcelo/Educação-Trabalho/2016-CPDOC/Azeredo Papers/Processamento/text-learning-tools/outputs/'\n",
    "    file_lda = 'C:/Users/marcelo.ribeiro/Desktop/pickles/model_lda_100_rs_00.pkl'\n",
    "else:\n",
    "    encoding_type = 'ISO-8859-1'\n",
    "    ssh_priv_key = '/home/rsouza/.ssh/id_rsa'\n",
    "    ssh_user='rsouza'\n",
    "    sql_user='rsouza'\n",
    "    outputs = '../outputs/'\n",
    "    file_lda = outputs+'model_lda_100_rs_00.pkl'"
   ]
  },
  {
   "cell_type": "markdown",
   "metadata": {},
   "source": [
    "#### Load pickle files"
   ]
  },
  {
   "cell_type": "code",
   "execution_count": 3,
   "metadata": {
    "collapsed": false
   },
   "outputs": [],
   "source": [
    "\n",
    "file_corpus = outputs+'LDAcorpus.pkl'\n",
    "file_dictionary = outputs+'LDAdictionary.pkl'\n",
    "\n",
    "corpus = pickle.load(open(file_corpus, 'rb'))\n",
    "dictionary = pickle.load(open(file_dictionary, 'rb'))\n",
    "lda = pickle.load(open(file_lda, 'rb'))"
   ]
  },
  {
   "cell_type": "code",
   "execution_count": 4,
   "metadata": {
    "collapsed": false
   },
   "outputs": [
    {
     "data": {
      "text/plain": [
       "9058"
      ]
     },
     "execution_count": 4,
     "metadata": {},
     "output_type": "execute_result"
    }
   ],
   "source": [
    "len(corpus)"
   ]
  },
  {
   "cell_type": "code",
   "execution_count": 5,
   "metadata": {
    "collapsed": false
   },
   "outputs": [
    {
     "data": {
      "text/plain": [
       "[(0,\n",
       "  '0.051*excelência + 0.034*senhor + 0.028*exteriores + 0.025*relações + 0.023*ministério'),\n",
       " (1, '0.023*torres + 0.022*broissa + 0.017*anglo + 0.017*egp + 0.017*arlette'),\n",
       " (2,\n",
       "  '0.065*chanceler + 0.032*exteriores + 0.031*silveira + 0.031*brasil + 0.018*ministro'),\n",
       " (3,\n",
       "  '0.037*presidente + 0.036*brasil + 0.015*geisel + 0.014*disse + 0.008*ter'),\n",
       " (4, '0.035*cuba + 0.027*venezuela + 0.027*oea + 0.026*reunião + 0.024*chile'),\n",
       " (5,\n",
       "  '0.056*senhor + 0.034*excelência + 0.027*leurs + 0.019*senhora + 0.019*place'),\n",
       " (6, '0.009*ar + 0.007*ro + 0.007*ão + 0.006*cc + 0.006*ea'),\n",
       " (7,\n",
       "  '0.085*nuclear + 0.036*acordo + 0.035*energia + 0.030*nucleares + 0.023*brasil'),\n",
       " (8, '0.038*cl + 0.031*ps + 0.019*uh + 0.015*hr + 0.012*ic'),\n",
       " (9,\n",
       "  '0.075*silveira + 0.062*azeredo + 0.054*antonio + 0.045*ministro + 0.026*exteriores'),\n",
       " (10,\n",
       "  '0.145*instituto + 0.127*universidade + 0.032*ciências + 0.030*professores + 0.028*faculdade'),\n",
       " (11, '0.024*buenos + 0.023*aires + 0.017*brasil + 0.016*série + 0.015*chile'),\n",
       " (12,\n",
       "  '0.066*federal + 0.057*alemanha + 0.037*bonn + 0.030*república + 0.029*alemão'),\n",
       " (13,\n",
       "  '0.010*paraguaios + 0.010*tripartites + 0.009*geral + 0.009*transcrevo + 0.007*policia'),\n",
       " (14,\n",
       "  '0.063*etc + 0.028*enchimento + 0.015*ausencia + 0.012*acento + 0.012*cuenca'),\n",
       " (15,\n",
       "  '0.061*paraguai + 0.030*assunção + 0.024*itaipu + 0.022*paraguaio + 0.019*stroessner'),\n",
       " (16,\n",
       "  '0.121*portugal + 0.062*lisboa + 0.054*português + 0.051*portuguesa + 0.028*portugueses'),\n",
       " (17,\n",
       "  '0.043*argentina + 0.015*argentino + 0.015*governo + 0.013*reunião + 0.012*rio'),\n",
       " (18,\n",
       "  '0.010*nacional + 0.008*onde + 0.008*governo + 0.007*partido + 0.007*população'),\n",
       " (19,\n",
       "  '0.014*retransmissão + 0.014*governo + 0.007*política + 0.006*sob + 0.005*regime'),\n",
       " (20,\n",
       "  '0.025*arc + 0.025*deverei + 0.022*allon + 0.021*miami + 0.017*amabilidade'),\n",
       " (21, '0.004*brasil + 0.003*quanto + 0.003*lado + 0.003*tais + 0.003*além'),\n",
       " (22, '0.020*manhan + 0.020*cento + 0.018*amanhan + 0.013*aaaaa + 0.012*voo'),\n",
       " (23,\n",
       "  '0.060*flavia + 0.057*schilling + 0.032*assistência + 0.022*expressado + 0.021*consular'),\n",
       " (24,\n",
       "  '0.065*said + 0.045*egrama + 0.030*delbrasgen + 0.026*hl7/67 + 0.023*stop'),\n",
       " (25,\n",
       "  '0.031*israel + 0.011*oriente + 0.011*editorial + 0.010*arabes + 0.008*voto'),\n",
       " (26,\n",
       "  '0.088*soviética + 0.078*união + 0.061*urss + 0.033*moscou + 0.032*soviético'),\n",
       " (27,\n",
       "  \"0.080*uruguai + 0.057*presidente + 0.030*giscard + 0.025*montevidéu + 0.023*d'estaing\"),\n",
       " (28,\n",
       "  '0.039*república + 0.029*embaixador + 0.023*bolívia + 0.021*senhor + 0.020*governo'),\n",
       " (29,\n",
       "  '0.133*lembrete + 0.126*secreto + 0.081*informação + 0.047*presidente + 0.031*despacho'),\n",
       " (30, '0.212*metros + 0.049*pap + 0.029*así + 0.019*ota + 0.015*faco'),\n",
       " (31,\n",
       "  '0.036*coreia + 0.028*hope + 0.024*situation + 0.023*financial + 0.023*agency'),\n",
       " (32,\n",
       "  '0.046*senhora + 0.039*senhor + 0.035*presidente + 0.033*japão + 0.023*república'),\n",
       " (33,\n",
       "  '0.015*gobierno + 0.009*general + 0.009*development + 0.008*paraguay + 0.007*reunion'),\n",
       " (34,\n",
       "  '0.021*ministério + 0.019*exterior + 0.013*exteriores + 0.013*relações + 0.012*itamaraty'),\n",
       " (35,\n",
       "  '0.030*excelência + 0.025*embaixador + 0.022*governo + 0.020*embaixada + 0.019*senhor'),\n",
       " (36,\n",
       "  '0.386*paris + 0.108*franca + 0.048*frances + 0.042*energia + 0.029*contratos'),\n",
       " (37,\n",
       "  '0.016*ode + 0.011*telegráfico + 0.010*rara + 0.010*baires + 0.009*lopez'),\n",
       " (38,\n",
       "  '0.034*britânico + 0.033*londres + 0.030*aspas + 0.011*lord + 0.011*reino'),\n",
       " (39,\n",
       "  '0.027*brasil + 0.025*governo + 0.018*brasileiro + 0.014*ministério + 0.011*projeto'),\n",
       " (40, '0.047*voce + 0.021*err + 0.019*personal + 0.016*levo + 0.015*marquez'),\n",
       " (41,\n",
       "  '0.021*monsieur + 0.014*carta + 0.011*france + 0.011*affairs + 0.011*presidente'),\n",
       " (42,\n",
       "  '0.021*excelência + 0.019*senhor + 0.015*povo + 0.012*povos + 0.008*brasil'),\n",
       " (43,\n",
       "  '0.123*delbrasonu + 0.040*agostinho + 0.032*opep + 0.028*aplicacao + 0.022*transmito'),\n",
       " (44,\n",
       "  '0.013*telegrama + 0.013*serie + 0.011*recebido + 0.009*brasil + 0.006*política'),\n",
       " (45,\n",
       "  '0.077*angola + 0.062*áfrica + 0.051*sul + 0.028*africanos + 0.028*moçambique'),\n",
       " (46,\n",
       "  '0.025*iran + 0.021*presos + 0.016*financas + 0.013*nova + 0.013*iorque'),\n",
       " (47, '0.062*senegal + 0.041*dacar + 0.031*hum + 0.027*governo + 0.019*sete'),\n",
       " (48,\n",
       "  '0.039*violencia + 0.026*lil + 0.022*sans + 0.020*emigrantes + 0.014*perh'),\n",
       " (49, '0.061*itaipu + 0.033*rio + 0.029*corpus + 0.027*cota + 0.020*operação'),\n",
       " (50,\n",
       "  '0.021*artículo + 0.019*derechos + 0.016*cn + 0.013*humanos + 0.013*derecho'),\n",
       " (51,\n",
       "  '0.025*majestade + 0.021*senhoria + 0.017*italiano + 0.009*brizola + 0.009*leonel'),\n",
       " (52, '0.032*lt + 0.027*souto + 0.027*60.417/67 + 0.020*cristo + 0.017*hl'),\n",
       " (53, '0.031*sr + 0.025*soares + 0.020*silva + 0.018*luiz + 0.017*carlos'),\n",
       " (54,\n",
       "  '0.104*global + 0.068*communications + 0.039*uau + 0.039*Kissinger + 0.029*york'),\n",
       " (55,\n",
       "  '0.179*itália + 0.075*agrêment + 0.047*argel + 0.032*rumor + 0.030*leone'),\n",
       " (56,\n",
       "  '0.028*us + 0.027*produtos + 0.020*brasil + 0.020*exportações + 0.018*mercado'),\n",
       " (57,\n",
       "  '0.152*saudita + 0.050*ane + 0.049*hill + 0.042*arabia + 0.027*volkswagen'),\n",
       " (58, '0.068*roma + 0.044*igreja + 0.033*santa + 0.023*pedro + 0.023*cardeal'),\n",
       " (59,\n",
       "  '0.217*frança + 0.128*francesa + 0.012*mobral + 0.007*nioc + 0.007*banque'),\n",
       " (60, '0.041*nesno + 0.020*3,3 + 0.019*commerce + 0.017*uf + 0.015*eur'),\n",
       " (61,\n",
       "  '0.018*brasil + 0.013*desenvolvimento + 0.012*internacional + 0.010*relações + 0.008*nações'),\n",
       " (62,\n",
       "  '0.044*retransmito + 0.019*tel + 0.014*paragrafo + 0.013*due + 0.012*recebido'),\n",
       " (63,\n",
       "  '0.024*comissão + 0.021*projeto + 0.021*geral + 0.018*resolução + 0.017*assembleia'),\n",
       " (64,\n",
       "  '0.058*p/brasemb + 0.054*trinidad + 0.043*port + 0.031*guyana + 0.030*spain'),\n",
       " (65,\n",
       "  '0.051*corpus + 0.022*ponta + 0.016*itaipú + 0.012*potencia + 0.010*sistema'),\n",
       " (66,\n",
       "  '0.086*minister + 0.053*president + 0.043*relations + 0.038*petrobras + 0.031*external'),\n",
       " (67, '0.218*hh + 0.124*dh + 0.049*ecuador + 0.019*phrh + 0.018*dma'),\n",
       " (68,\n",
       "  '0.037*united + 0.024*nations + 0.019*government + 0.013*brazil + 0.011*republic'),\n",
       " (69,\n",
       "  '0.013*brasil + 0.008*brasileiro + 0.007*art + 0.006*justiça + 0.006*artigo'),\n",
       " (70,\n",
       "  '0.090*guerra + 0.038*armado + 0.035*conflito + 0.033*ataque + 0.029*tunísia'),\n",
       " (71, '0.076*rio + 0.018*porto + 0.016*sul + 0.013*curso + 0.012*nen'),\n",
       " (72,\n",
       "  '0.056*genebra + 0.036*armados + 0.022*argumentação + 0.020*vermelha + 0.019*george'),\n",
       " (73,\n",
       "  '0.052*militar + 0.024*marinha + 0.023*forças + 0.020*militares + 0.020*armadas'),\n",
       " (74,\n",
       "  '0.079*jica + 0.042*agricultura + 0.041*exieriures + 0.027*fao + 0.014*biologia'),\n",
       " (75,\n",
       "  '0.043*ministro + 0.026*senhor + 0.021*paulo + 0.017*chefe + 0.016*presidente'),\n",
       " (76,\n",
       "  '0.035*imperial + 0.025*imperador + 0.020*hao + 0.012*realidade + 0.010*franco-brasileiro'),\n",
       " (77,\n",
       "  '0.290*embaixador + 0.160*senhor + 0.021*sr + 0.016*espanha + 0.016*período'),\n",
       " (78,\n",
       "  '0.027*externa + 0.026*mundo + 0.022*política + 0.016*nações + 0.016*plano'),\n",
       " (79,\n",
       "  '0.006*nordeste + 0.005*ver + 0.005*japan + 0.004*colunas + 0.004*período'),\n",
       " (80,\n",
       "  '0.050*zczc + 0.044*brazext + 0.043*telegrama + 0.042*afetuoso + 0.039*particular'),\n",
       " (81,\n",
       "  '0.015*política + 0.010*relações + 0.006*internacional + 0.005*brasil + 0.005*posição'),\n",
       " (82,\n",
       "  '0.057*brasil + 0.042*relações + 0.041*ministro + 0.033*visita + 0.018*presidente'),\n",
       " (83,\n",
       "  '0.010*brazil + 0.009*international + 0.007*economic + 0.007*world + 0.006*trade'),\n",
       " (84, '0.056*ilha + 0.056*dom + 0.031*portu + 0.021*bispo + 0.021*grosso'),\n",
       " (85, '0.044*s/a + 0.043*europeu + 0.038*ltda + 0.037*leste + 0.035*lideres'),\n",
       " (86,\n",
       "  '0.038*acordo + 0.036*artigo + 0.016*presente + 0.013*governo + 0.012*contratantes'),\n",
       " (87, '0.013*agreement + 0.008*pc + 0.007*gii + 0.006*cl + 0.006*ar'),\n",
       " (88,\n",
       "  '0.056*diretor + 0.018*braziliense + 0.016*correio + 0.015*exa + 0.015*geral'),\n",
       " (89,\n",
       "  '0.068*unidos + 0.041*direitos + 0.040*carter + 0.039*eua + 0.030*humanos'),\n",
       " (90, '0.034*article + 0.024*time + 0.021*end + 0.019*oh + 0.015*public'),\n",
       " (91, '0.054*ministro + 0.051*recebe + 0.039*agenda + 0.036*peru + 0.025*sr'),\n",
       " (92,\n",
       "  '0.157*telegrama + 0.103*minuta + 0.058*página + 0.045*distribuição + 0.041*continuação'),\n",
       " (93,\n",
       "  '0.149*states + 0.059*america + 0.053*american + 0.036*state + 0.029*national'),\n",
       " (94,\n",
       "  '0.027*lei + 0.018*art + 0.014*federal + 0.010*presidente + 0.010*nacional'),\n",
       " (95,\n",
       "  '0.100*confidencial + 0.083*ordem + 0.074*reservado + 0.072*secreto + 0.070*decreto'),\n",
       " (96,\n",
       "  '0.043*ala + 0.037*disse-lhe + 0.022*embratel + 0.017*consegue + 0.016*mencionei'),\n",
       " (97,\n",
       "  '0.054*guiana + 0.029*people + 0.024*could + 0.018*fronteira + 0.017*suriname'),\n",
       " (98, '0.037*since + 0.026*drasil + 0.021*cta + 0.021*oje + 0.020*dta'),\n",
       " (99,\n",
       "  '0.025*cooperação + 0.024*desenvolvimento + 0.012*brasil + 0.008*recursos + 0.008*projetos')]"
      ]
     },
     "execution_count": 5,
     "metadata": {},
     "output_type": "execute_result"
    }
   ],
   "source": [
    "lda.print_topics(-1, num_words=5)"
   ]
  },
  {
   "cell_type": "code",
   "execution_count": 6,
   "metadata": {
    "collapsed": true
   },
   "outputs": [],
   "source": [
    "# Caso queira trabalhar apenas com os tópicos mais coesos\n",
    "main_topics_list = [99, 61, 39, 69, 63, 19, 17, 82, 56, 42, 94, 18, 89, 4, 49, 7, 32, 25, 78, 15, 73, 45, 27, 16, 97, 47, 26, \n",
    "                   58, 59, 36, 10, 57, 86, 34, 28, 53, 12, 37, 51, 76, 83, 93, 46, 31, 11, 13, 65]"
   ]
  },
  {
   "cell_type": "markdown",
   "metadata": {},
   "source": [
    "#### Gera a distribuição de tópicos para um novo documento\n",
    "Alimenta a base mysql com dados de score (relação) entre tópicos e documentos, gerando a distribuição de tópicos para um novo documento.\n",
    "\n",
    "Notas:\n",
    "* Os documentos são selecionados da base SQL com alguns filtros: idioma português e legibilidade acima de 40%.\n",
    "* 'pt' = língua portuguesa. \n",
    "* No caso de documentos que não conseguimos identificar a legibilidade, por serem curtos (menos de 10 frases totais), foram classificados com a numeração '-1'."
   ]
  },
  {
   "cell_type": "code",
   "execution_count": 8,
   "metadata": {
    "collapsed": false
   },
   "outputs": [
    {
     "name": "stdout",
     "output_type": "stream",
     "text": [
      "99 % done\n"
     ]
    }
   ],
   "source": [
    "count = 0\n",
    "pass_sshkey = getpass.getpass()\n",
    "pass_mysql = getpass.getpass()\n",
    "with SSHTunnelForwarder(('200.20.164.147', 22),\n",
    "                        ssh_private_key = ssh_priv_key,\n",
    "                        ssh_private_key_password = pass_sshkey,\n",
    "                        ssh_username=ssh_user,\n",
    "                        remote_bind_address=('127.0.0.1', 3306)) as server:\n",
    "    \n",
    "    conn = pymysql.connect(host='localhost', \n",
    "                           port=server.local_bind_port, \n",
    "                           user=sql_user,\n",
    "                           passwd=pass_mysql,\n",
    "                           db='CPDOC_AS',\n",
    "                           use_unicode=True, \n",
    "                           charset=\"utf8\")\n",
    "    cur = conn.cursor()\n",
    "    '''''''''''''''''''''''''''''''''''''''''''''''''''''''''''''''''''''''''''''\n",
    "    insere dados na base mysql\n",
    "    captura documentos da tabela docs, transfere para a tabela topic-doc e insere dados de tópicos\n",
    "    '''''''''''''''''''''''''''''''''''''''''''''''''''''''''''''''''''''''''''''\n",
    "    \n",
    "    cur.execute(\"DROP TABLE IF EXISTS topic_doc\")\n",
    "    cur.execute('''CREATE TABLE IF NOT EXISTS topic_doc\n",
    "               (doc_id VARCHAR(31), topic_id smallint(6), topic_score FLOAT\n",
    "               DEFAULT NULL)\n",
    "               ENGINE=MyISAM DEFAULT CHARSET='utf8';''')\n",
    "\n",
    "    cur.execute(\"SELECT * FROM CPDOC_AS.docs WHERE main_language = 'pt' AND (readability > 0.4 OR readability = -1) \")  \n",
    "    data = cur.fetchall()\n",
    "    numrows = cur.rowcount\n",
    "    percentil = numrows/100\n",
    "    \n",
    "    for row in data:\n",
    "        count += 1\n",
    "        #if row is None: break\n",
    "        \n",
    "        ### mede percentual de conclusão da tarefa ###\n",
    "        if count % 100 == 0: \n",
    "            clear_output()\n",
    "            print(int(count/percentil),'% done')\n",
    "        \n",
    "        text =  row[4]\n",
    "        text = text.split()\n",
    "        text_bow = dictionary.doc2bow(text)\n",
    "        score_list = lda[text_bow]\n",
    "        doc_id = row[0]\n",
    "        for score in score_list:\n",
    "            topic_id = str(score[0])\n",
    "            topic_score = str(score[1])\n",
    "            #if topic_id not in main_topics_list: continue\n",
    "            query = \"INSERT INTO topic_doc VALUES (%s, %s, %s)\"\n",
    "            cur.execute(query, (doc_id, topic_id, topic_score))\n",
    "            #print(doc_id, topic_id, topic_score)   \n",
    "        cur.execute(\"ALTER TABLE CPDOC_AS.topic_doc ORDER BY topic_id ASC, topic_score DESC\")"
   ]
  },
  {
   "cell_type": "code",
   "execution_count": null,
   "metadata": {
    "collapsed": true
   },
   "outputs": [],
   "source": []
  }
 ],
 "metadata": {
  "anaconda-cloud": {},
  "kernelspec": {
   "display_name": "Python [default]",
   "language": "python",
   "name": "python3"
  },
  "language_info": {
   "codemirror_mode": {
    "name": "ipython",
    "version": 3
   },
   "file_extension": ".py",
   "mimetype": "text/x-python",
   "name": "python",
   "nbconvert_exporter": "python",
   "pygments_lexer": "ipython3",
   "version": "3.5.2"
  }
 },
 "nbformat": 4,
 "nbformat_minor": 0
}
