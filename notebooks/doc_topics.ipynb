{
 "cells": [
  {
   "cell_type": "markdown",
   "metadata": {},
   "source": [
    "### doc_topics\n",
    "ESTABELECE RELAÇÕES ENTRE DOCUMENTOS E TÓPICOS NA BASE DE DADOS NO MYSQL. TRABALHAMOS COM O ACERVO **ANTONIO AZEREDO DA SILVEIRA, MINISTÉRIO DAS RELAÇÕES EXTERIORES**."
   ]
  },
  {
   "cell_type": "markdown",
   "metadata": {},
   "source": [
    "### Observações\n",
    "\n",
    "#### Sobre como cria tabela CSV com limite documentos por tópico"
   ]
  },
  {
   "cell_type": "raw",
   "metadata": {},
   "source": [
    "Pode-se criar tabelas CSV com limite de documentos por tópico no próprio SQL. Me parece que seria mais eficiente do que escrever código no Python. Caso deseje selecionar informações com condicional na tabela, use o modelo abaixo no query do SQL:\n",
    "\n",
    "SET @currcount = NULL, @currvalue = NULL;\n",
    "\tSELECT doc_id, topic_id, topic_score FROM (\n",
    "\tSELECT\n",
    "\t\tdoc_id, topic_id, topic_score, \n",
    "\t\t@currcount := IF(@currvalue = topic_id, @currcount + 1, 1) AS count,\n",
    "\t\t@currvalue := topic_id AS temp_column\n",
    "\tFROM topic_doc\n",
    "\tORDER BY topic_id ASC, topic_score DESC\n",
    "    ) AS temp_column WHERE count <= 45\n",
    "    \n",
    "Depois disso, no menu da tabela, clique em 'exportar' e escolha destino e formato de arquivo.\n",
    "\n",
    "Para iterar em tabelas, ver links de referência:\n",
    "#http://stackoverflow.com/questions/15397239/python-mysqldb-iterate-through-table\n",
    "#https://dev.mysql.com/doc/connector-python/en/connector-python-api-mysqlcursor-fetchone.html"
   ]
  },
  {
   "cell_type": "markdown",
   "metadata": {},
   "source": [
    "### Código"
   ]
  },
  {
   "cell_type": "code",
   "execution_count": 1,
   "metadata": {
    "collapsed": false
   },
   "outputs": [
    {
     "name": "stderr",
     "output_type": "stream",
     "text": [
      "C:\\Anaconda3\\lib\\site-packages\\funcy\\decorators.py:56: DeprecationWarning: inspect.getargspec() is deprecated, use inspect.signature() instead\n",
      "  spec = inspect.getargspec(func)\n",
      "C:\\Anaconda3\\lib\\site-packages\\funcy\\decorators.py:56: DeprecationWarning: inspect.getargspec() is deprecated, use inspect.signature() instead\n",
      "  spec = inspect.getargspec(func)\n",
      "C:\\Anaconda3\\lib\\site-packages\\funcy\\decorators.py:56: DeprecationWarning: inspect.getargspec() is deprecated, use inspect.signature() instead\n",
      "  spec = inspect.getargspec(func)\n",
      "C:\\Anaconda3\\lib\\site-packages\\funcy\\decorators.py:56: DeprecationWarning: inspect.getargspec() is deprecated, use inspect.signature() instead\n",
      "  spec = inspect.getargspec(func)\n",
      "C:\\Anaconda3\\lib\\site-packages\\funcy\\decorators.py:56: DeprecationWarning: inspect.getargspec() is deprecated, use inspect.signature() instead\n",
      "  spec = inspect.getargspec(func)\n",
      "C:\\Anaconda3\\lib\\site-packages\\funcy\\decorators.py:56: DeprecationWarning: inspect.getargspec() is deprecated, use inspect.signature() instead\n",
      "  spec = inspect.getargspec(func)\n"
     ]
    }
   ],
   "source": [
    "import nltk\n",
    "import os\n",
    "import codecs\n",
    "import string\n",
    "import matplotlib.pyplot as plt\n",
    "import matplotlib as mpl\n",
    "from gensim import corpora, models, similarities #Latent Dirichlet Allocation implementation with Gensim\n",
    "import pyLDAvis\n",
    "import pyLDAvis.gensim\n",
    "from IPython.display import clear_output\n",
    "\n",
    "import getpass\n",
    "from sshtunnel import SSHTunnelForwarder\n",
    "import pymysql"
   ]
  },
  {
   "cell_type": "code",
   "execution_count": 2,
   "metadata": {
    "collapsed": false
   },
   "outputs": [],
   "source": [
    "outputs = \"../outputs/\""
   ]
  },
  {
   "cell_type": "code",
   "execution_count": 3,
   "metadata": {
    "collapsed": false
   },
   "outputs": [
    {
     "name": "stderr",
     "output_type": "stream",
     "text": [
      "C:\\Anaconda3\\lib\\site-packages\\IPython\\core\\formatters.py:92: DeprecationWarning: DisplayFormatter._ipython_display_formatter_default is deprecated: use @default decorator instead.\n",
      "  def _ipython_display_formatter_default(self):\n",
      "C:\\Anaconda3\\lib\\site-packages\\IPython\\core\\formatters.py:98: DeprecationWarning: DisplayFormatter._formatters_default is deprecated: use @default decorator instead.\n",
      "  def _formatters_default(self):\n",
      "C:\\Anaconda3\\lib\\site-packages\\IPython\\core\\formatters.py:677: DeprecationWarning: PlainTextFormatter._deferred_printers_default is deprecated: use @default decorator instead.\n",
      "  def _deferred_printers_default(self):\n",
      "C:\\Anaconda3\\lib\\site-packages\\IPython\\core\\formatters.py:669: DeprecationWarning: PlainTextFormatter._singleton_printers_default is deprecated: use @default decorator instead.\n",
      "  def _singleton_printers_default(self):\n",
      "C:\\Anaconda3\\lib\\site-packages\\IPython\\core\\formatters.py:672: DeprecationWarning: PlainTextFormatter._type_printers_default is deprecated: use @default decorator instead.\n",
      "  def _type_printers_default(self):\n",
      "C:\\Anaconda3\\lib\\site-packages\\IPython\\core\\formatters.py:669: DeprecationWarning: PlainTextFormatter._singleton_printers_default is deprecated: use @default decorator instead.\n",
      "  def _singleton_printers_default(self):\n",
      "C:\\Anaconda3\\lib\\site-packages\\IPython\\core\\formatters.py:672: DeprecationWarning: PlainTextFormatter._type_printers_default is deprecated: use @default decorator instead.\n",
      "  def _type_printers_default(self):\n",
      "C:\\Anaconda3\\lib\\site-packages\\IPython\\core\\formatters.py:677: DeprecationWarning: PlainTextFormatter._deferred_printers_default is deprecated: use @default decorator instead.\n",
      "  def _deferred_printers_default(self):\n"
     ]
    },
    {
     "data": {
      "text/plain": [
       "['AAS_mre_ag_1973.11.20_doc_I-1.txt',\n",
       " 'AAS_mre_ag_1973.11.20_doc_I-10.txt',\n",
       " 'AAS_mre_ag_1973.11.20_doc_I-100.txt',\n",
       " 'AAS_mre_ag_1973.11.20_doc_I-101.txt']"
      ]
     },
     "execution_count": 3,
     "metadata": {},
     "output_type": "execute_result"
    }
   ],
   "source": [
    "onlyfiles[0:4]"
   ]
  },
  {
   "cell_type": "code",
   "execution_count": null,
   "metadata": {
    "collapsed": true
   },
   "outputs": [],
   "source": [
    "'''''''''''''''''''''''''''''''''''''''''''''''''''''''''''''''''''''''''''''\n",
    "Seleciona textos da base mysql para fazer modelagem de tópicos\n",
    "NOTA: DEIXEI EM RAW PORQUE ESSA EXTRAÇÃO TORNA O CÓDIGO MUITO LENTO, MAS DEVE SER FEITO DESSA FORMA NO CPU DO RENATO\n",
    "'''''''''''''''''''''''''''''''''''''''''''''''''''''''''''''''''''''''''''''\n",
    "count = 0\n",
    "textos = []\n",
    "percentil = 10500/100\n",
    "pass_sshkey = getpass.getpass()\n",
    "pass_mysql = getpass.getpass()\n",
    "\n",
    "with SSHTunnelForwarder(('200.20.164.147', 22),\n",
    "                        ssh_private_key = \"C:/Users/marcelo.ribeiro/Dropbox/A-Marcelo/Educação-Trabalho/2016-CPDOC/Remoto/marcelo_priv_rsa\",\n",
    "                        #ssh_private_key = '/home/rsouza/.ssh/id_rsa',\n",
    "                        ssh_private_key_password = pass_sshkey,\n",
    "                        #ssh_private_key_password = input('Entre com a senha da chave privada'),\n",
    "                        ssh_username=\"marcelobribeiro\",\n",
    "                        #ssh_username=\"rsouza\",\n",
    "                        remote_bind_address=('127.0.0.1', 3306)) as server:\n",
    "    \n",
    "    conn = pymysql.connect(host='localhost', \n",
    "                           port=server.local_bind_port, \n",
    "                           user='marcelobribeiro', \n",
    "                           #user='rsouza',\n",
    "                           passwd=pass_mysql,\n",
    "                           #passwd=input('Entre com a senha do usuário no banco de dados'),\n",
    "                           db='CPDOC_AS',\n",
    "                           use_unicode=True, \n",
    "                           charset=\"utf8\")\n",
    "    cur = conn.cursor()\n",
    "    \n",
    "    '''''''''''''''''''''''''''''''''''''''''''''''''''''''''''''''''''''''''''''\n",
    "    captura documentos da tabela docs para posterior modelagem de tópicos\n",
    "    '''''''''''''''''''''''''''''''''''''''''''''''''''''''''''''''''''''''''''''\n",
    "    cur.execute(\"SELECT * FROM CPDOC_AS.docs\")\n",
    "    row = cur.fetchone()\n",
    "                    \n",
    "    while row is not None:\n",
    "        count += 1\n",
    "        row = cur.fetchone()\n",
    "    \n",
    "        if count % percentil == 0: \n",
    "            clear_output()\n",
    "            print(int(count/percentil),'% done')\n",
    "                \n",
    "        text =  row[1]\n",
    "        text = text.split()\n",
    "        symbols = [x for x in string.punctuation]\n",
    "        text = [p for p in text if p not in symbols]\n",
    "        text = [p.strip(string.punctuation) for p in text]\n",
    "        text = [p for p in text if not p.isdigit()]\n",
    "        text = [p for p in text if len(p)>1]\n",
    "        texts.append(text)\n",
    "        \n",
    "        #if count == 3: break #amostra de apenas 3 linhas. No computador do Renato, não usar o break."
   ]
  },
  {
   "cell_type": "code",
   "execution_count": null,
   "metadata": {
    "collapsed": true
   },
   "outputs": [],
   "source": [
    "# load nltk's English stopwords as variable called 'stopwords'\n",
    "\n",
    "additional_words = ['mr','one', 'two', 'three', 'four', \n",
    "                    'five', 'um', 'dois', 'três', 'quatro', \n",
    "                    'cinco', 'janeiro', 'fevereiro', 'março', \n",
    "                    'abril', 'maio', 'junho', 'julho', 'agosto', \n",
    "                    'setembro', 'outubro', 'novembro', 'dezembro', \n",
    "                    'january', 'february', 'march', 'april', 'may', \n",
    "                    'june', 'july', 'august', 'september', \n",
    "                    'october', 'november', 'december', 'países', \n",
    "                    'ser', 'país', 'ainda', 'milhões', 'maior', \n",
    "                    'anos', 'grande', 'apenas', 'outros', 'pode', \n",
    "                    'parte', 'partes', 'item', 'vossa', 'nota', \n",
    "                    'havia', 'pt', 'vg', 'ptvg', 'eh', 'nr', 'hrs', \n",
    "                    'pais', 'parte', 'hoje', 'brasemb', 'ontem', \n",
    "                    'dia', 'countries', 'would', 'new', 'also', \n",
    "                    'must', 'draft', 'shall', 'item', 'page', \n",
    "                    'th', 'anos', 'ii', 'dias', 'poderá', 'caso', \n",
    "                    'casos', 'qualquer', 'ano', 'mil', 'pessoas', \n",
    "                    'único', 'única', 'únicos', 'únicas', 'índice', \n",
    "                    'expedido', 'co', 'mm', 'er', 'via', 'ww', 'ra', \n",
    "                    'ia', 'ca', 'nu', 'wa', 'aa', 'ms', 'dc', 'mmm', 'pa']\n",
    "\n",
    "stopwords = nltk.corpus.stopwords.words('english') + \\\n",
    "            nltk.corpus.stopwords.words('portuguese') + \\\n",
    "            nltk.corpus.stopwords.words('french') + \\\n",
    "            nltk.corpus.stopwords.words('spanish') + \\\n",
    "            additional_words\n",
    "            \n",
    "stopwords = list(set(stopwords))"
   ]
  },
  {
   "cell_type": "code",
   "execution_count": 5,
   "metadata": {
    "collapsed": false
   },
   "outputs": [
    {
     "name": "stdout",
     "output_type": "stream",
     "text": [
      "Wall time: 1 ms\n"
     ]
    }
   ],
   "source": [
    "#%time texts = [[word for word in text] for text in texts]\n",
    "%time texts = [[word for word in text if word not in stopwords] for text in textos]"
   ]
  },
  {
   "cell_type": "code",
   "execution_count": 6,
   "metadata": {
    "collapsed": false
   },
   "outputs": [
    {
     "name": "stdout",
     "output_type": "stream",
     "text": [
      "153\n"
     ]
    }
   ],
   "source": [
    "print(len(texts[0]))"
   ]
  },
  {
   "cell_type": "code",
   "execution_count": 7,
   "metadata": {
    "collapsed": false
   },
   "outputs": [],
   "source": [
    "dictionary = corpora.Dictionary(texts)\n",
    "dictionary.filter_extremes(no_below=1, no_above=0.8)\n",
    "dictionary.filter_tokens(bad_ids=[0,]) #retira palavras a partir do id\n",
    "corpus = [dictionary.doc2bow(text) for text in texts]"
   ]
  },
  {
   "cell_type": "code",
   "execution_count": 8,
   "metadata": {
    "collapsed": false
   },
   "outputs": [
    {
     "data": {
      "text/plain": [
       "100"
      ]
     },
     "execution_count": 8,
     "metadata": {},
     "output_type": "execute_result"
    }
   ],
   "source": [
    "len(corpus)"
   ]
  },
  {
   "cell_type": "code",
   "execution_count": 9,
   "metadata": {
    "collapsed": false
   },
   "outputs": [
    {
     "name": "stdout",
     "output_type": "stream",
     "text": [
      "Wall time: 5.94 s\n"
     ]
    }
   ],
   "source": [
    "%time lda = models.LdaModel(corpus, num_topics=50, id2word=dictionary, passes=10)"
   ]
  },
  {
   "cell_type": "code",
   "execution_count": 10,
   "metadata": {
    "collapsed": false
   },
   "outputs": [
    {
     "data": {
      "text/plain": [
       "[(0,\n",
       "  '0.000*na + 0.000*rio + 0.000*co + 0.000*Ã© + 0.000*silveira + 0.000*et + 0.000*meu + 0.000*cheÃ\\xado + 0.000*mm + 0.000*lfetorhÃ£rgiridÃ£ + 0.000*sxcu + 0.000*coaracy + 0.000*mms + 0.000*brasil + 0.000*moeral + 0.000*eme/4 + 0.000*iv + 0.000*ferninbez + 0.000*amamos + 0.000*moel'),\n",
       " (1,\n",
       "  '0.014*Ã© + 0.011*de + 0.011*rio + 0.011*pt + 0.008*silveira + 0.008*rjo + 0.008*zczc + 0.008*241gtx + 0.008*em + 0.005*azeredo + 0.005*vieira + 0.005*na + 0.005*entregatlg + 0.005*co + 0.005*aaa + 0.005*muito + 0.005*ap + 0.005*gb + 0.005*ll + 0.005*no'),\n",
       " (2,\n",
       "  '0.019*devo + 0.017*que + 0.011*de + 0.011*do + 0.011*Ã\\xad + 0.008*antonio + 0.008*silveira + 0.008*na + 0.008*co + 0.006*azeredo + 0.006*como + 0.006*francisco + 0.006*ww + 0.006*da + 0.006*vieira + 0.006*rio + 0.006*dizer + 0.006*souto + 0.006*gb + 0.006*ma'),\n",
       " (3,\n",
       "  '0.011*de + 0.011*rio + 0.011*silveira + 0.011*da + 0.009*et + 0.009*vieira + 0.009*Ã\\xad + 0.009*www + 0.006*may + 0.006*Ã© + 0.006*lt + 0.006*horas + 0.006*antonio + 0.006*co + 0.006*telegrama + 0.006*souto + 0.006*rjo + 0.006*gb + 0.006*zczc + 0.006*241gtx'),\n",
       " (4,\n",
       "  \"0.015*lt + 0.008*azeredo + 0.008*hl + 0.008*nte + 0.008*amigo + 0.008*hhjÃ\\xad + 0.008*buenosaires/argentin + 0.008*gclgv'swesso + 0.008*dinÃ¡ + 0.008*15.334 + 0.008*abrasso + 0.008*teu + 0.008*compartilhar + 0.008*grandexÂª + 0.008*tuts + 0.008*b&baixador + 0.008*alegria + 0.008*cdl + 0.008*iÃ©Ã\\xadÃ§i-gÃ\\xadÃ¡ + 0.008*Ã\\xad\"),\n",
       " (5,\n",
       "  '0.000*de + 0.000*la + 0.000*silveira + 0.000*con + 0.000*del + 0.000*brasil + 0.000*en + 0.000*Ã© + 0.000*los + 0.000*un + 0.000*ao + 0.000*antonio + 0.000*waaoa + 0.000*aires + 0.000*na + 0.000*abrazo + 0.000*embajador + 0.000*buenos + 0.000*ej + 0.000*origen'),\n",
       " (6,\n",
       "  '0.020*Ã© + 0.015*um + 0.010*gb + 0.008*de + 0.008*ao + 0.008*silveira + 0.008*do + 0.008*no + 0.008*azeredo + 0.008*rio + 0.008*pt + 0.008*abraco + 0.005*souto + 0.005*vieira + 0.005*may + 0.005*votos + 0.005*co + 0.005*ministro + 0.005*alegria + 0.005*cheio'),\n",
       " (7,\n",
       "  '0.021*de + 0.021*da + 0.021*rio + 0.012*silveira + 0.012*nacional + 0.012*do + 0.009*azeredo + 0.009*antonio + 0.009*presidente + 0.009*gb + 0.009*janeiro + 0.009*xv + 0.009*comercio + 0.009*freire + 0.009*pinto + 0.006*em + 0.006*zczc + 0.006*por + 0.006*498/491 + 0.006*la'),\n",
       " (8,\n",
       "  '0.026*de + 0.017*pt + 0.014*em + 0.012*para + 0.012*do + 0.009*azeredo + 0.009*afetuoso + 0.009*celso + 0.009*francisco + 0.009*silveira + 0.009*presidente + 0.009*ao + 0.006*co + 0.006*amigas + 0.006*vieira + 0.006*pelas + 0.006*Ã\\xadndice + 0.006*souto + 0.006*minuta + 0.006*washington'),\n",
       " (9,\n",
       "  '0.010*lt + 0.008*www + 0.008*of + 0.008*azeredo + 0.008*silveira + 0.006*nnnn + 0.006*mm + 0.006*bueno + 0.006*Ã¡ + 0.006*brazilian + 0.006*ao + 0.006*zczc + 0.006*Ã© + 0.006*souto + 0.006*embaixador + 0.004*co + 0.004*hl + 0.004*do + 0.004*riodejaneiro + 0.004*entregatlg'),\n",
       " (10,\n",
       "  '0.000*antonio + 0.000*azeredo + 0.000*de + 0.000*silveira + 0.000*ao + 0.000*da + 0.000*co + 0.000*folha + 0.000*Ã\\xad + 0.000*abracos + 0.000*telegrama + 0.000*souto + 0.000*et + 0.000*Ã© + 0.000*kas + 0.000*exteriores + 0.000*um + 0.000*em + 0.000*horas + 0.000*vossa'),\n",
       " (11,\n",
       "  '0.001*de + 0.000*trÃªs + 0.000*mes + 0.000*silveira + 0.000*ma + 0.000*antonio + 0.000*da + 0.000*azeredo + 0.000*oldrich + 0.000*du + 0.000*votre + 0.000*241gtx + 0.000*rjo + 0.000*prie + 0.000*le + 0.000*souto + 0.000*relations + 0.000*la + 0.000*haute + 0.000*entregatlg'),\n",
       " (12,\n",
       "  '0.010*brasem + 0.010*121158ar + 0.010*ebrsl + 0.005*gb<ee + 0.005*horas + 0.005*bsb + 0.005*rid + 0.005*df + 0.005*abracos + 0.005*ac + 0.005*mz + 0.005*vgtis + 0.005*da + 0.005*4sx + 0.005*Ã©cuntentissimÃº + 0.005*211621<5<5Ã\\xadf2t + 0.005*leite + 0.005*esucessÃº + 0.005*seu + 0.005*alberto'),\n",
       " (13,\n",
       "  \"0.007*de + 0.007*da + 0.007*azeredo + 0.007*os + 0.007*souto + 0.007*silveira + 0.007*deus + 0.007*sra + 0.007*co + 0.007*vieira + 0.007*v'aÃ\\xadi-a-lqja + 0.007*charlie + 0.007*entregatlg + 0.007*riozczc + 0.007*com + 0.007*dois + 0.007*beijos + 0.007*498/491 + 0.007*pedimos + 0.007*para\"),\n",
       " (14,\n",
       "  '0.000*rio + 0.000*df + 0.000*itamaraty + 0.000*relaÃ§Ãµes + 0.000*excelÃªncia + 0.000*exteriores + 0.000*estar + 0.000*sua + 0.000*gb + 0.000*pessoal + 0.000*embaixador + 0.000*das + 0.000*que + 0.000*excia + 0.000*com + 0.000*7.4 + 0.000*assumir + 0.000*para + 0.000*harry + 0.000*et'),\n",
       " (15,\n",
       "  '0.017*azeredo + 0.013*vieira + 0.012*silveira + 0.012*embaixador + 0.012*abraco + 0.012*apt + 0.009*souto + 0.008*zczc + 0.008*uma + 0.007*receba + 0.006*nr + 0.006*itamaraty + 0.005*df + 0.005*leve + 0.005*mobral + 0.005*analfabeto + 0.005*amigo + 0.005*chefia + 0.005*um + 0.004*brasilia'),\n",
       " (16,\n",
       "  '0.046*de + 0.014*uma + 0.014*no + 0.011*com + 0.008*da + 0.008*as + 0.006*em + 0.006*rio + 0.005*silveira + 0.005*amigo + 0.005*votos + 0.005*mais + 0.005*para + 0.005*co + 0.005*que + 0.005*prezado + 0.005*gestÃ£o + 0.005*aÃ£ + 0.005*mas + 0.005*sobre'),\n",
       " (17,\n",
       "  '0.022*de + 0.017*la + 0.011*Ã¢ + 0.011*del + 0.011*ej + 0.006*as + 0.006*azeredo + 0.006*grande + 0.006*aires + 0.006*buenos + 0.006*son + 0.006*da + 0.006*liaÃª + 0.006*seÃ£or + 0.006*eur + 0.006*silveira + 0.006*hora + 0.006*reeibido + 0.006*tan + 0.006*para'),\n",
       " (18,\n",
       "  '0.045*de + 0.025*da + 0.011*em + 0.009*azeredo + 0.009*club + 0.009*gama + 0.009*vasco + 0.008*do + 0.008*rio + 0.008*Ã© + 0.008*regatas + 0.006*ao + 0.006*no + 0.006*antonio + 0.006*silveira + 0.006*das + 0.005*na + 0.005*sua + 0.005*la + 0.005*exteriores'),\n",
       " (19,\n",
       "  \"0.000*ao + 0.000*horas + 0.000*um + 0.000*Ã© + 0.000*pt + 0.000*brasilia + 0.000*df + 0.000*azeredo + 0.000*rio + 0.000*dfbr + 0.000*mobral + 0.000*plan-o + 0.000*ministro + 0.000*gerx + 0.000*qeÃ©'gw + 0.000*ipbnema + 0.000*al + 0.000*de + 0.000*silvvelbvdÃ¡ + 0.000*heloisa\"),\n",
       " (20,\n",
       "  \"0.013*cn + 0.007*da + 0.007*azeredo + 0.007*antonio + 0.007*zczc + 0.007*wa + 0.006*dig + 0.006*entqÃ©gatlg + 0.006*yaoi-i + 0.006*ges'vuwn + 0.006*punto + 0.006*xtytpticia + 0.006*xl + 0.006*fjv + 0.006*p??o + 0.006*voto + 0.006*giacol + 0.006*af'wÃ©to + 0.006*Ã©Ã©j4b9 + 0.006*iii-ja\"),\n",
       " (21,\n",
       "  '0.000*da + 0.000*lw + 0.000*pt + 0.000*of + 0.000*maaesjbÃº-lbja + 0.000*ico + 0.000*grande + 0.000*Ã\\xad + 0.000*rdeiq7c + 0.000*avgusto + 0.000*zczc + 0.000*fmeaixador + 0.000*carlos + 0.000*nnnn + 0.000*azeredo + 0.000*antonio + 0.000*hongkong + 0.000*rjo + 0.000*embaixador + 0.000*neves'),\n",
       " (22,\n",
       "  '0.006*vocÃª + 0.006*riu + 0.006*em + 0.006*moaafaga-48519 + 0.006*Ã\\xad + 0.006*75303007-0066 + 0.006*xnucmos + 0.006*piu + 0.006*correios + 0.006*ag\\'Ã\\xadeienbbixadcr + 0.006*a-Ã\\xad-a + 0.006*me + 0.006*pdl + 0.006*fÃ£ + 0.006*ag + 0.006*cc + 0.006*nmsxmnu + 0.006*gepi + 0.006*jo + 0.006*par-\"bens'),\n",
       " (23,\n",
       "  '0.020*de + 0.014*en + 0.011*brasil + 0.007*eh + 0.007*et + 0.007*pleno + 0.007*los + 0.007*tu + 0.007*la + 0.007*con + 0.007*que + 0.007*www + 0.007*te + 0.007*antonio + 0.006*da + 0.006*silveira + 0.006*buenos + 0.006*muy + 0.004*presidente + 0.004*bj'),\n",
       " (24,\n",
       "  '0.018*gb + 0.012*Ã© + 0.012*souto + 0.009*silveira + 0.009*azeredo + 0.009*vieira + 0.009*co + 0.009*andar + 0.009*voce + 0.006*ao + 0.006*vg + 0.006*rio + 0.006*and + 0.006*czc + 0.006*sua + 0.006*um + 0.006*am + 0.006*grande + 0.006*responsÃ¡vel + 0.006*na'),\n",
       " (25,\n",
       "  '0.000*do + 0.000*de + 0.000*que + 0.000*Ã© + 0.000*ao + 0.000*na + 0.000*Ã\\xad + 0.000*devo + 0.000*povo + 0.000*wa + 0.000*www + 0.000*quality + 0.000*pelotas + 0.000*silveira + 0.000*th + 0.000*w&amnqjw + 0.000*jun + 0.000*senhor + 0.000*excelÃªncia + 0.000*pla-laÃ§ar'),\n",
       " (26,\n",
       "  '0.011*ao + 0.010*um + 0.009*rio + 0.008*azeredo + 0.008*ministro + 0.008*lt + 0.007*da + 0.006*gb + 0.006*souto + 0.006*Ã© + 0.006*vieira + 0.006*de + 0.006*brasil + 0.006*silveira + 0.006*votos + 0.006*co + 0.006*et + 0.005*df + 0.005*mobral + 0.005*leve'),\n",
       " (27,\n",
       "  '0.050*de + 0.028*do + 0.017*da + 0.013*antonio + 0.010*em + 0.010*folha + 0.010*azeredo + 0.010*povo + 0.010*pelotas + 0.008*silveira + 0.008*marco + 0.008*relaÃ§Ãµes + 0.008*que + 0.008*excelÃªncia + 0.008*senhor + 0.008*na + 0.006*no + 0.006*exteriores + 0.006*das + 0.006*para'),\n",
       " (28,\n",
       "  '0.014*de + 0.010*del + 0.010*argentina + 0.010*estero + 0.009*azeredo + 0.007*aires + 0.007*jorge + 0.007*lima + 0.007*sgo + 0.007*las + 0.007*antonio + 0.006*da + 0.005*brasil + 0.005*me + 0.005*apto + 0.005*nnnn + 0.005*os + 0.005*silveira + 0.005*presidente + 0.005*cÃ¢mara'),\n",
       " (29,\n",
       "  '0.019*de + 0.015*vg + 0.013*da + 0.012*Ã© + 0.010*azeredo + 0.010*pt + 0.010*silveira + 0.008*para + 0.008*antonio + 0.006*rio + 0.006*em + 0.006*relaÃ§Ãµes + 0.006*das + 0.006*aeba + 0.006*tanto + 0.004*governo + 0.004*excelentissimo + 0.004*ao + 0.004*nome + 0.004*senhor'),\n",
       " (30,\n",
       "  '0.027*de + 0.017*para + 0.017*em + 0.012*silveira + 0.009*embaixador + 0.009*may + 0.009*telegrama + 0.009*das + 0.008*no + 0.008*exteriores + 0.006*241gtx + 0.006*vieira + 0.006*rio + 0.006*souto + 0.006*azeredo + 0.006*brasemb + 0.006*pt + 0.006*afetuoso + 0.006*os + 0.006*sua'),\n",
       " (31,\n",
       "  '0.012*Ã© + 0.009*mm + 0.006*ma + 0.006*da + 0.006*wm + 0.006*Ã¡ + 0.006*de + 0.006*er + 0.006*mg + 0.006*â\\x82¬ + 0.006*lw + 0.006*ao + 0.006*ng + 0.006*ww + 0.003*brazilian + 0.003*azeredo + 0.003*aaa + 0.003*consulate + 0.003*mw + 0.003*mu'),\n",
       " (32,\n",
       "  '0.026*de + 0.010*silveira + 0.010*Ã\\xad + 0.010*amigo + 0.010*porto + 0.010*rubens + 0.010*antonio + 0.005*Ã© + 0.005*ao + 0.005*rio + 0.005*azeredo + 0.005*por + 0.005*da + 0.005*gb + 0.005*souto + 0.005*em + 0.005*lf + 0.005*para + 0.005*muito + 0.005*ma'),\n",
       " (33,\n",
       "  '0.016*para + 0.010*silveira + 0.010*exteriores + 0.010*azeredo + 0.010*embaixador + 0.005*www + 0.005*Ã\\xad + 0.005*nome + 0.005*ozi + 0.005*ma + 0.005*Ã¡Ã£ + 0.005*jÂ© + 0.005*Ã³/w + 0.005*l\\'/\"47 + 0.005*jau/o + 0.005*Ã\\xada/Ã©/wkopag/mz + 0.005*1%Ãº + 0.005*zÃ© + 0.005*jag/of + 0.005*ww'),\n",
       " (34,\n",
       "  '0.009*www + 0.006*souto + 0.006*azeredo + 0.006*zczc + 0.006*may + 0.006*um + 0.006*lt + 0.006*nossas + 0.006*ao + 0.006*embaixador + 0.006*Ã© + 0.006*lbn + 0.006*fw + 0.006*mw + 0.006*jÃ¡ + 0.006*mÃ¡ + 0.006*ml + 0.003*de + 0.003*da + 0.003*241gtx'),\n",
       " (35,\n",
       "  '0.014*Ã© + 0.011*de + 0.011*da + 0.011*ao + 0.007*silveira + 0.007*gb + 0.007*por + 0.007*zczc + 0.007*sinceras + 0.007*et + 0.007*vossa + 0.007*excelÃªncia + 0.004*antonio + 0.004*ministro + 0.004*azeredo + 0.004*votos + 0.004*co + 0.004*souto + 0.004*um + 0.004*os'),\n",
       " (36,\n",
       "  '0.012*antonio + 0.010*ao + 0.010*embaixador + 0.008*rio + 0.008*df + 0.008*francisco + 0.008*pt + 0.008*da + 0.006*gb + 0.006*silveira + 0.006*em + 0.006*Ã© + 0.006*exteriores + 0.006*relaÃ§Ãµes + 0.006*co + 0.004*czc + 0.004*azeredo + 0.004*vieira + 0.004*mw + 0.004*souto'),\n",
       " (37,\n",
       "  '0.050*de + 0.025*la + 0.011*sua + 0.008*no + 0.008*buenos + 0.008*aires + 0.008*como + 0.008*que + 0.008*del + 0.006*da + 0.006*na + 0.006*ao + 0.006*azeredo + 0.006*para + 0.006*os + 0.006*um + 0.006*jÃ¡ + 0.006*silveira + 0.006*amigo + 0.006*particular'),\n",
       " (38,\n",
       "  '0.030*de + 0.020*rio + 0.014*da + 0.014*silveira + 0.014*amigo + 0.011*antonio + 0.009*azeredo + 0.008*zczc + 0.008*telegrama + 0.008*lt + 0.008*gb + 0.008*may + 0.006*ao + 0.006*das + 0.006*rjo + 0.006*pt + 0.006*exteriores + 0.006*exterior + 0.005*buenos + 0.005*brasil'),\n",
       " (39,\n",
       "  '0.013*lt + 0.013*et + 0.013*rjo + 0.013*241gtx + 0.013*4to + 0.007*silveira + 0.007*da + 0.007*azeredo + 0.007*rio + 0.007*embaixador + 0.007*zczc + 0.007*may + 0.007*souto + 0.007*sua + 0.007*estado + 0.007*col + 0.007*grande + 0.007*mga + 0.007*hl + 0.007*vieira')]"
      ]
     },
     "execution_count": 10,
     "metadata": {},
     "output_type": "execute_result"
    }
   ],
   "source": [
    "lda.print_topics(-1, num_words=20)"
   ]
  },
  {
   "cell_type": "code",
   "execution_count": 11,
   "metadata": {
    "collapsed": false
   },
   "outputs": [
    {
     "data": {
      "text/plain": [
       "[(0,\n",
       "  '0.000*na + 0.000*rio + 0.000*co + 0.000*Ã© + 0.000*silveira + 0.000*et + 0.000*meu + 0.000*cheÃ\\xado + 0.000*mm + 0.000*lfetorhÃ£rgiridÃ£'),\n",
       " (1,\n",
       "  '0.014*Ã© + 0.011*de + 0.011*rio + 0.011*pt + 0.008*silveira + 0.008*rjo + 0.008*zczc + 0.008*241gtx + 0.008*em + 0.005*azeredo'),\n",
       " (2,\n",
       "  '0.019*devo + 0.017*que + 0.011*de + 0.011*do + 0.011*Ã\\xad + 0.008*antonio + 0.008*silveira + 0.008*na + 0.008*co + 0.006*azeredo'),\n",
       " (3,\n",
       "  '0.011*de + 0.011*rio + 0.011*silveira + 0.011*da + 0.009*et + 0.009*vieira + 0.009*Ã\\xad + 0.009*www + 0.006*may + 0.006*Ã©'),\n",
       " (4,\n",
       "  \"0.015*lt + 0.008*azeredo + 0.008*hl + 0.008*nte + 0.008*amigo + 0.008*hhjÃ\\xad + 0.008*buenosaires/argentin + 0.008*gclgv'swesso + 0.008*dinÃ¡ + 0.008*15.334\"),\n",
       " (5,\n",
       "  '0.000*de + 0.000*la + 0.000*silveira + 0.000*con + 0.000*del + 0.000*brasil + 0.000*en + 0.000*Ã© + 0.000*los + 0.000*un'),\n",
       " (6,\n",
       "  '0.020*Ã© + 0.015*um + 0.010*gb + 0.008*de + 0.008*ao + 0.008*silveira + 0.008*do + 0.008*no + 0.008*azeredo + 0.008*rio'),\n",
       " (7,\n",
       "  '0.021*de + 0.021*da + 0.021*rio + 0.012*silveira + 0.012*nacional + 0.012*do + 0.009*azeredo + 0.009*antonio + 0.009*presidente + 0.009*gb'),\n",
       " (8,\n",
       "  '0.026*de + 0.017*pt + 0.014*em + 0.012*para + 0.012*do + 0.009*azeredo + 0.009*afetuoso + 0.009*celso + 0.009*francisco + 0.009*silveira'),\n",
       " (9,\n",
       "  '0.010*lt + 0.008*www + 0.008*of + 0.008*azeredo + 0.008*silveira + 0.006*nnnn + 0.006*mm + 0.006*bueno + 0.006*Ã¡ + 0.006*brazilian'),\n",
       " (10,\n",
       "  '0.000*antonio + 0.000*azeredo + 0.000*de + 0.000*silveira + 0.000*ao + 0.000*da + 0.000*co + 0.000*folha + 0.000*Ã\\xad + 0.000*abracos'),\n",
       " (11,\n",
       "  '0.001*de + 0.000*trÃªs + 0.000*mes + 0.000*silveira + 0.000*ma + 0.000*antonio + 0.000*da + 0.000*azeredo + 0.000*oldrich + 0.000*du'),\n",
       " (12,\n",
       "  '0.010*brasem + 0.010*121158ar + 0.010*ebrsl + 0.005*gb<ee + 0.005*horas + 0.005*bsb + 0.005*rid + 0.005*df + 0.005*abracos + 0.005*ac'),\n",
       " (13,\n",
       "  '0.007*de + 0.007*da + 0.007*azeredo + 0.007*os + 0.007*souto + 0.007*silveira + 0.007*deus + 0.007*sra + 0.007*co + 0.007*vieira'),\n",
       " (14,\n",
       "  '0.000*rio + 0.000*df + 0.000*itamaraty + 0.000*relaÃ§Ãµes + 0.000*excelÃªncia + 0.000*exteriores + 0.000*estar + 0.000*sua + 0.000*gb + 0.000*pessoal'),\n",
       " (15,\n",
       "  '0.017*azeredo + 0.013*vieira + 0.012*silveira + 0.012*embaixador + 0.012*abraco + 0.012*apt + 0.009*souto + 0.008*zczc + 0.008*uma + 0.007*receba'),\n",
       " (16,\n",
       "  '0.046*de + 0.014*uma + 0.014*no + 0.011*com + 0.008*da + 0.008*as + 0.006*em + 0.006*rio + 0.005*silveira + 0.005*amigo'),\n",
       " (17,\n",
       "  '0.022*de + 0.017*la + 0.011*Ã¢ + 0.011*del + 0.011*ej + 0.006*as + 0.006*azeredo + 0.006*grande + 0.006*aires + 0.006*buenos'),\n",
       " (18,\n",
       "  '0.045*de + 0.025*da + 0.011*em + 0.009*azeredo + 0.009*club + 0.009*gama + 0.009*vasco + 0.008*do + 0.008*rio + 0.008*Ã©'),\n",
       " (19,\n",
       "  '0.000*ao + 0.000*horas + 0.000*um + 0.000*Ã© + 0.000*pt + 0.000*brasilia + 0.000*df + 0.000*azeredo + 0.000*rio + 0.000*dfbr'),\n",
       " (20,\n",
       "  \"0.013*cn + 0.007*da + 0.007*azeredo + 0.007*antonio + 0.007*zczc + 0.007*wa + 0.006*dig + 0.006*entqÃ©gatlg + 0.006*yaoi-i + 0.006*ges'vuwn\"),\n",
       " (21,\n",
       "  '0.000*da + 0.000*lw + 0.000*pt + 0.000*of + 0.000*maaesjbÃº-lbja + 0.000*ico + 0.000*grande + 0.000*Ã\\xad + 0.000*rdeiq7c + 0.000*avgusto'),\n",
       " (22,\n",
       "  \"0.006*vocÃª + 0.006*riu + 0.006*em + 0.006*moaafaga-48519 + 0.006*Ã\\xad + 0.006*75303007-0066 + 0.006*xnucmos + 0.006*piu + 0.006*correios + 0.006*ag'Ã\\xadeienbbixadcr\"),\n",
       " (23,\n",
       "  '0.020*de + 0.014*en + 0.011*brasil + 0.007*eh + 0.007*et + 0.007*pleno + 0.007*los + 0.007*tu + 0.007*la + 0.007*con'),\n",
       " (24,\n",
       "  '0.018*gb + 0.012*Ã© + 0.012*souto + 0.009*silveira + 0.009*azeredo + 0.009*vieira + 0.009*co + 0.009*andar + 0.009*voce + 0.006*ao'),\n",
       " (25,\n",
       "  '0.000*do + 0.000*de + 0.000*que + 0.000*Ã© + 0.000*ao + 0.000*na + 0.000*Ã\\xad + 0.000*devo + 0.000*povo + 0.000*wa'),\n",
       " (26,\n",
       "  '0.011*ao + 0.010*um + 0.009*rio + 0.008*azeredo + 0.008*ministro + 0.008*lt + 0.007*da + 0.006*gb + 0.006*souto + 0.006*Ã©'),\n",
       " (27,\n",
       "  '0.050*de + 0.028*do + 0.017*da + 0.013*antonio + 0.010*em + 0.010*folha + 0.010*azeredo + 0.010*povo + 0.010*pelotas + 0.008*silveira'),\n",
       " (28,\n",
       "  '0.014*de + 0.010*del + 0.010*argentina + 0.010*estero + 0.009*azeredo + 0.007*aires + 0.007*jorge + 0.007*lima + 0.007*sgo + 0.007*las'),\n",
       " (29,\n",
       "  '0.019*de + 0.015*vg + 0.013*da + 0.012*Ã© + 0.010*azeredo + 0.010*pt + 0.010*silveira + 0.008*para + 0.008*antonio + 0.006*rio'),\n",
       " (30,\n",
       "  '0.027*de + 0.017*para + 0.017*em + 0.012*silveira + 0.009*embaixador + 0.009*may + 0.009*telegrama + 0.009*das + 0.008*no + 0.008*exteriores'),\n",
       " (31,\n",
       "  '0.012*Ã© + 0.009*mm + 0.006*ma + 0.006*da + 0.006*wm + 0.006*Ã¡ + 0.006*de + 0.006*er + 0.006*mg + 0.006*â\\x82¬'),\n",
       " (32,\n",
       "  '0.026*de + 0.010*silveira + 0.010*Ã\\xad + 0.010*amigo + 0.010*porto + 0.010*rubens + 0.010*antonio + 0.005*Ã© + 0.005*ao + 0.005*rio'),\n",
       " (33,\n",
       "  '0.016*para + 0.010*silveira + 0.010*exteriores + 0.010*azeredo + 0.010*embaixador + 0.005*www + 0.005*Ã\\xad + 0.005*nome + 0.005*Ã¡Ã£ + 0.005*l\\'/\"47'),\n",
       " (34,\n",
       "  '0.009*www + 0.006*souto + 0.006*azeredo + 0.006*zczc + 0.006*may + 0.006*um + 0.006*lt + 0.006*nossas + 0.006*ao + 0.006*embaixador'),\n",
       " (35,\n",
       "  '0.014*Ã© + 0.011*de + 0.011*da + 0.011*ao + 0.007*silveira + 0.007*gb + 0.007*por + 0.007*zczc + 0.007*sinceras + 0.007*et'),\n",
       " (36,\n",
       "  '0.012*antonio + 0.010*ao + 0.010*embaixador + 0.008*rio + 0.008*df + 0.008*francisco + 0.008*pt + 0.008*da + 0.006*gb + 0.006*silveira'),\n",
       " (37,\n",
       "  '0.050*de + 0.025*la + 0.011*sua + 0.008*no + 0.008*buenos + 0.008*aires + 0.008*como + 0.008*que + 0.008*del + 0.006*da'),\n",
       " (38,\n",
       "  '0.030*de + 0.020*rio + 0.014*da + 0.014*silveira + 0.014*amigo + 0.011*antonio + 0.009*azeredo + 0.008*zczc + 0.008*telegrama + 0.008*lt'),\n",
       " (39,\n",
       "  '0.013*lt + 0.013*et + 0.013*rjo + 0.013*241gtx + 0.013*4to + 0.007*silveira + 0.007*da + 0.007*azeredo + 0.007*rio + 0.007*embaixador')]"
      ]
     },
     "execution_count": 11,
     "metadata": {},
     "output_type": "execute_result"
    }
   ],
   "source": [
    "lda.show_topics(num_topics=-1)"
   ]
  },
  {
   "cell_type": "code",
   "execution_count": 12,
   "metadata": {
    "collapsed": false
   },
   "outputs": [
    {
     "data": {
      "text/plain": [
       "(11,\n",
       " [('de', 0.00097942057144313104),\n",
       "  ('trÃªs', 0.00049483476836543387),\n",
       "  ('mes', 0.00046508616604505322),\n",
       "  ('silveira', 0.00045289675041935361),\n",
       "  ('ma', 0.00044028188041834315),\n",
       "  ('antonio', 0.00043731958368705635),\n",
       "  ('da', 0.00041864210993080631),\n",
       "  ('azeredo', 0.00041285064769284459),\n",
       "  ('oldrich', 0.00040751829396316322),\n",
       "  ('du', 0.00039802368194156198),\n",
       "  ('votre', 0.00038945633117758589),\n",
       "  ('241gtx', 0.00038941665333581244),\n",
       "  ('rjo', 0.00038735419359664205),\n",
       "  ('prie', 0.00038664920313135552),\n",
       "  ('le', 0.00037656519097910822),\n",
       "  ('souto', 0.00037436460969822986),\n",
       "  ('relations', 0.00037361348564819816),\n",
       "  ('la', 0.00037128722197391357),\n",
       "  ('haute', 0.0003708085405243142),\n",
       "  ('entregatlg', 0.00036898617894624798)])"
      ]
     },
     "execution_count": 12,
     "metadata": {},
     "output_type": "execute_result"
    }
   ],
   "source": [
    "topics_matrix = lda.show_topics(formatted=False, num_words=20, num_topics=-1)\n",
    "topics_matrix[11]"
   ]
  },
  {
   "cell_type": "markdown",
   "metadata": {},
   "source": [
    "#### Gera a distribuição de tópicos para um novo documento\n",
    "Alimenta a base mysql com dados de score (relação) entre tópicos e documentos"
   ]
  },
  {
   "cell_type": "code",
   "execution_count": 15,
   "metadata": {
    "collapsed": false
   },
   "outputs": [
    {
     "name": "stdout",
     "output_type": "stream",
     "text": [
      "········\n",
      "········\n",
      "[(7, 0.037450170661774709), (16, 0.095154413132696708), (17, 0.057465683604347118), (18, 0.046179084781805955), (23, 0.16766512158968519), (26, 0.041759148478535818), (27, 0.13143608125341355), (28, 0.012238000455947813), (30, 0.013940874770229945), (33, 0.015250565077622251), (36, 0.026926708626989124), (37, 0.30364027389841819), (38, 0.045450325281436728)]\n",
      "rb_1974.04.17_doc_I-66 38 0.0454645586506\n",
      "[(6, 0.038575519795797764), (18, 0.1063803974761902), (27, 0.28955284047592), (30, 0.25965260562263309), (33, 0.12242686972529247), (36, 0.10777620050669939), (37, 0.048135566397467328)]\n",
      "onu_1974.03.12_doc_II-49 37 0.0481396695585\n",
      "[(9, 0.68906249999999958), (17, 0.13375831826818013), (31, 0.11936668173181975)]\n",
      "onu_1974.03.12_doc_V-2 31 0.121551285462\n",
      "[(6, 0.011172074713862072), (16, 0.095361907491620129), (18, 0.050161564915850526), (27, 0.63011272917193706), (29, 0.023223684842576402), (36, 0.069142936421462686), (37, 0.10700765724139399)]\n",
      "be_1974.04.16_doc_VI-18 37 0.10701132564\n",
      "[(6, 0.034233447295548419), (9, 0.036485031237173636), (16, 0.15981340791299589), (27, 0.56961076625670848), (28, 0.01014889595973688), (29, 0.019691106141569964), (30, 0.017400228890888693), (35, 0.013106333293917527), (36, 0.019675574267501276), (37, 0.085405202866223676)]\n",
      "be_1977.06.01_doc_II-21 37 0.0854342496165\n",
      "[(9, 0.027619038182589074), (16, 0.056310337901406347), (27, 0.58105218830318051), (29, 0.015452155373260999), (30, 0.10832489557162139), (34, 0.10334633704080498), (36, 0.044564206888367597), (38, 0.018100723019235914)]\n",
      "ag_1974.03.13_doc_III-7 38 0.0180680440961\n",
      "[(26, 0.047440294322342612), (27, 0.26389612784984789), (30, 0.24724307008060639), (32, 0.21988592132539944), (37, 0.19653458642180405)]\n",
      "ag_1973.11.20_doc_VI-75 37 0.196540090844\n",
      "[(7, 0.32448962024713651), (9, 0.071076211333708297), (27, 0.30671230507989544), (34, 0.069753426372177463), (37, 0.17328093696708186)]\n",
      "d_1974.04.23_doc_XXXII-8 37 0.174706272953\n",
      "[(6, 0.022228749650448628), (7, 0.02823301725345111), (16, 0.14290156806748461), (18, 0.049276553662717326), (27, 0.50364937190043635), (29, 0.014375997172416574), (30, 0.019903620928216147), (36, 0.024581778981519566), (37, 0.14652920852870899), (38, 0.011462233995720635)]\n",
      "d_1974.03.26_doc_XXXII-32 38 0.0114621786959\n",
      "[(2, 0.013675724540148607), (6, 0.015758370196681321), (16, 0.10905229805196194), (18, 0.11896160940637092), (23, 0.012856334867590715), (26, 0.026978600597160833), (27, 0.35204518055403911), (29, 0.035285521407233053), (30, 0.010096020077275348), (36, 0.023107305641650318), (37, 0.20031850788215982), (38, 0.025094859079608057)]\n",
      "d_1974.03.26_doc_XXII-9 38 0.0250946367988\n"
     ]
    }
   ],
   "source": [
    "count = 0\n",
    "#percentil = int(len(cursor.rowcount/100)\n",
    "\n",
    "pass_sshkey = getpass.getpass()\n",
    "pass_mysql = getpass.getpass()\n",
    "with SSHTunnelForwarder(('200.20.164.147', 22),\n",
    "                        ssh_private_key = \"C:/Users/marcelo.ribeiro/Dropbox/A-Marcelo/Educação-Trabalho/2016-CPDOC/Remoto/marcelo_priv_rsa\",\n",
    "                        #ssh_private_key = '/home/rsouza/.ssh/id_rsa',\n",
    "                        ssh_private_key_password = pass_sshkey,\n",
    "                        ssh_username=\"marcelobribeiro\",\n",
    "                        #ssh_username=\"rsouza\",\n",
    "                        remote_bind_address=('127.0.0.1', 3306)) as server:\n",
    "    \n",
    "    conn = pymysql.connect(host='localhost', \n",
    "                           port=server.local_bind_port, \n",
    "                           user='marcelobribeiro', \n",
    "                           #user='rsouza',\n",
    "                           passwd=pass_mysql,\n",
    "                           db='CPDOC_AS',\n",
    "                           use_unicode=True, \n",
    "                           charset=\"utf8\")\n",
    "    cur = conn.cursor()\n",
    "    '''''''''''''''''''''''''''''''''''''''''''''''''''''''''''''''''''''''''''''\n",
    "    insere dados na base mysql\n",
    "    captura documentos da tabela docs, transfere para a tabela topic-doc e insere dados de tópicos\n",
    "    '''''''''''''''''''''''''''''''''''''''''''''''''''''''''''''''''''''''''''''\n",
    "    \n",
    "    cur.execute(\"DROP TABLE IF EXISTS topic_doc\")\n",
    "    cur.execute('''CREATE TABLE IF NOT EXISTS topic_doc \n",
    "               (doc_id VARCHAR(31), topic_id smallint(6), topic_score FLOAT\n",
    "               DEFAULT NULL)\n",
    "               ENGINE=MyISAM DEFAULT CHARSET='utf8';''')\n",
    "\n",
    "    cur.execute(\"SELECT id,body FROM CPDOC_AS.docs\")\n",
    "    data = cur.fetchall()\n",
    "    for row in data:\n",
    "        count += 1 # for break event\n",
    "        if row is None: break\n",
    "        text =  row[1]\n",
    "        text = text.split()\n",
    "        text_bow = dictionary.doc2bow(text)\n",
    "        print(lda[text_bow])\n",
    "        score_list = lda[text_bow]\n",
    "        doc_id = row[0]\n",
    "        for score in score_list:\n",
    "            topic_id = str(score[0])\n",
    "            topic_score = str(score[1])\n",
    "            query = \"INSERT INTO topic_doc VALUES (%s, %s, %s)\"\n",
    "            cur.execute(query, (doc_id, topic_id, topic_score))\n",
    "        print(doc_id, topic_id, topic_score)   \n",
    "        cur.execute(\"ALTER TABLE CPDOC_AS.topic_doc ORDER BY topic_id ASC, topic_score DESC\")\n",
    "        \n",
    "        #if count == 10: break #amostra de apenas 10 linhas"
   ]
  },
  {
   "cell_type": "raw",
   "metadata": {
    "collapsed": true
   },
   "source": [
    "Links de referência\n",
    "#http://stackoverflow.com/questions/15397239/python-mysqldb-iterate-through-table\n",
    "#https://dev.mysql.com/doc/connector-python/en/connector-python-api-mysqlcursor-fetchone.html"
   ]
  },
  {
   "cell_type": "markdown",
   "metadata": {},
   "source": [
    "#### Visualizando os tópicos com o PyLDAvis"
   ]
  },
  {
   "cell_type": "code",
   "execution_count": null,
   "metadata": {
    "collapsed": true
   },
   "outputs": [],
   "source": [
    "# https://cran.r-project.org/web/packages/LDAvis/vignettes/details.pdf\n",
    "pyLDAvis.enable_notebook()\n",
    "pyLDAvis.gensim.prepare(lda, corpus, dictionary)"
   ]
  },
  {
   "cell_type": "code",
   "execution_count": null,
   "metadata": {
    "collapsed": true
   },
   "outputs": [],
   "source": [
    "data_ldavis = pyLDAvis.gensim.prepare(lda, corpus, dictionary)\n",
    "pyLDAvis.save_html(data_ldavis, os.path.join(outputs,'pyldavis_output.html'))"
   ]
  }
 ],
 "metadata": {
  "anaconda-cloud": {},
  "kernelspec": {
   "display_name": "Python [Root]",
   "language": "python",
   "name": "Python [Root]"
  },
  "language_info": {
   "codemirror_mode": {
    "name": "ipython",
    "version": 3
   },
   "file_extension": ".py",
   "mimetype": "text/x-python",
   "name": "python",
   "nbconvert_exporter": "python",
   "pygments_lexer": "ipython3",
   "version": "3.5.2"
  }
 },
 "nbformat": 4,
 "nbformat_minor": 0
}
